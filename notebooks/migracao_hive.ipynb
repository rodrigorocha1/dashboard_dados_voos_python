{
 "cells": [
  {
   "cell_type": "code",
   "execution_count": 1,
   "metadata": {},
   "outputs": [],
   "source": [
    "import pandas as pd\n",
    "from pyhive import hive\n",
    "import os\n",
    "from sqlalchemy import create_engine"
   ]
  },
  {
   "cell_type": "markdown",
   "metadata": {},
   "source": [
    "- Migração faixa atraso"
   ]
  },
  {
   "cell_type": "code",
   "execution_count": 2,
   "metadata": {},
   "outputs": [
    {
     "data": {
      "text/html": [
       "<div>\n",
       "<style scoped>\n",
       "    .dataframe tbody tr th:only-of-type {\n",
       "        vertical-align: middle;\n",
       "    }\n",
       "\n",
       "    .dataframe tbody tr th {\n",
       "        vertical-align: top;\n",
       "    }\n",
       "\n",
       "    .dataframe thead th {\n",
       "        text-align: right;\n",
       "    }\n",
       "</style>\n",
       "<table border=\"1\" class=\"dataframe\">\n",
       "  <thead>\n",
       "    <tr style=\"text-align: right;\">\n",
       "      <th></th>\n",
       "      <th>False</th>\n",
       "      <th>AMERICAN AIRLINES INC</th>\n",
       "      <th>novembro</th>\n",
       "      <th>PRESIDENTE JUSCELINO KUBITSCHEK</th>\n",
       "      <th>Segunda-feira</th>\n",
       "      <th>Atraso de mais de 4 horas</th>\n",
       "      <th>1</th>\n",
       "      <th>X</th>\n",
       "      <th>11</th>\n",
       "      <th>0</th>\n",
       "      <th>DF</th>\n",
       "      <th>BRASÍLIA</th>\n",
       "      <th>SBBR</th>\n",
       "      <th>AAL</th>\n",
       "    </tr>\n",
       "  </thead>\n",
       "  <tbody>\n",
       "    <tr>\n",
       "      <th>0</th>\n",
       "      <td>False</td>\n",
       "      <td>AMERICAN AIRLINES INC</td>\n",
       "      <td>setembro</td>\n",
       "      <td>GUARULHOS - GOVERNADOR ANDRÉ FRANCO MONTORO</td>\n",
       "      <td>Segunda-feira</td>\n",
       "      <td>Atraso de mais de 4 horas</td>\n",
       "      <td>1</td>\n",
       "      <td>X</td>\n",
       "      <td>9</td>\n",
       "      <td>0</td>\n",
       "      <td>SP</td>\n",
       "      <td>GUARULHOS</td>\n",
       "      <td>SBGR</td>\n",
       "      <td>AAL</td>\n",
       "    </tr>\n",
       "  </tbody>\n",
       "</table>\n",
       "</div>"
      ],
      "text/plain": [
       "   False  AMERICAN AIRLINES INC  novembro  \\\n",
       "0  False  AMERICAN AIRLINES INC  setembro   \n",
       "\n",
       "               PRESIDENTE JUSCELINO KUBITSCHEK  Segunda-feira  \\\n",
       "0  GUARULHOS - GOVERNADOR ANDRÉ FRANCO MONTORO  Segunda-feira   \n",
       "\n",
       "   Atraso de mais de 4 horas  1  X  11  0  DF   BRASÍLIA  SBBR  AAL  \n",
       "0  Atraso de mais de 4 horas  1  X   9  0  SP  GUARULHOS  SBGR  AAL  "
      ]
     },
     "execution_count": 2,
     "metadata": {},
     "output_type": "execute_result"
    }
   ],
   "source": [
    "base_teste = pd.read_csv('../data/processed/exploracao_faixa_atraso_partida/exploracao_faixa_atraso_partida_AAL.csv',  encoding='utf-8', sep='|')\n",
    "base_teste.head()"
   ]
  },
  {
   "cell_type": "code",
   "execution_count": 3,
   "metadata": {},
   "outputs": [
    {
     "data": {
      "text/plain": [
       "False                                bool\n",
       "AMERICAN AIRLINES INC              object\n",
       "novembro                           object\n",
       "PRESIDENTE JUSCELINO KUBITSCHEK    object\n",
       "Segunda-feira                      object\n",
       "Atraso de mais de 4 horas          object\n",
       "1                                   int64\n",
       "X                                  object\n",
       "11                                  int64\n",
       "0                                   int64\n",
       "DF                                 object\n",
       "BRASÍLIA                           object\n",
       "SBBR                               object\n",
       "AAL                                object\n",
       "dtype: object"
      ]
     },
     "execution_count": 3,
     "metadata": {},
     "output_type": "execute_result"
    }
   ],
   "source": [
    "base_teste.dtypes"
   ]
  },
  {
   "cell_type": "code",
   "execution_count": 4,
   "metadata": {},
   "outputs": [],
   "source": [
    "lista_arquivos = os.listdir('../data/processed/exploracao_faixa_atraso_partida/', )"
   ]
  },
  {
   "cell_type": "code",
   "execution_count": 5,
   "metadata": {},
   "outputs": [],
   "source": [
    "lista_arquivos.sort(reverse=False)"
   ]
  },
  {
   "cell_type": "code",
   "execution_count": 6,
   "metadata": {},
   "outputs": [
    {
     "data": {
      "text/plain": [
       "['exploracao_faixa_atraso_partida_AAL.csv',\n",
       " 'exploracao_faixa_atraso_partida_ABJ.csv',\n",
       " 'exploracao_faixa_atraso_partida_AEA.csv',\n",
       " 'exploracao_faixa_atraso_partida_AFR.csv',\n",
       " 'exploracao_faixa_atraso_partida_ARG.csv',\n",
       " 'exploracao_faixa_atraso_partida_AVA.csv',\n",
       " 'exploracao_faixa_atraso_partida_AZU.csv',\n",
       " 'exploracao_faixa_atraso_partida_BAW.csv',\n",
       " 'exploracao_faixa_atraso_partida_CKS.csv',\n",
       " 'exploracao_faixa_atraso_partida_CLX.csv',\n",
       " 'exploracao_faixa_atraso_partida_DLH.csv',\n",
       " 'exploracao_faixa_atraso_partida_GEC.csv',\n",
       " 'exploracao_faixa_atraso_partida_GLO.csv',\n",
       " 'exploracao_faixa_atraso_partida_GTI.csv',\n",
       " 'exploracao_faixa_atraso_partida_KLM.csv',\n",
       " 'exploracao_faixa_atraso_partida_LAE.csv',\n",
       " 'exploracao_faixa_atraso_partida_LAN.csv',\n",
       " 'exploracao_faixa_atraso_partida_LAP.csv',\n",
       " 'exploracao_faixa_atraso_partida_LCO.csv',\n",
       " 'exploracao_faixa_atraso_partida_LPE.csv',\n",
       " 'exploracao_faixa_atraso_partida_LTG.csv',\n",
       " 'exploracao_faixa_atraso_partida_MWM.csv',\n",
       " 'exploracao_faixa_atraso_partida_PAM.csv',\n",
       " 'exploracao_faixa_atraso_partida_PTB.csv',\n",
       " 'exploracao_faixa_atraso_partida_QTR.csv',\n",
       " 'exploracao_faixa_atraso_partida_RZO.csv',\n",
       " 'exploracao_faixa_atraso_partida_TAM.csv',\n",
       " 'exploracao_faixa_atraso_partida_TAP.csv',\n",
       " 'exploracao_faixa_atraso_partida_TPA.csv',\n",
       " 'exploracao_faixa_atraso_partida_TTL.csv',\n",
       " 'exploracao_faixa_atraso_partida_UPS.csv']"
      ]
     },
     "execution_count": 6,
     "metadata": {},
     "output_type": "execute_result"
    }
   ],
   "source": [
    "lista_arquivos"
   ]
  },
  {
   "cell_type": "code",
   "execution_count": 2,
   "metadata": {},
   "outputs": [],
   "source": [
    "con = hive.Connection(host='127.0.0.1', username='rodrigo', port=10000, database='dados_voo')\n",
    "engine = create_engine('hive://', creator=lambda: con)\n",
    "cursor = con.cursor()"
   ]
  },
  {
   "cell_type": "code",
   "execution_count": 7,
   "metadata": {},
   "outputs": [
    {
     "name": "stdout",
     "output_type": "stream",
     "text": [
      "exploracao_faixa_atraso_partida_AAL.csv\n",
      "exploracao_faixa_atraso_partida_ABJ.csv\n",
      "exploracao_faixa_atraso_partida_AEA.csv\n",
      "exploracao_faixa_atraso_partida_AFR.csv\n",
      "exploracao_faixa_atraso_partida_ARG.csv\n",
      "exploracao_faixa_atraso_partida_AVA.csv\n",
      "exploracao_faixa_atraso_partida_AZU.csv\n",
      "exploracao_faixa_atraso_partida_BAW.csv\n",
      "exploracao_faixa_atraso_partida_CKS.csv\n",
      "exploracao_faixa_atraso_partida_CLX.csv\n",
      "exploracao_faixa_atraso_partida_DLH.csv\n",
      "exploracao_faixa_atraso_partida_GEC.csv\n",
      "exploracao_faixa_atraso_partida_GLO.csv\n"
     ]
    }
   ],
   "source": [
    "for chave, arquivo in enumerate(lista_arquivos):\n",
    "    try:\n",
    "        print(arquivo)\n",
    "        query = f'''\n",
    "        LOAD DATA LOCAL INPATH '/home/rodrigo/Documentos/projetos/dados_voos/data/processed/exploracao_faixa_atraso_partida/{arquivo}'\n",
    "        INTO TABLE EXPLORACAO_FAIXA_ATRASO_PARTIDA\n",
    "        '''\n",
    "        cursor.execute(query)\n",
    "    except Exception as e:\n",
    "        print(e)\n",
    "        con.close()\n",
    "        break\n"
   ]
  },
  {
   "cell_type": "code",
   "execution_count": null,
   "metadata": {},
   "outputs": [],
   "source": [
    "cursor.close()"
   ]
  }
 ],
 "metadata": {
  "kernelspec": {
   "display_name": "venv",
   "language": "python",
   "name": "python3"
  },
  "language_info": {
   "codemirror_mode": {
    "name": "ipython",
    "version": 3
   },
   "file_extension": ".py",
   "mimetype": "text/x-python",
   "name": "python",
   "nbconvert_exporter": "python",
   "pygments_lexer": "ipython3",
   "version": "3.10.12"
  }
 },
 "nbformat": 4,
 "nbformat_minor": 2
}
