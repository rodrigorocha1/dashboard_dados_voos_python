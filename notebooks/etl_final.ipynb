{
 "cells": [
  {
   "cell_type": "code",
   "execution_count": 143,
   "metadata": {},
   "outputs": [],
   "source": [
    "import pandas as pd\n",
    "import plotly.express as px"
   ]
  },
  {
   "cell_type": "code",
   "execution_count": 144,
   "metadata": {},
   "outputs": [],
   "source": [
    "caminho = '../data/processed/df_final.csv'"
   ]
  },
  {
   "cell_type": "code",
   "execution_count": 145,
   "metadata": {},
   "outputs": [
    {
     "name": "stderr",
     "output_type": "stream",
     "text": [
      "/tmp/ipykernel_5566/2494532192.py:1: DtypeWarning: Columns (6) have mixed types. Specify dtype option on import or set low_memory=False.\n",
      "  base = pd.read_csv(caminho, encoding='utf-8', sep='|')\n"
     ]
    }
   ],
   "source": [
    "base = pd.read_csv(caminho, encoding='utf-8', sep='|')"
   ]
  },
  {
   "cell_type": "code",
   "execution_count": 146,
   "metadata": {},
   "outputs": [
    {
     "data": {
      "text/plain": [
       "1.38"
      ]
     },
     "execution_count": 146,
     "metadata": {},
     "output_type": "execute_result"
    }
   ],
   "source": [
    "round(base.memory_usage(deep=True).sum() / (1024 ** 3), 2)"
   ]
  },
  {
   "cell_type": "code",
   "execution_count": 147,
   "metadata": {},
   "outputs": [
    {
     "data": {
      "text/plain": [
       "Index(['Unnamed: 0.1', 'Unnamed: 0', 'NOME_AEROPORTO_ORIGEM',\n",
       "       'CIDADE_AEROPORTO_ORIGEM', 'UF_AEROPORTO_ORIGEM',\n",
       "       'SIGLA_ICAO_EMPRESA_AEREA', 'NUMERO_VOO', 'CODIGO_TIPO_LINHA',\n",
       "       'SIGLA_ICAO_AEROPORTO_ORIGEM', 'SIGLA_ICAO_AEROPORTO_DESTINO',\n",
       "       'PARTIDA_PREVISTA', 'PARTIDA_REAL', 'CHEGADA_PREVISTA', 'CHEGADA_REAL',\n",
       "       'SITUACAO_VOO', 'SIGLA_OACI', 'NOME_AEROPORTO_DESTINO',\n",
       "       'CIDADE_AEROPORTO_DESTINO', 'UF_AEROPORTO_DESTINO', 'NOME_EMPRESA',\n",
       "       'MES_PARTIDA_PREVISTA', 'NOME_MES_PARTIDA_PREVISTA', 'MES_PARTIDA_REAL',\n",
       "       'NOME_MES_PARTIDA_REAL', 'MES_CHEGADA_PREVISTA',\n",
       "       'NOME_MES_CHEGADA_PREVISTA', 'MES_CHEGADA_REAL',\n",
       "       'NOME_MES_CHEGADA_REAL', 'MINUTOS_ATRASADO_PARTIDA',\n",
       "       'MINUTOS_ATRASADO_CHEGADA', 'DIA_DA_SEMANA_PARTIDA_PREVISTA',\n",
       "       'INDICE_SEMANA_PARTIDA_PREVISTA', 'DIA_DA_SEMANA_PARTIDA_REAL',\n",
       "       'INDICE_SEMANA_PARTIDA_REAL', 'DIA_DA_SEMANA_CHEGADA_REAL',\n",
       "       'DIA_DA_SEMANA_CHEGADA_PREVISTA', 'INDICE_SEMANA_CHEGADA_REAL',\n",
       "       'INDICE_SEMANA_CHEGADA_PREVISTA', 'FAIXA_ATRASO_PARTIDA',\n",
       "       'FAIXA_ATRASO_CHEGADA'],\n",
       "      dtype='object')"
      ]
     },
     "execution_count": 147,
     "metadata": {},
     "output_type": "execute_result"
    }
   ],
   "source": [
    "base.columns"
   ]
  },
  {
   "cell_type": "code",
   "execution_count": 148,
   "metadata": {},
   "outputs": [
    {
     "name": "stdout",
     "output_type": "stream",
     "text": [
      "<class 'pandas.core.frame.DataFrame'>\n",
      "RangeIndex: 717357 entries, 0 to 717356\n",
      "Data columns (total 40 columns):\n",
      " #   Column                          Non-Null Count   Dtype  \n",
      "---  ------                          --------------   -----  \n",
      " 0   Unnamed: 0.1                    717357 non-null  int64  \n",
      " 1   Unnamed: 0                      717357 non-null  int64  \n",
      " 2   NOME_AEROPORTO_ORIGEM           717357 non-null  object \n",
      " 3   CIDADE_AEROPORTO_ORIGEM         717357 non-null  object \n",
      " 4   UF_AEROPORTO_ORIGEM             717357 non-null  object \n",
      " 5   SIGLA_ICAO_EMPRESA_AEREA        717357 non-null  object \n",
      " 6   NUMERO_VOO                      717357 non-null  object \n",
      " 7   CODIGO_TIPO_LINHA               717355 non-null  object \n",
      " 8   SIGLA_ICAO_AEROPORTO_ORIGEM     717357 non-null  object \n",
      " 9   SIGLA_ICAO_AEROPORTO_DESTINO    717357 non-null  object \n",
      " 10  PARTIDA_PREVISTA                717357 non-null  object \n",
      " 11  PARTIDA_REAL                    717357 non-null  object \n",
      " 12  CHEGADA_PREVISTA                717357 non-null  object \n",
      " 13  CHEGADA_REAL                    717357 non-null  object \n",
      " 14  SITUACAO_VOO                    717357 non-null  object \n",
      " 15  SIGLA_OACI                      717357 non-null  object \n",
      " 16  NOME_AEROPORTO_DESTINO          717357 non-null  object \n",
      " 17  CIDADE_AEROPORTO_DESTINO        717357 non-null  object \n",
      " 18  UF_AEROPORTO_DESTINO            717357 non-null  object \n",
      " 19  NOME_EMPRESA                    717357 non-null  object \n",
      " 20  MES_PARTIDA_PREVISTA            717357 non-null  int64  \n",
      " 21  NOME_MES_PARTIDA_PREVISTA       717357 non-null  object \n",
      " 22  MES_PARTIDA_REAL                717357 non-null  int64  \n",
      " 23  NOME_MES_PARTIDA_REAL           717357 non-null  object \n",
      " 24  MES_CHEGADA_PREVISTA            717357 non-null  int64  \n",
      " 25  NOME_MES_CHEGADA_PREVISTA       717357 non-null  object \n",
      " 26  MES_CHEGADA_REAL                717357 non-null  int64  \n",
      " 27  NOME_MES_CHEGADA_REAL           717357 non-null  object \n",
      " 28  MINUTOS_ATRASADO_PARTIDA        717357 non-null  float64\n",
      " 29  MINUTOS_ATRASADO_CHEGADA        717357 non-null  float64\n",
      " 30  DIA_DA_SEMANA_PARTIDA_PREVISTA  717357 non-null  object \n",
      " 31  INDICE_SEMANA_PARTIDA_PREVISTA  717357 non-null  int64  \n",
      " 32  DIA_DA_SEMANA_PARTIDA_REAL      717357 non-null  object \n",
      " 33  INDICE_SEMANA_PARTIDA_REAL      717357 non-null  int64  \n",
      " 34  DIA_DA_SEMANA_CHEGADA_REAL      717357 non-null  object \n",
      " 35  DIA_DA_SEMANA_CHEGADA_PREVISTA  717357 non-null  object \n",
      " 36  INDICE_SEMANA_CHEGADA_REAL      717357 non-null  int64  \n",
      " 37  INDICE_SEMANA_CHEGADA_PREVISTA  717357 non-null  int64  \n",
      " 38  FAIXA_ATRASO_PARTIDA            717357 non-null  object \n",
      " 39  FAIXA_ATRASO_CHEGADA            717357 non-null  object \n",
      "dtypes: float64(2), int64(10), object(28)\n",
      "memory usage: 218.9+ MB\n"
     ]
    }
   ],
   "source": [
    "base.info()"
   ]
  },
  {
   "cell_type": "code",
   "execution_count": 149,
   "metadata": {},
   "outputs": [],
   "source": [
    "base[\n",
    "    [\n",
    "        'NOME_AEROPORTO_ORIGEM',\n",
    "        'CIDADE_AEROPORTO_ORIGEM',\n",
    "        'UF_AEROPORTO_ORIGEM',\n",
    "        'SIGLA_ICAO_EMPRESA_AEREA',\n",
    "        'NUMERO_VOO',\n",
    "        'CODIGO_TIPO_LINHA',\n",
    "        'SIGLA_ICAO_AEROPORTO_ORIGEM',\n",
    "        'SIGLA_ICAO_AEROPORTO_DESTINO',\n",
    "        'SITUACAO_VOO',\n",
    "        'SIGLA_OACI',\n",
    "        'NOME_AEROPORTO_DESTINO',\n",
    "        'CIDADE_AEROPORTO_DESTINO',\n",
    "        'UF_AEROPORTO_DESTINO',\n",
    "        'NOME_EMPRESA',\n",
    "        'NOME_MES_PARTIDA_PREVISTA',\n",
    "        'NOME_MES_PARTIDA_REAL',\n",
    "        'NOME_MES_CHEGADA_PREVISTA',\n",
    "        'NOME_MES_CHEGADA_REAL',\n",
    "        'DIA_DA_SEMANA_PARTIDA_PREVISTA',\n",
    "        'DIA_DA_SEMANA_PARTIDA_REAL',\n",
    "        'DIA_DA_SEMANA_CHEGADA_REAL',\n",
    "        'DIA_DA_SEMANA_CHEGADA_PREVISTA',\n",
    "        'FAIXA_ATRASO_PARTIDA',\n",
    "        'FAIXA_ATRASO_CHEGADA'\n",
    "    ]\n",
    "] = base[\n",
    "    [\n",
    "        'NOME_AEROPORTO_ORIGEM',\n",
    "        'CIDADE_AEROPORTO_ORIGEM',\n",
    "        'UF_AEROPORTO_ORIGEM',\n",
    "        'SIGLA_ICAO_EMPRESA_AEREA',\n",
    "        'NUMERO_VOO',\n",
    "        'CODIGO_TIPO_LINHA',\n",
    "        'SIGLA_ICAO_AEROPORTO_ORIGEM',\n",
    "        'SIGLA_ICAO_AEROPORTO_DESTINO',\n",
    "        'SITUACAO_VOO',\n",
    "        'SIGLA_OACI',\n",
    "        'NOME_AEROPORTO_DESTINO',\n",
    "        'CIDADE_AEROPORTO_DESTINO',\n",
    "        'UF_AEROPORTO_DESTINO',\n",
    "        'NOME_EMPRESA',\n",
    "        'NOME_MES_PARTIDA_PREVISTA',\n",
    "        'NOME_MES_PARTIDA_REAL',\n",
    "        'NOME_MES_CHEGADA_PREVISTA',\n",
    "        'NOME_MES_CHEGADA_REAL',\n",
    "        'DIA_DA_SEMANA_PARTIDA_PREVISTA',\n",
    "        'DIA_DA_SEMANA_PARTIDA_REAL',\n",
    "        'DIA_DA_SEMANA_CHEGADA_REAL',\n",
    "        'DIA_DA_SEMANA_CHEGADA_PREVISTA',\n",
    "        'FAIXA_ATRASO_PARTIDA',\n",
    "        'FAIXA_ATRASO_CHEGADA'\n",
    "    ]\n",
    "].astype('string')"
   ]
  },
  {
   "cell_type": "code",
   "execution_count": 150,
   "metadata": {},
   "outputs": [
    {
     "name": "stdout",
     "output_type": "stream",
     "text": [
      "<class 'pandas.core.frame.DataFrame'>\n",
      "RangeIndex: 717357 entries, 0 to 717356\n",
      "Data columns (total 40 columns):\n",
      " #   Column                          Non-Null Count   Dtype  \n",
      "---  ------                          --------------   -----  \n",
      " 0   Unnamed: 0.1                    717357 non-null  int64  \n",
      " 1   Unnamed: 0                      717357 non-null  int64  \n",
      " 2   NOME_AEROPORTO_ORIGEM           717357 non-null  string \n",
      " 3   CIDADE_AEROPORTO_ORIGEM         717357 non-null  string \n",
      " 4   UF_AEROPORTO_ORIGEM             717357 non-null  string \n",
      " 5   SIGLA_ICAO_EMPRESA_AEREA        717357 non-null  string \n",
      " 6   NUMERO_VOO                      717357 non-null  string \n",
      " 7   CODIGO_TIPO_LINHA               717355 non-null  string \n",
      " 8   SIGLA_ICAO_AEROPORTO_ORIGEM     717357 non-null  string \n",
      " 9   SIGLA_ICAO_AEROPORTO_DESTINO    717357 non-null  string \n",
      " 10  PARTIDA_PREVISTA                717357 non-null  object \n",
      " 11  PARTIDA_REAL                    717357 non-null  object \n",
      " 12  CHEGADA_PREVISTA                717357 non-null  object \n",
      " 13  CHEGADA_REAL                    717357 non-null  object \n",
      " 14  SITUACAO_VOO                    717357 non-null  string \n",
      " 15  SIGLA_OACI                      717357 non-null  string \n",
      " 16  NOME_AEROPORTO_DESTINO          717357 non-null  string \n",
      " 17  CIDADE_AEROPORTO_DESTINO        717357 non-null  string \n",
      " 18  UF_AEROPORTO_DESTINO            717357 non-null  string \n",
      " 19  NOME_EMPRESA                    717357 non-null  string \n",
      " 20  MES_PARTIDA_PREVISTA            717357 non-null  int64  \n",
      " 21  NOME_MES_PARTIDA_PREVISTA       717357 non-null  string \n",
      " 22  MES_PARTIDA_REAL                717357 non-null  int64  \n",
      " 23  NOME_MES_PARTIDA_REAL           717357 non-null  string \n",
      " 24  MES_CHEGADA_PREVISTA            717357 non-null  int64  \n",
      " 25  NOME_MES_CHEGADA_PREVISTA       717357 non-null  string \n",
      " 26  MES_CHEGADA_REAL                717357 non-null  int64  \n",
      " 27  NOME_MES_CHEGADA_REAL           717357 non-null  string \n",
      " 28  MINUTOS_ATRASADO_PARTIDA        717357 non-null  float64\n",
      " 29  MINUTOS_ATRASADO_CHEGADA        717357 non-null  float64\n",
      " 30  DIA_DA_SEMANA_PARTIDA_PREVISTA  717357 non-null  string \n",
      " 31  INDICE_SEMANA_PARTIDA_PREVISTA  717357 non-null  int64  \n",
      " 32  DIA_DA_SEMANA_PARTIDA_REAL      717357 non-null  string \n",
      " 33  INDICE_SEMANA_PARTIDA_REAL      717357 non-null  int64  \n",
      " 34  DIA_DA_SEMANA_CHEGADA_REAL      717357 non-null  string \n",
      " 35  DIA_DA_SEMANA_CHEGADA_PREVISTA  717357 non-null  string \n",
      " 36  INDICE_SEMANA_CHEGADA_REAL      717357 non-null  int64  \n",
      " 37  INDICE_SEMANA_CHEGADA_PREVISTA  717357 non-null  int64  \n",
      " 38  FAIXA_ATRASO_PARTIDA            717357 non-null  string \n",
      " 39  FAIXA_ATRASO_CHEGADA            717357 non-null  string \n",
      "dtypes: float64(2), int64(10), object(4), string(24)\n",
      "memory usage: 218.9+ MB\n"
     ]
    }
   ],
   "source": [
    "base.info()"
   ]
  },
  {
   "cell_type": "code",
   "execution_count": 151,
   "metadata": {},
   "outputs": [
    {
     "data": {
      "text/plain": [
       "1.38"
      ]
     },
     "execution_count": 151,
     "metadata": {},
     "output_type": "execute_result"
    }
   ],
   "source": [
    "round(base.memory_usage(deep=True).sum() / (1024 ** 3), 2)"
   ]
  },
  {
   "cell_type": "markdown",
   "metadata": {},
   "source": [
    "<p>Converter para float</p>\n",
    "<li> MINUTOS_ATRASADO_PARTIDA        717357 non-null  float64</li>\n",
    " <li>  MINUTOS_ATRASADO_CHEGADA        717357 non-null  float64</li>"
   ]
  },
  {
   "cell_type": "code",
   "execution_count": 152,
   "metadata": {},
   "outputs": [],
   "source": [
    "base[\n",
    "    [\n",
    "        'MINUTOS_ATRASADO_PARTIDA',\n",
    "        'MINUTOS_ATRASADO_CHEGADA'\n",
    "    ]\n",
    "] = base[\n",
    "    [\n",
    "        'MINUTOS_ATRASADO_PARTIDA',\n",
    "        'MINUTOS_ATRASADO_CHEGADA'\n",
    "    ]\n",
    "].astype('float32')"
   ]
  },
  {
   "cell_type": "code",
   "execution_count": 153,
   "metadata": {},
   "outputs": [
    {
     "data": {
      "text/plain": [
       "1.38"
      ]
     },
     "execution_count": 153,
     "metadata": {},
     "output_type": "execute_result"
    }
   ],
   "source": [
    "round(base.memory_usage(deep=True).sum() / (1024 ** 3), 2)"
   ]
  },
  {
   "cell_type": "code",
   "execution_count": 154,
   "metadata": {},
   "outputs": [
    {
     "name": "stdout",
     "output_type": "stream",
     "text": [
      "<class 'pandas.core.frame.DataFrame'>\n",
      "RangeIndex: 717357 entries, 0 to 717356\n",
      "Data columns (total 40 columns):\n",
      " #   Column                          Non-Null Count   Dtype  \n",
      "---  ------                          --------------   -----  \n",
      " 0   Unnamed: 0.1                    717357 non-null  int64  \n",
      " 1   Unnamed: 0                      717357 non-null  int64  \n",
      " 2   NOME_AEROPORTO_ORIGEM           717357 non-null  string \n",
      " 3   CIDADE_AEROPORTO_ORIGEM         717357 non-null  string \n",
      " 4   UF_AEROPORTO_ORIGEM             717357 non-null  string \n",
      " 5   SIGLA_ICAO_EMPRESA_AEREA        717357 non-null  string \n",
      " 6   NUMERO_VOO                      717357 non-null  string \n",
      " 7   CODIGO_TIPO_LINHA               717355 non-null  string \n",
      " 8   SIGLA_ICAO_AEROPORTO_ORIGEM     717357 non-null  string \n",
      " 9   SIGLA_ICAO_AEROPORTO_DESTINO    717357 non-null  string \n",
      " 10  PARTIDA_PREVISTA                717357 non-null  object \n",
      " 11  PARTIDA_REAL                    717357 non-null  object \n",
      " 12  CHEGADA_PREVISTA                717357 non-null  object \n",
      " 13  CHEGADA_REAL                    717357 non-null  object \n",
      " 14  SITUACAO_VOO                    717357 non-null  string \n",
      " 15  SIGLA_OACI                      717357 non-null  string \n",
      " 16  NOME_AEROPORTO_DESTINO          717357 non-null  string \n",
      " 17  CIDADE_AEROPORTO_DESTINO        717357 non-null  string \n",
      " 18  UF_AEROPORTO_DESTINO            717357 non-null  string \n",
      " 19  NOME_EMPRESA                    717357 non-null  string \n",
      " 20  MES_PARTIDA_PREVISTA            717357 non-null  int64  \n",
      " 21  NOME_MES_PARTIDA_PREVISTA       717357 non-null  string \n",
      " 22  MES_PARTIDA_REAL                717357 non-null  int64  \n",
      " 23  NOME_MES_PARTIDA_REAL           717357 non-null  string \n",
      " 24  MES_CHEGADA_PREVISTA            717357 non-null  int64  \n",
      " 25  NOME_MES_CHEGADA_PREVISTA       717357 non-null  string \n",
      " 26  MES_CHEGADA_REAL                717357 non-null  int64  \n",
      " 27  NOME_MES_CHEGADA_REAL           717357 non-null  string \n",
      " 28  MINUTOS_ATRASADO_PARTIDA        717357 non-null  float32\n",
      " 29  MINUTOS_ATRASADO_CHEGADA        717357 non-null  float32\n",
      " 30  DIA_DA_SEMANA_PARTIDA_PREVISTA  717357 non-null  string \n",
      " 31  INDICE_SEMANA_PARTIDA_PREVISTA  717357 non-null  int64  \n",
      " 32  DIA_DA_SEMANA_PARTIDA_REAL      717357 non-null  string \n",
      " 33  INDICE_SEMANA_PARTIDA_REAL      717357 non-null  int64  \n",
      " 34  DIA_DA_SEMANA_CHEGADA_REAL      717357 non-null  string \n",
      " 35  DIA_DA_SEMANA_CHEGADA_PREVISTA  717357 non-null  string \n",
      " 36  INDICE_SEMANA_CHEGADA_REAL      717357 non-null  int64  \n",
      " 37  INDICE_SEMANA_CHEGADA_PREVISTA  717357 non-null  int64  \n",
      " 38  FAIXA_ATRASO_PARTIDA            717357 non-null  string \n",
      " 39  FAIXA_ATRASO_CHEGADA            717357 non-null  string \n",
      "dtypes: float32(2), int64(10), object(4), string(24)\n",
      "memory usage: 213.4+ MB\n"
     ]
    }
   ],
   "source": [
    "base.info()"
   ]
  },
  {
   "cell_type": "markdown",
   "metadata": {},
   "source": [
    "<p>Converter para Tempo</p>\n",
    "<ul>\n",
    "    <li> 10  PARTIDA_PREVISTA                717357 non-null  object </li>\n",
    "    <li> 11  PARTIDA_REAL                    717357 non-null  object </li>\n",
    "    <li>12  CHEGADA_PREVISTA                717357 non-null  object </li>\n",
    "    <li>13  CHEGADA_REAL                    717357 non-null  object </li>\n",
    "</ul>"
   ]
  },
  {
   "cell_type": "code",
   "execution_count": 155,
   "metadata": {},
   "outputs": [],
   "source": [
    "colunas = [\n",
    "        'PARTIDA_PREVISTA',\n",
    "        'PARTIDA_REAL',\n",
    "        'CHEGADA_PREVISTA',\n",
    "        'CHEGADA_REAL'\n",
    "    ]"
   ]
  },
  {
   "cell_type": "code",
   "execution_count": 156,
   "metadata": {},
   "outputs": [],
   "source": [
    "for coluna in colunas:\n",
    "    base[coluna] = pd.to_datetime(base[coluna], format='%Y-%m-%d %H:%M:%S')"
   ]
  },
  {
   "cell_type": "code",
   "execution_count": 157,
   "metadata": {},
   "outputs": [
    {
     "name": "stdout",
     "output_type": "stream",
     "text": [
      "<class 'pandas.core.frame.DataFrame'>\n",
      "RangeIndex: 717357 entries, 0 to 717356\n",
      "Data columns (total 40 columns):\n",
      " #   Column                          Non-Null Count   Dtype         \n",
      "---  ------                          --------------   -----         \n",
      " 0   Unnamed: 0.1                    717357 non-null  int64         \n",
      " 1   Unnamed: 0                      717357 non-null  int64         \n",
      " 2   NOME_AEROPORTO_ORIGEM           717357 non-null  string        \n",
      " 3   CIDADE_AEROPORTO_ORIGEM         717357 non-null  string        \n",
      " 4   UF_AEROPORTO_ORIGEM             717357 non-null  string        \n",
      " 5   SIGLA_ICAO_EMPRESA_AEREA        717357 non-null  string        \n",
      " 6   NUMERO_VOO                      717357 non-null  string        \n",
      " 7   CODIGO_TIPO_LINHA               717355 non-null  string        \n",
      " 8   SIGLA_ICAO_AEROPORTO_ORIGEM     717357 non-null  string        \n",
      " 9   SIGLA_ICAO_AEROPORTO_DESTINO    717357 non-null  string        \n",
      " 10  PARTIDA_PREVISTA                717357 non-null  datetime64[ns]\n",
      " 11  PARTIDA_REAL                    717357 non-null  datetime64[ns]\n",
      " 12  CHEGADA_PREVISTA                717357 non-null  datetime64[ns]\n",
      " 13  CHEGADA_REAL                    717357 non-null  datetime64[ns]\n",
      " 14  SITUACAO_VOO                    717357 non-null  string        \n",
      " 15  SIGLA_OACI                      717357 non-null  string        \n",
      " 16  NOME_AEROPORTO_DESTINO          717357 non-null  string        \n",
      " 17  CIDADE_AEROPORTO_DESTINO        717357 non-null  string        \n",
      " 18  UF_AEROPORTO_DESTINO            717357 non-null  string        \n",
      " 19  NOME_EMPRESA                    717357 non-null  string        \n",
      " 20  MES_PARTIDA_PREVISTA            717357 non-null  int64         \n",
      " 21  NOME_MES_PARTIDA_PREVISTA       717357 non-null  string        \n",
      " 22  MES_PARTIDA_REAL                717357 non-null  int64         \n",
      " 23  NOME_MES_PARTIDA_REAL           717357 non-null  string        \n",
      " 24  MES_CHEGADA_PREVISTA            717357 non-null  int64         \n",
      " 25  NOME_MES_CHEGADA_PREVISTA       717357 non-null  string        \n",
      " 26  MES_CHEGADA_REAL                717357 non-null  int64         \n",
      " 27  NOME_MES_CHEGADA_REAL           717357 non-null  string        \n",
      " 28  MINUTOS_ATRASADO_PARTIDA        717357 non-null  float32       \n",
      " 29  MINUTOS_ATRASADO_CHEGADA        717357 non-null  float32       \n",
      " 30  DIA_DA_SEMANA_PARTIDA_PREVISTA  717357 non-null  string        \n",
      " 31  INDICE_SEMANA_PARTIDA_PREVISTA  717357 non-null  int64         \n",
      " 32  DIA_DA_SEMANA_PARTIDA_REAL      717357 non-null  string        \n",
      " 33  INDICE_SEMANA_PARTIDA_REAL      717357 non-null  int64         \n",
      " 34  DIA_DA_SEMANA_CHEGADA_REAL      717357 non-null  string        \n",
      " 35  DIA_DA_SEMANA_CHEGADA_PREVISTA  717357 non-null  string        \n",
      " 36  INDICE_SEMANA_CHEGADA_REAL      717357 non-null  int64         \n",
      " 37  INDICE_SEMANA_CHEGADA_PREVISTA  717357 non-null  int64         \n",
      " 38  FAIXA_ATRASO_PARTIDA            717357 non-null  string        \n",
      " 39  FAIXA_ATRASO_CHEGADA            717357 non-null  string        \n",
      "dtypes: datetime64[ns](4), float32(2), int64(10), string(24)\n",
      "memory usage: 213.4 MB\n"
     ]
    }
   ],
   "source": [
    "base.info()"
   ]
  },
  {
   "cell_type": "code",
   "execution_count": 158,
   "metadata": {},
   "outputs": [
    {
     "data": {
      "text/plain": [
       "1.2"
      ]
     },
     "execution_count": 158,
     "metadata": {},
     "output_type": "execute_result"
    }
   ],
   "source": [
    "round(base.memory_usage(deep=True).sum() / (1024 ** 3), 2)"
   ]
  },
  {
   "cell_type": "markdown",
   "metadata": {},
   "source": [
    "<p>Converter para Int</p>\n",
    "<ul>\n",
    "    <li> 10  MES_PARTIDA_PREVISTA                717357 non-null  object </li>\n",
    "    <li> 11  MES_PARTIDA_REAL                    717357 non-null  object </li>\n",
    "    <li>12  MES_CHEGADA_PREVISTA                717357 non-null  object </li>\n",
    "    <li>13  CHEGADA_REAL                    717357 non-null  object </li>\n",
    "    <li> MES_CHEGADA_REAL </li>\n",
    "    <li>INDICE_SEMANA_PARTIDA_PREVISTA</li>\n",
    "    <li>INDICE_SEMANA_PARTIDA_REAL</li>\n",
    "    <li>INDICE_SEMANA_CHEGADA_REAL</li>\n",
    "    <li>INDICE_SEMANA_CHEGADA_PREVISTA</li>\n",
    "</ul>"
   ]
  },
  {
   "cell_type": "code",
   "execution_count": 159,
   "metadata": {},
   "outputs": [],
   "source": [
    "colunas = [\n",
    "    'MES_PARTIDA_PREVISTA',\n",
    "    'MES_PARTIDA_REAL',\n",
    "    'MES_CHEGADA_PREVISTA',\n",
    "    'MES_CHEGADA_REAL',\n",
    "    'INDICE_SEMANA_PARTIDA_PREVISTA',\n",
    "    'INDICE_SEMANA_PARTIDA_REAL',\n",
    "    'INDICE_SEMANA_CHEGADA_REAL',\n",
    "    'INDICE_SEMANA_CHEGADA_PREVISTA'\n",
    "]"
   ]
  },
  {
   "cell_type": "code",
   "execution_count": 160,
   "metadata": {},
   "outputs": [
    {
     "name": "stdout",
     "output_type": "stream",
     "text": [
      "MES_PARTIDA_PREVISTA\n",
      "MES_PARTIDA_REAL\n",
      "MES_CHEGADA_PREVISTA\n",
      "MES_CHEGADA_REAL\n",
      "INDICE_SEMANA_PARTIDA_PREVISTA\n",
      "INDICE_SEMANA_PARTIDA_REAL\n",
      "INDICE_SEMANA_CHEGADA_REAL\n",
      "INDICE_SEMANA_CHEGADA_PREVISTA\n"
     ]
    }
   ],
   "source": [
    "for coluna in colunas:\n",
    "    print(coluna)\n",
    "    base[coluna] = base[coluna].astype('int32')"
   ]
  },
  {
   "cell_type": "code",
   "execution_count": 161,
   "metadata": {},
   "outputs": [
    {
     "data": {
      "text/plain": [
       "1.18"
      ]
     },
     "execution_count": 161,
     "metadata": {},
     "output_type": "execute_result"
    }
   ],
   "source": [
    "round(base.memory_usage(deep=True).sum() / (1024 ** 3), 2)"
   ]
  },
  {
   "cell_type": "code",
   "execution_count": 162,
   "metadata": {},
   "outputs": [
    {
     "name": "stdout",
     "output_type": "stream",
     "text": [
      "<class 'pandas.core.frame.DataFrame'>\n",
      "RangeIndex: 717357 entries, 0 to 717356\n",
      "Data columns (total 40 columns):\n",
      " #   Column                          Non-Null Count   Dtype         \n",
      "---  ------                          --------------   -----         \n",
      " 0   Unnamed: 0.1                    717357 non-null  int64         \n",
      " 1   Unnamed: 0                      717357 non-null  int64         \n",
      " 2   NOME_AEROPORTO_ORIGEM           717357 non-null  string        \n",
      " 3   CIDADE_AEROPORTO_ORIGEM         717357 non-null  string        \n",
      " 4   UF_AEROPORTO_ORIGEM             717357 non-null  string        \n",
      " 5   SIGLA_ICAO_EMPRESA_AEREA        717357 non-null  string        \n",
      " 6   NUMERO_VOO                      717357 non-null  string        \n",
      " 7   CODIGO_TIPO_LINHA               717355 non-null  string        \n",
      " 8   SIGLA_ICAO_AEROPORTO_ORIGEM     717357 non-null  string        \n",
      " 9   SIGLA_ICAO_AEROPORTO_DESTINO    717357 non-null  string        \n",
      " 10  PARTIDA_PREVISTA                717357 non-null  datetime64[ns]\n",
      " 11  PARTIDA_REAL                    717357 non-null  datetime64[ns]\n",
      " 12  CHEGADA_PREVISTA                717357 non-null  datetime64[ns]\n",
      " 13  CHEGADA_REAL                    717357 non-null  datetime64[ns]\n",
      " 14  SITUACAO_VOO                    717357 non-null  string        \n",
      " 15  SIGLA_OACI                      717357 non-null  string        \n",
      " 16  NOME_AEROPORTO_DESTINO          717357 non-null  string        \n",
      " 17  CIDADE_AEROPORTO_DESTINO        717357 non-null  string        \n",
      " 18  UF_AEROPORTO_DESTINO            717357 non-null  string        \n",
      " 19  NOME_EMPRESA                    717357 non-null  string        \n",
      " 20  MES_PARTIDA_PREVISTA            717357 non-null  int32         \n",
      " 21  NOME_MES_PARTIDA_PREVISTA       717357 non-null  string        \n",
      " 22  MES_PARTIDA_REAL                717357 non-null  int32         \n",
      " 23  NOME_MES_PARTIDA_REAL           717357 non-null  string        \n",
      " 24  MES_CHEGADA_PREVISTA            717357 non-null  int32         \n",
      " 25  NOME_MES_CHEGADA_PREVISTA       717357 non-null  string        \n",
      " 26  MES_CHEGADA_REAL                717357 non-null  int32         \n",
      " 27  NOME_MES_CHEGADA_REAL           717357 non-null  string        \n",
      " 28  MINUTOS_ATRASADO_PARTIDA        717357 non-null  float32       \n",
      " 29  MINUTOS_ATRASADO_CHEGADA        717357 non-null  float32       \n",
      " 30  DIA_DA_SEMANA_PARTIDA_PREVISTA  717357 non-null  string        \n",
      " 31  INDICE_SEMANA_PARTIDA_PREVISTA  717357 non-null  int32         \n",
      " 32  DIA_DA_SEMANA_PARTIDA_REAL      717357 non-null  string        \n",
      " 33  INDICE_SEMANA_PARTIDA_REAL      717357 non-null  int32         \n",
      " 34  DIA_DA_SEMANA_CHEGADA_REAL      717357 non-null  string        \n",
      " 35  DIA_DA_SEMANA_CHEGADA_PREVISTA  717357 non-null  string        \n",
      " 36  INDICE_SEMANA_CHEGADA_REAL      717357 non-null  int32         \n",
      " 37  INDICE_SEMANA_CHEGADA_PREVISTA  717357 non-null  int32         \n",
      " 38  FAIXA_ATRASO_PARTIDA            717357 non-null  string        \n",
      " 39  FAIXA_ATRASO_CHEGADA            717357 non-null  string        \n",
      "dtypes: datetime64[ns](4), float32(2), int32(8), int64(2), string(24)\n",
      "memory usage: 191.6 MB\n"
     ]
    }
   ],
   "source": [
    "base.info()"
   ]
  },
  {
   "cell_type": "markdown",
   "metadata": {},
   "source": [
    "<p>Converter para Categórica</p>\n",
    "<ul>\n",
    "    <li>MES_PARTIDA_PREVISTA</li>\n",
    "    <li>MES_PARTIDA_REAL</li>\n",
    "    <li>MES_CHEGADA_PREVISTA</li>\n",
    "    <li>MES_CHEGADA_REAL</li>\n",
    "    <li>SIGLA_OACI</li>\n",
    "</ul>"
   ]
  },
  {
   "cell_type": "code",
   "execution_count": 163,
   "metadata": {},
   "outputs": [],
   "source": [
    "colunas = [\n",
    "    'NOME_MES_PARTIDA_PREVISTA', \n",
    "    'NOME_MES_PARTIDA_REAL', \n",
    "    'NOME_MES_CHEGADA_PREVISTA', \n",
    "    'NOME_MES_CHEGADA_REAL', \n",
    "    'DIA_DA_SEMANA_PARTIDA_PREVISTA',\n",
    "    'DIA_DA_SEMANA_PARTIDA_REAL',\n",
    "    'DIA_DA_SEMANA_CHEGADA_PREVISTA',\n",
    "    'DIA_DA_SEMANA_CHEGADA_REAL',\n",
    "    'SITUACAO_VOO',\n",
    "    'CODIGO_TIPO_LINHA',\n",
    "    'FAIXA_ATRASO_PARTIDA',\n",
    "    'FAIXA_ATRASO_CHEGADA'\n",
    "    ]"
   ]
  },
  {
   "cell_type": "code",
   "execution_count": 164,
   "metadata": {},
   "outputs": [
    {
     "name": "stdout",
     "output_type": "stream",
     "text": [
      "NOME_MES_PARTIDA_PREVISTA\n",
      "NOME_MES_PARTIDA_REAL\n",
      "NOME_MES_CHEGADA_PREVISTA\n",
      "NOME_MES_CHEGADA_REAL\n",
      "DIA_DA_SEMANA_PARTIDA_PREVISTA\n",
      "DIA_DA_SEMANA_PARTIDA_REAL\n",
      "DIA_DA_SEMANA_CHEGADA_PREVISTA\n",
      "DIA_DA_SEMANA_CHEGADA_REAL\n",
      "SITUACAO_VOO\n",
      "CODIGO_TIPO_LINHA\n",
      "FAIXA_ATRASO_PARTIDA\n",
      "FAIXA_ATRASO_CHEGADA\n"
     ]
    }
   ],
   "source": [
    "for coluna in colunas:\n",
    "    print(coluna)\n",
    "    base[coluna] = pd.Categorical(base[coluna])"
   ]
  },
  {
   "cell_type": "code",
   "execution_count": 165,
   "metadata": {},
   "outputs": [
    {
     "name": "stdout",
     "output_type": "stream",
     "text": [
      "<class 'pandas.core.frame.DataFrame'>\n",
      "RangeIndex: 717357 entries, 0 to 717356\n",
      "Data columns (total 40 columns):\n",
      " #   Column                          Non-Null Count   Dtype         \n",
      "---  ------                          --------------   -----         \n",
      " 0   Unnamed: 0.1                    717357 non-null  int64         \n",
      " 1   Unnamed: 0                      717357 non-null  int64         \n",
      " 2   NOME_AEROPORTO_ORIGEM           717357 non-null  string        \n",
      " 3   CIDADE_AEROPORTO_ORIGEM         717357 non-null  string        \n",
      " 4   UF_AEROPORTO_ORIGEM             717357 non-null  string        \n",
      " 5   SIGLA_ICAO_EMPRESA_AEREA        717357 non-null  string        \n",
      " 6   NUMERO_VOO                      717357 non-null  string        \n",
      " 7   CODIGO_TIPO_LINHA               717355 non-null  category      \n",
      " 8   SIGLA_ICAO_AEROPORTO_ORIGEM     717357 non-null  string        \n",
      " 9   SIGLA_ICAO_AEROPORTO_DESTINO    717357 non-null  string        \n",
      " 10  PARTIDA_PREVISTA                717357 non-null  datetime64[ns]\n",
      " 11  PARTIDA_REAL                    717357 non-null  datetime64[ns]\n",
      " 12  CHEGADA_PREVISTA                717357 non-null  datetime64[ns]\n",
      " 13  CHEGADA_REAL                    717357 non-null  datetime64[ns]\n",
      " 14  SITUACAO_VOO                    717357 non-null  category      \n",
      " 15  SIGLA_OACI                      717357 non-null  string        \n",
      " 16  NOME_AEROPORTO_DESTINO          717357 non-null  string        \n",
      " 17  CIDADE_AEROPORTO_DESTINO        717357 non-null  string        \n",
      " 18  UF_AEROPORTO_DESTINO            717357 non-null  string        \n",
      " 19  NOME_EMPRESA                    717357 non-null  string        \n",
      " 20  MES_PARTIDA_PREVISTA            717357 non-null  int32         \n",
      " 21  NOME_MES_PARTIDA_PREVISTA       717357 non-null  category      \n",
      " 22  MES_PARTIDA_REAL                717357 non-null  int32         \n",
      " 23  NOME_MES_PARTIDA_REAL           717357 non-null  category      \n",
      " 24  MES_CHEGADA_PREVISTA            717357 non-null  int32         \n",
      " 25  NOME_MES_CHEGADA_PREVISTA       717357 non-null  category      \n",
      " 26  MES_CHEGADA_REAL                717357 non-null  int32         \n",
      " 27  NOME_MES_CHEGADA_REAL           717357 non-null  category      \n",
      " 28  MINUTOS_ATRASADO_PARTIDA        717357 non-null  float32       \n",
      " 29  MINUTOS_ATRASADO_CHEGADA        717357 non-null  float32       \n",
      " 30  DIA_DA_SEMANA_PARTIDA_PREVISTA  717357 non-null  category      \n",
      " 31  INDICE_SEMANA_PARTIDA_PREVISTA  717357 non-null  int32         \n",
      " 32  DIA_DA_SEMANA_PARTIDA_REAL      717357 non-null  category      \n",
      " 33  INDICE_SEMANA_PARTIDA_REAL      717357 non-null  int32         \n",
      " 34  DIA_DA_SEMANA_CHEGADA_REAL      717357 non-null  category      \n",
      " 35  DIA_DA_SEMANA_CHEGADA_PREVISTA  717357 non-null  category      \n",
      " 36  INDICE_SEMANA_CHEGADA_REAL      717357 non-null  int32         \n",
      " 37  INDICE_SEMANA_CHEGADA_PREVISTA  717357 non-null  int32         \n",
      " 38  FAIXA_ATRASO_PARTIDA            717357 non-null  category      \n",
      " 39  FAIXA_ATRASO_CHEGADA            717357 non-null  category      \n",
      "dtypes: category(12), datetime64[ns](4), float32(2), int32(8), int64(2), string(12)\n",
      "memory usage: 134.1 MB\n"
     ]
    }
   ],
   "source": [
    "base.info()"
   ]
  },
  {
   "cell_type": "code",
   "execution_count": 166,
   "metadata": {},
   "outputs": [
    {
     "data": {
      "text/plain": [
       "618.61"
      ]
     },
     "execution_count": 166,
     "metadata": {},
     "output_type": "execute_result"
    }
   ],
   "source": [
    "round(base.memory_usage(deep=True).sum() / (1024 ** 2), 2)"
   ]
  },
  {
   "cell_type": "code",
   "execution_count": 167,
   "metadata": {},
   "outputs": [
    {
     "data": {
      "text/plain": [
       "['janeiro', 'fevereiro', 'março', 'abril', 'maio', ..., 'agosto', 'setembro', 'outubro', 'novembro', 'dezembro']\n",
       "Length: 12\n",
       "Categories (12, string): [abril, agosto, dezembro, fevereiro, ..., março, novembro, outubro, setembro]"
      ]
     },
     "execution_count": 167,
     "metadata": {},
     "output_type": "execute_result"
    }
   ],
   "source": [
    "base['NOME_MES_CHEGADA_PREVISTA'].unique()"
   ]
  },
  {
   "cell_type": "code",
   "execution_count": 175,
   "metadata": {},
   "outputs": [],
   "source": [
    "colunas = ['NOME_AEROPORTO_ORIGEM',\n",
    "       'CIDADE_AEROPORTO_ORIGEM', 'UF_AEROPORTO_ORIGEM',\n",
    "       'SIGLA_ICAO_EMPRESA_AEREA', 'NUMERO_VOO', 'CODIGO_TIPO_LINHA',\n",
    "       'SIGLA_ICAO_AEROPORTO_ORIGEM', 'SIGLA_ICAO_AEROPORTO_DESTINO',\n",
    "       'PARTIDA_PREVISTA', 'PARTIDA_REAL', 'CHEGADA_PREVISTA', 'CHEGADA_REAL',\n",
    "       'SITUACAO_VOO', 'SIGLA_OACI', 'NOME_AEROPORTO_DESTINO',\n",
    "       'CIDADE_AEROPORTO_DESTINO', 'UF_AEROPORTO_DESTINO', 'NOME_EMPRESA',\n",
    "       'MES_PARTIDA_PREVISTA', 'NOME_MES_PARTIDA_PREVISTA', 'MES_PARTIDA_REAL',\n",
    "       'NOME_MES_PARTIDA_REAL', 'MES_CHEGADA_PREVISTA',\n",
    "       'NOME_MES_CHEGADA_PREVISTA', 'MES_CHEGADA_REAL',\n",
    "       'NOME_MES_CHEGADA_REAL', 'MINUTOS_ATRASADO_PARTIDA',\n",
    "       'MINUTOS_ATRASADO_CHEGADA', 'DIA_DA_SEMANA_PARTIDA_PREVISTA',\n",
    "       'INDICE_SEMANA_PARTIDA_PREVISTA', 'DIA_DA_SEMANA_PARTIDA_REAL',\n",
    "       'INDICE_SEMANA_PARTIDA_REAL', 'DIA_DA_SEMANA_CHEGADA_REAL',\n",
    "       'DIA_DA_SEMANA_CHEGADA_PREVISTA', 'INDICE_SEMANA_CHEGADA_REAL',\n",
    "       'INDICE_SEMANA_CHEGADA_PREVISTA', 'FAIXA_ATRASO_PARTIDA',\n",
    "       'FAIXA_ATRASO_CHEGADA']\n"
   ]
  },
  {
   "cell_type": "code",
   "execution_count": 169,
   "metadata": {},
   "outputs": [],
   "source": [
    "base = base[colunas]"
   ]
  },
  {
   "cell_type": "code",
   "execution_count": 170,
   "metadata": {},
   "outputs": [
    {
     "name": "stdout",
     "output_type": "stream",
     "text": [
      "<class 'pandas.core.frame.DataFrame'>\n",
      "RangeIndex: 717357 entries, 0 to 717356\n",
      "Data columns (total 38 columns):\n",
      " #   Column                          Non-Null Count   Dtype         \n",
      "---  ------                          --------------   -----         \n",
      " 0   NOME_AEROPORTO_ORIGEM           717357 non-null  string        \n",
      " 1   CIDADE_AEROPORTO_ORIGEM         717357 non-null  string        \n",
      " 2   UF_AEROPORTO_ORIGEM             717357 non-null  string        \n",
      " 3   SIGLA_ICAO_EMPRESA_AEREA        717357 non-null  string        \n",
      " 4   NUMERO_VOO                      717357 non-null  string        \n",
      " 5   CODIGO_TIPO_LINHA               717355 non-null  category      \n",
      " 6   SIGLA_ICAO_AEROPORTO_ORIGEM     717357 non-null  string        \n",
      " 7   SIGLA_ICAO_AEROPORTO_DESTINO    717357 non-null  string        \n",
      " 8   PARTIDA_PREVISTA                717357 non-null  datetime64[ns]\n",
      " 9   PARTIDA_REAL                    717357 non-null  datetime64[ns]\n",
      " 10  CHEGADA_PREVISTA                717357 non-null  datetime64[ns]\n",
      " 11  CHEGADA_REAL                    717357 non-null  datetime64[ns]\n",
      " 12  SITUACAO_VOO                    717357 non-null  category      \n",
      " 13  SIGLA_OACI                      717357 non-null  string        \n",
      " 14  NOME_AEROPORTO_DESTINO          717357 non-null  string        \n",
      " 15  CIDADE_AEROPORTO_DESTINO        717357 non-null  string        \n",
      " 16  UF_AEROPORTO_DESTINO            717357 non-null  string        \n",
      " 17  NOME_EMPRESA                    717357 non-null  string        \n",
      " 18  MES_PARTIDA_PREVISTA            717357 non-null  int32         \n",
      " 19  NOME_MES_PARTIDA_PREVISTA       717357 non-null  category      \n",
      " 20  MES_PARTIDA_REAL                717357 non-null  int32         \n",
      " 21  NOME_MES_PARTIDA_REAL           717357 non-null  category      \n",
      " 22  MES_CHEGADA_PREVISTA            717357 non-null  int32         \n",
      " 23  NOME_MES_CHEGADA_PREVISTA       717357 non-null  category      \n",
      " 24  MES_CHEGADA_REAL                717357 non-null  int32         \n",
      " 25  NOME_MES_CHEGADA_REAL           717357 non-null  category      \n",
      " 26  MINUTOS_ATRASADO_PARTIDA        717357 non-null  float32       \n",
      " 27  MINUTOS_ATRASADO_CHEGADA        717357 non-null  float32       \n",
      " 28  DIA_DA_SEMANA_PARTIDA_PREVISTA  717357 non-null  category      \n",
      " 29  INDICE_SEMANA_PARTIDA_PREVISTA  717357 non-null  int32         \n",
      " 30  DIA_DA_SEMANA_PARTIDA_REAL      717357 non-null  category      \n",
      " 31  INDICE_SEMANA_PARTIDA_REAL      717357 non-null  int32         \n",
      " 32  DIA_DA_SEMANA_CHEGADA_REAL      717357 non-null  category      \n",
      " 33  DIA_DA_SEMANA_CHEGADA_PREVISTA  717357 non-null  category      \n",
      " 34  INDICE_SEMANA_CHEGADA_REAL      717357 non-null  int32         \n",
      " 35  INDICE_SEMANA_CHEGADA_PREVISTA  717357 non-null  int32         \n",
      " 36  FAIXA_ATRASO_PARTIDA            717357 non-null  category      \n",
      " 37  FAIXA_ATRASO_CHEGADA            717357 non-null  category      \n",
      "dtypes: category(12), datetime64[ns](4), float32(2), int32(8), string(12)\n",
      "memory usage: 123.1 MB\n"
     ]
    }
   ],
   "source": [
    "base.info()"
   ]
  },
  {
   "cell_type": "code",
   "execution_count": 171,
   "metadata": {},
   "outputs": [
    {
     "data": {
      "text/plain": [
       "607.66"
      ]
     },
     "execution_count": 171,
     "metadata": {},
     "output_type": "execute_result"
    }
   ],
   "source": [
    "round(base.memory_usage(deep=True).sum() / (1024 ** 2), 2)"
   ]
  },
  {
   "cell_type": "code",
   "execution_count": 174,
   "metadata": {},
   "outputs": [
    {
     "name": "stdout",
     "output_type": "stream",
     "text": [
      "NOME_AEROPORTO_ORIGEM\n",
      "<StringArray>\n",
      "[                     'BAURU/AREALVA',                        'SANTA MARIA',\n",
      "             'ESTADUAL DARIO GUARITA',    'PRESIDENTE JUSCELINO KUBITSCHEK',\n",
      "          'ADALBERTO MENDES DA SILVA',                     'TANCREDO NEVES',\n",
      "                       'CAMPO GRANDE',              'SERAFIN ENOSS BERTASO',\n",
      "                        'AFONSO PENA',                    'MARECHAL RONDON',\n",
      " ...\n",
      "               'VITÓRIA DA CONQUISTA',                'MÁRIO PEREIRA LOPES',\n",
      " 'PRESIDENTE JOÃO BATISTA FIGUEIREDO',                         'TERRAVISTA',\n",
      "           'JUVENAL LOUREIRO CARDOSO',                          'ARAGUAÍNA',\n",
      "                              'URUCU',                           'CARAUARI',\n",
      "                              'COARI',                       'BARRA GRANDE']\n",
      "Length: 109, dtype: string\n",
      "\n",
      "\n",
      "\n",
      "CIDADE_AEROPORTO_ORIGEM\n",
      "<StringArray>\n",
      "[             'AREALVA',              'ARACAJU',            'ARAÇATUBA',\n",
      "             'BRASÍLIA',             'CASCAVEL',              'CONFINS',\n",
      "         'CAMPO GRANDE',              'CHAPECÓ', 'SÃO JOSÉ DOS PINHAIS',\n",
      "        'VÁRZEA GRANDE',\n",
      " ...\n",
      "             'EIRUNEPÉ',      'CRUZEIRO DO SUL', 'VITÓRIA DA CONQUISTA',\n",
      "           'SÃO CARLOS',                'SINOP',          'PATO BRANCO',\n",
      "            'ARAGUAÍNA',                'COARI',             'CARAUARI',\n",
      "                'Maraú']\n",
      "Length: 107, dtype: string\n",
      "\n",
      "\n",
      "\n",
      "UF_AEROPORTO_ORIGEM\n",
      "<StringArray>\n",
      "['SP', 'SE', 'DF', 'PR', 'MG', 'MS', 'SC', 'MT', 'CE', 'RJ', 'GO', 'PB', 'AL',\n",
      " 'RS', 'TO', 'PE', 'BA', 'PI', 'PA', 'RR', 'AM', 'MA', 'AP', 'RO', 'AC', 'RN',\n",
      " 'ES']\n",
      "Length: 27, dtype: string\n",
      "\n",
      "\n",
      "\n",
      "SIGLA_ICAO_EMPRESA_AEREA\n",
      "<StringArray>\n",
      "['AZU', 'GLO', 'TAM', 'PTB', 'PAM', 'MWM', 'LAE', 'LCO', 'LTG', 'CLX', 'GEC',\n",
      " 'TPA', 'GTI', 'UPS', 'TAP', 'AEA', 'TTL', 'LAP', 'AAL', 'LAN', 'AFR', 'KLM',\n",
      " 'DLH', 'QTR', 'ARG', 'AVA', 'LPE', 'BAW', 'CKS', 'RZO', 'ABJ']\n",
      "Length: 31, dtype: string\n",
      "\n",
      "\n",
      "\n",
      "NUMERO_VOO\n",
      "<StringArray>\n",
      "['2455', '9532', '2434', '2418', '2555', '9065', '9522', '9533', '9079',\n",
      " '2510',\n",
      " ...\n",
      " '1234', '9959', '9963', '9961', '9960', '9962',  '249',  '248', '6851',\n",
      " '9407']\n",
      "Length: 4883, dtype: string\n",
      "\n",
      "\n",
      "\n",
      "CODIGO_TIPO_LINHA\n",
      "['N', 'C', 'G', 'I', <NA>, 'X']\n",
      "Categories (5, string): [C, G, I, N, X]\n",
      "\n",
      "\n",
      "\n",
      "SIGLA_ICAO_AEROPORTO_ORIGEM\n",
      "<StringArray>\n",
      "['SBAE', 'SBAR', 'SBAU', 'SBBR', 'SBCA', 'SBCF', 'SBCG', 'SBCH', 'SBCT',\n",
      " 'SBCY',\n",
      " ...\n",
      " 'SBQV', 'SDSC', 'SWSI', 'SBTV', 'SSPB', 'SWGN', 'SBUY', 'SWCA', 'SWKO',\n",
      " 'SIRI']\n",
      "Length: 110, dtype: string\n",
      "\n",
      "\n",
      "\n",
      "SIGLA_ICAO_AEROPORTO_DESTINO\n",
      "<StringArray>\n",
      "['SBPS', 'SBKP', 'SBSG', 'SBAE', 'SBGO', 'SBRP', 'SBMO', 'SBRF', 'SBCF',\n",
      " 'SBGR',\n",
      " ...\n",
      " 'SDSC', 'SWSI', 'SBQV', 'SWGN', 'SSPB', 'SBTV', 'SWKO', 'SBUY', 'SWCA',\n",
      " 'SIRI']\n",
      "Length: 110, dtype: string\n",
      "\n",
      "\n",
      "\n",
      "PARTIDA_PREVISTA\n",
      "<DatetimeArray>\n",
      "['2022-01-02 00:05:00', '2022-01-09 01:00:00', '2022-01-23 11:05:00',\n",
      " '2022-01-30 11:05:00', '2022-02-26 23:00:00', '2022-03-05 20:45:00',\n",
      " '2022-03-12 20:45:00', '2022-03-19 20:45:00', '2022-03-26 20:45:00',\n",
      " '2022-04-02 20:45:00',\n",
      " ...\n",
      " '2022-04-12 04:05:00', '2022-04-14 04:05:00', '2022-04-19 04:05:00',\n",
      " '2022-04-21 04:05:00', '2022-04-28 04:05:00', '2022-11-01 04:05:00',\n",
      " '2022-11-02 04:05:00', '2022-11-03 04:05:00', '2022-11-12 04:05:00',\n",
      " '2022-11-15 04:05:00']\n",
      "Length: 98481, dtype: datetime64[ns]\n",
      "\n",
      "\n",
      "\n",
      "PARTIDA_REAL\n",
      "<DatetimeArray>\n",
      "['2022-01-01 23:35:00', '2022-01-09 00:48:00', '2022-01-23 10:54:00',\n",
      " '2022-01-30 11:01:00', '2022-02-26 22:56:00', '2022-03-05 20:33:00',\n",
      " '2022-03-12 20:23:00', '2022-03-19 20:33:00', '2022-03-26 20:39:00',\n",
      " '2022-04-02 20:32:00',\n",
      " ...\n",
      " '2022-04-01 00:27:00', '2022-11-02 21:18:00', '2022-11-07 00:49:00',\n",
      " '2022-07-28 16:10:00', '2022-11-20 16:26:00', '2022-12-04 16:38:00',\n",
      " '2022-12-18 16:50:00', '2022-12-25 16:01:00', '2022-07-21 14:45:00',\n",
      " '2022-12-11 14:35:00']\n",
      "Length: 351687, dtype: datetime64[ns]\n",
      "\n",
      "\n",
      "\n",
      "CHEGADA_PREVISTA\n",
      "<DatetimeArray>\n",
      "['2022-01-02 02:00:00', '2022-01-09 03:00:00', '2022-01-23 13:05:00',\n",
      " '2022-01-30 13:05:00', '2022-02-27 01:00:00', '2022-03-05 22:45:00',\n",
      " '2022-03-12 22:45:00', '2022-03-19 22:45:00', '2022-03-26 22:45:00',\n",
      " '2022-04-02 22:45:00',\n",
      " ...\n",
      " '2022-06-14 05:00:00', '2022-06-21 05:00:00', '2022-06-28 05:00:00',\n",
      " '2022-09-06 05:00:00', '2022-11-01 05:00:00', '2022-11-02 05:00:00',\n",
      " '2022-01-01 06:25:00', '2022-01-21 06:25:00', '2022-01-28 06:25:00',\n",
      " '2022-02-04 06:25:00']\n",
      "Length: 98822, dtype: datetime64[ns]\n",
      "\n",
      "\n",
      "\n",
      "CHEGADA_REAL\n",
      "<DatetimeArray>\n",
      "['2022-01-02 01:26:00', '2022-01-09 02:41:00', '2022-01-23 12:55:00',\n",
      " '2022-01-30 12:56:00', '2022-02-27 00:46:00', '2022-03-05 22:40:00',\n",
      " '2022-03-12 22:17:00', '2022-03-19 22:26:00', '2022-03-26 22:36:00',\n",
      " '2022-04-02 22:28:00',\n",
      " ...\n",
      " '2022-11-02 21:55:00', '2022-11-01 03:13:00', '2022-08-13 16:24:00',\n",
      " '2022-06-16 16:20:00', '2022-11-13 15:30:00', '2022-12-04 17:18:00',\n",
      " '2022-06-16 15:25:00', '2022-12-04 15:20:00', '2022-12-11 15:02:00',\n",
      " '2022-12-22 15:18:00']\n",
      "Length: 358832, dtype: datetime64[ns]\n",
      "\n",
      "\n",
      "\n",
      "SITUACAO_VOO\n",
      "['REALIZADO', 'CANCELADO', 'NÃO INFORMADO']\n",
      "Categories (3, string): [CANCELADO, NÃO INFORMADO, REALIZADO]\n",
      "\n",
      "\n",
      "\n",
      "SIGLA_OACI\n",
      "<StringArray>\n",
      "['SBPS', 'SBKP', 'SBSG', 'SBAE', 'SBGO', 'SBRP', 'SBMO', 'SBRF', 'SBCF',\n",
      " 'SBGR',\n",
      " ...\n",
      " 'SDSC', 'SWSI', 'SBQV', 'SWGN', 'SSPB', 'SBTV', 'SWKO', 'SBUY', 'SWCA',\n",
      " 'SIRI']\n",
      "Length: 110, dtype: string\n",
      "\n",
      "\n",
      "\n",
      "NOME_AEROPORTO_DESTINO\n",
      "<StringArray>\n",
      "[                               'PORTO SEGURO',\n",
      "                                   'VIRACOPOS',\n",
      "                     'SÃO GONÇALO DO AMARANTE',\n",
      "                               'BAURU/AREALVA',\n",
      "                              'SANTA GENOVEVA',\n",
      "                                 'LEITE LOPES',\n",
      "                          'ZUMBI DOS PALMARES',\n",
      "                'GUARARAPES - GILBERTO FREYRE',\n",
      "                              'TANCREDO NEVES',\n",
      " 'GUARULHOS - GOVERNADOR ANDRÉ FRANCO MONTORO',\n",
      " ...\n",
      "                         'MÁRIO PEREIRA LOPES',\n",
      "          'PRESIDENTE JOÃO BATISTA FIGUEIREDO',\n",
      "                        'VITÓRIA DA CONQUISTA',\n",
      "                                   'ARAGUAÍNA',\n",
      "                    'JUVENAL LOUREIRO CARDOSO',\n",
      "                                  'TERRAVISTA',\n",
      "                                       'COARI',\n",
      "                                       'URUCU',\n",
      "                                    'CARAUARI',\n",
      "                                'BARRA GRANDE']\n",
      "Length: 109, dtype: string\n",
      "\n",
      "\n",
      "\n",
      "CIDADE_AEROPORTO_DESTINO\n",
      "<StringArray>\n",
      "[           'PORTO SEGURO',                'CAMPINAS',\n",
      " 'SÃO GONÇALO DO AMARANTE',                 'AREALVA',\n",
      "                 'GOIÂNIA',          'RIBEIRÃO PRETO',\n",
      "               'RIO LARGO',                  'RECIFE',\n",
      "                 'CONFINS',               'GUARULHOS',\n",
      " ...\n",
      "            'PAULO AFONSO',         'CRUZEIRO DO SUL',\n",
      "              'SÃO CARLOS',                   'SINOP',\n",
      "    'VITÓRIA DA CONQUISTA',               'ARAGUAÍNA',\n",
      "             'PATO BRANCO',                   'COARI',\n",
      "                'CARAUARI',                   'Maraú']\n",
      "Length: 107, dtype: string\n",
      "\n",
      "\n",
      "\n",
      "UF_AEROPORTO_DESTINO\n",
      "<StringArray>\n",
      "['BA', 'SP', 'RN', 'GO', 'AL', 'PE', 'MG', 'DF', 'RJ', 'SE', 'CE', 'MT', 'AM',\n",
      " 'PA', 'MS', 'MA', 'RR', 'AP', 'TO', 'PI', 'RO', 'ES', 'RS', 'PR', 'PB', 'AC',\n",
      " 'SC']\n",
      "Length: 27, dtype: string\n",
      "\n",
      "\n",
      "\n",
      "NOME_EMPRESA\n",
      "<StringArray>\n",
      "[                                                   'AZUL',\n",
      "                                                     'GOL',\n",
      "                                                     'TAM',\n",
      "                                               'PASSAREDO',\n",
      "                                       'MAP LINHAS AEREAS',\n",
      "                                         'MODERN TRANSPOR',\n",
      "                   'LINEA AEREA CARGUERA DE COLOMBIA S.A.',\n",
      "                                           'LAN CARGO S.A',\n",
      "                                                    'ABSA',\n",
      "                                       'CARGOLUX AIRLINES',\n",
      "                                      'LUFTHANSA CARGO AG',\n",
      "                                               'TAMPA S/A',\n",
      "                                           'ATLAS AIR INC',\n",
      "                                   'UNITED PARCEL SERVICE',\n",
      "                                        'TAP AIR PORTUGAL',\n",
      "                                          'AIR EUROPA S/A',\n",
      "                                                   'TOTAL',\n",
      "                           'TAM TRANSP.A\\x90R.DEL.MERCOS.',\n",
      "                                   'AMERICAN AIRLINES INC',\n",
      "                                               'LAN CHILE',\n",
      "                                              'AIR FRANCE',\n",
      "                                'KLM ROYAL DUTCH AIRLINES',\n",
      "                                               'LUFTHANSA',\n",
      "                                           'QATAR AIRWAYS',\n",
      "                                   'AEROLINEAS ARGENTINAS',\n",
      "                                                 'AVIANCA',\n",
      "                                            'LAN PERU S/A',\n",
      "                                     'BRITISH AIRWAYS PLC',\n",
      "                                         'KALITTA AIR LLC',\n",
      " 'SATA INTERNACIONAL - SERVIÇOS E TRANSPORTES AÉREOS S.A.',\n",
      "                                                  'ABAETE']\n",
      "Length: 31, dtype: string\n",
      "\n",
      "\n",
      "\n",
      "MES_PARTIDA_PREVISTA\n",
      "[ 1  2  3  4  5  6  7  8  9 10 11 12]\n",
      "\n",
      "\n",
      "\n",
      "NOME_MES_PARTIDA_PREVISTA\n",
      "['janeiro', 'fevereiro', 'março', 'abril', 'maio', ..., 'agosto', 'setembro', 'outubro', 'novembro', 'dezembro']\n",
      "Length: 12\n",
      "Categories (12, string): [abril, agosto, dezembro, fevereiro, ..., março, novembro, outubro, setembro]\n",
      "\n",
      "\n",
      "\n",
      "MES_PARTIDA_REAL\n",
      "[ 1  2  3  4  5  6  7  8  9 10 11 12]\n",
      "\n",
      "\n",
      "\n",
      "NOME_MES_PARTIDA_REAL\n",
      "['janeiro', 'fevereiro', 'março', 'abril', 'maio', ..., 'agosto', 'setembro', 'outubro', 'novembro', 'dezembro']\n",
      "Length: 12\n",
      "Categories (12, string): [abril, agosto, dezembro, fevereiro, ..., março, novembro, outubro, setembro]\n",
      "\n",
      "\n",
      "\n",
      "MES_CHEGADA_PREVISTA\n",
      "[ 1  2  3  4  5  6  7  8  9 10 11 12]\n",
      "\n",
      "\n",
      "\n",
      "NOME_MES_CHEGADA_PREVISTA\n",
      "['janeiro', 'fevereiro', 'março', 'abril', 'maio', ..., 'agosto', 'setembro', 'outubro', 'novembro', 'dezembro']\n",
      "Length: 12\n",
      "Categories (12, string): [abril, agosto, dezembro, fevereiro, ..., março, novembro, outubro, setembro]\n",
      "\n",
      "\n",
      "\n",
      "MES_CHEGADA_REAL\n",
      "[ 1  2  3  4  5  6  7  8  9 10 11 12]\n",
      "\n",
      "\n",
      "\n",
      "NOME_MES_CHEGADA_REAL\n",
      "['janeiro', 'fevereiro', 'março', 'abril', 'maio', ..., 'agosto', 'setembro', 'outubro', 'novembro', 'dezembro']\n",
      "Length: 12\n",
      "Categories (12, string): [abril, agosto, dezembro, fevereiro, ..., março, novembro, outubro, setembro]\n",
      "\n",
      "\n",
      "\n",
      "MINUTOS_ATRASADO_PARTIDA\n",
      "[-3.0000000e+01 -1.2000000e+01 -1.1000000e+01 ...  6.4668392e+07\n",
      "  6.4678488e+07  6.4688584e+07]\n",
      "\n",
      "\n",
      "\n",
      "MINUTOS_ATRASADO_CHEGADA\n",
      "[-3.400000e+01 -1.900000e+01 -1.000000e+01 ...  6.465833e+07  6.466843e+07\n",
      "  6.468862e+07]\n",
      "\n",
      "\n",
      "\n",
      "DIA_DA_SEMANA_PARTIDA_PREVISTA\n",
      "['Domingo', 'Sábado', 'Sexta-feira', 'Quarta-feira', 'Terça-feira', 'Quinta-feira', 'Segunda-feira']\n",
      "Categories (7, string): [Domingo, Quarta-feira, Quinta-feira, Segunda-feira, Sexta-feira, Sábado, Terça-feira]\n",
      "\n",
      "\n",
      "\n",
      "INDICE_SEMANA_PARTIDA_PREVISTA\n",
      "[6 5 4 2 1 3 0]\n",
      "\n",
      "\n",
      "\n",
      "DIA_DA_SEMANA_PARTIDA_REAL\n",
      "['Sábado', 'Domingo', 'Sexta-feira', 'Quarta-feira', 'Terça-feira', 'Quinta-feira', 'Segunda-feira']\n",
      "Categories (7, string): [Domingo, Quarta-feira, Quinta-feira, Segunda-feira, Sexta-feira, Sábado, Terça-feira]\n",
      "\n",
      "\n",
      "\n",
      "INDICE_SEMANA_PARTIDA_REAL\n",
      "[5 6 4 2 1 3 0]\n",
      "\n",
      "\n",
      "\n",
      "DIA_DA_SEMANA_CHEGADA_REAL\n",
      "['Domingo', 'Sábado', 'Quarta-feira', 'Sexta-feira', 'Terça-feira', 'Quinta-feira', 'Segunda-feira']\n",
      "Categories (7, string): [Domingo, Quarta-feira, Quinta-feira, Segunda-feira, Sexta-feira, Sábado, Terça-feira]\n",
      "\n",
      "\n",
      "\n",
      "DIA_DA_SEMANA_CHEGADA_PREVISTA\n",
      "['Domingo', 'Sábado', 'Quarta-feira', 'Sexta-feira', 'Terça-feira', 'Quinta-feira', 'Segunda-feira']\n",
      "Categories (7, string): [Domingo, Quarta-feira, Quinta-feira, Segunda-feira, Sexta-feira, Sábado, Terça-feira]\n",
      "\n",
      "\n",
      "\n",
      "INDICE_SEMANA_CHEGADA_REAL\n",
      "[6 5 2 4 1 3 0]\n",
      "\n",
      "\n",
      "\n",
      "INDICE_SEMANA_CHEGADA_PREVISTA\n",
      "[6 5 2 4 1 3 0]\n",
      "\n",
      "\n",
      "\n",
      "FAIXA_ATRASO_PARTIDA\n",
      "['No horário', 'Atraso de até 30 minutos', 'Atraso de até 1 hora', 'Atraso de mais de 4 horas']\n",
      "Categories (4, string): [Atraso de até 1 hora, Atraso de até 30 minutos, Atraso de mais de 4 horas, No horário]\n",
      "\n",
      "\n",
      "\n",
      "FAIXA_ATRASO_CHEGADA\n",
      "['No horário', 'Atraso de até 30 minutos', 'Atraso de até 1 hora', 'Atraso de mais de 4 horas']\n",
      "Categories (4, string): [Atraso de até 1 hora, Atraso de até 30 minutos, Atraso de mais de 4 horas, No horário]\n",
      "\n",
      "\n",
      "\n"
     ]
    }
   ],
   "source": [
    "for coluna in base.columns:\n",
    "    print(coluna)\n",
    "    print(base[coluna].unique())\n",
    "    print()\n",
    "    print()\n",
    "    print()"
   ]
  },
  {
   "cell_type": "code",
   "execution_count": 176,
   "metadata": {},
   "outputs": [],
   "source": [
    "particao = [\n",
    "    'MES_PARTIDA_PREVISTA',\n",
    "    'MES_PARTIDA_REAL',\n",
    "    'MES_CHEGADA_PREVISTA',\n",
    "    'MES_CHEGADA_REAL',\n",
    "    'INDICE_SEMANA_PARTIDA_PREVISTA',\n",
    "    'INDICE_SEMANA_PARTIDA_REAL',\n",
    "    'INDICE_SEMANA_CHEGADA_PREVISTA',\n",
    "    'UF_AEROPORTO_ORIGEM',\n",
    "    'UF_AEROPORTO_DESTINO',\n",
    "    'CODIGO_TIPO_LINHA',\n",
    "    'SIGLA_ICAO_AEROPORTO_ORIGEM',\n",
    "    'SIGLA_ICAO_AEROPORTO_DESTINO',\n",
    "    'SIGLA_ICAO_EMPRESA_AEREA',\n",
    "    'SITUACAO_VOO',\n",
    "    'SIGLA_OACI',\n",
    "    'FAIXA_ATRASO_PARTIDA',\n",
    "    'FAIXA_ATRASO_CHEGADA'\n",
    "]"
   ]
  },
  {
   "cell_type": "code",
   "execution_count": 178,
   "metadata": {},
   "outputs": [],
   "source": [
    "base[colunas].to_parquet('../data/processed/df_final.parquet')"
   ]
  },
  {
   "cell_type": "markdown",
   "metadata": {},
   "source": [
    "- abir parquet"
   ]
  },
  {
   "cell_type": "code",
   "execution_count": 188,
   "metadata": {},
   "outputs": [],
   "source": [
    "base = pd.read_parquet('../data/processed/df_final.parquet')"
   ]
  },
  {
   "cell_type": "code",
   "execution_count": 189,
   "metadata": {},
   "outputs": [
    {
     "data": {
      "text/html": [
       "<div>\n",
       "<style scoped>\n",
       "    .dataframe tbody tr th:only-of-type {\n",
       "        vertical-align: middle;\n",
       "    }\n",
       "\n",
       "    .dataframe tbody tr th {\n",
       "        vertical-align: top;\n",
       "    }\n",
       "\n",
       "    .dataframe thead th {\n",
       "        text-align: right;\n",
       "    }\n",
       "</style>\n",
       "<table border=\"1\" class=\"dataframe\">\n",
       "  <thead>\n",
       "    <tr style=\"text-align: right;\">\n",
       "      <th></th>\n",
       "      <th>NOME_AEROPORTO_ORIGEM</th>\n",
       "      <th>CIDADE_AEROPORTO_ORIGEM</th>\n",
       "      <th>UF_AEROPORTO_ORIGEM</th>\n",
       "      <th>SIGLA_ICAO_EMPRESA_AEREA</th>\n",
       "      <th>NUMERO_VOO</th>\n",
       "      <th>CODIGO_TIPO_LINHA</th>\n",
       "      <th>SIGLA_ICAO_AEROPORTO_ORIGEM</th>\n",
       "      <th>SIGLA_ICAO_AEROPORTO_DESTINO</th>\n",
       "      <th>PARTIDA_PREVISTA</th>\n",
       "      <th>PARTIDA_REAL</th>\n",
       "      <th>...</th>\n",
       "      <th>DIA_DA_SEMANA_PARTIDA_PREVISTA</th>\n",
       "      <th>INDICE_SEMANA_PARTIDA_PREVISTA</th>\n",
       "      <th>DIA_DA_SEMANA_PARTIDA_REAL</th>\n",
       "      <th>INDICE_SEMANA_PARTIDA_REAL</th>\n",
       "      <th>DIA_DA_SEMANA_CHEGADA_REAL</th>\n",
       "      <th>DIA_DA_SEMANA_CHEGADA_PREVISTA</th>\n",
       "      <th>INDICE_SEMANA_CHEGADA_REAL</th>\n",
       "      <th>INDICE_SEMANA_CHEGADA_PREVISTA</th>\n",
       "      <th>FAIXA_ATRASO_PARTIDA</th>\n",
       "      <th>FAIXA_ATRASO_CHEGADA</th>\n",
       "    </tr>\n",
       "  </thead>\n",
       "  <tbody>\n",
       "    <tr>\n",
       "      <th>0</th>\n",
       "      <td>BAURU/AREALVA</td>\n",
       "      <td>AREALVA</td>\n",
       "      <td>SP</td>\n",
       "      <td>AZU</td>\n",
       "      <td>2455</td>\n",
       "      <td>N</td>\n",
       "      <td>SBAE</td>\n",
       "      <td>SBPS</td>\n",
       "      <td>2022-01-02 00:05:00</td>\n",
       "      <td>2022-01-01 23:35:00</td>\n",
       "      <td>...</td>\n",
       "      <td>Domingo</td>\n",
       "      <td>6</td>\n",
       "      <td>Sábado</td>\n",
       "      <td>5</td>\n",
       "      <td>Domingo</td>\n",
       "      <td>Domingo</td>\n",
       "      <td>6</td>\n",
       "      <td>6</td>\n",
       "      <td>No horário</td>\n",
       "      <td>No horário</td>\n",
       "    </tr>\n",
       "    <tr>\n",
       "      <th>1</th>\n",
       "      <td>BAURU/AREALVA</td>\n",
       "      <td>AREALVA</td>\n",
       "      <td>SP</td>\n",
       "      <td>AZU</td>\n",
       "      <td>2455</td>\n",
       "      <td>N</td>\n",
       "      <td>SBAE</td>\n",
       "      <td>SBPS</td>\n",
       "      <td>2022-01-09 01:00:00</td>\n",
       "      <td>2022-01-09 00:48:00</td>\n",
       "      <td>...</td>\n",
       "      <td>Domingo</td>\n",
       "      <td>6</td>\n",
       "      <td>Domingo</td>\n",
       "      <td>6</td>\n",
       "      <td>Domingo</td>\n",
       "      <td>Domingo</td>\n",
       "      <td>6</td>\n",
       "      <td>6</td>\n",
       "      <td>No horário</td>\n",
       "      <td>No horário</td>\n",
       "    </tr>\n",
       "    <tr>\n",
       "      <th>2</th>\n",
       "      <td>BAURU/AREALVA</td>\n",
       "      <td>AREALVA</td>\n",
       "      <td>SP</td>\n",
       "      <td>AZU</td>\n",
       "      <td>2455</td>\n",
       "      <td>N</td>\n",
       "      <td>SBAE</td>\n",
       "      <td>SBPS</td>\n",
       "      <td>2022-01-23 11:05:00</td>\n",
       "      <td>2022-01-23 10:54:00</td>\n",
       "      <td>...</td>\n",
       "      <td>Domingo</td>\n",
       "      <td>6</td>\n",
       "      <td>Domingo</td>\n",
       "      <td>6</td>\n",
       "      <td>Domingo</td>\n",
       "      <td>Domingo</td>\n",
       "      <td>6</td>\n",
       "      <td>6</td>\n",
       "      <td>No horário</td>\n",
       "      <td>No horário</td>\n",
       "    </tr>\n",
       "    <tr>\n",
       "      <th>3</th>\n",
       "      <td>BAURU/AREALVA</td>\n",
       "      <td>AREALVA</td>\n",
       "      <td>SP</td>\n",
       "      <td>AZU</td>\n",
       "      <td>2455</td>\n",
       "      <td>N</td>\n",
       "      <td>SBAE</td>\n",
       "      <td>SBPS</td>\n",
       "      <td>2022-01-30 11:05:00</td>\n",
       "      <td>2022-01-30 11:01:00</td>\n",
       "      <td>...</td>\n",
       "      <td>Domingo</td>\n",
       "      <td>6</td>\n",
       "      <td>Domingo</td>\n",
       "      <td>6</td>\n",
       "      <td>Domingo</td>\n",
       "      <td>Domingo</td>\n",
       "      <td>6</td>\n",
       "      <td>6</td>\n",
       "      <td>No horário</td>\n",
       "      <td>No horário</td>\n",
       "    </tr>\n",
       "    <tr>\n",
       "      <th>4</th>\n",
       "      <td>BAURU/AREALVA</td>\n",
       "      <td>AREALVA</td>\n",
       "      <td>SP</td>\n",
       "      <td>AZU</td>\n",
       "      <td>2455</td>\n",
       "      <td>N</td>\n",
       "      <td>SBAE</td>\n",
       "      <td>SBPS</td>\n",
       "      <td>2022-02-26 23:00:00</td>\n",
       "      <td>2022-02-26 22:56:00</td>\n",
       "      <td>...</td>\n",
       "      <td>Sábado</td>\n",
       "      <td>5</td>\n",
       "      <td>Sábado</td>\n",
       "      <td>5</td>\n",
       "      <td>Domingo</td>\n",
       "      <td>Domingo</td>\n",
       "      <td>6</td>\n",
       "      <td>6</td>\n",
       "      <td>No horário</td>\n",
       "      <td>No horário</td>\n",
       "    </tr>\n",
       "  </tbody>\n",
       "</table>\n",
       "<p>5 rows × 38 columns</p>\n",
       "</div>"
      ],
      "text/plain": [
       "  NOME_AEROPORTO_ORIGEM CIDADE_AEROPORTO_ORIGEM UF_AEROPORTO_ORIGEM  \\\n",
       "0         BAURU/AREALVA                 AREALVA                  SP   \n",
       "1         BAURU/AREALVA                 AREALVA                  SP   \n",
       "2         BAURU/AREALVA                 AREALVA                  SP   \n",
       "3         BAURU/AREALVA                 AREALVA                  SP   \n",
       "4         BAURU/AREALVA                 AREALVA                  SP   \n",
       "\n",
       "  SIGLA_ICAO_EMPRESA_AEREA NUMERO_VOO CODIGO_TIPO_LINHA  \\\n",
       "0                      AZU       2455                 N   \n",
       "1                      AZU       2455                 N   \n",
       "2                      AZU       2455                 N   \n",
       "3                      AZU       2455                 N   \n",
       "4                      AZU       2455                 N   \n",
       "\n",
       "  SIGLA_ICAO_AEROPORTO_ORIGEM SIGLA_ICAO_AEROPORTO_DESTINO  \\\n",
       "0                        SBAE                         SBPS   \n",
       "1                        SBAE                         SBPS   \n",
       "2                        SBAE                         SBPS   \n",
       "3                        SBAE                         SBPS   \n",
       "4                        SBAE                         SBPS   \n",
       "\n",
       "     PARTIDA_PREVISTA        PARTIDA_REAL  ... DIA_DA_SEMANA_PARTIDA_PREVISTA  \\\n",
       "0 2022-01-02 00:05:00 2022-01-01 23:35:00  ...                        Domingo   \n",
       "1 2022-01-09 01:00:00 2022-01-09 00:48:00  ...                        Domingo   \n",
       "2 2022-01-23 11:05:00 2022-01-23 10:54:00  ...                        Domingo   \n",
       "3 2022-01-30 11:05:00 2022-01-30 11:01:00  ...                        Domingo   \n",
       "4 2022-02-26 23:00:00 2022-02-26 22:56:00  ...                         Sábado   \n",
       "\n",
       "  INDICE_SEMANA_PARTIDA_PREVISTA DIA_DA_SEMANA_PARTIDA_REAL  \\\n",
       "0                              6                     Sábado   \n",
       "1                              6                    Domingo   \n",
       "2                              6                    Domingo   \n",
       "3                              6                    Domingo   \n",
       "4                              5                     Sábado   \n",
       "\n",
       "  INDICE_SEMANA_PARTIDA_REAL DIA_DA_SEMANA_CHEGADA_REAL  \\\n",
       "0                          5                    Domingo   \n",
       "1                          6                    Domingo   \n",
       "2                          6                    Domingo   \n",
       "3                          6                    Domingo   \n",
       "4                          5                    Domingo   \n",
       "\n",
       "  DIA_DA_SEMANA_CHEGADA_PREVISTA INDICE_SEMANA_CHEGADA_REAL  \\\n",
       "0                        Domingo                          6   \n",
       "1                        Domingo                          6   \n",
       "2                        Domingo                          6   \n",
       "3                        Domingo                          6   \n",
       "4                        Domingo                          6   \n",
       "\n",
       "  INDICE_SEMANA_CHEGADA_PREVISTA  FAIXA_ATRASO_PARTIDA FAIXA_ATRASO_CHEGADA  \n",
       "0                              6            No horário           No horário  \n",
       "1                              6            No horário           No horário  \n",
       "2                              6            No horário           No horário  \n",
       "3                              6            No horário           No horário  \n",
       "4                              6            No horário           No horário  \n",
       "\n",
       "[5 rows x 38 columns]"
      ]
     },
     "execution_count": 189,
     "metadata": {},
     "output_type": "execute_result"
    }
   ],
   "source": [
    "base.head()"
   ]
  },
  {
   "cell_type": "code",
   "execution_count": 191,
   "metadata": {},
   "outputs": [
    {
     "name": "stdout",
     "output_type": "stream",
     "text": [
      "<class 'pandas.core.frame.DataFrame'>\n",
      "RangeIndex: 717357 entries, 0 to 717356\n",
      "Data columns (total 38 columns):\n",
      " #   Column                          Non-Null Count   Dtype         \n",
      "---  ------                          --------------   -----         \n",
      " 0   NOME_AEROPORTO_ORIGEM           717357 non-null  string        \n",
      " 1   CIDADE_AEROPORTO_ORIGEM         717357 non-null  string        \n",
      " 2   UF_AEROPORTO_ORIGEM             717357 non-null  string        \n",
      " 3   SIGLA_ICAO_EMPRESA_AEREA        717357 non-null  string        \n",
      " 4   NUMERO_VOO                      717357 non-null  string        \n",
      " 5   CODIGO_TIPO_LINHA               717355 non-null  category      \n",
      " 6   SIGLA_ICAO_AEROPORTO_ORIGEM     717357 non-null  string        \n",
      " 7   SIGLA_ICAO_AEROPORTO_DESTINO    717357 non-null  string        \n",
      " 8   PARTIDA_PREVISTA                717357 non-null  datetime64[ns]\n",
      " 9   PARTIDA_REAL                    717357 non-null  datetime64[ns]\n",
      " 10  CHEGADA_PREVISTA                717357 non-null  datetime64[ns]\n",
      " 11  CHEGADA_REAL                    717357 non-null  datetime64[ns]\n",
      " 12  SITUACAO_VOO                    717357 non-null  category      \n",
      " 13  SIGLA_OACI                      717357 non-null  string        \n",
      " 14  NOME_AEROPORTO_DESTINO          717357 non-null  string        \n",
      " 15  CIDADE_AEROPORTO_DESTINO        717357 non-null  string        \n",
      " 16  UF_AEROPORTO_DESTINO            717357 non-null  string        \n",
      " 17  NOME_EMPRESA                    717357 non-null  string        \n",
      " 18  MES_PARTIDA_PREVISTA            717357 non-null  int32         \n",
      " 19  NOME_MES_PARTIDA_PREVISTA       717357 non-null  category      \n",
      " 20  MES_PARTIDA_REAL                717357 non-null  int32         \n",
      " 21  NOME_MES_PARTIDA_REAL           717357 non-null  category      \n",
      " 22  MES_CHEGADA_PREVISTA            717357 non-null  int32         \n",
      " 23  NOME_MES_CHEGADA_PREVISTA       717357 non-null  category      \n",
      " 24  MES_CHEGADA_REAL                717357 non-null  int32         \n",
      " 25  NOME_MES_CHEGADA_REAL           717357 non-null  category      \n",
      " 26  MINUTOS_ATRASADO_PARTIDA        717357 non-null  float32       \n",
      " 27  MINUTOS_ATRASADO_CHEGADA        717357 non-null  float32       \n",
      " 28  DIA_DA_SEMANA_PARTIDA_PREVISTA  717357 non-null  category      \n",
      " 29  INDICE_SEMANA_PARTIDA_PREVISTA  717357 non-null  int32         \n",
      " 30  DIA_DA_SEMANA_PARTIDA_REAL      717357 non-null  category      \n",
      " 31  INDICE_SEMANA_PARTIDA_REAL      717357 non-null  int32         \n",
      " 32  DIA_DA_SEMANA_CHEGADA_REAL      717357 non-null  category      \n",
      " 33  DIA_DA_SEMANA_CHEGADA_PREVISTA  717357 non-null  category      \n",
      " 34  INDICE_SEMANA_CHEGADA_REAL      717357 non-null  int32         \n",
      " 35  INDICE_SEMANA_CHEGADA_PREVISTA  717357 non-null  int32         \n",
      " 36  FAIXA_ATRASO_PARTIDA            717357 non-null  category      \n",
      " 37  FAIXA_ATRASO_CHEGADA            717357 non-null  category      \n",
      "dtypes: category(12), datetime64[ns](4), float32(2), int32(8), string(12)\n",
      "memory usage: 123.1 MB\n"
     ]
    }
   ],
   "source": [
    "base.info()"
   ]
  },
  {
   "cell_type": "code",
   "execution_count": 182,
   "metadata": {},
   "outputs": [
    {
     "data": {
      "text/plain": [
       "SIGLA_ICAO_EMPRESA_AEREA\n",
       "AZU    282255\n",
       "TAM    211680\n",
       "GLO    196739\n",
       "PTB     14369\n",
       "PAM      5090\n",
       "TTL      2914\n",
       "MWM      1503\n",
       "LTG      1403\n",
       "CLX       308\n",
       "TAP       246\n",
       "GEC       214\n",
       "TPA       207\n",
       "LAE       181\n",
       "ABJ       100\n",
       "LCO        69\n",
       "LAN        38\n",
       "GTI         9\n",
       "LPE         8\n",
       "ARG         6\n",
       "LAP         3\n",
       "DLH         2\n",
       "AAL         2\n",
       "AFR         2\n",
       "BAW         2\n",
       "RZO         1\n",
       "CKS         1\n",
       "UPS         1\n",
       "AVA         1\n",
       "QTR         1\n",
       "KLM         1\n",
       "AEA         1\n",
       "Name: count, dtype: Int64"
      ]
     },
     "execution_count": 182,
     "metadata": {},
     "output_type": "execute_result"
    }
   ],
   "source": [
    "base['SIGLA_ICAO_EMPRESA_AEREA'].value_counts()"
   ]
  },
  {
   "cell_type": "markdown",
   "metadata": {},
   "source": [
    "- Situação Vôo"
   ]
  },
  {
   "cell_type": "code",
   "execution_count": 196,
   "metadata": {},
   "outputs": [],
   "source": [
    "colunas = ['SIGLA_ICAO_EMPRESA_AEREA', 'SITUACAO_VOO', 'MES_PARTIDA_PREVISTA', 'NOME_MES_PARTIDA_PREVISTA']\n",
    "teste = pd.read_parquet('../data/processed/df_final.parquet', columns=colunas)"
   ]
  },
  {
   "cell_type": "code",
   "execution_count": 197,
   "metadata": {},
   "outputs": [
    {
     "name": "stdout",
     "output_type": "stream",
     "text": [
      "<class 'pandas.core.frame.DataFrame'>\n",
      "RangeIndex: 717357 entries, 0 to 717356\n",
      "Data columns (total 4 columns):\n",
      " #   Column                     Non-Null Count   Dtype   \n",
      "---  ------                     --------------   -----   \n",
      " 0   SIGLA_ICAO_EMPRESA_AEREA   717357 non-null  string  \n",
      " 1   SITUACAO_VOO               717357 non-null  category\n",
      " 2   MES_PARTIDA_PREVISTA       717357 non-null  int32   \n",
      " 3   NOME_MES_PARTIDA_PREVISTA  717357 non-null  category\n",
      "dtypes: category(2), int32(1), string(1)\n",
      "memory usage: 9.6 MB\n"
     ]
    }
   ],
   "source": [
    "teste.info()"
   ]
  },
  {
   "cell_type": "code",
   "execution_count": 198,
   "metadata": {},
   "outputs": [
    {
     "data": {
      "text/html": [
       "<div>\n",
       "<style scoped>\n",
       "    .dataframe tbody tr th:only-of-type {\n",
       "        vertical-align: middle;\n",
       "    }\n",
       "\n",
       "    .dataframe tbody tr th {\n",
       "        vertical-align: top;\n",
       "    }\n",
       "\n",
       "    .dataframe thead th {\n",
       "        text-align: right;\n",
       "    }\n",
       "</style>\n",
       "<table border=\"1\" class=\"dataframe\">\n",
       "  <thead>\n",
       "    <tr style=\"text-align: right;\">\n",
       "      <th></th>\n",
       "      <th>SIGLA_ICAO_EMPRESA_AEREA</th>\n",
       "      <th>SITUACAO_VOO</th>\n",
       "      <th>MES_PARTIDA_PREVISTA</th>\n",
       "      <th>NOME_MES_PARTIDA_PREVISTA</th>\n",
       "    </tr>\n",
       "  </thead>\n",
       "  <tbody>\n",
       "    <tr>\n",
       "      <th>0</th>\n",
       "      <td>AZU</td>\n",
       "      <td>REALIZADO</td>\n",
       "      <td>1</td>\n",
       "      <td>janeiro</td>\n",
       "    </tr>\n",
       "    <tr>\n",
       "      <th>1</th>\n",
       "      <td>AZU</td>\n",
       "      <td>REALIZADO</td>\n",
       "      <td>1</td>\n",
       "      <td>janeiro</td>\n",
       "    </tr>\n",
       "    <tr>\n",
       "      <th>2</th>\n",
       "      <td>AZU</td>\n",
       "      <td>REALIZADO</td>\n",
       "      <td>1</td>\n",
       "      <td>janeiro</td>\n",
       "    </tr>\n",
       "    <tr>\n",
       "      <th>3</th>\n",
       "      <td>AZU</td>\n",
       "      <td>REALIZADO</td>\n",
       "      <td>1</td>\n",
       "      <td>janeiro</td>\n",
       "    </tr>\n",
       "    <tr>\n",
       "      <th>4</th>\n",
       "      <td>AZU</td>\n",
       "      <td>REALIZADO</td>\n",
       "      <td>2</td>\n",
       "      <td>fevereiro</td>\n",
       "    </tr>\n",
       "  </tbody>\n",
       "</table>\n",
       "</div>"
      ],
      "text/plain": [
       "  SIGLA_ICAO_EMPRESA_AEREA SITUACAO_VOO  MES_PARTIDA_PREVISTA  \\\n",
       "0                      AZU    REALIZADO                     1   \n",
       "1                      AZU    REALIZADO                     1   \n",
       "2                      AZU    REALIZADO                     1   \n",
       "3                      AZU    REALIZADO                     1   \n",
       "4                      AZU    REALIZADO                     2   \n",
       "\n",
       "  NOME_MES_PARTIDA_PREVISTA  \n",
       "0                   janeiro  \n",
       "1                   janeiro  \n",
       "2                   janeiro  \n",
       "3                   janeiro  \n",
       "4                 fevereiro  "
      ]
     },
     "execution_count": 198,
     "metadata": {},
     "output_type": "execute_result"
    }
   ],
   "source": [
    "teste.head()"
   ]
  },
  {
   "cell_type": "code",
   "execution_count": 199,
   "metadata": {},
   "outputs": [
    {
     "data": {
      "text/html": [
       "<div>\n",
       "<style scoped>\n",
       "    .dataframe tbody tr th:only-of-type {\n",
       "        vertical-align: middle;\n",
       "    }\n",
       "\n",
       "    .dataframe tbody tr th {\n",
       "        vertical-align: top;\n",
       "    }\n",
       "\n",
       "    .dataframe thead th {\n",
       "        text-align: right;\n",
       "    }\n",
       "</style>\n",
       "<table border=\"1\" class=\"dataframe\">\n",
       "  <thead>\n",
       "    <tr style=\"text-align: right;\">\n",
       "      <th></th>\n",
       "      <th>NOME_AEROPORTO_ORIGEM</th>\n",
       "      <th>CIDADE_AEROPORTO_ORIGEM</th>\n",
       "      <th>UF_AEROPORTO_ORIGEM</th>\n",
       "      <th>SIGLA_ICAO_EMPRESA_AEREA</th>\n",
       "      <th>NUMERO_VOO</th>\n",
       "      <th>CODIGO_TIPO_LINHA</th>\n",
       "      <th>SIGLA_ICAO_AEROPORTO_ORIGEM</th>\n",
       "      <th>SIGLA_ICAO_AEROPORTO_DESTINO</th>\n",
       "      <th>PARTIDA_PREVISTA</th>\n",
       "      <th>PARTIDA_REAL</th>\n",
       "      <th>...</th>\n",
       "      <th>DIA_DA_SEMANA_PARTIDA_PREVISTA</th>\n",
       "      <th>INDICE_SEMANA_PARTIDA_PREVISTA</th>\n",
       "      <th>DIA_DA_SEMANA_PARTIDA_REAL</th>\n",
       "      <th>INDICE_SEMANA_PARTIDA_REAL</th>\n",
       "      <th>DIA_DA_SEMANA_CHEGADA_REAL</th>\n",
       "      <th>DIA_DA_SEMANA_CHEGADA_PREVISTA</th>\n",
       "      <th>INDICE_SEMANA_CHEGADA_REAL</th>\n",
       "      <th>INDICE_SEMANA_CHEGADA_PREVISTA</th>\n",
       "      <th>FAIXA_ATRASO_PARTIDA</th>\n",
       "      <th>FAIXA_ATRASO_CHEGADA</th>\n",
       "    </tr>\n",
       "  </thead>\n",
       "  <tbody>\n",
       "    <tr>\n",
       "      <th>537999</th>\n",
       "      <td>LEITE LOPES</td>\n",
       "      <td>RIBEIRÃO PRETO</td>\n",
       "      <td>SP</td>\n",
       "      <td>TAM</td>\n",
       "      <td>3433</td>\n",
       "      <td>N</td>\n",
       "      <td>SBRP</td>\n",
       "      <td>SBGR</td>\n",
       "      <td>2022-11-01 09:30:00</td>\n",
       "      <td>2022-11-01 09:30:00</td>\n",
       "      <td>...</td>\n",
       "      <td>Terça-feira</td>\n",
       "      <td>1</td>\n",
       "      <td>Terça-feira</td>\n",
       "      <td>1</td>\n",
       "      <td>Terça-feira</td>\n",
       "      <td>Terça-feira</td>\n",
       "      <td>1</td>\n",
       "      <td>1</td>\n",
       "      <td>No horário</td>\n",
       "      <td>No horário</td>\n",
       "    </tr>\n",
       "    <tr>\n",
       "      <th>538000</th>\n",
       "      <td>LEITE LOPES</td>\n",
       "      <td>RIBEIRÃO PRETO</td>\n",
       "      <td>SP</td>\n",
       "      <td>TAM</td>\n",
       "      <td>3433</td>\n",
       "      <td>N</td>\n",
       "      <td>SBRP</td>\n",
       "      <td>SBGR</td>\n",
       "      <td>2022-11-02 09:30:00</td>\n",
       "      <td>2022-11-02 09:30:00</td>\n",
       "      <td>...</td>\n",
       "      <td>Quarta-feira</td>\n",
       "      <td>2</td>\n",
       "      <td>Quarta-feira</td>\n",
       "      <td>2</td>\n",
       "      <td>Quarta-feira</td>\n",
       "      <td>Quarta-feira</td>\n",
       "      <td>2</td>\n",
       "      <td>2</td>\n",
       "      <td>No horário</td>\n",
       "      <td>No horário</td>\n",
       "    </tr>\n",
       "    <tr>\n",
       "      <th>538001</th>\n",
       "      <td>LEITE LOPES</td>\n",
       "      <td>RIBEIRÃO PRETO</td>\n",
       "      <td>SP</td>\n",
       "      <td>TAM</td>\n",
       "      <td>3867</td>\n",
       "      <td>N</td>\n",
       "      <td>SBRP</td>\n",
       "      <td>SBGR</td>\n",
       "      <td>2022-11-02 14:20:00</td>\n",
       "      <td>2022-11-02 14:17:00</td>\n",
       "      <td>...</td>\n",
       "      <td>Quarta-feira</td>\n",
       "      <td>2</td>\n",
       "      <td>Quarta-feira</td>\n",
       "      <td>2</td>\n",
       "      <td>Quarta-feira</td>\n",
       "      <td>Quarta-feira</td>\n",
       "      <td>2</td>\n",
       "      <td>2</td>\n",
       "      <td>No horário</td>\n",
       "      <td>Atraso de até 1 hora</td>\n",
       "    </tr>\n",
       "    <tr>\n",
       "      <th>538002</th>\n",
       "      <td>LEITE LOPES</td>\n",
       "      <td>RIBEIRÃO PRETO</td>\n",
       "      <td>SP</td>\n",
       "      <td>TAM</td>\n",
       "      <td>3433</td>\n",
       "      <td>N</td>\n",
       "      <td>SBRP</td>\n",
       "      <td>SBGR</td>\n",
       "      <td>2022-11-03 09:30:00</td>\n",
       "      <td>2022-11-03 09:25:00</td>\n",
       "      <td>...</td>\n",
       "      <td>Quinta-feira</td>\n",
       "      <td>3</td>\n",
       "      <td>Quinta-feira</td>\n",
       "      <td>3</td>\n",
       "      <td>Quinta-feira</td>\n",
       "      <td>Quinta-feira</td>\n",
       "      <td>3</td>\n",
       "      <td>3</td>\n",
       "      <td>No horário</td>\n",
       "      <td>No horário</td>\n",
       "    </tr>\n",
       "    <tr>\n",
       "      <th>538003</th>\n",
       "      <td>LEITE LOPES</td>\n",
       "      <td>RIBEIRÃO PRETO</td>\n",
       "      <td>SP</td>\n",
       "      <td>TAM</td>\n",
       "      <td>3867</td>\n",
       "      <td>N</td>\n",
       "      <td>SBRP</td>\n",
       "      <td>SBGR</td>\n",
       "      <td>2022-11-03 14:20:00</td>\n",
       "      <td>2022-11-03 14:12:00</td>\n",
       "      <td>...</td>\n",
       "      <td>Quinta-feira</td>\n",
       "      <td>3</td>\n",
       "      <td>Quinta-feira</td>\n",
       "      <td>3</td>\n",
       "      <td>Quinta-feira</td>\n",
       "      <td>Quinta-feira</td>\n",
       "      <td>3</td>\n",
       "      <td>3</td>\n",
       "      <td>No horário</td>\n",
       "      <td>No horário</td>\n",
       "    </tr>\n",
       "    <tr>\n",
       "      <th>...</th>\n",
       "      <td>...</td>\n",
       "      <td>...</td>\n",
       "      <td>...</td>\n",
       "      <td>...</td>\n",
       "      <td>...</td>\n",
       "      <td>...</td>\n",
       "      <td>...</td>\n",
       "      <td>...</td>\n",
       "      <td>...</td>\n",
       "      <td>...</td>\n",
       "      <td>...</td>\n",
       "      <td>...</td>\n",
       "      <td>...</td>\n",
       "      <td>...</td>\n",
       "      <td>...</td>\n",
       "      <td>...</td>\n",
       "      <td>...</td>\n",
       "      <td>...</td>\n",
       "      <td>...</td>\n",
       "      <td>...</td>\n",
       "      <td>...</td>\n",
       "    </tr>\n",
       "    <tr>\n",
       "      <th>538109</th>\n",
       "      <td>LEITE LOPES</td>\n",
       "      <td>RIBEIRÃO PRETO</td>\n",
       "      <td>SP</td>\n",
       "      <td>TAM</td>\n",
       "      <td>3433</td>\n",
       "      <td>N</td>\n",
       "      <td>SBRP</td>\n",
       "      <td>SBGR</td>\n",
       "      <td>2022-12-29 09:30:00</td>\n",
       "      <td>2022-12-29 09:30:00</td>\n",
       "      <td>...</td>\n",
       "      <td>Quinta-feira</td>\n",
       "      <td>3</td>\n",
       "      <td>Quinta-feira</td>\n",
       "      <td>3</td>\n",
       "      <td>Quinta-feira</td>\n",
       "      <td>Quinta-feira</td>\n",
       "      <td>3</td>\n",
       "      <td>3</td>\n",
       "      <td>No horário</td>\n",
       "      <td>Atraso de até 30 minutos</td>\n",
       "    </tr>\n",
       "    <tr>\n",
       "      <th>538111</th>\n",
       "      <td>LEITE LOPES</td>\n",
       "      <td>RIBEIRÃO PRETO</td>\n",
       "      <td>SP</td>\n",
       "      <td>TAM</td>\n",
       "      <td>3867</td>\n",
       "      <td>N</td>\n",
       "      <td>SBRP</td>\n",
       "      <td>SBGR</td>\n",
       "      <td>2022-12-29 14:20:00</td>\n",
       "      <td>2022-12-29 14:11:00</td>\n",
       "      <td>...</td>\n",
       "      <td>Quinta-feira</td>\n",
       "      <td>3</td>\n",
       "      <td>Quinta-feira</td>\n",
       "      <td>3</td>\n",
       "      <td>Quinta-feira</td>\n",
       "      <td>Quinta-feira</td>\n",
       "      <td>3</td>\n",
       "      <td>3</td>\n",
       "      <td>No horário</td>\n",
       "      <td>No horário</td>\n",
       "    </tr>\n",
       "    <tr>\n",
       "      <th>538112</th>\n",
       "      <td>LEITE LOPES</td>\n",
       "      <td>RIBEIRÃO PRETO</td>\n",
       "      <td>SP</td>\n",
       "      <td>TAM</td>\n",
       "      <td>3433</td>\n",
       "      <td>N</td>\n",
       "      <td>SBRP</td>\n",
       "      <td>SBGR</td>\n",
       "      <td>2022-12-30 09:30:00</td>\n",
       "      <td>2022-12-30 09:29:00</td>\n",
       "      <td>...</td>\n",
       "      <td>Sexta-feira</td>\n",
       "      <td>4</td>\n",
       "      <td>Sexta-feira</td>\n",
       "      <td>4</td>\n",
       "      <td>Sexta-feira</td>\n",
       "      <td>Sexta-feira</td>\n",
       "      <td>4</td>\n",
       "      <td>4</td>\n",
       "      <td>No horário</td>\n",
       "      <td>No horário</td>\n",
       "    </tr>\n",
       "    <tr>\n",
       "      <th>538113</th>\n",
       "      <td>LEITE LOPES</td>\n",
       "      <td>RIBEIRÃO PRETO</td>\n",
       "      <td>SP</td>\n",
       "      <td>TAM</td>\n",
       "      <td>3867</td>\n",
       "      <td>N</td>\n",
       "      <td>SBRP</td>\n",
       "      <td>SBGR</td>\n",
       "      <td>2022-12-30 14:00:00</td>\n",
       "      <td>2022-12-30 13:50:00</td>\n",
       "      <td>...</td>\n",
       "      <td>Sexta-feira</td>\n",
       "      <td>4</td>\n",
       "      <td>Sexta-feira</td>\n",
       "      <td>4</td>\n",
       "      <td>Sexta-feira</td>\n",
       "      <td>Sexta-feira</td>\n",
       "      <td>4</td>\n",
       "      <td>4</td>\n",
       "      <td>No horário</td>\n",
       "      <td>No horário</td>\n",
       "    </tr>\n",
       "    <tr>\n",
       "      <th>538114</th>\n",
       "      <td>LEITE LOPES</td>\n",
       "      <td>RIBEIRÃO PRETO</td>\n",
       "      <td>SP</td>\n",
       "      <td>TAM</td>\n",
       "      <td>3867</td>\n",
       "      <td>N</td>\n",
       "      <td>SBRP</td>\n",
       "      <td>SBGR</td>\n",
       "      <td>2022-12-31 14:20:00</td>\n",
       "      <td>2022-12-31 14:11:00</td>\n",
       "      <td>...</td>\n",
       "      <td>Sábado</td>\n",
       "      <td>5</td>\n",
       "      <td>Sábado</td>\n",
       "      <td>5</td>\n",
       "      <td>Sábado</td>\n",
       "      <td>Sábado</td>\n",
       "      <td>5</td>\n",
       "      <td>5</td>\n",
       "      <td>No horário</td>\n",
       "      <td>Atraso de até 30 minutos</td>\n",
       "    </tr>\n",
       "  </tbody>\n",
       "</table>\n",
       "<p>110 rows × 38 columns</p>\n",
       "</div>"
      ],
      "text/plain": [
       "       NOME_AEROPORTO_ORIGEM CIDADE_AEROPORTO_ORIGEM UF_AEROPORTO_ORIGEM  \\\n",
       "537999           LEITE LOPES          RIBEIRÃO PRETO                  SP   \n",
       "538000           LEITE LOPES          RIBEIRÃO PRETO                  SP   \n",
       "538001           LEITE LOPES          RIBEIRÃO PRETO                  SP   \n",
       "538002           LEITE LOPES          RIBEIRÃO PRETO                  SP   \n",
       "538003           LEITE LOPES          RIBEIRÃO PRETO                  SP   \n",
       "...                      ...                     ...                 ...   \n",
       "538109           LEITE LOPES          RIBEIRÃO PRETO                  SP   \n",
       "538111           LEITE LOPES          RIBEIRÃO PRETO                  SP   \n",
       "538112           LEITE LOPES          RIBEIRÃO PRETO                  SP   \n",
       "538113           LEITE LOPES          RIBEIRÃO PRETO                  SP   \n",
       "538114           LEITE LOPES          RIBEIRÃO PRETO                  SP   \n",
       "\n",
       "       SIGLA_ICAO_EMPRESA_AEREA NUMERO_VOO CODIGO_TIPO_LINHA  \\\n",
       "537999                      TAM       3433                 N   \n",
       "538000                      TAM       3433                 N   \n",
       "538001                      TAM       3867                 N   \n",
       "538002                      TAM       3433                 N   \n",
       "538003                      TAM       3867                 N   \n",
       "...                         ...        ...               ...   \n",
       "538109                      TAM       3433                 N   \n",
       "538111                      TAM       3867                 N   \n",
       "538112                      TAM       3433                 N   \n",
       "538113                      TAM       3867                 N   \n",
       "538114                      TAM       3867                 N   \n",
       "\n",
       "       SIGLA_ICAO_AEROPORTO_ORIGEM SIGLA_ICAO_AEROPORTO_DESTINO  \\\n",
       "537999                        SBRP                         SBGR   \n",
       "538000                        SBRP                         SBGR   \n",
       "538001                        SBRP                         SBGR   \n",
       "538002                        SBRP                         SBGR   \n",
       "538003                        SBRP                         SBGR   \n",
       "...                            ...                          ...   \n",
       "538109                        SBRP                         SBGR   \n",
       "538111                        SBRP                         SBGR   \n",
       "538112                        SBRP                         SBGR   \n",
       "538113                        SBRP                         SBGR   \n",
       "538114                        SBRP                         SBGR   \n",
       "\n",
       "          PARTIDA_PREVISTA        PARTIDA_REAL  ...  \\\n",
       "537999 2022-11-01 09:30:00 2022-11-01 09:30:00  ...   \n",
       "538000 2022-11-02 09:30:00 2022-11-02 09:30:00  ...   \n",
       "538001 2022-11-02 14:20:00 2022-11-02 14:17:00  ...   \n",
       "538002 2022-11-03 09:30:00 2022-11-03 09:25:00  ...   \n",
       "538003 2022-11-03 14:20:00 2022-11-03 14:12:00  ...   \n",
       "...                    ...                 ...  ...   \n",
       "538109 2022-12-29 09:30:00 2022-12-29 09:30:00  ...   \n",
       "538111 2022-12-29 14:20:00 2022-12-29 14:11:00  ...   \n",
       "538112 2022-12-30 09:30:00 2022-12-30 09:29:00  ...   \n",
       "538113 2022-12-30 14:00:00 2022-12-30 13:50:00  ...   \n",
       "538114 2022-12-31 14:20:00 2022-12-31 14:11:00  ...   \n",
       "\n",
       "       DIA_DA_SEMANA_PARTIDA_PREVISTA INDICE_SEMANA_PARTIDA_PREVISTA  \\\n",
       "537999                    Terça-feira                              1   \n",
       "538000                   Quarta-feira                              2   \n",
       "538001                   Quarta-feira                              2   \n",
       "538002                   Quinta-feira                              3   \n",
       "538003                   Quinta-feira                              3   \n",
       "...                               ...                            ...   \n",
       "538109                   Quinta-feira                              3   \n",
       "538111                   Quinta-feira                              3   \n",
       "538112                    Sexta-feira                              4   \n",
       "538113                    Sexta-feira                              4   \n",
       "538114                         Sábado                              5   \n",
       "\n",
       "       DIA_DA_SEMANA_PARTIDA_REAL INDICE_SEMANA_PARTIDA_REAL  \\\n",
       "537999                Terça-feira                          1   \n",
       "538000               Quarta-feira                          2   \n",
       "538001               Quarta-feira                          2   \n",
       "538002               Quinta-feira                          3   \n",
       "538003               Quinta-feira                          3   \n",
       "...                           ...                        ...   \n",
       "538109               Quinta-feira                          3   \n",
       "538111               Quinta-feira                          3   \n",
       "538112                Sexta-feira                          4   \n",
       "538113                Sexta-feira                          4   \n",
       "538114                     Sábado                          5   \n",
       "\n",
       "       DIA_DA_SEMANA_CHEGADA_REAL DIA_DA_SEMANA_CHEGADA_PREVISTA  \\\n",
       "537999                Terça-feira                    Terça-feira   \n",
       "538000               Quarta-feira                   Quarta-feira   \n",
       "538001               Quarta-feira                   Quarta-feira   \n",
       "538002               Quinta-feira                   Quinta-feira   \n",
       "538003               Quinta-feira                   Quinta-feira   \n",
       "...                           ...                            ...   \n",
       "538109               Quinta-feira                   Quinta-feira   \n",
       "538111               Quinta-feira                   Quinta-feira   \n",
       "538112                Sexta-feira                    Sexta-feira   \n",
       "538113                Sexta-feira                    Sexta-feira   \n",
       "538114                     Sábado                         Sábado   \n",
       "\n",
       "       INDICE_SEMANA_CHEGADA_REAL INDICE_SEMANA_CHEGADA_PREVISTA  \\\n",
       "537999                          1                              1   \n",
       "538000                          2                              2   \n",
       "538001                          2                              2   \n",
       "538002                          3                              3   \n",
       "538003                          3                              3   \n",
       "...                           ...                            ...   \n",
       "538109                          3                              3   \n",
       "538111                          3                              3   \n",
       "538112                          4                              4   \n",
       "538113                          4                              4   \n",
       "538114                          5                              5   \n",
       "\n",
       "        FAIXA_ATRASO_PARTIDA      FAIXA_ATRASO_CHEGADA  \n",
       "537999            No horário                No horário  \n",
       "538000            No horário                No horário  \n",
       "538001            No horário      Atraso de até 1 hora  \n",
       "538002            No horário                No horário  \n",
       "538003            No horário                No horário  \n",
       "...                      ...                       ...  \n",
       "538109            No horário  Atraso de até 30 minutos  \n",
       "538111            No horário                No horário  \n",
       "538112            No horário                No horário  \n",
       "538113            No horário                No horário  \n",
       "538114            No horário  Atraso de até 30 minutos  \n",
       "\n",
       "[110 rows x 38 columns]"
      ]
     },
     "execution_count": 199,
     "metadata": {},
     "output_type": "execute_result"
    }
   ],
   "source": [
    "total = base.query(\n",
    "    'SIGLA_ICAO_EMPRESA_AEREA == \"TAM\"  ' \\\n",
    "    ' and SIGLA_ICAO_AEROPORTO_ORIGEM == \"SBRP\"'\\\n",
    "    ' and MES_PARTIDA_PREVISTA in [11,12] '\n",
    ")\n",
    "total"
   ]
  },
  {
   "cell_type": "code",
   "execution_count": 200,
   "metadata": {},
   "outputs": [
    {
     "data": {
      "text/plain": [
       "NOME_MES_PARTIDA_PREVISTA  SIGLA_ICAO_EMPRESA_AEREA  MES_PARTIDA_PREVISTA  SITUACAO_VOO\n",
       "novembro                   TAM                       11                    REALIZADO       53\n",
       "                                                                           CANCELADO        2\n",
       "Name: count, dtype: int64"
      ]
     },
     "execution_count": 200,
     "metadata": {},
     "output_type": "execute_result"
    }
   ],
   "source": [
    "total = base.query(\n",
    "    'SIGLA_ICAO_EMPRESA_AEREA == \"TAM\"  ' \\\n",
    "    ' and SIGLA_ICAO_AEROPORTO_ORIGEM == \"SBRP\"'\\\n",
    "    ' and MES_PARTIDA_PREVISTA in [11] '\n",
    ")[\n",
    "    [\n",
    "        'NOME_MES_PARTIDA_PREVISTA',\n",
    "        'SIGLA_ICAO_EMPRESA_AEREA', \n",
    "        'MES_PARTIDA_PREVISTA',\n",
    "        'SITUACAO_VOO'\n",
    "    ]\n",
    "].value_counts()\n",
    "# teste = base.query('SIGLA_ICAO_EMPRESA_AEREA == \"TAP\"')[['SIGLA_ICAO_EMPRESA_AEREA', 'SITUACAO_VOO']].value_counts( normalize=True) * 100\n",
    "total\n"
   ]
  },
  {
   "cell_type": "code",
   "execution_count": 201,
   "metadata": {},
   "outputs": [
    {
     "data": {
      "text/plain": [
       "NOME_MES_PARTIDA_PREVISTA  SIGLA_ICAO_EMPRESA_AEREA  MES_PARTIDA_PREVISTA  SITUACAO_VOO\n",
       "novembro                   TAM                       11                    REALIZADO       96.363636\n",
       "                                                                           CANCELADO        3.636364\n",
       "Name: proportion, dtype: float64"
      ]
     },
     "execution_count": 201,
     "metadata": {},
     "output_type": "execute_result"
    }
   ],
   "source": [
    "percentual = base.query(\n",
    "    'SIGLA_ICAO_EMPRESA_AEREA == \"TAM\"  ' \\\n",
    "    ' and SIGLA_ICAO_AEROPORTO_ORIGEM == \"SBRP\"' \\\n",
    "    ' and MES_PARTIDA_PREVISTA in [11]  '\n",
    "    )[\n",
    "        [\n",
    "            'NOME_MES_PARTIDA_PREVISTA',\n",
    "            'SIGLA_ICAO_EMPRESA_AEREA', \n",
    "            'MES_PARTIDA_PREVISTA',\n",
    "            'SITUACAO_VOO'\n",
    "        ]\n",
    "    ].value_counts( normalize=True) * 100\n",
    "percentual"
   ]
  },
  {
   "cell_type": "code",
   "execution_count": 205,
   "metadata": {},
   "outputs": [
    {
     "data": {
      "text/html": [
       "<div>\n",
       "<style scoped>\n",
       "    .dataframe tbody tr th:only-of-type {\n",
       "        vertical-align: middle;\n",
       "    }\n",
       "\n",
       "    .dataframe tbody tr th {\n",
       "        vertical-align: top;\n",
       "    }\n",
       "\n",
       "    .dataframe thead th {\n",
       "        text-align: right;\n",
       "    }\n",
       "</style>\n",
       "<table border=\"1\" class=\"dataframe\">\n",
       "  <thead>\n",
       "    <tr style=\"text-align: right;\">\n",
       "      <th></th>\n",
       "      <th>NOME_MES_PARTIDA_PREVISTA</th>\n",
       "      <th>SIGLA_ICAO_EMPRESA_AEREA</th>\n",
       "      <th>MES_PARTIDA_PREVISTA</th>\n",
       "      <th>SITUACAO_VOO</th>\n",
       "      <th>count</th>\n",
       "      <th>proportion</th>\n",
       "    </tr>\n",
       "  </thead>\n",
       "  <tbody>\n",
       "    <tr>\n",
       "      <th>0</th>\n",
       "      <td>novembro</td>\n",
       "      <td>TAM</td>\n",
       "      <td>11</td>\n",
       "      <td>REALIZADO</td>\n",
       "      <td>53</td>\n",
       "      <td>96.363636</td>\n",
       "    </tr>\n",
       "    <tr>\n",
       "      <th>1</th>\n",
       "      <td>novembro</td>\n",
       "      <td>TAM</td>\n",
       "      <td>11</td>\n",
       "      <td>CANCELADO</td>\n",
       "      <td>2</td>\n",
       "      <td>3.636364</td>\n",
       "    </tr>\n",
       "  </tbody>\n",
       "</table>\n",
       "</div>"
      ],
      "text/plain": [
       "  NOME_MES_PARTIDA_PREVISTA SIGLA_ICAO_EMPRESA_AEREA  MES_PARTIDA_PREVISTA  \\\n",
       "0                  novembro                      TAM                    11   \n",
       "1                  novembro                      TAM                    11   \n",
       "\n",
       "  SITUACAO_VOO  count  proportion  \n",
       "0    REALIZADO     53   96.363636  \n",
       "1    CANCELADO      2    3.636364  "
      ]
     },
     "execution_count": 205,
     "metadata": {},
     "output_type": "execute_result"
    }
   ],
   "source": [
    "df_resultado = pd.concat([total, percentual], axis=1).reset_index()\n",
    "df_resultado"
   ]
  },
  {
   "cell_type": "code",
   "execution_count": 206,
   "metadata": {},
   "outputs": [
    {
     "name": "stdout",
     "output_type": "stream",
     "text": [
      "<class 'pandas.core.frame.DataFrame'>\n",
      "RangeIndex: 2 entries, 0 to 1\n",
      "Data columns (total 6 columns):\n",
      " #   Column                     Non-Null Count  Dtype   \n",
      "---  ------                     --------------  -----   \n",
      " 0   NOME_MES_PARTIDA_PREVISTA  2 non-null      category\n",
      " 1   SIGLA_ICAO_EMPRESA_AEREA   2 non-null      string  \n",
      " 2   MES_PARTIDA_PREVISTA       2 non-null      int32   \n",
      " 3   SITUACAO_VOO               2 non-null      category\n",
      " 4   count                      2 non-null      int64   \n",
      " 5   proportion                 2 non-null      float64 \n",
      "dtypes: category(2), float64(1), int32(1), int64(1), string(1)\n",
      "memory usage: 716.0 bytes\n"
     ]
    }
   ],
   "source": [
    "df_resultado.info()"
   ]
  },
  {
   "cell_type": "code",
   "execution_count": 208,
   "metadata": {},
   "outputs": [],
   "source": [
    "df_resultado['count'] = df_resultado['count'].astype('int32')\n",
    "df_resultado['proportion'] = df_resultado['proportion'].astype('float32')"
   ]
  },
  {
   "cell_type": "code",
   "execution_count": 209,
   "metadata": {},
   "outputs": [
    {
     "name": "stdout",
     "output_type": "stream",
     "text": [
      "<class 'pandas.core.frame.DataFrame'>\n",
      "RangeIndex: 2 entries, 0 to 1\n",
      "Data columns (total 6 columns):\n",
      " #   Column                     Non-Null Count  Dtype   \n",
      "---  ------                     --------------  -----   \n",
      " 0   NOME_MES_PARTIDA_PREVISTA  2 non-null      category\n",
      " 1   SIGLA_ICAO_EMPRESA_AEREA   2 non-null      string  \n",
      " 2   MES_PARTIDA_PREVISTA       2 non-null      int32   \n",
      " 3   SITUACAO_VOO               2 non-null      category\n",
      " 4   count                      2 non-null      int32   \n",
      " 5   proportion                 2 non-null      float32 \n",
      "dtypes: category(2), float32(1), int32(2), string(1)\n",
      "memory usage: 700.0 bytes\n"
     ]
    }
   ],
   "source": [
    "df_resultado.info()"
   ]
  },
  {
   "cell_type": "markdown",
   "metadata": {},
   "source": [
    "- Desempenho da Situação do Voo"
   ]
  },
  {
   "cell_type": "code",
   "execution_count": 212,
   "metadata": {},
   "outputs": [],
   "source": [
    "colunas = ['SIGLA_ICAO_EMPRESA_AEREA', 'SITUACAO_VOO', 'MES_PARTIDA_PREVISTA', 'NOME_MES_PARTIDA_PREVISTA', 'SIGLA_ICAO_AEROPORTO_ORIGEM']\n",
    "teste = pd.read_parquet('../data/processed/df_final.parquet', columns=colunas)"
   ]
  },
  {
   "cell_type": "code",
   "execution_count": 213,
   "metadata": {},
   "outputs": [
    {
     "data": {
      "text/html": [
       "<div>\n",
       "<style scoped>\n",
       "    .dataframe tbody tr th:only-of-type {\n",
       "        vertical-align: middle;\n",
       "    }\n",
       "\n",
       "    .dataframe tbody tr th {\n",
       "        vertical-align: top;\n",
       "    }\n",
       "\n",
       "    .dataframe thead th {\n",
       "        text-align: right;\n",
       "    }\n",
       "</style>\n",
       "<table border=\"1\" class=\"dataframe\">\n",
       "  <thead>\n",
       "    <tr style=\"text-align: right;\">\n",
       "      <th></th>\n",
       "      <th>SIGLA_ICAO_EMPRESA_AEREA</th>\n",
       "      <th>SITUACAO_VOO</th>\n",
       "      <th>MES_PARTIDA_PREVISTA</th>\n",
       "      <th>NOME_MES_PARTIDA_PREVISTA</th>\n",
       "      <th>SIGLA_ICAO_AEROPORTO_ORIGEM</th>\n",
       "    </tr>\n",
       "  </thead>\n",
       "  <tbody>\n",
       "    <tr>\n",
       "      <th>488380</th>\n",
       "      <td>TAM</td>\n",
       "      <td>REALIZADO</td>\n",
       "      <td>1</td>\n",
       "      <td>janeiro</td>\n",
       "      <td>SBRP</td>\n",
       "    </tr>\n",
       "    <tr>\n",
       "      <th>488381</th>\n",
       "      <td>TAM</td>\n",
       "      <td>REALIZADO</td>\n",
       "      <td>1</td>\n",
       "      <td>janeiro</td>\n",
       "      <td>SBRP</td>\n",
       "    </tr>\n",
       "    <tr>\n",
       "      <th>537779</th>\n",
       "      <td>TAM</td>\n",
       "      <td>REALIZADO</td>\n",
       "      <td>1</td>\n",
       "      <td>janeiro</td>\n",
       "      <td>SBRP</td>\n",
       "    </tr>\n",
       "    <tr>\n",
       "      <th>537780</th>\n",
       "      <td>TAM</td>\n",
       "      <td>REALIZADO</td>\n",
       "      <td>1</td>\n",
       "      <td>janeiro</td>\n",
       "      <td>SBRP</td>\n",
       "    </tr>\n",
       "    <tr>\n",
       "      <th>537781</th>\n",
       "      <td>TAM</td>\n",
       "      <td>REALIZADO</td>\n",
       "      <td>1</td>\n",
       "      <td>janeiro</td>\n",
       "      <td>SBRP</td>\n",
       "    </tr>\n",
       "  </tbody>\n",
       "</table>\n",
       "</div>"
      ],
      "text/plain": [
       "       SIGLA_ICAO_EMPRESA_AEREA SITUACAO_VOO  MES_PARTIDA_PREVISTA  \\\n",
       "488380                      TAM    REALIZADO                     1   \n",
       "488381                      TAM    REALIZADO                     1   \n",
       "537779                      TAM    REALIZADO                     1   \n",
       "537780                      TAM    REALIZADO                     1   \n",
       "537781                      TAM    REALIZADO                     1   \n",
       "\n",
       "       NOME_MES_PARTIDA_PREVISTA SIGLA_ICAO_AEROPORTO_ORIGEM  \n",
       "488380                   janeiro                        SBRP  \n",
       "488381                   janeiro                        SBRP  \n",
       "537779                   janeiro                        SBRP  \n",
       "537780                   janeiro                        SBRP  \n",
       "537781                   janeiro                        SBRP  "
      ]
     },
     "execution_count": 213,
     "metadata": {},
     "output_type": "execute_result"
    }
   ],
   "source": [
    "teste = teste.query('SIGLA_ICAO_EMPRESA_AEREA == \"TAM\"  ' \\\n",
    "            ' and SIGLA_ICAO_AEROPORTO_ORIGEM == \"SBRP\"'\n",
    "            ' and SITUACAO_VOO == \"REALIZADO\" ' \n",
    "            )\n",
    "\n",
    "teste.head()"
   ]
  },
  {
   "cell_type": "code",
   "execution_count": 218,
   "metadata": {},
   "outputs": [
    {
     "name": "stdout",
     "output_type": "stream",
     "text": [
      "<class 'pandas.core.frame.DataFrame'>\n",
      "Index: 345 entries, 488380 to 680870\n",
      "Data columns (total 5 columns):\n",
      " #   Column                       Non-Null Count  Dtype   \n",
      "---  ------                       --------------  -----   \n",
      " 0   SIGLA_ICAO_EMPRESA_AEREA     345 non-null    string  \n",
      " 1   SITUACAO_VOO                 345 non-null    category\n",
      " 2   MES_PARTIDA_PREVISTA         345 non-null    int32   \n",
      " 3   NOME_MES_PARTIDA_PREVISTA    345 non-null    category\n",
      " 4   SIGLA_ICAO_AEROPORTO_ORIGEM  345 non-null    string  \n",
      "dtypes: category(2), int32(1), string(2)\n",
      "memory usage: 10.6 KB\n"
     ]
    }
   ],
   "source": [
    "teste.info()"
   ]
  },
  {
   "cell_type": "code",
   "execution_count": 227,
   "metadata": {},
   "outputs": [
    {
     "name": "stdout",
     "output_type": "stream",
     "text": [
      "<class 'pandas.core.frame.DataFrame'>\n",
      "Index: 345 entries, 488380 to 680870\n",
      "Data columns (total 5 columns):\n",
      " #   Column                       Non-Null Count  Dtype \n",
      "---  ------                       --------------  ----- \n",
      " 0   SIGLA_ICAO_EMPRESA_AEREA     345 non-null    string\n",
      " 1   SITUACAO_VOO                 345 non-null    string\n",
      " 2   MES_PARTIDA_PREVISTA         345 non-null    int32 \n",
      " 3   NOME_MES_PARTIDA_PREVISTA    345 non-null    string\n",
      " 4   SIGLA_ICAO_AEROPORTO_ORIGEM  345 non-null    string\n",
      "dtypes: int32(1), string(4)\n",
      "memory usage: 14.8 KB\n"
     ]
    }
   ],
   "source": [
    "teste['SITUACAO_VOO'] = teste['SITUACAO_VOO'].astype('string')\n",
    "teste['NOME_MES_PARTIDA_PREVISTA'] = teste['NOME_MES_PARTIDA_PREVISTA'].astype('string')\n",
    "teste.info()"
   ]
  },
  {
   "cell_type": "code",
   "execution_count": 228,
   "metadata": {},
   "outputs": [
    {
     "data": {
      "text/html": [
       "<div>\n",
       "<style scoped>\n",
       "    .dataframe tbody tr th:only-of-type {\n",
       "        vertical-align: middle;\n",
       "    }\n",
       "\n",
       "    .dataframe tbody tr th {\n",
       "        vertical-align: top;\n",
       "    }\n",
       "\n",
       "    .dataframe thead th {\n",
       "        text-align: right;\n",
       "    }\n",
       "</style>\n",
       "<table border=\"1\" class=\"dataframe\">\n",
       "  <thead>\n",
       "    <tr style=\"text-align: right;\">\n",
       "      <th></th>\n",
       "      <th>MES_PARTIDA_PREVISTA</th>\n",
       "      <th>NOME_MES_PARTIDA_PREVISTA</th>\n",
       "      <th>SITUACAO_VOO</th>\n",
       "      <th>TOTAL_SITUACAO</th>\n",
       "    </tr>\n",
       "  </thead>\n",
       "  <tbody>\n",
       "    <tr>\n",
       "      <th>0</th>\n",
       "      <td>1</td>\n",
       "      <td>janeiro</td>\n",
       "      <td>REALIZADO</td>\n",
       "      <td>41</td>\n",
       "    </tr>\n",
       "    <tr>\n",
       "      <th>1</th>\n",
       "      <td>2</td>\n",
       "      <td>fevereiro</td>\n",
       "      <td>REALIZADO</td>\n",
       "      <td>20</td>\n",
       "    </tr>\n",
       "    <tr>\n",
       "      <th>2</th>\n",
       "      <td>3</td>\n",
       "      <td>março</td>\n",
       "      <td>REALIZADO</td>\n",
       "      <td>23</td>\n",
       "    </tr>\n",
       "    <tr>\n",
       "      <th>3</th>\n",
       "      <td>4</td>\n",
       "      <td>abril</td>\n",
       "      <td>REALIZADO</td>\n",
       "      <td>21</td>\n",
       "    </tr>\n",
       "    <tr>\n",
       "      <th>4</th>\n",
       "      <td>5</td>\n",
       "      <td>maio</td>\n",
       "      <td>REALIZADO</td>\n",
       "      <td>20</td>\n",
       "    </tr>\n",
       "    <tr>\n",
       "      <th>5</th>\n",
       "      <td>6</td>\n",
       "      <td>junho</td>\n",
       "      <td>REALIZADO</td>\n",
       "      <td>22</td>\n",
       "    </tr>\n",
       "    <tr>\n",
       "      <th>6</th>\n",
       "      <td>7</td>\n",
       "      <td>julho</td>\n",
       "      <td>REALIZADO</td>\n",
       "      <td>21</td>\n",
       "    </tr>\n",
       "    <tr>\n",
       "      <th>7</th>\n",
       "      <td>8</td>\n",
       "      <td>agosto</td>\n",
       "      <td>REALIZADO</td>\n",
       "      <td>23</td>\n",
       "    </tr>\n",
       "    <tr>\n",
       "      <th>8</th>\n",
       "      <td>9</td>\n",
       "      <td>setembro</td>\n",
       "      <td>REALIZADO</td>\n",
       "      <td>23</td>\n",
       "    </tr>\n",
       "    <tr>\n",
       "      <th>9</th>\n",
       "      <td>10</td>\n",
       "      <td>outubro</td>\n",
       "      <td>REALIZADO</td>\n",
       "      <td>24</td>\n",
       "    </tr>\n",
       "    <tr>\n",
       "      <th>10</th>\n",
       "      <td>11</td>\n",
       "      <td>novembro</td>\n",
       "      <td>REALIZADO</td>\n",
       "      <td>53</td>\n",
       "    </tr>\n",
       "    <tr>\n",
       "      <th>11</th>\n",
       "      <td>12</td>\n",
       "      <td>dezembro</td>\n",
       "      <td>REALIZADO</td>\n",
       "      <td>54</td>\n",
       "    </tr>\n",
       "  </tbody>\n",
       "</table>\n",
       "</div>"
      ],
      "text/plain": [
       "    MES_PARTIDA_PREVISTA NOME_MES_PARTIDA_PREVISTA SITUACAO_VOO  \\\n",
       "0                      1                   janeiro    REALIZADO   \n",
       "1                      2                 fevereiro    REALIZADO   \n",
       "2                      3                     março    REALIZADO   \n",
       "3                      4                     abril    REALIZADO   \n",
       "4                      5                      maio    REALIZADO   \n",
       "5                      6                     junho    REALIZADO   \n",
       "6                      7                     julho    REALIZADO   \n",
       "7                      8                    agosto    REALIZADO   \n",
       "8                      9                  setembro    REALIZADO   \n",
       "9                     10                   outubro    REALIZADO   \n",
       "10                    11                  novembro    REALIZADO   \n",
       "11                    12                  dezembro    REALIZADO   \n",
       "\n",
       "    TOTAL_SITUACAO  \n",
       "0               41  \n",
       "1               20  \n",
       "2               23  \n",
       "3               21  \n",
       "4               20  \n",
       "5               22  \n",
       "6               21  \n",
       "7               23  \n",
       "8               23  \n",
       "9               24  \n",
       "10              53  \n",
       "11              54  "
      ]
     },
     "execution_count": 228,
     "metadata": {},
     "output_type": "execute_result"
    }
   ],
   "source": [
    "teste_gb = teste.groupby(['MES_PARTIDA_PREVISTA', 'NOME_MES_PARTIDA_PREVISTA', 'SITUACAO_VOO'], observed=False).agg(\n",
    "    TOTAL_SITUACAO=('SITUACAO_VOO', 'count')\n",
    ")\n",
    "teste_gb.sort_values(by=['MES_PARTIDA_PREVISTA'], inplace=True)\n",
    "teste_gb.reset_index(inplace=True)\n",
    "teste_gb"
   ]
  },
  {
   "cell_type": "code",
   "execution_count": 229,
   "metadata": {},
   "outputs": [
    {
     "data": {
      "application/vnd.plotly.v1+json": {
       "config": {
        "plotlyServerURL": "https://plot.ly"
       },
       "data": [
        {
         "alignmentgroup": "True",
         "hovertemplate": "NOME_MES_PARTIDA_PREVISTA=%{x}<br>TOTAL_SITUACAO=%{y}<extra></extra>",
         "legendgroup": "",
         "marker": {
          "color": "#636efa",
          "pattern": {
           "shape": ""
          }
         },
         "name": "",
         "offsetgroup": "",
         "orientation": "v",
         "showlegend": false,
         "textposition": "outside",
         "texttemplate": "%{y}",
         "type": "bar",
         "x": [
          "janeiro",
          "fevereiro",
          "março",
          "abril",
          "maio",
          "junho",
          "julho",
          "agosto",
          "setembro",
          "outubro",
          "novembro",
          "dezembro"
         ],
         "xaxis": "x",
         "y": [
          41,
          20,
          23,
          21,
          20,
          22,
          21,
          23,
          23,
          24,
          53,
          54
         ],
         "yaxis": "y"
        }
       ],
       "layout": {
        "barmode": "relative",
        "legend": {
         "tracegroupgap": 0
        },
        "margin": {
         "t": 60
        },
        "template": {
         "data": {
          "bar": [
           {
            "error_x": {
             "color": "#2a3f5f"
            },
            "error_y": {
             "color": "#2a3f5f"
            },
            "marker": {
             "line": {
              "color": "#E5ECF6",
              "width": 0.5
             },
             "pattern": {
              "fillmode": "overlay",
              "size": 10,
              "solidity": 0.2
             }
            },
            "type": "bar"
           }
          ],
          "barpolar": [
           {
            "marker": {
             "line": {
              "color": "#E5ECF6",
              "width": 0.5
             },
             "pattern": {
              "fillmode": "overlay",
              "size": 10,
              "solidity": 0.2
             }
            },
            "type": "barpolar"
           }
          ],
          "carpet": [
           {
            "aaxis": {
             "endlinecolor": "#2a3f5f",
             "gridcolor": "white",
             "linecolor": "white",
             "minorgridcolor": "white",
             "startlinecolor": "#2a3f5f"
            },
            "baxis": {
             "endlinecolor": "#2a3f5f",
             "gridcolor": "white",
             "linecolor": "white",
             "minorgridcolor": "white",
             "startlinecolor": "#2a3f5f"
            },
            "type": "carpet"
           }
          ],
          "choropleth": [
           {
            "colorbar": {
             "outlinewidth": 0,
             "ticks": ""
            },
            "type": "choropleth"
           }
          ],
          "contour": [
           {
            "colorbar": {
             "outlinewidth": 0,
             "ticks": ""
            },
            "colorscale": [
             [
              0,
              "#0d0887"
             ],
             [
              0.1111111111111111,
              "#46039f"
             ],
             [
              0.2222222222222222,
              "#7201a8"
             ],
             [
              0.3333333333333333,
              "#9c179e"
             ],
             [
              0.4444444444444444,
              "#bd3786"
             ],
             [
              0.5555555555555556,
              "#d8576b"
             ],
             [
              0.6666666666666666,
              "#ed7953"
             ],
             [
              0.7777777777777778,
              "#fb9f3a"
             ],
             [
              0.8888888888888888,
              "#fdca26"
             ],
             [
              1,
              "#f0f921"
             ]
            ],
            "type": "contour"
           }
          ],
          "contourcarpet": [
           {
            "colorbar": {
             "outlinewidth": 0,
             "ticks": ""
            },
            "type": "contourcarpet"
           }
          ],
          "heatmap": [
           {
            "colorbar": {
             "outlinewidth": 0,
             "ticks": ""
            },
            "colorscale": [
             [
              0,
              "#0d0887"
             ],
             [
              0.1111111111111111,
              "#46039f"
             ],
             [
              0.2222222222222222,
              "#7201a8"
             ],
             [
              0.3333333333333333,
              "#9c179e"
             ],
             [
              0.4444444444444444,
              "#bd3786"
             ],
             [
              0.5555555555555556,
              "#d8576b"
             ],
             [
              0.6666666666666666,
              "#ed7953"
             ],
             [
              0.7777777777777778,
              "#fb9f3a"
             ],
             [
              0.8888888888888888,
              "#fdca26"
             ],
             [
              1,
              "#f0f921"
             ]
            ],
            "type": "heatmap"
           }
          ],
          "heatmapgl": [
           {
            "colorbar": {
             "outlinewidth": 0,
             "ticks": ""
            },
            "colorscale": [
             [
              0,
              "#0d0887"
             ],
             [
              0.1111111111111111,
              "#46039f"
             ],
             [
              0.2222222222222222,
              "#7201a8"
             ],
             [
              0.3333333333333333,
              "#9c179e"
             ],
             [
              0.4444444444444444,
              "#bd3786"
             ],
             [
              0.5555555555555556,
              "#d8576b"
             ],
             [
              0.6666666666666666,
              "#ed7953"
             ],
             [
              0.7777777777777778,
              "#fb9f3a"
             ],
             [
              0.8888888888888888,
              "#fdca26"
             ],
             [
              1,
              "#f0f921"
             ]
            ],
            "type": "heatmapgl"
           }
          ],
          "histogram": [
           {
            "marker": {
             "pattern": {
              "fillmode": "overlay",
              "size": 10,
              "solidity": 0.2
             }
            },
            "type": "histogram"
           }
          ],
          "histogram2d": [
           {
            "colorbar": {
             "outlinewidth": 0,
             "ticks": ""
            },
            "colorscale": [
             [
              0,
              "#0d0887"
             ],
             [
              0.1111111111111111,
              "#46039f"
             ],
             [
              0.2222222222222222,
              "#7201a8"
             ],
             [
              0.3333333333333333,
              "#9c179e"
             ],
             [
              0.4444444444444444,
              "#bd3786"
             ],
             [
              0.5555555555555556,
              "#d8576b"
             ],
             [
              0.6666666666666666,
              "#ed7953"
             ],
             [
              0.7777777777777778,
              "#fb9f3a"
             ],
             [
              0.8888888888888888,
              "#fdca26"
             ],
             [
              1,
              "#f0f921"
             ]
            ],
            "type": "histogram2d"
           }
          ],
          "histogram2dcontour": [
           {
            "colorbar": {
             "outlinewidth": 0,
             "ticks": ""
            },
            "colorscale": [
             [
              0,
              "#0d0887"
             ],
             [
              0.1111111111111111,
              "#46039f"
             ],
             [
              0.2222222222222222,
              "#7201a8"
             ],
             [
              0.3333333333333333,
              "#9c179e"
             ],
             [
              0.4444444444444444,
              "#bd3786"
             ],
             [
              0.5555555555555556,
              "#d8576b"
             ],
             [
              0.6666666666666666,
              "#ed7953"
             ],
             [
              0.7777777777777778,
              "#fb9f3a"
             ],
             [
              0.8888888888888888,
              "#fdca26"
             ],
             [
              1,
              "#f0f921"
             ]
            ],
            "type": "histogram2dcontour"
           }
          ],
          "mesh3d": [
           {
            "colorbar": {
             "outlinewidth": 0,
             "ticks": ""
            },
            "type": "mesh3d"
           }
          ],
          "parcoords": [
           {
            "line": {
             "colorbar": {
              "outlinewidth": 0,
              "ticks": ""
             }
            },
            "type": "parcoords"
           }
          ],
          "pie": [
           {
            "automargin": true,
            "type": "pie"
           }
          ],
          "scatter": [
           {
            "fillpattern": {
             "fillmode": "overlay",
             "size": 10,
             "solidity": 0.2
            },
            "type": "scatter"
           }
          ],
          "scatter3d": [
           {
            "line": {
             "colorbar": {
              "outlinewidth": 0,
              "ticks": ""
             }
            },
            "marker": {
             "colorbar": {
              "outlinewidth": 0,
              "ticks": ""
             }
            },
            "type": "scatter3d"
           }
          ],
          "scattercarpet": [
           {
            "marker": {
             "colorbar": {
              "outlinewidth": 0,
              "ticks": ""
             }
            },
            "type": "scattercarpet"
           }
          ],
          "scattergeo": [
           {
            "marker": {
             "colorbar": {
              "outlinewidth": 0,
              "ticks": ""
             }
            },
            "type": "scattergeo"
           }
          ],
          "scattergl": [
           {
            "marker": {
             "colorbar": {
              "outlinewidth": 0,
              "ticks": ""
             }
            },
            "type": "scattergl"
           }
          ],
          "scattermapbox": [
           {
            "marker": {
             "colorbar": {
              "outlinewidth": 0,
              "ticks": ""
             }
            },
            "type": "scattermapbox"
           }
          ],
          "scatterpolar": [
           {
            "marker": {
             "colorbar": {
              "outlinewidth": 0,
              "ticks": ""
             }
            },
            "type": "scatterpolar"
           }
          ],
          "scatterpolargl": [
           {
            "marker": {
             "colorbar": {
              "outlinewidth": 0,
              "ticks": ""
             }
            },
            "type": "scatterpolargl"
           }
          ],
          "scatterternary": [
           {
            "marker": {
             "colorbar": {
              "outlinewidth": 0,
              "ticks": ""
             }
            },
            "type": "scatterternary"
           }
          ],
          "surface": [
           {
            "colorbar": {
             "outlinewidth": 0,
             "ticks": ""
            },
            "colorscale": [
             [
              0,
              "#0d0887"
             ],
             [
              0.1111111111111111,
              "#46039f"
             ],
             [
              0.2222222222222222,
              "#7201a8"
             ],
             [
              0.3333333333333333,
              "#9c179e"
             ],
             [
              0.4444444444444444,
              "#bd3786"
             ],
             [
              0.5555555555555556,
              "#d8576b"
             ],
             [
              0.6666666666666666,
              "#ed7953"
             ],
             [
              0.7777777777777778,
              "#fb9f3a"
             ],
             [
              0.8888888888888888,
              "#fdca26"
             ],
             [
              1,
              "#f0f921"
             ]
            ],
            "type": "surface"
           }
          ],
          "table": [
           {
            "cells": {
             "fill": {
              "color": "#EBF0F8"
             },
             "line": {
              "color": "white"
             }
            },
            "header": {
             "fill": {
              "color": "#C8D4E3"
             },
             "line": {
              "color": "white"
             }
            },
            "type": "table"
           }
          ]
         },
         "layout": {
          "annotationdefaults": {
           "arrowcolor": "#2a3f5f",
           "arrowhead": 0,
           "arrowwidth": 1
          },
          "autotypenumbers": "strict",
          "coloraxis": {
           "colorbar": {
            "outlinewidth": 0,
            "ticks": ""
           }
          },
          "colorscale": {
           "diverging": [
            [
             0,
             "#8e0152"
            ],
            [
             0.1,
             "#c51b7d"
            ],
            [
             0.2,
             "#de77ae"
            ],
            [
             0.3,
             "#f1b6da"
            ],
            [
             0.4,
             "#fde0ef"
            ],
            [
             0.5,
             "#f7f7f7"
            ],
            [
             0.6,
             "#e6f5d0"
            ],
            [
             0.7,
             "#b8e186"
            ],
            [
             0.8,
             "#7fbc41"
            ],
            [
             0.9,
             "#4d9221"
            ],
            [
             1,
             "#276419"
            ]
           ],
           "sequential": [
            [
             0,
             "#0d0887"
            ],
            [
             0.1111111111111111,
             "#46039f"
            ],
            [
             0.2222222222222222,
             "#7201a8"
            ],
            [
             0.3333333333333333,
             "#9c179e"
            ],
            [
             0.4444444444444444,
             "#bd3786"
            ],
            [
             0.5555555555555556,
             "#d8576b"
            ],
            [
             0.6666666666666666,
             "#ed7953"
            ],
            [
             0.7777777777777778,
             "#fb9f3a"
            ],
            [
             0.8888888888888888,
             "#fdca26"
            ],
            [
             1,
             "#f0f921"
            ]
           ],
           "sequentialminus": [
            [
             0,
             "#0d0887"
            ],
            [
             0.1111111111111111,
             "#46039f"
            ],
            [
             0.2222222222222222,
             "#7201a8"
            ],
            [
             0.3333333333333333,
             "#9c179e"
            ],
            [
             0.4444444444444444,
             "#bd3786"
            ],
            [
             0.5555555555555556,
             "#d8576b"
            ],
            [
             0.6666666666666666,
             "#ed7953"
            ],
            [
             0.7777777777777778,
             "#fb9f3a"
            ],
            [
             0.8888888888888888,
             "#fdca26"
            ],
            [
             1,
             "#f0f921"
            ]
           ]
          },
          "colorway": [
           "#636efa",
           "#EF553B",
           "#00cc96",
           "#ab63fa",
           "#FFA15A",
           "#19d3f3",
           "#FF6692",
           "#B6E880",
           "#FF97FF",
           "#FECB52"
          ],
          "font": {
           "color": "#2a3f5f"
          },
          "geo": {
           "bgcolor": "white",
           "lakecolor": "white",
           "landcolor": "#E5ECF6",
           "showlakes": true,
           "showland": true,
           "subunitcolor": "white"
          },
          "hoverlabel": {
           "align": "left"
          },
          "hovermode": "closest",
          "mapbox": {
           "style": "light"
          },
          "paper_bgcolor": "white",
          "plot_bgcolor": "#E5ECF6",
          "polar": {
           "angularaxis": {
            "gridcolor": "white",
            "linecolor": "white",
            "ticks": ""
           },
           "bgcolor": "#E5ECF6",
           "radialaxis": {
            "gridcolor": "white",
            "linecolor": "white",
            "ticks": ""
           }
          },
          "scene": {
           "xaxis": {
            "backgroundcolor": "#E5ECF6",
            "gridcolor": "white",
            "gridwidth": 2,
            "linecolor": "white",
            "showbackground": true,
            "ticks": "",
            "zerolinecolor": "white"
           },
           "yaxis": {
            "backgroundcolor": "#E5ECF6",
            "gridcolor": "white",
            "gridwidth": 2,
            "linecolor": "white",
            "showbackground": true,
            "ticks": "",
            "zerolinecolor": "white"
           },
           "zaxis": {
            "backgroundcolor": "#E5ECF6",
            "gridcolor": "white",
            "gridwidth": 2,
            "linecolor": "white",
            "showbackground": true,
            "ticks": "",
            "zerolinecolor": "white"
           }
          },
          "shapedefaults": {
           "line": {
            "color": "#2a3f5f"
           }
          },
          "ternary": {
           "aaxis": {
            "gridcolor": "white",
            "linecolor": "white",
            "ticks": ""
           },
           "baxis": {
            "gridcolor": "white",
            "linecolor": "white",
            "ticks": ""
           },
           "bgcolor": "#E5ECF6",
           "caxis": {
            "gridcolor": "white",
            "linecolor": "white",
            "ticks": ""
           }
          },
          "title": {
           "x": 0.05
          },
          "xaxis": {
           "automargin": true,
           "gridcolor": "white",
           "linecolor": "white",
           "ticks": "",
           "title": {
            "standoff": 15
           },
           "zerolinecolor": "white",
           "zerolinewidth": 2
          },
          "yaxis": {
           "automargin": true,
           "gridcolor": "white",
           "linecolor": "white",
           "ticks": "",
           "title": {
            "standoff": 15
           },
           "zerolinecolor": "white",
           "zerolinewidth": 2
          }
         }
        },
        "xaxis": {
         "anchor": "y",
         "domain": [
          0,
          1
         ],
         "title": {
          "text": "NOME_MES_PARTIDA_PREVISTA"
         }
        },
        "yaxis": {
         "anchor": "x",
         "domain": [
          0,
          1
         ],
         "title": {
          "text": "TOTAL_SITUACAO"
         }
        }
       }
      }
     },
     "metadata": {},
     "output_type": "display_data"
    }
   ],
   "source": [
    "fig = px.bar(\n",
    "    teste_gb, \n",
    "    x='NOME_MES_PARTIDA_PREVISTA', \n",
    "    y='TOTAL_SITUACAO', \n",
    "    text_auto=True,\n",
    ")\n",
    "fig.update_traces(\n",
    "    textposition='outside'\n",
    ")\n",
    "fig.show()"
   ]
  },
  {
   "cell_type": "markdown",
   "metadata": {},
   "source": [
    "- Total de Vôos por aeroporto"
   ]
  },
  {
   "cell_type": "code",
   "execution_count": 230,
   "metadata": {},
   "outputs": [],
   "source": [
    "\n",
    "colunas = ['NOME_AEROPORTO_ORIGEM', 'MES_PARTIDA_PREVISTA', 'NOME_MES_PARTIDA_PREVISTA', 'SIGLA_ICAO_AEROPORTO_ORIGEM']\n",
    "teste = pd.read_parquet('../data/processed/df_final.parquet', columns=colunas)"
   ]
  },
  {
   "cell_type": "code",
   "execution_count": 231,
   "metadata": {},
   "outputs": [
    {
     "data": {
      "text/html": [
       "<div>\n",
       "<style scoped>\n",
       "    .dataframe tbody tr th:only-of-type {\n",
       "        vertical-align: middle;\n",
       "    }\n",
       "\n",
       "    .dataframe tbody tr th {\n",
       "        vertical-align: top;\n",
       "    }\n",
       "\n",
       "    .dataframe thead th {\n",
       "        text-align: right;\n",
       "    }\n",
       "</style>\n",
       "<table border=\"1\" class=\"dataframe\">\n",
       "  <thead>\n",
       "    <tr style=\"text-align: right;\">\n",
       "      <th></th>\n",
       "      <th>NOME_AEROPORTO_ORIGEM</th>\n",
       "      <th>MES_PARTIDA_PREVISTA</th>\n",
       "      <th>NOME_MES_PARTIDA_PREVISTA</th>\n",
       "      <th>SIGLA_ICAO_AEROPORTO_ORIGEM</th>\n",
       "    </tr>\n",
       "  </thead>\n",
       "  <tbody>\n",
       "    <tr>\n",
       "      <th>1929</th>\n",
       "      <td>LEITE LOPES</td>\n",
       "      <td>1</td>\n",
       "      <td>janeiro</td>\n",
       "      <td>SBRP</td>\n",
       "    </tr>\n",
       "    <tr>\n",
       "      <th>1930</th>\n",
       "      <td>LEITE LOPES</td>\n",
       "      <td>1</td>\n",
       "      <td>janeiro</td>\n",
       "      <td>SBRP</td>\n",
       "    </tr>\n",
       "    <tr>\n",
       "      <th>1931</th>\n",
       "      <td>LEITE LOPES</td>\n",
       "      <td>1</td>\n",
       "      <td>janeiro</td>\n",
       "      <td>SBRP</td>\n",
       "    </tr>\n",
       "    <tr>\n",
       "      <th>1932</th>\n",
       "      <td>LEITE LOPES</td>\n",
       "      <td>1</td>\n",
       "      <td>janeiro</td>\n",
       "      <td>SBRP</td>\n",
       "    </tr>\n",
       "    <tr>\n",
       "      <th>1933</th>\n",
       "      <td>LEITE LOPES</td>\n",
       "      <td>1</td>\n",
       "      <td>janeiro</td>\n",
       "      <td>SBRP</td>\n",
       "    </tr>\n",
       "    <tr>\n",
       "      <th>...</th>\n",
       "      <td>...</td>\n",
       "      <td>...</td>\n",
       "      <td>...</td>\n",
       "      <td>...</td>\n",
       "    </tr>\n",
       "    <tr>\n",
       "      <th>707275</th>\n",
       "      <td>LEITE LOPES</td>\n",
       "      <td>1</td>\n",
       "      <td>janeiro</td>\n",
       "      <td>SBRP</td>\n",
       "    </tr>\n",
       "    <tr>\n",
       "      <th>707479</th>\n",
       "      <td>LEITE LOPES</td>\n",
       "      <td>1</td>\n",
       "      <td>janeiro</td>\n",
       "      <td>SBRP</td>\n",
       "    </tr>\n",
       "    <tr>\n",
       "      <th>707480</th>\n",
       "      <td>LEITE LOPES</td>\n",
       "      <td>1</td>\n",
       "      <td>janeiro</td>\n",
       "      <td>SBRP</td>\n",
       "    </tr>\n",
       "    <tr>\n",
       "      <th>707481</th>\n",
       "      <td>LEITE LOPES</td>\n",
       "      <td>1</td>\n",
       "      <td>janeiro</td>\n",
       "      <td>SBRP</td>\n",
       "    </tr>\n",
       "    <tr>\n",
       "      <th>710551</th>\n",
       "      <td>LEITE LOPES</td>\n",
       "      <td>1</td>\n",
       "      <td>janeiro</td>\n",
       "      <td>SBRP</td>\n",
       "    </tr>\n",
       "  </tbody>\n",
       "</table>\n",
       "<p>4955 rows × 4 columns</p>\n",
       "</div>"
      ],
      "text/plain": [
       "       NOME_AEROPORTO_ORIGEM  MES_PARTIDA_PREVISTA NOME_MES_PARTIDA_PREVISTA  \\\n",
       "1929             LEITE LOPES                     1                   janeiro   \n",
       "1930             LEITE LOPES                     1                   janeiro   \n",
       "1931             LEITE LOPES                     1                   janeiro   \n",
       "1932             LEITE LOPES                     1                   janeiro   \n",
       "1933             LEITE LOPES                     1                   janeiro   \n",
       "...                      ...                   ...                       ...   \n",
       "707275           LEITE LOPES                     1                   janeiro   \n",
       "707479           LEITE LOPES                     1                   janeiro   \n",
       "707480           LEITE LOPES                     1                   janeiro   \n",
       "707481           LEITE LOPES                     1                   janeiro   \n",
       "710551           LEITE LOPES                     1                   janeiro   \n",
       "\n",
       "       SIGLA_ICAO_AEROPORTO_ORIGEM  \n",
       "1929                          SBRP  \n",
       "1930                          SBRP  \n",
       "1931                          SBRP  \n",
       "1932                          SBRP  \n",
       "1933                          SBRP  \n",
       "...                            ...  \n",
       "707275                        SBRP  \n",
       "707479                        SBRP  \n",
       "707480                        SBRP  \n",
       "707481                        SBRP  \n",
       "710551                        SBRP  \n",
       "\n",
       "[4955 rows x 4 columns]"
      ]
     },
     "execution_count": 231,
     "metadata": {},
     "output_type": "execute_result"
    }
   ],
   "source": [
    "teste.query('SIGLA_ICAO_AEROPORTO_ORIGEM == \"SBRP\"')"
   ]
  },
  {
   "cell_type": "code",
   "execution_count": 233,
   "metadata": {},
   "outputs": [
    {
     "name": "stdout",
     "output_type": "stream",
     "text": [
      "<class 'pandas.core.frame.DataFrame'>\n",
      "RangeIndex: 717357 entries, 0 to 717356\n",
      "Data columns (total 4 columns):\n",
      " #   Column                       Non-Null Count   Dtype   \n",
      "---  ------                       --------------   -----   \n",
      " 0   NOME_AEROPORTO_ORIGEM        717357 non-null  string  \n",
      " 1   MES_PARTIDA_PREVISTA         717357 non-null  int32   \n",
      " 2   NOME_MES_PARTIDA_PREVISTA    717357 non-null  category\n",
      " 3   SIGLA_ICAO_AEROPORTO_ORIGEM  717357 non-null  string  \n",
      "dtypes: category(1), int32(1), string(2)\n",
      "memory usage: 14.4 MB\n"
     ]
    }
   ],
   "source": [
    "teste.info()"
   ]
  },
  {
   "cell_type": "code",
   "execution_count": 234,
   "metadata": {},
   "outputs": [],
   "source": [
    "teste['NOME_MES_PARTIDA_PREVISTA'] = teste['NOME_MES_PARTIDA_PREVISTA'].astype('string')"
   ]
  },
  {
   "cell_type": "code",
   "execution_count": 239,
   "metadata": {},
   "outputs": [],
   "source": [
    "total_voos =teste.groupby(['MES_PARTIDA_PREVISTA', 'NOME_MES_PARTIDA_PREVISTA']).agg(\n",
    "    TOTAL_VOOS=('NOME_AEROPORTO_ORIGEM', 'count')\n",
    ")\n",
    "total_voos.reset_index(inplace=True)\n",
    "total_voos['TOTAL_VOOS'] = total_voos['TOTAL_VOOS'].astype('int32')\n"
   ]
  },
  {
   "cell_type": "code",
   "execution_count": 240,
   "metadata": {},
   "outputs": [
    {
     "data": {
      "text/html": [
       "<div>\n",
       "<style scoped>\n",
       "    .dataframe tbody tr th:only-of-type {\n",
       "        vertical-align: middle;\n",
       "    }\n",
       "\n",
       "    .dataframe tbody tr th {\n",
       "        vertical-align: top;\n",
       "    }\n",
       "\n",
       "    .dataframe thead th {\n",
       "        text-align: right;\n",
       "    }\n",
       "</style>\n",
       "<table border=\"1\" class=\"dataframe\">\n",
       "  <thead>\n",
       "    <tr style=\"text-align: right;\">\n",
       "      <th></th>\n",
       "      <th>MES_PARTIDA_PREVISTA</th>\n",
       "      <th>NOME_MES_PARTIDA_PREVISTA</th>\n",
       "      <th>TOTAL_VOOS</th>\n",
       "    </tr>\n",
       "  </thead>\n",
       "  <tbody>\n",
       "    <tr>\n",
       "      <th>0</th>\n",
       "      <td>1</td>\n",
       "      <td>janeiro</td>\n",
       "      <td>78523</td>\n",
       "    </tr>\n",
       "    <tr>\n",
       "      <th>1</th>\n",
       "      <td>2</td>\n",
       "      <td>fevereiro</td>\n",
       "      <td>46597</td>\n",
       "    </tr>\n",
       "    <tr>\n",
       "      <th>2</th>\n",
       "      <td>3</td>\n",
       "      <td>março</td>\n",
       "      <td>54542</td>\n",
       "    </tr>\n",
       "    <tr>\n",
       "      <th>3</th>\n",
       "      <td>4</td>\n",
       "      <td>abril</td>\n",
       "      <td>52739</td>\n",
       "    </tr>\n",
       "    <tr>\n",
       "      <th>4</th>\n",
       "      <td>5</td>\n",
       "      <td>maio</td>\n",
       "      <td>58631</td>\n",
       "    </tr>\n",
       "    <tr>\n",
       "      <th>5</th>\n",
       "      <td>6</td>\n",
       "      <td>junho</td>\n",
       "      <td>55320</td>\n",
       "    </tr>\n",
       "    <tr>\n",
       "      <th>6</th>\n",
       "      <td>7</td>\n",
       "      <td>julho</td>\n",
       "      <td>63666</td>\n",
       "    </tr>\n",
       "    <tr>\n",
       "      <th>7</th>\n",
       "      <td>8</td>\n",
       "      <td>agosto</td>\n",
       "      <td>60677</td>\n",
       "    </tr>\n",
       "    <tr>\n",
       "      <th>8</th>\n",
       "      <td>9</td>\n",
       "      <td>setembro</td>\n",
       "      <td>58683</td>\n",
       "    </tr>\n",
       "    <tr>\n",
       "      <th>9</th>\n",
       "      <td>10</td>\n",
       "      <td>outubro</td>\n",
       "      <td>61976</td>\n",
       "    </tr>\n",
       "    <tr>\n",
       "      <th>10</th>\n",
       "      <td>11</td>\n",
       "      <td>novembro</td>\n",
       "      <td>60523</td>\n",
       "    </tr>\n",
       "    <tr>\n",
       "      <th>11</th>\n",
       "      <td>12</td>\n",
       "      <td>dezembro</td>\n",
       "      <td>65480</td>\n",
       "    </tr>\n",
       "  </tbody>\n",
       "</table>\n",
       "</div>"
      ],
      "text/plain": [
       "    MES_PARTIDA_PREVISTA NOME_MES_PARTIDA_PREVISTA  TOTAL_VOOS\n",
       "0                      1                   janeiro       78523\n",
       "1                      2                 fevereiro       46597\n",
       "2                      3                     março       54542\n",
       "3                      4                     abril       52739\n",
       "4                      5                      maio       58631\n",
       "5                      6                     junho       55320\n",
       "6                      7                     julho       63666\n",
       "7                      8                    agosto       60677\n",
       "8                      9                  setembro       58683\n",
       "9                     10                   outubro       61976\n",
       "10                    11                  novembro       60523\n",
       "11                    12                  dezembro       65480"
      ]
     },
     "execution_count": 240,
     "metadata": {},
     "output_type": "execute_result"
    }
   ],
   "source": [
    "total_voos"
   ]
  },
  {
   "cell_type": "code",
   "execution_count": 241,
   "metadata": {},
   "outputs": [
    {
     "name": "stdout",
     "output_type": "stream",
     "text": [
      "<class 'pandas.core.frame.DataFrame'>\n",
      "RangeIndex: 12 entries, 0 to 11\n",
      "Data columns (total 3 columns):\n",
      " #   Column                     Non-Null Count  Dtype \n",
      "---  ------                     --------------  ----- \n",
      " 0   MES_PARTIDA_PREVISTA       12 non-null     int32 \n",
      " 1   NOME_MES_PARTIDA_PREVISTA  12 non-null     string\n",
      " 2   TOTAL_VOOS                 12 non-null     int32 \n",
      "dtypes: int32(2), string(1)\n",
      "memory usage: 320.0 bytes\n"
     ]
    }
   ],
   "source": [
    "total_voos.info()"
   ]
  },
  {
   "cell_type": "code",
   "execution_count": 242,
   "metadata": {},
   "outputs": [
    {
     "data": {
      "application/vnd.plotly.v1+json": {
       "config": {
        "plotlyServerURL": "https://plot.ly"
       },
       "data": [
        {
         "alignmentgroup": "True",
         "hovertemplate": "NOME_MES_PARTIDA_PREVISTA=%{x}<br>TOTAL_VOOS=%{y}<extra></extra>",
         "legendgroup": "",
         "marker": {
          "color": "#636efa",
          "pattern": {
           "shape": ""
          }
         },
         "name": "",
         "offsetgroup": "",
         "orientation": "v",
         "showlegend": false,
         "textposition": "outside",
         "texttemplate": "%{y:0}",
         "type": "bar",
         "x": [
          "janeiro",
          "fevereiro",
          "março",
          "abril",
          "maio",
          "junho",
          "julho",
          "agosto",
          "setembro",
          "outubro",
          "novembro",
          "dezembro"
         ],
         "xaxis": "x",
         "y": [
          78523,
          46597,
          54542,
          52739,
          58631,
          55320,
          63666,
          60677,
          58683,
          61976,
          60523,
          65480
         ],
         "yaxis": "y"
        }
       ],
       "layout": {
        "barmode": "relative",
        "legend": {
         "tracegroupgap": 0
        },
        "margin": {
         "t": 60
        },
        "template": {
         "data": {
          "bar": [
           {
            "error_x": {
             "color": "#2a3f5f"
            },
            "error_y": {
             "color": "#2a3f5f"
            },
            "marker": {
             "line": {
              "color": "#E5ECF6",
              "width": 0.5
             },
             "pattern": {
              "fillmode": "overlay",
              "size": 10,
              "solidity": 0.2
             }
            },
            "type": "bar"
           }
          ],
          "barpolar": [
           {
            "marker": {
             "line": {
              "color": "#E5ECF6",
              "width": 0.5
             },
             "pattern": {
              "fillmode": "overlay",
              "size": 10,
              "solidity": 0.2
             }
            },
            "type": "barpolar"
           }
          ],
          "carpet": [
           {
            "aaxis": {
             "endlinecolor": "#2a3f5f",
             "gridcolor": "white",
             "linecolor": "white",
             "minorgridcolor": "white",
             "startlinecolor": "#2a3f5f"
            },
            "baxis": {
             "endlinecolor": "#2a3f5f",
             "gridcolor": "white",
             "linecolor": "white",
             "minorgridcolor": "white",
             "startlinecolor": "#2a3f5f"
            },
            "type": "carpet"
           }
          ],
          "choropleth": [
           {
            "colorbar": {
             "outlinewidth": 0,
             "ticks": ""
            },
            "type": "choropleth"
           }
          ],
          "contour": [
           {
            "colorbar": {
             "outlinewidth": 0,
             "ticks": ""
            },
            "colorscale": [
             [
              0,
              "#0d0887"
             ],
             [
              0.1111111111111111,
              "#46039f"
             ],
             [
              0.2222222222222222,
              "#7201a8"
             ],
             [
              0.3333333333333333,
              "#9c179e"
             ],
             [
              0.4444444444444444,
              "#bd3786"
             ],
             [
              0.5555555555555556,
              "#d8576b"
             ],
             [
              0.6666666666666666,
              "#ed7953"
             ],
             [
              0.7777777777777778,
              "#fb9f3a"
             ],
             [
              0.8888888888888888,
              "#fdca26"
             ],
             [
              1,
              "#f0f921"
             ]
            ],
            "type": "contour"
           }
          ],
          "contourcarpet": [
           {
            "colorbar": {
             "outlinewidth": 0,
             "ticks": ""
            },
            "type": "contourcarpet"
           }
          ],
          "heatmap": [
           {
            "colorbar": {
             "outlinewidth": 0,
             "ticks": ""
            },
            "colorscale": [
             [
              0,
              "#0d0887"
             ],
             [
              0.1111111111111111,
              "#46039f"
             ],
             [
              0.2222222222222222,
              "#7201a8"
             ],
             [
              0.3333333333333333,
              "#9c179e"
             ],
             [
              0.4444444444444444,
              "#bd3786"
             ],
             [
              0.5555555555555556,
              "#d8576b"
             ],
             [
              0.6666666666666666,
              "#ed7953"
             ],
             [
              0.7777777777777778,
              "#fb9f3a"
             ],
             [
              0.8888888888888888,
              "#fdca26"
             ],
             [
              1,
              "#f0f921"
             ]
            ],
            "type": "heatmap"
           }
          ],
          "heatmapgl": [
           {
            "colorbar": {
             "outlinewidth": 0,
             "ticks": ""
            },
            "colorscale": [
             [
              0,
              "#0d0887"
             ],
             [
              0.1111111111111111,
              "#46039f"
             ],
             [
              0.2222222222222222,
              "#7201a8"
             ],
             [
              0.3333333333333333,
              "#9c179e"
             ],
             [
              0.4444444444444444,
              "#bd3786"
             ],
             [
              0.5555555555555556,
              "#d8576b"
             ],
             [
              0.6666666666666666,
              "#ed7953"
             ],
             [
              0.7777777777777778,
              "#fb9f3a"
             ],
             [
              0.8888888888888888,
              "#fdca26"
             ],
             [
              1,
              "#f0f921"
             ]
            ],
            "type": "heatmapgl"
           }
          ],
          "histogram": [
           {
            "marker": {
             "pattern": {
              "fillmode": "overlay",
              "size": 10,
              "solidity": 0.2
             }
            },
            "type": "histogram"
           }
          ],
          "histogram2d": [
           {
            "colorbar": {
             "outlinewidth": 0,
             "ticks": ""
            },
            "colorscale": [
             [
              0,
              "#0d0887"
             ],
             [
              0.1111111111111111,
              "#46039f"
             ],
             [
              0.2222222222222222,
              "#7201a8"
             ],
             [
              0.3333333333333333,
              "#9c179e"
             ],
             [
              0.4444444444444444,
              "#bd3786"
             ],
             [
              0.5555555555555556,
              "#d8576b"
             ],
             [
              0.6666666666666666,
              "#ed7953"
             ],
             [
              0.7777777777777778,
              "#fb9f3a"
             ],
             [
              0.8888888888888888,
              "#fdca26"
             ],
             [
              1,
              "#f0f921"
             ]
            ],
            "type": "histogram2d"
           }
          ],
          "histogram2dcontour": [
           {
            "colorbar": {
             "outlinewidth": 0,
             "ticks": ""
            },
            "colorscale": [
             [
              0,
              "#0d0887"
             ],
             [
              0.1111111111111111,
              "#46039f"
             ],
             [
              0.2222222222222222,
              "#7201a8"
             ],
             [
              0.3333333333333333,
              "#9c179e"
             ],
             [
              0.4444444444444444,
              "#bd3786"
             ],
             [
              0.5555555555555556,
              "#d8576b"
             ],
             [
              0.6666666666666666,
              "#ed7953"
             ],
             [
              0.7777777777777778,
              "#fb9f3a"
             ],
             [
              0.8888888888888888,
              "#fdca26"
             ],
             [
              1,
              "#f0f921"
             ]
            ],
            "type": "histogram2dcontour"
           }
          ],
          "mesh3d": [
           {
            "colorbar": {
             "outlinewidth": 0,
             "ticks": ""
            },
            "type": "mesh3d"
           }
          ],
          "parcoords": [
           {
            "line": {
             "colorbar": {
              "outlinewidth": 0,
              "ticks": ""
             }
            },
            "type": "parcoords"
           }
          ],
          "pie": [
           {
            "automargin": true,
            "type": "pie"
           }
          ],
          "scatter": [
           {
            "fillpattern": {
             "fillmode": "overlay",
             "size": 10,
             "solidity": 0.2
            },
            "type": "scatter"
           }
          ],
          "scatter3d": [
           {
            "line": {
             "colorbar": {
              "outlinewidth": 0,
              "ticks": ""
             }
            },
            "marker": {
             "colorbar": {
              "outlinewidth": 0,
              "ticks": ""
             }
            },
            "type": "scatter3d"
           }
          ],
          "scattercarpet": [
           {
            "marker": {
             "colorbar": {
              "outlinewidth": 0,
              "ticks": ""
             }
            },
            "type": "scattercarpet"
           }
          ],
          "scattergeo": [
           {
            "marker": {
             "colorbar": {
              "outlinewidth": 0,
              "ticks": ""
             }
            },
            "type": "scattergeo"
           }
          ],
          "scattergl": [
           {
            "marker": {
             "colorbar": {
              "outlinewidth": 0,
              "ticks": ""
             }
            },
            "type": "scattergl"
           }
          ],
          "scattermapbox": [
           {
            "marker": {
             "colorbar": {
              "outlinewidth": 0,
              "ticks": ""
             }
            },
            "type": "scattermapbox"
           }
          ],
          "scatterpolar": [
           {
            "marker": {
             "colorbar": {
              "outlinewidth": 0,
              "ticks": ""
             }
            },
            "type": "scatterpolar"
           }
          ],
          "scatterpolargl": [
           {
            "marker": {
             "colorbar": {
              "outlinewidth": 0,
              "ticks": ""
             }
            },
            "type": "scatterpolargl"
           }
          ],
          "scatterternary": [
           {
            "marker": {
             "colorbar": {
              "outlinewidth": 0,
              "ticks": ""
             }
            },
            "type": "scatterternary"
           }
          ],
          "surface": [
           {
            "colorbar": {
             "outlinewidth": 0,
             "ticks": ""
            },
            "colorscale": [
             [
              0,
              "#0d0887"
             ],
             [
              0.1111111111111111,
              "#46039f"
             ],
             [
              0.2222222222222222,
              "#7201a8"
             ],
             [
              0.3333333333333333,
              "#9c179e"
             ],
             [
              0.4444444444444444,
              "#bd3786"
             ],
             [
              0.5555555555555556,
              "#d8576b"
             ],
             [
              0.6666666666666666,
              "#ed7953"
             ],
             [
              0.7777777777777778,
              "#fb9f3a"
             ],
             [
              0.8888888888888888,
              "#fdca26"
             ],
             [
              1,
              "#f0f921"
             ]
            ],
            "type": "surface"
           }
          ],
          "table": [
           {
            "cells": {
             "fill": {
              "color": "#EBF0F8"
             },
             "line": {
              "color": "white"
             }
            },
            "header": {
             "fill": {
              "color": "#C8D4E3"
             },
             "line": {
              "color": "white"
             }
            },
            "type": "table"
           }
          ]
         },
         "layout": {
          "annotationdefaults": {
           "arrowcolor": "#2a3f5f",
           "arrowhead": 0,
           "arrowwidth": 1
          },
          "autotypenumbers": "strict",
          "coloraxis": {
           "colorbar": {
            "outlinewidth": 0,
            "ticks": ""
           }
          },
          "colorscale": {
           "diverging": [
            [
             0,
             "#8e0152"
            ],
            [
             0.1,
             "#c51b7d"
            ],
            [
             0.2,
             "#de77ae"
            ],
            [
             0.3,
             "#f1b6da"
            ],
            [
             0.4,
             "#fde0ef"
            ],
            [
             0.5,
             "#f7f7f7"
            ],
            [
             0.6,
             "#e6f5d0"
            ],
            [
             0.7,
             "#b8e186"
            ],
            [
             0.8,
             "#7fbc41"
            ],
            [
             0.9,
             "#4d9221"
            ],
            [
             1,
             "#276419"
            ]
           ],
           "sequential": [
            [
             0,
             "#0d0887"
            ],
            [
             0.1111111111111111,
             "#46039f"
            ],
            [
             0.2222222222222222,
             "#7201a8"
            ],
            [
             0.3333333333333333,
             "#9c179e"
            ],
            [
             0.4444444444444444,
             "#bd3786"
            ],
            [
             0.5555555555555556,
             "#d8576b"
            ],
            [
             0.6666666666666666,
             "#ed7953"
            ],
            [
             0.7777777777777778,
             "#fb9f3a"
            ],
            [
             0.8888888888888888,
             "#fdca26"
            ],
            [
             1,
             "#f0f921"
            ]
           ],
           "sequentialminus": [
            [
             0,
             "#0d0887"
            ],
            [
             0.1111111111111111,
             "#46039f"
            ],
            [
             0.2222222222222222,
             "#7201a8"
            ],
            [
             0.3333333333333333,
             "#9c179e"
            ],
            [
             0.4444444444444444,
             "#bd3786"
            ],
            [
             0.5555555555555556,
             "#d8576b"
            ],
            [
             0.6666666666666666,
             "#ed7953"
            ],
            [
             0.7777777777777778,
             "#fb9f3a"
            ],
            [
             0.8888888888888888,
             "#fdca26"
            ],
            [
             1,
             "#f0f921"
            ]
           ]
          },
          "colorway": [
           "#636efa",
           "#EF553B",
           "#00cc96",
           "#ab63fa",
           "#FFA15A",
           "#19d3f3",
           "#FF6692",
           "#B6E880",
           "#FF97FF",
           "#FECB52"
          ],
          "font": {
           "color": "#2a3f5f"
          },
          "geo": {
           "bgcolor": "white",
           "lakecolor": "white",
           "landcolor": "#E5ECF6",
           "showlakes": true,
           "showland": true,
           "subunitcolor": "white"
          },
          "hoverlabel": {
           "align": "left"
          },
          "hovermode": "closest",
          "mapbox": {
           "style": "light"
          },
          "paper_bgcolor": "white",
          "plot_bgcolor": "#E5ECF6",
          "polar": {
           "angularaxis": {
            "gridcolor": "white",
            "linecolor": "white",
            "ticks": ""
           },
           "bgcolor": "#E5ECF6",
           "radialaxis": {
            "gridcolor": "white",
            "linecolor": "white",
            "ticks": ""
           }
          },
          "scene": {
           "xaxis": {
            "backgroundcolor": "#E5ECF6",
            "gridcolor": "white",
            "gridwidth": 2,
            "linecolor": "white",
            "showbackground": true,
            "ticks": "",
            "zerolinecolor": "white"
           },
           "yaxis": {
            "backgroundcolor": "#E5ECF6",
            "gridcolor": "white",
            "gridwidth": 2,
            "linecolor": "white",
            "showbackground": true,
            "ticks": "",
            "zerolinecolor": "white"
           },
           "zaxis": {
            "backgroundcolor": "#E5ECF6",
            "gridcolor": "white",
            "gridwidth": 2,
            "linecolor": "white",
            "showbackground": true,
            "ticks": "",
            "zerolinecolor": "white"
           }
          },
          "shapedefaults": {
           "line": {
            "color": "#2a3f5f"
           }
          },
          "ternary": {
           "aaxis": {
            "gridcolor": "white",
            "linecolor": "white",
            "ticks": ""
           },
           "baxis": {
            "gridcolor": "white",
            "linecolor": "white",
            "ticks": ""
           },
           "bgcolor": "#E5ECF6",
           "caxis": {
            "gridcolor": "white",
            "linecolor": "white",
            "ticks": ""
           }
          },
          "title": {
           "x": 0.05
          },
          "xaxis": {
           "automargin": true,
           "gridcolor": "white",
           "linecolor": "white",
           "ticks": "",
           "title": {
            "standoff": 15
           },
           "zerolinecolor": "white",
           "zerolinewidth": 2
          },
          "yaxis": {
           "automargin": true,
           "gridcolor": "white",
           "linecolor": "white",
           "ticks": "",
           "title": {
            "standoff": 15
           },
           "zerolinecolor": "white",
           "zerolinewidth": 2
          }
         }
        },
        "xaxis": {
         "anchor": "y",
         "domain": [
          0,
          1
         ],
         "title": {
          "text": "NOME_MES_PARTIDA_PREVISTA"
         }
        },
        "yaxis": {
         "anchor": "x",
         "domain": [
          0,
          1
         ],
         "title": {
          "text": "TOTAL_VOOS"
         }
        }
       }
      }
     },
     "metadata": {},
     "output_type": "display_data"
    }
   ],
   "source": [
    "fig = px.bar(\n",
    "    total_voos, \n",
    "    x='NOME_MES_PARTIDA_PREVISTA', \n",
    "    y='TOTAL_VOOS', \n",
    "    text_auto='0',\n",
    ")\n",
    "fig.update_traces(\n",
    "    textposition='outside'\n",
    ")\n",
    "fig.show()"
   ]
  },
  {
   "cell_type": "markdown",
   "metadata": {},
   "source": [
    "- Total de Vôos por compania e aeroporto por mês"
   ]
  },
  {
   "cell_type": "code",
   "execution_count": 67,
   "metadata": {},
   "outputs": [
    {
     "data": {
      "text/plain": [
       "Index(['Unnamed: 0.1', 'Unnamed: 0', 'NOME_AEROPORTO_ORIGEM',\n",
       "       'CIDADE_AEROPORTO_ORIGEM', 'UF_AEROPORTO_ORIGEM',\n",
       "       'SIGLA_ICAO_EMPRESA_AEREA', 'NUMERO_VOO', 'CODIGO_TIPO_LINHA',\n",
       "       'SIGLA_ICAO_AEROPORTO_ORIGEM', 'SIGLA_ICAO_AEROPORTO_DESTINO',\n",
       "       'PARTIDA_PREVISTA', 'PARTIDA_REAL', 'CHEGADA_PREVISTA', 'CHEGADA_REAL',\n",
       "       'SITUACAO_VOO', 'SIGLA_OACI', 'NOME_AEROPORTO_DESTINO',\n",
       "       'CIDADE_AEROPORTO_DESTINO', 'UF_AEROPORTO_DESTINO', 'NOME_EMPRESA',\n",
       "       'MES_PARTIDA_PREVISTA', 'NOME_MES_PARTIDA_PREVISTA', 'MES_PARTIDA_REAL',\n",
       "       'NOME_MES_PARTIDA_REAL', 'MES_CHEGADA_PREVISTA',\n",
       "       'NOME_MES_CHEGADA_PREVISTA', 'MES_CHEGADA_REAL',\n",
       "       'NOME_MES_CHEGADA_REAL', 'MINUTOS_ATRASADO_PARTIDA',\n",
       "       'MINUTOS_ATRASADO_CHEGADA', 'DIA_DA_SEMANA_PARTIDA_PREVISTA',\n",
       "       'INDICE_SEMANA_PARTIDA_PREVISTA', 'DIA_DA_SEMANA_PARTIDA_REAL',\n",
       "       'INDICE_SEMANA_PARTIDA_REAL', 'DIA_DA_SEMANA_CHEGADA_REAL',\n",
       "       'DIA_DA_SEMANA_CHEGADA_PREVISTA', 'INDICE_SEMANA_CHEGADA_REAL',\n",
       "       'INDICE_SEMANA_CHEGADA_PREVISTA', 'FAIXA_ATRASO_PARTIDA',\n",
       "       'FAIXA_ATRASO_CHEGADA'],\n",
       "      dtype='object')"
      ]
     },
     "execution_count": 67,
     "metadata": {},
     "output_type": "execute_result"
    }
   ],
   "source": [
    "base.columns"
   ]
  },
  {
   "cell_type": "code",
   "execution_count": 247,
   "metadata": {},
   "outputs": [],
   "source": [
    "colunas = [\n",
    "        \n",
    "        'SIGLA_ICAO_AEROPORTO_ORIGEM',\n",
    "        'MES_PARTIDA_PREVISTA',\n",
    "        'NOME_MES_PARTIDA_PREVISTA',\n",
    "        'NUMERO_VOO' ,\n",
    "        'SIGLA_ICAO_EMPRESA_AEREA',\n",
    "        'NOME_EMPRESA' \n",
    "]\n",
    "\n",
    "\n",
    "teste = pd.read_parquet('../data/processed/df_final.parquet', columns=colunas)\n",
    "teste = teste.query(\n",
    "    ' SIGLA_ICAO_EMPRESA_AEREA == \"TAM\"  ' \\\n",
    "    ' and SIGLA_ICAO_AEROPORTO_ORIGEM == \"SBRP\"'\\\n",
    ")"
   ]
  },
  {
   "cell_type": "code",
   "execution_count": 248,
   "metadata": {},
   "outputs": [
    {
     "name": "stdout",
     "output_type": "stream",
     "text": [
      "<class 'pandas.core.frame.DataFrame'>\n",
      "Index: 348 entries, 488380 to 680870\n",
      "Data columns (total 6 columns):\n",
      " #   Column                       Non-Null Count  Dtype   \n",
      "---  ------                       --------------  -----   \n",
      " 0   SIGLA_ICAO_AEROPORTO_ORIGEM  348 non-null    string  \n",
      " 1   MES_PARTIDA_PREVISTA         348 non-null    int32   \n",
      " 2   NOME_MES_PARTIDA_PREVISTA    348 non-null    category\n",
      " 3   NUMERO_VOO                   348 non-null    string  \n",
      " 4   SIGLA_ICAO_EMPRESA_AEREA     348 non-null    string  \n",
      " 5   NOME_EMPRESA                 348 non-null    string  \n",
      "dtypes: category(1), int32(1), string(4)\n",
      "memory usage: 15.7 KB\n"
     ]
    }
   ],
   "source": [
    "teste.info()"
   ]
  },
  {
   "cell_type": "code",
   "execution_count": 249,
   "metadata": {},
   "outputs": [],
   "source": [
    "teste['NOME_MES_PARTIDA_PREVISTA'] = teste['NOME_MES_PARTIDA_PREVISTA'].astype('string')"
   ]
  },
  {
   "cell_type": "code",
   "execution_count": 250,
   "metadata": {},
   "outputs": [
    {
     "name": "stdout",
     "output_type": "stream",
     "text": [
      "<class 'pandas.core.frame.DataFrame'>\n",
      "Index: 348 entries, 488380 to 680870\n",
      "Data columns (total 6 columns):\n",
      " #   Column                       Non-Null Count  Dtype \n",
      "---  ------                       --------------  ----- \n",
      " 0   SIGLA_ICAO_AEROPORTO_ORIGEM  348 non-null    string\n",
      " 1   MES_PARTIDA_PREVISTA         348 non-null    int32 \n",
      " 2   NOME_MES_PARTIDA_PREVISTA    348 non-null    string\n",
      " 3   NUMERO_VOO                   348 non-null    string\n",
      " 4   SIGLA_ICAO_EMPRESA_AEREA     348 non-null    string\n",
      " 5   NOME_EMPRESA                 348 non-null    string\n",
      "dtypes: int32(1), string(5)\n",
      "memory usage: 17.7 KB\n"
     ]
    }
   ],
   "source": [
    "teste.info()"
   ]
  },
  {
   "cell_type": "code",
   "execution_count": 251,
   "metadata": {},
   "outputs": [
    {
     "data": {
      "text/html": [
       "<div>\n",
       "<style scoped>\n",
       "    .dataframe tbody tr th:only-of-type {\n",
       "        vertical-align: middle;\n",
       "    }\n",
       "\n",
       "    .dataframe tbody tr th {\n",
       "        vertical-align: top;\n",
       "    }\n",
       "\n",
       "    .dataframe thead th {\n",
       "        text-align: right;\n",
       "    }\n",
       "</style>\n",
       "<table border=\"1\" class=\"dataframe\">\n",
       "  <thead>\n",
       "    <tr style=\"text-align: right;\">\n",
       "      <th></th>\n",
       "      <th>SIGLA_ICAO_AEROPORTO_ORIGEM</th>\n",
       "      <th>MES_PARTIDA_PREVISTA</th>\n",
       "      <th>NOME_MES_PARTIDA_PREVISTA</th>\n",
       "      <th>NUMERO_VOO</th>\n",
       "      <th>SIGLA_ICAO_EMPRESA_AEREA</th>\n",
       "      <th>NOME_EMPRESA</th>\n",
       "    </tr>\n",
       "  </thead>\n",
       "  <tbody>\n",
       "    <tr>\n",
       "      <th>488380</th>\n",
       "      <td>SBRP</td>\n",
       "      <td>1</td>\n",
       "      <td>janeiro</td>\n",
       "      <td>3867</td>\n",
       "      <td>TAM</td>\n",
       "      <td>TAM</td>\n",
       "    </tr>\n",
       "    <tr>\n",
       "      <th>488381</th>\n",
       "      <td>SBRP</td>\n",
       "      <td>1</td>\n",
       "      <td>janeiro</td>\n",
       "      <td>3867</td>\n",
       "      <td>TAM</td>\n",
       "      <td>TAM</td>\n",
       "    </tr>\n",
       "    <tr>\n",
       "      <th>537779</th>\n",
       "      <td>SBRP</td>\n",
       "      <td>1</td>\n",
       "      <td>janeiro</td>\n",
       "      <td>3992</td>\n",
       "      <td>TAM</td>\n",
       "      <td>TAM</td>\n",
       "    </tr>\n",
       "    <tr>\n",
       "      <th>537780</th>\n",
       "      <td>SBRP</td>\n",
       "      <td>1</td>\n",
       "      <td>janeiro</td>\n",
       "      <td>3992</td>\n",
       "      <td>TAM</td>\n",
       "      <td>TAM</td>\n",
       "    </tr>\n",
       "    <tr>\n",
       "      <th>537781</th>\n",
       "      <td>SBRP</td>\n",
       "      <td>1</td>\n",
       "      <td>janeiro</td>\n",
       "      <td>3992</td>\n",
       "      <td>TAM</td>\n",
       "      <td>TAM</td>\n",
       "    </tr>\n",
       "  </tbody>\n",
       "</table>\n",
       "</div>"
      ],
      "text/plain": [
       "       SIGLA_ICAO_AEROPORTO_ORIGEM  MES_PARTIDA_PREVISTA  \\\n",
       "488380                        SBRP                     1   \n",
       "488381                        SBRP                     1   \n",
       "537779                        SBRP                     1   \n",
       "537780                        SBRP                     1   \n",
       "537781                        SBRP                     1   \n",
       "\n",
       "       NOME_MES_PARTIDA_PREVISTA NUMERO_VOO SIGLA_ICAO_EMPRESA_AEREA  \\\n",
       "488380                   janeiro       3867                      TAM   \n",
       "488381                   janeiro       3867                      TAM   \n",
       "537779                   janeiro       3992                      TAM   \n",
       "537780                   janeiro       3992                      TAM   \n",
       "537781                   janeiro       3992                      TAM   \n",
       "\n",
       "       NOME_EMPRESA  \n",
       "488380          TAM  \n",
       "488381          TAM  \n",
       "537779          TAM  \n",
       "537780          TAM  \n",
       "537781          TAM  "
      ]
     },
     "execution_count": 251,
     "metadata": {},
     "output_type": "execute_result"
    }
   ],
   "source": [
    "teste.head()"
   ]
  },
  {
   "cell_type": "code",
   "execution_count": 252,
   "metadata": {},
   "outputs": [],
   "source": [
    "teste_gb = teste.groupby([ 'MES_PARTIDA_PREVISTA', 'NOME_MES_PARTIDA_PREVISTA']).agg(\n",
    "    TOTAL_VOOS=('SIGLA_ICAO_EMPRESA_AEREA', 'count')\n",
    ").reset_index()"
   ]
  },
  {
   "cell_type": "code",
   "execution_count": 253,
   "metadata": {},
   "outputs": [
    {
     "data": {
      "text/html": [
       "<div>\n",
       "<style scoped>\n",
       "    .dataframe tbody tr th:only-of-type {\n",
       "        vertical-align: middle;\n",
       "    }\n",
       "\n",
       "    .dataframe tbody tr th {\n",
       "        vertical-align: top;\n",
       "    }\n",
       "\n",
       "    .dataframe thead th {\n",
       "        text-align: right;\n",
       "    }\n",
       "</style>\n",
       "<table border=\"1\" class=\"dataframe\">\n",
       "  <thead>\n",
       "    <tr style=\"text-align: right;\">\n",
       "      <th></th>\n",
       "      <th>MES_PARTIDA_PREVISTA</th>\n",
       "      <th>NOME_MES_PARTIDA_PREVISTA</th>\n",
       "      <th>TOTAL_VOOS</th>\n",
       "    </tr>\n",
       "  </thead>\n",
       "  <tbody>\n",
       "    <tr>\n",
       "      <th>0</th>\n",
       "      <td>1</td>\n",
       "      <td>janeiro</td>\n",
       "      <td>41</td>\n",
       "    </tr>\n",
       "    <tr>\n",
       "      <th>1</th>\n",
       "      <td>2</td>\n",
       "      <td>fevereiro</td>\n",
       "      <td>20</td>\n",
       "    </tr>\n",
       "    <tr>\n",
       "      <th>2</th>\n",
       "      <td>3</td>\n",
       "      <td>março</td>\n",
       "      <td>23</td>\n",
       "    </tr>\n",
       "    <tr>\n",
       "      <th>3</th>\n",
       "      <td>4</td>\n",
       "      <td>abril</td>\n",
       "      <td>21</td>\n",
       "    </tr>\n",
       "    <tr>\n",
       "      <th>4</th>\n",
       "      <td>5</td>\n",
       "      <td>maio</td>\n",
       "      <td>20</td>\n",
       "    </tr>\n",
       "    <tr>\n",
       "      <th>5</th>\n",
       "      <td>6</td>\n",
       "      <td>junho</td>\n",
       "      <td>22</td>\n",
       "    </tr>\n",
       "    <tr>\n",
       "      <th>6</th>\n",
       "      <td>7</td>\n",
       "      <td>julho</td>\n",
       "      <td>21</td>\n",
       "    </tr>\n",
       "    <tr>\n",
       "      <th>7</th>\n",
       "      <td>8</td>\n",
       "      <td>agosto</td>\n",
       "      <td>23</td>\n",
       "    </tr>\n",
       "    <tr>\n",
       "      <th>8</th>\n",
       "      <td>9</td>\n",
       "      <td>setembro</td>\n",
       "      <td>23</td>\n",
       "    </tr>\n",
       "    <tr>\n",
       "      <th>9</th>\n",
       "      <td>10</td>\n",
       "      <td>outubro</td>\n",
       "      <td>24</td>\n",
       "    </tr>\n",
       "    <tr>\n",
       "      <th>10</th>\n",
       "      <td>11</td>\n",
       "      <td>novembro</td>\n",
       "      <td>55</td>\n",
       "    </tr>\n",
       "    <tr>\n",
       "      <th>11</th>\n",
       "      <td>12</td>\n",
       "      <td>dezembro</td>\n",
       "      <td>55</td>\n",
       "    </tr>\n",
       "  </tbody>\n",
       "</table>\n",
       "</div>"
      ],
      "text/plain": [
       "    MES_PARTIDA_PREVISTA NOME_MES_PARTIDA_PREVISTA  TOTAL_VOOS\n",
       "0                      1                   janeiro          41\n",
       "1                      2                 fevereiro          20\n",
       "2                      3                     março          23\n",
       "3                      4                     abril          21\n",
       "4                      5                      maio          20\n",
       "5                      6                     junho          22\n",
       "6                      7                     julho          21\n",
       "7                      8                    agosto          23\n",
       "8                      9                  setembro          23\n",
       "9                     10                   outubro          24\n",
       "10                    11                  novembro          55\n",
       "11                    12                  dezembro          55"
      ]
     },
     "execution_count": 253,
     "metadata": {},
     "output_type": "execute_result"
    }
   ],
   "source": [
    "teste_gb"
   ]
  },
  {
   "cell_type": "code",
   "execution_count": 254,
   "metadata": {},
   "outputs": [
    {
     "data": {
      "application/vnd.plotly.v1+json": {
       "config": {
        "plotlyServerURL": "https://plot.ly"
       },
       "data": [
        {
         "alignmentgroup": "True",
         "hovertemplate": "NOME_MES_PARTIDA_PREVISTA=%{x}<br>TOTAL_VOOS=%{y}<extra></extra>",
         "legendgroup": "",
         "marker": {
          "color": "#636efa",
          "pattern": {
           "shape": ""
          }
         },
         "name": "",
         "offsetgroup": "",
         "orientation": "v",
         "showlegend": false,
         "textposition": "outside",
         "texttemplate": "%{y:0}",
         "type": "bar",
         "x": [
          "janeiro",
          "fevereiro",
          "março",
          "abril",
          "maio",
          "junho",
          "julho",
          "agosto",
          "setembro",
          "outubro",
          "novembro",
          "dezembro"
         ],
         "xaxis": "x",
         "y": [
          41,
          20,
          23,
          21,
          20,
          22,
          21,
          23,
          23,
          24,
          55,
          55
         ],
         "yaxis": "y"
        }
       ],
       "layout": {
        "barmode": "relative",
        "legend": {
         "tracegroupgap": 0
        },
        "margin": {
         "t": 60
        },
        "template": {
         "data": {
          "bar": [
           {
            "error_x": {
             "color": "#2a3f5f"
            },
            "error_y": {
             "color": "#2a3f5f"
            },
            "marker": {
             "line": {
              "color": "#E5ECF6",
              "width": 0.5
             },
             "pattern": {
              "fillmode": "overlay",
              "size": 10,
              "solidity": 0.2
             }
            },
            "type": "bar"
           }
          ],
          "barpolar": [
           {
            "marker": {
             "line": {
              "color": "#E5ECF6",
              "width": 0.5
             },
             "pattern": {
              "fillmode": "overlay",
              "size": 10,
              "solidity": 0.2
             }
            },
            "type": "barpolar"
           }
          ],
          "carpet": [
           {
            "aaxis": {
             "endlinecolor": "#2a3f5f",
             "gridcolor": "white",
             "linecolor": "white",
             "minorgridcolor": "white",
             "startlinecolor": "#2a3f5f"
            },
            "baxis": {
             "endlinecolor": "#2a3f5f",
             "gridcolor": "white",
             "linecolor": "white",
             "minorgridcolor": "white",
             "startlinecolor": "#2a3f5f"
            },
            "type": "carpet"
           }
          ],
          "choropleth": [
           {
            "colorbar": {
             "outlinewidth": 0,
             "ticks": ""
            },
            "type": "choropleth"
           }
          ],
          "contour": [
           {
            "colorbar": {
             "outlinewidth": 0,
             "ticks": ""
            },
            "colorscale": [
             [
              0,
              "#0d0887"
             ],
             [
              0.1111111111111111,
              "#46039f"
             ],
             [
              0.2222222222222222,
              "#7201a8"
             ],
             [
              0.3333333333333333,
              "#9c179e"
             ],
             [
              0.4444444444444444,
              "#bd3786"
             ],
             [
              0.5555555555555556,
              "#d8576b"
             ],
             [
              0.6666666666666666,
              "#ed7953"
             ],
             [
              0.7777777777777778,
              "#fb9f3a"
             ],
             [
              0.8888888888888888,
              "#fdca26"
             ],
             [
              1,
              "#f0f921"
             ]
            ],
            "type": "contour"
           }
          ],
          "contourcarpet": [
           {
            "colorbar": {
             "outlinewidth": 0,
             "ticks": ""
            },
            "type": "contourcarpet"
           }
          ],
          "heatmap": [
           {
            "colorbar": {
             "outlinewidth": 0,
             "ticks": ""
            },
            "colorscale": [
             [
              0,
              "#0d0887"
             ],
             [
              0.1111111111111111,
              "#46039f"
             ],
             [
              0.2222222222222222,
              "#7201a8"
             ],
             [
              0.3333333333333333,
              "#9c179e"
             ],
             [
              0.4444444444444444,
              "#bd3786"
             ],
             [
              0.5555555555555556,
              "#d8576b"
             ],
             [
              0.6666666666666666,
              "#ed7953"
             ],
             [
              0.7777777777777778,
              "#fb9f3a"
             ],
             [
              0.8888888888888888,
              "#fdca26"
             ],
             [
              1,
              "#f0f921"
             ]
            ],
            "type": "heatmap"
           }
          ],
          "heatmapgl": [
           {
            "colorbar": {
             "outlinewidth": 0,
             "ticks": ""
            },
            "colorscale": [
             [
              0,
              "#0d0887"
             ],
             [
              0.1111111111111111,
              "#46039f"
             ],
             [
              0.2222222222222222,
              "#7201a8"
             ],
             [
              0.3333333333333333,
              "#9c179e"
             ],
             [
              0.4444444444444444,
              "#bd3786"
             ],
             [
              0.5555555555555556,
              "#d8576b"
             ],
             [
              0.6666666666666666,
              "#ed7953"
             ],
             [
              0.7777777777777778,
              "#fb9f3a"
             ],
             [
              0.8888888888888888,
              "#fdca26"
             ],
             [
              1,
              "#f0f921"
             ]
            ],
            "type": "heatmapgl"
           }
          ],
          "histogram": [
           {
            "marker": {
             "pattern": {
              "fillmode": "overlay",
              "size": 10,
              "solidity": 0.2
             }
            },
            "type": "histogram"
           }
          ],
          "histogram2d": [
           {
            "colorbar": {
             "outlinewidth": 0,
             "ticks": ""
            },
            "colorscale": [
             [
              0,
              "#0d0887"
             ],
             [
              0.1111111111111111,
              "#46039f"
             ],
             [
              0.2222222222222222,
              "#7201a8"
             ],
             [
              0.3333333333333333,
              "#9c179e"
             ],
             [
              0.4444444444444444,
              "#bd3786"
             ],
             [
              0.5555555555555556,
              "#d8576b"
             ],
             [
              0.6666666666666666,
              "#ed7953"
             ],
             [
              0.7777777777777778,
              "#fb9f3a"
             ],
             [
              0.8888888888888888,
              "#fdca26"
             ],
             [
              1,
              "#f0f921"
             ]
            ],
            "type": "histogram2d"
           }
          ],
          "histogram2dcontour": [
           {
            "colorbar": {
             "outlinewidth": 0,
             "ticks": ""
            },
            "colorscale": [
             [
              0,
              "#0d0887"
             ],
             [
              0.1111111111111111,
              "#46039f"
             ],
             [
              0.2222222222222222,
              "#7201a8"
             ],
             [
              0.3333333333333333,
              "#9c179e"
             ],
             [
              0.4444444444444444,
              "#bd3786"
             ],
             [
              0.5555555555555556,
              "#d8576b"
             ],
             [
              0.6666666666666666,
              "#ed7953"
             ],
             [
              0.7777777777777778,
              "#fb9f3a"
             ],
             [
              0.8888888888888888,
              "#fdca26"
             ],
             [
              1,
              "#f0f921"
             ]
            ],
            "type": "histogram2dcontour"
           }
          ],
          "mesh3d": [
           {
            "colorbar": {
             "outlinewidth": 0,
             "ticks": ""
            },
            "type": "mesh3d"
           }
          ],
          "parcoords": [
           {
            "line": {
             "colorbar": {
              "outlinewidth": 0,
              "ticks": ""
             }
            },
            "type": "parcoords"
           }
          ],
          "pie": [
           {
            "automargin": true,
            "type": "pie"
           }
          ],
          "scatter": [
           {
            "fillpattern": {
             "fillmode": "overlay",
             "size": 10,
             "solidity": 0.2
            },
            "type": "scatter"
           }
          ],
          "scatter3d": [
           {
            "line": {
             "colorbar": {
              "outlinewidth": 0,
              "ticks": ""
             }
            },
            "marker": {
             "colorbar": {
              "outlinewidth": 0,
              "ticks": ""
             }
            },
            "type": "scatter3d"
           }
          ],
          "scattercarpet": [
           {
            "marker": {
             "colorbar": {
              "outlinewidth": 0,
              "ticks": ""
             }
            },
            "type": "scattercarpet"
           }
          ],
          "scattergeo": [
           {
            "marker": {
             "colorbar": {
              "outlinewidth": 0,
              "ticks": ""
             }
            },
            "type": "scattergeo"
           }
          ],
          "scattergl": [
           {
            "marker": {
             "colorbar": {
              "outlinewidth": 0,
              "ticks": ""
             }
            },
            "type": "scattergl"
           }
          ],
          "scattermapbox": [
           {
            "marker": {
             "colorbar": {
              "outlinewidth": 0,
              "ticks": ""
             }
            },
            "type": "scattermapbox"
           }
          ],
          "scatterpolar": [
           {
            "marker": {
             "colorbar": {
              "outlinewidth": 0,
              "ticks": ""
             }
            },
            "type": "scatterpolar"
           }
          ],
          "scatterpolargl": [
           {
            "marker": {
             "colorbar": {
              "outlinewidth": 0,
              "ticks": ""
             }
            },
            "type": "scatterpolargl"
           }
          ],
          "scatterternary": [
           {
            "marker": {
             "colorbar": {
              "outlinewidth": 0,
              "ticks": ""
             }
            },
            "type": "scatterternary"
           }
          ],
          "surface": [
           {
            "colorbar": {
             "outlinewidth": 0,
             "ticks": ""
            },
            "colorscale": [
             [
              0,
              "#0d0887"
             ],
             [
              0.1111111111111111,
              "#46039f"
             ],
             [
              0.2222222222222222,
              "#7201a8"
             ],
             [
              0.3333333333333333,
              "#9c179e"
             ],
             [
              0.4444444444444444,
              "#bd3786"
             ],
             [
              0.5555555555555556,
              "#d8576b"
             ],
             [
              0.6666666666666666,
              "#ed7953"
             ],
             [
              0.7777777777777778,
              "#fb9f3a"
             ],
             [
              0.8888888888888888,
              "#fdca26"
             ],
             [
              1,
              "#f0f921"
             ]
            ],
            "type": "surface"
           }
          ],
          "table": [
           {
            "cells": {
             "fill": {
              "color": "#EBF0F8"
             },
             "line": {
              "color": "white"
             }
            },
            "header": {
             "fill": {
              "color": "#C8D4E3"
             },
             "line": {
              "color": "white"
             }
            },
            "type": "table"
           }
          ]
         },
         "layout": {
          "annotationdefaults": {
           "arrowcolor": "#2a3f5f",
           "arrowhead": 0,
           "arrowwidth": 1
          },
          "autotypenumbers": "strict",
          "coloraxis": {
           "colorbar": {
            "outlinewidth": 0,
            "ticks": ""
           }
          },
          "colorscale": {
           "diverging": [
            [
             0,
             "#8e0152"
            ],
            [
             0.1,
             "#c51b7d"
            ],
            [
             0.2,
             "#de77ae"
            ],
            [
             0.3,
             "#f1b6da"
            ],
            [
             0.4,
             "#fde0ef"
            ],
            [
             0.5,
             "#f7f7f7"
            ],
            [
             0.6,
             "#e6f5d0"
            ],
            [
             0.7,
             "#b8e186"
            ],
            [
             0.8,
             "#7fbc41"
            ],
            [
             0.9,
             "#4d9221"
            ],
            [
             1,
             "#276419"
            ]
           ],
           "sequential": [
            [
             0,
             "#0d0887"
            ],
            [
             0.1111111111111111,
             "#46039f"
            ],
            [
             0.2222222222222222,
             "#7201a8"
            ],
            [
             0.3333333333333333,
             "#9c179e"
            ],
            [
             0.4444444444444444,
             "#bd3786"
            ],
            [
             0.5555555555555556,
             "#d8576b"
            ],
            [
             0.6666666666666666,
             "#ed7953"
            ],
            [
             0.7777777777777778,
             "#fb9f3a"
            ],
            [
             0.8888888888888888,
             "#fdca26"
            ],
            [
             1,
             "#f0f921"
            ]
           ],
           "sequentialminus": [
            [
             0,
             "#0d0887"
            ],
            [
             0.1111111111111111,
             "#46039f"
            ],
            [
             0.2222222222222222,
             "#7201a8"
            ],
            [
             0.3333333333333333,
             "#9c179e"
            ],
            [
             0.4444444444444444,
             "#bd3786"
            ],
            [
             0.5555555555555556,
             "#d8576b"
            ],
            [
             0.6666666666666666,
             "#ed7953"
            ],
            [
             0.7777777777777778,
             "#fb9f3a"
            ],
            [
             0.8888888888888888,
             "#fdca26"
            ],
            [
             1,
             "#f0f921"
            ]
           ]
          },
          "colorway": [
           "#636efa",
           "#EF553B",
           "#00cc96",
           "#ab63fa",
           "#FFA15A",
           "#19d3f3",
           "#FF6692",
           "#B6E880",
           "#FF97FF",
           "#FECB52"
          ],
          "font": {
           "color": "#2a3f5f"
          },
          "geo": {
           "bgcolor": "white",
           "lakecolor": "white",
           "landcolor": "#E5ECF6",
           "showlakes": true,
           "showland": true,
           "subunitcolor": "white"
          },
          "hoverlabel": {
           "align": "left"
          },
          "hovermode": "closest",
          "mapbox": {
           "style": "light"
          },
          "paper_bgcolor": "white",
          "plot_bgcolor": "#E5ECF6",
          "polar": {
           "angularaxis": {
            "gridcolor": "white",
            "linecolor": "white",
            "ticks": ""
           },
           "bgcolor": "#E5ECF6",
           "radialaxis": {
            "gridcolor": "white",
            "linecolor": "white",
            "ticks": ""
           }
          },
          "scene": {
           "xaxis": {
            "backgroundcolor": "#E5ECF6",
            "gridcolor": "white",
            "gridwidth": 2,
            "linecolor": "white",
            "showbackground": true,
            "ticks": "",
            "zerolinecolor": "white"
           },
           "yaxis": {
            "backgroundcolor": "#E5ECF6",
            "gridcolor": "white",
            "gridwidth": 2,
            "linecolor": "white",
            "showbackground": true,
            "ticks": "",
            "zerolinecolor": "white"
           },
           "zaxis": {
            "backgroundcolor": "#E5ECF6",
            "gridcolor": "white",
            "gridwidth": 2,
            "linecolor": "white",
            "showbackground": true,
            "ticks": "",
            "zerolinecolor": "white"
           }
          },
          "shapedefaults": {
           "line": {
            "color": "#2a3f5f"
           }
          },
          "ternary": {
           "aaxis": {
            "gridcolor": "white",
            "linecolor": "white",
            "ticks": ""
           },
           "baxis": {
            "gridcolor": "white",
            "linecolor": "white",
            "ticks": ""
           },
           "bgcolor": "#E5ECF6",
           "caxis": {
            "gridcolor": "white",
            "linecolor": "white",
            "ticks": ""
           }
          },
          "title": {
           "x": 0.05
          },
          "xaxis": {
           "automargin": true,
           "gridcolor": "white",
           "linecolor": "white",
           "ticks": "",
           "title": {
            "standoff": 15
           },
           "zerolinecolor": "white",
           "zerolinewidth": 2
          },
          "yaxis": {
           "automargin": true,
           "gridcolor": "white",
           "linecolor": "white",
           "ticks": "",
           "title": {
            "standoff": 15
           },
           "zerolinecolor": "white",
           "zerolinewidth": 2
          }
         }
        },
        "xaxis": {
         "anchor": "y",
         "domain": [
          0,
          1
         ],
         "title": {
          "text": "NOME_MES_PARTIDA_PREVISTA"
         }
        },
        "yaxis": {
         "anchor": "x",
         "domain": [
          0,
          1
         ],
         "title": {
          "text": "TOTAL_VOOS"
         }
        }
       }
      }
     },
     "metadata": {},
     "output_type": "display_data"
    }
   ],
   "source": [
    "fig = px.bar(\n",
    "    teste_gb, \n",
    "    x='NOME_MES_PARTIDA_PREVISTA', \n",
    "    y='TOTAL_VOOS', \n",
    "    text_auto='0',\n",
    ")\n",
    "fig.update_traces(\n",
    "    textposition='outside'\n",
    ")\n",
    "fig.show()"
   ]
  },
  {
   "cell_type": "markdown",
   "metadata": {},
   "source": [
    "- Analise da variação percentual da SITUAÇÂO voo Filtrando por Aerporto origem por mês (deixe filtro facultativo por empresa)"
   ]
  },
  {
   "cell_type": "code",
   "execution_count": 255,
   "metadata": {},
   "outputs": [
    {
     "data": {
      "text/plain": [
       "Index(['NOME_AEROPORTO_ORIGEM', 'CIDADE_AEROPORTO_ORIGEM',\n",
       "       'UF_AEROPORTO_ORIGEM', 'SIGLA_ICAO_EMPRESA_AEREA', 'NUMERO_VOO',\n",
       "       'CODIGO_TIPO_LINHA', 'SIGLA_ICAO_AEROPORTO_ORIGEM',\n",
       "       'SIGLA_ICAO_AEROPORTO_DESTINO', 'PARTIDA_PREVISTA', 'PARTIDA_REAL',\n",
       "       'CHEGADA_PREVISTA', 'CHEGADA_REAL', 'SITUACAO_VOO', 'SIGLA_OACI',\n",
       "       'NOME_AEROPORTO_DESTINO', 'CIDADE_AEROPORTO_DESTINO',\n",
       "       'UF_AEROPORTO_DESTINO', 'NOME_EMPRESA', 'MES_PARTIDA_PREVISTA',\n",
       "       'NOME_MES_PARTIDA_PREVISTA', 'MES_PARTIDA_REAL',\n",
       "       'NOME_MES_PARTIDA_REAL', 'MES_CHEGADA_PREVISTA',\n",
       "       'NOME_MES_CHEGADA_PREVISTA', 'MES_CHEGADA_REAL',\n",
       "       'NOME_MES_CHEGADA_REAL', 'MINUTOS_ATRASADO_PARTIDA',\n",
       "       'MINUTOS_ATRASADO_CHEGADA', 'DIA_DA_SEMANA_PARTIDA_PREVISTA',\n",
       "       'INDICE_SEMANA_PARTIDA_PREVISTA', 'DIA_DA_SEMANA_PARTIDA_REAL',\n",
       "       'INDICE_SEMANA_PARTIDA_REAL', 'DIA_DA_SEMANA_CHEGADA_REAL',\n",
       "       'DIA_DA_SEMANA_CHEGADA_PREVISTA', 'INDICE_SEMANA_CHEGADA_REAL',\n",
       "       'INDICE_SEMANA_CHEGADA_PREVISTA', 'FAIXA_ATRASO_PARTIDA',\n",
       "       'FAIXA_ATRASO_CHEGADA'],\n",
       "      dtype='object')"
      ]
     },
     "execution_count": 255,
     "metadata": {},
     "output_type": "execute_result"
    }
   ],
   "source": [
    "base.columns"
   ]
  },
  {
   "cell_type": "code",
   "execution_count": 256,
   "metadata": {},
   "outputs": [],
   "source": [
    "colunas = [\n",
    "    'SITUACAO_VOO',\n",
    "    'MES_PARTIDA_PREVISTA',\n",
    "    'NOME_MES_PARTIDA_PREVISTA',\n",
    "    'SIGLA_ICAO_AEROPORTO_ORIGEM',\n",
    "    'NOME_AEROPORTO_ORIGEM',\n",
    "]"
   ]
  },
  {
   "cell_type": "code",
   "execution_count": 280,
   "metadata": {},
   "outputs": [],
   "source": [
    "teste = pd.read_parquet('../data/processed/df_final.parquet', columns=colunas)"
   ]
  },
  {
   "cell_type": "code",
   "execution_count": 281,
   "metadata": {},
   "outputs": [
    {
     "name": "stdout",
     "output_type": "stream",
     "text": [
      "<class 'pandas.core.frame.DataFrame'>\n",
      "RangeIndex: 717357 entries, 0 to 717356\n",
      "Data columns (total 5 columns):\n",
      " #   Column                       Non-Null Count   Dtype   \n",
      "---  ------                       --------------   -----   \n",
      " 0   SITUACAO_VOO                 717357 non-null  category\n",
      " 1   MES_PARTIDA_PREVISTA         717357 non-null  int32   \n",
      " 2   NOME_MES_PARTIDA_PREVISTA    717357 non-null  category\n",
      " 3   SIGLA_ICAO_AEROPORTO_ORIGEM  717357 non-null  string  \n",
      " 4   NOME_AEROPORTO_ORIGEM        717357 non-null  string  \n",
      "dtypes: category(2), int32(1), string(2)\n",
      "memory usage: 15.1 MB\n"
     ]
    }
   ],
   "source": [
    "teste.info()"
   ]
  },
  {
   "cell_type": "code",
   "execution_count": 282,
   "metadata": {},
   "outputs": [
    {
     "data": {
      "text/html": [
       "<div>\n",
       "<style scoped>\n",
       "    .dataframe tbody tr th:only-of-type {\n",
       "        vertical-align: middle;\n",
       "    }\n",
       "\n",
       "    .dataframe tbody tr th {\n",
       "        vertical-align: top;\n",
       "    }\n",
       "\n",
       "    .dataframe thead th {\n",
       "        text-align: right;\n",
       "    }\n",
       "</style>\n",
       "<table border=\"1\" class=\"dataframe\">\n",
       "  <thead>\n",
       "    <tr style=\"text-align: right;\">\n",
       "      <th></th>\n",
       "      <th>SITUACAO_VOO</th>\n",
       "      <th>MES_PARTIDA_PREVISTA</th>\n",
       "      <th>NOME_MES_PARTIDA_PREVISTA</th>\n",
       "      <th>SIGLA_ICAO_AEROPORTO_ORIGEM</th>\n",
       "      <th>NOME_AEROPORTO_ORIGEM</th>\n",
       "    </tr>\n",
       "  </thead>\n",
       "  <tbody>\n",
       "    <tr>\n",
       "      <th>0</th>\n",
       "      <td>REALIZADO</td>\n",
       "      <td>1</td>\n",
       "      <td>janeiro</td>\n",
       "      <td>SBAE</td>\n",
       "      <td>BAURU/AREALVA</td>\n",
       "    </tr>\n",
       "    <tr>\n",
       "      <th>1</th>\n",
       "      <td>REALIZADO</td>\n",
       "      <td>1</td>\n",
       "      <td>janeiro</td>\n",
       "      <td>SBAE</td>\n",
       "      <td>BAURU/AREALVA</td>\n",
       "    </tr>\n",
       "    <tr>\n",
       "      <th>2</th>\n",
       "      <td>REALIZADO</td>\n",
       "      <td>1</td>\n",
       "      <td>janeiro</td>\n",
       "      <td>SBAE</td>\n",
       "      <td>BAURU/AREALVA</td>\n",
       "    </tr>\n",
       "    <tr>\n",
       "      <th>3</th>\n",
       "      <td>REALIZADO</td>\n",
       "      <td>1</td>\n",
       "      <td>janeiro</td>\n",
       "      <td>SBAE</td>\n",
       "      <td>BAURU/AREALVA</td>\n",
       "    </tr>\n",
       "    <tr>\n",
       "      <th>4</th>\n",
       "      <td>REALIZADO</td>\n",
       "      <td>2</td>\n",
       "      <td>fevereiro</td>\n",
       "      <td>SBAE</td>\n",
       "      <td>BAURU/AREALVA</td>\n",
       "    </tr>\n",
       "  </tbody>\n",
       "</table>\n",
       "</div>"
      ],
      "text/plain": [
       "  SITUACAO_VOO  MES_PARTIDA_PREVISTA NOME_MES_PARTIDA_PREVISTA  \\\n",
       "0    REALIZADO                     1                   janeiro   \n",
       "1    REALIZADO                     1                   janeiro   \n",
       "2    REALIZADO                     1                   janeiro   \n",
       "3    REALIZADO                     1                   janeiro   \n",
       "4    REALIZADO                     2                 fevereiro   \n",
       "\n",
       "  SIGLA_ICAO_AEROPORTO_ORIGEM NOME_AEROPORTO_ORIGEM  \n",
       "0                        SBAE         BAURU/AREALVA  \n",
       "1                        SBAE         BAURU/AREALVA  \n",
       "2                        SBAE         BAURU/AREALVA  \n",
       "3                        SBAE         BAURU/AREALVA  \n",
       "4                        SBAE         BAURU/AREALVA  "
      ]
     },
     "execution_count": 282,
     "metadata": {},
     "output_type": "execute_result"
    }
   ],
   "source": [
    "teste.head()"
   ]
  },
  {
   "cell_type": "code",
   "execution_count": 283,
   "metadata": {},
   "outputs": [
    {
     "name": "stdout",
     "output_type": "stream",
     "text": [
      "<class 'pandas.core.frame.DataFrame'>\n",
      "RangeIndex: 717357 entries, 0 to 717356\n",
      "Data columns (total 5 columns):\n",
      " #   Column                       Non-Null Count   Dtype   \n",
      "---  ------                       --------------   -----   \n",
      " 0   SITUACAO_VOO                 717357 non-null  category\n",
      " 1   MES_PARTIDA_PREVISTA         717357 non-null  int32   \n",
      " 2   NOME_MES_PARTIDA_PREVISTA    717357 non-null  category\n",
      " 3   SIGLA_ICAO_AEROPORTO_ORIGEM  717357 non-null  string  \n",
      " 4   NOME_AEROPORTO_ORIGEM        717357 non-null  string  \n",
      "dtypes: category(2), int32(1), string(2)\n",
      "memory usage: 15.1 MB\n"
     ]
    }
   ],
   "source": [
    "teste.info()"
   ]
  },
  {
   "cell_type": "code",
   "execution_count": 284,
   "metadata": {},
   "outputs": [],
   "source": [
    "teste[['SITUACAO_VOO', 'NOME_MES_PARTIDA_PREVISTA']] = teste[['SITUACAO_VOO', 'NOME_MES_PARTIDA_PREVISTA']].astype('string')"
   ]
  },
  {
   "cell_type": "code",
   "execution_count": 285,
   "metadata": {},
   "outputs": [
    {
     "data": {
      "text/html": [
       "<div>\n",
       "<style scoped>\n",
       "    .dataframe tbody tr th:only-of-type {\n",
       "        vertical-align: middle;\n",
       "    }\n",
       "\n",
       "    .dataframe tbody tr th {\n",
       "        vertical-align: top;\n",
       "    }\n",
       "\n",
       "    .dataframe thead th {\n",
       "        text-align: right;\n",
       "    }\n",
       "</style>\n",
       "<table border=\"1\" class=\"dataframe\">\n",
       "  <thead>\n",
       "    <tr style=\"text-align: right;\">\n",
       "      <th></th>\n",
       "      <th>SITUACAO_VOO</th>\n",
       "      <th>MES_PARTIDA_PREVISTA</th>\n",
       "      <th>NOME_MES_PARTIDA_PREVISTA</th>\n",
       "      <th>SIGLA_ICAO_AEROPORTO_ORIGEM</th>\n",
       "      <th>NOME_AEROPORTO_ORIGEM</th>\n",
       "    </tr>\n",
       "  </thead>\n",
       "  <tbody>\n",
       "    <tr>\n",
       "      <th>1929</th>\n",
       "      <td>REALIZADO</td>\n",
       "      <td>1</td>\n",
       "      <td>janeiro</td>\n",
       "      <td>SBRP</td>\n",
       "      <td>LEITE LOPES</td>\n",
       "    </tr>\n",
       "    <tr>\n",
       "      <th>1930</th>\n",
       "      <td>REALIZADO</td>\n",
       "      <td>1</td>\n",
       "      <td>janeiro</td>\n",
       "      <td>SBRP</td>\n",
       "      <td>LEITE LOPES</td>\n",
       "    </tr>\n",
       "    <tr>\n",
       "      <th>1931</th>\n",
       "      <td>REALIZADO</td>\n",
       "      <td>1</td>\n",
       "      <td>janeiro</td>\n",
       "      <td>SBRP</td>\n",
       "      <td>LEITE LOPES</td>\n",
       "    </tr>\n",
       "    <tr>\n",
       "      <th>1932</th>\n",
       "      <td>REALIZADO</td>\n",
       "      <td>1</td>\n",
       "      <td>janeiro</td>\n",
       "      <td>SBRP</td>\n",
       "      <td>LEITE LOPES</td>\n",
       "    </tr>\n",
       "    <tr>\n",
       "      <th>1933</th>\n",
       "      <td>REALIZADO</td>\n",
       "      <td>1</td>\n",
       "      <td>janeiro</td>\n",
       "      <td>SBRP</td>\n",
       "      <td>LEITE LOPES</td>\n",
       "    </tr>\n",
       "    <tr>\n",
       "      <th>...</th>\n",
       "      <td>...</td>\n",
       "      <td>...</td>\n",
       "      <td>...</td>\n",
       "      <td>...</td>\n",
       "      <td>...</td>\n",
       "    </tr>\n",
       "    <tr>\n",
       "      <th>707275</th>\n",
       "      <td>REALIZADO</td>\n",
       "      <td>1</td>\n",
       "      <td>janeiro</td>\n",
       "      <td>SBRP</td>\n",
       "      <td>LEITE LOPES</td>\n",
       "    </tr>\n",
       "    <tr>\n",
       "      <th>707479</th>\n",
       "      <td>REALIZADO</td>\n",
       "      <td>1</td>\n",
       "      <td>janeiro</td>\n",
       "      <td>SBRP</td>\n",
       "      <td>LEITE LOPES</td>\n",
       "    </tr>\n",
       "    <tr>\n",
       "      <th>707480</th>\n",
       "      <td>REALIZADO</td>\n",
       "      <td>1</td>\n",
       "      <td>janeiro</td>\n",
       "      <td>SBRP</td>\n",
       "      <td>LEITE LOPES</td>\n",
       "    </tr>\n",
       "    <tr>\n",
       "      <th>707481</th>\n",
       "      <td>REALIZADO</td>\n",
       "      <td>1</td>\n",
       "      <td>janeiro</td>\n",
       "      <td>SBRP</td>\n",
       "      <td>LEITE LOPES</td>\n",
       "    </tr>\n",
       "    <tr>\n",
       "      <th>710551</th>\n",
       "      <td>REALIZADO</td>\n",
       "      <td>1</td>\n",
       "      <td>janeiro</td>\n",
       "      <td>SBRP</td>\n",
       "      <td>LEITE LOPES</td>\n",
       "    </tr>\n",
       "  </tbody>\n",
       "</table>\n",
       "<p>605 rows × 5 columns</p>\n",
       "</div>"
      ],
      "text/plain": [
       "       SITUACAO_VOO  MES_PARTIDA_PREVISTA NOME_MES_PARTIDA_PREVISTA  \\\n",
       "1929      REALIZADO                     1                   janeiro   \n",
       "1930      REALIZADO                     1                   janeiro   \n",
       "1931      REALIZADO                     1                   janeiro   \n",
       "1932      REALIZADO                     1                   janeiro   \n",
       "1933      REALIZADO                     1                   janeiro   \n",
       "...             ...                   ...                       ...   \n",
       "707275    REALIZADO                     1                   janeiro   \n",
       "707479    REALIZADO                     1                   janeiro   \n",
       "707480    REALIZADO                     1                   janeiro   \n",
       "707481    REALIZADO                     1                   janeiro   \n",
       "710551    REALIZADO                     1                   janeiro   \n",
       "\n",
       "       SIGLA_ICAO_AEROPORTO_ORIGEM NOME_AEROPORTO_ORIGEM  \n",
       "1929                          SBRP           LEITE LOPES  \n",
       "1930                          SBRP           LEITE LOPES  \n",
       "1931                          SBRP           LEITE LOPES  \n",
       "1932                          SBRP           LEITE LOPES  \n",
       "1933                          SBRP           LEITE LOPES  \n",
       "...                            ...                   ...  \n",
       "707275                        SBRP           LEITE LOPES  \n",
       "707479                        SBRP           LEITE LOPES  \n",
       "707480                        SBRP           LEITE LOPES  \n",
       "707481                        SBRP           LEITE LOPES  \n",
       "710551                        SBRP           LEITE LOPES  \n",
       "\n",
       "[605 rows x 5 columns]"
      ]
     },
     "execution_count": 285,
     "metadata": {},
     "output_type": "execute_result"
    }
   ],
   "source": [
    "teste = teste.query('SIGLA_ICAO_AEROPORTO_ORIGEM == \"SBRP\"  and MES_PARTIDA_PREVISTA == 1 ')\n",
    "teste"
   ]
  },
  {
   "cell_type": "code",
   "execution_count": 286,
   "metadata": {},
   "outputs": [],
   "source": [
    "teste_gb =teste.groupby(['NOME_MES_PARTIDA_PREVISTA', 'SITUACAO_VOO', 'MES_PARTIDA_PREVISTA']).agg(\n",
    "    TOTAL_VOOS=('SITUACAO_VOO', 'count')\n",
    ")\n",
    "\n",
    "teste_gb.reset_index(inplace=True)\n",
    "teste_gb.sort_values(by=['MES_PARTIDA_PREVISTA'], inplace=True)\n",
    "teste_gb['TOTAL_VOOS'] = teste_gb['TOTAL_VOOS'].astype('int32')"
   ]
  },
  {
   "cell_type": "code",
   "execution_count": 287,
   "metadata": {},
   "outputs": [
    {
     "name": "stdout",
     "output_type": "stream",
     "text": [
      "<class 'pandas.core.frame.DataFrame'>\n",
      "RangeIndex: 2 entries, 0 to 1\n",
      "Data columns (total 4 columns):\n",
      " #   Column                     Non-Null Count  Dtype \n",
      "---  ------                     --------------  ----- \n",
      " 0   NOME_MES_PARTIDA_PREVISTA  2 non-null      string\n",
      " 1   SITUACAO_VOO               2 non-null      string\n",
      " 2   MES_PARTIDA_PREVISTA       2 non-null      int32 \n",
      " 3   TOTAL_VOOS                 2 non-null      int32 \n",
      "dtypes: int32(2), string(2)\n",
      "memory usage: 176.0 bytes\n"
     ]
    }
   ],
   "source": [
    "teste_gb.info()"
   ]
  },
  {
   "cell_type": "code",
   "execution_count": 288,
   "metadata": {},
   "outputs": [
    {
     "data": {
      "text/html": [
       "<div>\n",
       "<style scoped>\n",
       "    .dataframe tbody tr th:only-of-type {\n",
       "        vertical-align: middle;\n",
       "    }\n",
       "\n",
       "    .dataframe tbody tr th {\n",
       "        vertical-align: top;\n",
       "    }\n",
       "\n",
       "    .dataframe thead th {\n",
       "        text-align: right;\n",
       "    }\n",
       "</style>\n",
       "<table border=\"1\" class=\"dataframe\">\n",
       "  <thead>\n",
       "    <tr style=\"text-align: right;\">\n",
       "      <th></th>\n",
       "      <th>NOME_MES_PARTIDA_PREVISTA</th>\n",
       "      <th>SITUACAO_VOO</th>\n",
       "      <th>MES_PARTIDA_PREVISTA</th>\n",
       "      <th>TOTAL_VOOS</th>\n",
       "    </tr>\n",
       "  </thead>\n",
       "  <tbody>\n",
       "    <tr>\n",
       "      <th>0</th>\n",
       "      <td>janeiro</td>\n",
       "      <td>CANCELADO</td>\n",
       "      <td>1</td>\n",
       "      <td>21</td>\n",
       "    </tr>\n",
       "    <tr>\n",
       "      <th>1</th>\n",
       "      <td>janeiro</td>\n",
       "      <td>REALIZADO</td>\n",
       "      <td>1</td>\n",
       "      <td>584</td>\n",
       "    </tr>\n",
       "  </tbody>\n",
       "</table>\n",
       "</div>"
      ],
      "text/plain": [
       "  NOME_MES_PARTIDA_PREVISTA SITUACAO_VOO  MES_PARTIDA_PREVISTA  TOTAL_VOOS\n",
       "0                   janeiro    CANCELADO                     1          21\n",
       "1                   janeiro    REALIZADO                     1         584"
      ]
     },
     "execution_count": 288,
     "metadata": {},
     "output_type": "execute_result"
    }
   ],
   "source": [
    "teste_gb"
   ]
  },
  {
   "cell_type": "markdown",
   "metadata": {},
   "source": [
    "- Analise da variação percentual da SITUAÇÂO voo Filtrando por Aerporto origem por mês compare com o mês anterior (Talvez com vísual cartões) deixe filtro facultativo por empresa)"
   ]
  },
  {
   "cell_type": "markdown",
   "metadata": {},
   "source": [
    "- Compare total de vôos realizado no fim de semana em relação por dia útil por mês"
   ]
  },
  {
   "cell_type": "markdown",
   "metadata": {},
   "source": [
    "<p> - Analise a FAIXA_ATRASO_PARTIDA por aeroporto e empresa por dia de semana e por mês </p>\n",
    "<p> O volume de atraso no fim de semana, é maior ou menor em relação ao dia atual</p>\n",
    "<p> Pode ser análisado a incidencia por aeroporto também</p>\n",
    "<p>Detalhe por semana também</p>\n",
    "<p>Eu tenho 3000 vôos que partiram no horário 50%(1500) da empresa A e 50% da empresa B</p>\n"
   ]
  },
  {
   "cell_type": "markdown",
   "metadata": {},
   "source": [
    "<p> - Analise a FAIXA_ATRASO_CHEGADA por aeroporto e empresa por dia de semana e por mês </p>\n",
    "<p> O volume de atraso no fim de semana, é maior ou menor em relação ao dia atual</p>\n",
    "<p> Pode ser análisado a incidencia por aeroporto também</p>\n",
    "<p>Detalhe por semana também</p>\n",
    "<p>Eu tenho 3000 vôos que partiram no horário 50%(1500) da empresa A e 50% da empresa B</p>\n"
   ]
  },
  {
   "cell_type": "markdown",
   "metadata": {},
   "source": [
    "<p> Ranking por FAIXA_ATRASO_CHEGADA selecionando aeroporto  por mês e empresa</p>"
   ]
  },
  {
   "cell_type": "markdown",
   "metadata": {},
   "source": [
    "<p> Ranking por FAIXA_ATRASO_SAIDA selecionando aeroporto em empresa por mês</p>"
   ]
  },
  {
   "cell_type": "markdown",
   "metadata": {},
   "source": [
    "<p> Quantifique a porcentagem por FAIXA_ATRASO_CHEGADA selecionando aeroportoa por mês</p>"
   ]
  },
  {
   "cell_type": "markdown",
   "metadata": {},
   "source": [
    "<p> Quantifique a porcentagem por FAIXA_ATRASO_PARTIFA selecionando aeroporto  por mês</p>"
   ]
  }
 ],
 "metadata": {
  "kernelspec": {
   "display_name": "venv",
   "language": "python",
   "name": "python3"
  },
  "language_info": {
   "codemirror_mode": {
    "name": "ipython",
    "version": 3
   },
   "file_extension": ".py",
   "mimetype": "text/x-python",
   "name": "python",
   "nbconvert_exporter": "python",
   "pygments_lexer": "ipython3",
   "version": "3.10.12"
  }
 },
 "nbformat": 4,
 "nbformat_minor": 2
}
