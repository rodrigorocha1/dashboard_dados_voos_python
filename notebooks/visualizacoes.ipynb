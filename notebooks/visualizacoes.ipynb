{
 "cells": [
  {
   "cell_type": "code",
   "execution_count": 168,
   "metadata": {},
   "outputs": [],
   "source": [
    "import pandas as pd\n",
    "import plotly.express as px\n",
    "import plotly.graph_objects as go\n",
    "import plotly.figure_factory as ff\n",
    "from typing import List"
   ]
  },
  {
   "cell_type": "code",
   "execution_count": 153,
   "metadata": {},
   "outputs": [],
   "source": [
    "caminho_base = '../data/processed/df_processed_v2.parquet'"
   ]
  },
  {
   "cell_type": "code",
   "execution_count": 154,
   "metadata": {},
   "outputs": [],
   "source": [
    "base_completa = pd.read_parquet(caminho_base)"
   ]
  },
  {
   "cell_type": "code",
   "execution_count": 193,
   "metadata": {},
   "outputs": [
    {
     "data": {
      "text/html": [
       "<div>\n",
       "<style scoped>\n",
       "    .dataframe tbody tr th:only-of-type {\n",
       "        vertical-align: middle;\n",
       "    }\n",
       "\n",
       "    .dataframe tbody tr th {\n",
       "        vertical-align: top;\n",
       "    }\n",
       "\n",
       "    .dataframe thead th {\n",
       "        text-align: right;\n",
       "    }\n",
       "</style>\n",
       "<table border=\"1\" class=\"dataframe\">\n",
       "  <thead>\n",
       "    <tr style=\"text-align: right;\">\n",
       "      <th></th>\n",
       "      <th>NOME_AEROPORTO_ORIGEM</th>\n",
       "      <th>CIDADE_AEROPORTO_ORIGEM</th>\n",
       "      <th>UF_AEROPORTO_ORIGEM</th>\n",
       "      <th>SIGLA_ICAO_EMPRESA_AEREA</th>\n",
       "      <th>NUMERO_VOO</th>\n",
       "      <th>CODIGO_TIPO_LINHA</th>\n",
       "      <th>SIGLA_ICAO_AEROPORTO_ORIGEM</th>\n",
       "      <th>SIGLA_ICAO_AEROPORTO_DESTINO</th>\n",
       "      <th>PARTIDA_PREVISTA</th>\n",
       "      <th>PARTIDA_REAL</th>\n",
       "      <th>...</th>\n",
       "      <th>INDICE_SEMANA_CHEGADA_REAL</th>\n",
       "      <th>INDICE_SEMANA_CHEGADA_PREVISTA</th>\n",
       "      <th>FAIXA_ATRASO_PARTIDA</th>\n",
       "      <th>FAIXA_ATRASO_CHEGADA</th>\n",
       "      <th>FLAG_ATRASO_PARTIDA</th>\n",
       "      <th>FLAG_ATRASO_CHEGADA</th>\n",
       "      <th>FLAG_FIM_SEMANA_PARTIDA_PREVISTA</th>\n",
       "      <th>FLAG_FIM_SEMANA_PARTIDA_REAL</th>\n",
       "      <th>FLAG_FIM_SEMANA_CHEGADA_PREVISTA</th>\n",
       "      <th>FLAG_FIM_SEMANA_CHEGADA_REAL</th>\n",
       "    </tr>\n",
       "  </thead>\n",
       "  <tbody>\n",
       "    <tr>\n",
       "      <th>0</th>\n",
       "      <td>BAURU/AREALVA</td>\n",
       "      <td>AREALVA</td>\n",
       "      <td>SP</td>\n",
       "      <td>AZU</td>\n",
       "      <td>2455</td>\n",
       "      <td>N</td>\n",
       "      <td>SBAE</td>\n",
       "      <td>SBPS</td>\n",
       "      <td>2022-01-02 00:05:00</td>\n",
       "      <td>2022-01-01 23:35:00</td>\n",
       "      <td>...</td>\n",
       "      <td>6</td>\n",
       "      <td>6</td>\n",
       "      <td>No horário</td>\n",
       "      <td>No horário</td>\n",
       "      <td>Vôo Atrasado</td>\n",
       "      <td>Vôo Atrasado</td>\n",
       "      <td>Fim de Semana</td>\n",
       "      <td>Fim de Semana</td>\n",
       "      <td>Fim de Semana</td>\n",
       "      <td>Fim de Semana</td>\n",
       "    </tr>\n",
       "    <tr>\n",
       "      <th>1</th>\n",
       "      <td>BAURU/AREALVA</td>\n",
       "      <td>AREALVA</td>\n",
       "      <td>SP</td>\n",
       "      <td>AZU</td>\n",
       "      <td>2455</td>\n",
       "      <td>N</td>\n",
       "      <td>SBAE</td>\n",
       "      <td>SBPS</td>\n",
       "      <td>2022-01-09 01:00:00</td>\n",
       "      <td>2022-01-09 00:48:00</td>\n",
       "      <td>...</td>\n",
       "      <td>6</td>\n",
       "      <td>6</td>\n",
       "      <td>No horário</td>\n",
       "      <td>No horário</td>\n",
       "      <td>Vôo Atrasado</td>\n",
       "      <td>Vôo Atrasado</td>\n",
       "      <td>Fim de Semana</td>\n",
       "      <td>Fim de Semana</td>\n",
       "      <td>Fim de Semana</td>\n",
       "      <td>Fim de Semana</td>\n",
       "    </tr>\n",
       "    <tr>\n",
       "      <th>2</th>\n",
       "      <td>BAURU/AREALVA</td>\n",
       "      <td>AREALVA</td>\n",
       "      <td>SP</td>\n",
       "      <td>AZU</td>\n",
       "      <td>2455</td>\n",
       "      <td>N</td>\n",
       "      <td>SBAE</td>\n",
       "      <td>SBPS</td>\n",
       "      <td>2022-01-23 11:05:00</td>\n",
       "      <td>2022-01-23 10:54:00</td>\n",
       "      <td>...</td>\n",
       "      <td>6</td>\n",
       "      <td>6</td>\n",
       "      <td>No horário</td>\n",
       "      <td>No horário</td>\n",
       "      <td>Vôo Atrasado</td>\n",
       "      <td>Vôo Atrasado</td>\n",
       "      <td>Fim de Semana</td>\n",
       "      <td>Fim de Semana</td>\n",
       "      <td>Fim de Semana</td>\n",
       "      <td>Fim de Semana</td>\n",
       "    </tr>\n",
       "    <tr>\n",
       "      <th>3</th>\n",
       "      <td>BAURU/AREALVA</td>\n",
       "      <td>AREALVA</td>\n",
       "      <td>SP</td>\n",
       "      <td>AZU</td>\n",
       "      <td>2455</td>\n",
       "      <td>N</td>\n",
       "      <td>SBAE</td>\n",
       "      <td>SBPS</td>\n",
       "      <td>2022-01-30 11:05:00</td>\n",
       "      <td>2022-01-30 11:01:00</td>\n",
       "      <td>...</td>\n",
       "      <td>6</td>\n",
       "      <td>6</td>\n",
       "      <td>No horário</td>\n",
       "      <td>No horário</td>\n",
       "      <td>Vôo Atrasado</td>\n",
       "      <td>Vôo Atrasado</td>\n",
       "      <td>Fim de Semana</td>\n",
       "      <td>Fim de Semana</td>\n",
       "      <td>Fim de Semana</td>\n",
       "      <td>Fim de Semana</td>\n",
       "    </tr>\n",
       "    <tr>\n",
       "      <th>4</th>\n",
       "      <td>BAURU/AREALVA</td>\n",
       "      <td>AREALVA</td>\n",
       "      <td>SP</td>\n",
       "      <td>AZU</td>\n",
       "      <td>2455</td>\n",
       "      <td>N</td>\n",
       "      <td>SBAE</td>\n",
       "      <td>SBPS</td>\n",
       "      <td>2022-02-26 23:00:00</td>\n",
       "      <td>2022-02-26 22:56:00</td>\n",
       "      <td>...</td>\n",
       "      <td>6</td>\n",
       "      <td>6</td>\n",
       "      <td>No horário</td>\n",
       "      <td>No horário</td>\n",
       "      <td>Vôo Atrasado</td>\n",
       "      <td>Vôo Atrasado</td>\n",
       "      <td>Fim de Semana</td>\n",
       "      <td>Fim de Semana</td>\n",
       "      <td>Fim de Semana</td>\n",
       "      <td>Fim de Semana</td>\n",
       "    </tr>\n",
       "    <tr>\n",
       "      <th>...</th>\n",
       "      <td>...</td>\n",
       "      <td>...</td>\n",
       "      <td>...</td>\n",
       "      <td>...</td>\n",
       "      <td>...</td>\n",
       "      <td>...</td>\n",
       "      <td>...</td>\n",
       "      <td>...</td>\n",
       "      <td>...</td>\n",
       "      <td>...</td>\n",
       "      <td>...</td>\n",
       "      <td>...</td>\n",
       "      <td>...</td>\n",
       "      <td>...</td>\n",
       "      <td>...</td>\n",
       "      <td>...</td>\n",
       "      <td>...</td>\n",
       "      <td>...</td>\n",
       "      <td>...</td>\n",
       "      <td>...</td>\n",
       "      <td>...</td>\n",
       "    </tr>\n",
       "    <tr>\n",
       "      <th>717352</th>\n",
       "      <td>DEPUTADO LUÍS EDUARDO MAGALHÃES</td>\n",
       "      <td>SALVADOR</td>\n",
       "      <td>BA</td>\n",
       "      <td>ABJ</td>\n",
       "      <td>1416</td>\n",
       "      <td>N</td>\n",
       "      <td>SBSV</td>\n",
       "      <td>SIRI</td>\n",
       "      <td>1900-01-01 00:00:00</td>\n",
       "      <td>2022-12-15 14:34:00</td>\n",
       "      <td>...</td>\n",
       "      <td>3</td>\n",
       "      <td>0</td>\n",
       "      <td>Atraso de mais de 4 horas</td>\n",
       "      <td>Atraso de mais de 4 horas</td>\n",
       "      <td>Vôo no horário</td>\n",
       "      <td>Vôo no horário</td>\n",
       "      <td>Dia Útil</td>\n",
       "      <td>Dia Útil</td>\n",
       "      <td>Dia Útil</td>\n",
       "      <td>Dia Útil</td>\n",
       "    </tr>\n",
       "    <tr>\n",
       "      <th>717353</th>\n",
       "      <td>DEPUTADO LUÍS EDUARDO MAGALHÃES</td>\n",
       "      <td>SALVADOR</td>\n",
       "      <td>BA</td>\n",
       "      <td>ABJ</td>\n",
       "      <td>1416</td>\n",
       "      <td>N</td>\n",
       "      <td>SBSV</td>\n",
       "      <td>SIRI</td>\n",
       "      <td>2022-12-18 15:35:00</td>\n",
       "      <td>2022-12-18 15:41:00</td>\n",
       "      <td>...</td>\n",
       "      <td>6</td>\n",
       "      <td>6</td>\n",
       "      <td>Atraso de até 30 minutos</td>\n",
       "      <td>No horário</td>\n",
       "      <td>Vôo no horário</td>\n",
       "      <td>Vôo Atrasado</td>\n",
       "      <td>Fim de Semana</td>\n",
       "      <td>Fim de Semana</td>\n",
       "      <td>Fim de Semana</td>\n",
       "      <td>Fim de Semana</td>\n",
       "    </tr>\n",
       "    <tr>\n",
       "      <th>717354</th>\n",
       "      <td>DEPUTADO LUÍS EDUARDO MAGALHÃES</td>\n",
       "      <td>SALVADOR</td>\n",
       "      <td>BA</td>\n",
       "      <td>ABJ</td>\n",
       "      <td>1416</td>\n",
       "      <td>N</td>\n",
       "      <td>SBSV</td>\n",
       "      <td>SIRI</td>\n",
       "      <td>1900-01-01 00:00:00</td>\n",
       "      <td>2022-12-22 14:46:00</td>\n",
       "      <td>...</td>\n",
       "      <td>3</td>\n",
       "      <td>0</td>\n",
       "      <td>Atraso de mais de 4 horas</td>\n",
       "      <td>Atraso de mais de 4 horas</td>\n",
       "      <td>Vôo no horário</td>\n",
       "      <td>Vôo no horário</td>\n",
       "      <td>Dia Útil</td>\n",
       "      <td>Dia Útil</td>\n",
       "      <td>Dia Útil</td>\n",
       "      <td>Dia Útil</td>\n",
       "    </tr>\n",
       "    <tr>\n",
       "      <th>717355</th>\n",
       "      <td>DEPUTADO LUÍS EDUARDO MAGALHÃES</td>\n",
       "      <td>SALVADOR</td>\n",
       "      <td>BA</td>\n",
       "      <td>ABJ</td>\n",
       "      <td>1416</td>\n",
       "      <td>N</td>\n",
       "      <td>SBSV</td>\n",
       "      <td>SIRI</td>\n",
       "      <td>2022-12-25 15:35:00</td>\n",
       "      <td>2022-12-25 15:11:00</td>\n",
       "      <td>...</td>\n",
       "      <td>6</td>\n",
       "      <td>6</td>\n",
       "      <td>No horário</td>\n",
       "      <td>No horário</td>\n",
       "      <td>Vôo Atrasado</td>\n",
       "      <td>Vôo Atrasado</td>\n",
       "      <td>Fim de Semana</td>\n",
       "      <td>Fim de Semana</td>\n",
       "      <td>Fim de Semana</td>\n",
       "      <td>Fim de Semana</td>\n",
       "    </tr>\n",
       "    <tr>\n",
       "      <th>717356</th>\n",
       "      <td>DEPUTADO LUÍS EDUARDO MAGALHÃES</td>\n",
       "      <td>SALVADOR</td>\n",
       "      <td>BA</td>\n",
       "      <td>ABJ</td>\n",
       "      <td>1416</td>\n",
       "      <td>N</td>\n",
       "      <td>SBSV</td>\n",
       "      <td>SIRI</td>\n",
       "      <td>1900-01-01 00:00:00</td>\n",
       "      <td>2022-12-29 15:06:00</td>\n",
       "      <td>...</td>\n",
       "      <td>3</td>\n",
       "      <td>0</td>\n",
       "      <td>Atraso de mais de 4 horas</td>\n",
       "      <td>Atraso de mais de 4 horas</td>\n",
       "      <td>Vôo no horário</td>\n",
       "      <td>Vôo no horário</td>\n",
       "      <td>Dia Útil</td>\n",
       "      <td>Dia Útil</td>\n",
       "      <td>Dia Útil</td>\n",
       "      <td>Dia Útil</td>\n",
       "    </tr>\n",
       "  </tbody>\n",
       "</table>\n",
       "<p>717357 rows × 44 columns</p>\n",
       "</div>"
      ],
      "text/plain": [
       "                  NOME_AEROPORTO_ORIGEM CIDADE_AEROPORTO_ORIGEM  \\\n",
       "0                         BAURU/AREALVA                 AREALVA   \n",
       "1                         BAURU/AREALVA                 AREALVA   \n",
       "2                         BAURU/AREALVA                 AREALVA   \n",
       "3                         BAURU/AREALVA                 AREALVA   \n",
       "4                         BAURU/AREALVA                 AREALVA   \n",
       "...                                 ...                     ...   \n",
       "717352  DEPUTADO LUÍS EDUARDO MAGALHÃES                SALVADOR   \n",
       "717353  DEPUTADO LUÍS EDUARDO MAGALHÃES                SALVADOR   \n",
       "717354  DEPUTADO LUÍS EDUARDO MAGALHÃES                SALVADOR   \n",
       "717355  DEPUTADO LUÍS EDUARDO MAGALHÃES                SALVADOR   \n",
       "717356  DEPUTADO LUÍS EDUARDO MAGALHÃES                SALVADOR   \n",
       "\n",
       "       UF_AEROPORTO_ORIGEM SIGLA_ICAO_EMPRESA_AEREA NUMERO_VOO  \\\n",
       "0                       SP                      AZU       2455   \n",
       "1                       SP                      AZU       2455   \n",
       "2                       SP                      AZU       2455   \n",
       "3                       SP                      AZU       2455   \n",
       "4                       SP                      AZU       2455   \n",
       "...                    ...                      ...        ...   \n",
       "717352                  BA                      ABJ       1416   \n",
       "717353                  BA                      ABJ       1416   \n",
       "717354                  BA                      ABJ       1416   \n",
       "717355                  BA                      ABJ       1416   \n",
       "717356                  BA                      ABJ       1416   \n",
       "\n",
       "       CODIGO_TIPO_LINHA SIGLA_ICAO_AEROPORTO_ORIGEM  \\\n",
       "0                      N                        SBAE   \n",
       "1                      N                        SBAE   \n",
       "2                      N                        SBAE   \n",
       "3                      N                        SBAE   \n",
       "4                      N                        SBAE   \n",
       "...                  ...                         ...   \n",
       "717352                 N                        SBSV   \n",
       "717353                 N                        SBSV   \n",
       "717354                 N                        SBSV   \n",
       "717355                 N                        SBSV   \n",
       "717356                 N                        SBSV   \n",
       "\n",
       "       SIGLA_ICAO_AEROPORTO_DESTINO    PARTIDA_PREVISTA        PARTIDA_REAL  \\\n",
       "0                              SBPS 2022-01-02 00:05:00 2022-01-01 23:35:00   \n",
       "1                              SBPS 2022-01-09 01:00:00 2022-01-09 00:48:00   \n",
       "2                              SBPS 2022-01-23 11:05:00 2022-01-23 10:54:00   \n",
       "3                              SBPS 2022-01-30 11:05:00 2022-01-30 11:01:00   \n",
       "4                              SBPS 2022-02-26 23:00:00 2022-02-26 22:56:00   \n",
       "...                             ...                 ...                 ...   \n",
       "717352                         SIRI 1900-01-01 00:00:00 2022-12-15 14:34:00   \n",
       "717353                         SIRI 2022-12-18 15:35:00 2022-12-18 15:41:00   \n",
       "717354                         SIRI 1900-01-01 00:00:00 2022-12-22 14:46:00   \n",
       "717355                         SIRI 2022-12-25 15:35:00 2022-12-25 15:11:00   \n",
       "717356                         SIRI 1900-01-01 00:00:00 2022-12-29 15:06:00   \n",
       "\n",
       "        ... INDICE_SEMANA_CHEGADA_REAL INDICE_SEMANA_CHEGADA_PREVISTA  \\\n",
       "0       ...                          6                              6   \n",
       "1       ...                          6                              6   \n",
       "2       ...                          6                              6   \n",
       "3       ...                          6                              6   \n",
       "4       ...                          6                              6   \n",
       "...     ...                        ...                            ...   \n",
       "717352  ...                          3                              0   \n",
       "717353  ...                          6                              6   \n",
       "717354  ...                          3                              0   \n",
       "717355  ...                          6                              6   \n",
       "717356  ...                          3                              0   \n",
       "\n",
       "             FAIXA_ATRASO_PARTIDA       FAIXA_ATRASO_CHEGADA  \\\n",
       "0                      No horário                 No horário   \n",
       "1                      No horário                 No horário   \n",
       "2                      No horário                 No horário   \n",
       "3                      No horário                 No horário   \n",
       "4                      No horário                 No horário   \n",
       "...                           ...                        ...   \n",
       "717352  Atraso de mais de 4 horas  Atraso de mais de 4 horas   \n",
       "717353   Atraso de até 30 minutos                 No horário   \n",
       "717354  Atraso de mais de 4 horas  Atraso de mais de 4 horas   \n",
       "717355                 No horário                 No horário   \n",
       "717356  Atraso de mais de 4 horas  Atraso de mais de 4 horas   \n",
       "\n",
       "       FLAG_ATRASO_PARTIDA FLAG_ATRASO_CHEGADA  \\\n",
       "0             Vôo Atrasado        Vôo Atrasado   \n",
       "1             Vôo Atrasado        Vôo Atrasado   \n",
       "2             Vôo Atrasado        Vôo Atrasado   \n",
       "3             Vôo Atrasado        Vôo Atrasado   \n",
       "4             Vôo Atrasado        Vôo Atrasado   \n",
       "...                    ...                 ...   \n",
       "717352      Vôo no horário      Vôo no horário   \n",
       "717353      Vôo no horário        Vôo Atrasado   \n",
       "717354      Vôo no horário      Vôo no horário   \n",
       "717355        Vôo Atrasado        Vôo Atrasado   \n",
       "717356      Vôo no horário      Vôo no horário   \n",
       "\n",
       "       FLAG_FIM_SEMANA_PARTIDA_PREVISTA FLAG_FIM_SEMANA_PARTIDA_REAL  \\\n",
       "0                         Fim de Semana                Fim de Semana   \n",
       "1                         Fim de Semana                Fim de Semana   \n",
       "2                         Fim de Semana                Fim de Semana   \n",
       "3                         Fim de Semana                Fim de Semana   \n",
       "4                         Fim de Semana                Fim de Semana   \n",
       "...                                 ...                          ...   \n",
       "717352                         Dia Útil                     Dia Útil   \n",
       "717353                    Fim de Semana                Fim de Semana   \n",
       "717354                         Dia Útil                     Dia Útil   \n",
       "717355                    Fim de Semana                Fim de Semana   \n",
       "717356                         Dia Útil                     Dia Útil   \n",
       "\n",
       "        FLAG_FIM_SEMANA_CHEGADA_PREVISTA FLAG_FIM_SEMANA_CHEGADA_REAL  \n",
       "0                          Fim de Semana                Fim de Semana  \n",
       "1                          Fim de Semana                Fim de Semana  \n",
       "2                          Fim de Semana                Fim de Semana  \n",
       "3                          Fim de Semana                Fim de Semana  \n",
       "4                          Fim de Semana                Fim de Semana  \n",
       "...                                  ...                          ...  \n",
       "717352                          Dia Útil                     Dia Útil  \n",
       "717353                     Fim de Semana                Fim de Semana  \n",
       "717354                          Dia Útil                     Dia Útil  \n",
       "717355                     Fim de Semana                Fim de Semana  \n",
       "717356                          Dia Útil                     Dia Útil  \n",
       "\n",
       "[717357 rows x 44 columns]"
      ]
     },
     "execution_count": 193,
     "metadata": {},
     "output_type": "execute_result"
    }
   ],
   "source": [
    "base_completa"
   ]
  },
  {
   "cell_type": "markdown",
   "metadata": {},
   "source": [
    "- Situação Vôo"
   ]
  },
  {
   "cell_type": "code",
   "execution_count": 221,
   "metadata": {},
   "outputs": [],
   "source": [
    "def obter_situacao_voo(\n",
    "        sigla_aeroporto: str,\n",
    "        mes_partida_prevista: List[int],\n",
    "        codigo_tipo_linha: str, \n",
    "        sigla_empresa: str = None,\n",
    "       \n",
    "):\n",
    "    if sigla_empresa is not None:\n",
    "        query = (\n",
    "            f'SIGLA_ICAO_EMPRESA_AEREA == \"{sigla_empresa}\" '\n",
    "            f'and SIGLA_ICAO_AEROPORTO_ORIGEM == \"{sigla_aeroporto}\" '\n",
    "            f'and MES_PARTIDA_PREVISTA in {mes_partida_prevista} ' \n",
    "            f'and CODIGO_TIPO_LINHA = {codigo_tipo_linha}'\n",
    "        )\n",
    "        colunas = [\n",
    "            'SIGLA_ICAO_EMPRESA_AEREA', \n",
    "            'SITUACAO_VOO', \n",
    "            'MES_PARTIDA_PREVISTA', \n",
    "            'NOME_MES_PARTIDA_PREVISTA', \n",
    "            'SIGLA_ICAO_AEROPORTO_ORIGEM'\n",
    "        ]\n",
    "        \n",
    "    else:\n",
    "        query = (\n",
    "            f' SIGLA_ICAO_AEROPORTO_ORIGEM == \"{sigla_aeroporto}\" '\n",
    "            f' and MES_PARTIDA_PREVISTA in {mes_partida_prevista} '  # TAM SBRP 1\n",
    "            f'and CODIGO_TIPO_LINHA = {codigo_tipo_linha}'\n",
    "        )\n",
    "        colunas = [\n",
    "            'SITUACAO_VOO', \n",
    "            'MES_PARTIDA_PREVISTA', \n",
    "            'NOME_MES_PARTIDA_PREVISTA', \n",
    "            'SIGLA_ICAO_AEROPORTO_ORIGEM'\n",
    "         ]\n",
    "\n",
    "    if sigla_empresa is not None:\n",
    "        query = (\n",
    "            f'SIGLA_ICAO_EMPRESA_AEREA == \"{sigla_empresa}\" '\n",
    "            f'and SIGLA_ICAO_AEROPORTO_ORIGEM == \"{sigla_aeroporto}\" '\n",
    "            f'and MES_PARTIDA_PREVISTA in {mes_partida_prevista} '  # TAM SBRP 1\n",
    "            f'and CODIGO_TIPO_LINHA = {codigo_tipo_linha}'\n",
    "        )\n",
    "        \n",
    "    else:\n",
    "        query = (\n",
    "            f' SIGLA_ICAO_AEROPORTO_ORIGEM == \"{sigla_aeroporto}\" '\n",
    "            f' and MES_PARTIDA_PREVISTA in {mes_partida_prevista} '  # TAM SBRP 1\n",
    "        )\n",
    "         \n",
    "    dataframe = pd.read_parquet(caminho_base, columns=colunas)\n",
    "    total = dataframe.query(query)[colunas].value_counts()\n",
    "    percentual = dataframe.query(query)[colunas].value_counts( normalize=True) * 100\n",
    "    dataframe = pd.concat([total, percentual], axis=1).reset_index()\n",
    "    dataframe['count'] = dataframe['count'].astype('int32')\n",
    "    dataframe['proportion'] = dataframe['proportion'].astype('float32')\n",
    "    dataframe['proportion'] = dataframe['proportion'].round(2)\n",
    "    dataframe = dataframe.sort_values(by=['SITUACAO_VOO', 'MES_PARTIDA_PREVISTA']) \n",
    "    return dataframe "
   ]
  },
  {
   "cell_type": "code",
   "execution_count": 222,
   "metadata": {},
   "outputs": [
    {
     "data": {
      "text/html": [
       "<div>\n",
       "<style scoped>\n",
       "    .dataframe tbody tr th:only-of-type {\n",
       "        vertical-align: middle;\n",
       "    }\n",
       "\n",
       "    .dataframe tbody tr th {\n",
       "        vertical-align: top;\n",
       "    }\n",
       "\n",
       "    .dataframe thead th {\n",
       "        text-align: right;\n",
       "    }\n",
       "</style>\n",
       "<table border=\"1\" class=\"dataframe\">\n",
       "  <thead>\n",
       "    <tr style=\"text-align: right;\">\n",
       "      <th></th>\n",
       "      <th>SITUACAO_VOO</th>\n",
       "      <th>MES_PARTIDA_PREVISTA</th>\n",
       "      <th>NOME_MES_PARTIDA_PREVISTA</th>\n",
       "      <th>SIGLA_ICAO_AEROPORTO_ORIGEM</th>\n",
       "      <th>count</th>\n",
       "      <th>proportion</th>\n",
       "    </tr>\n",
       "  </thead>\n",
       "  <tbody>\n",
       "    <tr>\n",
       "      <th>2</th>\n",
       "      <td>CANCELADO</td>\n",
       "      <td>1</td>\n",
       "      <td>janeiro</td>\n",
       "      <td>SBRP</td>\n",
       "      <td>21</td>\n",
       "      <td>2.410000</td>\n",
       "    </tr>\n",
       "    <tr>\n",
       "      <th>3</th>\n",
       "      <td>CANCELADO</td>\n",
       "      <td>2</td>\n",
       "      <td>fevereiro</td>\n",
       "      <td>SBRP</td>\n",
       "      <td>18</td>\n",
       "      <td>2.060000</td>\n",
       "    </tr>\n",
       "    <tr>\n",
       "      <th>0</th>\n",
       "      <td>REALIZADO</td>\n",
       "      <td>1</td>\n",
       "      <td>janeiro</td>\n",
       "      <td>SBRP</td>\n",
       "      <td>584</td>\n",
       "      <td>66.970001</td>\n",
       "    </tr>\n",
       "    <tr>\n",
       "      <th>1</th>\n",
       "      <td>REALIZADO</td>\n",
       "      <td>2</td>\n",
       "      <td>fevereiro</td>\n",
       "      <td>SBRP</td>\n",
       "      <td>249</td>\n",
       "      <td>28.559999</td>\n",
       "    </tr>\n",
       "  </tbody>\n",
       "</table>\n",
       "</div>"
      ],
      "text/plain": [
       "  SITUACAO_VOO  MES_PARTIDA_PREVISTA NOME_MES_PARTIDA_PREVISTA  \\\n",
       "2    CANCELADO                     1                   janeiro   \n",
       "3    CANCELADO                     2                 fevereiro   \n",
       "0    REALIZADO                     1                   janeiro   \n",
       "1    REALIZADO                     2                 fevereiro   \n",
       "\n",
       "  SIGLA_ICAO_AEROPORTO_ORIGEM  count  proportion  \n",
       "2                        SBRP     21    2.410000  \n",
       "3                        SBRP     18    2.060000  \n",
       "0                        SBRP    584   66.970001  \n",
       "1                        SBRP    249   28.559999  "
      ]
     },
     "execution_count": 222,
     "metadata": {},
     "output_type": "execute_result"
    }
   ],
   "source": [
    "obter_situacao_voo(\n",
    "    sigla_aeroporto='SBRP', \n",
    "    mes_partida_prevista=[1, 2], \n",
    "    codigo_tipo_linha='N'\n",
    ")"
   ]
  },
  {
   "cell_type": "markdown",
   "metadata": {},
   "source": [
    "- Desempenho da Situação do Voo"
   ]
  },
  {
   "cell_type": "code",
   "execution_count": 166,
   "metadata": {},
   "outputs": [],
   "source": [
    "colunas = ['SIGLA_ICAO_EMPRESA_AEREA', 'SITUACAO_VOO', 'MES_PARTIDA_PREVISTA', 'NOME_MES_PARTIDA_PREVISTA', 'SIGLA_ICAO_AEROPORTO_ORIGEM']\n",
    "dataframe = pd.read_parquet(caminho_base, columns=colunas)"
   ]
  },
  {
   "cell_type": "code",
   "execution_count": 16,
   "metadata": {},
   "outputs": [
    {
     "data": {
      "text/html": [
       "<div>\n",
       "<style scoped>\n",
       "    .dataframe tbody tr th:only-of-type {\n",
       "        vertical-align: middle;\n",
       "    }\n",
       "\n",
       "    .dataframe tbody tr th {\n",
       "        vertical-align: top;\n",
       "    }\n",
       "\n",
       "    .dataframe thead th {\n",
       "        text-align: right;\n",
       "    }\n",
       "</style>\n",
       "<table border=\"1\" class=\"dataframe\">\n",
       "  <thead>\n",
       "    <tr style=\"text-align: right;\">\n",
       "      <th></th>\n",
       "      <th>SIGLA_ICAO_EMPRESA_AEREA</th>\n",
       "      <th>SITUACAO_VOO</th>\n",
       "      <th>MES_PARTIDA_PREVISTA</th>\n",
       "      <th>NOME_MES_PARTIDA_PREVISTA</th>\n",
       "      <th>SIGLA_ICAO_AEROPORTO_ORIGEM</th>\n",
       "    </tr>\n",
       "  </thead>\n",
       "  <tbody>\n",
       "    <tr>\n",
       "      <th>488380</th>\n",
       "      <td>TAM</td>\n",
       "      <td>REALIZADO</td>\n",
       "      <td>1</td>\n",
       "      <td>janeiro</td>\n",
       "      <td>SBRP</td>\n",
       "    </tr>\n",
       "    <tr>\n",
       "      <th>488381</th>\n",
       "      <td>TAM</td>\n",
       "      <td>REALIZADO</td>\n",
       "      <td>1</td>\n",
       "      <td>janeiro</td>\n",
       "      <td>SBRP</td>\n",
       "    </tr>\n",
       "    <tr>\n",
       "      <th>537779</th>\n",
       "      <td>TAM</td>\n",
       "      <td>REALIZADO</td>\n",
       "      <td>1</td>\n",
       "      <td>janeiro</td>\n",
       "      <td>SBRP</td>\n",
       "    </tr>\n",
       "    <tr>\n",
       "      <th>537780</th>\n",
       "      <td>TAM</td>\n",
       "      <td>REALIZADO</td>\n",
       "      <td>1</td>\n",
       "      <td>janeiro</td>\n",
       "      <td>SBRP</td>\n",
       "    </tr>\n",
       "    <tr>\n",
       "      <th>537781</th>\n",
       "      <td>TAM</td>\n",
       "      <td>REALIZADO</td>\n",
       "      <td>1</td>\n",
       "      <td>janeiro</td>\n",
       "      <td>SBRP</td>\n",
       "    </tr>\n",
       "  </tbody>\n",
       "</table>\n",
       "</div>"
      ],
      "text/plain": [
       "       SIGLA_ICAO_EMPRESA_AEREA SITUACAO_VOO  MES_PARTIDA_PREVISTA  \\\n",
       "488380                      TAM    REALIZADO                     1   \n",
       "488381                      TAM    REALIZADO                     1   \n",
       "537779                      TAM    REALIZADO                     1   \n",
       "537780                      TAM    REALIZADO                     1   \n",
       "537781                      TAM    REALIZADO                     1   \n",
       "\n",
       "       NOME_MES_PARTIDA_PREVISTA SIGLA_ICAO_AEROPORTO_ORIGEM  \n",
       "488380                   janeiro                        SBRP  \n",
       "488381                   janeiro                        SBRP  \n",
       "537779                   janeiro                        SBRP  \n",
       "537780                   janeiro                        SBRP  \n",
       "537781                   janeiro                        SBRP  "
      ]
     },
     "execution_count": 16,
     "metadata": {},
     "output_type": "execute_result"
    }
   ],
   "source": [
    "dataframe = dataframe.query('SIGLA_ICAO_EMPRESA_AEREA == \"TAM\"  ' \\\n",
    "            ' and SIGLA_ICAO_AEROPORTO_ORIGEM == \"SBRP\"'\n",
    "            ' and SITUACAO_VOO == \"REALIZADO\" ' \n",
    "            )\n",
    "\n",
    "dataframe.head()"
   ]
  },
  {
   "cell_type": "code",
   "execution_count": 17,
   "metadata": {},
   "outputs": [
    {
     "name": "stdout",
     "output_type": "stream",
     "text": [
      "<class 'pandas.core.frame.DataFrame'>\n",
      "Index: 345 entries, 488380 to 680870\n",
      "Data columns (total 5 columns):\n",
      " #   Column                       Non-Null Count  Dtype   \n",
      "---  ------                       --------------  -----   \n",
      " 0   SIGLA_ICAO_EMPRESA_AEREA     345 non-null    string  \n",
      " 1   SITUACAO_VOO                 345 non-null    category\n",
      " 2   MES_PARTIDA_PREVISTA         345 non-null    int32   \n",
      " 3   NOME_MES_PARTIDA_PREVISTA    345 non-null    category\n",
      " 4   SIGLA_ICAO_AEROPORTO_ORIGEM  345 non-null    string  \n",
      "dtypes: category(2), int32(1), string(2)\n",
      "memory usage: 10.6 KB\n"
     ]
    }
   ],
   "source": [
    "dataframe.info()"
   ]
  },
  {
   "cell_type": "code",
   "execution_count": 18,
   "metadata": {},
   "outputs": [
    {
     "name": "stdout",
     "output_type": "stream",
     "text": [
      "<class 'pandas.core.frame.DataFrame'>\n",
      "Index: 345 entries, 488380 to 680870\n",
      "Data columns (total 5 columns):\n",
      " #   Column                       Non-Null Count  Dtype \n",
      "---  ------                       --------------  ----- \n",
      " 0   SIGLA_ICAO_EMPRESA_AEREA     345 non-null    string\n",
      " 1   SITUACAO_VOO                 345 non-null    string\n",
      " 2   MES_PARTIDA_PREVISTA         345 non-null    int32 \n",
      " 3   NOME_MES_PARTIDA_PREVISTA    345 non-null    string\n",
      " 4   SIGLA_ICAO_AEROPORTO_ORIGEM  345 non-null    string\n",
      "dtypes: int32(1), string(4)\n",
      "memory usage: 14.8 KB\n"
     ]
    }
   ],
   "source": [
    "dataframe['SITUACAO_VOO'] = dataframe['SITUACAO_VOO'].astype('string')\n",
    "dataframe['NOME_MES_PARTIDA_PREVISTA'] = dataframe['NOME_MES_PARTIDA_PREVISTA'].astype('string')\n",
    "dataframe.info()"
   ]
  },
  {
   "cell_type": "code",
   "execution_count": 19,
   "metadata": {},
   "outputs": [
    {
     "data": {
      "text/html": [
       "<div>\n",
       "<style scoped>\n",
       "    .dataframe tbody tr th:only-of-type {\n",
       "        vertical-align: middle;\n",
       "    }\n",
       "\n",
       "    .dataframe tbody tr th {\n",
       "        vertical-align: top;\n",
       "    }\n",
       "\n",
       "    .dataframe thead th {\n",
       "        text-align: right;\n",
       "    }\n",
       "</style>\n",
       "<table border=\"1\" class=\"dataframe\">\n",
       "  <thead>\n",
       "    <tr style=\"text-align: right;\">\n",
       "      <th></th>\n",
       "      <th>MES_PARTIDA_PREVISTA</th>\n",
       "      <th>NOME_MES_PARTIDA_PREVISTA</th>\n",
       "      <th>SITUACAO_VOO</th>\n",
       "      <th>TOTAL_SITUACAO</th>\n",
       "    </tr>\n",
       "  </thead>\n",
       "  <tbody>\n",
       "    <tr>\n",
       "      <th>0</th>\n",
       "      <td>1</td>\n",
       "      <td>janeiro</td>\n",
       "      <td>REALIZADO</td>\n",
       "      <td>41</td>\n",
       "    </tr>\n",
       "    <tr>\n",
       "      <th>1</th>\n",
       "      <td>2</td>\n",
       "      <td>fevereiro</td>\n",
       "      <td>REALIZADO</td>\n",
       "      <td>20</td>\n",
       "    </tr>\n",
       "    <tr>\n",
       "      <th>2</th>\n",
       "      <td>3</td>\n",
       "      <td>março</td>\n",
       "      <td>REALIZADO</td>\n",
       "      <td>23</td>\n",
       "    </tr>\n",
       "    <tr>\n",
       "      <th>3</th>\n",
       "      <td>4</td>\n",
       "      <td>abril</td>\n",
       "      <td>REALIZADO</td>\n",
       "      <td>21</td>\n",
       "    </tr>\n",
       "    <tr>\n",
       "      <th>4</th>\n",
       "      <td>5</td>\n",
       "      <td>maio</td>\n",
       "      <td>REALIZADO</td>\n",
       "      <td>20</td>\n",
       "    </tr>\n",
       "    <tr>\n",
       "      <th>5</th>\n",
       "      <td>6</td>\n",
       "      <td>junho</td>\n",
       "      <td>REALIZADO</td>\n",
       "      <td>22</td>\n",
       "    </tr>\n",
       "    <tr>\n",
       "      <th>6</th>\n",
       "      <td>7</td>\n",
       "      <td>julho</td>\n",
       "      <td>REALIZADO</td>\n",
       "      <td>21</td>\n",
       "    </tr>\n",
       "    <tr>\n",
       "      <th>7</th>\n",
       "      <td>8</td>\n",
       "      <td>agosto</td>\n",
       "      <td>REALIZADO</td>\n",
       "      <td>23</td>\n",
       "    </tr>\n",
       "    <tr>\n",
       "      <th>8</th>\n",
       "      <td>9</td>\n",
       "      <td>setembro</td>\n",
       "      <td>REALIZADO</td>\n",
       "      <td>23</td>\n",
       "    </tr>\n",
       "    <tr>\n",
       "      <th>9</th>\n",
       "      <td>10</td>\n",
       "      <td>outubro</td>\n",
       "      <td>REALIZADO</td>\n",
       "      <td>24</td>\n",
       "    </tr>\n",
       "    <tr>\n",
       "      <th>10</th>\n",
       "      <td>11</td>\n",
       "      <td>novembro</td>\n",
       "      <td>REALIZADO</td>\n",
       "      <td>53</td>\n",
       "    </tr>\n",
       "    <tr>\n",
       "      <th>11</th>\n",
       "      <td>12</td>\n",
       "      <td>dezembro</td>\n",
       "      <td>REALIZADO</td>\n",
       "      <td>54</td>\n",
       "    </tr>\n",
       "  </tbody>\n",
       "</table>\n",
       "</div>"
      ],
      "text/plain": [
       "    MES_PARTIDA_PREVISTA NOME_MES_PARTIDA_PREVISTA SITUACAO_VOO  \\\n",
       "0                      1                   janeiro    REALIZADO   \n",
       "1                      2                 fevereiro    REALIZADO   \n",
       "2                      3                     março    REALIZADO   \n",
       "3                      4                     abril    REALIZADO   \n",
       "4                      5                      maio    REALIZADO   \n",
       "5                      6                     junho    REALIZADO   \n",
       "6                      7                     julho    REALIZADO   \n",
       "7                      8                    agosto    REALIZADO   \n",
       "8                      9                  setembro    REALIZADO   \n",
       "9                     10                   outubro    REALIZADO   \n",
       "10                    11                  novembro    REALIZADO   \n",
       "11                    12                  dezembro    REALIZADO   \n",
       "\n",
       "    TOTAL_SITUACAO  \n",
       "0               41  \n",
       "1               20  \n",
       "2               23  \n",
       "3               21  \n",
       "4               20  \n",
       "5               22  \n",
       "6               21  \n",
       "7               23  \n",
       "8               23  \n",
       "9               24  \n",
       "10              53  \n",
       "11              54  "
      ]
     },
     "execution_count": 19,
     "metadata": {},
     "output_type": "execute_result"
    }
   ],
   "source": [
    "dataframe_gb = dataframe.groupby(['MES_PARTIDA_PREVISTA', 'NOME_MES_PARTIDA_PREVISTA', 'SITUACAO_VOO'], observed=False).agg(\n",
    "    TOTAL_SITUACAO=('SITUACAO_VOO', 'count')\n",
    ")\n",
    "dataframe_gb.sort_values(by=['MES_PARTIDA_PREVISTA'], inplace=True)\n",
    "dataframe_gb.reset_index(inplace=True)\n",
    "dataframe_gb"
   ]
  },
  {
   "cell_type": "code",
   "execution_count": 20,
   "metadata": {},
   "outputs": [
    {
     "data": {
      "application/vnd.plotly.v1+json": {
       "config": {
        "plotlyServerURL": "https://plot.ly"
       },
       "data": [
        {
         "alignmentgroup": "True",
         "hovertemplate": "NOME_MES_PARTIDA_PREVISTA=%{x}<br>TOTAL_SITUACAO=%{y}<extra></extra>",
         "legendgroup": "",
         "marker": {
          "color": "#636efa",
          "pattern": {
           "shape": ""
          }
         },
         "name": "",
         "offsetgroup": "",
         "orientation": "v",
         "showlegend": false,
         "textposition": "outside",
         "texttemplate": "%{y}",
         "type": "bar",
         "x": [
          "janeiro",
          "fevereiro",
          "março",
          "abril",
          "maio",
          "junho",
          "julho",
          "agosto",
          "setembro",
          "outubro",
          "novembro",
          "dezembro"
         ],
         "xaxis": "x",
         "y": [
          41,
          20,
          23,
          21,
          20,
          22,
          21,
          23,
          23,
          24,
          53,
          54
         ],
         "yaxis": "y"
        }
       ],
       "layout": {
        "barmode": "relative",
        "legend": {
         "tracegroupgap": 0
        },
        "margin": {
         "t": 60
        },
        "template": {
         "data": {
          "bar": [
           {
            "error_x": {
             "color": "#2a3f5f"
            },
            "error_y": {
             "color": "#2a3f5f"
            },
            "marker": {
             "line": {
              "color": "#E5ECF6",
              "width": 0.5
             },
             "pattern": {
              "fillmode": "overlay",
              "size": 10,
              "solidity": 0.2
             }
            },
            "type": "bar"
           }
          ],
          "barpolar": [
           {
            "marker": {
             "line": {
              "color": "#E5ECF6",
              "width": 0.5
             },
             "pattern": {
              "fillmode": "overlay",
              "size": 10,
              "solidity": 0.2
             }
            },
            "type": "barpolar"
           }
          ],
          "carpet": [
           {
            "aaxis": {
             "endlinecolor": "#2a3f5f",
             "gridcolor": "white",
             "linecolor": "white",
             "minorgridcolor": "white",
             "startlinecolor": "#2a3f5f"
            },
            "baxis": {
             "endlinecolor": "#2a3f5f",
             "gridcolor": "white",
             "linecolor": "white",
             "minorgridcolor": "white",
             "startlinecolor": "#2a3f5f"
            },
            "type": "carpet"
           }
          ],
          "choropleth": [
           {
            "colorbar": {
             "outlinewidth": 0,
             "ticks": ""
            },
            "type": "choropleth"
           }
          ],
          "contour": [
           {
            "colorbar": {
             "outlinewidth": 0,
             "ticks": ""
            },
            "colorscale": [
             [
              0,
              "#0d0887"
             ],
             [
              0.1111111111111111,
              "#46039f"
             ],
             [
              0.2222222222222222,
              "#7201a8"
             ],
             [
              0.3333333333333333,
              "#9c179e"
             ],
             [
              0.4444444444444444,
              "#bd3786"
             ],
             [
              0.5555555555555556,
              "#d8576b"
             ],
             [
              0.6666666666666666,
              "#ed7953"
             ],
             [
              0.7777777777777778,
              "#fb9f3a"
             ],
             [
              0.8888888888888888,
              "#fdca26"
             ],
             [
              1,
              "#f0f921"
             ]
            ],
            "type": "contour"
           }
          ],
          "contourcarpet": [
           {
            "colorbar": {
             "outlinewidth": 0,
             "ticks": ""
            },
            "type": "contourcarpet"
           }
          ],
          "heatmap": [
           {
            "colorbar": {
             "outlinewidth": 0,
             "ticks": ""
            },
            "colorscale": [
             [
              0,
              "#0d0887"
             ],
             [
              0.1111111111111111,
              "#46039f"
             ],
             [
              0.2222222222222222,
              "#7201a8"
             ],
             [
              0.3333333333333333,
              "#9c179e"
             ],
             [
              0.4444444444444444,
              "#bd3786"
             ],
             [
              0.5555555555555556,
              "#d8576b"
             ],
             [
              0.6666666666666666,
              "#ed7953"
             ],
             [
              0.7777777777777778,
              "#fb9f3a"
             ],
             [
              0.8888888888888888,
              "#fdca26"
             ],
             [
              1,
              "#f0f921"
             ]
            ],
            "type": "heatmap"
           }
          ],
          "heatmapgl": [
           {
            "colorbar": {
             "outlinewidth": 0,
             "ticks": ""
            },
            "colorscale": [
             [
              0,
              "#0d0887"
             ],
             [
              0.1111111111111111,
              "#46039f"
             ],
             [
              0.2222222222222222,
              "#7201a8"
             ],
             [
              0.3333333333333333,
              "#9c179e"
             ],
             [
              0.4444444444444444,
              "#bd3786"
             ],
             [
              0.5555555555555556,
              "#d8576b"
             ],
             [
              0.6666666666666666,
              "#ed7953"
             ],
             [
              0.7777777777777778,
              "#fb9f3a"
             ],
             [
              0.8888888888888888,
              "#fdca26"
             ],
             [
              1,
              "#f0f921"
             ]
            ],
            "type": "heatmapgl"
           }
          ],
          "histogram": [
           {
            "marker": {
             "pattern": {
              "fillmode": "overlay",
              "size": 10,
              "solidity": 0.2
             }
            },
            "type": "histogram"
           }
          ],
          "histogram2d": [
           {
            "colorbar": {
             "outlinewidth": 0,
             "ticks": ""
            },
            "colorscale": [
             [
              0,
              "#0d0887"
             ],
             [
              0.1111111111111111,
              "#46039f"
             ],
             [
              0.2222222222222222,
              "#7201a8"
             ],
             [
              0.3333333333333333,
              "#9c179e"
             ],
             [
              0.4444444444444444,
              "#bd3786"
             ],
             [
              0.5555555555555556,
              "#d8576b"
             ],
             [
              0.6666666666666666,
              "#ed7953"
             ],
             [
              0.7777777777777778,
              "#fb9f3a"
             ],
             [
              0.8888888888888888,
              "#fdca26"
             ],
             [
              1,
              "#f0f921"
             ]
            ],
            "type": "histogram2d"
           }
          ],
          "histogram2dcontour": [
           {
            "colorbar": {
             "outlinewidth": 0,
             "ticks": ""
            },
            "colorscale": [
             [
              0,
              "#0d0887"
             ],
             [
              0.1111111111111111,
              "#46039f"
             ],
             [
              0.2222222222222222,
              "#7201a8"
             ],
             [
              0.3333333333333333,
              "#9c179e"
             ],
             [
              0.4444444444444444,
              "#bd3786"
             ],
             [
              0.5555555555555556,
              "#d8576b"
             ],
             [
              0.6666666666666666,
              "#ed7953"
             ],
             [
              0.7777777777777778,
              "#fb9f3a"
             ],
             [
              0.8888888888888888,
              "#fdca26"
             ],
             [
              1,
              "#f0f921"
             ]
            ],
            "type": "histogram2dcontour"
           }
          ],
          "mesh3d": [
           {
            "colorbar": {
             "outlinewidth": 0,
             "ticks": ""
            },
            "type": "mesh3d"
           }
          ],
          "parcoords": [
           {
            "line": {
             "colorbar": {
              "outlinewidth": 0,
              "ticks": ""
             }
            },
            "type": "parcoords"
           }
          ],
          "pie": [
           {
            "automargin": true,
            "type": "pie"
           }
          ],
          "scatter": [
           {
            "fillpattern": {
             "fillmode": "overlay",
             "size": 10,
             "solidity": 0.2
            },
            "type": "scatter"
           }
          ],
          "scatter3d": [
           {
            "line": {
             "colorbar": {
              "outlinewidth": 0,
              "ticks": ""
             }
            },
            "marker": {
             "colorbar": {
              "outlinewidth": 0,
              "ticks": ""
             }
            },
            "type": "scatter3d"
           }
          ],
          "scattercarpet": [
           {
            "marker": {
             "colorbar": {
              "outlinewidth": 0,
              "ticks": ""
             }
            },
            "type": "scattercarpet"
           }
          ],
          "scattergeo": [
           {
            "marker": {
             "colorbar": {
              "outlinewidth": 0,
              "ticks": ""
             }
            },
            "type": "scattergeo"
           }
          ],
          "scattergl": [
           {
            "marker": {
             "colorbar": {
              "outlinewidth": 0,
              "ticks": ""
             }
            },
            "type": "scattergl"
           }
          ],
          "scattermapbox": [
           {
            "marker": {
             "colorbar": {
              "outlinewidth": 0,
              "ticks": ""
             }
            },
            "type": "scattermapbox"
           }
          ],
          "scatterpolar": [
           {
            "marker": {
             "colorbar": {
              "outlinewidth": 0,
              "ticks": ""
             }
            },
            "type": "scatterpolar"
           }
          ],
          "scatterpolargl": [
           {
            "marker": {
             "colorbar": {
              "outlinewidth": 0,
              "ticks": ""
             }
            },
            "type": "scatterpolargl"
           }
          ],
          "scatterternary": [
           {
            "marker": {
             "colorbar": {
              "outlinewidth": 0,
              "ticks": ""
             }
            },
            "type": "scatterternary"
           }
          ],
          "surface": [
           {
            "colorbar": {
             "outlinewidth": 0,
             "ticks": ""
            },
            "colorscale": [
             [
              0,
              "#0d0887"
             ],
             [
              0.1111111111111111,
              "#46039f"
             ],
             [
              0.2222222222222222,
              "#7201a8"
             ],
             [
              0.3333333333333333,
              "#9c179e"
             ],
             [
              0.4444444444444444,
              "#bd3786"
             ],
             [
              0.5555555555555556,
              "#d8576b"
             ],
             [
              0.6666666666666666,
              "#ed7953"
             ],
             [
              0.7777777777777778,
              "#fb9f3a"
             ],
             [
              0.8888888888888888,
              "#fdca26"
             ],
             [
              1,
              "#f0f921"
             ]
            ],
            "type": "surface"
           }
          ],
          "table": [
           {
            "cells": {
             "fill": {
              "color": "#EBF0F8"
             },
             "line": {
              "color": "white"
             }
            },
            "header": {
             "fill": {
              "color": "#C8D4E3"
             },
             "line": {
              "color": "white"
             }
            },
            "type": "table"
           }
          ]
         },
         "layout": {
          "annotationdefaults": {
           "arrowcolor": "#2a3f5f",
           "arrowhead": 0,
           "arrowwidth": 1
          },
          "autotypenumbers": "strict",
          "coloraxis": {
           "colorbar": {
            "outlinewidth": 0,
            "ticks": ""
           }
          },
          "colorscale": {
           "diverging": [
            [
             0,
             "#8e0152"
            ],
            [
             0.1,
             "#c51b7d"
            ],
            [
             0.2,
             "#de77ae"
            ],
            [
             0.3,
             "#f1b6da"
            ],
            [
             0.4,
             "#fde0ef"
            ],
            [
             0.5,
             "#f7f7f7"
            ],
            [
             0.6,
             "#e6f5d0"
            ],
            [
             0.7,
             "#b8e186"
            ],
            [
             0.8,
             "#7fbc41"
            ],
            [
             0.9,
             "#4d9221"
            ],
            [
             1,
             "#276419"
            ]
           ],
           "sequential": [
            [
             0,
             "#0d0887"
            ],
            [
             0.1111111111111111,
             "#46039f"
            ],
            [
             0.2222222222222222,
             "#7201a8"
            ],
            [
             0.3333333333333333,
             "#9c179e"
            ],
            [
             0.4444444444444444,
             "#bd3786"
            ],
            [
             0.5555555555555556,
             "#d8576b"
            ],
            [
             0.6666666666666666,
             "#ed7953"
            ],
            [
             0.7777777777777778,
             "#fb9f3a"
            ],
            [
             0.8888888888888888,
             "#fdca26"
            ],
            [
             1,
             "#f0f921"
            ]
           ],
           "sequentialminus": [
            [
             0,
             "#0d0887"
            ],
            [
             0.1111111111111111,
             "#46039f"
            ],
            [
             0.2222222222222222,
             "#7201a8"
            ],
            [
             0.3333333333333333,
             "#9c179e"
            ],
            [
             0.4444444444444444,
             "#bd3786"
            ],
            [
             0.5555555555555556,
             "#d8576b"
            ],
            [
             0.6666666666666666,
             "#ed7953"
            ],
            [
             0.7777777777777778,
             "#fb9f3a"
            ],
            [
             0.8888888888888888,
             "#fdca26"
            ],
            [
             1,
             "#f0f921"
            ]
           ]
          },
          "colorway": [
           "#636efa",
           "#EF553B",
           "#00cc96",
           "#ab63fa",
           "#FFA15A",
           "#19d3f3",
           "#FF6692",
           "#B6E880",
           "#FF97FF",
           "#FECB52"
          ],
          "font": {
           "color": "#2a3f5f"
          },
          "geo": {
           "bgcolor": "white",
           "lakecolor": "white",
           "landcolor": "#E5ECF6",
           "showlakes": true,
           "showland": true,
           "subunitcolor": "white"
          },
          "hoverlabel": {
           "align": "left"
          },
          "hovermode": "closest",
          "mapbox": {
           "style": "light"
          },
          "paper_bgcolor": "white",
          "plot_bgcolor": "#E5ECF6",
          "polar": {
           "angularaxis": {
            "gridcolor": "white",
            "linecolor": "white",
            "ticks": ""
           },
           "bgcolor": "#E5ECF6",
           "radialaxis": {
            "gridcolor": "white",
            "linecolor": "white",
            "ticks": ""
           }
          },
          "scene": {
           "xaxis": {
            "backgroundcolor": "#E5ECF6",
            "gridcolor": "white",
            "gridwidth": 2,
            "linecolor": "white",
            "showbackground": true,
            "ticks": "",
            "zerolinecolor": "white"
           },
           "yaxis": {
            "backgroundcolor": "#E5ECF6",
            "gridcolor": "white",
            "gridwidth": 2,
            "linecolor": "white",
            "showbackground": true,
            "ticks": "",
            "zerolinecolor": "white"
           },
           "zaxis": {
            "backgroundcolor": "#E5ECF6",
            "gridcolor": "white",
            "gridwidth": 2,
            "linecolor": "white",
            "showbackground": true,
            "ticks": "",
            "zerolinecolor": "white"
           }
          },
          "shapedefaults": {
           "line": {
            "color": "#2a3f5f"
           }
          },
          "ternary": {
           "aaxis": {
            "gridcolor": "white",
            "linecolor": "white",
            "ticks": ""
           },
           "baxis": {
            "gridcolor": "white",
            "linecolor": "white",
            "ticks": ""
           },
           "bgcolor": "#E5ECF6",
           "caxis": {
            "gridcolor": "white",
            "linecolor": "white",
            "ticks": ""
           }
          },
          "title": {
           "x": 0.05
          },
          "xaxis": {
           "automargin": true,
           "gridcolor": "white",
           "linecolor": "white",
           "ticks": "",
           "title": {
            "standoff": 15
           },
           "zerolinecolor": "white",
           "zerolinewidth": 2
          },
          "yaxis": {
           "automargin": true,
           "gridcolor": "white",
           "linecolor": "white",
           "ticks": "",
           "title": {
            "standoff": 15
           },
           "zerolinecolor": "white",
           "zerolinewidth": 2
          }
         }
        },
        "xaxis": {
         "anchor": "y",
         "domain": [
          0,
          1
         ],
         "title": {
          "text": "NOME_MES_PARTIDA_PREVISTA"
         }
        },
        "yaxis": {
         "anchor": "x",
         "domain": [
          0,
          1
         ],
         "title": {
          "text": "TOTAL_SITUACAO"
         }
        }
       }
      }
     },
     "metadata": {},
     "output_type": "display_data"
    }
   ],
   "source": [
    "fig = px.bar(\n",
    "    dataframe_gb, \n",
    "    x='NOME_MES_PARTIDA_PREVISTA', \n",
    "    y='TOTAL_SITUACAO', \n",
    "    text_auto=True,\n",
    ")\n",
    "fig.update_traces(\n",
    "    textposition='outside'\n",
    ")\n",
    "fig.show()"
   ]
  },
  {
   "cell_type": "markdown",
   "metadata": {},
   "source": [
    "- Total de Vôos por aeroporto"
   ]
  },
  {
   "cell_type": "code",
   "execution_count": 21,
   "metadata": {},
   "outputs": [],
   "source": [
    "colunas = ['NOME_AEROPORTO_ORIGEM', 'MES_PARTIDA_PREVISTA', 'NOME_MES_PARTIDA_PREVISTA', 'SIGLA_ICAO_AEROPORTO_ORIGEM']\n",
    "dataframe = pd.read_parquet(caminho_base, columns=colunas)"
   ]
  },
  {
   "cell_type": "code",
   "execution_count": 22,
   "metadata": {},
   "outputs": [
    {
     "data": {
      "text/html": [
       "<div>\n",
       "<style scoped>\n",
       "    .dataframe tbody tr th:only-of-type {\n",
       "        vertical-align: middle;\n",
       "    }\n",
       "\n",
       "    .dataframe tbody tr th {\n",
       "        vertical-align: top;\n",
       "    }\n",
       "\n",
       "    .dataframe thead th {\n",
       "        text-align: right;\n",
       "    }\n",
       "</style>\n",
       "<table border=\"1\" class=\"dataframe\">\n",
       "  <thead>\n",
       "    <tr style=\"text-align: right;\">\n",
       "      <th></th>\n",
       "      <th>NOME_AEROPORTO_ORIGEM</th>\n",
       "      <th>MES_PARTIDA_PREVISTA</th>\n",
       "      <th>NOME_MES_PARTIDA_PREVISTA</th>\n",
       "      <th>SIGLA_ICAO_AEROPORTO_ORIGEM</th>\n",
       "    </tr>\n",
       "  </thead>\n",
       "  <tbody>\n",
       "    <tr>\n",
       "      <th>1929</th>\n",
       "      <td>LEITE LOPES</td>\n",
       "      <td>1</td>\n",
       "      <td>janeiro</td>\n",
       "      <td>SBRP</td>\n",
       "    </tr>\n",
       "    <tr>\n",
       "      <th>1930</th>\n",
       "      <td>LEITE LOPES</td>\n",
       "      <td>1</td>\n",
       "      <td>janeiro</td>\n",
       "      <td>SBRP</td>\n",
       "    </tr>\n",
       "    <tr>\n",
       "      <th>1931</th>\n",
       "      <td>LEITE LOPES</td>\n",
       "      <td>1</td>\n",
       "      <td>janeiro</td>\n",
       "      <td>SBRP</td>\n",
       "    </tr>\n",
       "    <tr>\n",
       "      <th>1932</th>\n",
       "      <td>LEITE LOPES</td>\n",
       "      <td>1</td>\n",
       "      <td>janeiro</td>\n",
       "      <td>SBRP</td>\n",
       "    </tr>\n",
       "    <tr>\n",
       "      <th>1933</th>\n",
       "      <td>LEITE LOPES</td>\n",
       "      <td>1</td>\n",
       "      <td>janeiro</td>\n",
       "      <td>SBRP</td>\n",
       "    </tr>\n",
       "    <tr>\n",
       "      <th>...</th>\n",
       "      <td>...</td>\n",
       "      <td>...</td>\n",
       "      <td>...</td>\n",
       "      <td>...</td>\n",
       "    </tr>\n",
       "    <tr>\n",
       "      <th>707275</th>\n",
       "      <td>LEITE LOPES</td>\n",
       "      <td>1</td>\n",
       "      <td>janeiro</td>\n",
       "      <td>SBRP</td>\n",
       "    </tr>\n",
       "    <tr>\n",
       "      <th>707479</th>\n",
       "      <td>LEITE LOPES</td>\n",
       "      <td>1</td>\n",
       "      <td>janeiro</td>\n",
       "      <td>SBRP</td>\n",
       "    </tr>\n",
       "    <tr>\n",
       "      <th>707480</th>\n",
       "      <td>LEITE LOPES</td>\n",
       "      <td>1</td>\n",
       "      <td>janeiro</td>\n",
       "      <td>SBRP</td>\n",
       "    </tr>\n",
       "    <tr>\n",
       "      <th>707481</th>\n",
       "      <td>LEITE LOPES</td>\n",
       "      <td>1</td>\n",
       "      <td>janeiro</td>\n",
       "      <td>SBRP</td>\n",
       "    </tr>\n",
       "    <tr>\n",
       "      <th>710551</th>\n",
       "      <td>LEITE LOPES</td>\n",
       "      <td>1</td>\n",
       "      <td>janeiro</td>\n",
       "      <td>SBRP</td>\n",
       "    </tr>\n",
       "  </tbody>\n",
       "</table>\n",
       "<p>4955 rows × 4 columns</p>\n",
       "</div>"
      ],
      "text/plain": [
       "       NOME_AEROPORTO_ORIGEM  MES_PARTIDA_PREVISTA NOME_MES_PARTIDA_PREVISTA  \\\n",
       "1929             LEITE LOPES                     1                   janeiro   \n",
       "1930             LEITE LOPES                     1                   janeiro   \n",
       "1931             LEITE LOPES                     1                   janeiro   \n",
       "1932             LEITE LOPES                     1                   janeiro   \n",
       "1933             LEITE LOPES                     1                   janeiro   \n",
       "...                      ...                   ...                       ...   \n",
       "707275           LEITE LOPES                     1                   janeiro   \n",
       "707479           LEITE LOPES                     1                   janeiro   \n",
       "707480           LEITE LOPES                     1                   janeiro   \n",
       "707481           LEITE LOPES                     1                   janeiro   \n",
       "710551           LEITE LOPES                     1                   janeiro   \n",
       "\n",
       "       SIGLA_ICAO_AEROPORTO_ORIGEM  \n",
       "1929                          SBRP  \n",
       "1930                          SBRP  \n",
       "1931                          SBRP  \n",
       "1932                          SBRP  \n",
       "1933                          SBRP  \n",
       "...                            ...  \n",
       "707275                        SBRP  \n",
       "707479                        SBRP  \n",
       "707480                        SBRP  \n",
       "707481                        SBRP  \n",
       "710551                        SBRP  \n",
       "\n",
       "[4955 rows x 4 columns]"
      ]
     },
     "execution_count": 22,
     "metadata": {},
     "output_type": "execute_result"
    }
   ],
   "source": [
    "dataframe.query('SIGLA_ICAO_AEROPORTO_ORIGEM == \"SBRP\"')"
   ]
  },
  {
   "cell_type": "code",
   "execution_count": 23,
   "metadata": {},
   "outputs": [
    {
     "name": "stdout",
     "output_type": "stream",
     "text": [
      "<class 'pandas.core.frame.DataFrame'>\n",
      "RangeIndex: 717357 entries, 0 to 717356\n",
      "Data columns (total 4 columns):\n",
      " #   Column                       Non-Null Count   Dtype   \n",
      "---  ------                       --------------   -----   \n",
      " 0   NOME_AEROPORTO_ORIGEM        717357 non-null  string  \n",
      " 1   MES_PARTIDA_PREVISTA         717357 non-null  int32   \n",
      " 2   NOME_MES_PARTIDA_PREVISTA    717357 non-null  category\n",
      " 3   SIGLA_ICAO_AEROPORTO_ORIGEM  717357 non-null  string  \n",
      "dtypes: category(1), int32(1), string(2)\n",
      "memory usage: 14.4 MB\n"
     ]
    }
   ],
   "source": [
    "dataframe.info()"
   ]
  },
  {
   "cell_type": "code",
   "execution_count": 24,
   "metadata": {},
   "outputs": [],
   "source": [
    "dataframe['NOME_MES_PARTIDA_PREVISTA'] = dataframe['NOME_MES_PARTIDA_PREVISTA'].astype('string')"
   ]
  },
  {
   "cell_type": "code",
   "execution_count": 25,
   "metadata": {},
   "outputs": [],
   "source": [
    "total_voos =dataframe.groupby(['MES_PARTIDA_PREVISTA', 'NOME_MES_PARTIDA_PREVISTA']).agg(\n",
    "    TOTAL_VOOS=('NOME_AEROPORTO_ORIGEM', 'count')\n",
    ")\n",
    "total_voos.reset_index(inplace=True)\n",
    "total_voos['TOTAL_VOOS'] = total_voos['TOTAL_VOOS'].astype('int32')\n"
   ]
  },
  {
   "cell_type": "code",
   "execution_count": 26,
   "metadata": {},
   "outputs": [
    {
     "data": {
      "text/html": [
       "<div>\n",
       "<style scoped>\n",
       "    .dataframe tbody tr th:only-of-type {\n",
       "        vertical-align: middle;\n",
       "    }\n",
       "\n",
       "    .dataframe tbody tr th {\n",
       "        vertical-align: top;\n",
       "    }\n",
       "\n",
       "    .dataframe thead th {\n",
       "        text-align: right;\n",
       "    }\n",
       "</style>\n",
       "<table border=\"1\" class=\"dataframe\">\n",
       "  <thead>\n",
       "    <tr style=\"text-align: right;\">\n",
       "      <th></th>\n",
       "      <th>MES_PARTIDA_PREVISTA</th>\n",
       "      <th>NOME_MES_PARTIDA_PREVISTA</th>\n",
       "      <th>TOTAL_VOOS</th>\n",
       "    </tr>\n",
       "  </thead>\n",
       "  <tbody>\n",
       "    <tr>\n",
       "      <th>0</th>\n",
       "      <td>1</td>\n",
       "      <td>janeiro</td>\n",
       "      <td>78523</td>\n",
       "    </tr>\n",
       "    <tr>\n",
       "      <th>1</th>\n",
       "      <td>2</td>\n",
       "      <td>fevereiro</td>\n",
       "      <td>46597</td>\n",
       "    </tr>\n",
       "    <tr>\n",
       "      <th>2</th>\n",
       "      <td>3</td>\n",
       "      <td>março</td>\n",
       "      <td>54542</td>\n",
       "    </tr>\n",
       "    <tr>\n",
       "      <th>3</th>\n",
       "      <td>4</td>\n",
       "      <td>abril</td>\n",
       "      <td>52739</td>\n",
       "    </tr>\n",
       "    <tr>\n",
       "      <th>4</th>\n",
       "      <td>5</td>\n",
       "      <td>maio</td>\n",
       "      <td>58631</td>\n",
       "    </tr>\n",
       "    <tr>\n",
       "      <th>5</th>\n",
       "      <td>6</td>\n",
       "      <td>junho</td>\n",
       "      <td>55320</td>\n",
       "    </tr>\n",
       "    <tr>\n",
       "      <th>6</th>\n",
       "      <td>7</td>\n",
       "      <td>julho</td>\n",
       "      <td>63666</td>\n",
       "    </tr>\n",
       "    <tr>\n",
       "      <th>7</th>\n",
       "      <td>8</td>\n",
       "      <td>agosto</td>\n",
       "      <td>60677</td>\n",
       "    </tr>\n",
       "    <tr>\n",
       "      <th>8</th>\n",
       "      <td>9</td>\n",
       "      <td>setembro</td>\n",
       "      <td>58683</td>\n",
       "    </tr>\n",
       "    <tr>\n",
       "      <th>9</th>\n",
       "      <td>10</td>\n",
       "      <td>outubro</td>\n",
       "      <td>61976</td>\n",
       "    </tr>\n",
       "    <tr>\n",
       "      <th>10</th>\n",
       "      <td>11</td>\n",
       "      <td>novembro</td>\n",
       "      <td>60523</td>\n",
       "    </tr>\n",
       "    <tr>\n",
       "      <th>11</th>\n",
       "      <td>12</td>\n",
       "      <td>dezembro</td>\n",
       "      <td>65480</td>\n",
       "    </tr>\n",
       "  </tbody>\n",
       "</table>\n",
       "</div>"
      ],
      "text/plain": [
       "    MES_PARTIDA_PREVISTA NOME_MES_PARTIDA_PREVISTA  TOTAL_VOOS\n",
       "0                      1                   janeiro       78523\n",
       "1                      2                 fevereiro       46597\n",
       "2                      3                     março       54542\n",
       "3                      4                     abril       52739\n",
       "4                      5                      maio       58631\n",
       "5                      6                     junho       55320\n",
       "6                      7                     julho       63666\n",
       "7                      8                    agosto       60677\n",
       "8                      9                  setembro       58683\n",
       "9                     10                   outubro       61976\n",
       "10                    11                  novembro       60523\n",
       "11                    12                  dezembro       65480"
      ]
     },
     "execution_count": 26,
     "metadata": {},
     "output_type": "execute_result"
    }
   ],
   "source": [
    "total_voos"
   ]
  },
  {
   "cell_type": "code",
   "execution_count": 27,
   "metadata": {},
   "outputs": [
    {
     "name": "stdout",
     "output_type": "stream",
     "text": [
      "<class 'pandas.core.frame.DataFrame'>\n",
      "RangeIndex: 12 entries, 0 to 11\n",
      "Data columns (total 3 columns):\n",
      " #   Column                     Non-Null Count  Dtype \n",
      "---  ------                     --------------  ----- \n",
      " 0   MES_PARTIDA_PREVISTA       12 non-null     int32 \n",
      " 1   NOME_MES_PARTIDA_PREVISTA  12 non-null     string\n",
      " 2   TOTAL_VOOS                 12 non-null     int32 \n",
      "dtypes: int32(2), string(1)\n",
      "memory usage: 320.0 bytes\n"
     ]
    }
   ],
   "source": [
    "total_voos.info()"
   ]
  },
  {
   "cell_type": "code",
   "execution_count": 28,
   "metadata": {},
   "outputs": [
    {
     "data": {
      "application/vnd.plotly.v1+json": {
       "config": {
        "plotlyServerURL": "https://plot.ly"
       },
       "data": [
        {
         "alignmentgroup": "True",
         "hovertemplate": "NOME_MES_PARTIDA_PREVISTA=%{x}<br>TOTAL_VOOS=%{y}<extra></extra>",
         "legendgroup": "",
         "marker": {
          "color": "#636efa",
          "pattern": {
           "shape": ""
          }
         },
         "name": "",
         "offsetgroup": "",
         "orientation": "v",
         "showlegend": false,
         "textposition": "outside",
         "texttemplate": "%{y:0}",
         "type": "bar",
         "x": [
          "janeiro",
          "fevereiro",
          "março",
          "abril",
          "maio",
          "junho",
          "julho",
          "agosto",
          "setembro",
          "outubro",
          "novembro",
          "dezembro"
         ],
         "xaxis": "x",
         "y": [
          78523,
          46597,
          54542,
          52739,
          58631,
          55320,
          63666,
          60677,
          58683,
          61976,
          60523,
          65480
         ],
         "yaxis": "y"
        }
       ],
       "layout": {
        "barmode": "relative",
        "legend": {
         "tracegroupgap": 0
        },
        "margin": {
         "t": 60
        },
        "template": {
         "data": {
          "bar": [
           {
            "error_x": {
             "color": "#2a3f5f"
            },
            "error_y": {
             "color": "#2a3f5f"
            },
            "marker": {
             "line": {
              "color": "#E5ECF6",
              "width": 0.5
             },
             "pattern": {
              "fillmode": "overlay",
              "size": 10,
              "solidity": 0.2
             }
            },
            "type": "bar"
           }
          ],
          "barpolar": [
           {
            "marker": {
             "line": {
              "color": "#E5ECF6",
              "width": 0.5
             },
             "pattern": {
              "fillmode": "overlay",
              "size": 10,
              "solidity": 0.2
             }
            },
            "type": "barpolar"
           }
          ],
          "carpet": [
           {
            "aaxis": {
             "endlinecolor": "#2a3f5f",
             "gridcolor": "white",
             "linecolor": "white",
             "minorgridcolor": "white",
             "startlinecolor": "#2a3f5f"
            },
            "baxis": {
             "endlinecolor": "#2a3f5f",
             "gridcolor": "white",
             "linecolor": "white",
             "minorgridcolor": "white",
             "startlinecolor": "#2a3f5f"
            },
            "type": "carpet"
           }
          ],
          "choropleth": [
           {
            "colorbar": {
             "outlinewidth": 0,
             "ticks": ""
            },
            "type": "choropleth"
           }
          ],
          "contour": [
           {
            "colorbar": {
             "outlinewidth": 0,
             "ticks": ""
            },
            "colorscale": [
             [
              0,
              "#0d0887"
             ],
             [
              0.1111111111111111,
              "#46039f"
             ],
             [
              0.2222222222222222,
              "#7201a8"
             ],
             [
              0.3333333333333333,
              "#9c179e"
             ],
             [
              0.4444444444444444,
              "#bd3786"
             ],
             [
              0.5555555555555556,
              "#d8576b"
             ],
             [
              0.6666666666666666,
              "#ed7953"
             ],
             [
              0.7777777777777778,
              "#fb9f3a"
             ],
             [
              0.8888888888888888,
              "#fdca26"
             ],
             [
              1,
              "#f0f921"
             ]
            ],
            "type": "contour"
           }
          ],
          "contourcarpet": [
           {
            "colorbar": {
             "outlinewidth": 0,
             "ticks": ""
            },
            "type": "contourcarpet"
           }
          ],
          "heatmap": [
           {
            "colorbar": {
             "outlinewidth": 0,
             "ticks": ""
            },
            "colorscale": [
             [
              0,
              "#0d0887"
             ],
             [
              0.1111111111111111,
              "#46039f"
             ],
             [
              0.2222222222222222,
              "#7201a8"
             ],
             [
              0.3333333333333333,
              "#9c179e"
             ],
             [
              0.4444444444444444,
              "#bd3786"
             ],
             [
              0.5555555555555556,
              "#d8576b"
             ],
             [
              0.6666666666666666,
              "#ed7953"
             ],
             [
              0.7777777777777778,
              "#fb9f3a"
             ],
             [
              0.8888888888888888,
              "#fdca26"
             ],
             [
              1,
              "#f0f921"
             ]
            ],
            "type": "heatmap"
           }
          ],
          "heatmapgl": [
           {
            "colorbar": {
             "outlinewidth": 0,
             "ticks": ""
            },
            "colorscale": [
             [
              0,
              "#0d0887"
             ],
             [
              0.1111111111111111,
              "#46039f"
             ],
             [
              0.2222222222222222,
              "#7201a8"
             ],
             [
              0.3333333333333333,
              "#9c179e"
             ],
             [
              0.4444444444444444,
              "#bd3786"
             ],
             [
              0.5555555555555556,
              "#d8576b"
             ],
             [
              0.6666666666666666,
              "#ed7953"
             ],
             [
              0.7777777777777778,
              "#fb9f3a"
             ],
             [
              0.8888888888888888,
              "#fdca26"
             ],
             [
              1,
              "#f0f921"
             ]
            ],
            "type": "heatmapgl"
           }
          ],
          "histogram": [
           {
            "marker": {
             "pattern": {
              "fillmode": "overlay",
              "size": 10,
              "solidity": 0.2
             }
            },
            "type": "histogram"
           }
          ],
          "histogram2d": [
           {
            "colorbar": {
             "outlinewidth": 0,
             "ticks": ""
            },
            "colorscale": [
             [
              0,
              "#0d0887"
             ],
             [
              0.1111111111111111,
              "#46039f"
             ],
             [
              0.2222222222222222,
              "#7201a8"
             ],
             [
              0.3333333333333333,
              "#9c179e"
             ],
             [
              0.4444444444444444,
              "#bd3786"
             ],
             [
              0.5555555555555556,
              "#d8576b"
             ],
             [
              0.6666666666666666,
              "#ed7953"
             ],
             [
              0.7777777777777778,
              "#fb9f3a"
             ],
             [
              0.8888888888888888,
              "#fdca26"
             ],
             [
              1,
              "#f0f921"
             ]
            ],
            "type": "histogram2d"
           }
          ],
          "histogram2dcontour": [
           {
            "colorbar": {
             "outlinewidth": 0,
             "ticks": ""
            },
            "colorscale": [
             [
              0,
              "#0d0887"
             ],
             [
              0.1111111111111111,
              "#46039f"
             ],
             [
              0.2222222222222222,
              "#7201a8"
             ],
             [
              0.3333333333333333,
              "#9c179e"
             ],
             [
              0.4444444444444444,
              "#bd3786"
             ],
             [
              0.5555555555555556,
              "#d8576b"
             ],
             [
              0.6666666666666666,
              "#ed7953"
             ],
             [
              0.7777777777777778,
              "#fb9f3a"
             ],
             [
              0.8888888888888888,
              "#fdca26"
             ],
             [
              1,
              "#f0f921"
             ]
            ],
            "type": "histogram2dcontour"
           }
          ],
          "mesh3d": [
           {
            "colorbar": {
             "outlinewidth": 0,
             "ticks": ""
            },
            "type": "mesh3d"
           }
          ],
          "parcoords": [
           {
            "line": {
             "colorbar": {
              "outlinewidth": 0,
              "ticks": ""
             }
            },
            "type": "parcoords"
           }
          ],
          "pie": [
           {
            "automargin": true,
            "type": "pie"
           }
          ],
          "scatter": [
           {
            "fillpattern": {
             "fillmode": "overlay",
             "size": 10,
             "solidity": 0.2
            },
            "type": "scatter"
           }
          ],
          "scatter3d": [
           {
            "line": {
             "colorbar": {
              "outlinewidth": 0,
              "ticks": ""
             }
            },
            "marker": {
             "colorbar": {
              "outlinewidth": 0,
              "ticks": ""
             }
            },
            "type": "scatter3d"
           }
          ],
          "scattercarpet": [
           {
            "marker": {
             "colorbar": {
              "outlinewidth": 0,
              "ticks": ""
             }
            },
            "type": "scattercarpet"
           }
          ],
          "scattergeo": [
           {
            "marker": {
             "colorbar": {
              "outlinewidth": 0,
              "ticks": ""
             }
            },
            "type": "scattergeo"
           }
          ],
          "scattergl": [
           {
            "marker": {
             "colorbar": {
              "outlinewidth": 0,
              "ticks": ""
             }
            },
            "type": "scattergl"
           }
          ],
          "scattermapbox": [
           {
            "marker": {
             "colorbar": {
              "outlinewidth": 0,
              "ticks": ""
             }
            },
            "type": "scattermapbox"
           }
          ],
          "scatterpolar": [
           {
            "marker": {
             "colorbar": {
              "outlinewidth": 0,
              "ticks": ""
             }
            },
            "type": "scatterpolar"
           }
          ],
          "scatterpolargl": [
           {
            "marker": {
             "colorbar": {
              "outlinewidth": 0,
              "ticks": ""
             }
            },
            "type": "scatterpolargl"
           }
          ],
          "scatterternary": [
           {
            "marker": {
             "colorbar": {
              "outlinewidth": 0,
              "ticks": ""
             }
            },
            "type": "scatterternary"
           }
          ],
          "surface": [
           {
            "colorbar": {
             "outlinewidth": 0,
             "ticks": ""
            },
            "colorscale": [
             [
              0,
              "#0d0887"
             ],
             [
              0.1111111111111111,
              "#46039f"
             ],
             [
              0.2222222222222222,
              "#7201a8"
             ],
             [
              0.3333333333333333,
              "#9c179e"
             ],
             [
              0.4444444444444444,
              "#bd3786"
             ],
             [
              0.5555555555555556,
              "#d8576b"
             ],
             [
              0.6666666666666666,
              "#ed7953"
             ],
             [
              0.7777777777777778,
              "#fb9f3a"
             ],
             [
              0.8888888888888888,
              "#fdca26"
             ],
             [
              1,
              "#f0f921"
             ]
            ],
            "type": "surface"
           }
          ],
          "table": [
           {
            "cells": {
             "fill": {
              "color": "#EBF0F8"
             },
             "line": {
              "color": "white"
             }
            },
            "header": {
             "fill": {
              "color": "#C8D4E3"
             },
             "line": {
              "color": "white"
             }
            },
            "type": "table"
           }
          ]
         },
         "layout": {
          "annotationdefaults": {
           "arrowcolor": "#2a3f5f",
           "arrowhead": 0,
           "arrowwidth": 1
          },
          "autotypenumbers": "strict",
          "coloraxis": {
           "colorbar": {
            "outlinewidth": 0,
            "ticks": ""
           }
          },
          "colorscale": {
           "diverging": [
            [
             0,
             "#8e0152"
            ],
            [
             0.1,
             "#c51b7d"
            ],
            [
             0.2,
             "#de77ae"
            ],
            [
             0.3,
             "#f1b6da"
            ],
            [
             0.4,
             "#fde0ef"
            ],
            [
             0.5,
             "#f7f7f7"
            ],
            [
             0.6,
             "#e6f5d0"
            ],
            [
             0.7,
             "#b8e186"
            ],
            [
             0.8,
             "#7fbc41"
            ],
            [
             0.9,
             "#4d9221"
            ],
            [
             1,
             "#276419"
            ]
           ],
           "sequential": [
            [
             0,
             "#0d0887"
            ],
            [
             0.1111111111111111,
             "#46039f"
            ],
            [
             0.2222222222222222,
             "#7201a8"
            ],
            [
             0.3333333333333333,
             "#9c179e"
            ],
            [
             0.4444444444444444,
             "#bd3786"
            ],
            [
             0.5555555555555556,
             "#d8576b"
            ],
            [
             0.6666666666666666,
             "#ed7953"
            ],
            [
             0.7777777777777778,
             "#fb9f3a"
            ],
            [
             0.8888888888888888,
             "#fdca26"
            ],
            [
             1,
             "#f0f921"
            ]
           ],
           "sequentialminus": [
            [
             0,
             "#0d0887"
            ],
            [
             0.1111111111111111,
             "#46039f"
            ],
            [
             0.2222222222222222,
             "#7201a8"
            ],
            [
             0.3333333333333333,
             "#9c179e"
            ],
            [
             0.4444444444444444,
             "#bd3786"
            ],
            [
             0.5555555555555556,
             "#d8576b"
            ],
            [
             0.6666666666666666,
             "#ed7953"
            ],
            [
             0.7777777777777778,
             "#fb9f3a"
            ],
            [
             0.8888888888888888,
             "#fdca26"
            ],
            [
             1,
             "#f0f921"
            ]
           ]
          },
          "colorway": [
           "#636efa",
           "#EF553B",
           "#00cc96",
           "#ab63fa",
           "#FFA15A",
           "#19d3f3",
           "#FF6692",
           "#B6E880",
           "#FF97FF",
           "#FECB52"
          ],
          "font": {
           "color": "#2a3f5f"
          },
          "geo": {
           "bgcolor": "white",
           "lakecolor": "white",
           "landcolor": "#E5ECF6",
           "showlakes": true,
           "showland": true,
           "subunitcolor": "white"
          },
          "hoverlabel": {
           "align": "left"
          },
          "hovermode": "closest",
          "mapbox": {
           "style": "light"
          },
          "paper_bgcolor": "white",
          "plot_bgcolor": "#E5ECF6",
          "polar": {
           "angularaxis": {
            "gridcolor": "white",
            "linecolor": "white",
            "ticks": ""
           },
           "bgcolor": "#E5ECF6",
           "radialaxis": {
            "gridcolor": "white",
            "linecolor": "white",
            "ticks": ""
           }
          },
          "scene": {
           "xaxis": {
            "backgroundcolor": "#E5ECF6",
            "gridcolor": "white",
            "gridwidth": 2,
            "linecolor": "white",
            "showbackground": true,
            "ticks": "",
            "zerolinecolor": "white"
           },
           "yaxis": {
            "backgroundcolor": "#E5ECF6",
            "gridcolor": "white",
            "gridwidth": 2,
            "linecolor": "white",
            "showbackground": true,
            "ticks": "",
            "zerolinecolor": "white"
           },
           "zaxis": {
            "backgroundcolor": "#E5ECF6",
            "gridcolor": "white",
            "gridwidth": 2,
            "linecolor": "white",
            "showbackground": true,
            "ticks": "",
            "zerolinecolor": "white"
           }
          },
          "shapedefaults": {
           "line": {
            "color": "#2a3f5f"
           }
          },
          "ternary": {
           "aaxis": {
            "gridcolor": "white",
            "linecolor": "white",
            "ticks": ""
           },
           "baxis": {
            "gridcolor": "white",
            "linecolor": "white",
            "ticks": ""
           },
           "bgcolor": "#E5ECF6",
           "caxis": {
            "gridcolor": "white",
            "linecolor": "white",
            "ticks": ""
           }
          },
          "title": {
           "x": 0.05
          },
          "xaxis": {
           "automargin": true,
           "gridcolor": "white",
           "linecolor": "white",
           "ticks": "",
           "title": {
            "standoff": 15
           },
           "zerolinecolor": "white",
           "zerolinewidth": 2
          },
          "yaxis": {
           "automargin": true,
           "gridcolor": "white",
           "linecolor": "white",
           "ticks": "",
           "title": {
            "standoff": 15
           },
           "zerolinecolor": "white",
           "zerolinewidth": 2
          }
         }
        },
        "xaxis": {
         "anchor": "y",
         "domain": [
          0,
          1
         ],
         "title": {
          "text": "NOME_MES_PARTIDA_PREVISTA"
         }
        },
        "yaxis": {
         "anchor": "x",
         "domain": [
          0,
          1
         ],
         "title": {
          "text": "TOTAL_VOOS"
         }
        }
       }
      }
     },
     "metadata": {},
     "output_type": "display_data"
    }
   ],
   "source": [
    "fig = px.bar(\n",
    "    total_voos, \n",
    "    x='NOME_MES_PARTIDA_PREVISTA', \n",
    "    y='TOTAL_VOOS', \n",
    "    text_auto='0',\n",
    ")\n",
    "fig.update_traces(\n",
    "    textposition='outside'\n",
    ")\n",
    "fig.show()"
   ]
  },
  {
   "cell_type": "markdown",
   "metadata": {},
   "source": [
    "- Total de Vôos por compania e aeroporto por mês"
   ]
  },
  {
   "cell_type": "code",
   "execution_count": 29,
   "metadata": {},
   "outputs": [
    {
     "data": {
      "text/plain": [
       "Index(['SIGLA_ICAO_EMPRESA_AEREA', 'SITUACAO_VOO', 'MES_PARTIDA_PREVISTA',\n",
       "       'NOME_MES_PARTIDA_PREVISTA', 'SIGLA_ICAO_AEROPORTO_ORIGEM'],\n",
       "      dtype='object')"
      ]
     },
     "execution_count": 29,
     "metadata": {},
     "output_type": "execute_result"
    }
   ],
   "source": [
    "base.columns"
   ]
  },
  {
   "cell_type": "code",
   "execution_count": 30,
   "metadata": {},
   "outputs": [],
   "source": [
    "colunas = [\n",
    "        \n",
    "        'SIGLA_ICAO_AEROPORTO_ORIGEM',\n",
    "        'MES_PARTIDA_PREVISTA',\n",
    "        'NOME_MES_PARTIDA_PREVISTA',\n",
    "        'NUMERO_VOO' ,\n",
    "        'SIGLA_ICAO_EMPRESA_AEREA',\n",
    "        'NOME_EMPRESA' \n",
    "]\n",
    "\n",
    "\n",
    "dataframe = pd.read_parquet(caminho_base, columns=colunas)\n",
    "dataframe = dataframe.query(\n",
    "    ' SIGLA_ICAO_EMPRESA_AEREA == \"TAM\"  ' \\\n",
    "    ' and SIGLA_ICAO_AEROPORTO_ORIGEM == \"SBRP\"'\\\n",
    ")"
   ]
  },
  {
   "cell_type": "code",
   "execution_count": 31,
   "metadata": {},
   "outputs": [
    {
     "name": "stdout",
     "output_type": "stream",
     "text": [
      "<class 'pandas.core.frame.DataFrame'>\n",
      "Index: 348 entries, 488380 to 680870\n",
      "Data columns (total 6 columns):\n",
      " #   Column                       Non-Null Count  Dtype   \n",
      "---  ------                       --------------  -----   \n",
      " 0   SIGLA_ICAO_AEROPORTO_ORIGEM  348 non-null    string  \n",
      " 1   MES_PARTIDA_PREVISTA         348 non-null    int32   \n",
      " 2   NOME_MES_PARTIDA_PREVISTA    348 non-null    category\n",
      " 3   NUMERO_VOO                   348 non-null    string  \n",
      " 4   SIGLA_ICAO_EMPRESA_AEREA     348 non-null    string  \n",
      " 5   NOME_EMPRESA                 348 non-null    string  \n",
      "dtypes: category(1), int32(1), string(4)\n",
      "memory usage: 15.7 KB\n"
     ]
    }
   ],
   "source": [
    "dataframe.info()"
   ]
  },
  {
   "cell_type": "code",
   "execution_count": 32,
   "metadata": {},
   "outputs": [],
   "source": [
    "dataframe['NOME_MES_PARTIDA_PREVISTA'] = dataframe['NOME_MES_PARTIDA_PREVISTA'].astype('string')"
   ]
  },
  {
   "cell_type": "code",
   "execution_count": 33,
   "metadata": {},
   "outputs": [
    {
     "name": "stdout",
     "output_type": "stream",
     "text": [
      "<class 'pandas.core.frame.DataFrame'>\n",
      "Index: 348 entries, 488380 to 680870\n",
      "Data columns (total 6 columns):\n",
      " #   Column                       Non-Null Count  Dtype \n",
      "---  ------                       --------------  ----- \n",
      " 0   SIGLA_ICAO_AEROPORTO_ORIGEM  348 non-null    string\n",
      " 1   MES_PARTIDA_PREVISTA         348 non-null    int32 \n",
      " 2   NOME_MES_PARTIDA_PREVISTA    348 non-null    string\n",
      " 3   NUMERO_VOO                   348 non-null    string\n",
      " 4   SIGLA_ICAO_EMPRESA_AEREA     348 non-null    string\n",
      " 5   NOME_EMPRESA                 348 non-null    string\n",
      "dtypes: int32(1), string(5)\n",
      "memory usage: 17.7 KB\n"
     ]
    }
   ],
   "source": [
    "dataframe.info()"
   ]
  },
  {
   "cell_type": "code",
   "execution_count": 34,
   "metadata": {},
   "outputs": [
    {
     "data": {
      "text/html": [
       "<div>\n",
       "<style scoped>\n",
       "    .dataframe tbody tr th:only-of-type {\n",
       "        vertical-align: middle;\n",
       "    }\n",
       "\n",
       "    .dataframe tbody tr th {\n",
       "        vertical-align: top;\n",
       "    }\n",
       "\n",
       "    .dataframe thead th {\n",
       "        text-align: right;\n",
       "    }\n",
       "</style>\n",
       "<table border=\"1\" class=\"dataframe\">\n",
       "  <thead>\n",
       "    <tr style=\"text-align: right;\">\n",
       "      <th></th>\n",
       "      <th>SIGLA_ICAO_AEROPORTO_ORIGEM</th>\n",
       "      <th>MES_PARTIDA_PREVISTA</th>\n",
       "      <th>NOME_MES_PARTIDA_PREVISTA</th>\n",
       "      <th>NUMERO_VOO</th>\n",
       "      <th>SIGLA_ICAO_EMPRESA_AEREA</th>\n",
       "      <th>NOME_EMPRESA</th>\n",
       "    </tr>\n",
       "  </thead>\n",
       "  <tbody>\n",
       "    <tr>\n",
       "      <th>488380</th>\n",
       "      <td>SBRP</td>\n",
       "      <td>1</td>\n",
       "      <td>janeiro</td>\n",
       "      <td>3867</td>\n",
       "      <td>TAM</td>\n",
       "      <td>TAM</td>\n",
       "    </tr>\n",
       "    <tr>\n",
       "      <th>488381</th>\n",
       "      <td>SBRP</td>\n",
       "      <td>1</td>\n",
       "      <td>janeiro</td>\n",
       "      <td>3867</td>\n",
       "      <td>TAM</td>\n",
       "      <td>TAM</td>\n",
       "    </tr>\n",
       "    <tr>\n",
       "      <th>537779</th>\n",
       "      <td>SBRP</td>\n",
       "      <td>1</td>\n",
       "      <td>janeiro</td>\n",
       "      <td>3992</td>\n",
       "      <td>TAM</td>\n",
       "      <td>TAM</td>\n",
       "    </tr>\n",
       "    <tr>\n",
       "      <th>537780</th>\n",
       "      <td>SBRP</td>\n",
       "      <td>1</td>\n",
       "      <td>janeiro</td>\n",
       "      <td>3992</td>\n",
       "      <td>TAM</td>\n",
       "      <td>TAM</td>\n",
       "    </tr>\n",
       "    <tr>\n",
       "      <th>537781</th>\n",
       "      <td>SBRP</td>\n",
       "      <td>1</td>\n",
       "      <td>janeiro</td>\n",
       "      <td>3992</td>\n",
       "      <td>TAM</td>\n",
       "      <td>TAM</td>\n",
       "    </tr>\n",
       "  </tbody>\n",
       "</table>\n",
       "</div>"
      ],
      "text/plain": [
       "       SIGLA_ICAO_AEROPORTO_ORIGEM  MES_PARTIDA_PREVISTA  \\\n",
       "488380                        SBRP                     1   \n",
       "488381                        SBRP                     1   \n",
       "537779                        SBRP                     1   \n",
       "537780                        SBRP                     1   \n",
       "537781                        SBRP                     1   \n",
       "\n",
       "       NOME_MES_PARTIDA_PREVISTA NUMERO_VOO SIGLA_ICAO_EMPRESA_AEREA  \\\n",
       "488380                   janeiro       3867                      TAM   \n",
       "488381                   janeiro       3867                      TAM   \n",
       "537779                   janeiro       3992                      TAM   \n",
       "537780                   janeiro       3992                      TAM   \n",
       "537781                   janeiro       3992                      TAM   \n",
       "\n",
       "       NOME_EMPRESA  \n",
       "488380          TAM  \n",
       "488381          TAM  \n",
       "537779          TAM  \n",
       "537780          TAM  \n",
       "537781          TAM  "
      ]
     },
     "execution_count": 34,
     "metadata": {},
     "output_type": "execute_result"
    }
   ],
   "source": [
    "dataframe.head()"
   ]
  },
  {
   "cell_type": "code",
   "execution_count": 35,
   "metadata": {},
   "outputs": [],
   "source": [
    "dataframe_gb = dataframe.groupby([ 'MES_PARTIDA_PREVISTA', 'NOME_MES_PARTIDA_PREVISTA']).agg(\n",
    "    TOTAL_VOOS=('SIGLA_ICAO_EMPRESA_AEREA', 'count')\n",
    ").reset_index()"
   ]
  },
  {
   "cell_type": "code",
   "execution_count": 36,
   "metadata": {},
   "outputs": [
    {
     "data": {
      "text/html": [
       "<div>\n",
       "<style scoped>\n",
       "    .dataframe tbody tr th:only-of-type {\n",
       "        vertical-align: middle;\n",
       "    }\n",
       "\n",
       "    .dataframe tbody tr th {\n",
       "        vertical-align: top;\n",
       "    }\n",
       "\n",
       "    .dataframe thead th {\n",
       "        text-align: right;\n",
       "    }\n",
       "</style>\n",
       "<table border=\"1\" class=\"dataframe\">\n",
       "  <thead>\n",
       "    <tr style=\"text-align: right;\">\n",
       "      <th></th>\n",
       "      <th>MES_PARTIDA_PREVISTA</th>\n",
       "      <th>NOME_MES_PARTIDA_PREVISTA</th>\n",
       "      <th>TOTAL_VOOS</th>\n",
       "    </tr>\n",
       "  </thead>\n",
       "  <tbody>\n",
       "    <tr>\n",
       "      <th>0</th>\n",
       "      <td>1</td>\n",
       "      <td>janeiro</td>\n",
       "      <td>41</td>\n",
       "    </tr>\n",
       "    <tr>\n",
       "      <th>1</th>\n",
       "      <td>2</td>\n",
       "      <td>fevereiro</td>\n",
       "      <td>20</td>\n",
       "    </tr>\n",
       "    <tr>\n",
       "      <th>2</th>\n",
       "      <td>3</td>\n",
       "      <td>março</td>\n",
       "      <td>23</td>\n",
       "    </tr>\n",
       "    <tr>\n",
       "      <th>3</th>\n",
       "      <td>4</td>\n",
       "      <td>abril</td>\n",
       "      <td>21</td>\n",
       "    </tr>\n",
       "    <tr>\n",
       "      <th>4</th>\n",
       "      <td>5</td>\n",
       "      <td>maio</td>\n",
       "      <td>20</td>\n",
       "    </tr>\n",
       "    <tr>\n",
       "      <th>5</th>\n",
       "      <td>6</td>\n",
       "      <td>junho</td>\n",
       "      <td>22</td>\n",
       "    </tr>\n",
       "    <tr>\n",
       "      <th>6</th>\n",
       "      <td>7</td>\n",
       "      <td>julho</td>\n",
       "      <td>21</td>\n",
       "    </tr>\n",
       "    <tr>\n",
       "      <th>7</th>\n",
       "      <td>8</td>\n",
       "      <td>agosto</td>\n",
       "      <td>23</td>\n",
       "    </tr>\n",
       "    <tr>\n",
       "      <th>8</th>\n",
       "      <td>9</td>\n",
       "      <td>setembro</td>\n",
       "      <td>23</td>\n",
       "    </tr>\n",
       "    <tr>\n",
       "      <th>9</th>\n",
       "      <td>10</td>\n",
       "      <td>outubro</td>\n",
       "      <td>24</td>\n",
       "    </tr>\n",
       "    <tr>\n",
       "      <th>10</th>\n",
       "      <td>11</td>\n",
       "      <td>novembro</td>\n",
       "      <td>55</td>\n",
       "    </tr>\n",
       "    <tr>\n",
       "      <th>11</th>\n",
       "      <td>12</td>\n",
       "      <td>dezembro</td>\n",
       "      <td>55</td>\n",
       "    </tr>\n",
       "  </tbody>\n",
       "</table>\n",
       "</div>"
      ],
      "text/plain": [
       "    MES_PARTIDA_PREVISTA NOME_MES_PARTIDA_PREVISTA  TOTAL_VOOS\n",
       "0                      1                   janeiro          41\n",
       "1                      2                 fevereiro          20\n",
       "2                      3                     março          23\n",
       "3                      4                     abril          21\n",
       "4                      5                      maio          20\n",
       "5                      6                     junho          22\n",
       "6                      7                     julho          21\n",
       "7                      8                    agosto          23\n",
       "8                      9                  setembro          23\n",
       "9                     10                   outubro          24\n",
       "10                    11                  novembro          55\n",
       "11                    12                  dezembro          55"
      ]
     },
     "execution_count": 36,
     "metadata": {},
     "output_type": "execute_result"
    }
   ],
   "source": [
    "dataframe_gb"
   ]
  },
  {
   "cell_type": "code",
   "execution_count": 37,
   "metadata": {},
   "outputs": [
    {
     "data": {
      "application/vnd.plotly.v1+json": {
       "config": {
        "plotlyServerURL": "https://plot.ly"
       },
       "data": [
        {
         "alignmentgroup": "True",
         "hovertemplate": "NOME_MES_PARTIDA_PREVISTA=%{x}<br>TOTAL_VOOS=%{y}<extra></extra>",
         "legendgroup": "",
         "marker": {
          "color": "#636efa",
          "pattern": {
           "shape": ""
          }
         },
         "name": "",
         "offsetgroup": "",
         "orientation": "v",
         "showlegend": false,
         "textposition": "outside",
         "texttemplate": "%{y:0}",
         "type": "bar",
         "x": [
          "janeiro",
          "fevereiro",
          "março",
          "abril",
          "maio",
          "junho",
          "julho",
          "agosto",
          "setembro",
          "outubro",
          "novembro",
          "dezembro"
         ],
         "xaxis": "x",
         "y": [
          41,
          20,
          23,
          21,
          20,
          22,
          21,
          23,
          23,
          24,
          55,
          55
         ],
         "yaxis": "y"
        }
       ],
       "layout": {
        "barmode": "relative",
        "legend": {
         "tracegroupgap": 0
        },
        "margin": {
         "t": 60
        },
        "template": {
         "data": {
          "bar": [
           {
            "error_x": {
             "color": "#2a3f5f"
            },
            "error_y": {
             "color": "#2a3f5f"
            },
            "marker": {
             "line": {
              "color": "#E5ECF6",
              "width": 0.5
             },
             "pattern": {
              "fillmode": "overlay",
              "size": 10,
              "solidity": 0.2
             }
            },
            "type": "bar"
           }
          ],
          "barpolar": [
           {
            "marker": {
             "line": {
              "color": "#E5ECF6",
              "width": 0.5
             },
             "pattern": {
              "fillmode": "overlay",
              "size": 10,
              "solidity": 0.2
             }
            },
            "type": "barpolar"
           }
          ],
          "carpet": [
           {
            "aaxis": {
             "endlinecolor": "#2a3f5f",
             "gridcolor": "white",
             "linecolor": "white",
             "minorgridcolor": "white",
             "startlinecolor": "#2a3f5f"
            },
            "baxis": {
             "endlinecolor": "#2a3f5f",
             "gridcolor": "white",
             "linecolor": "white",
             "minorgridcolor": "white",
             "startlinecolor": "#2a3f5f"
            },
            "type": "carpet"
           }
          ],
          "choropleth": [
           {
            "colorbar": {
             "outlinewidth": 0,
             "ticks": ""
            },
            "type": "choropleth"
           }
          ],
          "contour": [
           {
            "colorbar": {
             "outlinewidth": 0,
             "ticks": ""
            },
            "colorscale": [
             [
              0,
              "#0d0887"
             ],
             [
              0.1111111111111111,
              "#46039f"
             ],
             [
              0.2222222222222222,
              "#7201a8"
             ],
             [
              0.3333333333333333,
              "#9c179e"
             ],
             [
              0.4444444444444444,
              "#bd3786"
             ],
             [
              0.5555555555555556,
              "#d8576b"
             ],
             [
              0.6666666666666666,
              "#ed7953"
             ],
             [
              0.7777777777777778,
              "#fb9f3a"
             ],
             [
              0.8888888888888888,
              "#fdca26"
             ],
             [
              1,
              "#f0f921"
             ]
            ],
            "type": "contour"
           }
          ],
          "contourcarpet": [
           {
            "colorbar": {
             "outlinewidth": 0,
             "ticks": ""
            },
            "type": "contourcarpet"
           }
          ],
          "heatmap": [
           {
            "colorbar": {
             "outlinewidth": 0,
             "ticks": ""
            },
            "colorscale": [
             [
              0,
              "#0d0887"
             ],
             [
              0.1111111111111111,
              "#46039f"
             ],
             [
              0.2222222222222222,
              "#7201a8"
             ],
             [
              0.3333333333333333,
              "#9c179e"
             ],
             [
              0.4444444444444444,
              "#bd3786"
             ],
             [
              0.5555555555555556,
              "#d8576b"
             ],
             [
              0.6666666666666666,
              "#ed7953"
             ],
             [
              0.7777777777777778,
              "#fb9f3a"
             ],
             [
              0.8888888888888888,
              "#fdca26"
             ],
             [
              1,
              "#f0f921"
             ]
            ],
            "type": "heatmap"
           }
          ],
          "heatmapgl": [
           {
            "colorbar": {
             "outlinewidth": 0,
             "ticks": ""
            },
            "colorscale": [
             [
              0,
              "#0d0887"
             ],
             [
              0.1111111111111111,
              "#46039f"
             ],
             [
              0.2222222222222222,
              "#7201a8"
             ],
             [
              0.3333333333333333,
              "#9c179e"
             ],
             [
              0.4444444444444444,
              "#bd3786"
             ],
             [
              0.5555555555555556,
              "#d8576b"
             ],
             [
              0.6666666666666666,
              "#ed7953"
             ],
             [
              0.7777777777777778,
              "#fb9f3a"
             ],
             [
              0.8888888888888888,
              "#fdca26"
             ],
             [
              1,
              "#f0f921"
             ]
            ],
            "type": "heatmapgl"
           }
          ],
          "histogram": [
           {
            "marker": {
             "pattern": {
              "fillmode": "overlay",
              "size": 10,
              "solidity": 0.2
             }
            },
            "type": "histogram"
           }
          ],
          "histogram2d": [
           {
            "colorbar": {
             "outlinewidth": 0,
             "ticks": ""
            },
            "colorscale": [
             [
              0,
              "#0d0887"
             ],
             [
              0.1111111111111111,
              "#46039f"
             ],
             [
              0.2222222222222222,
              "#7201a8"
             ],
             [
              0.3333333333333333,
              "#9c179e"
             ],
             [
              0.4444444444444444,
              "#bd3786"
             ],
             [
              0.5555555555555556,
              "#d8576b"
             ],
             [
              0.6666666666666666,
              "#ed7953"
             ],
             [
              0.7777777777777778,
              "#fb9f3a"
             ],
             [
              0.8888888888888888,
              "#fdca26"
             ],
             [
              1,
              "#f0f921"
             ]
            ],
            "type": "histogram2d"
           }
          ],
          "histogram2dcontour": [
           {
            "colorbar": {
             "outlinewidth": 0,
             "ticks": ""
            },
            "colorscale": [
             [
              0,
              "#0d0887"
             ],
             [
              0.1111111111111111,
              "#46039f"
             ],
             [
              0.2222222222222222,
              "#7201a8"
             ],
             [
              0.3333333333333333,
              "#9c179e"
             ],
             [
              0.4444444444444444,
              "#bd3786"
             ],
             [
              0.5555555555555556,
              "#d8576b"
             ],
             [
              0.6666666666666666,
              "#ed7953"
             ],
             [
              0.7777777777777778,
              "#fb9f3a"
             ],
             [
              0.8888888888888888,
              "#fdca26"
             ],
             [
              1,
              "#f0f921"
             ]
            ],
            "type": "histogram2dcontour"
           }
          ],
          "mesh3d": [
           {
            "colorbar": {
             "outlinewidth": 0,
             "ticks": ""
            },
            "type": "mesh3d"
           }
          ],
          "parcoords": [
           {
            "line": {
             "colorbar": {
              "outlinewidth": 0,
              "ticks": ""
             }
            },
            "type": "parcoords"
           }
          ],
          "pie": [
           {
            "automargin": true,
            "type": "pie"
           }
          ],
          "scatter": [
           {
            "fillpattern": {
             "fillmode": "overlay",
             "size": 10,
             "solidity": 0.2
            },
            "type": "scatter"
           }
          ],
          "scatter3d": [
           {
            "line": {
             "colorbar": {
              "outlinewidth": 0,
              "ticks": ""
             }
            },
            "marker": {
             "colorbar": {
              "outlinewidth": 0,
              "ticks": ""
             }
            },
            "type": "scatter3d"
           }
          ],
          "scattercarpet": [
           {
            "marker": {
             "colorbar": {
              "outlinewidth": 0,
              "ticks": ""
             }
            },
            "type": "scattercarpet"
           }
          ],
          "scattergeo": [
           {
            "marker": {
             "colorbar": {
              "outlinewidth": 0,
              "ticks": ""
             }
            },
            "type": "scattergeo"
           }
          ],
          "scattergl": [
           {
            "marker": {
             "colorbar": {
              "outlinewidth": 0,
              "ticks": ""
             }
            },
            "type": "scattergl"
           }
          ],
          "scattermapbox": [
           {
            "marker": {
             "colorbar": {
              "outlinewidth": 0,
              "ticks": ""
             }
            },
            "type": "scattermapbox"
           }
          ],
          "scatterpolar": [
           {
            "marker": {
             "colorbar": {
              "outlinewidth": 0,
              "ticks": ""
             }
            },
            "type": "scatterpolar"
           }
          ],
          "scatterpolargl": [
           {
            "marker": {
             "colorbar": {
              "outlinewidth": 0,
              "ticks": ""
             }
            },
            "type": "scatterpolargl"
           }
          ],
          "scatterternary": [
           {
            "marker": {
             "colorbar": {
              "outlinewidth": 0,
              "ticks": ""
             }
            },
            "type": "scatterternary"
           }
          ],
          "surface": [
           {
            "colorbar": {
             "outlinewidth": 0,
             "ticks": ""
            },
            "colorscale": [
             [
              0,
              "#0d0887"
             ],
             [
              0.1111111111111111,
              "#46039f"
             ],
             [
              0.2222222222222222,
              "#7201a8"
             ],
             [
              0.3333333333333333,
              "#9c179e"
             ],
             [
              0.4444444444444444,
              "#bd3786"
             ],
             [
              0.5555555555555556,
              "#d8576b"
             ],
             [
              0.6666666666666666,
              "#ed7953"
             ],
             [
              0.7777777777777778,
              "#fb9f3a"
             ],
             [
              0.8888888888888888,
              "#fdca26"
             ],
             [
              1,
              "#f0f921"
             ]
            ],
            "type": "surface"
           }
          ],
          "table": [
           {
            "cells": {
             "fill": {
              "color": "#EBF0F8"
             },
             "line": {
              "color": "white"
             }
            },
            "header": {
             "fill": {
              "color": "#C8D4E3"
             },
             "line": {
              "color": "white"
             }
            },
            "type": "table"
           }
          ]
         },
         "layout": {
          "annotationdefaults": {
           "arrowcolor": "#2a3f5f",
           "arrowhead": 0,
           "arrowwidth": 1
          },
          "autotypenumbers": "strict",
          "coloraxis": {
           "colorbar": {
            "outlinewidth": 0,
            "ticks": ""
           }
          },
          "colorscale": {
           "diverging": [
            [
             0,
             "#8e0152"
            ],
            [
             0.1,
             "#c51b7d"
            ],
            [
             0.2,
             "#de77ae"
            ],
            [
             0.3,
             "#f1b6da"
            ],
            [
             0.4,
             "#fde0ef"
            ],
            [
             0.5,
             "#f7f7f7"
            ],
            [
             0.6,
             "#e6f5d0"
            ],
            [
             0.7,
             "#b8e186"
            ],
            [
             0.8,
             "#7fbc41"
            ],
            [
             0.9,
             "#4d9221"
            ],
            [
             1,
             "#276419"
            ]
           ],
           "sequential": [
            [
             0,
             "#0d0887"
            ],
            [
             0.1111111111111111,
             "#46039f"
            ],
            [
             0.2222222222222222,
             "#7201a8"
            ],
            [
             0.3333333333333333,
             "#9c179e"
            ],
            [
             0.4444444444444444,
             "#bd3786"
            ],
            [
             0.5555555555555556,
             "#d8576b"
            ],
            [
             0.6666666666666666,
             "#ed7953"
            ],
            [
             0.7777777777777778,
             "#fb9f3a"
            ],
            [
             0.8888888888888888,
             "#fdca26"
            ],
            [
             1,
             "#f0f921"
            ]
           ],
           "sequentialminus": [
            [
             0,
             "#0d0887"
            ],
            [
             0.1111111111111111,
             "#46039f"
            ],
            [
             0.2222222222222222,
             "#7201a8"
            ],
            [
             0.3333333333333333,
             "#9c179e"
            ],
            [
             0.4444444444444444,
             "#bd3786"
            ],
            [
             0.5555555555555556,
             "#d8576b"
            ],
            [
             0.6666666666666666,
             "#ed7953"
            ],
            [
             0.7777777777777778,
             "#fb9f3a"
            ],
            [
             0.8888888888888888,
             "#fdca26"
            ],
            [
             1,
             "#f0f921"
            ]
           ]
          },
          "colorway": [
           "#636efa",
           "#EF553B",
           "#00cc96",
           "#ab63fa",
           "#FFA15A",
           "#19d3f3",
           "#FF6692",
           "#B6E880",
           "#FF97FF",
           "#FECB52"
          ],
          "font": {
           "color": "#2a3f5f"
          },
          "geo": {
           "bgcolor": "white",
           "lakecolor": "white",
           "landcolor": "#E5ECF6",
           "showlakes": true,
           "showland": true,
           "subunitcolor": "white"
          },
          "hoverlabel": {
           "align": "left"
          },
          "hovermode": "closest",
          "mapbox": {
           "style": "light"
          },
          "paper_bgcolor": "white",
          "plot_bgcolor": "#E5ECF6",
          "polar": {
           "angularaxis": {
            "gridcolor": "white",
            "linecolor": "white",
            "ticks": ""
           },
           "bgcolor": "#E5ECF6",
           "radialaxis": {
            "gridcolor": "white",
            "linecolor": "white",
            "ticks": ""
           }
          },
          "scene": {
           "xaxis": {
            "backgroundcolor": "#E5ECF6",
            "gridcolor": "white",
            "gridwidth": 2,
            "linecolor": "white",
            "showbackground": true,
            "ticks": "",
            "zerolinecolor": "white"
           },
           "yaxis": {
            "backgroundcolor": "#E5ECF6",
            "gridcolor": "white",
            "gridwidth": 2,
            "linecolor": "white",
            "showbackground": true,
            "ticks": "",
            "zerolinecolor": "white"
           },
           "zaxis": {
            "backgroundcolor": "#E5ECF6",
            "gridcolor": "white",
            "gridwidth": 2,
            "linecolor": "white",
            "showbackground": true,
            "ticks": "",
            "zerolinecolor": "white"
           }
          },
          "shapedefaults": {
           "line": {
            "color": "#2a3f5f"
           }
          },
          "ternary": {
           "aaxis": {
            "gridcolor": "white",
            "linecolor": "white",
            "ticks": ""
           },
           "baxis": {
            "gridcolor": "white",
            "linecolor": "white",
            "ticks": ""
           },
           "bgcolor": "#E5ECF6",
           "caxis": {
            "gridcolor": "white",
            "linecolor": "white",
            "ticks": ""
           }
          },
          "title": {
           "x": 0.05
          },
          "xaxis": {
           "automargin": true,
           "gridcolor": "white",
           "linecolor": "white",
           "ticks": "",
           "title": {
            "standoff": 15
           },
           "zerolinecolor": "white",
           "zerolinewidth": 2
          },
          "yaxis": {
           "automargin": true,
           "gridcolor": "white",
           "linecolor": "white",
           "ticks": "",
           "title": {
            "standoff": 15
           },
           "zerolinecolor": "white",
           "zerolinewidth": 2
          }
         }
        },
        "xaxis": {
         "anchor": "y",
         "domain": [
          0,
          1
         ],
         "title": {
          "text": "NOME_MES_PARTIDA_PREVISTA"
         }
        },
        "yaxis": {
         "anchor": "x",
         "domain": [
          0,
          1
         ],
         "title": {
          "text": "TOTAL_VOOS"
         }
        }
       }
      }
     },
     "metadata": {},
     "output_type": "display_data"
    }
   ],
   "source": [
    "fig = px.bar(\n",
    "    dataframe_gb, \n",
    "    x='NOME_MES_PARTIDA_PREVISTA', \n",
    "    y='TOTAL_VOOS', \n",
    "    text_auto='0',\n",
    ")\n",
    "fig.update_traces(\n",
    "    textposition='outside'\n",
    ")\n",
    "fig.show()"
   ]
  },
  {
   "cell_type": "markdown",
   "metadata": {},
   "source": [
    "- Analise da variação percentual da SITUAÇÂO voo Filtrando por Aerporto origem por mês (deixe filtro facultativo por empresa)"
   ]
  },
  {
   "cell_type": "code",
   "execution_count": 38,
   "metadata": {},
   "outputs": [
    {
     "data": {
      "text/plain": [
       "Index(['SIGLA_ICAO_EMPRESA_AEREA', 'SITUACAO_VOO', 'MES_PARTIDA_PREVISTA',\n",
       "       'NOME_MES_PARTIDA_PREVISTA', 'SIGLA_ICAO_AEROPORTO_ORIGEM'],\n",
       "      dtype='object')"
      ]
     },
     "execution_count": 38,
     "metadata": {},
     "output_type": "execute_result"
    }
   ],
   "source": [
    "base.columns"
   ]
  },
  {
   "cell_type": "code",
   "execution_count": 39,
   "metadata": {},
   "outputs": [],
   "source": [
    "colunas = [\n",
    "    'SITUACAO_VOO',\n",
    "    'MES_PARTIDA_PREVISTA',\n",
    "    'NOME_MES_PARTIDA_PREVISTA',\n",
    "    'SIGLA_ICAO_AEROPORTO_ORIGEM',\n",
    "    'NOME_AEROPORTO_ORIGEM',\n",
    "]\n",
    "dataframe = pd.read_parquet(caminho_base, columns=colunas)"
   ]
  },
  {
   "cell_type": "code",
   "execution_count": 40,
   "metadata": {},
   "outputs": [
    {
     "name": "stdout",
     "output_type": "stream",
     "text": [
      "<class 'pandas.core.frame.DataFrame'>\n",
      "RangeIndex: 717357 entries, 0 to 717356\n",
      "Data columns (total 5 columns):\n",
      " #   Column                       Non-Null Count   Dtype   \n",
      "---  ------                       --------------   -----   \n",
      " 0   SITUACAO_VOO                 717357 non-null  category\n",
      " 1   MES_PARTIDA_PREVISTA         717357 non-null  int32   \n",
      " 2   NOME_MES_PARTIDA_PREVISTA    717357 non-null  category\n",
      " 3   SIGLA_ICAO_AEROPORTO_ORIGEM  717357 non-null  string  \n",
      " 4   NOME_AEROPORTO_ORIGEM        717357 non-null  string  \n",
      "dtypes: category(2), int32(1), string(2)\n",
      "memory usage: 15.1 MB\n"
     ]
    }
   ],
   "source": [
    "dataframe.info()"
   ]
  },
  {
   "cell_type": "code",
   "execution_count": 41,
   "metadata": {},
   "outputs": [
    {
     "data": {
      "text/html": [
       "<div>\n",
       "<style scoped>\n",
       "    .dataframe tbody tr th:only-of-type {\n",
       "        vertical-align: middle;\n",
       "    }\n",
       "\n",
       "    .dataframe tbody tr th {\n",
       "        vertical-align: top;\n",
       "    }\n",
       "\n",
       "    .dataframe thead th {\n",
       "        text-align: right;\n",
       "    }\n",
       "</style>\n",
       "<table border=\"1\" class=\"dataframe\">\n",
       "  <thead>\n",
       "    <tr style=\"text-align: right;\">\n",
       "      <th></th>\n",
       "      <th>SITUACAO_VOO</th>\n",
       "      <th>MES_PARTIDA_PREVISTA</th>\n",
       "      <th>NOME_MES_PARTIDA_PREVISTA</th>\n",
       "      <th>SIGLA_ICAO_AEROPORTO_ORIGEM</th>\n",
       "      <th>NOME_AEROPORTO_ORIGEM</th>\n",
       "    </tr>\n",
       "  </thead>\n",
       "  <tbody>\n",
       "    <tr>\n",
       "      <th>0</th>\n",
       "      <td>REALIZADO</td>\n",
       "      <td>1</td>\n",
       "      <td>janeiro</td>\n",
       "      <td>SBAE</td>\n",
       "      <td>BAURU/AREALVA</td>\n",
       "    </tr>\n",
       "    <tr>\n",
       "      <th>1</th>\n",
       "      <td>REALIZADO</td>\n",
       "      <td>1</td>\n",
       "      <td>janeiro</td>\n",
       "      <td>SBAE</td>\n",
       "      <td>BAURU/AREALVA</td>\n",
       "    </tr>\n",
       "    <tr>\n",
       "      <th>2</th>\n",
       "      <td>REALIZADO</td>\n",
       "      <td>1</td>\n",
       "      <td>janeiro</td>\n",
       "      <td>SBAE</td>\n",
       "      <td>BAURU/AREALVA</td>\n",
       "    </tr>\n",
       "    <tr>\n",
       "      <th>3</th>\n",
       "      <td>REALIZADO</td>\n",
       "      <td>1</td>\n",
       "      <td>janeiro</td>\n",
       "      <td>SBAE</td>\n",
       "      <td>BAURU/AREALVA</td>\n",
       "    </tr>\n",
       "    <tr>\n",
       "      <th>4</th>\n",
       "      <td>REALIZADO</td>\n",
       "      <td>2</td>\n",
       "      <td>fevereiro</td>\n",
       "      <td>SBAE</td>\n",
       "      <td>BAURU/AREALVA</td>\n",
       "    </tr>\n",
       "  </tbody>\n",
       "</table>\n",
       "</div>"
      ],
      "text/plain": [
       "  SITUACAO_VOO  MES_PARTIDA_PREVISTA NOME_MES_PARTIDA_PREVISTA  \\\n",
       "0    REALIZADO                     1                   janeiro   \n",
       "1    REALIZADO                     1                   janeiro   \n",
       "2    REALIZADO                     1                   janeiro   \n",
       "3    REALIZADO                     1                   janeiro   \n",
       "4    REALIZADO                     2                 fevereiro   \n",
       "\n",
       "  SIGLA_ICAO_AEROPORTO_ORIGEM NOME_AEROPORTO_ORIGEM  \n",
       "0                        SBAE         BAURU/AREALVA  \n",
       "1                        SBAE         BAURU/AREALVA  \n",
       "2                        SBAE         BAURU/AREALVA  \n",
       "3                        SBAE         BAURU/AREALVA  \n",
       "4                        SBAE         BAURU/AREALVA  "
      ]
     },
     "execution_count": 41,
     "metadata": {},
     "output_type": "execute_result"
    }
   ],
   "source": [
    "dataframe.head()"
   ]
  },
  {
   "cell_type": "code",
   "execution_count": 42,
   "metadata": {},
   "outputs": [
    {
     "name": "stdout",
     "output_type": "stream",
     "text": [
      "<class 'pandas.core.frame.DataFrame'>\n",
      "RangeIndex: 717357 entries, 0 to 717356\n",
      "Data columns (total 5 columns):\n",
      " #   Column                       Non-Null Count   Dtype   \n",
      "---  ------                       --------------   -----   \n",
      " 0   SITUACAO_VOO                 717357 non-null  category\n",
      " 1   MES_PARTIDA_PREVISTA         717357 non-null  int32   \n",
      " 2   NOME_MES_PARTIDA_PREVISTA    717357 non-null  category\n",
      " 3   SIGLA_ICAO_AEROPORTO_ORIGEM  717357 non-null  string  \n",
      " 4   NOME_AEROPORTO_ORIGEM        717357 non-null  string  \n",
      "dtypes: category(2), int32(1), string(2)\n",
      "memory usage: 15.1 MB\n"
     ]
    }
   ],
   "source": [
    "dataframe.info()"
   ]
  },
  {
   "cell_type": "code",
   "execution_count": 43,
   "metadata": {},
   "outputs": [],
   "source": [
    "dataframe[['SITUACAO_VOO', 'NOME_MES_PARTIDA_PREVISTA']] = dataframe[['SITUACAO_VOO', 'NOME_MES_PARTIDA_PREVISTA']].astype('string')"
   ]
  },
  {
   "cell_type": "code",
   "execution_count": 44,
   "metadata": {},
   "outputs": [
    {
     "data": {
      "text/html": [
       "<div>\n",
       "<style scoped>\n",
       "    .dataframe tbody tr th:only-of-type {\n",
       "        vertical-align: middle;\n",
       "    }\n",
       "\n",
       "    .dataframe tbody tr th {\n",
       "        vertical-align: top;\n",
       "    }\n",
       "\n",
       "    .dataframe thead th {\n",
       "        text-align: right;\n",
       "    }\n",
       "</style>\n",
       "<table border=\"1\" class=\"dataframe\">\n",
       "  <thead>\n",
       "    <tr style=\"text-align: right;\">\n",
       "      <th></th>\n",
       "      <th>SITUACAO_VOO</th>\n",
       "      <th>MES_PARTIDA_PREVISTA</th>\n",
       "      <th>NOME_MES_PARTIDA_PREVISTA</th>\n",
       "      <th>SIGLA_ICAO_AEROPORTO_ORIGEM</th>\n",
       "      <th>NOME_AEROPORTO_ORIGEM</th>\n",
       "    </tr>\n",
       "  </thead>\n",
       "  <tbody>\n",
       "    <tr>\n",
       "      <th>1929</th>\n",
       "      <td>REALIZADO</td>\n",
       "      <td>1</td>\n",
       "      <td>janeiro</td>\n",
       "      <td>SBRP</td>\n",
       "      <td>LEITE LOPES</td>\n",
       "    </tr>\n",
       "    <tr>\n",
       "      <th>1930</th>\n",
       "      <td>REALIZADO</td>\n",
       "      <td>1</td>\n",
       "      <td>janeiro</td>\n",
       "      <td>SBRP</td>\n",
       "      <td>LEITE LOPES</td>\n",
       "    </tr>\n",
       "    <tr>\n",
       "      <th>1931</th>\n",
       "      <td>REALIZADO</td>\n",
       "      <td>1</td>\n",
       "      <td>janeiro</td>\n",
       "      <td>SBRP</td>\n",
       "      <td>LEITE LOPES</td>\n",
       "    </tr>\n",
       "    <tr>\n",
       "      <th>1932</th>\n",
       "      <td>REALIZADO</td>\n",
       "      <td>1</td>\n",
       "      <td>janeiro</td>\n",
       "      <td>SBRP</td>\n",
       "      <td>LEITE LOPES</td>\n",
       "    </tr>\n",
       "    <tr>\n",
       "      <th>1933</th>\n",
       "      <td>REALIZADO</td>\n",
       "      <td>1</td>\n",
       "      <td>janeiro</td>\n",
       "      <td>SBRP</td>\n",
       "      <td>LEITE LOPES</td>\n",
       "    </tr>\n",
       "    <tr>\n",
       "      <th>...</th>\n",
       "      <td>...</td>\n",
       "      <td>...</td>\n",
       "      <td>...</td>\n",
       "      <td>...</td>\n",
       "      <td>...</td>\n",
       "    </tr>\n",
       "    <tr>\n",
       "      <th>707275</th>\n",
       "      <td>REALIZADO</td>\n",
       "      <td>1</td>\n",
       "      <td>janeiro</td>\n",
       "      <td>SBRP</td>\n",
       "      <td>LEITE LOPES</td>\n",
       "    </tr>\n",
       "    <tr>\n",
       "      <th>707479</th>\n",
       "      <td>REALIZADO</td>\n",
       "      <td>1</td>\n",
       "      <td>janeiro</td>\n",
       "      <td>SBRP</td>\n",
       "      <td>LEITE LOPES</td>\n",
       "    </tr>\n",
       "    <tr>\n",
       "      <th>707480</th>\n",
       "      <td>REALIZADO</td>\n",
       "      <td>1</td>\n",
       "      <td>janeiro</td>\n",
       "      <td>SBRP</td>\n",
       "      <td>LEITE LOPES</td>\n",
       "    </tr>\n",
       "    <tr>\n",
       "      <th>707481</th>\n",
       "      <td>REALIZADO</td>\n",
       "      <td>1</td>\n",
       "      <td>janeiro</td>\n",
       "      <td>SBRP</td>\n",
       "      <td>LEITE LOPES</td>\n",
       "    </tr>\n",
       "    <tr>\n",
       "      <th>710551</th>\n",
       "      <td>REALIZADO</td>\n",
       "      <td>1</td>\n",
       "      <td>janeiro</td>\n",
       "      <td>SBRP</td>\n",
       "      <td>LEITE LOPES</td>\n",
       "    </tr>\n",
       "  </tbody>\n",
       "</table>\n",
       "<p>4955 rows × 5 columns</p>\n",
       "</div>"
      ],
      "text/plain": [
       "       SITUACAO_VOO  MES_PARTIDA_PREVISTA NOME_MES_PARTIDA_PREVISTA  \\\n",
       "1929      REALIZADO                     1                   janeiro   \n",
       "1930      REALIZADO                     1                   janeiro   \n",
       "1931      REALIZADO                     1                   janeiro   \n",
       "1932      REALIZADO                     1                   janeiro   \n",
       "1933      REALIZADO                     1                   janeiro   \n",
       "...             ...                   ...                       ...   \n",
       "707275    REALIZADO                     1                   janeiro   \n",
       "707479    REALIZADO                     1                   janeiro   \n",
       "707480    REALIZADO                     1                   janeiro   \n",
       "707481    REALIZADO                     1                   janeiro   \n",
       "710551    REALIZADO                     1                   janeiro   \n",
       "\n",
       "       SIGLA_ICAO_AEROPORTO_ORIGEM NOME_AEROPORTO_ORIGEM  \n",
       "1929                          SBRP           LEITE LOPES  \n",
       "1930                          SBRP           LEITE LOPES  \n",
       "1931                          SBRP           LEITE LOPES  \n",
       "1932                          SBRP           LEITE LOPES  \n",
       "1933                          SBRP           LEITE LOPES  \n",
       "...                            ...                   ...  \n",
       "707275                        SBRP           LEITE LOPES  \n",
       "707479                        SBRP           LEITE LOPES  \n",
       "707480                        SBRP           LEITE LOPES  \n",
       "707481                        SBRP           LEITE LOPES  \n",
       "710551                        SBRP           LEITE LOPES  \n",
       "\n",
       "[4955 rows x 5 columns]"
      ]
     },
     "execution_count": 44,
     "metadata": {},
     "output_type": "execute_result"
    }
   ],
   "source": [
    "dataframe = dataframe.query('SIGLA_ICAO_AEROPORTO_ORIGEM == \"SBRP\"')\n",
    "dataframe"
   ]
  },
  {
   "cell_type": "code",
   "execution_count": 45,
   "metadata": {},
   "outputs": [],
   "source": [
    "dataframe_gb =dataframe.groupby(['NOME_MES_PARTIDA_PREVISTA', 'SITUACAO_VOO', 'MES_PARTIDA_PREVISTA']).agg(\n",
    "    TOTAL_VOOS=('SITUACAO_VOO', 'count')\n",
    ")\n",
    "\n",
    "dataframe_gb.reset_index(inplace=True)\n",
    "dataframe_gb.sort_values(by=['MES_PARTIDA_PREVISTA'], inplace=True)\n",
    "dataframe_gb['TOTAL_VOOS'] = dataframe_gb['TOTAL_VOOS'].astype('int32')"
   ]
  },
  {
   "cell_type": "code",
   "execution_count": 46,
   "metadata": {},
   "outputs": [
    {
     "name": "stdout",
     "output_type": "stream",
     "text": [
      "<class 'pandas.core.frame.DataFrame'>\n",
      "Index: 24 entries, 8 to 4\n",
      "Data columns (total 4 columns):\n",
      " #   Column                     Non-Null Count  Dtype \n",
      "---  ------                     --------------  ----- \n",
      " 0   NOME_MES_PARTIDA_PREVISTA  24 non-null     string\n",
      " 1   SITUACAO_VOO               24 non-null     string\n",
      " 2   MES_PARTIDA_PREVISTA       24 non-null     int32 \n",
      " 3   TOTAL_VOOS                 24 non-null     int32 \n",
      "dtypes: int32(2), string(2)\n",
      "memory usage: 768.0 bytes\n"
     ]
    }
   ],
   "source": [
    "dataframe_gb.info()"
   ]
  },
  {
   "cell_type": "code",
   "execution_count": 47,
   "metadata": {},
   "outputs": [
    {
     "data": {
      "text/html": [
       "<div>\n",
       "<style scoped>\n",
       "    .dataframe tbody tr th:only-of-type {\n",
       "        vertical-align: middle;\n",
       "    }\n",
       "\n",
       "    .dataframe tbody tr th {\n",
       "        vertical-align: top;\n",
       "    }\n",
       "\n",
       "    .dataframe thead th {\n",
       "        text-align: right;\n",
       "    }\n",
       "</style>\n",
       "<table border=\"1\" class=\"dataframe\">\n",
       "  <thead>\n",
       "    <tr style=\"text-align: right;\">\n",
       "      <th></th>\n",
       "      <th>NOME_MES_PARTIDA_PREVISTA</th>\n",
       "      <th>SITUACAO_VOO</th>\n",
       "      <th>MES_PARTIDA_PREVISTA</th>\n",
       "      <th>TOTAL_VOOS</th>\n",
       "    </tr>\n",
       "  </thead>\n",
       "  <tbody>\n",
       "    <tr>\n",
       "      <th>8</th>\n",
       "      <td>janeiro</td>\n",
       "      <td>CANCELADO</td>\n",
       "      <td>1</td>\n",
       "      <td>21</td>\n",
       "    </tr>\n",
       "    <tr>\n",
       "      <th>9</th>\n",
       "      <td>janeiro</td>\n",
       "      <td>REALIZADO</td>\n",
       "      <td>1</td>\n",
       "      <td>584</td>\n",
       "    </tr>\n",
       "    <tr>\n",
       "      <th>6</th>\n",
       "      <td>fevereiro</td>\n",
       "      <td>CANCELADO</td>\n",
       "      <td>2</td>\n",
       "      <td>18</td>\n",
       "    </tr>\n",
       "    <tr>\n",
       "      <th>7</th>\n",
       "      <td>fevereiro</td>\n",
       "      <td>REALIZADO</td>\n",
       "      <td>2</td>\n",
       "      <td>249</td>\n",
       "    </tr>\n",
       "    <tr>\n",
       "      <th>17</th>\n",
       "      <td>março</td>\n",
       "      <td>REALIZADO</td>\n",
       "      <td>3</td>\n",
       "      <td>345</td>\n",
       "    </tr>\n",
       "    <tr>\n",
       "      <th>16</th>\n",
       "      <td>março</td>\n",
       "      <td>CANCELADO</td>\n",
       "      <td>3</td>\n",
       "      <td>16</td>\n",
       "    </tr>\n",
       "    <tr>\n",
       "      <th>0</th>\n",
       "      <td>abril</td>\n",
       "      <td>CANCELADO</td>\n",
       "      <td>4</td>\n",
       "      <td>3</td>\n",
       "    </tr>\n",
       "    <tr>\n",
       "      <th>1</th>\n",
       "      <td>abril</td>\n",
       "      <td>REALIZADO</td>\n",
       "      <td>4</td>\n",
       "      <td>381</td>\n",
       "    </tr>\n",
       "    <tr>\n",
       "      <th>15</th>\n",
       "      <td>maio</td>\n",
       "      <td>REALIZADO</td>\n",
       "      <td>5</td>\n",
       "      <td>433</td>\n",
       "    </tr>\n",
       "    <tr>\n",
       "      <th>14</th>\n",
       "      <td>maio</td>\n",
       "      <td>CANCELADO</td>\n",
       "      <td>5</td>\n",
       "      <td>14</td>\n",
       "    </tr>\n",
       "    <tr>\n",
       "      <th>13</th>\n",
       "      <td>junho</td>\n",
       "      <td>REALIZADO</td>\n",
       "      <td>6</td>\n",
       "      <td>387</td>\n",
       "    </tr>\n",
       "    <tr>\n",
       "      <th>12</th>\n",
       "      <td>junho</td>\n",
       "      <td>CANCELADO</td>\n",
       "      <td>6</td>\n",
       "      <td>15</td>\n",
       "    </tr>\n",
       "    <tr>\n",
       "      <th>11</th>\n",
       "      <td>julho</td>\n",
       "      <td>REALIZADO</td>\n",
       "      <td>7</td>\n",
       "      <td>250</td>\n",
       "    </tr>\n",
       "    <tr>\n",
       "      <th>10</th>\n",
       "      <td>julho</td>\n",
       "      <td>CANCELADO</td>\n",
       "      <td>7</td>\n",
       "      <td>181</td>\n",
       "    </tr>\n",
       "    <tr>\n",
       "      <th>3</th>\n",
       "      <td>agosto</td>\n",
       "      <td>REALIZADO</td>\n",
       "      <td>8</td>\n",
       "      <td>409</td>\n",
       "    </tr>\n",
       "    <tr>\n",
       "      <th>2</th>\n",
       "      <td>agosto</td>\n",
       "      <td>CANCELADO</td>\n",
       "      <td>8</td>\n",
       "      <td>12</td>\n",
       "    </tr>\n",
       "    <tr>\n",
       "      <th>22</th>\n",
       "      <td>setembro</td>\n",
       "      <td>CANCELADO</td>\n",
       "      <td>9</td>\n",
       "      <td>54</td>\n",
       "    </tr>\n",
       "    <tr>\n",
       "      <th>23</th>\n",
       "      <td>setembro</td>\n",
       "      <td>REALIZADO</td>\n",
       "      <td>9</td>\n",
       "      <td>368</td>\n",
       "    </tr>\n",
       "    <tr>\n",
       "      <th>20</th>\n",
       "      <td>outubro</td>\n",
       "      <td>CANCELADO</td>\n",
       "      <td>10</td>\n",
       "      <td>40</td>\n",
       "    </tr>\n",
       "    <tr>\n",
       "      <th>21</th>\n",
       "      <td>outubro</td>\n",
       "      <td>REALIZADO</td>\n",
       "      <td>10</td>\n",
       "      <td>375</td>\n",
       "    </tr>\n",
       "    <tr>\n",
       "      <th>18</th>\n",
       "      <td>novembro</td>\n",
       "      <td>CANCELADO</td>\n",
       "      <td>11</td>\n",
       "      <td>30</td>\n",
       "    </tr>\n",
       "    <tr>\n",
       "      <th>19</th>\n",
       "      <td>novembro</td>\n",
       "      <td>REALIZADO</td>\n",
       "      <td>11</td>\n",
       "      <td>357</td>\n",
       "    </tr>\n",
       "    <tr>\n",
       "      <th>5</th>\n",
       "      <td>dezembro</td>\n",
       "      <td>REALIZADO</td>\n",
       "      <td>12</td>\n",
       "      <td>384</td>\n",
       "    </tr>\n",
       "    <tr>\n",
       "      <th>4</th>\n",
       "      <td>dezembro</td>\n",
       "      <td>CANCELADO</td>\n",
       "      <td>12</td>\n",
       "      <td>29</td>\n",
       "    </tr>\n",
       "  </tbody>\n",
       "</table>\n",
       "</div>"
      ],
      "text/plain": [
       "   NOME_MES_PARTIDA_PREVISTA SITUACAO_VOO  MES_PARTIDA_PREVISTA  TOTAL_VOOS\n",
       "8                    janeiro    CANCELADO                     1          21\n",
       "9                    janeiro    REALIZADO                     1         584\n",
       "6                  fevereiro    CANCELADO                     2          18\n",
       "7                  fevereiro    REALIZADO                     2         249\n",
       "17                     março    REALIZADO                     3         345\n",
       "16                     março    CANCELADO                     3          16\n",
       "0                      abril    CANCELADO                     4           3\n",
       "1                      abril    REALIZADO                     4         381\n",
       "15                      maio    REALIZADO                     5         433\n",
       "14                      maio    CANCELADO                     5          14\n",
       "13                     junho    REALIZADO                     6         387\n",
       "12                     junho    CANCELADO                     6          15\n",
       "11                     julho    REALIZADO                     7         250\n",
       "10                     julho    CANCELADO                     7         181\n",
       "3                     agosto    REALIZADO                     8         409\n",
       "2                     agosto    CANCELADO                     8          12\n",
       "22                  setembro    CANCELADO                     9          54\n",
       "23                  setembro    REALIZADO                     9         368\n",
       "20                   outubro    CANCELADO                    10          40\n",
       "21                   outubro    REALIZADO                    10         375\n",
       "18                  novembro    CANCELADO                    11          30\n",
       "19                  novembro    REALIZADO                    11         357\n",
       "5                   dezembro    REALIZADO                    12         384\n",
       "4                   dezembro    CANCELADO                    12          29"
      ]
     },
     "execution_count": 47,
     "metadata": {},
     "output_type": "execute_result"
    }
   ],
   "source": [
    "dataframe_gb"
   ]
  },
  {
   "cell_type": "code",
   "execution_count": 48,
   "metadata": {},
   "outputs": [
    {
     "data": {
      "application/vnd.plotly.v1+json": {
       "config": {
        "plotlyServerURL": "https://plot.ly"
       },
       "data": [
        {
         "alignmentgroup": "True",
         "hovertemplate": "SITUACAO_VOO=CANCELADO<br>NOME_MES_PARTIDA_PREVISTA=%{x}<br>TOTAL_VOOS=%{y}<extra></extra>",
         "legendgroup": "CANCELADO",
         "marker": {
          "color": "#636efa",
          "pattern": {
           "shape": ""
          }
         },
         "name": "CANCELADO",
         "offsetgroup": "CANCELADO",
         "orientation": "v",
         "showlegend": true,
         "textposition": "outside",
         "texttemplate": "%{y}",
         "type": "bar",
         "x": [
          "janeiro",
          "fevereiro",
          "março",
          "abril",
          "maio",
          "junho",
          "julho",
          "agosto",
          "setembro",
          "outubro",
          "novembro",
          "dezembro"
         ],
         "xaxis": "x",
         "y": [
          21,
          18,
          16,
          3,
          14,
          15,
          181,
          12,
          54,
          40,
          30,
          29
         ],
         "yaxis": "y"
        },
        {
         "alignmentgroup": "True",
         "hovertemplate": "SITUACAO_VOO=REALIZADO<br>NOME_MES_PARTIDA_PREVISTA=%{x}<br>TOTAL_VOOS=%{y}<extra></extra>",
         "legendgroup": "REALIZADO",
         "marker": {
          "color": "#EF553B",
          "pattern": {
           "shape": ""
          }
         },
         "name": "REALIZADO",
         "offsetgroup": "REALIZADO",
         "orientation": "v",
         "showlegend": true,
         "textposition": "outside",
         "texttemplate": "%{y}",
         "type": "bar",
         "x": [
          "janeiro",
          "fevereiro",
          "março",
          "abril",
          "maio",
          "junho",
          "julho",
          "agosto",
          "setembro",
          "outubro",
          "novembro",
          "dezembro"
         ],
         "xaxis": "x",
         "y": [
          584,
          249,
          345,
          381,
          433,
          387,
          250,
          409,
          368,
          375,
          357,
          384
         ],
         "yaxis": "y"
        }
       ],
       "layout": {
        "barmode": "group",
        "legend": {
         "title": {
          "text": "SITUACAO_VOO"
         },
         "tracegroupgap": 0
        },
        "margin": {
         "t": 60
        },
        "template": {
         "data": {
          "bar": [
           {
            "error_x": {
             "color": "#2a3f5f"
            },
            "error_y": {
             "color": "#2a3f5f"
            },
            "marker": {
             "line": {
              "color": "#E5ECF6",
              "width": 0.5
             },
             "pattern": {
              "fillmode": "overlay",
              "size": 10,
              "solidity": 0.2
             }
            },
            "type": "bar"
           }
          ],
          "barpolar": [
           {
            "marker": {
             "line": {
              "color": "#E5ECF6",
              "width": 0.5
             },
             "pattern": {
              "fillmode": "overlay",
              "size": 10,
              "solidity": 0.2
             }
            },
            "type": "barpolar"
           }
          ],
          "carpet": [
           {
            "aaxis": {
             "endlinecolor": "#2a3f5f",
             "gridcolor": "white",
             "linecolor": "white",
             "minorgridcolor": "white",
             "startlinecolor": "#2a3f5f"
            },
            "baxis": {
             "endlinecolor": "#2a3f5f",
             "gridcolor": "white",
             "linecolor": "white",
             "minorgridcolor": "white",
             "startlinecolor": "#2a3f5f"
            },
            "type": "carpet"
           }
          ],
          "choropleth": [
           {
            "colorbar": {
             "outlinewidth": 0,
             "ticks": ""
            },
            "type": "choropleth"
           }
          ],
          "contour": [
           {
            "colorbar": {
             "outlinewidth": 0,
             "ticks": ""
            },
            "colorscale": [
             [
              0,
              "#0d0887"
             ],
             [
              0.1111111111111111,
              "#46039f"
             ],
             [
              0.2222222222222222,
              "#7201a8"
             ],
             [
              0.3333333333333333,
              "#9c179e"
             ],
             [
              0.4444444444444444,
              "#bd3786"
             ],
             [
              0.5555555555555556,
              "#d8576b"
             ],
             [
              0.6666666666666666,
              "#ed7953"
             ],
             [
              0.7777777777777778,
              "#fb9f3a"
             ],
             [
              0.8888888888888888,
              "#fdca26"
             ],
             [
              1,
              "#f0f921"
             ]
            ],
            "type": "contour"
           }
          ],
          "contourcarpet": [
           {
            "colorbar": {
             "outlinewidth": 0,
             "ticks": ""
            },
            "type": "contourcarpet"
           }
          ],
          "heatmap": [
           {
            "colorbar": {
             "outlinewidth": 0,
             "ticks": ""
            },
            "colorscale": [
             [
              0,
              "#0d0887"
             ],
             [
              0.1111111111111111,
              "#46039f"
             ],
             [
              0.2222222222222222,
              "#7201a8"
             ],
             [
              0.3333333333333333,
              "#9c179e"
             ],
             [
              0.4444444444444444,
              "#bd3786"
             ],
             [
              0.5555555555555556,
              "#d8576b"
             ],
             [
              0.6666666666666666,
              "#ed7953"
             ],
             [
              0.7777777777777778,
              "#fb9f3a"
             ],
             [
              0.8888888888888888,
              "#fdca26"
             ],
             [
              1,
              "#f0f921"
             ]
            ],
            "type": "heatmap"
           }
          ],
          "heatmapgl": [
           {
            "colorbar": {
             "outlinewidth": 0,
             "ticks": ""
            },
            "colorscale": [
             [
              0,
              "#0d0887"
             ],
             [
              0.1111111111111111,
              "#46039f"
             ],
             [
              0.2222222222222222,
              "#7201a8"
             ],
             [
              0.3333333333333333,
              "#9c179e"
             ],
             [
              0.4444444444444444,
              "#bd3786"
             ],
             [
              0.5555555555555556,
              "#d8576b"
             ],
             [
              0.6666666666666666,
              "#ed7953"
             ],
             [
              0.7777777777777778,
              "#fb9f3a"
             ],
             [
              0.8888888888888888,
              "#fdca26"
             ],
             [
              1,
              "#f0f921"
             ]
            ],
            "type": "heatmapgl"
           }
          ],
          "histogram": [
           {
            "marker": {
             "pattern": {
              "fillmode": "overlay",
              "size": 10,
              "solidity": 0.2
             }
            },
            "type": "histogram"
           }
          ],
          "histogram2d": [
           {
            "colorbar": {
             "outlinewidth": 0,
             "ticks": ""
            },
            "colorscale": [
             [
              0,
              "#0d0887"
             ],
             [
              0.1111111111111111,
              "#46039f"
             ],
             [
              0.2222222222222222,
              "#7201a8"
             ],
             [
              0.3333333333333333,
              "#9c179e"
             ],
             [
              0.4444444444444444,
              "#bd3786"
             ],
             [
              0.5555555555555556,
              "#d8576b"
             ],
             [
              0.6666666666666666,
              "#ed7953"
             ],
             [
              0.7777777777777778,
              "#fb9f3a"
             ],
             [
              0.8888888888888888,
              "#fdca26"
             ],
             [
              1,
              "#f0f921"
             ]
            ],
            "type": "histogram2d"
           }
          ],
          "histogram2dcontour": [
           {
            "colorbar": {
             "outlinewidth": 0,
             "ticks": ""
            },
            "colorscale": [
             [
              0,
              "#0d0887"
             ],
             [
              0.1111111111111111,
              "#46039f"
             ],
             [
              0.2222222222222222,
              "#7201a8"
             ],
             [
              0.3333333333333333,
              "#9c179e"
             ],
             [
              0.4444444444444444,
              "#bd3786"
             ],
             [
              0.5555555555555556,
              "#d8576b"
             ],
             [
              0.6666666666666666,
              "#ed7953"
             ],
             [
              0.7777777777777778,
              "#fb9f3a"
             ],
             [
              0.8888888888888888,
              "#fdca26"
             ],
             [
              1,
              "#f0f921"
             ]
            ],
            "type": "histogram2dcontour"
           }
          ],
          "mesh3d": [
           {
            "colorbar": {
             "outlinewidth": 0,
             "ticks": ""
            },
            "type": "mesh3d"
           }
          ],
          "parcoords": [
           {
            "line": {
             "colorbar": {
              "outlinewidth": 0,
              "ticks": ""
             }
            },
            "type": "parcoords"
           }
          ],
          "pie": [
           {
            "automargin": true,
            "type": "pie"
           }
          ],
          "scatter": [
           {
            "fillpattern": {
             "fillmode": "overlay",
             "size": 10,
             "solidity": 0.2
            },
            "type": "scatter"
           }
          ],
          "scatter3d": [
           {
            "line": {
             "colorbar": {
              "outlinewidth": 0,
              "ticks": ""
             }
            },
            "marker": {
             "colorbar": {
              "outlinewidth": 0,
              "ticks": ""
             }
            },
            "type": "scatter3d"
           }
          ],
          "scattercarpet": [
           {
            "marker": {
             "colorbar": {
              "outlinewidth": 0,
              "ticks": ""
             }
            },
            "type": "scattercarpet"
           }
          ],
          "scattergeo": [
           {
            "marker": {
             "colorbar": {
              "outlinewidth": 0,
              "ticks": ""
             }
            },
            "type": "scattergeo"
           }
          ],
          "scattergl": [
           {
            "marker": {
             "colorbar": {
              "outlinewidth": 0,
              "ticks": ""
             }
            },
            "type": "scattergl"
           }
          ],
          "scattermapbox": [
           {
            "marker": {
             "colorbar": {
              "outlinewidth": 0,
              "ticks": ""
             }
            },
            "type": "scattermapbox"
           }
          ],
          "scatterpolar": [
           {
            "marker": {
             "colorbar": {
              "outlinewidth": 0,
              "ticks": ""
             }
            },
            "type": "scatterpolar"
           }
          ],
          "scatterpolargl": [
           {
            "marker": {
             "colorbar": {
              "outlinewidth": 0,
              "ticks": ""
             }
            },
            "type": "scatterpolargl"
           }
          ],
          "scatterternary": [
           {
            "marker": {
             "colorbar": {
              "outlinewidth": 0,
              "ticks": ""
             }
            },
            "type": "scatterternary"
           }
          ],
          "surface": [
           {
            "colorbar": {
             "outlinewidth": 0,
             "ticks": ""
            },
            "colorscale": [
             [
              0,
              "#0d0887"
             ],
             [
              0.1111111111111111,
              "#46039f"
             ],
             [
              0.2222222222222222,
              "#7201a8"
             ],
             [
              0.3333333333333333,
              "#9c179e"
             ],
             [
              0.4444444444444444,
              "#bd3786"
             ],
             [
              0.5555555555555556,
              "#d8576b"
             ],
             [
              0.6666666666666666,
              "#ed7953"
             ],
             [
              0.7777777777777778,
              "#fb9f3a"
             ],
             [
              0.8888888888888888,
              "#fdca26"
             ],
             [
              1,
              "#f0f921"
             ]
            ],
            "type": "surface"
           }
          ],
          "table": [
           {
            "cells": {
             "fill": {
              "color": "#EBF0F8"
             },
             "line": {
              "color": "white"
             }
            },
            "header": {
             "fill": {
              "color": "#C8D4E3"
             },
             "line": {
              "color": "white"
             }
            },
            "type": "table"
           }
          ]
         },
         "layout": {
          "annotationdefaults": {
           "arrowcolor": "#2a3f5f",
           "arrowhead": 0,
           "arrowwidth": 1
          },
          "autotypenumbers": "strict",
          "coloraxis": {
           "colorbar": {
            "outlinewidth": 0,
            "ticks": ""
           }
          },
          "colorscale": {
           "diverging": [
            [
             0,
             "#8e0152"
            ],
            [
             0.1,
             "#c51b7d"
            ],
            [
             0.2,
             "#de77ae"
            ],
            [
             0.3,
             "#f1b6da"
            ],
            [
             0.4,
             "#fde0ef"
            ],
            [
             0.5,
             "#f7f7f7"
            ],
            [
             0.6,
             "#e6f5d0"
            ],
            [
             0.7,
             "#b8e186"
            ],
            [
             0.8,
             "#7fbc41"
            ],
            [
             0.9,
             "#4d9221"
            ],
            [
             1,
             "#276419"
            ]
           ],
           "sequential": [
            [
             0,
             "#0d0887"
            ],
            [
             0.1111111111111111,
             "#46039f"
            ],
            [
             0.2222222222222222,
             "#7201a8"
            ],
            [
             0.3333333333333333,
             "#9c179e"
            ],
            [
             0.4444444444444444,
             "#bd3786"
            ],
            [
             0.5555555555555556,
             "#d8576b"
            ],
            [
             0.6666666666666666,
             "#ed7953"
            ],
            [
             0.7777777777777778,
             "#fb9f3a"
            ],
            [
             0.8888888888888888,
             "#fdca26"
            ],
            [
             1,
             "#f0f921"
            ]
           ],
           "sequentialminus": [
            [
             0,
             "#0d0887"
            ],
            [
             0.1111111111111111,
             "#46039f"
            ],
            [
             0.2222222222222222,
             "#7201a8"
            ],
            [
             0.3333333333333333,
             "#9c179e"
            ],
            [
             0.4444444444444444,
             "#bd3786"
            ],
            [
             0.5555555555555556,
             "#d8576b"
            ],
            [
             0.6666666666666666,
             "#ed7953"
            ],
            [
             0.7777777777777778,
             "#fb9f3a"
            ],
            [
             0.8888888888888888,
             "#fdca26"
            ],
            [
             1,
             "#f0f921"
            ]
           ]
          },
          "colorway": [
           "#636efa",
           "#EF553B",
           "#00cc96",
           "#ab63fa",
           "#FFA15A",
           "#19d3f3",
           "#FF6692",
           "#B6E880",
           "#FF97FF",
           "#FECB52"
          ],
          "font": {
           "color": "#2a3f5f"
          },
          "geo": {
           "bgcolor": "white",
           "lakecolor": "white",
           "landcolor": "#E5ECF6",
           "showlakes": true,
           "showland": true,
           "subunitcolor": "white"
          },
          "hoverlabel": {
           "align": "left"
          },
          "hovermode": "closest",
          "mapbox": {
           "style": "light"
          },
          "paper_bgcolor": "white",
          "plot_bgcolor": "#E5ECF6",
          "polar": {
           "angularaxis": {
            "gridcolor": "white",
            "linecolor": "white",
            "ticks": ""
           },
           "bgcolor": "#E5ECF6",
           "radialaxis": {
            "gridcolor": "white",
            "linecolor": "white",
            "ticks": ""
           }
          },
          "scene": {
           "xaxis": {
            "backgroundcolor": "#E5ECF6",
            "gridcolor": "white",
            "gridwidth": 2,
            "linecolor": "white",
            "showbackground": true,
            "ticks": "",
            "zerolinecolor": "white"
           },
           "yaxis": {
            "backgroundcolor": "#E5ECF6",
            "gridcolor": "white",
            "gridwidth": 2,
            "linecolor": "white",
            "showbackground": true,
            "ticks": "",
            "zerolinecolor": "white"
           },
           "zaxis": {
            "backgroundcolor": "#E5ECF6",
            "gridcolor": "white",
            "gridwidth": 2,
            "linecolor": "white",
            "showbackground": true,
            "ticks": "",
            "zerolinecolor": "white"
           }
          },
          "shapedefaults": {
           "line": {
            "color": "#2a3f5f"
           }
          },
          "ternary": {
           "aaxis": {
            "gridcolor": "white",
            "linecolor": "white",
            "ticks": ""
           },
           "baxis": {
            "gridcolor": "white",
            "linecolor": "white",
            "ticks": ""
           },
           "bgcolor": "#E5ECF6",
           "caxis": {
            "gridcolor": "white",
            "linecolor": "white",
            "ticks": ""
           }
          },
          "title": {
           "x": 0.05
          },
          "xaxis": {
           "automargin": true,
           "gridcolor": "white",
           "linecolor": "white",
           "ticks": "",
           "title": {
            "standoff": 15
           },
           "zerolinecolor": "white",
           "zerolinewidth": 2
          },
          "yaxis": {
           "automargin": true,
           "gridcolor": "white",
           "linecolor": "white",
           "ticks": "",
           "title": {
            "standoff": 15
           },
           "zerolinecolor": "white",
           "zerolinewidth": 2
          }
         }
        },
        "xaxis": {
         "anchor": "y",
         "domain": [
          0,
          1
         ],
         "title": {
          "text": "NOME_MES_PARTIDA_PREVISTA"
         }
        },
        "yaxis": {
         "anchor": "x",
         "domain": [
          0,
          1
         ],
         "title": {
          "text": "TOTAL_VOOS"
         }
        }
       }
      }
     },
     "metadata": {},
     "output_type": "display_data"
    }
   ],
   "source": [
    "fig = px.bar(\n",
    "    dataframe_gb, \n",
    "    x='NOME_MES_PARTIDA_PREVISTA', \n",
    "    y='TOTAL_VOOS', \n",
    "    color='SITUACAO_VOO',\n",
    "    barmode='group',\n",
    "    text_auto=True\n",
    ")\n",
    "fig.update_traces(\n",
    "    textposition='outside'\n",
    ")\n",
    "fig.show()"
   ]
  },
  {
   "cell_type": "markdown",
   "metadata": {},
   "source": [
    "- Analise da variação percentual da SITUAÇÂO voo Filtrando por Aerporto origem por mês compare com o mês anterior (Talvez com vísual cartões) deixe filtro facultativo por empresa)"
   ]
  },
  {
   "cell_type": "code",
   "execution_count": 49,
   "metadata": {},
   "outputs": [
    {
     "data": {
      "text/plain": [
       "Index(['SIGLA_ICAO_EMPRESA_AEREA', 'SITUACAO_VOO', 'MES_PARTIDA_PREVISTA',\n",
       "       'NOME_MES_PARTIDA_PREVISTA', 'SIGLA_ICAO_AEROPORTO_ORIGEM'],\n",
       "      dtype='object')"
      ]
     },
     "execution_count": 49,
     "metadata": {},
     "output_type": "execute_result"
    }
   ],
   "source": [
    "base.columns"
   ]
  },
  {
   "cell_type": "code",
   "execution_count": 50,
   "metadata": {},
   "outputs": [],
   "source": [
    "colunas = [\n",
    "    'SITUACAO_VOO',\n",
    "    'MES_PARTIDA_PREVISTA',\n",
    "    'NOME_MES_PARTIDA_PREVISTA',\n",
    "    'SIGLA_ICAO_AEROPORTO_ORIGEM',\n",
    "    'NOME_AEROPORTO_ORIGEM',\n",
    "    'SIGLA_ICAO_EMPRESA_AEREA',\n",
    "    'NOME_EMPRESA'\n",
    "\n",
    "]\n",
    "dataframe = pd.read_parquet(caminho_base, columns=colunas)"
   ]
  },
  {
   "cell_type": "code",
   "execution_count": 51,
   "metadata": {},
   "outputs": [
    {
     "data": {
      "text/html": [
       "<div>\n",
       "<style scoped>\n",
       "    .dataframe tbody tr th:only-of-type {\n",
       "        vertical-align: middle;\n",
       "    }\n",
       "\n",
       "    .dataframe tbody tr th {\n",
       "        vertical-align: top;\n",
       "    }\n",
       "\n",
       "    .dataframe thead th {\n",
       "        text-align: right;\n",
       "    }\n",
       "</style>\n",
       "<table border=\"1\" class=\"dataframe\">\n",
       "  <thead>\n",
       "    <tr style=\"text-align: right;\">\n",
       "      <th></th>\n",
       "      <th>SITUACAO_VOO</th>\n",
       "      <th>MES_PARTIDA_PREVISTA</th>\n",
       "      <th>NOME_MES_PARTIDA_PREVISTA</th>\n",
       "      <th>SIGLA_ICAO_AEROPORTO_ORIGEM</th>\n",
       "      <th>NOME_AEROPORTO_ORIGEM</th>\n",
       "      <th>SIGLA_ICAO_EMPRESA_AEREA</th>\n",
       "      <th>NOME_EMPRESA</th>\n",
       "    </tr>\n",
       "  </thead>\n",
       "  <tbody>\n",
       "    <tr>\n",
       "      <th>0</th>\n",
       "      <td>REALIZADO</td>\n",
       "      <td>1</td>\n",
       "      <td>janeiro</td>\n",
       "      <td>SBAE</td>\n",
       "      <td>BAURU/AREALVA</td>\n",
       "      <td>AZU</td>\n",
       "      <td>AZUL</td>\n",
       "    </tr>\n",
       "    <tr>\n",
       "      <th>1</th>\n",
       "      <td>REALIZADO</td>\n",
       "      <td>1</td>\n",
       "      <td>janeiro</td>\n",
       "      <td>SBAE</td>\n",
       "      <td>BAURU/AREALVA</td>\n",
       "      <td>AZU</td>\n",
       "      <td>AZUL</td>\n",
       "    </tr>\n",
       "    <tr>\n",
       "      <th>2</th>\n",
       "      <td>REALIZADO</td>\n",
       "      <td>1</td>\n",
       "      <td>janeiro</td>\n",
       "      <td>SBAE</td>\n",
       "      <td>BAURU/AREALVA</td>\n",
       "      <td>AZU</td>\n",
       "      <td>AZUL</td>\n",
       "    </tr>\n",
       "    <tr>\n",
       "      <th>3</th>\n",
       "      <td>REALIZADO</td>\n",
       "      <td>1</td>\n",
       "      <td>janeiro</td>\n",
       "      <td>SBAE</td>\n",
       "      <td>BAURU/AREALVA</td>\n",
       "      <td>AZU</td>\n",
       "      <td>AZUL</td>\n",
       "    </tr>\n",
       "    <tr>\n",
       "      <th>4</th>\n",
       "      <td>REALIZADO</td>\n",
       "      <td>2</td>\n",
       "      <td>fevereiro</td>\n",
       "      <td>SBAE</td>\n",
       "      <td>BAURU/AREALVA</td>\n",
       "      <td>AZU</td>\n",
       "      <td>AZUL</td>\n",
       "    </tr>\n",
       "  </tbody>\n",
       "</table>\n",
       "</div>"
      ],
      "text/plain": [
       "  SITUACAO_VOO  MES_PARTIDA_PREVISTA NOME_MES_PARTIDA_PREVISTA  \\\n",
       "0    REALIZADO                     1                   janeiro   \n",
       "1    REALIZADO                     1                   janeiro   \n",
       "2    REALIZADO                     1                   janeiro   \n",
       "3    REALIZADO                     1                   janeiro   \n",
       "4    REALIZADO                     2                 fevereiro   \n",
       "\n",
       "  SIGLA_ICAO_AEROPORTO_ORIGEM NOME_AEROPORTO_ORIGEM SIGLA_ICAO_EMPRESA_AEREA  \\\n",
       "0                        SBAE         BAURU/AREALVA                      AZU   \n",
       "1                        SBAE         BAURU/AREALVA                      AZU   \n",
       "2                        SBAE         BAURU/AREALVA                      AZU   \n",
       "3                        SBAE         BAURU/AREALVA                      AZU   \n",
       "4                        SBAE         BAURU/AREALVA                      AZU   \n",
       "\n",
       "  NOME_EMPRESA  \n",
       "0         AZUL  \n",
       "1         AZUL  \n",
       "2         AZUL  \n",
       "3         AZUL  \n",
       "4         AZUL  "
      ]
     },
     "execution_count": 51,
     "metadata": {},
     "output_type": "execute_result"
    }
   ],
   "source": [
    "dataframe.head()"
   ]
  },
  {
   "cell_type": "code",
   "execution_count": 52,
   "metadata": {},
   "outputs": [
    {
     "data": {
      "text/html": [
       "<div>\n",
       "<style scoped>\n",
       "    .dataframe tbody tr th:only-of-type {\n",
       "        vertical-align: middle;\n",
       "    }\n",
       "\n",
       "    .dataframe tbody tr th {\n",
       "        vertical-align: top;\n",
       "    }\n",
       "\n",
       "    .dataframe thead th {\n",
       "        text-align: right;\n",
       "    }\n",
       "</style>\n",
       "<table border=\"1\" class=\"dataframe\">\n",
       "  <thead>\n",
       "    <tr style=\"text-align: right;\">\n",
       "      <th></th>\n",
       "      <th>SITUACAO_VOO</th>\n",
       "      <th>MES_PARTIDA_PREVISTA</th>\n",
       "      <th>NOME_MES_PARTIDA_PREVISTA</th>\n",
       "      <th>SIGLA_ICAO_AEROPORTO_ORIGEM</th>\n",
       "      <th>NOME_AEROPORTO_ORIGEM</th>\n",
       "      <th>SIGLA_ICAO_EMPRESA_AEREA</th>\n",
       "      <th>NOME_EMPRESA</th>\n",
       "    </tr>\n",
       "  </thead>\n",
       "  <tbody>\n",
       "    <tr>\n",
       "      <th>1929</th>\n",
       "      <td>REALIZADO</td>\n",
       "      <td>1</td>\n",
       "      <td>janeiro</td>\n",
       "      <td>SBRP</td>\n",
       "      <td>LEITE LOPES</td>\n",
       "      <td>AZU</td>\n",
       "      <td>AZUL</td>\n",
       "    </tr>\n",
       "    <tr>\n",
       "      <th>1930</th>\n",
       "      <td>REALIZADO</td>\n",
       "      <td>1</td>\n",
       "      <td>janeiro</td>\n",
       "      <td>SBRP</td>\n",
       "      <td>LEITE LOPES</td>\n",
       "      <td>AZU</td>\n",
       "      <td>AZUL</td>\n",
       "    </tr>\n",
       "    <tr>\n",
       "      <th>1931</th>\n",
       "      <td>REALIZADO</td>\n",
       "      <td>1</td>\n",
       "      <td>janeiro</td>\n",
       "      <td>SBRP</td>\n",
       "      <td>LEITE LOPES</td>\n",
       "      <td>AZU</td>\n",
       "      <td>AZUL</td>\n",
       "    </tr>\n",
       "    <tr>\n",
       "      <th>1932</th>\n",
       "      <td>REALIZADO</td>\n",
       "      <td>1</td>\n",
       "      <td>janeiro</td>\n",
       "      <td>SBRP</td>\n",
       "      <td>LEITE LOPES</td>\n",
       "      <td>AZU</td>\n",
       "      <td>AZUL</td>\n",
       "    </tr>\n",
       "    <tr>\n",
       "      <th>1933</th>\n",
       "      <td>REALIZADO</td>\n",
       "      <td>1</td>\n",
       "      <td>janeiro</td>\n",
       "      <td>SBRP</td>\n",
       "      <td>LEITE LOPES</td>\n",
       "      <td>AZU</td>\n",
       "      <td>AZUL</td>\n",
       "    </tr>\n",
       "  </tbody>\n",
       "</table>\n",
       "</div>"
      ],
      "text/plain": [
       "     SITUACAO_VOO  MES_PARTIDA_PREVISTA NOME_MES_PARTIDA_PREVISTA  \\\n",
       "1929    REALIZADO                     1                   janeiro   \n",
       "1930    REALIZADO                     1                   janeiro   \n",
       "1931    REALIZADO                     1                   janeiro   \n",
       "1932    REALIZADO                     1                   janeiro   \n",
       "1933    REALIZADO                     1                   janeiro   \n",
       "\n",
       "     SIGLA_ICAO_AEROPORTO_ORIGEM NOME_AEROPORTO_ORIGEM  \\\n",
       "1929                        SBRP           LEITE LOPES   \n",
       "1930                        SBRP           LEITE LOPES   \n",
       "1931                        SBRP           LEITE LOPES   \n",
       "1932                        SBRP           LEITE LOPES   \n",
       "1933                        SBRP           LEITE LOPES   \n",
       "\n",
       "     SIGLA_ICAO_EMPRESA_AEREA NOME_EMPRESA  \n",
       "1929                      AZU         AZUL  \n",
       "1930                      AZU         AZUL  \n",
       "1931                      AZU         AZUL  \n",
       "1932                      AZU         AZUL  \n",
       "1933                      AZU         AZUL  "
      ]
     },
     "execution_count": 52,
     "metadata": {},
     "output_type": "execute_result"
    }
   ],
   "source": [
    "dataframe = dataframe.query('SIGLA_ICAO_AEROPORTO_ORIGEM == \"SBRP\"  and SIGLA_ICAO_EMPRESA_AEREA ==\"AZU\" ')\n",
    "dataframe.head()"
   ]
  },
  {
   "cell_type": "code",
   "execution_count": 53,
   "metadata": {},
   "outputs": [
    {
     "name": "stdout",
     "output_type": "stream",
     "text": [
      "<class 'pandas.core.frame.DataFrame'>\n",
      "Index: 2361 entries, 1929 to 258326\n",
      "Data columns (total 7 columns):\n",
      " #   Column                       Non-Null Count  Dtype   \n",
      "---  ------                       --------------  -----   \n",
      " 0   SITUACAO_VOO                 2361 non-null   category\n",
      " 1   MES_PARTIDA_PREVISTA         2361 non-null   int32   \n",
      " 2   NOME_MES_PARTIDA_PREVISTA    2361 non-null   category\n",
      " 3   SIGLA_ICAO_AEROPORTO_ORIGEM  2361 non-null   string  \n",
      " 4   NOME_AEROPORTO_ORIGEM        2361 non-null   string  \n",
      " 5   SIGLA_ICAO_EMPRESA_AEREA     2361 non-null   string  \n",
      " 6   NOME_EMPRESA                 2361 non-null   string  \n",
      "dtypes: category(2), int32(1), string(4)\n",
      "memory usage: 106.6 KB\n"
     ]
    }
   ],
   "source": [
    "dataframe.info()"
   ]
  },
  {
   "cell_type": "code",
   "execution_count": 54,
   "metadata": {},
   "outputs": [],
   "source": [
    "dataframe[['SITUACAO_VOO','NOME_MES_PARTIDA_PREVISTA' ]] = dataframe[['SITUACAO_VOO','NOME_MES_PARTIDA_PREVISTA' ]].astype('string')"
   ]
  },
  {
   "cell_type": "code",
   "execution_count": 55,
   "metadata": {},
   "outputs": [
    {
     "data": {
      "text/html": [
       "<div>\n",
       "<style scoped>\n",
       "    .dataframe tbody tr th:only-of-type {\n",
       "        vertical-align: middle;\n",
       "    }\n",
       "\n",
       "    .dataframe tbody tr th {\n",
       "        vertical-align: top;\n",
       "    }\n",
       "\n",
       "    .dataframe thead th {\n",
       "        text-align: right;\n",
       "    }\n",
       "</style>\n",
       "<table border=\"1\" class=\"dataframe\">\n",
       "  <thead>\n",
       "    <tr style=\"text-align: right;\">\n",
       "      <th></th>\n",
       "      <th>SITUACAO_VOO</th>\n",
       "      <th>NOME_MES_PARTIDA_PREVISTA</th>\n",
       "      <th>MES_PARTIDA_PREVISTA</th>\n",
       "      <th>TOTAL_SITUACAO</th>\n",
       "    </tr>\n",
       "  </thead>\n",
       "  <tbody>\n",
       "    <tr>\n",
       "      <th>0</th>\n",
       "      <td>CANCELADO</td>\n",
       "      <td>janeiro</td>\n",
       "      <td>1</td>\n",
       "      <td>17</td>\n",
       "    </tr>\n",
       "    <tr>\n",
       "      <th>1</th>\n",
       "      <td>CANCELADO</td>\n",
       "      <td>fevereiro</td>\n",
       "      <td>2</td>\n",
       "      <td>2</td>\n",
       "    </tr>\n",
       "    <tr>\n",
       "      <th>2</th>\n",
       "      <td>CANCELADO</td>\n",
       "      <td>março</td>\n",
       "      <td>3</td>\n",
       "      <td>2</td>\n",
       "    </tr>\n",
       "    <tr>\n",
       "      <th>3</th>\n",
       "      <td>CANCELADO</td>\n",
       "      <td>maio</td>\n",
       "      <td>5</td>\n",
       "      <td>9</td>\n",
       "    </tr>\n",
       "    <tr>\n",
       "      <th>4</th>\n",
       "      <td>CANCELADO</td>\n",
       "      <td>junho</td>\n",
       "      <td>6</td>\n",
       "      <td>13</td>\n",
       "    </tr>\n",
       "    <tr>\n",
       "      <th>5</th>\n",
       "      <td>CANCELADO</td>\n",
       "      <td>julho</td>\n",
       "      <td>7</td>\n",
       "      <td>4</td>\n",
       "    </tr>\n",
       "    <tr>\n",
       "      <th>6</th>\n",
       "      <td>CANCELADO</td>\n",
       "      <td>agosto</td>\n",
       "      <td>8</td>\n",
       "      <td>3</td>\n",
       "    </tr>\n",
       "    <tr>\n",
       "      <th>7</th>\n",
       "      <td>CANCELADO</td>\n",
       "      <td>setembro</td>\n",
       "      <td>9</td>\n",
       "      <td>11</td>\n",
       "    </tr>\n",
       "    <tr>\n",
       "      <th>8</th>\n",
       "      <td>CANCELADO</td>\n",
       "      <td>outubro</td>\n",
       "      <td>10</td>\n",
       "      <td>15</td>\n",
       "    </tr>\n",
       "    <tr>\n",
       "      <th>9</th>\n",
       "      <td>CANCELADO</td>\n",
       "      <td>novembro</td>\n",
       "      <td>11</td>\n",
       "      <td>10</td>\n",
       "    </tr>\n",
       "    <tr>\n",
       "      <th>10</th>\n",
       "      <td>CANCELADO</td>\n",
       "      <td>dezembro</td>\n",
       "      <td>12</td>\n",
       "      <td>12</td>\n",
       "    </tr>\n",
       "    <tr>\n",
       "      <th>11</th>\n",
       "      <td>REALIZADO</td>\n",
       "      <td>janeiro</td>\n",
       "      <td>1</td>\n",
       "      <td>240</td>\n",
       "    </tr>\n",
       "    <tr>\n",
       "      <th>12</th>\n",
       "      <td>REALIZADO</td>\n",
       "      <td>fevereiro</td>\n",
       "      <td>2</td>\n",
       "      <td>144</td>\n",
       "    </tr>\n",
       "    <tr>\n",
       "      <th>13</th>\n",
       "      <td>REALIZADO</td>\n",
       "      <td>março</td>\n",
       "      <td>3</td>\n",
       "      <td>171</td>\n",
       "    </tr>\n",
       "    <tr>\n",
       "      <th>14</th>\n",
       "      <td>REALIZADO</td>\n",
       "      <td>abril</td>\n",
       "      <td>4</td>\n",
       "      <td>194</td>\n",
       "    </tr>\n",
       "    <tr>\n",
       "      <th>15</th>\n",
       "      <td>REALIZADO</td>\n",
       "      <td>maio</td>\n",
       "      <td>5</td>\n",
       "      <td>212</td>\n",
       "    </tr>\n",
       "    <tr>\n",
       "      <th>16</th>\n",
       "      <td>REALIZADO</td>\n",
       "      <td>junho</td>\n",
       "      <td>6</td>\n",
       "      <td>190</td>\n",
       "    </tr>\n",
       "    <tr>\n",
       "      <th>17</th>\n",
       "      <td>REALIZADO</td>\n",
       "      <td>julho</td>\n",
       "      <td>7</td>\n",
       "      <td>219</td>\n",
       "    </tr>\n",
       "    <tr>\n",
       "      <th>18</th>\n",
       "      <td>REALIZADO</td>\n",
       "      <td>agosto</td>\n",
       "      <td>8</td>\n",
       "      <td>195</td>\n",
       "    </tr>\n",
       "    <tr>\n",
       "      <th>19</th>\n",
       "      <td>REALIZADO</td>\n",
       "      <td>setembro</td>\n",
       "      <td>9</td>\n",
       "      <td>185</td>\n",
       "    </tr>\n",
       "    <tr>\n",
       "      <th>20</th>\n",
       "      <td>REALIZADO</td>\n",
       "      <td>outubro</td>\n",
       "      <td>10</td>\n",
       "      <td>180</td>\n",
       "    </tr>\n",
       "    <tr>\n",
       "      <th>21</th>\n",
       "      <td>REALIZADO</td>\n",
       "      <td>novembro</td>\n",
       "      <td>11</td>\n",
       "      <td>167</td>\n",
       "    </tr>\n",
       "    <tr>\n",
       "      <th>22</th>\n",
       "      <td>REALIZADO</td>\n",
       "      <td>dezembro</td>\n",
       "      <td>12</td>\n",
       "      <td>166</td>\n",
       "    </tr>\n",
       "  </tbody>\n",
       "</table>\n",
       "</div>"
      ],
      "text/plain": [
       "   SITUACAO_VOO NOME_MES_PARTIDA_PREVISTA  MES_PARTIDA_PREVISTA  \\\n",
       "0     CANCELADO                   janeiro                     1   \n",
       "1     CANCELADO                 fevereiro                     2   \n",
       "2     CANCELADO                     março                     3   \n",
       "3     CANCELADO                      maio                     5   \n",
       "4     CANCELADO                     junho                     6   \n",
       "5     CANCELADO                     julho                     7   \n",
       "6     CANCELADO                    agosto                     8   \n",
       "7     CANCELADO                  setembro                     9   \n",
       "8     CANCELADO                   outubro                    10   \n",
       "9     CANCELADO                  novembro                    11   \n",
       "10    CANCELADO                  dezembro                    12   \n",
       "11    REALIZADO                   janeiro                     1   \n",
       "12    REALIZADO                 fevereiro                     2   \n",
       "13    REALIZADO                     março                     3   \n",
       "14    REALIZADO                     abril                     4   \n",
       "15    REALIZADO                      maio                     5   \n",
       "16    REALIZADO                     junho                     6   \n",
       "17    REALIZADO                     julho                     7   \n",
       "18    REALIZADO                    agosto                     8   \n",
       "19    REALIZADO                  setembro                     9   \n",
       "20    REALIZADO                   outubro                    10   \n",
       "21    REALIZADO                  novembro                    11   \n",
       "22    REALIZADO                  dezembro                    12   \n",
       "\n",
       "    TOTAL_SITUACAO  \n",
       "0               17  \n",
       "1                2  \n",
       "2                2  \n",
       "3                9  \n",
       "4               13  \n",
       "5                4  \n",
       "6                3  \n",
       "7               11  \n",
       "8               15  \n",
       "9               10  \n",
       "10              12  \n",
       "11             240  \n",
       "12             144  \n",
       "13             171  \n",
       "14             194  \n",
       "15             212  \n",
       "16             190  \n",
       "17             219  \n",
       "18             195  \n",
       "19             185  \n",
       "20             180  \n",
       "21             167  \n",
       "22             166  "
      ]
     },
     "execution_count": 55,
     "metadata": {},
     "output_type": "execute_result"
    }
   ],
   "source": [
    "df_gb = dataframe.groupby(['SITUACAO_VOO', 'NOME_MES_PARTIDA_PREVISTA', 'MES_PARTIDA_PREVISTA']).agg(\n",
    "    TOTAL_SITUACAO=('SITUACAO_VOO', 'count')\n",
    ").sort_values(by=['SITUACAO_VOO','MES_PARTIDA_PREVISTA']).reset_index()\n",
    "df_gb"
   ]
  },
  {
   "cell_type": "code",
   "execution_count": 56,
   "metadata": {},
   "outputs": [
    {
     "data": {
      "text/html": [
       "<div>\n",
       "<style scoped>\n",
       "    .dataframe tbody tr th:only-of-type {\n",
       "        vertical-align: middle;\n",
       "    }\n",
       "\n",
       "    .dataframe tbody tr th {\n",
       "        vertical-align: top;\n",
       "    }\n",
       "\n",
       "    .dataframe thead th {\n",
       "        text-align: right;\n",
       "    }\n",
       "</style>\n",
       "<table border=\"1\" class=\"dataframe\">\n",
       "  <thead>\n",
       "    <tr style=\"text-align: right;\">\n",
       "      <th></th>\n",
       "      <th>SITUACAO_VOO</th>\n",
       "      <th>NOME_MES_PARTIDA_PREVISTA</th>\n",
       "      <th>MES_PARTIDA_PREVISTA</th>\n",
       "      <th>TOTAL_SITUACAO</th>\n",
       "      <th>TOTAL_SITUACAO_MES_ANTERIOR</th>\n",
       "    </tr>\n",
       "  </thead>\n",
       "  <tbody>\n",
       "    <tr>\n",
       "      <th>0</th>\n",
       "      <td>CANCELADO</td>\n",
       "      <td>janeiro</td>\n",
       "      <td>1</td>\n",
       "      <td>17</td>\n",
       "      <td>0</td>\n",
       "    </tr>\n",
       "    <tr>\n",
       "      <th>1</th>\n",
       "      <td>CANCELADO</td>\n",
       "      <td>fevereiro</td>\n",
       "      <td>2</td>\n",
       "      <td>2</td>\n",
       "      <td>17.0</td>\n",
       "    </tr>\n",
       "    <tr>\n",
       "      <th>2</th>\n",
       "      <td>CANCELADO</td>\n",
       "      <td>março</td>\n",
       "      <td>3</td>\n",
       "      <td>2</td>\n",
       "      <td>2.0</td>\n",
       "    </tr>\n",
       "    <tr>\n",
       "      <th>3</th>\n",
       "      <td>CANCELADO</td>\n",
       "      <td>maio</td>\n",
       "      <td>5</td>\n",
       "      <td>9</td>\n",
       "      <td>2.0</td>\n",
       "    </tr>\n",
       "    <tr>\n",
       "      <th>4</th>\n",
       "      <td>CANCELADO</td>\n",
       "      <td>junho</td>\n",
       "      <td>6</td>\n",
       "      <td>13</td>\n",
       "      <td>9.0</td>\n",
       "    </tr>\n",
       "    <tr>\n",
       "      <th>5</th>\n",
       "      <td>CANCELADO</td>\n",
       "      <td>julho</td>\n",
       "      <td>7</td>\n",
       "      <td>4</td>\n",
       "      <td>13.0</td>\n",
       "    </tr>\n",
       "    <tr>\n",
       "      <th>6</th>\n",
       "      <td>CANCELADO</td>\n",
       "      <td>agosto</td>\n",
       "      <td>8</td>\n",
       "      <td>3</td>\n",
       "      <td>4.0</td>\n",
       "    </tr>\n",
       "    <tr>\n",
       "      <th>7</th>\n",
       "      <td>CANCELADO</td>\n",
       "      <td>setembro</td>\n",
       "      <td>9</td>\n",
       "      <td>11</td>\n",
       "      <td>3.0</td>\n",
       "    </tr>\n",
       "    <tr>\n",
       "      <th>8</th>\n",
       "      <td>CANCELADO</td>\n",
       "      <td>outubro</td>\n",
       "      <td>10</td>\n",
       "      <td>15</td>\n",
       "      <td>11.0</td>\n",
       "    </tr>\n",
       "    <tr>\n",
       "      <th>9</th>\n",
       "      <td>CANCELADO</td>\n",
       "      <td>novembro</td>\n",
       "      <td>11</td>\n",
       "      <td>10</td>\n",
       "      <td>15.0</td>\n",
       "    </tr>\n",
       "    <tr>\n",
       "      <th>10</th>\n",
       "      <td>CANCELADO</td>\n",
       "      <td>dezembro</td>\n",
       "      <td>12</td>\n",
       "      <td>12</td>\n",
       "      <td>10.0</td>\n",
       "    </tr>\n",
       "    <tr>\n",
       "      <th>11</th>\n",
       "      <td>REALIZADO</td>\n",
       "      <td>janeiro</td>\n",
       "      <td>1</td>\n",
       "      <td>240</td>\n",
       "      <td>0</td>\n",
       "    </tr>\n",
       "    <tr>\n",
       "      <th>12</th>\n",
       "      <td>REALIZADO</td>\n",
       "      <td>fevereiro</td>\n",
       "      <td>2</td>\n",
       "      <td>144</td>\n",
       "      <td>240.0</td>\n",
       "    </tr>\n",
       "    <tr>\n",
       "      <th>13</th>\n",
       "      <td>REALIZADO</td>\n",
       "      <td>março</td>\n",
       "      <td>3</td>\n",
       "      <td>171</td>\n",
       "      <td>144.0</td>\n",
       "    </tr>\n",
       "    <tr>\n",
       "      <th>14</th>\n",
       "      <td>REALIZADO</td>\n",
       "      <td>abril</td>\n",
       "      <td>4</td>\n",
       "      <td>194</td>\n",
       "      <td>171.0</td>\n",
       "    </tr>\n",
       "    <tr>\n",
       "      <th>15</th>\n",
       "      <td>REALIZADO</td>\n",
       "      <td>maio</td>\n",
       "      <td>5</td>\n",
       "      <td>212</td>\n",
       "      <td>194.0</td>\n",
       "    </tr>\n",
       "    <tr>\n",
       "      <th>16</th>\n",
       "      <td>REALIZADO</td>\n",
       "      <td>junho</td>\n",
       "      <td>6</td>\n",
       "      <td>190</td>\n",
       "      <td>212.0</td>\n",
       "    </tr>\n",
       "    <tr>\n",
       "      <th>17</th>\n",
       "      <td>REALIZADO</td>\n",
       "      <td>julho</td>\n",
       "      <td>7</td>\n",
       "      <td>219</td>\n",
       "      <td>190.0</td>\n",
       "    </tr>\n",
       "    <tr>\n",
       "      <th>18</th>\n",
       "      <td>REALIZADO</td>\n",
       "      <td>agosto</td>\n",
       "      <td>8</td>\n",
       "      <td>195</td>\n",
       "      <td>219.0</td>\n",
       "    </tr>\n",
       "    <tr>\n",
       "      <th>19</th>\n",
       "      <td>REALIZADO</td>\n",
       "      <td>setembro</td>\n",
       "      <td>9</td>\n",
       "      <td>185</td>\n",
       "      <td>195.0</td>\n",
       "    </tr>\n",
       "    <tr>\n",
       "      <th>20</th>\n",
       "      <td>REALIZADO</td>\n",
       "      <td>outubro</td>\n",
       "      <td>10</td>\n",
       "      <td>180</td>\n",
       "      <td>185.0</td>\n",
       "    </tr>\n",
       "    <tr>\n",
       "      <th>21</th>\n",
       "      <td>REALIZADO</td>\n",
       "      <td>novembro</td>\n",
       "      <td>11</td>\n",
       "      <td>167</td>\n",
       "      <td>180.0</td>\n",
       "    </tr>\n",
       "    <tr>\n",
       "      <th>22</th>\n",
       "      <td>REALIZADO</td>\n",
       "      <td>dezembro</td>\n",
       "      <td>12</td>\n",
       "      <td>166</td>\n",
       "      <td>167.0</td>\n",
       "    </tr>\n",
       "  </tbody>\n",
       "</table>\n",
       "</div>"
      ],
      "text/plain": [
       "   SITUACAO_VOO NOME_MES_PARTIDA_PREVISTA MES_PARTIDA_PREVISTA TOTAL_SITUACAO  \\\n",
       "0     CANCELADO                   janeiro                    1             17   \n",
       "1     CANCELADO                 fevereiro                    2              2   \n",
       "2     CANCELADO                     março                    3              2   \n",
       "3     CANCELADO                      maio                    5              9   \n",
       "4     CANCELADO                     junho                    6             13   \n",
       "5     CANCELADO                     julho                    7              4   \n",
       "6     CANCELADO                    agosto                    8              3   \n",
       "7     CANCELADO                  setembro                    9             11   \n",
       "8     CANCELADO                   outubro                   10             15   \n",
       "9     CANCELADO                  novembro                   11             10   \n",
       "10    CANCELADO                  dezembro                   12             12   \n",
       "11    REALIZADO                   janeiro                    1            240   \n",
       "12    REALIZADO                 fevereiro                    2            144   \n",
       "13    REALIZADO                     março                    3            171   \n",
       "14    REALIZADO                     abril                    4            194   \n",
       "15    REALIZADO                      maio                    5            212   \n",
       "16    REALIZADO                     junho                    6            190   \n",
       "17    REALIZADO                     julho                    7            219   \n",
       "18    REALIZADO                    agosto                    8            195   \n",
       "19    REALIZADO                  setembro                    9            185   \n",
       "20    REALIZADO                   outubro                   10            180   \n",
       "21    REALIZADO                  novembro                   11            167   \n",
       "22    REALIZADO                  dezembro                   12            166   \n",
       "\n",
       "   TOTAL_SITUACAO_MES_ANTERIOR  \n",
       "0                            0  \n",
       "1                         17.0  \n",
       "2                          2.0  \n",
       "3                          2.0  \n",
       "4                          9.0  \n",
       "5                         13.0  \n",
       "6                          4.0  \n",
       "7                          3.0  \n",
       "8                         11.0  \n",
       "9                         15.0  \n",
       "10                        10.0  \n",
       "11                           0  \n",
       "12                       240.0  \n",
       "13                       144.0  \n",
       "14                       171.0  \n",
       "15                       194.0  \n",
       "16                       212.0  \n",
       "17                       190.0  \n",
       "18                       219.0  \n",
       "19                       195.0  \n",
       "20                       185.0  \n",
       "21                       180.0  \n",
       "22                       167.0  "
      ]
     },
     "execution_count": 56,
     "metadata": {},
     "output_type": "execute_result"
    }
   ],
   "source": [
    "df_gb['TOTAL_SITUACAO_MES_ANTERIOR'] = df_gb.groupby('SITUACAO_VOO')['TOTAL_SITUACAO'].shift(1)\n",
    "df_gb.fillna(0, axis=1, inplace=True)\n",
    "df_gb"
   ]
  },
  {
   "cell_type": "code",
   "execution_count": 57,
   "metadata": {},
   "outputs": [],
   "source": [
    "def calcular_variacao(linha):\n",
    "    try:\n",
    "        total_atual = linha['TOTAL_SITUACAO']\n",
    "        total_mes_anterior = linha['TOTAL_SITUACAO_MES_ANTERIOR']\n",
    "        variacao = ((total_atual - total_mes_anterior) / total_mes_anterior) * 100\n",
    "    except ZeroDivisionError:\n",
    "        variacao = 0\n",
    "    return round(variacao, 2)\n"
   ]
  },
  {
   "cell_type": "code",
   "execution_count": 58,
   "metadata": {},
   "outputs": [
    {
     "data": {
      "text/html": [
       "<div>\n",
       "<style scoped>\n",
       "    .dataframe tbody tr th:only-of-type {\n",
       "        vertical-align: middle;\n",
       "    }\n",
       "\n",
       "    .dataframe tbody tr th {\n",
       "        vertical-align: top;\n",
       "    }\n",
       "\n",
       "    .dataframe thead th {\n",
       "        text-align: right;\n",
       "    }\n",
       "</style>\n",
       "<table border=\"1\" class=\"dataframe\">\n",
       "  <thead>\n",
       "    <tr style=\"text-align: right;\">\n",
       "      <th></th>\n",
       "      <th>SITUACAO_VOO</th>\n",
       "      <th>NOME_MES_PARTIDA_PREVISTA</th>\n",
       "      <th>MES_PARTIDA_PREVISTA</th>\n",
       "      <th>TOTAL_SITUACAO</th>\n",
       "      <th>TOTAL_SITUACAO_MES_ANTERIOR</th>\n",
       "      <th>PERCENTUAL_VARIACAO</th>\n",
       "    </tr>\n",
       "  </thead>\n",
       "  <tbody>\n",
       "    <tr>\n",
       "      <th>0</th>\n",
       "      <td>CANCELADO</td>\n",
       "      <td>janeiro</td>\n",
       "      <td>1</td>\n",
       "      <td>17</td>\n",
       "      <td>0</td>\n",
       "      <td>0.00</td>\n",
       "    </tr>\n",
       "    <tr>\n",
       "      <th>1</th>\n",
       "      <td>CANCELADO</td>\n",
       "      <td>fevereiro</td>\n",
       "      <td>2</td>\n",
       "      <td>2</td>\n",
       "      <td>17.0</td>\n",
       "      <td>-88.24</td>\n",
       "    </tr>\n",
       "    <tr>\n",
       "      <th>2</th>\n",
       "      <td>CANCELADO</td>\n",
       "      <td>março</td>\n",
       "      <td>3</td>\n",
       "      <td>2</td>\n",
       "      <td>2.0</td>\n",
       "      <td>0.00</td>\n",
       "    </tr>\n",
       "    <tr>\n",
       "      <th>3</th>\n",
       "      <td>CANCELADO</td>\n",
       "      <td>maio</td>\n",
       "      <td>5</td>\n",
       "      <td>9</td>\n",
       "      <td>2.0</td>\n",
       "      <td>350.00</td>\n",
       "    </tr>\n",
       "    <tr>\n",
       "      <th>4</th>\n",
       "      <td>CANCELADO</td>\n",
       "      <td>junho</td>\n",
       "      <td>6</td>\n",
       "      <td>13</td>\n",
       "      <td>9.0</td>\n",
       "      <td>44.44</td>\n",
       "    </tr>\n",
       "    <tr>\n",
       "      <th>5</th>\n",
       "      <td>CANCELADO</td>\n",
       "      <td>julho</td>\n",
       "      <td>7</td>\n",
       "      <td>4</td>\n",
       "      <td>13.0</td>\n",
       "      <td>-69.23</td>\n",
       "    </tr>\n",
       "    <tr>\n",
       "      <th>6</th>\n",
       "      <td>CANCELADO</td>\n",
       "      <td>agosto</td>\n",
       "      <td>8</td>\n",
       "      <td>3</td>\n",
       "      <td>4.0</td>\n",
       "      <td>-25.00</td>\n",
       "    </tr>\n",
       "    <tr>\n",
       "      <th>7</th>\n",
       "      <td>CANCELADO</td>\n",
       "      <td>setembro</td>\n",
       "      <td>9</td>\n",
       "      <td>11</td>\n",
       "      <td>3.0</td>\n",
       "      <td>266.67</td>\n",
       "    </tr>\n",
       "    <tr>\n",
       "      <th>8</th>\n",
       "      <td>CANCELADO</td>\n",
       "      <td>outubro</td>\n",
       "      <td>10</td>\n",
       "      <td>15</td>\n",
       "      <td>11.0</td>\n",
       "      <td>36.36</td>\n",
       "    </tr>\n",
       "    <tr>\n",
       "      <th>9</th>\n",
       "      <td>CANCELADO</td>\n",
       "      <td>novembro</td>\n",
       "      <td>11</td>\n",
       "      <td>10</td>\n",
       "      <td>15.0</td>\n",
       "      <td>-33.33</td>\n",
       "    </tr>\n",
       "    <tr>\n",
       "      <th>10</th>\n",
       "      <td>CANCELADO</td>\n",
       "      <td>dezembro</td>\n",
       "      <td>12</td>\n",
       "      <td>12</td>\n",
       "      <td>10.0</td>\n",
       "      <td>20.00</td>\n",
       "    </tr>\n",
       "    <tr>\n",
       "      <th>11</th>\n",
       "      <td>REALIZADO</td>\n",
       "      <td>janeiro</td>\n",
       "      <td>1</td>\n",
       "      <td>240</td>\n",
       "      <td>0</td>\n",
       "      <td>0.00</td>\n",
       "    </tr>\n",
       "    <tr>\n",
       "      <th>12</th>\n",
       "      <td>REALIZADO</td>\n",
       "      <td>fevereiro</td>\n",
       "      <td>2</td>\n",
       "      <td>144</td>\n",
       "      <td>240.0</td>\n",
       "      <td>-40.00</td>\n",
       "    </tr>\n",
       "    <tr>\n",
       "      <th>13</th>\n",
       "      <td>REALIZADO</td>\n",
       "      <td>março</td>\n",
       "      <td>3</td>\n",
       "      <td>171</td>\n",
       "      <td>144.0</td>\n",
       "      <td>18.75</td>\n",
       "    </tr>\n",
       "    <tr>\n",
       "      <th>14</th>\n",
       "      <td>REALIZADO</td>\n",
       "      <td>abril</td>\n",
       "      <td>4</td>\n",
       "      <td>194</td>\n",
       "      <td>171.0</td>\n",
       "      <td>13.45</td>\n",
       "    </tr>\n",
       "    <tr>\n",
       "      <th>15</th>\n",
       "      <td>REALIZADO</td>\n",
       "      <td>maio</td>\n",
       "      <td>5</td>\n",
       "      <td>212</td>\n",
       "      <td>194.0</td>\n",
       "      <td>9.28</td>\n",
       "    </tr>\n",
       "    <tr>\n",
       "      <th>16</th>\n",
       "      <td>REALIZADO</td>\n",
       "      <td>junho</td>\n",
       "      <td>6</td>\n",
       "      <td>190</td>\n",
       "      <td>212.0</td>\n",
       "      <td>-10.38</td>\n",
       "    </tr>\n",
       "    <tr>\n",
       "      <th>17</th>\n",
       "      <td>REALIZADO</td>\n",
       "      <td>julho</td>\n",
       "      <td>7</td>\n",
       "      <td>219</td>\n",
       "      <td>190.0</td>\n",
       "      <td>15.26</td>\n",
       "    </tr>\n",
       "    <tr>\n",
       "      <th>18</th>\n",
       "      <td>REALIZADO</td>\n",
       "      <td>agosto</td>\n",
       "      <td>8</td>\n",
       "      <td>195</td>\n",
       "      <td>219.0</td>\n",
       "      <td>-10.96</td>\n",
       "    </tr>\n",
       "    <tr>\n",
       "      <th>19</th>\n",
       "      <td>REALIZADO</td>\n",
       "      <td>setembro</td>\n",
       "      <td>9</td>\n",
       "      <td>185</td>\n",
       "      <td>195.0</td>\n",
       "      <td>-5.13</td>\n",
       "    </tr>\n",
       "    <tr>\n",
       "      <th>20</th>\n",
       "      <td>REALIZADO</td>\n",
       "      <td>outubro</td>\n",
       "      <td>10</td>\n",
       "      <td>180</td>\n",
       "      <td>185.0</td>\n",
       "      <td>-2.70</td>\n",
       "    </tr>\n",
       "    <tr>\n",
       "      <th>21</th>\n",
       "      <td>REALIZADO</td>\n",
       "      <td>novembro</td>\n",
       "      <td>11</td>\n",
       "      <td>167</td>\n",
       "      <td>180.0</td>\n",
       "      <td>-7.22</td>\n",
       "    </tr>\n",
       "    <tr>\n",
       "      <th>22</th>\n",
       "      <td>REALIZADO</td>\n",
       "      <td>dezembro</td>\n",
       "      <td>12</td>\n",
       "      <td>166</td>\n",
       "      <td>167.0</td>\n",
       "      <td>-0.60</td>\n",
       "    </tr>\n",
       "  </tbody>\n",
       "</table>\n",
       "</div>"
      ],
      "text/plain": [
       "   SITUACAO_VOO NOME_MES_PARTIDA_PREVISTA MES_PARTIDA_PREVISTA TOTAL_SITUACAO  \\\n",
       "0     CANCELADO                   janeiro                    1             17   \n",
       "1     CANCELADO                 fevereiro                    2              2   \n",
       "2     CANCELADO                     março                    3              2   \n",
       "3     CANCELADO                      maio                    5              9   \n",
       "4     CANCELADO                     junho                    6             13   \n",
       "5     CANCELADO                     julho                    7              4   \n",
       "6     CANCELADO                    agosto                    8              3   \n",
       "7     CANCELADO                  setembro                    9             11   \n",
       "8     CANCELADO                   outubro                   10             15   \n",
       "9     CANCELADO                  novembro                   11             10   \n",
       "10    CANCELADO                  dezembro                   12             12   \n",
       "11    REALIZADO                   janeiro                    1            240   \n",
       "12    REALIZADO                 fevereiro                    2            144   \n",
       "13    REALIZADO                     março                    3            171   \n",
       "14    REALIZADO                     abril                    4            194   \n",
       "15    REALIZADO                      maio                    5            212   \n",
       "16    REALIZADO                     junho                    6            190   \n",
       "17    REALIZADO                     julho                    7            219   \n",
       "18    REALIZADO                    agosto                    8            195   \n",
       "19    REALIZADO                  setembro                    9            185   \n",
       "20    REALIZADO                   outubro                   10            180   \n",
       "21    REALIZADO                  novembro                   11            167   \n",
       "22    REALIZADO                  dezembro                   12            166   \n",
       "\n",
       "   TOTAL_SITUACAO_MES_ANTERIOR  PERCENTUAL_VARIACAO  \n",
       "0                            0                 0.00  \n",
       "1                         17.0               -88.24  \n",
       "2                          2.0                 0.00  \n",
       "3                          2.0               350.00  \n",
       "4                          9.0                44.44  \n",
       "5                         13.0               -69.23  \n",
       "6                          4.0               -25.00  \n",
       "7                          3.0               266.67  \n",
       "8                         11.0                36.36  \n",
       "9                         15.0               -33.33  \n",
       "10                        10.0                20.00  \n",
       "11                           0                 0.00  \n",
       "12                       240.0               -40.00  \n",
       "13                       144.0                18.75  \n",
       "14                       171.0                13.45  \n",
       "15                       194.0                 9.28  \n",
       "16                       212.0               -10.38  \n",
       "17                       190.0                15.26  \n",
       "18                       219.0               -10.96  \n",
       "19                       195.0                -5.13  \n",
       "20                       185.0                -2.70  \n",
       "21                       180.0                -7.22  \n",
       "22                       167.0                -0.60  "
      ]
     },
     "execution_count": 58,
     "metadata": {},
     "output_type": "execute_result"
    }
   ],
   "source": [
    "df_gb['PERCENTUAL_VARIACAO'] = df_gb.apply(calcular_variacao, axis=1)\n",
    "df_gb"
   ]
  },
  {
   "cell_type": "code",
   "execution_count": 59,
   "metadata": {},
   "outputs": [
    {
     "data": {
      "text/html": [
       "<div>\n",
       "<style scoped>\n",
       "    .dataframe tbody tr th:only-of-type {\n",
       "        vertical-align: middle;\n",
       "    }\n",
       "\n",
       "    .dataframe tbody tr th {\n",
       "        vertical-align: top;\n",
       "    }\n",
       "\n",
       "    .dataframe thead th {\n",
       "        text-align: right;\n",
       "    }\n",
       "</style>\n",
       "<table border=\"1\" class=\"dataframe\">\n",
       "  <thead>\n",
       "    <tr style=\"text-align: right;\">\n",
       "      <th></th>\n",
       "      <th>TOTAL_SITUACAO</th>\n",
       "      <th>TOTAL_SITUACAO_MES_ANTERIOR</th>\n",
       "      <th>PERCENTUAL_VARIACAO</th>\n",
       "    </tr>\n",
       "  </thead>\n",
       "  <tbody>\n",
       "    <tr>\n",
       "      <th>1</th>\n",
       "      <td>2</td>\n",
       "      <td>17.0</td>\n",
       "      <td>-88.24</td>\n",
       "    </tr>\n",
       "  </tbody>\n",
       "</table>\n",
       "</div>"
      ],
      "text/plain": [
       "  TOTAL_SITUACAO TOTAL_SITUACAO_MES_ANTERIOR  PERCENTUAL_VARIACAO\n",
       "1              2                        17.0               -88.24"
      ]
     },
     "execution_count": 59,
     "metadata": {},
     "output_type": "execute_result"
    }
   ],
   "source": [
    "df_status_cancelado = df_gb.query('SITUACAO_VOO == \"CANCELADO\" and MES_PARTIDA_PREVISTA == 2')[['TOTAL_SITUACAO', 'TOTAL_SITUACAO_MES_ANTERIOR', 'PERCENTUAL_VARIACAO']]\n",
    "df_status_cancelado"
   ]
  },
  {
   "cell_type": "code",
   "execution_count": 60,
   "metadata": {},
   "outputs": [
    {
     "data": {
      "text/html": [
       "<div>\n",
       "<style scoped>\n",
       "    .dataframe tbody tr th:only-of-type {\n",
       "        vertical-align: middle;\n",
       "    }\n",
       "\n",
       "    .dataframe tbody tr th {\n",
       "        vertical-align: top;\n",
       "    }\n",
       "\n",
       "    .dataframe thead th {\n",
       "        text-align: right;\n",
       "    }\n",
       "</style>\n",
       "<table border=\"1\" class=\"dataframe\">\n",
       "  <thead>\n",
       "    <tr style=\"text-align: right;\">\n",
       "      <th></th>\n",
       "      <th>TOTAL_SITUACAO</th>\n",
       "      <th>TOTAL_SITUACAO_MES_ANTERIOR</th>\n",
       "      <th>PERCENTUAL_VARIACAO</th>\n",
       "    </tr>\n",
       "  </thead>\n",
       "  <tbody>\n",
       "    <tr>\n",
       "      <th>12</th>\n",
       "      <td>144</td>\n",
       "      <td>240.0</td>\n",
       "      <td>-40.0</td>\n",
       "    </tr>\n",
       "  </tbody>\n",
       "</table>\n",
       "</div>"
      ],
      "text/plain": [
       "   TOTAL_SITUACAO TOTAL_SITUACAO_MES_ANTERIOR  PERCENTUAL_VARIACAO\n",
       "12            144                       240.0                -40.0"
      ]
     },
     "execution_count": 60,
     "metadata": {},
     "output_type": "execute_result"
    }
   ],
   "source": [
    "df_status_realizado = df_gb.query('SITUACAO_VOO == \"REALIZADO\" and MES_PARTIDA_PREVISTA == 2')[['TOTAL_SITUACAO', 'TOTAL_SITUACAO_MES_ANTERIOR', 'PERCENTUAL_VARIACAO']]\n",
    "df_status_realizado"
   ]
  },
  {
   "cell_type": "code",
   "execution_count": 61,
   "metadata": {},
   "outputs": [
    {
     "data": {
      "application/vnd.plotly.v1+json": {
       "config": {
        "plotlyServerURL": "https://plot.ly"
       },
       "data": [
        {
         "delta": {
          "position": "top",
          "reference": 240,
          "relative": true
         },
         "mode": "number+delta",
         "title": {
          "text": "Total Situação Vôos Realizados"
         },
         "type": "indicator",
         "value": 144
        }
       ],
       "layout": {
        "template": {
         "data": {
          "bar": [
           {
            "error_x": {
             "color": "#2a3f5f"
            },
            "error_y": {
             "color": "#2a3f5f"
            },
            "marker": {
             "line": {
              "color": "#E5ECF6",
              "width": 0.5
             },
             "pattern": {
              "fillmode": "overlay",
              "size": 10,
              "solidity": 0.2
             }
            },
            "type": "bar"
           }
          ],
          "barpolar": [
           {
            "marker": {
             "line": {
              "color": "#E5ECF6",
              "width": 0.5
             },
             "pattern": {
              "fillmode": "overlay",
              "size": 10,
              "solidity": 0.2
             }
            },
            "type": "barpolar"
           }
          ],
          "carpet": [
           {
            "aaxis": {
             "endlinecolor": "#2a3f5f",
             "gridcolor": "white",
             "linecolor": "white",
             "minorgridcolor": "white",
             "startlinecolor": "#2a3f5f"
            },
            "baxis": {
             "endlinecolor": "#2a3f5f",
             "gridcolor": "white",
             "linecolor": "white",
             "minorgridcolor": "white",
             "startlinecolor": "#2a3f5f"
            },
            "type": "carpet"
           }
          ],
          "choropleth": [
           {
            "colorbar": {
             "outlinewidth": 0,
             "ticks": ""
            },
            "type": "choropleth"
           }
          ],
          "contour": [
           {
            "colorbar": {
             "outlinewidth": 0,
             "ticks": ""
            },
            "colorscale": [
             [
              0,
              "#0d0887"
             ],
             [
              0.1111111111111111,
              "#46039f"
             ],
             [
              0.2222222222222222,
              "#7201a8"
             ],
             [
              0.3333333333333333,
              "#9c179e"
             ],
             [
              0.4444444444444444,
              "#bd3786"
             ],
             [
              0.5555555555555556,
              "#d8576b"
             ],
             [
              0.6666666666666666,
              "#ed7953"
             ],
             [
              0.7777777777777778,
              "#fb9f3a"
             ],
             [
              0.8888888888888888,
              "#fdca26"
             ],
             [
              1,
              "#f0f921"
             ]
            ],
            "type": "contour"
           }
          ],
          "contourcarpet": [
           {
            "colorbar": {
             "outlinewidth": 0,
             "ticks": ""
            },
            "type": "contourcarpet"
           }
          ],
          "heatmap": [
           {
            "colorbar": {
             "outlinewidth": 0,
             "ticks": ""
            },
            "colorscale": [
             [
              0,
              "#0d0887"
             ],
             [
              0.1111111111111111,
              "#46039f"
             ],
             [
              0.2222222222222222,
              "#7201a8"
             ],
             [
              0.3333333333333333,
              "#9c179e"
             ],
             [
              0.4444444444444444,
              "#bd3786"
             ],
             [
              0.5555555555555556,
              "#d8576b"
             ],
             [
              0.6666666666666666,
              "#ed7953"
             ],
             [
              0.7777777777777778,
              "#fb9f3a"
             ],
             [
              0.8888888888888888,
              "#fdca26"
             ],
             [
              1,
              "#f0f921"
             ]
            ],
            "type": "heatmap"
           }
          ],
          "heatmapgl": [
           {
            "colorbar": {
             "outlinewidth": 0,
             "ticks": ""
            },
            "colorscale": [
             [
              0,
              "#0d0887"
             ],
             [
              0.1111111111111111,
              "#46039f"
             ],
             [
              0.2222222222222222,
              "#7201a8"
             ],
             [
              0.3333333333333333,
              "#9c179e"
             ],
             [
              0.4444444444444444,
              "#bd3786"
             ],
             [
              0.5555555555555556,
              "#d8576b"
             ],
             [
              0.6666666666666666,
              "#ed7953"
             ],
             [
              0.7777777777777778,
              "#fb9f3a"
             ],
             [
              0.8888888888888888,
              "#fdca26"
             ],
             [
              1,
              "#f0f921"
             ]
            ],
            "type": "heatmapgl"
           }
          ],
          "histogram": [
           {
            "marker": {
             "pattern": {
              "fillmode": "overlay",
              "size": 10,
              "solidity": 0.2
             }
            },
            "type": "histogram"
           }
          ],
          "histogram2d": [
           {
            "colorbar": {
             "outlinewidth": 0,
             "ticks": ""
            },
            "colorscale": [
             [
              0,
              "#0d0887"
             ],
             [
              0.1111111111111111,
              "#46039f"
             ],
             [
              0.2222222222222222,
              "#7201a8"
             ],
             [
              0.3333333333333333,
              "#9c179e"
             ],
             [
              0.4444444444444444,
              "#bd3786"
             ],
             [
              0.5555555555555556,
              "#d8576b"
             ],
             [
              0.6666666666666666,
              "#ed7953"
             ],
             [
              0.7777777777777778,
              "#fb9f3a"
             ],
             [
              0.8888888888888888,
              "#fdca26"
             ],
             [
              1,
              "#f0f921"
             ]
            ],
            "type": "histogram2d"
           }
          ],
          "histogram2dcontour": [
           {
            "colorbar": {
             "outlinewidth": 0,
             "ticks": ""
            },
            "colorscale": [
             [
              0,
              "#0d0887"
             ],
             [
              0.1111111111111111,
              "#46039f"
             ],
             [
              0.2222222222222222,
              "#7201a8"
             ],
             [
              0.3333333333333333,
              "#9c179e"
             ],
             [
              0.4444444444444444,
              "#bd3786"
             ],
             [
              0.5555555555555556,
              "#d8576b"
             ],
             [
              0.6666666666666666,
              "#ed7953"
             ],
             [
              0.7777777777777778,
              "#fb9f3a"
             ],
             [
              0.8888888888888888,
              "#fdca26"
             ],
             [
              1,
              "#f0f921"
             ]
            ],
            "type": "histogram2dcontour"
           }
          ],
          "mesh3d": [
           {
            "colorbar": {
             "outlinewidth": 0,
             "ticks": ""
            },
            "type": "mesh3d"
           }
          ],
          "parcoords": [
           {
            "line": {
             "colorbar": {
              "outlinewidth": 0,
              "ticks": ""
             }
            },
            "type": "parcoords"
           }
          ],
          "pie": [
           {
            "automargin": true,
            "type": "pie"
           }
          ],
          "scatter": [
           {
            "fillpattern": {
             "fillmode": "overlay",
             "size": 10,
             "solidity": 0.2
            },
            "type": "scatter"
           }
          ],
          "scatter3d": [
           {
            "line": {
             "colorbar": {
              "outlinewidth": 0,
              "ticks": ""
             }
            },
            "marker": {
             "colorbar": {
              "outlinewidth": 0,
              "ticks": ""
             }
            },
            "type": "scatter3d"
           }
          ],
          "scattercarpet": [
           {
            "marker": {
             "colorbar": {
              "outlinewidth": 0,
              "ticks": ""
             }
            },
            "type": "scattercarpet"
           }
          ],
          "scattergeo": [
           {
            "marker": {
             "colorbar": {
              "outlinewidth": 0,
              "ticks": ""
             }
            },
            "type": "scattergeo"
           }
          ],
          "scattergl": [
           {
            "marker": {
             "colorbar": {
              "outlinewidth": 0,
              "ticks": ""
             }
            },
            "type": "scattergl"
           }
          ],
          "scattermapbox": [
           {
            "marker": {
             "colorbar": {
              "outlinewidth": 0,
              "ticks": ""
             }
            },
            "type": "scattermapbox"
           }
          ],
          "scatterpolar": [
           {
            "marker": {
             "colorbar": {
              "outlinewidth": 0,
              "ticks": ""
             }
            },
            "type": "scatterpolar"
           }
          ],
          "scatterpolargl": [
           {
            "marker": {
             "colorbar": {
              "outlinewidth": 0,
              "ticks": ""
             }
            },
            "type": "scatterpolargl"
           }
          ],
          "scatterternary": [
           {
            "marker": {
             "colorbar": {
              "outlinewidth": 0,
              "ticks": ""
             }
            },
            "type": "scatterternary"
           }
          ],
          "surface": [
           {
            "colorbar": {
             "outlinewidth": 0,
             "ticks": ""
            },
            "colorscale": [
             [
              0,
              "#0d0887"
             ],
             [
              0.1111111111111111,
              "#46039f"
             ],
             [
              0.2222222222222222,
              "#7201a8"
             ],
             [
              0.3333333333333333,
              "#9c179e"
             ],
             [
              0.4444444444444444,
              "#bd3786"
             ],
             [
              0.5555555555555556,
              "#d8576b"
             ],
             [
              0.6666666666666666,
              "#ed7953"
             ],
             [
              0.7777777777777778,
              "#fb9f3a"
             ],
             [
              0.8888888888888888,
              "#fdca26"
             ],
             [
              1,
              "#f0f921"
             ]
            ],
            "type": "surface"
           }
          ],
          "table": [
           {
            "cells": {
             "fill": {
              "color": "#EBF0F8"
             },
             "line": {
              "color": "white"
             }
            },
            "header": {
             "fill": {
              "color": "#C8D4E3"
             },
             "line": {
              "color": "white"
             }
            },
            "type": "table"
           }
          ]
         },
         "layout": {
          "annotationdefaults": {
           "arrowcolor": "#2a3f5f",
           "arrowhead": 0,
           "arrowwidth": 1
          },
          "autotypenumbers": "strict",
          "coloraxis": {
           "colorbar": {
            "outlinewidth": 0,
            "ticks": ""
           }
          },
          "colorscale": {
           "diverging": [
            [
             0,
             "#8e0152"
            ],
            [
             0.1,
             "#c51b7d"
            ],
            [
             0.2,
             "#de77ae"
            ],
            [
             0.3,
             "#f1b6da"
            ],
            [
             0.4,
             "#fde0ef"
            ],
            [
             0.5,
             "#f7f7f7"
            ],
            [
             0.6,
             "#e6f5d0"
            ],
            [
             0.7,
             "#b8e186"
            ],
            [
             0.8,
             "#7fbc41"
            ],
            [
             0.9,
             "#4d9221"
            ],
            [
             1,
             "#276419"
            ]
           ],
           "sequential": [
            [
             0,
             "#0d0887"
            ],
            [
             0.1111111111111111,
             "#46039f"
            ],
            [
             0.2222222222222222,
             "#7201a8"
            ],
            [
             0.3333333333333333,
             "#9c179e"
            ],
            [
             0.4444444444444444,
             "#bd3786"
            ],
            [
             0.5555555555555556,
             "#d8576b"
            ],
            [
             0.6666666666666666,
             "#ed7953"
            ],
            [
             0.7777777777777778,
             "#fb9f3a"
            ],
            [
             0.8888888888888888,
             "#fdca26"
            ],
            [
             1,
             "#f0f921"
            ]
           ],
           "sequentialminus": [
            [
             0,
             "#0d0887"
            ],
            [
             0.1111111111111111,
             "#46039f"
            ],
            [
             0.2222222222222222,
             "#7201a8"
            ],
            [
             0.3333333333333333,
             "#9c179e"
            ],
            [
             0.4444444444444444,
             "#bd3786"
            ],
            [
             0.5555555555555556,
             "#d8576b"
            ],
            [
             0.6666666666666666,
             "#ed7953"
            ],
            [
             0.7777777777777778,
             "#fb9f3a"
            ],
            [
             0.8888888888888888,
             "#fdca26"
            ],
            [
             1,
             "#f0f921"
            ]
           ]
          },
          "colorway": [
           "#636efa",
           "#EF553B",
           "#00cc96",
           "#ab63fa",
           "#FFA15A",
           "#19d3f3",
           "#FF6692",
           "#B6E880",
           "#FF97FF",
           "#FECB52"
          ],
          "font": {
           "color": "#2a3f5f"
          },
          "geo": {
           "bgcolor": "white",
           "lakecolor": "white",
           "landcolor": "#E5ECF6",
           "showlakes": true,
           "showland": true,
           "subunitcolor": "white"
          },
          "hoverlabel": {
           "align": "left"
          },
          "hovermode": "closest",
          "mapbox": {
           "style": "light"
          },
          "paper_bgcolor": "white",
          "plot_bgcolor": "#E5ECF6",
          "polar": {
           "angularaxis": {
            "gridcolor": "white",
            "linecolor": "white",
            "ticks": ""
           },
           "bgcolor": "#E5ECF6",
           "radialaxis": {
            "gridcolor": "white",
            "linecolor": "white",
            "ticks": ""
           }
          },
          "scene": {
           "xaxis": {
            "backgroundcolor": "#E5ECF6",
            "gridcolor": "white",
            "gridwidth": 2,
            "linecolor": "white",
            "showbackground": true,
            "ticks": "",
            "zerolinecolor": "white"
           },
           "yaxis": {
            "backgroundcolor": "#E5ECF6",
            "gridcolor": "white",
            "gridwidth": 2,
            "linecolor": "white",
            "showbackground": true,
            "ticks": "",
            "zerolinecolor": "white"
           },
           "zaxis": {
            "backgroundcolor": "#E5ECF6",
            "gridcolor": "white",
            "gridwidth": 2,
            "linecolor": "white",
            "showbackground": true,
            "ticks": "",
            "zerolinecolor": "white"
           }
          },
          "shapedefaults": {
           "line": {
            "color": "#2a3f5f"
           }
          },
          "ternary": {
           "aaxis": {
            "gridcolor": "white",
            "linecolor": "white",
            "ticks": ""
           },
           "baxis": {
            "gridcolor": "white",
            "linecolor": "white",
            "ticks": ""
           },
           "bgcolor": "#E5ECF6",
           "caxis": {
            "gridcolor": "white",
            "linecolor": "white",
            "ticks": ""
           }
          },
          "title": {
           "x": 0.05
          },
          "xaxis": {
           "automargin": true,
           "gridcolor": "white",
           "linecolor": "white",
           "ticks": "",
           "title": {
            "standoff": 15
           },
           "zerolinecolor": "white",
           "zerolinewidth": 2
          },
          "yaxis": {
           "automargin": true,
           "gridcolor": "white",
           "linecolor": "white",
           "ticks": "",
           "title": {
            "standoff": 15
           },
           "zerolinecolor": "white",
           "zerolinewidth": 2
          }
         }
        }
       }
      }
     },
     "metadata": {},
     "output_type": "display_data"
    }
   ],
   "source": [
    "fig = go.Figure(\n",
    "    go.Indicator(\n",
    "        mode='number+delta',\n",
    "        value=df_status_realizado['TOTAL_SITUACAO'].values[0],\n",
    "        delta={\n",
    "            'position': 'top', \n",
    "            'reference': df_status_realizado['TOTAL_SITUACAO_MES_ANTERIOR'].values[0], \n",
    "            'relative': True,\n",
    "        },\n",
    "        title={\n",
    "            'text': 'Total Situação Vôos Realizados'\n",
    "        }\n",
    "    )\n",
    ")\n",
    "fig.show()"
   ]
  },
  {
   "cell_type": "markdown",
   "metadata": {},
   "source": [
    "- Composição das situação do voo filtre por aeroporto em empresa"
   ]
  },
  {
   "cell_type": "code",
   "execution_count": 62,
   "metadata": {},
   "outputs": [],
   "source": [
    "colunas = [\n",
    "    'SITUACAO_VOO',\n",
    "    'MES_PARTIDA_PREVISTA',\n",
    "    'NOME_MES_PARTIDA_PREVISTA',\n",
    "    'SIGLA_ICAO_AEROPORTO_ORIGEM',\n",
    "    'NOME_AEROPORTO_ORIGEM',\n",
    "    'SIGLA_ICAO_EMPRESA_AEREA',\n",
    "    'NOME_EMPRESA'\n",
    "\n",
    "]\n",
    "dataframe = pd.read_parquet(caminho_base, columns=colunas)"
   ]
  },
  {
   "cell_type": "code",
   "execution_count": 63,
   "metadata": {},
   "outputs": [
    {
     "data": {
      "text/html": [
       "<div>\n",
       "<style scoped>\n",
       "    .dataframe tbody tr th:only-of-type {\n",
       "        vertical-align: middle;\n",
       "    }\n",
       "\n",
       "    .dataframe tbody tr th {\n",
       "        vertical-align: top;\n",
       "    }\n",
       "\n",
       "    .dataframe thead th {\n",
       "        text-align: right;\n",
       "    }\n",
       "</style>\n",
       "<table border=\"1\" class=\"dataframe\">\n",
       "  <thead>\n",
       "    <tr style=\"text-align: right;\">\n",
       "      <th></th>\n",
       "      <th>SITUACAO_VOO</th>\n",
       "      <th>MES_PARTIDA_PREVISTA</th>\n",
       "      <th>NOME_MES_PARTIDA_PREVISTA</th>\n",
       "      <th>SIGLA_ICAO_AEROPORTO_ORIGEM</th>\n",
       "      <th>NOME_AEROPORTO_ORIGEM</th>\n",
       "      <th>SIGLA_ICAO_EMPRESA_AEREA</th>\n",
       "      <th>NOME_EMPRESA</th>\n",
       "    </tr>\n",
       "  </thead>\n",
       "  <tbody>\n",
       "    <tr>\n",
       "      <th>1929</th>\n",
       "      <td>REALIZADO</td>\n",
       "      <td>1</td>\n",
       "      <td>janeiro</td>\n",
       "      <td>SBRP</td>\n",
       "      <td>LEITE LOPES</td>\n",
       "      <td>AZU</td>\n",
       "      <td>AZUL</td>\n",
       "    </tr>\n",
       "    <tr>\n",
       "      <th>1930</th>\n",
       "      <td>REALIZADO</td>\n",
       "      <td>1</td>\n",
       "      <td>janeiro</td>\n",
       "      <td>SBRP</td>\n",
       "      <td>LEITE LOPES</td>\n",
       "      <td>AZU</td>\n",
       "      <td>AZUL</td>\n",
       "    </tr>\n",
       "    <tr>\n",
       "      <th>1931</th>\n",
       "      <td>REALIZADO</td>\n",
       "      <td>1</td>\n",
       "      <td>janeiro</td>\n",
       "      <td>SBRP</td>\n",
       "      <td>LEITE LOPES</td>\n",
       "      <td>AZU</td>\n",
       "      <td>AZUL</td>\n",
       "    </tr>\n",
       "    <tr>\n",
       "      <th>1932</th>\n",
       "      <td>REALIZADO</td>\n",
       "      <td>1</td>\n",
       "      <td>janeiro</td>\n",
       "      <td>SBRP</td>\n",
       "      <td>LEITE LOPES</td>\n",
       "      <td>AZU</td>\n",
       "      <td>AZUL</td>\n",
       "    </tr>\n",
       "    <tr>\n",
       "      <th>1933</th>\n",
       "      <td>REALIZADO</td>\n",
       "      <td>1</td>\n",
       "      <td>janeiro</td>\n",
       "      <td>SBRP</td>\n",
       "      <td>LEITE LOPES</td>\n",
       "      <td>AZU</td>\n",
       "      <td>AZUL</td>\n",
       "    </tr>\n",
       "  </tbody>\n",
       "</table>\n",
       "</div>"
      ],
      "text/plain": [
       "     SITUACAO_VOO  MES_PARTIDA_PREVISTA NOME_MES_PARTIDA_PREVISTA  \\\n",
       "1929    REALIZADO                     1                   janeiro   \n",
       "1930    REALIZADO                     1                   janeiro   \n",
       "1931    REALIZADO                     1                   janeiro   \n",
       "1932    REALIZADO                     1                   janeiro   \n",
       "1933    REALIZADO                     1                   janeiro   \n",
       "\n",
       "     SIGLA_ICAO_AEROPORTO_ORIGEM NOME_AEROPORTO_ORIGEM  \\\n",
       "1929                        SBRP           LEITE LOPES   \n",
       "1930                        SBRP           LEITE LOPES   \n",
       "1931                        SBRP           LEITE LOPES   \n",
       "1932                        SBRP           LEITE LOPES   \n",
       "1933                        SBRP           LEITE LOPES   \n",
       "\n",
       "     SIGLA_ICAO_EMPRESA_AEREA NOME_EMPRESA  \n",
       "1929                      AZU         AZUL  \n",
       "1930                      AZU         AZUL  \n",
       "1931                      AZU         AZUL  \n",
       "1932                      AZU         AZUL  \n",
       "1933                      AZU         AZUL  "
      ]
     },
     "execution_count": 63,
     "metadata": {},
     "output_type": "execute_result"
    }
   ],
   "source": [
    "dataframe = dataframe.query('SIGLA_ICAO_AEROPORTO_ORIGEM == \"SBRP\"  and SIGLA_ICAO_EMPRESA_AEREA ==\"AZU\"') #  and SITUACAO_VOO==\"REALIZADO\"\n",
    "dataframe.head()"
   ]
  },
  {
   "cell_type": "code",
   "execution_count": 64,
   "metadata": {},
   "outputs": [],
   "source": [
    "dataframe[['SITUACAO_VOO', 'NOME_MES_PARTIDA_PREVISTA']] = dataframe[['SITUACAO_VOO', 'NOME_MES_PARTIDA_PREVISTA']].astype('string')"
   ]
  },
  {
   "cell_type": "code",
   "execution_count": 65,
   "metadata": {},
   "outputs": [
    {
     "data": {
      "text/html": [
       "<div>\n",
       "<style scoped>\n",
       "    .dataframe tbody tr th:only-of-type {\n",
       "        vertical-align: middle;\n",
       "    }\n",
       "\n",
       "    .dataframe tbody tr th {\n",
       "        vertical-align: top;\n",
       "    }\n",
       "\n",
       "    .dataframe thead th {\n",
       "        text-align: right;\n",
       "    }\n",
       "</style>\n",
       "<table border=\"1\" class=\"dataframe\">\n",
       "  <thead>\n",
       "    <tr style=\"text-align: right;\">\n",
       "      <th></th>\n",
       "      <th>SITUACAO_VOO</th>\n",
       "      <th>NOME_MES_PARTIDA_PREVISTA</th>\n",
       "      <th>MES_PARTIDA_PREVISTA</th>\n",
       "      <th>TOTAL_VOOS</th>\n",
       "    </tr>\n",
       "  </thead>\n",
       "  <tbody>\n",
       "    <tr>\n",
       "      <th>3</th>\n",
       "      <td>CANCELADO</td>\n",
       "      <td>janeiro</td>\n",
       "      <td>1</td>\n",
       "      <td>17</td>\n",
       "    </tr>\n",
       "    <tr>\n",
       "      <th>15</th>\n",
       "      <td>REALIZADO</td>\n",
       "      <td>janeiro</td>\n",
       "      <td>1</td>\n",
       "      <td>240</td>\n",
       "    </tr>\n",
       "    <tr>\n",
       "      <th>2</th>\n",
       "      <td>CANCELADO</td>\n",
       "      <td>fevereiro</td>\n",
       "      <td>2</td>\n",
       "      <td>2</td>\n",
       "    </tr>\n",
       "    <tr>\n",
       "      <th>14</th>\n",
       "      <td>REALIZADO</td>\n",
       "      <td>fevereiro</td>\n",
       "      <td>2</td>\n",
       "      <td>144</td>\n",
       "    </tr>\n",
       "    <tr>\n",
       "      <th>19</th>\n",
       "      <td>REALIZADO</td>\n",
       "      <td>março</td>\n",
       "      <td>3</td>\n",
       "      <td>171</td>\n",
       "    </tr>\n",
       "    <tr>\n",
       "      <th>7</th>\n",
       "      <td>CANCELADO</td>\n",
       "      <td>março</td>\n",
       "      <td>3</td>\n",
       "      <td>2</td>\n",
       "    </tr>\n",
       "    <tr>\n",
       "      <th>11</th>\n",
       "      <td>REALIZADO</td>\n",
       "      <td>abril</td>\n",
       "      <td>4</td>\n",
       "      <td>194</td>\n",
       "    </tr>\n",
       "    <tr>\n",
       "      <th>6</th>\n",
       "      <td>CANCELADO</td>\n",
       "      <td>maio</td>\n",
       "      <td>5</td>\n",
       "      <td>9</td>\n",
       "    </tr>\n",
       "    <tr>\n",
       "      <th>18</th>\n",
       "      <td>REALIZADO</td>\n",
       "      <td>maio</td>\n",
       "      <td>5</td>\n",
       "      <td>212</td>\n",
       "    </tr>\n",
       "    <tr>\n",
       "      <th>5</th>\n",
       "      <td>CANCELADO</td>\n",
       "      <td>junho</td>\n",
       "      <td>6</td>\n",
       "      <td>13</td>\n",
       "    </tr>\n",
       "    <tr>\n",
       "      <th>17</th>\n",
       "      <td>REALIZADO</td>\n",
       "      <td>junho</td>\n",
       "      <td>6</td>\n",
       "      <td>190</td>\n",
       "    </tr>\n",
       "    <tr>\n",
       "      <th>4</th>\n",
       "      <td>CANCELADO</td>\n",
       "      <td>julho</td>\n",
       "      <td>7</td>\n",
       "      <td>4</td>\n",
       "    </tr>\n",
       "    <tr>\n",
       "      <th>16</th>\n",
       "      <td>REALIZADO</td>\n",
       "      <td>julho</td>\n",
       "      <td>7</td>\n",
       "      <td>219</td>\n",
       "    </tr>\n",
       "    <tr>\n",
       "      <th>0</th>\n",
       "      <td>CANCELADO</td>\n",
       "      <td>agosto</td>\n",
       "      <td>8</td>\n",
       "      <td>3</td>\n",
       "    </tr>\n",
       "    <tr>\n",
       "      <th>12</th>\n",
       "      <td>REALIZADO</td>\n",
       "      <td>agosto</td>\n",
       "      <td>8</td>\n",
       "      <td>195</td>\n",
       "    </tr>\n",
       "    <tr>\n",
       "      <th>10</th>\n",
       "      <td>CANCELADO</td>\n",
       "      <td>setembro</td>\n",
       "      <td>9</td>\n",
       "      <td>11</td>\n",
       "    </tr>\n",
       "    <tr>\n",
       "      <th>22</th>\n",
       "      <td>REALIZADO</td>\n",
       "      <td>setembro</td>\n",
       "      <td>9</td>\n",
       "      <td>185</td>\n",
       "    </tr>\n",
       "    <tr>\n",
       "      <th>21</th>\n",
       "      <td>REALIZADO</td>\n",
       "      <td>outubro</td>\n",
       "      <td>10</td>\n",
       "      <td>180</td>\n",
       "    </tr>\n",
       "    <tr>\n",
       "      <th>9</th>\n",
       "      <td>CANCELADO</td>\n",
       "      <td>outubro</td>\n",
       "      <td>10</td>\n",
       "      <td>15</td>\n",
       "    </tr>\n",
       "    <tr>\n",
       "      <th>8</th>\n",
       "      <td>CANCELADO</td>\n",
       "      <td>novembro</td>\n",
       "      <td>11</td>\n",
       "      <td>10</td>\n",
       "    </tr>\n",
       "    <tr>\n",
       "      <th>20</th>\n",
       "      <td>REALIZADO</td>\n",
       "      <td>novembro</td>\n",
       "      <td>11</td>\n",
       "      <td>167</td>\n",
       "    </tr>\n",
       "    <tr>\n",
       "      <th>1</th>\n",
       "      <td>CANCELADO</td>\n",
       "      <td>dezembro</td>\n",
       "      <td>12</td>\n",
       "      <td>12</td>\n",
       "    </tr>\n",
       "    <tr>\n",
       "      <th>13</th>\n",
       "      <td>REALIZADO</td>\n",
       "      <td>dezembro</td>\n",
       "      <td>12</td>\n",
       "      <td>166</td>\n",
       "    </tr>\n",
       "  </tbody>\n",
       "</table>\n",
       "</div>"
      ],
      "text/plain": [
       "   SITUACAO_VOO NOME_MES_PARTIDA_PREVISTA  MES_PARTIDA_PREVISTA  TOTAL_VOOS\n",
       "3     CANCELADO                   janeiro                     1          17\n",
       "15    REALIZADO                   janeiro                     1         240\n",
       "2     CANCELADO                 fevereiro                     2           2\n",
       "14    REALIZADO                 fevereiro                     2         144\n",
       "19    REALIZADO                     março                     3         171\n",
       "7     CANCELADO                     março                     3           2\n",
       "11    REALIZADO                     abril                     4         194\n",
       "6     CANCELADO                      maio                     5           9\n",
       "18    REALIZADO                      maio                     5         212\n",
       "5     CANCELADO                     junho                     6          13\n",
       "17    REALIZADO                     junho                     6         190\n",
       "4     CANCELADO                     julho                     7           4\n",
       "16    REALIZADO                     julho                     7         219\n",
       "0     CANCELADO                    agosto                     8           3\n",
       "12    REALIZADO                    agosto                     8         195\n",
       "10    CANCELADO                  setembro                     9          11\n",
       "22    REALIZADO                  setembro                     9         185\n",
       "21    REALIZADO                   outubro                    10         180\n",
       "9     CANCELADO                   outubro                    10          15\n",
       "8     CANCELADO                  novembro                    11          10\n",
       "20    REALIZADO                  novembro                    11         167\n",
       "1     CANCELADO                  dezembro                    12          12\n",
       "13    REALIZADO                  dezembro                    12         166"
      ]
     },
     "execution_count": 65,
     "metadata": {},
     "output_type": "execute_result"
    }
   ],
   "source": [
    "dataframe_gb = dataframe.groupby(['SITUACAO_VOO', 'NOME_MES_PARTIDA_PREVISTA', 'MES_PARTIDA_PREVISTA']).agg(\n",
    "    TOTAL_VOOS=('NOME_MES_PARTIDA_PREVISTA', 'count')\n",
    ").reset_index().sort_values(by=['MES_PARTIDA_PREVISTA'])\n",
    "dataframe_gb"
   ]
  },
  {
   "cell_type": "code",
   "execution_count": 66,
   "metadata": {},
   "outputs": [
    {
     "data": {
      "text/html": [
       "<div>\n",
       "<style scoped>\n",
       "    .dataframe tbody tr th:only-of-type {\n",
       "        vertical-align: middle;\n",
       "    }\n",
       "\n",
       "    .dataframe tbody tr th {\n",
       "        vertical-align: top;\n",
       "    }\n",
       "\n",
       "    .dataframe thead th {\n",
       "        text-align: right;\n",
       "    }\n",
       "</style>\n",
       "<table border=\"1\" class=\"dataframe\">\n",
       "  <thead>\n",
       "    <tr style=\"text-align: right;\">\n",
       "      <th></th>\n",
       "      <th>NOME_MES_PARTIDA_PREVISTA</th>\n",
       "      <th>MES_PARTIDA_PREVISTA</th>\n",
       "      <th>TOTAL_VOO_MES</th>\n",
       "    </tr>\n",
       "  </thead>\n",
       "  <tbody>\n",
       "    <tr>\n",
       "      <th>4</th>\n",
       "      <td>janeiro</td>\n",
       "      <td>1</td>\n",
       "      <td>257</td>\n",
       "    </tr>\n",
       "    <tr>\n",
       "      <th>3</th>\n",
       "      <td>fevereiro</td>\n",
       "      <td>2</td>\n",
       "      <td>146</td>\n",
       "    </tr>\n",
       "    <tr>\n",
       "      <th>8</th>\n",
       "      <td>março</td>\n",
       "      <td>3</td>\n",
       "      <td>173</td>\n",
       "    </tr>\n",
       "    <tr>\n",
       "      <th>0</th>\n",
       "      <td>abril</td>\n",
       "      <td>4</td>\n",
       "      <td>194</td>\n",
       "    </tr>\n",
       "    <tr>\n",
       "      <th>7</th>\n",
       "      <td>maio</td>\n",
       "      <td>5</td>\n",
       "      <td>221</td>\n",
       "    </tr>\n",
       "    <tr>\n",
       "      <th>6</th>\n",
       "      <td>junho</td>\n",
       "      <td>6</td>\n",
       "      <td>203</td>\n",
       "    </tr>\n",
       "    <tr>\n",
       "      <th>5</th>\n",
       "      <td>julho</td>\n",
       "      <td>7</td>\n",
       "      <td>223</td>\n",
       "    </tr>\n",
       "    <tr>\n",
       "      <th>1</th>\n",
       "      <td>agosto</td>\n",
       "      <td>8</td>\n",
       "      <td>198</td>\n",
       "    </tr>\n",
       "    <tr>\n",
       "      <th>11</th>\n",
       "      <td>setembro</td>\n",
       "      <td>9</td>\n",
       "      <td>196</td>\n",
       "    </tr>\n",
       "    <tr>\n",
       "      <th>10</th>\n",
       "      <td>outubro</td>\n",
       "      <td>10</td>\n",
       "      <td>195</td>\n",
       "    </tr>\n",
       "    <tr>\n",
       "      <th>9</th>\n",
       "      <td>novembro</td>\n",
       "      <td>11</td>\n",
       "      <td>177</td>\n",
       "    </tr>\n",
       "    <tr>\n",
       "      <th>2</th>\n",
       "      <td>dezembro</td>\n",
       "      <td>12</td>\n",
       "      <td>178</td>\n",
       "    </tr>\n",
       "  </tbody>\n",
       "</table>\n",
       "</div>"
      ],
      "text/plain": [
       "   NOME_MES_PARTIDA_PREVISTA  MES_PARTIDA_PREVISTA  TOTAL_VOO_MES\n",
       "4                    janeiro                     1            257\n",
       "3                  fevereiro                     2            146\n",
       "8                      março                     3            173\n",
       "0                      abril                     4            194\n",
       "7                       maio                     5            221\n",
       "6                      junho                     6            203\n",
       "5                      julho                     7            223\n",
       "1                     agosto                     8            198\n",
       "11                  setembro                     9            196\n",
       "10                   outubro                    10            195\n",
       "9                   novembro                    11            177\n",
       "2                   dezembro                    12            178"
      ]
     },
     "execution_count": 66,
     "metadata": {},
     "output_type": "execute_result"
    }
   ],
   "source": [
    "dataframe_total = dataframe_gb.groupby([ 'NOME_MES_PARTIDA_PREVISTA', 'MES_PARTIDA_PREVISTA']).agg(\n",
    "    TOTAL_VOO_MES=('TOTAL_VOOS', 'sum')\n",
    ").reset_index().sort_values(by=['MES_PARTIDA_PREVISTA'])\n",
    "dataframe_total"
   ]
  },
  {
   "cell_type": "code",
   "execution_count": 67,
   "metadata": {},
   "outputs": [],
   "source": [
    "\n",
    "def obter_variacao(linha):\n",
    "    try:\n",
    "        total_voo_mes = linha['TOTAL_VOO_MES']\n",
    "        total_voo = linha['TOTAL_VOOS']\n",
    "        variacao = (total_voo * 100) / total_voo_mes\n",
    "    except ZeroDivisionError:\n",
    "        variacao = 0\n",
    "    return round(variacao, 2)\n"
   ]
  },
  {
   "cell_type": "code",
   "execution_count": 68,
   "metadata": {},
   "outputs": [],
   "source": [
    "dataframe_completo = dataframe_total.merge(dataframe_gb, how='inner', on='NOME_MES_PARTIDA_PREVISTA')\n",
    "dataframe_completo = dataframe_completo[['NOME_MES_PARTIDA_PREVISTA', 'SITUACAO_VOO', 'TOTAL_VOOS', 'TOTAL_VOO_MES']]"
   ]
  },
  {
   "cell_type": "code",
   "execution_count": 69,
   "metadata": {},
   "outputs": [
    {
     "data": {
      "text/html": [
       "<div>\n",
       "<style scoped>\n",
       "    .dataframe tbody tr th:only-of-type {\n",
       "        vertical-align: middle;\n",
       "    }\n",
       "\n",
       "    .dataframe tbody tr th {\n",
       "        vertical-align: top;\n",
       "    }\n",
       "\n",
       "    .dataframe thead th {\n",
       "        text-align: right;\n",
       "    }\n",
       "</style>\n",
       "<table border=\"1\" class=\"dataframe\">\n",
       "  <thead>\n",
       "    <tr style=\"text-align: right;\">\n",
       "      <th></th>\n",
       "      <th>NOME_MES_PARTIDA_PREVISTA</th>\n",
       "      <th>SITUACAO_VOO</th>\n",
       "      <th>TOTAL_VOOS</th>\n",
       "      <th>TOTAL_VOO_MES</th>\n",
       "      <th>VARIACAO_MENSAL</th>\n",
       "    </tr>\n",
       "  </thead>\n",
       "  <tbody>\n",
       "    <tr>\n",
       "      <th>0</th>\n",
       "      <td>janeiro</td>\n",
       "      <td>CANCELADO</td>\n",
       "      <td>17</td>\n",
       "      <td>257</td>\n",
       "      <td>6.61</td>\n",
       "    </tr>\n",
       "    <tr>\n",
       "      <th>1</th>\n",
       "      <td>janeiro</td>\n",
       "      <td>REALIZADO</td>\n",
       "      <td>240</td>\n",
       "      <td>257</td>\n",
       "      <td>93.39</td>\n",
       "    </tr>\n",
       "    <tr>\n",
       "      <th>2</th>\n",
       "      <td>fevereiro</td>\n",
       "      <td>CANCELADO</td>\n",
       "      <td>2</td>\n",
       "      <td>146</td>\n",
       "      <td>1.37</td>\n",
       "    </tr>\n",
       "    <tr>\n",
       "      <th>3</th>\n",
       "      <td>fevereiro</td>\n",
       "      <td>REALIZADO</td>\n",
       "      <td>144</td>\n",
       "      <td>146</td>\n",
       "      <td>98.63</td>\n",
       "    </tr>\n",
       "    <tr>\n",
       "      <th>4</th>\n",
       "      <td>março</td>\n",
       "      <td>REALIZADO</td>\n",
       "      <td>171</td>\n",
       "      <td>173</td>\n",
       "      <td>98.84</td>\n",
       "    </tr>\n",
       "    <tr>\n",
       "      <th>5</th>\n",
       "      <td>março</td>\n",
       "      <td>CANCELADO</td>\n",
       "      <td>2</td>\n",
       "      <td>173</td>\n",
       "      <td>1.16</td>\n",
       "    </tr>\n",
       "    <tr>\n",
       "      <th>6</th>\n",
       "      <td>abril</td>\n",
       "      <td>REALIZADO</td>\n",
       "      <td>194</td>\n",
       "      <td>194</td>\n",
       "      <td>100.00</td>\n",
       "    </tr>\n",
       "    <tr>\n",
       "      <th>7</th>\n",
       "      <td>maio</td>\n",
       "      <td>CANCELADO</td>\n",
       "      <td>9</td>\n",
       "      <td>221</td>\n",
       "      <td>4.07</td>\n",
       "    </tr>\n",
       "    <tr>\n",
       "      <th>8</th>\n",
       "      <td>maio</td>\n",
       "      <td>REALIZADO</td>\n",
       "      <td>212</td>\n",
       "      <td>221</td>\n",
       "      <td>95.93</td>\n",
       "    </tr>\n",
       "    <tr>\n",
       "      <th>9</th>\n",
       "      <td>junho</td>\n",
       "      <td>CANCELADO</td>\n",
       "      <td>13</td>\n",
       "      <td>203</td>\n",
       "      <td>6.40</td>\n",
       "    </tr>\n",
       "    <tr>\n",
       "      <th>10</th>\n",
       "      <td>junho</td>\n",
       "      <td>REALIZADO</td>\n",
       "      <td>190</td>\n",
       "      <td>203</td>\n",
       "      <td>93.60</td>\n",
       "    </tr>\n",
       "    <tr>\n",
       "      <th>11</th>\n",
       "      <td>julho</td>\n",
       "      <td>CANCELADO</td>\n",
       "      <td>4</td>\n",
       "      <td>223</td>\n",
       "      <td>1.79</td>\n",
       "    </tr>\n",
       "    <tr>\n",
       "      <th>12</th>\n",
       "      <td>julho</td>\n",
       "      <td>REALIZADO</td>\n",
       "      <td>219</td>\n",
       "      <td>223</td>\n",
       "      <td>98.21</td>\n",
       "    </tr>\n",
       "    <tr>\n",
       "      <th>13</th>\n",
       "      <td>agosto</td>\n",
       "      <td>CANCELADO</td>\n",
       "      <td>3</td>\n",
       "      <td>198</td>\n",
       "      <td>1.52</td>\n",
       "    </tr>\n",
       "    <tr>\n",
       "      <th>14</th>\n",
       "      <td>agosto</td>\n",
       "      <td>REALIZADO</td>\n",
       "      <td>195</td>\n",
       "      <td>198</td>\n",
       "      <td>98.48</td>\n",
       "    </tr>\n",
       "    <tr>\n",
       "      <th>15</th>\n",
       "      <td>setembro</td>\n",
       "      <td>CANCELADO</td>\n",
       "      <td>11</td>\n",
       "      <td>196</td>\n",
       "      <td>5.61</td>\n",
       "    </tr>\n",
       "    <tr>\n",
       "      <th>16</th>\n",
       "      <td>setembro</td>\n",
       "      <td>REALIZADO</td>\n",
       "      <td>185</td>\n",
       "      <td>196</td>\n",
       "      <td>94.39</td>\n",
       "    </tr>\n",
       "    <tr>\n",
       "      <th>17</th>\n",
       "      <td>outubro</td>\n",
       "      <td>REALIZADO</td>\n",
       "      <td>180</td>\n",
       "      <td>195</td>\n",
       "      <td>92.31</td>\n",
       "    </tr>\n",
       "    <tr>\n",
       "      <th>18</th>\n",
       "      <td>outubro</td>\n",
       "      <td>CANCELADO</td>\n",
       "      <td>15</td>\n",
       "      <td>195</td>\n",
       "      <td>7.69</td>\n",
       "    </tr>\n",
       "    <tr>\n",
       "      <th>19</th>\n",
       "      <td>novembro</td>\n",
       "      <td>CANCELADO</td>\n",
       "      <td>10</td>\n",
       "      <td>177</td>\n",
       "      <td>5.65</td>\n",
       "    </tr>\n",
       "    <tr>\n",
       "      <th>20</th>\n",
       "      <td>novembro</td>\n",
       "      <td>REALIZADO</td>\n",
       "      <td>167</td>\n",
       "      <td>177</td>\n",
       "      <td>94.35</td>\n",
       "    </tr>\n",
       "    <tr>\n",
       "      <th>21</th>\n",
       "      <td>dezembro</td>\n",
       "      <td>CANCELADO</td>\n",
       "      <td>12</td>\n",
       "      <td>178</td>\n",
       "      <td>6.74</td>\n",
       "    </tr>\n",
       "    <tr>\n",
       "      <th>22</th>\n",
       "      <td>dezembro</td>\n",
       "      <td>REALIZADO</td>\n",
       "      <td>166</td>\n",
       "      <td>178</td>\n",
       "      <td>93.26</td>\n",
       "    </tr>\n",
       "  </tbody>\n",
       "</table>\n",
       "</div>"
      ],
      "text/plain": [
       "   NOME_MES_PARTIDA_PREVISTA SITUACAO_VOO  TOTAL_VOOS  TOTAL_VOO_MES  \\\n",
       "0                    janeiro    CANCELADO          17            257   \n",
       "1                    janeiro    REALIZADO         240            257   \n",
       "2                  fevereiro    CANCELADO           2            146   \n",
       "3                  fevereiro    REALIZADO         144            146   \n",
       "4                      março    REALIZADO         171            173   \n",
       "5                      março    CANCELADO           2            173   \n",
       "6                      abril    REALIZADO         194            194   \n",
       "7                       maio    CANCELADO           9            221   \n",
       "8                       maio    REALIZADO         212            221   \n",
       "9                      junho    CANCELADO          13            203   \n",
       "10                     junho    REALIZADO         190            203   \n",
       "11                     julho    CANCELADO           4            223   \n",
       "12                     julho    REALIZADO         219            223   \n",
       "13                    agosto    CANCELADO           3            198   \n",
       "14                    agosto    REALIZADO         195            198   \n",
       "15                  setembro    CANCELADO          11            196   \n",
       "16                  setembro    REALIZADO         185            196   \n",
       "17                   outubro    REALIZADO         180            195   \n",
       "18                   outubro    CANCELADO          15            195   \n",
       "19                  novembro    CANCELADO          10            177   \n",
       "20                  novembro    REALIZADO         167            177   \n",
       "21                  dezembro    CANCELADO          12            178   \n",
       "22                  dezembro    REALIZADO         166            178   \n",
       "\n",
       "    VARIACAO_MENSAL  \n",
       "0              6.61  \n",
       "1             93.39  \n",
       "2              1.37  \n",
       "3             98.63  \n",
       "4             98.84  \n",
       "5              1.16  \n",
       "6            100.00  \n",
       "7              4.07  \n",
       "8             95.93  \n",
       "9              6.40  \n",
       "10            93.60  \n",
       "11             1.79  \n",
       "12            98.21  \n",
       "13             1.52  \n",
       "14            98.48  \n",
       "15             5.61  \n",
       "16            94.39  \n",
       "17            92.31  \n",
       "18             7.69  \n",
       "19             5.65  \n",
       "20            94.35  \n",
       "21             6.74  \n",
       "22            93.26  "
      ]
     },
     "execution_count": 69,
     "metadata": {},
     "output_type": "execute_result"
    }
   ],
   "source": [
    "dataframe_completo['VARIACAO_MENSAL'] = dataframe_completo.apply(obter_variacao, axis=1)\n",
    "dataframe_completo"
   ]
  },
  {
   "cell_type": "markdown",
   "metadata": {},
   "source": [
    "- Compare total de vôos realizado no fim de semana em relação por dia útil por mês"
   ]
  },
  {
   "cell_type": "code",
   "execution_count": 70,
   "metadata": {},
   "outputs": [],
   "source": [
    "colunas = [\n",
    "    'SITUACAO_VOO',\n",
    "    'MES_PARTIDA_PREVISTA',\n",
    "    'NOME_MES_PARTIDA_PREVISTA',\n",
    "    'SIGLA_ICAO_AEROPORTO_ORIGEM',\n",
    "    'NOME_AEROPORTO_ORIGEM',\n",
    "    'SIGLA_ICAO_EMPRESA_AEREA',\n",
    "    'NOME_EMPRESA',\n",
    "    'INDICE_SEMANA_PARTIDA_PREVISTA',\n",
    "    'DIA_DA_SEMANA_PARTIDA_PREVISTA'\n",
    "    \n",
    "\n",
    "]\n",
    "dataframe = pd.read_parquet(caminho_base, columns=colunas)"
   ]
  },
  {
   "cell_type": "code",
   "execution_count": 71,
   "metadata": {},
   "outputs": [],
   "source": [
    "dataframe = dataframe.query('SIGLA_ICAO_EMPRESA_AEREA == \"AZU\" and SIGLA_ICAO_AEROPORTO_ORIGEM == \"SBRP\" ')"
   ]
  },
  {
   "cell_type": "code",
   "execution_count": 72,
   "metadata": {},
   "outputs": [
    {
     "name": "stdout",
     "output_type": "stream",
     "text": [
      "<class 'pandas.core.frame.DataFrame'>\n",
      "Index: 2361 entries, 1929 to 258326\n",
      "Data columns (total 9 columns):\n",
      " #   Column                          Non-Null Count  Dtype   \n",
      "---  ------                          --------------  -----   \n",
      " 0   SITUACAO_VOO                    2361 non-null   category\n",
      " 1   MES_PARTIDA_PREVISTA            2361 non-null   int32   \n",
      " 2   NOME_MES_PARTIDA_PREVISTA       2361 non-null   category\n",
      " 3   SIGLA_ICAO_AEROPORTO_ORIGEM     2361 non-null   string  \n",
      " 4   NOME_AEROPORTO_ORIGEM           2361 non-null   string  \n",
      " 5   SIGLA_ICAO_EMPRESA_AEREA        2361 non-null   string  \n",
      " 6   NOME_EMPRESA                    2361 non-null   string  \n",
      " 7   INDICE_SEMANA_PARTIDA_PREVISTA  2361 non-null   int32   \n",
      " 8   DIA_DA_SEMANA_PARTIDA_PREVISTA  2361 non-null   category\n",
      "dtypes: category(3), int32(2), string(4)\n",
      "memory usage: 118.5 KB\n"
     ]
    }
   ],
   "source": [
    "dataframe.info()"
   ]
  },
  {
   "cell_type": "code",
   "execution_count": 73,
   "metadata": {},
   "outputs": [],
   "source": [
    "dataframe['DIA_DA_SEMANA_PARTIDA_PREVISTA'] = dataframe['DIA_DA_SEMANA_PARTIDA_PREVISTA'].astype('string')"
   ]
  },
  {
   "cell_type": "code",
   "execution_count": 74,
   "metadata": {},
   "outputs": [],
   "source": [
    "dataframe_gb = dataframe.groupby(['DIA_DA_SEMANA_PARTIDA_PREVISTA', 'INDICE_SEMANA_PARTIDA_PREVISTA']).agg(\n",
    "    TOTAL_VOOS=('DIA_DA_SEMANA_PARTIDA_PREVISTA', 'count')\n",
    ").reset_index()\n",
    "dataframe_gb = dataframe_gb.sort_values(by=['INDICE_SEMANA_PARTIDA_PREVISTA'])\n",
    "dataframe_gb = dataframe_gb[['DIA_DA_SEMANA_PARTIDA_PREVISTA', 'TOTAL_VOOS']]"
   ]
  },
  {
   "cell_type": "code",
   "execution_count": 75,
   "metadata": {},
   "outputs": [
    {
     "data": {
      "text/html": [
       "<div>\n",
       "<style scoped>\n",
       "    .dataframe tbody tr th:only-of-type {\n",
       "        vertical-align: middle;\n",
       "    }\n",
       "\n",
       "    .dataframe tbody tr th {\n",
       "        vertical-align: top;\n",
       "    }\n",
       "\n",
       "    .dataframe thead th {\n",
       "        text-align: right;\n",
       "    }\n",
       "</style>\n",
       "<table border=\"1\" class=\"dataframe\">\n",
       "  <thead>\n",
       "    <tr style=\"text-align: right;\">\n",
       "      <th></th>\n",
       "      <th>DIA_DA_SEMANA_PARTIDA_PREVISTA</th>\n",
       "      <th>TOTAL_VOOS</th>\n",
       "    </tr>\n",
       "  </thead>\n",
       "  <tbody>\n",
       "    <tr>\n",
       "      <th>3</th>\n",
       "      <td>Segunda-feira</td>\n",
       "      <td>407</td>\n",
       "    </tr>\n",
       "    <tr>\n",
       "      <th>6</th>\n",
       "      <td>Terça-feira</td>\n",
       "      <td>325</td>\n",
       "    </tr>\n",
       "    <tr>\n",
       "      <th>1</th>\n",
       "      <td>Quarta-feira</td>\n",
       "      <td>320</td>\n",
       "    </tr>\n",
       "    <tr>\n",
       "      <th>2</th>\n",
       "      <td>Quinta-feira</td>\n",
       "      <td>324</td>\n",
       "    </tr>\n",
       "    <tr>\n",
       "      <th>4</th>\n",
       "      <td>Sexta-feira</td>\n",
       "      <td>310</td>\n",
       "    </tr>\n",
       "    <tr>\n",
       "      <th>5</th>\n",
       "      <td>Sábado</td>\n",
       "      <td>321</td>\n",
       "    </tr>\n",
       "    <tr>\n",
       "      <th>0</th>\n",
       "      <td>Domingo</td>\n",
       "      <td>354</td>\n",
       "    </tr>\n",
       "  </tbody>\n",
       "</table>\n",
       "</div>"
      ],
      "text/plain": [
       "  DIA_DA_SEMANA_PARTIDA_PREVISTA  TOTAL_VOOS\n",
       "3                  Segunda-feira         407\n",
       "6                    Terça-feira         325\n",
       "1                   Quarta-feira         320\n",
       "2                   Quinta-feira         324\n",
       "4                    Sexta-feira         310\n",
       "5                         Sábado         321\n",
       "0                        Domingo         354"
      ]
     },
     "execution_count": 75,
     "metadata": {},
     "output_type": "execute_result"
    }
   ],
   "source": [
    "dataframe_gb"
   ]
  },
  {
   "cell_type": "code",
   "execution_count": 76,
   "metadata": {},
   "outputs": [
    {
     "data": {
      "application/vnd.plotly.v1+json": {
       "config": {
        "plotlyServerURL": "https://plot.ly"
       },
       "data": [
        {
         "alignmentgroup": "True",
         "hovertemplate": "DIA_DA_SEMANA_PARTIDA_PREVISTA=%{x}<br>TOTAL_VOOS=%{y}<extra></extra>",
         "legendgroup": "",
         "marker": {
          "color": "#636efa",
          "pattern": {
           "shape": ""
          }
         },
         "name": "",
         "offsetgroup": "",
         "orientation": "v",
         "showlegend": false,
         "textposition": "outside",
         "texttemplate": "%{y:0}",
         "type": "bar",
         "x": [
          "Segunda-feira",
          "Terça-feira",
          "Quarta-feira",
          "Quinta-feira",
          "Sexta-feira",
          "Sábado",
          "Domingo"
         ],
         "xaxis": "x",
         "y": [
          407,
          325,
          320,
          324,
          310,
          321,
          354
         ],
         "yaxis": "y"
        }
       ],
       "layout": {
        "barmode": "relative",
        "legend": {
         "tracegroupgap": 0
        },
        "margin": {
         "t": 60
        },
        "template": {
         "data": {
          "bar": [
           {
            "error_x": {
             "color": "#2a3f5f"
            },
            "error_y": {
             "color": "#2a3f5f"
            },
            "marker": {
             "line": {
              "color": "#E5ECF6",
              "width": 0.5
             },
             "pattern": {
              "fillmode": "overlay",
              "size": 10,
              "solidity": 0.2
             }
            },
            "type": "bar"
           }
          ],
          "barpolar": [
           {
            "marker": {
             "line": {
              "color": "#E5ECF6",
              "width": 0.5
             },
             "pattern": {
              "fillmode": "overlay",
              "size": 10,
              "solidity": 0.2
             }
            },
            "type": "barpolar"
           }
          ],
          "carpet": [
           {
            "aaxis": {
             "endlinecolor": "#2a3f5f",
             "gridcolor": "white",
             "linecolor": "white",
             "minorgridcolor": "white",
             "startlinecolor": "#2a3f5f"
            },
            "baxis": {
             "endlinecolor": "#2a3f5f",
             "gridcolor": "white",
             "linecolor": "white",
             "minorgridcolor": "white",
             "startlinecolor": "#2a3f5f"
            },
            "type": "carpet"
           }
          ],
          "choropleth": [
           {
            "colorbar": {
             "outlinewidth": 0,
             "ticks": ""
            },
            "type": "choropleth"
           }
          ],
          "contour": [
           {
            "colorbar": {
             "outlinewidth": 0,
             "ticks": ""
            },
            "colorscale": [
             [
              0,
              "#0d0887"
             ],
             [
              0.1111111111111111,
              "#46039f"
             ],
             [
              0.2222222222222222,
              "#7201a8"
             ],
             [
              0.3333333333333333,
              "#9c179e"
             ],
             [
              0.4444444444444444,
              "#bd3786"
             ],
             [
              0.5555555555555556,
              "#d8576b"
             ],
             [
              0.6666666666666666,
              "#ed7953"
             ],
             [
              0.7777777777777778,
              "#fb9f3a"
             ],
             [
              0.8888888888888888,
              "#fdca26"
             ],
             [
              1,
              "#f0f921"
             ]
            ],
            "type": "contour"
           }
          ],
          "contourcarpet": [
           {
            "colorbar": {
             "outlinewidth": 0,
             "ticks": ""
            },
            "type": "contourcarpet"
           }
          ],
          "heatmap": [
           {
            "colorbar": {
             "outlinewidth": 0,
             "ticks": ""
            },
            "colorscale": [
             [
              0,
              "#0d0887"
             ],
             [
              0.1111111111111111,
              "#46039f"
             ],
             [
              0.2222222222222222,
              "#7201a8"
             ],
             [
              0.3333333333333333,
              "#9c179e"
             ],
             [
              0.4444444444444444,
              "#bd3786"
             ],
             [
              0.5555555555555556,
              "#d8576b"
             ],
             [
              0.6666666666666666,
              "#ed7953"
             ],
             [
              0.7777777777777778,
              "#fb9f3a"
             ],
             [
              0.8888888888888888,
              "#fdca26"
             ],
             [
              1,
              "#f0f921"
             ]
            ],
            "type": "heatmap"
           }
          ],
          "heatmapgl": [
           {
            "colorbar": {
             "outlinewidth": 0,
             "ticks": ""
            },
            "colorscale": [
             [
              0,
              "#0d0887"
             ],
             [
              0.1111111111111111,
              "#46039f"
             ],
             [
              0.2222222222222222,
              "#7201a8"
             ],
             [
              0.3333333333333333,
              "#9c179e"
             ],
             [
              0.4444444444444444,
              "#bd3786"
             ],
             [
              0.5555555555555556,
              "#d8576b"
             ],
             [
              0.6666666666666666,
              "#ed7953"
             ],
             [
              0.7777777777777778,
              "#fb9f3a"
             ],
             [
              0.8888888888888888,
              "#fdca26"
             ],
             [
              1,
              "#f0f921"
             ]
            ],
            "type": "heatmapgl"
           }
          ],
          "histogram": [
           {
            "marker": {
             "pattern": {
              "fillmode": "overlay",
              "size": 10,
              "solidity": 0.2
             }
            },
            "type": "histogram"
           }
          ],
          "histogram2d": [
           {
            "colorbar": {
             "outlinewidth": 0,
             "ticks": ""
            },
            "colorscale": [
             [
              0,
              "#0d0887"
             ],
             [
              0.1111111111111111,
              "#46039f"
             ],
             [
              0.2222222222222222,
              "#7201a8"
             ],
             [
              0.3333333333333333,
              "#9c179e"
             ],
             [
              0.4444444444444444,
              "#bd3786"
             ],
             [
              0.5555555555555556,
              "#d8576b"
             ],
             [
              0.6666666666666666,
              "#ed7953"
             ],
             [
              0.7777777777777778,
              "#fb9f3a"
             ],
             [
              0.8888888888888888,
              "#fdca26"
             ],
             [
              1,
              "#f0f921"
             ]
            ],
            "type": "histogram2d"
           }
          ],
          "histogram2dcontour": [
           {
            "colorbar": {
             "outlinewidth": 0,
             "ticks": ""
            },
            "colorscale": [
             [
              0,
              "#0d0887"
             ],
             [
              0.1111111111111111,
              "#46039f"
             ],
             [
              0.2222222222222222,
              "#7201a8"
             ],
             [
              0.3333333333333333,
              "#9c179e"
             ],
             [
              0.4444444444444444,
              "#bd3786"
             ],
             [
              0.5555555555555556,
              "#d8576b"
             ],
             [
              0.6666666666666666,
              "#ed7953"
             ],
             [
              0.7777777777777778,
              "#fb9f3a"
             ],
             [
              0.8888888888888888,
              "#fdca26"
             ],
             [
              1,
              "#f0f921"
             ]
            ],
            "type": "histogram2dcontour"
           }
          ],
          "mesh3d": [
           {
            "colorbar": {
             "outlinewidth": 0,
             "ticks": ""
            },
            "type": "mesh3d"
           }
          ],
          "parcoords": [
           {
            "line": {
             "colorbar": {
              "outlinewidth": 0,
              "ticks": ""
             }
            },
            "type": "parcoords"
           }
          ],
          "pie": [
           {
            "automargin": true,
            "type": "pie"
           }
          ],
          "scatter": [
           {
            "fillpattern": {
             "fillmode": "overlay",
             "size": 10,
             "solidity": 0.2
            },
            "type": "scatter"
           }
          ],
          "scatter3d": [
           {
            "line": {
             "colorbar": {
              "outlinewidth": 0,
              "ticks": ""
             }
            },
            "marker": {
             "colorbar": {
              "outlinewidth": 0,
              "ticks": ""
             }
            },
            "type": "scatter3d"
           }
          ],
          "scattercarpet": [
           {
            "marker": {
             "colorbar": {
              "outlinewidth": 0,
              "ticks": ""
             }
            },
            "type": "scattercarpet"
           }
          ],
          "scattergeo": [
           {
            "marker": {
             "colorbar": {
              "outlinewidth": 0,
              "ticks": ""
             }
            },
            "type": "scattergeo"
           }
          ],
          "scattergl": [
           {
            "marker": {
             "colorbar": {
              "outlinewidth": 0,
              "ticks": ""
             }
            },
            "type": "scattergl"
           }
          ],
          "scattermapbox": [
           {
            "marker": {
             "colorbar": {
              "outlinewidth": 0,
              "ticks": ""
             }
            },
            "type": "scattermapbox"
           }
          ],
          "scatterpolar": [
           {
            "marker": {
             "colorbar": {
              "outlinewidth": 0,
              "ticks": ""
             }
            },
            "type": "scatterpolar"
           }
          ],
          "scatterpolargl": [
           {
            "marker": {
             "colorbar": {
              "outlinewidth": 0,
              "ticks": ""
             }
            },
            "type": "scatterpolargl"
           }
          ],
          "scatterternary": [
           {
            "marker": {
             "colorbar": {
              "outlinewidth": 0,
              "ticks": ""
             }
            },
            "type": "scatterternary"
           }
          ],
          "surface": [
           {
            "colorbar": {
             "outlinewidth": 0,
             "ticks": ""
            },
            "colorscale": [
             [
              0,
              "#0d0887"
             ],
             [
              0.1111111111111111,
              "#46039f"
             ],
             [
              0.2222222222222222,
              "#7201a8"
             ],
             [
              0.3333333333333333,
              "#9c179e"
             ],
             [
              0.4444444444444444,
              "#bd3786"
             ],
             [
              0.5555555555555556,
              "#d8576b"
             ],
             [
              0.6666666666666666,
              "#ed7953"
             ],
             [
              0.7777777777777778,
              "#fb9f3a"
             ],
             [
              0.8888888888888888,
              "#fdca26"
             ],
             [
              1,
              "#f0f921"
             ]
            ],
            "type": "surface"
           }
          ],
          "table": [
           {
            "cells": {
             "fill": {
              "color": "#EBF0F8"
             },
             "line": {
              "color": "white"
             }
            },
            "header": {
             "fill": {
              "color": "#C8D4E3"
             },
             "line": {
              "color": "white"
             }
            },
            "type": "table"
           }
          ]
         },
         "layout": {
          "annotationdefaults": {
           "arrowcolor": "#2a3f5f",
           "arrowhead": 0,
           "arrowwidth": 1
          },
          "autotypenumbers": "strict",
          "coloraxis": {
           "colorbar": {
            "outlinewidth": 0,
            "ticks": ""
           }
          },
          "colorscale": {
           "diverging": [
            [
             0,
             "#8e0152"
            ],
            [
             0.1,
             "#c51b7d"
            ],
            [
             0.2,
             "#de77ae"
            ],
            [
             0.3,
             "#f1b6da"
            ],
            [
             0.4,
             "#fde0ef"
            ],
            [
             0.5,
             "#f7f7f7"
            ],
            [
             0.6,
             "#e6f5d0"
            ],
            [
             0.7,
             "#b8e186"
            ],
            [
             0.8,
             "#7fbc41"
            ],
            [
             0.9,
             "#4d9221"
            ],
            [
             1,
             "#276419"
            ]
           ],
           "sequential": [
            [
             0,
             "#0d0887"
            ],
            [
             0.1111111111111111,
             "#46039f"
            ],
            [
             0.2222222222222222,
             "#7201a8"
            ],
            [
             0.3333333333333333,
             "#9c179e"
            ],
            [
             0.4444444444444444,
             "#bd3786"
            ],
            [
             0.5555555555555556,
             "#d8576b"
            ],
            [
             0.6666666666666666,
             "#ed7953"
            ],
            [
             0.7777777777777778,
             "#fb9f3a"
            ],
            [
             0.8888888888888888,
             "#fdca26"
            ],
            [
             1,
             "#f0f921"
            ]
           ],
           "sequentialminus": [
            [
             0,
             "#0d0887"
            ],
            [
             0.1111111111111111,
             "#46039f"
            ],
            [
             0.2222222222222222,
             "#7201a8"
            ],
            [
             0.3333333333333333,
             "#9c179e"
            ],
            [
             0.4444444444444444,
             "#bd3786"
            ],
            [
             0.5555555555555556,
             "#d8576b"
            ],
            [
             0.6666666666666666,
             "#ed7953"
            ],
            [
             0.7777777777777778,
             "#fb9f3a"
            ],
            [
             0.8888888888888888,
             "#fdca26"
            ],
            [
             1,
             "#f0f921"
            ]
           ]
          },
          "colorway": [
           "#636efa",
           "#EF553B",
           "#00cc96",
           "#ab63fa",
           "#FFA15A",
           "#19d3f3",
           "#FF6692",
           "#B6E880",
           "#FF97FF",
           "#FECB52"
          ],
          "font": {
           "color": "#2a3f5f"
          },
          "geo": {
           "bgcolor": "white",
           "lakecolor": "white",
           "landcolor": "#E5ECF6",
           "showlakes": true,
           "showland": true,
           "subunitcolor": "white"
          },
          "hoverlabel": {
           "align": "left"
          },
          "hovermode": "closest",
          "mapbox": {
           "style": "light"
          },
          "paper_bgcolor": "white",
          "plot_bgcolor": "#E5ECF6",
          "polar": {
           "angularaxis": {
            "gridcolor": "white",
            "linecolor": "white",
            "ticks": ""
           },
           "bgcolor": "#E5ECF6",
           "radialaxis": {
            "gridcolor": "white",
            "linecolor": "white",
            "ticks": ""
           }
          },
          "scene": {
           "xaxis": {
            "backgroundcolor": "#E5ECF6",
            "gridcolor": "white",
            "gridwidth": 2,
            "linecolor": "white",
            "showbackground": true,
            "ticks": "",
            "zerolinecolor": "white"
           },
           "yaxis": {
            "backgroundcolor": "#E5ECF6",
            "gridcolor": "white",
            "gridwidth": 2,
            "linecolor": "white",
            "showbackground": true,
            "ticks": "",
            "zerolinecolor": "white"
           },
           "zaxis": {
            "backgroundcolor": "#E5ECF6",
            "gridcolor": "white",
            "gridwidth": 2,
            "linecolor": "white",
            "showbackground": true,
            "ticks": "",
            "zerolinecolor": "white"
           }
          },
          "shapedefaults": {
           "line": {
            "color": "#2a3f5f"
           }
          },
          "ternary": {
           "aaxis": {
            "gridcolor": "white",
            "linecolor": "white",
            "ticks": ""
           },
           "baxis": {
            "gridcolor": "white",
            "linecolor": "white",
            "ticks": ""
           },
           "bgcolor": "#E5ECF6",
           "caxis": {
            "gridcolor": "white",
            "linecolor": "white",
            "ticks": ""
           }
          },
          "title": {
           "x": 0.05
          },
          "xaxis": {
           "automargin": true,
           "gridcolor": "white",
           "linecolor": "white",
           "ticks": "",
           "title": {
            "standoff": 15
           },
           "zerolinecolor": "white",
           "zerolinewidth": 2
          },
          "yaxis": {
           "automargin": true,
           "gridcolor": "white",
           "linecolor": "white",
           "ticks": "",
           "title": {
            "standoff": 15
           },
           "zerolinecolor": "white",
           "zerolinewidth": 2
          }
         }
        },
        "xaxis": {
         "anchor": "y",
         "domain": [
          0,
          1
         ],
         "title": {
          "text": "DIA_DA_SEMANA_PARTIDA_PREVISTA"
         }
        },
        "yaxis": {
         "anchor": "x",
         "domain": [
          0,
          1
         ],
         "title": {
          "text": "TOTAL_VOOS"
         }
        }
       }
      }
     },
     "metadata": {},
     "output_type": "display_data"
    }
   ],
   "source": [
    "fig = px.bar(dataframe_gb, x='DIA_DA_SEMANA_PARTIDA_PREVISTA', y='TOTAL_VOOS', text_auto='0')\n",
    "fig.update_traces(\n",
    "    textposition='outside'\n",
    ")\n",
    "fig\n",
    "fig.show()"
   ]
  },
  {
   "cell_type": "markdown",
   "metadata": {},
   "source": [
    "<p> Analise a FAIXA_ATRASO_PARTIDA por aeroporto e empresa por dia de semana e por mês </p>"
   ]
  },
  {
   "cell_type": "code",
   "execution_count": 77,
   "metadata": {},
   "outputs": [],
   "source": [
    "colunas = [\n",
    "    'FAIXA_ATRASO_PARTIDA',\n",
    "    'MES_PARTIDA_PREVISTA',\n",
    "    'NOME_MES_PARTIDA_PREVISTA',\n",
    "    'SIGLA_ICAO_AEROPORTO_ORIGEM',\n",
    "    'NOME_AEROPORTO_ORIGEM',\n",
    "    'SIGLA_ICAO_EMPRESA_AEREA',\n",
    "    'NOME_EMPRESA',\n",
    "    'INDICE_SEMANA_PARTIDA_PREVISTA',\n",
    "    'DIA_DA_SEMANA_PARTIDA_PREVISTA'\n",
    "]\n",
    "dataframe = pd.read_parquet(caminho_base, columns=colunas)"
   ]
  },
  {
   "cell_type": "code",
   "execution_count": 78,
   "metadata": {},
   "outputs": [],
   "source": [
    "dataframe = dataframe.query('SIGLA_ICAO_EMPRESA_AEREA == \"AZU\" and SIGLA_ICAO_AEROPORTO_ORIGEM==\"SBRP\" and MES_PARTIDA_PREVISTA  == 2')\n",
    "# dataframe = dataframe.query('SIGLA_ICAO_EMPRESA_AEREA == \"AZU\" and SIGLA_ICAO_AEROPORTO_ORIGEM==\"SBRP\" ')"
   ]
  },
  {
   "cell_type": "code",
   "execution_count": 79,
   "metadata": {},
   "outputs": [
    {
     "name": "stdout",
     "output_type": "stream",
     "text": [
      "<class 'pandas.core.frame.DataFrame'>\n",
      "Index: 146 entries, 1938 to 237113\n",
      "Data columns (total 9 columns):\n",
      " #   Column                          Non-Null Count  Dtype   \n",
      "---  ------                          --------------  -----   \n",
      " 0   FAIXA_ATRASO_PARTIDA            146 non-null    category\n",
      " 1   MES_PARTIDA_PREVISTA            146 non-null    int32   \n",
      " 2   NOME_MES_PARTIDA_PREVISTA       146 non-null    category\n",
      " 3   SIGLA_ICAO_AEROPORTO_ORIGEM     146 non-null    string  \n",
      " 4   NOME_AEROPORTO_ORIGEM           146 non-null    string  \n",
      " 5   SIGLA_ICAO_EMPRESA_AEREA        146 non-null    string  \n",
      " 6   NOME_EMPRESA                    146 non-null    string  \n",
      " 7   INDICE_SEMANA_PARTIDA_PREVISTA  146 non-null    int32   \n",
      " 8   DIA_DA_SEMANA_PARTIDA_PREVISTA  146 non-null    category\n",
      "dtypes: category(3), int32(2), string(4)\n",
      "memory usage: 8.2 KB\n"
     ]
    }
   ],
   "source": [
    "dataframe.info()"
   ]
  },
  {
   "cell_type": "code",
   "execution_count": 80,
   "metadata": {},
   "outputs": [],
   "source": [
    "dataframe[['FAIXA_ATRASO_PARTIDA', 'NOME_MES_PARTIDA_PREVISTA','DIA_DA_SEMANA_PARTIDA_PREVISTA' ]] = dataframe[['FAIXA_ATRASO_PARTIDA', 'NOME_MES_PARTIDA_PREVISTA','DIA_DA_SEMANA_PARTIDA_PREVISTA' ]].astype('string')"
   ]
  },
  {
   "cell_type": "code",
   "execution_count": 81,
   "metadata": {},
   "outputs": [
    {
     "name": "stdout",
     "output_type": "stream",
     "text": [
      "<class 'pandas.core.frame.DataFrame'>\n",
      "Index: 146 entries, 1938 to 237113\n",
      "Data columns (total 9 columns):\n",
      " #   Column                          Non-Null Count  Dtype \n",
      "---  ------                          --------------  ----- \n",
      " 0   FAIXA_ATRASO_PARTIDA            146 non-null    string\n",
      " 1   MES_PARTIDA_PREVISTA            146 non-null    int32 \n",
      " 2   NOME_MES_PARTIDA_PREVISTA       146 non-null    string\n",
      " 3   SIGLA_ICAO_AEROPORTO_ORIGEM     146 non-null    string\n",
      " 4   NOME_AEROPORTO_ORIGEM           146 non-null    string\n",
      " 5   SIGLA_ICAO_EMPRESA_AEREA        146 non-null    string\n",
      " 6   NOME_EMPRESA                    146 non-null    string\n",
      " 7   INDICE_SEMANA_PARTIDA_PREVISTA  146 non-null    int32 \n",
      " 8   DIA_DA_SEMANA_PARTIDA_PREVISTA  146 non-null    string\n",
      "dtypes: int32(2), string(7)\n",
      "memory usage: 10.3 KB\n"
     ]
    }
   ],
   "source": [
    "dataframe.info()"
   ]
  },
  {
   "cell_type": "code",
   "execution_count": 82,
   "metadata": {},
   "outputs": [],
   "source": [
    "df_gb = dataframe.groupby(['FAIXA_ATRASO_PARTIDA', 'MES_PARTIDA_PREVISTA', 'NOME_MES_PARTIDA_PREVISTA']).agg(\n",
    "    TOTAL_FAIXA_ATRASO_SAIDA=('FAIXA_ATRASO_PARTIDA', 'count')\n",
    ").reset_index()\n"
   ]
  },
  {
   "cell_type": "code",
   "execution_count": 83,
   "metadata": {},
   "outputs": [],
   "source": [
    "def calcular_variacao(linha):\n",
    "    try:\n",
    "        total_atual = linha['TOTAL_FAIXA_ATRASO_SAIDA']\n",
    "        total_mes_anterior = linha['TOTAL_FAIXA_ATRASO_PARTIDA_ANTERIOR']\n",
    "        variacao = ((total_atual - total_mes_anterior) / total_mes_anterior) * 100\n",
    "    except ZeroDivisionError:\n",
    "        variacao = 0\n",
    "    return round(variacao, 2)\n"
   ]
  },
  {
   "cell_type": "code",
   "execution_count": 84,
   "metadata": {},
   "outputs": [
    {
     "data": {
      "text/html": [
       "<div>\n",
       "<style scoped>\n",
       "    .dataframe tbody tr th:only-of-type {\n",
       "        vertical-align: middle;\n",
       "    }\n",
       "\n",
       "    .dataframe tbody tr th {\n",
       "        vertical-align: top;\n",
       "    }\n",
       "\n",
       "    .dataframe thead th {\n",
       "        text-align: right;\n",
       "    }\n",
       "</style>\n",
       "<table border=\"1\" class=\"dataframe\">\n",
       "  <thead>\n",
       "    <tr style=\"text-align: right;\">\n",
       "      <th></th>\n",
       "      <th>FAIXA_ATRASO_PARTIDA</th>\n",
       "      <th>MES_PARTIDA_PREVISTA</th>\n",
       "      <th>NOME_MES_PARTIDA_PREVISTA</th>\n",
       "      <th>TOTAL_VOO_MES</th>\n",
       "    </tr>\n",
       "  </thead>\n",
       "  <tbody>\n",
       "    <tr>\n",
       "      <th>0</th>\n",
       "      <td>Atraso de até 30 minutos</td>\n",
       "      <td>2</td>\n",
       "      <td>fevereiro</td>\n",
       "      <td>9</td>\n",
       "    </tr>\n",
       "    <tr>\n",
       "      <th>1</th>\n",
       "      <td>Atraso de mais de 4 horas</td>\n",
       "      <td>2</td>\n",
       "      <td>fevereiro</td>\n",
       "      <td>2</td>\n",
       "    </tr>\n",
       "    <tr>\n",
       "      <th>2</th>\n",
       "      <td>No horário</td>\n",
       "      <td>2</td>\n",
       "      <td>fevereiro</td>\n",
       "      <td>135</td>\n",
       "    </tr>\n",
       "  </tbody>\n",
       "</table>\n",
       "</div>"
      ],
      "text/plain": [
       "        FAIXA_ATRASO_PARTIDA  MES_PARTIDA_PREVISTA NOME_MES_PARTIDA_PREVISTA  \\\n",
       "0   Atraso de até 30 minutos                     2                 fevereiro   \n",
       "1  Atraso de mais de 4 horas                     2                 fevereiro   \n",
       "2                 No horário                     2                 fevereiro   \n",
       "\n",
       "   TOTAL_VOO_MES  \n",
       "0              9  \n",
       "1              2  \n",
       "2            135  "
      ]
     },
     "execution_count": 84,
     "metadata": {},
     "output_type": "execute_result"
    }
   ],
   "source": [
    "dataframe_total = dataframe.groupby(['FAIXA_ATRASO_PARTIDA', 'MES_PARTIDA_PREVISTA', 'NOME_MES_PARTIDA_PREVISTA']).agg(\n",
    "    TOTAL_VOO_MES=('FAIXA_ATRASO_PARTIDA', 'count')\n",
    ").reset_index().sort_values(by=['MES_PARTIDA_PREVISTA'])\n",
    "dataframe_total.head()"
   ]
  },
  {
   "cell_type": "code",
   "execution_count": 85,
   "metadata": {},
   "outputs": [
    {
     "data": {
      "application/vnd.plotly.v1+json": {
       "config": {
        "plotlyServerURL": "https://plot.ly"
       },
       "data": [
        {
         "colorscale": [
          [
           0,
           "#00083e"
          ],
          [
           0.5,
           "#ededee"
          ],
          [
           1,
           "#ffffff"
          ]
         ],
         "hoverinfo": "none",
         "opacity": 0.75,
         "showscale": false,
         "type": "heatmap",
         "z": [
          [
           0,
           0,
           0,
           0
          ],
          [
           0.5,
           0.5,
           0.5,
           0.5
          ],
          [
           1,
           1,
           1,
           1
          ],
          [
           0.5,
           0.5,
           0.5,
           0.5
          ]
         ]
        }
       ],
       "layout": {
        "annotations": [
         {
          "align": "left",
          "font": {
           "color": "#ffffff"
          },
          "showarrow": false,
          "text": "<b>FAIXA_ATRASO_PARTIDA</b>",
          "x": -0.45,
          "xanchor": "left",
          "xref": "x",
          "y": 0,
          "yref": "y"
         },
         {
          "align": "left",
          "font": {
           "color": "#ffffff"
          },
          "showarrow": false,
          "text": "<b>MES_PARTIDA_PREVISTA</b>",
          "x": 0.55,
          "xanchor": "left",
          "xref": "x",
          "y": 0,
          "yref": "y"
         },
         {
          "align": "left",
          "font": {
           "color": "#ffffff"
          },
          "showarrow": false,
          "text": "<b>NOME_MES_PARTIDA_PREVISTA</b>",
          "x": 1.55,
          "xanchor": "left",
          "xref": "x",
          "y": 0,
          "yref": "y"
         },
         {
          "align": "left",
          "font": {
           "color": "#ffffff"
          },
          "showarrow": false,
          "text": "<b>TOTAL_VOO_MES</b>",
          "x": 2.55,
          "xanchor": "left",
          "xref": "x",
          "y": 0,
          "yref": "y"
         },
         {
          "align": "left",
          "font": {
           "color": "#000000"
          },
          "showarrow": false,
          "text": "Atraso de até 30 minutos",
          "x": -0.45,
          "xanchor": "left",
          "xref": "x",
          "y": 1,
          "yref": "y"
         },
         {
          "align": "left",
          "font": {
           "color": "#000000"
          },
          "showarrow": false,
          "text": "2",
          "x": 0.55,
          "xanchor": "left",
          "xref": "x",
          "y": 1,
          "yref": "y"
         },
         {
          "align": "left",
          "font": {
           "color": "#000000"
          },
          "showarrow": false,
          "text": "fevereiro",
          "x": 1.55,
          "xanchor": "left",
          "xref": "x",
          "y": 1,
          "yref": "y"
         },
         {
          "align": "left",
          "font": {
           "color": "#000000"
          },
          "showarrow": false,
          "text": "9",
          "x": 2.55,
          "xanchor": "left",
          "xref": "x",
          "y": 1,
          "yref": "y"
         },
         {
          "align": "left",
          "font": {
           "color": "#000000"
          },
          "showarrow": false,
          "text": "Atraso de mais de 4 horas",
          "x": -0.45,
          "xanchor": "left",
          "xref": "x",
          "y": 2,
          "yref": "y"
         },
         {
          "align": "left",
          "font": {
           "color": "#000000"
          },
          "showarrow": false,
          "text": "2",
          "x": 0.55,
          "xanchor": "left",
          "xref": "x",
          "y": 2,
          "yref": "y"
         },
         {
          "align": "left",
          "font": {
           "color": "#000000"
          },
          "showarrow": false,
          "text": "fevereiro",
          "x": 1.55,
          "xanchor": "left",
          "xref": "x",
          "y": 2,
          "yref": "y"
         },
         {
          "align": "left",
          "font": {
           "color": "#000000"
          },
          "showarrow": false,
          "text": "2",
          "x": 2.55,
          "xanchor": "left",
          "xref": "x",
          "y": 2,
          "yref": "y"
         },
         {
          "align": "left",
          "font": {
           "color": "#000000"
          },
          "showarrow": false,
          "text": "No horário",
          "x": -0.45,
          "xanchor": "left",
          "xref": "x",
          "y": 3,
          "yref": "y"
         },
         {
          "align": "left",
          "font": {
           "color": "#000000"
          },
          "showarrow": false,
          "text": "2",
          "x": 0.55,
          "xanchor": "left",
          "xref": "x",
          "y": 3,
          "yref": "y"
         },
         {
          "align": "left",
          "font": {
           "color": "#000000"
          },
          "showarrow": false,
          "text": "fevereiro",
          "x": 1.55,
          "xanchor": "left",
          "xref": "x",
          "y": 3,
          "yref": "y"
         },
         {
          "align": "left",
          "font": {
           "color": "#000000"
          },
          "showarrow": false,
          "text": "135",
          "x": 2.55,
          "xanchor": "left",
          "xref": "x",
          "y": 3,
          "yref": "y"
         }
        ],
        "height": 170,
        "margin": {
         "b": 0,
         "l": 0,
         "r": 0,
         "t": 0
        },
        "template": {
         "data": {
          "bar": [
           {
            "error_x": {
             "color": "#2a3f5f"
            },
            "error_y": {
             "color": "#2a3f5f"
            },
            "marker": {
             "line": {
              "color": "#E5ECF6",
              "width": 0.5
             },
             "pattern": {
              "fillmode": "overlay",
              "size": 10,
              "solidity": 0.2
             }
            },
            "type": "bar"
           }
          ],
          "barpolar": [
           {
            "marker": {
             "line": {
              "color": "#E5ECF6",
              "width": 0.5
             },
             "pattern": {
              "fillmode": "overlay",
              "size": 10,
              "solidity": 0.2
             }
            },
            "type": "barpolar"
           }
          ],
          "carpet": [
           {
            "aaxis": {
             "endlinecolor": "#2a3f5f",
             "gridcolor": "white",
             "linecolor": "white",
             "minorgridcolor": "white",
             "startlinecolor": "#2a3f5f"
            },
            "baxis": {
             "endlinecolor": "#2a3f5f",
             "gridcolor": "white",
             "linecolor": "white",
             "minorgridcolor": "white",
             "startlinecolor": "#2a3f5f"
            },
            "type": "carpet"
           }
          ],
          "choropleth": [
           {
            "colorbar": {
             "outlinewidth": 0,
             "ticks": ""
            },
            "type": "choropleth"
           }
          ],
          "contour": [
           {
            "colorbar": {
             "outlinewidth": 0,
             "ticks": ""
            },
            "colorscale": [
             [
              0,
              "#0d0887"
             ],
             [
              0.1111111111111111,
              "#46039f"
             ],
             [
              0.2222222222222222,
              "#7201a8"
             ],
             [
              0.3333333333333333,
              "#9c179e"
             ],
             [
              0.4444444444444444,
              "#bd3786"
             ],
             [
              0.5555555555555556,
              "#d8576b"
             ],
             [
              0.6666666666666666,
              "#ed7953"
             ],
             [
              0.7777777777777778,
              "#fb9f3a"
             ],
             [
              0.8888888888888888,
              "#fdca26"
             ],
             [
              1,
              "#f0f921"
             ]
            ],
            "type": "contour"
           }
          ],
          "contourcarpet": [
           {
            "colorbar": {
             "outlinewidth": 0,
             "ticks": ""
            },
            "type": "contourcarpet"
           }
          ],
          "heatmap": [
           {
            "colorbar": {
             "outlinewidth": 0,
             "ticks": ""
            },
            "colorscale": [
             [
              0,
              "#0d0887"
             ],
             [
              0.1111111111111111,
              "#46039f"
             ],
             [
              0.2222222222222222,
              "#7201a8"
             ],
             [
              0.3333333333333333,
              "#9c179e"
             ],
             [
              0.4444444444444444,
              "#bd3786"
             ],
             [
              0.5555555555555556,
              "#d8576b"
             ],
             [
              0.6666666666666666,
              "#ed7953"
             ],
             [
              0.7777777777777778,
              "#fb9f3a"
             ],
             [
              0.8888888888888888,
              "#fdca26"
             ],
             [
              1,
              "#f0f921"
             ]
            ],
            "type": "heatmap"
           }
          ],
          "heatmapgl": [
           {
            "colorbar": {
             "outlinewidth": 0,
             "ticks": ""
            },
            "colorscale": [
             [
              0,
              "#0d0887"
             ],
             [
              0.1111111111111111,
              "#46039f"
             ],
             [
              0.2222222222222222,
              "#7201a8"
             ],
             [
              0.3333333333333333,
              "#9c179e"
             ],
             [
              0.4444444444444444,
              "#bd3786"
             ],
             [
              0.5555555555555556,
              "#d8576b"
             ],
             [
              0.6666666666666666,
              "#ed7953"
             ],
             [
              0.7777777777777778,
              "#fb9f3a"
             ],
             [
              0.8888888888888888,
              "#fdca26"
             ],
             [
              1,
              "#f0f921"
             ]
            ],
            "type": "heatmapgl"
           }
          ],
          "histogram": [
           {
            "marker": {
             "pattern": {
              "fillmode": "overlay",
              "size": 10,
              "solidity": 0.2
             }
            },
            "type": "histogram"
           }
          ],
          "histogram2d": [
           {
            "colorbar": {
             "outlinewidth": 0,
             "ticks": ""
            },
            "colorscale": [
             [
              0,
              "#0d0887"
             ],
             [
              0.1111111111111111,
              "#46039f"
             ],
             [
              0.2222222222222222,
              "#7201a8"
             ],
             [
              0.3333333333333333,
              "#9c179e"
             ],
             [
              0.4444444444444444,
              "#bd3786"
             ],
             [
              0.5555555555555556,
              "#d8576b"
             ],
             [
              0.6666666666666666,
              "#ed7953"
             ],
             [
              0.7777777777777778,
              "#fb9f3a"
             ],
             [
              0.8888888888888888,
              "#fdca26"
             ],
             [
              1,
              "#f0f921"
             ]
            ],
            "type": "histogram2d"
           }
          ],
          "histogram2dcontour": [
           {
            "colorbar": {
             "outlinewidth": 0,
             "ticks": ""
            },
            "colorscale": [
             [
              0,
              "#0d0887"
             ],
             [
              0.1111111111111111,
              "#46039f"
             ],
             [
              0.2222222222222222,
              "#7201a8"
             ],
             [
              0.3333333333333333,
              "#9c179e"
             ],
             [
              0.4444444444444444,
              "#bd3786"
             ],
             [
              0.5555555555555556,
              "#d8576b"
             ],
             [
              0.6666666666666666,
              "#ed7953"
             ],
             [
              0.7777777777777778,
              "#fb9f3a"
             ],
             [
              0.8888888888888888,
              "#fdca26"
             ],
             [
              1,
              "#f0f921"
             ]
            ],
            "type": "histogram2dcontour"
           }
          ],
          "mesh3d": [
           {
            "colorbar": {
             "outlinewidth": 0,
             "ticks": ""
            },
            "type": "mesh3d"
           }
          ],
          "parcoords": [
           {
            "line": {
             "colorbar": {
              "outlinewidth": 0,
              "ticks": ""
             }
            },
            "type": "parcoords"
           }
          ],
          "pie": [
           {
            "automargin": true,
            "type": "pie"
           }
          ],
          "scatter": [
           {
            "fillpattern": {
             "fillmode": "overlay",
             "size": 10,
             "solidity": 0.2
            },
            "type": "scatter"
           }
          ],
          "scatter3d": [
           {
            "line": {
             "colorbar": {
              "outlinewidth": 0,
              "ticks": ""
             }
            },
            "marker": {
             "colorbar": {
              "outlinewidth": 0,
              "ticks": ""
             }
            },
            "type": "scatter3d"
           }
          ],
          "scattercarpet": [
           {
            "marker": {
             "colorbar": {
              "outlinewidth": 0,
              "ticks": ""
             }
            },
            "type": "scattercarpet"
           }
          ],
          "scattergeo": [
           {
            "marker": {
             "colorbar": {
              "outlinewidth": 0,
              "ticks": ""
             }
            },
            "type": "scattergeo"
           }
          ],
          "scattergl": [
           {
            "marker": {
             "colorbar": {
              "outlinewidth": 0,
              "ticks": ""
             }
            },
            "type": "scattergl"
           }
          ],
          "scattermapbox": [
           {
            "marker": {
             "colorbar": {
              "outlinewidth": 0,
              "ticks": ""
             }
            },
            "type": "scattermapbox"
           }
          ],
          "scatterpolar": [
           {
            "marker": {
             "colorbar": {
              "outlinewidth": 0,
              "ticks": ""
             }
            },
            "type": "scatterpolar"
           }
          ],
          "scatterpolargl": [
           {
            "marker": {
             "colorbar": {
              "outlinewidth": 0,
              "ticks": ""
             }
            },
            "type": "scatterpolargl"
           }
          ],
          "scatterternary": [
           {
            "marker": {
             "colorbar": {
              "outlinewidth": 0,
              "ticks": ""
             }
            },
            "type": "scatterternary"
           }
          ],
          "surface": [
           {
            "colorbar": {
             "outlinewidth": 0,
             "ticks": ""
            },
            "colorscale": [
             [
              0,
              "#0d0887"
             ],
             [
              0.1111111111111111,
              "#46039f"
             ],
             [
              0.2222222222222222,
              "#7201a8"
             ],
             [
              0.3333333333333333,
              "#9c179e"
             ],
             [
              0.4444444444444444,
              "#bd3786"
             ],
             [
              0.5555555555555556,
              "#d8576b"
             ],
             [
              0.6666666666666666,
              "#ed7953"
             ],
             [
              0.7777777777777778,
              "#fb9f3a"
             ],
             [
              0.8888888888888888,
              "#fdca26"
             ],
             [
              1,
              "#f0f921"
             ]
            ],
            "type": "surface"
           }
          ],
          "table": [
           {
            "cells": {
             "fill": {
              "color": "#EBF0F8"
             },
             "line": {
              "color": "white"
             }
            },
            "header": {
             "fill": {
              "color": "#C8D4E3"
             },
             "line": {
              "color": "white"
             }
            },
            "type": "table"
           }
          ]
         },
         "layout": {
          "annotationdefaults": {
           "arrowcolor": "#2a3f5f",
           "arrowhead": 0,
           "arrowwidth": 1
          },
          "autotypenumbers": "strict",
          "coloraxis": {
           "colorbar": {
            "outlinewidth": 0,
            "ticks": ""
           }
          },
          "colorscale": {
           "diverging": [
            [
             0,
             "#8e0152"
            ],
            [
             0.1,
             "#c51b7d"
            ],
            [
             0.2,
             "#de77ae"
            ],
            [
             0.3,
             "#f1b6da"
            ],
            [
             0.4,
             "#fde0ef"
            ],
            [
             0.5,
             "#f7f7f7"
            ],
            [
             0.6,
             "#e6f5d0"
            ],
            [
             0.7,
             "#b8e186"
            ],
            [
             0.8,
             "#7fbc41"
            ],
            [
             0.9,
             "#4d9221"
            ],
            [
             1,
             "#276419"
            ]
           ],
           "sequential": [
            [
             0,
             "#0d0887"
            ],
            [
             0.1111111111111111,
             "#46039f"
            ],
            [
             0.2222222222222222,
             "#7201a8"
            ],
            [
             0.3333333333333333,
             "#9c179e"
            ],
            [
             0.4444444444444444,
             "#bd3786"
            ],
            [
             0.5555555555555556,
             "#d8576b"
            ],
            [
             0.6666666666666666,
             "#ed7953"
            ],
            [
             0.7777777777777778,
             "#fb9f3a"
            ],
            [
             0.8888888888888888,
             "#fdca26"
            ],
            [
             1,
             "#f0f921"
            ]
           ],
           "sequentialminus": [
            [
             0,
             "#0d0887"
            ],
            [
             0.1111111111111111,
             "#46039f"
            ],
            [
             0.2222222222222222,
             "#7201a8"
            ],
            [
             0.3333333333333333,
             "#9c179e"
            ],
            [
             0.4444444444444444,
             "#bd3786"
            ],
            [
             0.5555555555555556,
             "#d8576b"
            ],
            [
             0.6666666666666666,
             "#ed7953"
            ],
            [
             0.7777777777777778,
             "#fb9f3a"
            ],
            [
             0.8888888888888888,
             "#fdca26"
            ],
            [
             1,
             "#f0f921"
            ]
           ]
          },
          "colorway": [
           "#636efa",
           "#EF553B",
           "#00cc96",
           "#ab63fa",
           "#FFA15A",
           "#19d3f3",
           "#FF6692",
           "#B6E880",
           "#FF97FF",
           "#FECB52"
          ],
          "font": {
           "color": "#2a3f5f"
          },
          "geo": {
           "bgcolor": "white",
           "lakecolor": "white",
           "landcolor": "#E5ECF6",
           "showlakes": true,
           "showland": true,
           "subunitcolor": "white"
          },
          "hoverlabel": {
           "align": "left"
          },
          "hovermode": "closest",
          "mapbox": {
           "style": "light"
          },
          "paper_bgcolor": "white",
          "plot_bgcolor": "#E5ECF6",
          "polar": {
           "angularaxis": {
            "gridcolor": "white",
            "linecolor": "white",
            "ticks": ""
           },
           "bgcolor": "#E5ECF6",
           "radialaxis": {
            "gridcolor": "white",
            "linecolor": "white",
            "ticks": ""
           }
          },
          "scene": {
           "xaxis": {
            "backgroundcolor": "#E5ECF6",
            "gridcolor": "white",
            "gridwidth": 2,
            "linecolor": "white",
            "showbackground": true,
            "ticks": "",
            "zerolinecolor": "white"
           },
           "yaxis": {
            "backgroundcolor": "#E5ECF6",
            "gridcolor": "white",
            "gridwidth": 2,
            "linecolor": "white",
            "showbackground": true,
            "ticks": "",
            "zerolinecolor": "white"
           },
           "zaxis": {
            "backgroundcolor": "#E5ECF6",
            "gridcolor": "white",
            "gridwidth": 2,
            "linecolor": "white",
            "showbackground": true,
            "ticks": "",
            "zerolinecolor": "white"
           }
          },
          "shapedefaults": {
           "line": {
            "color": "#2a3f5f"
           }
          },
          "ternary": {
           "aaxis": {
            "gridcolor": "white",
            "linecolor": "white",
            "ticks": ""
           },
           "baxis": {
            "gridcolor": "white",
            "linecolor": "white",
            "ticks": ""
           },
           "bgcolor": "#E5ECF6",
           "caxis": {
            "gridcolor": "white",
            "linecolor": "white",
            "ticks": ""
           }
          },
          "title": {
           "x": 0.05
          },
          "xaxis": {
           "automargin": true,
           "gridcolor": "white",
           "linecolor": "white",
           "ticks": "",
           "title": {
            "standoff": 15
           },
           "zerolinecolor": "white",
           "zerolinewidth": 2
          },
          "yaxis": {
           "automargin": true,
           "gridcolor": "white",
           "linecolor": "white",
           "ticks": "",
           "title": {
            "standoff": 15
           },
           "zerolinecolor": "white",
           "zerolinewidth": 2
          }
         }
        },
        "xaxis": {
         "dtick": 1,
         "gridwidth": 2,
         "showticklabels": false,
         "tick0": -0.5,
         "ticks": "",
         "zeroline": false
        },
        "yaxis": {
         "autorange": "reversed",
         "dtick": 1,
         "gridwidth": 2,
         "showticklabels": false,
         "tick0": 0.5,
         "ticks": "",
         "zeroline": false
        }
       }
      }
     },
     "metadata": {},
     "output_type": "display_data"
    }
   ],
   "source": [
    "fig = ff.create_table(dataframe_total)\n",
    "\n",
    "\n",
    "\n",
    "fig.show()"
   ]
  },
  {
   "cell_type": "markdown",
   "metadata": {},
   "source": [
    "- Variação de atraso Partida total por aeroporto em relação ao mês anterior (Análise por Flag)"
   ]
  },
  {
   "cell_type": "code",
   "execution_count": 86,
   "metadata": {},
   "outputs": [],
   "source": [
    "colunas = [\n",
    "    'NOME_AEROPORTO_ORIGEM',\n",
    "    'SIGLA_ICAO_EMPRESA_AEREA',\n",
    "    'SIGLA_ICAO_AEROPORTO_ORIGEM',\n",
    "    'NOME_EMPRESA',\n",
    "    'MES_PARTIDA_PREVISTA',\n",
    "    'NOME_MES_PARTIDA_PREVISTA',\n",
    "    'DIA_DA_SEMANA_PARTIDA_PREVISTA',\n",
    "    'INDICE_SEMANA_PARTIDA_PREVISTA',\n",
    "    'FAIXA_ATRASO_PARTIDA',\n",
    "    'FLAG_ATRASO_PARTIDA',\n",
    "    'FLAG_FIM_SEMANA_PARTIDA_PREVISTA'\n",
    "]"
   ]
  },
  {
   "cell_type": "code",
   "execution_count": 87,
   "metadata": {},
   "outputs": [
    {
     "data": {
      "text/html": [
       "<div>\n",
       "<style scoped>\n",
       "    .dataframe tbody tr th:only-of-type {\n",
       "        vertical-align: middle;\n",
       "    }\n",
       "\n",
       "    .dataframe tbody tr th {\n",
       "        vertical-align: top;\n",
       "    }\n",
       "\n",
       "    .dataframe thead th {\n",
       "        text-align: right;\n",
       "    }\n",
       "</style>\n",
       "<table border=\"1\" class=\"dataframe\">\n",
       "  <thead>\n",
       "    <tr style=\"text-align: right;\">\n",
       "      <th></th>\n",
       "      <th>NOME_AEROPORTO_ORIGEM</th>\n",
       "      <th>SIGLA_ICAO_EMPRESA_AEREA</th>\n",
       "      <th>SIGLA_ICAO_AEROPORTO_ORIGEM</th>\n",
       "      <th>NOME_EMPRESA</th>\n",
       "      <th>MES_PARTIDA_PREVISTA</th>\n",
       "      <th>NOME_MES_PARTIDA_PREVISTA</th>\n",
       "      <th>DIA_DA_SEMANA_PARTIDA_PREVISTA</th>\n",
       "      <th>INDICE_SEMANA_PARTIDA_PREVISTA</th>\n",
       "      <th>FAIXA_ATRASO_PARTIDA</th>\n",
       "      <th>FLAG_ATRASO_PARTIDA</th>\n",
       "      <th>FLAG_FIM_SEMANA_PARTIDA_PREVISTA</th>\n",
       "    </tr>\n",
       "  </thead>\n",
       "  <tbody>\n",
       "    <tr>\n",
       "      <th>0</th>\n",
       "      <td>BAURU/AREALVA</td>\n",
       "      <td>AZU</td>\n",
       "      <td>SBAE</td>\n",
       "      <td>AZUL</td>\n",
       "      <td>1</td>\n",
       "      <td>janeiro</td>\n",
       "      <td>Domingo</td>\n",
       "      <td>6</td>\n",
       "      <td>No horário</td>\n",
       "      <td>Vôo Atrasado</td>\n",
       "      <td>Fim de Semana</td>\n",
       "    </tr>\n",
       "    <tr>\n",
       "      <th>1</th>\n",
       "      <td>BAURU/AREALVA</td>\n",
       "      <td>AZU</td>\n",
       "      <td>SBAE</td>\n",
       "      <td>AZUL</td>\n",
       "      <td>1</td>\n",
       "      <td>janeiro</td>\n",
       "      <td>Domingo</td>\n",
       "      <td>6</td>\n",
       "      <td>No horário</td>\n",
       "      <td>Vôo Atrasado</td>\n",
       "      <td>Fim de Semana</td>\n",
       "    </tr>\n",
       "    <tr>\n",
       "      <th>2</th>\n",
       "      <td>BAURU/AREALVA</td>\n",
       "      <td>AZU</td>\n",
       "      <td>SBAE</td>\n",
       "      <td>AZUL</td>\n",
       "      <td>1</td>\n",
       "      <td>janeiro</td>\n",
       "      <td>Domingo</td>\n",
       "      <td>6</td>\n",
       "      <td>No horário</td>\n",
       "      <td>Vôo Atrasado</td>\n",
       "      <td>Fim de Semana</td>\n",
       "    </tr>\n",
       "    <tr>\n",
       "      <th>3</th>\n",
       "      <td>BAURU/AREALVA</td>\n",
       "      <td>AZU</td>\n",
       "      <td>SBAE</td>\n",
       "      <td>AZUL</td>\n",
       "      <td>1</td>\n",
       "      <td>janeiro</td>\n",
       "      <td>Domingo</td>\n",
       "      <td>6</td>\n",
       "      <td>No horário</td>\n",
       "      <td>Vôo Atrasado</td>\n",
       "      <td>Fim de Semana</td>\n",
       "    </tr>\n",
       "    <tr>\n",
       "      <th>4</th>\n",
       "      <td>BAURU/AREALVA</td>\n",
       "      <td>AZU</td>\n",
       "      <td>SBAE</td>\n",
       "      <td>AZUL</td>\n",
       "      <td>2</td>\n",
       "      <td>fevereiro</td>\n",
       "      <td>Sábado</td>\n",
       "      <td>5</td>\n",
       "      <td>No horário</td>\n",
       "      <td>Vôo Atrasado</td>\n",
       "      <td>Fim de Semana</td>\n",
       "    </tr>\n",
       "  </tbody>\n",
       "</table>\n",
       "</div>"
      ],
      "text/plain": [
       "  NOME_AEROPORTO_ORIGEM SIGLA_ICAO_EMPRESA_AEREA SIGLA_ICAO_AEROPORTO_ORIGEM  \\\n",
       "0         BAURU/AREALVA                      AZU                        SBAE   \n",
       "1         BAURU/AREALVA                      AZU                        SBAE   \n",
       "2         BAURU/AREALVA                      AZU                        SBAE   \n",
       "3         BAURU/AREALVA                      AZU                        SBAE   \n",
       "4         BAURU/AREALVA                      AZU                        SBAE   \n",
       "\n",
       "  NOME_EMPRESA  MES_PARTIDA_PREVISTA NOME_MES_PARTIDA_PREVISTA  \\\n",
       "0         AZUL                     1                   janeiro   \n",
       "1         AZUL                     1                   janeiro   \n",
       "2         AZUL                     1                   janeiro   \n",
       "3         AZUL                     1                   janeiro   \n",
       "4         AZUL                     2                 fevereiro   \n",
       "\n",
       "  DIA_DA_SEMANA_PARTIDA_PREVISTA  INDICE_SEMANA_PARTIDA_PREVISTA  \\\n",
       "0                        Domingo                               6   \n",
       "1                        Domingo                               6   \n",
       "2                        Domingo                               6   \n",
       "3                        Domingo                               6   \n",
       "4                         Sábado                               5   \n",
       "\n",
       "  FAIXA_ATRASO_PARTIDA FLAG_ATRASO_PARTIDA FLAG_FIM_SEMANA_PARTIDA_PREVISTA  \n",
       "0           No horário        Vôo Atrasado                    Fim de Semana  \n",
       "1           No horário        Vôo Atrasado                    Fim de Semana  \n",
       "2           No horário        Vôo Atrasado                    Fim de Semana  \n",
       "3           No horário        Vôo Atrasado                    Fim de Semana  \n",
       "4           No horário        Vôo Atrasado                    Fim de Semana  "
      ]
     },
     "execution_count": 87,
     "metadata": {},
     "output_type": "execute_result"
    }
   ],
   "source": [
    "dataframe = pd.read_parquet(caminho_base, columns=colunas)\n",
    "dataframe.head()"
   ]
  },
  {
   "cell_type": "code",
   "execution_count": 88,
   "metadata": {},
   "outputs": [
    {
     "data": {
      "text/html": [
       "<div>\n",
       "<style scoped>\n",
       "    .dataframe tbody tr th:only-of-type {\n",
       "        vertical-align: middle;\n",
       "    }\n",
       "\n",
       "    .dataframe tbody tr th {\n",
       "        vertical-align: top;\n",
       "    }\n",
       "\n",
       "    .dataframe thead th {\n",
       "        text-align: right;\n",
       "    }\n",
       "</style>\n",
       "<table border=\"1\" class=\"dataframe\">\n",
       "  <thead>\n",
       "    <tr style=\"text-align: right;\">\n",
       "      <th></th>\n",
       "      <th>NOME_AEROPORTO_ORIGEM</th>\n",
       "      <th>SIGLA_ICAO_EMPRESA_AEREA</th>\n",
       "      <th>SIGLA_ICAO_AEROPORTO_ORIGEM</th>\n",
       "      <th>NOME_EMPRESA</th>\n",
       "      <th>MES_PARTIDA_PREVISTA</th>\n",
       "      <th>NOME_MES_PARTIDA_PREVISTA</th>\n",
       "      <th>DIA_DA_SEMANA_PARTIDA_PREVISTA</th>\n",
       "      <th>INDICE_SEMANA_PARTIDA_PREVISTA</th>\n",
       "      <th>FAIXA_ATRASO_PARTIDA</th>\n",
       "      <th>FLAG_ATRASO_PARTIDA</th>\n",
       "      <th>FLAG_FIM_SEMANA_PARTIDA_PREVISTA</th>\n",
       "    </tr>\n",
       "  </thead>\n",
       "  <tbody>\n",
       "    <tr>\n",
       "      <th>1929</th>\n",
       "      <td>LEITE LOPES</td>\n",
       "      <td>AZU</td>\n",
       "      <td>SBRP</td>\n",
       "      <td>AZUL</td>\n",
       "      <td>1</td>\n",
       "      <td>janeiro</td>\n",
       "      <td>Sábado</td>\n",
       "      <td>5</td>\n",
       "      <td>No horário</td>\n",
       "      <td>Vôo Atrasado</td>\n",
       "      <td>Fim de Semana</td>\n",
       "    </tr>\n",
       "    <tr>\n",
       "      <th>1930</th>\n",
       "      <td>LEITE LOPES</td>\n",
       "      <td>AZU</td>\n",
       "      <td>SBRP</td>\n",
       "      <td>AZUL</td>\n",
       "      <td>1</td>\n",
       "      <td>janeiro</td>\n",
       "      <td>Segunda-feira</td>\n",
       "      <td>0</td>\n",
       "      <td>Atraso de até 30 minutos</td>\n",
       "      <td>Vôo no horário</td>\n",
       "      <td>Dia Útil</td>\n",
       "    </tr>\n",
       "    <tr>\n",
       "      <th>1931</th>\n",
       "      <td>LEITE LOPES</td>\n",
       "      <td>AZU</td>\n",
       "      <td>SBRP</td>\n",
       "      <td>AZUL</td>\n",
       "      <td>1</td>\n",
       "      <td>janeiro</td>\n",
       "      <td>Quarta-feira</td>\n",
       "      <td>2</td>\n",
       "      <td>No horário</td>\n",
       "      <td>Vôo Atrasado</td>\n",
       "      <td>Dia Útil</td>\n",
       "    </tr>\n",
       "    <tr>\n",
       "      <th>1932</th>\n",
       "      <td>LEITE LOPES</td>\n",
       "      <td>AZU</td>\n",
       "      <td>SBRP</td>\n",
       "      <td>AZUL</td>\n",
       "      <td>1</td>\n",
       "      <td>janeiro</td>\n",
       "      <td>Sábado</td>\n",
       "      <td>5</td>\n",
       "      <td>No horário</td>\n",
       "      <td>Vôo Atrasado</td>\n",
       "      <td>Fim de Semana</td>\n",
       "    </tr>\n",
       "    <tr>\n",
       "      <th>1933</th>\n",
       "      <td>LEITE LOPES</td>\n",
       "      <td>AZU</td>\n",
       "      <td>SBRP</td>\n",
       "      <td>AZUL</td>\n",
       "      <td>1</td>\n",
       "      <td>janeiro</td>\n",
       "      <td>Segunda-feira</td>\n",
       "      <td>0</td>\n",
       "      <td>No horário</td>\n",
       "      <td>Vôo Atrasado</td>\n",
       "      <td>Dia Útil</td>\n",
       "    </tr>\n",
       "  </tbody>\n",
       "</table>\n",
       "</div>"
      ],
      "text/plain": [
       "     NOME_AEROPORTO_ORIGEM SIGLA_ICAO_EMPRESA_AEREA  \\\n",
       "1929           LEITE LOPES                      AZU   \n",
       "1930           LEITE LOPES                      AZU   \n",
       "1931           LEITE LOPES                      AZU   \n",
       "1932           LEITE LOPES                      AZU   \n",
       "1933           LEITE LOPES                      AZU   \n",
       "\n",
       "     SIGLA_ICAO_AEROPORTO_ORIGEM NOME_EMPRESA  MES_PARTIDA_PREVISTA  \\\n",
       "1929                        SBRP         AZUL                     1   \n",
       "1930                        SBRP         AZUL                     1   \n",
       "1931                        SBRP         AZUL                     1   \n",
       "1932                        SBRP         AZUL                     1   \n",
       "1933                        SBRP         AZUL                     1   \n",
       "\n",
       "     NOME_MES_PARTIDA_PREVISTA DIA_DA_SEMANA_PARTIDA_PREVISTA  \\\n",
       "1929                   janeiro                         Sábado   \n",
       "1930                   janeiro                  Segunda-feira   \n",
       "1931                   janeiro                   Quarta-feira   \n",
       "1932                   janeiro                         Sábado   \n",
       "1933                   janeiro                  Segunda-feira   \n",
       "\n",
       "      INDICE_SEMANA_PARTIDA_PREVISTA      FAIXA_ATRASO_PARTIDA  \\\n",
       "1929                               5                No horário   \n",
       "1930                               0  Atraso de até 30 minutos   \n",
       "1931                               2                No horário   \n",
       "1932                               5                No horário   \n",
       "1933                               0                No horário   \n",
       "\n",
       "     FLAG_ATRASO_PARTIDA FLAG_FIM_SEMANA_PARTIDA_PREVISTA  \n",
       "1929        Vôo Atrasado                    Fim de Semana  \n",
       "1930      Vôo no horário                         Dia Útil  \n",
       "1931        Vôo Atrasado                         Dia Útil  \n",
       "1932        Vôo Atrasado                    Fim de Semana  \n",
       "1933        Vôo Atrasado                         Dia Útil  "
      ]
     },
     "execution_count": 88,
     "metadata": {},
     "output_type": "execute_result"
    }
   ],
   "source": [
    "dataframe = dataframe.query('SIGLA_ICAO_AEROPORTO_ORIGEM == \"SBRP\"')\n",
    "# dataframe = dataframe.query('SIGLA_ICAO_AEROPORTO_ORIGEM == \"SBRP\" and SIGLA_ICAO_EMPRESA_AEREA == \"AZU\"  and MES_PARTIDA_PREVISTA == 1')\n",
    "dataframe.head()"
   ]
  },
  {
   "cell_type": "code",
   "execution_count": 89,
   "metadata": {},
   "outputs": [
    {
     "name": "stdout",
     "output_type": "stream",
     "text": [
      "<class 'pandas.core.frame.DataFrame'>\n",
      "Index: 4955 entries, 1929 to 710551\n",
      "Data columns (total 11 columns):\n",
      " #   Column                            Non-Null Count  Dtype   \n",
      "---  ------                            --------------  -----   \n",
      " 0   NOME_AEROPORTO_ORIGEM             4955 non-null   string  \n",
      " 1   SIGLA_ICAO_EMPRESA_AEREA          4955 non-null   string  \n",
      " 2   SIGLA_ICAO_AEROPORTO_ORIGEM       4955 non-null   string  \n",
      " 3   NOME_EMPRESA                      4955 non-null   string  \n",
      " 4   MES_PARTIDA_PREVISTA              4955 non-null   int32   \n",
      " 5   NOME_MES_PARTIDA_PREVISTA         4955 non-null   category\n",
      " 6   DIA_DA_SEMANA_PARTIDA_PREVISTA    4955 non-null   category\n",
      " 7   INDICE_SEMANA_PARTIDA_PREVISTA    4955 non-null   int32   \n",
      " 8   FAIXA_ATRASO_PARTIDA              4955 non-null   category\n",
      " 9   FLAG_ATRASO_PARTIDA               4955 non-null   string  \n",
      " 10  FLAG_FIM_SEMANA_PARTIDA_PREVISTA  4955 non-null   string  \n",
      "dtypes: category(3), int32(2), string(6)\n",
      "memory usage: 325.1 KB\n"
     ]
    }
   ],
   "source": [
    "dataframe.info()"
   ]
  },
  {
   "cell_type": "code",
   "execution_count": 90,
   "metadata": {},
   "outputs": [],
   "source": [
    "dataframe['NOME_MES_PARTIDA_PREVISTA'] = dataframe['NOME_MES_PARTIDA_PREVISTA'].astype('string')"
   ]
  },
  {
   "cell_type": "code",
   "execution_count": 91,
   "metadata": {},
   "outputs": [
    {
     "data": {
      "text/html": [
       "<div>\n",
       "<style scoped>\n",
       "    .dataframe tbody tr th:only-of-type {\n",
       "        vertical-align: middle;\n",
       "    }\n",
       "\n",
       "    .dataframe tbody tr th {\n",
       "        vertical-align: top;\n",
       "    }\n",
       "\n",
       "    .dataframe thead th {\n",
       "        text-align: right;\n",
       "    }\n",
       "</style>\n",
       "<table border=\"1\" class=\"dataframe\">\n",
       "  <thead>\n",
       "    <tr style=\"text-align: right;\">\n",
       "      <th></th>\n",
       "      <th>FLAG_ATRASO_PARTIDA</th>\n",
       "      <th>NOME_MES_PARTIDA_PREVISTA</th>\n",
       "      <th>MES_PARTIDA_PREVISTA</th>\n",
       "      <th>TOTAL_ATRASO</th>\n",
       "    </tr>\n",
       "  </thead>\n",
       "  <tbody>\n",
       "    <tr>\n",
       "      <th>0</th>\n",
       "      <td>Vôo Atrasado</td>\n",
       "      <td>abril</td>\n",
       "      <td>4</td>\n",
       "      <td>275</td>\n",
       "    </tr>\n",
       "    <tr>\n",
       "      <th>1</th>\n",
       "      <td>Vôo Atrasado</td>\n",
       "      <td>agosto</td>\n",
       "      <td>8</td>\n",
       "      <td>252</td>\n",
       "    </tr>\n",
       "    <tr>\n",
       "      <th>2</th>\n",
       "      <td>Vôo Atrasado</td>\n",
       "      <td>dezembro</td>\n",
       "      <td>12</td>\n",
       "      <td>223</td>\n",
       "    </tr>\n",
       "    <tr>\n",
       "      <th>3</th>\n",
       "      <td>Vôo Atrasado</td>\n",
       "      <td>fevereiro</td>\n",
       "      <td>2</td>\n",
       "      <td>201</td>\n",
       "    </tr>\n",
       "    <tr>\n",
       "      <th>4</th>\n",
       "      <td>Vôo Atrasado</td>\n",
       "      <td>janeiro</td>\n",
       "      <td>1</td>\n",
       "      <td>227</td>\n",
       "    </tr>\n",
       "    <tr>\n",
       "      <th>5</th>\n",
       "      <td>Vôo Atrasado</td>\n",
       "      <td>julho</td>\n",
       "      <td>7</td>\n",
       "      <td>387</td>\n",
       "    </tr>\n",
       "    <tr>\n",
       "      <th>6</th>\n",
       "      <td>Vôo Atrasado</td>\n",
       "      <td>junho</td>\n",
       "      <td>6</td>\n",
       "      <td>251</td>\n",
       "    </tr>\n",
       "    <tr>\n",
       "      <th>7</th>\n",
       "      <td>Vôo Atrasado</td>\n",
       "      <td>maio</td>\n",
       "      <td>5</td>\n",
       "      <td>307</td>\n",
       "    </tr>\n",
       "    <tr>\n",
       "      <th>8</th>\n",
       "      <td>Vôo Atrasado</td>\n",
       "      <td>março</td>\n",
       "      <td>3</td>\n",
       "      <td>229</td>\n",
       "    </tr>\n",
       "    <tr>\n",
       "      <th>9</th>\n",
       "      <td>Vôo Atrasado</td>\n",
       "      <td>novembro</td>\n",
       "      <td>11</td>\n",
       "      <td>215</td>\n",
       "    </tr>\n",
       "    <tr>\n",
       "      <th>10</th>\n",
       "      <td>Vôo Atrasado</td>\n",
       "      <td>outubro</td>\n",
       "      <td>10</td>\n",
       "      <td>223</td>\n",
       "    </tr>\n",
       "    <tr>\n",
       "      <th>11</th>\n",
       "      <td>Vôo Atrasado</td>\n",
       "      <td>setembro</td>\n",
       "      <td>9</td>\n",
       "      <td>235</td>\n",
       "    </tr>\n",
       "    <tr>\n",
       "      <th>12</th>\n",
       "      <td>Vôo no horário</td>\n",
       "      <td>abril</td>\n",
       "      <td>4</td>\n",
       "      <td>109</td>\n",
       "    </tr>\n",
       "    <tr>\n",
       "      <th>13</th>\n",
       "      <td>Vôo no horário</td>\n",
       "      <td>agosto</td>\n",
       "      <td>8</td>\n",
       "      <td>169</td>\n",
       "    </tr>\n",
       "    <tr>\n",
       "      <th>14</th>\n",
       "      <td>Vôo no horário</td>\n",
       "      <td>dezembro</td>\n",
       "      <td>12</td>\n",
       "      <td>190</td>\n",
       "    </tr>\n",
       "    <tr>\n",
       "      <th>15</th>\n",
       "      <td>Vôo no horário</td>\n",
       "      <td>fevereiro</td>\n",
       "      <td>2</td>\n",
       "      <td>66</td>\n",
       "    </tr>\n",
       "    <tr>\n",
       "      <th>16</th>\n",
       "      <td>Vôo no horário</td>\n",
       "      <td>janeiro</td>\n",
       "      <td>1</td>\n",
       "      <td>378</td>\n",
       "    </tr>\n",
       "    <tr>\n",
       "      <th>17</th>\n",
       "      <td>Vôo no horário</td>\n",
       "      <td>julho</td>\n",
       "      <td>7</td>\n",
       "      <td>44</td>\n",
       "    </tr>\n",
       "    <tr>\n",
       "      <th>18</th>\n",
       "      <td>Vôo no horário</td>\n",
       "      <td>junho</td>\n",
       "      <td>6</td>\n",
       "      <td>151</td>\n",
       "    </tr>\n",
       "    <tr>\n",
       "      <th>19</th>\n",
       "      <td>Vôo no horário</td>\n",
       "      <td>maio</td>\n",
       "      <td>5</td>\n",
       "      <td>140</td>\n",
       "    </tr>\n",
       "    <tr>\n",
       "      <th>20</th>\n",
       "      <td>Vôo no horário</td>\n",
       "      <td>março</td>\n",
       "      <td>3</td>\n",
       "      <td>132</td>\n",
       "    </tr>\n",
       "    <tr>\n",
       "      <th>21</th>\n",
       "      <td>Vôo no horário</td>\n",
       "      <td>novembro</td>\n",
       "      <td>11</td>\n",
       "      <td>172</td>\n",
       "    </tr>\n",
       "    <tr>\n",
       "      <th>22</th>\n",
       "      <td>Vôo no horário</td>\n",
       "      <td>outubro</td>\n",
       "      <td>10</td>\n",
       "      <td>192</td>\n",
       "    </tr>\n",
       "    <tr>\n",
       "      <th>23</th>\n",
       "      <td>Vôo no horário</td>\n",
       "      <td>setembro</td>\n",
       "      <td>9</td>\n",
       "      <td>187</td>\n",
       "    </tr>\n",
       "  </tbody>\n",
       "</table>\n",
       "</div>"
      ],
      "text/plain": [
       "   FLAG_ATRASO_PARTIDA NOME_MES_PARTIDA_PREVISTA  MES_PARTIDA_PREVISTA  \\\n",
       "0         Vôo Atrasado                     abril                     4   \n",
       "1         Vôo Atrasado                    agosto                     8   \n",
       "2         Vôo Atrasado                  dezembro                    12   \n",
       "3         Vôo Atrasado                 fevereiro                     2   \n",
       "4         Vôo Atrasado                   janeiro                     1   \n",
       "5         Vôo Atrasado                     julho                     7   \n",
       "6         Vôo Atrasado                     junho                     6   \n",
       "7         Vôo Atrasado                      maio                     5   \n",
       "8         Vôo Atrasado                     março                     3   \n",
       "9         Vôo Atrasado                  novembro                    11   \n",
       "10        Vôo Atrasado                   outubro                    10   \n",
       "11        Vôo Atrasado                  setembro                     9   \n",
       "12      Vôo no horário                     abril                     4   \n",
       "13      Vôo no horário                    agosto                     8   \n",
       "14      Vôo no horário                  dezembro                    12   \n",
       "15      Vôo no horário                 fevereiro                     2   \n",
       "16      Vôo no horário                   janeiro                     1   \n",
       "17      Vôo no horário                     julho                     7   \n",
       "18      Vôo no horário                     junho                     6   \n",
       "19      Vôo no horário                      maio                     5   \n",
       "20      Vôo no horário                     março                     3   \n",
       "21      Vôo no horário                  novembro                    11   \n",
       "22      Vôo no horário                   outubro                    10   \n",
       "23      Vôo no horário                  setembro                     9   \n",
       "\n",
       "    TOTAL_ATRASO  \n",
       "0            275  \n",
       "1            252  \n",
       "2            223  \n",
       "3            201  \n",
       "4            227  \n",
       "5            387  \n",
       "6            251  \n",
       "7            307  \n",
       "8            229  \n",
       "9            215  \n",
       "10           223  \n",
       "11           235  \n",
       "12           109  \n",
       "13           169  \n",
       "14           190  \n",
       "15            66  \n",
       "16           378  \n",
       "17            44  \n",
       "18           151  \n",
       "19           140  \n",
       "20           132  \n",
       "21           172  \n",
       "22           192  \n",
       "23           187  "
      ]
     },
     "execution_count": 91,
     "metadata": {},
     "output_type": "execute_result"
    }
   ],
   "source": [
    "dataframe = dataframe.groupby(['FLAG_ATRASO_PARTIDA', 'NOME_MES_PARTIDA_PREVISTA', 'MES_PARTIDA_PREVISTA']).agg(\n",
    "    TOTAL_ATRASO=('FLAG_ATRASO_PARTIDA', 'count')\n",
    ").reset_index()\n",
    "dataframe"
   ]
  },
  {
   "cell_type": "code",
   "execution_count": 92,
   "metadata": {},
   "outputs": [],
   "source": [
    "dataframe = dataframe.sort_values(by=['FLAG_ATRASO_PARTIDA','MES_PARTIDA_PREVISTA', ])"
   ]
  },
  {
   "cell_type": "code",
   "execution_count": 93,
   "metadata": {},
   "outputs": [
    {
     "data": {
      "text/html": [
       "<div>\n",
       "<style scoped>\n",
       "    .dataframe tbody tr th:only-of-type {\n",
       "        vertical-align: middle;\n",
       "    }\n",
       "\n",
       "    .dataframe tbody tr th {\n",
       "        vertical-align: top;\n",
       "    }\n",
       "\n",
       "    .dataframe thead th {\n",
       "        text-align: right;\n",
       "    }\n",
       "</style>\n",
       "<table border=\"1\" class=\"dataframe\">\n",
       "  <thead>\n",
       "    <tr style=\"text-align: right;\">\n",
       "      <th></th>\n",
       "      <th>FLAG_ATRASO_PARTIDA</th>\n",
       "      <th>NOME_MES_PARTIDA_PREVISTA</th>\n",
       "      <th>MES_PARTIDA_PREVISTA</th>\n",
       "      <th>TOTAL_ATRASO</th>\n",
       "      <th>TOTAL_ATRASO_DESLOCADO</th>\n",
       "    </tr>\n",
       "  </thead>\n",
       "  <tbody>\n",
       "    <tr>\n",
       "      <th>4</th>\n",
       "      <td>Vôo Atrasado</td>\n",
       "      <td>janeiro</td>\n",
       "      <td>1</td>\n",
       "      <td>227</td>\n",
       "      <td>0</td>\n",
       "    </tr>\n",
       "    <tr>\n",
       "      <th>3</th>\n",
       "      <td>Vôo Atrasado</td>\n",
       "      <td>fevereiro</td>\n",
       "      <td>2</td>\n",
       "      <td>201</td>\n",
       "      <td>227.0</td>\n",
       "    </tr>\n",
       "    <tr>\n",
       "      <th>8</th>\n",
       "      <td>Vôo Atrasado</td>\n",
       "      <td>março</td>\n",
       "      <td>3</td>\n",
       "      <td>229</td>\n",
       "      <td>201.0</td>\n",
       "    </tr>\n",
       "    <tr>\n",
       "      <th>0</th>\n",
       "      <td>Vôo Atrasado</td>\n",
       "      <td>abril</td>\n",
       "      <td>4</td>\n",
       "      <td>275</td>\n",
       "      <td>229.0</td>\n",
       "    </tr>\n",
       "    <tr>\n",
       "      <th>7</th>\n",
       "      <td>Vôo Atrasado</td>\n",
       "      <td>maio</td>\n",
       "      <td>5</td>\n",
       "      <td>307</td>\n",
       "      <td>275.0</td>\n",
       "    </tr>\n",
       "    <tr>\n",
       "      <th>6</th>\n",
       "      <td>Vôo Atrasado</td>\n",
       "      <td>junho</td>\n",
       "      <td>6</td>\n",
       "      <td>251</td>\n",
       "      <td>307.0</td>\n",
       "    </tr>\n",
       "    <tr>\n",
       "      <th>5</th>\n",
       "      <td>Vôo Atrasado</td>\n",
       "      <td>julho</td>\n",
       "      <td>7</td>\n",
       "      <td>387</td>\n",
       "      <td>251.0</td>\n",
       "    </tr>\n",
       "    <tr>\n",
       "      <th>1</th>\n",
       "      <td>Vôo Atrasado</td>\n",
       "      <td>agosto</td>\n",
       "      <td>8</td>\n",
       "      <td>252</td>\n",
       "      <td>387.0</td>\n",
       "    </tr>\n",
       "    <tr>\n",
       "      <th>11</th>\n",
       "      <td>Vôo Atrasado</td>\n",
       "      <td>setembro</td>\n",
       "      <td>9</td>\n",
       "      <td>235</td>\n",
       "      <td>252.0</td>\n",
       "    </tr>\n",
       "    <tr>\n",
       "      <th>10</th>\n",
       "      <td>Vôo Atrasado</td>\n",
       "      <td>outubro</td>\n",
       "      <td>10</td>\n",
       "      <td>223</td>\n",
       "      <td>235.0</td>\n",
       "    </tr>\n",
       "    <tr>\n",
       "      <th>9</th>\n",
       "      <td>Vôo Atrasado</td>\n",
       "      <td>novembro</td>\n",
       "      <td>11</td>\n",
       "      <td>215</td>\n",
       "      <td>223.0</td>\n",
       "    </tr>\n",
       "    <tr>\n",
       "      <th>2</th>\n",
       "      <td>Vôo Atrasado</td>\n",
       "      <td>dezembro</td>\n",
       "      <td>12</td>\n",
       "      <td>223</td>\n",
       "      <td>215.0</td>\n",
       "    </tr>\n",
       "    <tr>\n",
       "      <th>16</th>\n",
       "      <td>Vôo no horário</td>\n",
       "      <td>janeiro</td>\n",
       "      <td>1</td>\n",
       "      <td>378</td>\n",
       "      <td>0</td>\n",
       "    </tr>\n",
       "    <tr>\n",
       "      <th>15</th>\n",
       "      <td>Vôo no horário</td>\n",
       "      <td>fevereiro</td>\n",
       "      <td>2</td>\n",
       "      <td>66</td>\n",
       "      <td>378.0</td>\n",
       "    </tr>\n",
       "    <tr>\n",
       "      <th>20</th>\n",
       "      <td>Vôo no horário</td>\n",
       "      <td>março</td>\n",
       "      <td>3</td>\n",
       "      <td>132</td>\n",
       "      <td>66.0</td>\n",
       "    </tr>\n",
       "    <tr>\n",
       "      <th>12</th>\n",
       "      <td>Vôo no horário</td>\n",
       "      <td>abril</td>\n",
       "      <td>4</td>\n",
       "      <td>109</td>\n",
       "      <td>132.0</td>\n",
       "    </tr>\n",
       "    <tr>\n",
       "      <th>19</th>\n",
       "      <td>Vôo no horário</td>\n",
       "      <td>maio</td>\n",
       "      <td>5</td>\n",
       "      <td>140</td>\n",
       "      <td>109.0</td>\n",
       "    </tr>\n",
       "    <tr>\n",
       "      <th>18</th>\n",
       "      <td>Vôo no horário</td>\n",
       "      <td>junho</td>\n",
       "      <td>6</td>\n",
       "      <td>151</td>\n",
       "      <td>140.0</td>\n",
       "    </tr>\n",
       "    <tr>\n",
       "      <th>17</th>\n",
       "      <td>Vôo no horário</td>\n",
       "      <td>julho</td>\n",
       "      <td>7</td>\n",
       "      <td>44</td>\n",
       "      <td>151.0</td>\n",
       "    </tr>\n",
       "    <tr>\n",
       "      <th>13</th>\n",
       "      <td>Vôo no horário</td>\n",
       "      <td>agosto</td>\n",
       "      <td>8</td>\n",
       "      <td>169</td>\n",
       "      <td>44.0</td>\n",
       "    </tr>\n",
       "    <tr>\n",
       "      <th>23</th>\n",
       "      <td>Vôo no horário</td>\n",
       "      <td>setembro</td>\n",
       "      <td>9</td>\n",
       "      <td>187</td>\n",
       "      <td>169.0</td>\n",
       "    </tr>\n",
       "    <tr>\n",
       "      <th>22</th>\n",
       "      <td>Vôo no horário</td>\n",
       "      <td>outubro</td>\n",
       "      <td>10</td>\n",
       "      <td>192</td>\n",
       "      <td>187.0</td>\n",
       "    </tr>\n",
       "    <tr>\n",
       "      <th>21</th>\n",
       "      <td>Vôo no horário</td>\n",
       "      <td>novembro</td>\n",
       "      <td>11</td>\n",
       "      <td>172</td>\n",
       "      <td>192.0</td>\n",
       "    </tr>\n",
       "    <tr>\n",
       "      <th>14</th>\n",
       "      <td>Vôo no horário</td>\n",
       "      <td>dezembro</td>\n",
       "      <td>12</td>\n",
       "      <td>190</td>\n",
       "      <td>172.0</td>\n",
       "    </tr>\n",
       "  </tbody>\n",
       "</table>\n",
       "</div>"
      ],
      "text/plain": [
       "   FLAG_ATRASO_PARTIDA NOME_MES_PARTIDA_PREVISTA MES_PARTIDA_PREVISTA  \\\n",
       "4         Vôo Atrasado                   janeiro                    1   \n",
       "3         Vôo Atrasado                 fevereiro                    2   \n",
       "8         Vôo Atrasado                     março                    3   \n",
       "0         Vôo Atrasado                     abril                    4   \n",
       "7         Vôo Atrasado                      maio                    5   \n",
       "6         Vôo Atrasado                     junho                    6   \n",
       "5         Vôo Atrasado                     julho                    7   \n",
       "1         Vôo Atrasado                    agosto                    8   \n",
       "11        Vôo Atrasado                  setembro                    9   \n",
       "10        Vôo Atrasado                   outubro                   10   \n",
       "9         Vôo Atrasado                  novembro                   11   \n",
       "2         Vôo Atrasado                  dezembro                   12   \n",
       "16      Vôo no horário                   janeiro                    1   \n",
       "15      Vôo no horário                 fevereiro                    2   \n",
       "20      Vôo no horário                     março                    3   \n",
       "12      Vôo no horário                     abril                    4   \n",
       "19      Vôo no horário                      maio                    5   \n",
       "18      Vôo no horário                     junho                    6   \n",
       "17      Vôo no horário                     julho                    7   \n",
       "13      Vôo no horário                    agosto                    8   \n",
       "23      Vôo no horário                  setembro                    9   \n",
       "22      Vôo no horário                   outubro                   10   \n",
       "21      Vôo no horário                  novembro                   11   \n",
       "14      Vôo no horário                  dezembro                   12   \n",
       "\n",
       "   TOTAL_ATRASO TOTAL_ATRASO_DESLOCADO  \n",
       "4           227                      0  \n",
       "3           201                  227.0  \n",
       "8           229                  201.0  \n",
       "0           275                  229.0  \n",
       "7           307                  275.0  \n",
       "6           251                  307.0  \n",
       "5           387                  251.0  \n",
       "1           252                  387.0  \n",
       "11          235                  252.0  \n",
       "10          223                  235.0  \n",
       "9           215                  223.0  \n",
       "2           223                  215.0  \n",
       "16          378                      0  \n",
       "15           66                  378.0  \n",
       "20          132                   66.0  \n",
       "12          109                  132.0  \n",
       "19          140                  109.0  \n",
       "18          151                  140.0  \n",
       "17           44                  151.0  \n",
       "13          169                   44.0  \n",
       "23          187                  169.0  \n",
       "22          192                  187.0  \n",
       "21          172                  192.0  \n",
       "14          190                  172.0  "
      ]
     },
     "execution_count": 93,
     "metadata": {},
     "output_type": "execute_result"
    }
   ],
   "source": [
    "dataframe['TOTAL_ATRASO_DESLOCADO'] = dataframe.groupby('FLAG_ATRASO_PARTIDA')['TOTAL_ATRASO'].shift(1)\n",
    "dataframe.fillna(0, axis=1, inplace=True)\n",
    "dataframe"
   ]
  },
  {
   "cell_type": "code",
   "execution_count": 94,
   "metadata": {},
   "outputs": [
    {
     "data": {
      "text/html": [
       "<div>\n",
       "<style scoped>\n",
       "    .dataframe tbody tr th:only-of-type {\n",
       "        vertical-align: middle;\n",
       "    }\n",
       "\n",
       "    .dataframe tbody tr th {\n",
       "        vertical-align: top;\n",
       "    }\n",
       "\n",
       "    .dataframe thead th {\n",
       "        text-align: right;\n",
       "    }\n",
       "</style>\n",
       "<table border=\"1\" class=\"dataframe\">\n",
       "  <thead>\n",
       "    <tr style=\"text-align: right;\">\n",
       "      <th></th>\n",
       "      <th>FLAG_ATRASO_PARTIDA</th>\n",
       "      <th>NOME_MES_PARTIDA_PREVISTA</th>\n",
       "      <th>MES_PARTIDA_PREVISTA</th>\n",
       "      <th>TOTAL_ATRASO</th>\n",
       "      <th>TOTAL_ATRASO_DESLOCADO</th>\n",
       "      <th>VARIACAO_PERCENTUAL</th>\n",
       "    </tr>\n",
       "  </thead>\n",
       "  <tbody>\n",
       "    <tr>\n",
       "      <th>4</th>\n",
       "      <td>Vôo Atrasado</td>\n",
       "      <td>janeiro</td>\n",
       "      <td>1</td>\n",
       "      <td>227</td>\n",
       "      <td>0</td>\n",
       "      <td>-100.0</td>\n",
       "    </tr>\n",
       "    <tr>\n",
       "      <th>3</th>\n",
       "      <td>Vôo Atrasado</td>\n",
       "      <td>fevereiro</td>\n",
       "      <td>2</td>\n",
       "      <td>201</td>\n",
       "      <td>227.0</td>\n",
       "      <td>12.935323</td>\n",
       "    </tr>\n",
       "    <tr>\n",
       "      <th>8</th>\n",
       "      <td>Vôo Atrasado</td>\n",
       "      <td>março</td>\n",
       "      <td>3</td>\n",
       "      <td>229</td>\n",
       "      <td>201.0</td>\n",
       "      <td>-12.227074</td>\n",
       "    </tr>\n",
       "    <tr>\n",
       "      <th>0</th>\n",
       "      <td>Vôo Atrasado</td>\n",
       "      <td>abril</td>\n",
       "      <td>4</td>\n",
       "      <td>275</td>\n",
       "      <td>229.0</td>\n",
       "      <td>-16.727273</td>\n",
       "    </tr>\n",
       "    <tr>\n",
       "      <th>7</th>\n",
       "      <td>Vôo Atrasado</td>\n",
       "      <td>maio</td>\n",
       "      <td>5</td>\n",
       "      <td>307</td>\n",
       "      <td>275.0</td>\n",
       "      <td>-10.423453</td>\n",
       "    </tr>\n",
       "    <tr>\n",
       "      <th>6</th>\n",
       "      <td>Vôo Atrasado</td>\n",
       "      <td>junho</td>\n",
       "      <td>6</td>\n",
       "      <td>251</td>\n",
       "      <td>307.0</td>\n",
       "      <td>22.310757</td>\n",
       "    </tr>\n",
       "    <tr>\n",
       "      <th>5</th>\n",
       "      <td>Vôo Atrasado</td>\n",
       "      <td>julho</td>\n",
       "      <td>7</td>\n",
       "      <td>387</td>\n",
       "      <td>251.0</td>\n",
       "      <td>-35.142119</td>\n",
       "    </tr>\n",
       "    <tr>\n",
       "      <th>1</th>\n",
       "      <td>Vôo Atrasado</td>\n",
       "      <td>agosto</td>\n",
       "      <td>8</td>\n",
       "      <td>252</td>\n",
       "      <td>387.0</td>\n",
       "      <td>53.571429</td>\n",
       "    </tr>\n",
       "    <tr>\n",
       "      <th>11</th>\n",
       "      <td>Vôo Atrasado</td>\n",
       "      <td>setembro</td>\n",
       "      <td>9</td>\n",
       "      <td>235</td>\n",
       "      <td>252.0</td>\n",
       "      <td>7.234043</td>\n",
       "    </tr>\n",
       "    <tr>\n",
       "      <th>10</th>\n",
       "      <td>Vôo Atrasado</td>\n",
       "      <td>outubro</td>\n",
       "      <td>10</td>\n",
       "      <td>223</td>\n",
       "      <td>235.0</td>\n",
       "      <td>5.381166</td>\n",
       "    </tr>\n",
       "    <tr>\n",
       "      <th>9</th>\n",
       "      <td>Vôo Atrasado</td>\n",
       "      <td>novembro</td>\n",
       "      <td>11</td>\n",
       "      <td>215</td>\n",
       "      <td>223.0</td>\n",
       "      <td>3.72093</td>\n",
       "    </tr>\n",
       "    <tr>\n",
       "      <th>2</th>\n",
       "      <td>Vôo Atrasado</td>\n",
       "      <td>dezembro</td>\n",
       "      <td>12</td>\n",
       "      <td>223</td>\n",
       "      <td>215.0</td>\n",
       "      <td>-3.587444</td>\n",
       "    </tr>\n",
       "    <tr>\n",
       "      <th>16</th>\n",
       "      <td>Vôo no horário</td>\n",
       "      <td>janeiro</td>\n",
       "      <td>1</td>\n",
       "      <td>378</td>\n",
       "      <td>0</td>\n",
       "      <td>-100.0</td>\n",
       "    </tr>\n",
       "    <tr>\n",
       "      <th>15</th>\n",
       "      <td>Vôo no horário</td>\n",
       "      <td>fevereiro</td>\n",
       "      <td>2</td>\n",
       "      <td>66</td>\n",
       "      <td>378.0</td>\n",
       "      <td>472.727273</td>\n",
       "    </tr>\n",
       "    <tr>\n",
       "      <th>20</th>\n",
       "      <td>Vôo no horário</td>\n",
       "      <td>março</td>\n",
       "      <td>3</td>\n",
       "      <td>132</td>\n",
       "      <td>66.0</td>\n",
       "      <td>-50.0</td>\n",
       "    </tr>\n",
       "    <tr>\n",
       "      <th>12</th>\n",
       "      <td>Vôo no horário</td>\n",
       "      <td>abril</td>\n",
       "      <td>4</td>\n",
       "      <td>109</td>\n",
       "      <td>132.0</td>\n",
       "      <td>21.100917</td>\n",
       "    </tr>\n",
       "    <tr>\n",
       "      <th>19</th>\n",
       "      <td>Vôo no horário</td>\n",
       "      <td>maio</td>\n",
       "      <td>5</td>\n",
       "      <td>140</td>\n",
       "      <td>109.0</td>\n",
       "      <td>-22.142857</td>\n",
       "    </tr>\n",
       "    <tr>\n",
       "      <th>18</th>\n",
       "      <td>Vôo no horário</td>\n",
       "      <td>junho</td>\n",
       "      <td>6</td>\n",
       "      <td>151</td>\n",
       "      <td>140.0</td>\n",
       "      <td>-7.284768</td>\n",
       "    </tr>\n",
       "    <tr>\n",
       "      <th>17</th>\n",
       "      <td>Vôo no horário</td>\n",
       "      <td>julho</td>\n",
       "      <td>7</td>\n",
       "      <td>44</td>\n",
       "      <td>151.0</td>\n",
       "      <td>243.181818</td>\n",
       "    </tr>\n",
       "    <tr>\n",
       "      <th>13</th>\n",
       "      <td>Vôo no horário</td>\n",
       "      <td>agosto</td>\n",
       "      <td>8</td>\n",
       "      <td>169</td>\n",
       "      <td>44.0</td>\n",
       "      <td>-73.964497</td>\n",
       "    </tr>\n",
       "    <tr>\n",
       "      <th>23</th>\n",
       "      <td>Vôo no horário</td>\n",
       "      <td>setembro</td>\n",
       "      <td>9</td>\n",
       "      <td>187</td>\n",
       "      <td>169.0</td>\n",
       "      <td>-9.625668</td>\n",
       "    </tr>\n",
       "    <tr>\n",
       "      <th>22</th>\n",
       "      <td>Vôo no horário</td>\n",
       "      <td>outubro</td>\n",
       "      <td>10</td>\n",
       "      <td>192</td>\n",
       "      <td>187.0</td>\n",
       "      <td>-2.604167</td>\n",
       "    </tr>\n",
       "    <tr>\n",
       "      <th>21</th>\n",
       "      <td>Vôo no horário</td>\n",
       "      <td>novembro</td>\n",
       "      <td>11</td>\n",
       "      <td>172</td>\n",
       "      <td>192.0</td>\n",
       "      <td>11.627907</td>\n",
       "    </tr>\n",
       "    <tr>\n",
       "      <th>14</th>\n",
       "      <td>Vôo no horário</td>\n",
       "      <td>dezembro</td>\n",
       "      <td>12</td>\n",
       "      <td>190</td>\n",
       "      <td>172.0</td>\n",
       "      <td>-9.473684</td>\n",
       "    </tr>\n",
       "  </tbody>\n",
       "</table>\n",
       "</div>"
      ],
      "text/plain": [
       "   FLAG_ATRASO_PARTIDA NOME_MES_PARTIDA_PREVISTA MES_PARTIDA_PREVISTA  \\\n",
       "4         Vôo Atrasado                   janeiro                    1   \n",
       "3         Vôo Atrasado                 fevereiro                    2   \n",
       "8         Vôo Atrasado                     março                    3   \n",
       "0         Vôo Atrasado                     abril                    4   \n",
       "7         Vôo Atrasado                      maio                    5   \n",
       "6         Vôo Atrasado                     junho                    6   \n",
       "5         Vôo Atrasado                     julho                    7   \n",
       "1         Vôo Atrasado                    agosto                    8   \n",
       "11        Vôo Atrasado                  setembro                    9   \n",
       "10        Vôo Atrasado                   outubro                   10   \n",
       "9         Vôo Atrasado                  novembro                   11   \n",
       "2         Vôo Atrasado                  dezembro                   12   \n",
       "16      Vôo no horário                   janeiro                    1   \n",
       "15      Vôo no horário                 fevereiro                    2   \n",
       "20      Vôo no horário                     março                    3   \n",
       "12      Vôo no horário                     abril                    4   \n",
       "19      Vôo no horário                      maio                    5   \n",
       "18      Vôo no horário                     junho                    6   \n",
       "17      Vôo no horário                     julho                    7   \n",
       "13      Vôo no horário                    agosto                    8   \n",
       "23      Vôo no horário                  setembro                    9   \n",
       "22      Vôo no horário                   outubro                   10   \n",
       "21      Vôo no horário                  novembro                   11   \n",
       "14      Vôo no horário                  dezembro                   12   \n",
       "\n",
       "   TOTAL_ATRASO TOTAL_ATRASO_DESLOCADO VARIACAO_PERCENTUAL  \n",
       "4           227                      0              -100.0  \n",
       "3           201                  227.0           12.935323  \n",
       "8           229                  201.0          -12.227074  \n",
       "0           275                  229.0          -16.727273  \n",
       "7           307                  275.0          -10.423453  \n",
       "6           251                  307.0           22.310757  \n",
       "5           387                  251.0          -35.142119  \n",
       "1           252                  387.0           53.571429  \n",
       "11          235                  252.0            7.234043  \n",
       "10          223                  235.0            5.381166  \n",
       "9           215                  223.0             3.72093  \n",
       "2           223                  215.0           -3.587444  \n",
       "16          378                      0              -100.0  \n",
       "15           66                  378.0          472.727273  \n",
       "20          132                   66.0               -50.0  \n",
       "12          109                  132.0           21.100917  \n",
       "19          140                  109.0          -22.142857  \n",
       "18          151                  140.0           -7.284768  \n",
       "17           44                  151.0          243.181818  \n",
       "13          169                   44.0          -73.964497  \n",
       "23          187                  169.0           -9.625668  \n",
       "22          192                  187.0           -2.604167  \n",
       "21          172                  192.0           11.627907  \n",
       "14          190                  172.0           -9.473684  "
      ]
     },
     "execution_count": 94,
     "metadata": {},
     "output_type": "execute_result"
    }
   ],
   "source": [
    "dataframe['VARIACAO_PERCENTUAL'] = (((dataframe['TOTAL_ATRASO_DESLOCADO'] - dataframe['TOTAL_ATRASO']) / dataframe['TOTAL_ATRASO']) * 100)\n",
    "dataframe"
   ]
  },
  {
   "cell_type": "code",
   "execution_count": 95,
   "metadata": {},
   "outputs": [
    {
     "data": {
      "text/html": [
       "<div>\n",
       "<style scoped>\n",
       "    .dataframe tbody tr th:only-of-type {\n",
       "        vertical-align: middle;\n",
       "    }\n",
       "\n",
       "    .dataframe tbody tr th {\n",
       "        vertical-align: top;\n",
       "    }\n",
       "\n",
       "    .dataframe thead th {\n",
       "        text-align: right;\n",
       "    }\n",
       "</style>\n",
       "<table border=\"1\" class=\"dataframe\">\n",
       "  <thead>\n",
       "    <tr style=\"text-align: right;\">\n",
       "      <th></th>\n",
       "      <th>FLAG_ATRASO_PARTIDA</th>\n",
       "      <th>TOTAL_ATRASO</th>\n",
       "      <th>VARIACAO_PERCENTUAL</th>\n",
       "    </tr>\n",
       "  </thead>\n",
       "  <tbody>\n",
       "    <tr>\n",
       "      <th>2</th>\n",
       "      <td>Vôo Atrasado</td>\n",
       "      <td>223</td>\n",
       "      <td>-3.587444</td>\n",
       "    </tr>\n",
       "    <tr>\n",
       "      <th>14</th>\n",
       "      <td>Vôo no horário</td>\n",
       "      <td>190</td>\n",
       "      <td>-9.473684</td>\n",
       "    </tr>\n",
       "  </tbody>\n",
       "</table>\n",
       "</div>"
      ],
      "text/plain": [
       "   FLAG_ATRASO_PARTIDA TOTAL_ATRASO VARIACAO_PERCENTUAL\n",
       "2         Vôo Atrasado          223           -3.587444\n",
       "14      Vôo no horário          190           -9.473684"
      ]
     },
     "execution_count": 95,
     "metadata": {},
     "output_type": "execute_result"
    }
   ],
   "source": [
    "dataframe[dataframe['NOME_MES_PARTIDA_PREVISTA'] == 'dezembro'][['FLAG_ATRASO_PARTIDA','TOTAL_ATRASO', 'VARIACAO_PERCENTUAL']]"
   ]
  },
  {
   "cell_type": "markdown",
   "metadata": {},
   "source": [
    "- Variação de atraso Partida total por aeroporto em relação ao mês anterior (Análise por Flag)"
   ]
  },
  {
   "cell_type": "markdown",
   "metadata": {},
   "source": [
    "- Variação de FAIXA_ATRASO_PARTIDA por aeroporto em relação ao mês anterior "
   ]
  },
  {
   "cell_type": "markdown",
   "metadata": {},
   "source": [
    "<p> O volume de atraso de saída no fim de semana, é maior ou menor em relação aos outros dias uteis</p>"
   ]
  },
  {
   "cell_type": "code",
   "execution_count": 96,
   "metadata": {},
   "outputs": [
    {
     "data": {
      "text/plain": [
       "Index(['NOME_AEROPORTO_ORIGEM', 'CIDADE_AEROPORTO_ORIGEM',\n",
       "       'UF_AEROPORTO_ORIGEM', 'SIGLA_ICAO_EMPRESA_AEREA', 'NUMERO_VOO',\n",
       "       'CODIGO_TIPO_LINHA', 'SIGLA_ICAO_AEROPORTO_ORIGEM',\n",
       "       'SIGLA_ICAO_AEROPORTO_DESTINO', 'PARTIDA_PREVISTA', 'PARTIDA_REAL',\n",
       "       'CHEGADA_PREVISTA', 'CHEGADA_REAL', 'SITUACAO_VOO', 'SIGLA_OACI',\n",
       "       'NOME_AEROPORTO_DESTINO', 'CIDADE_AEROPORTO_DESTINO',\n",
       "       'UF_AEROPORTO_DESTINO', 'NOME_EMPRESA', 'MES_PARTIDA_PREVISTA',\n",
       "       'NOME_MES_PARTIDA_PREVISTA', 'MES_PARTIDA_REAL',\n",
       "       'NOME_MES_PARTIDA_REAL', 'MES_CHEGADA_PREVISTA',\n",
       "       'NOME_MES_CHEGADA_PREVISTA', 'MES_CHEGADA_REAL',\n",
       "       'NOME_MES_CHEGADA_REAL', 'MINUTOS_ATRASADO_PARTIDA',\n",
       "       'MINUTOS_ATRASADO_CHEGADA', 'DIA_DA_SEMANA_PARTIDA_PREVISTA',\n",
       "       'INDICE_SEMANA_PARTIDA_PREVISTA', 'DIA_DA_SEMANA_PARTIDA_REAL',\n",
       "       'INDICE_SEMANA_PARTIDA_REAL', 'DIA_DA_SEMANA_CHEGADA_REAL',\n",
       "       'DIA_DA_SEMANA_CHEGADA_PREVISTA', 'INDICE_SEMANA_CHEGADA_REAL',\n",
       "       'INDICE_SEMANA_CHEGADA_PREVISTA', 'FAIXA_ATRASO_PARTIDA',\n",
       "       'FAIXA_ATRASO_CHEGADA', 'FLAG_ATRASO_PARTIDA', 'FLAG_ATRASO_CHEGADA',\n",
       "       'FLAG_FIM_SEMANA_PARTIDA_PREVISTA', 'FLAG_FIM_SEMANA_PARTIDA_REAL',\n",
       "       'FLAG_FIM_SEMANA_CHEGADA_PREVISTA', 'FLAG_FIM_SEMANA_CHEGADA_REAL'],\n",
       "      dtype='object')"
      ]
     },
     "execution_count": 96,
     "metadata": {},
     "output_type": "execute_result"
    }
   ],
   "source": [
    "base_completa.columns"
   ]
  },
  {
   "cell_type": "code",
   "execution_count": 97,
   "metadata": {},
   "outputs": [],
   "source": [
    "colunas = [\n",
    "    'NOME_AEROPORTO_ORIGEM',\n",
    "    'SIGLA_ICAO_EMPRESA_AEREA',\n",
    "    'SIGLA_ICAO_AEROPORTO_ORIGEM',\n",
    "    'NOME_EMPRESA',\n",
    "    'MES_PARTIDA_PREVISTA',\n",
    "    'NOME_MES_PARTIDA_PREVISTA',\n",
    "    'DIA_DA_SEMANA_PARTIDA_PREVISTA',\n",
    "    'INDICE_SEMANA_PARTIDA_PREVISTA',\n",
    "    'FAIXA_ATRASO_PARTIDA',\n",
    "    'FLAG_ATRASO_PARTIDA',\n",
    "    'FLAG_FIM_SEMANA_PARTIDA_PREVISTA'\n",
    "]"
   ]
  },
  {
   "cell_type": "code",
   "execution_count": 138,
   "metadata": {},
   "outputs": [],
   "source": [
    "def obter_variacao_incidencia(\n",
    "        mes: int, \n",
    "        sigla_aeroporto: str, \n",
    "        path_coluna_analise: str,\n",
    "        sigla_empresa_aerea: str = None,\n",
    "    ) -> pd.DataFrame:\n",
    "    if sigla_empresa_aerea is None:\n",
    "        query = f'SIGLA_ICAO_AEROPORTO_ORIGEM == \"{sigla_aeroporto}\"  and MES_{path_coluna_analise}_PREVISTA == {mes}'\n",
    "    else:\n",
    "        query = f' SIGLA_ICAO_AEROPORTO_ORIGEM == \"{sigla_aeroporto}\" ' \\\n",
    "                f' and SIGLA_ICAO_EMPRESA_AEREA == \"{sigla_empresa_aerea}\" '\\\n",
    "                f' and MES_{path_coluna_analise}_PREVISTA == {mes} '\n",
    "    colunas = [\n",
    "        'NOME_AEROPORTO_ORIGEM',\n",
    "        'SIGLA_ICAO_EMPRESA_AEREA',\n",
    "        'SIGLA_ICAO_AEROPORTO_ORIGEM',\n",
    "        'NOME_EMPRESA',\n",
    "        f'MES_{path_coluna_analise}_PREVISTA',\n",
    "        f'NOME_MES_{path_coluna_analise}_PREVISTA',\n",
    "        f'DIA_DA_SEMANA_{path_coluna_analise}_PREVISTA',\n",
    "        f'INDICE_SEMANA_{path_coluna_analise}_PREVISTA',\n",
    "        f'FAIXA_ATRASO_{path_coluna_analise}',\n",
    "        f'FLAG_ATRASO_{path_coluna_analise}',\n",
    "        f'FLAG_FIM_SEMANA_{path_coluna_analise}_PREVISTA'\n",
    "    ]\n",
    "    dataframe = pd.read_parquet(caminho_base, columns=colunas)\n",
    "    dataframe = dataframe.query(query)\n",
    "    dataframe[\n",
    "        [\n",
    "            f'NOME_MES_{path_coluna_analise}_PREVISTA', \n",
    "            f'DIA_DA_SEMANA_{path_coluna_analise}_PREVISTA', \n",
    "            f'FAIXA_ATRASO_{path_coluna_analise}'\n",
    "        ]\n",
    "    ] = dataframe[\n",
    "        [\n",
    "            f'NOME_MES_{path_coluna_analise}_PREVISTA', \n",
    "            f'DIA_DA_SEMANA_{path_coluna_analise}_PREVISTA', \n",
    "            f'FAIXA_ATRASO_{path_coluna_analise}'\n",
    "        ]\n",
    "    ].astype('string')\n",
    "    dataframe = dataframe.groupby(\n",
    "        [\n",
    "            f'FLAG_ATRASO_{path_coluna_analise}', \n",
    "            f'FLAG_FIM_SEMANA_{path_coluna_analise}_PREVISTA'\n",
    "        ]\n",
    "    ).agg(\n",
    "        TOTAL_INCIDENCIA=(f'FLAG_ATRASO_{path_coluna_analise}', 'count')\n",
    "    ).reset_index()\n",
    "    dataframe[f'TOTAL_INCIDENCIA_GERAL_{path_coluna_analise}'] = dataframe.groupby(f'FLAG_ATRASO_{path_coluna_analise}')['TOTAL_INCIDENCIA'].transform('sum')\n",
    "    dataframe[f'PERCENTUAL_INCIDENCIA_{path_coluna_analise}'] = round((dataframe['TOTAL_INCIDENCIA'] * 100) / dataframe[f'TOTAL_INCIDENCIA_GERAL_{path_coluna_analise}'], 2)\n",
    "    return dataframe"
   ]
  },
  {
   "cell_type": "code",
   "execution_count": 139,
   "metadata": {},
   "outputs": [
    {
     "data": {
      "text/html": [
       "<div>\n",
       "<style scoped>\n",
       "    .dataframe tbody tr th:only-of-type {\n",
       "        vertical-align: middle;\n",
       "    }\n",
       "\n",
       "    .dataframe tbody tr th {\n",
       "        vertical-align: top;\n",
       "    }\n",
       "\n",
       "    .dataframe thead th {\n",
       "        text-align: right;\n",
       "    }\n",
       "</style>\n",
       "<table border=\"1\" class=\"dataframe\">\n",
       "  <thead>\n",
       "    <tr style=\"text-align: right;\">\n",
       "      <th></th>\n",
       "      <th>FLAG_ATRASO_PARTIDA</th>\n",
       "      <th>FLAG_FIM_SEMANA_PARTIDA_PREVISTA</th>\n",
       "      <th>TOTAL_INCIDENCIA</th>\n",
       "      <th>TOTAL_INCIDENCIA_GERAL_PARTIDA</th>\n",
       "      <th>PERCENTUAL_INCIDENCIA_PARTIDA</th>\n",
       "    </tr>\n",
       "  </thead>\n",
       "  <tbody>\n",
       "    <tr>\n",
       "      <th>0</th>\n",
       "      <td>Vôo Atrasado</td>\n",
       "      <td>Dia Útil</td>\n",
       "      <td>160</td>\n",
       "      <td>227</td>\n",
       "      <td>70.48</td>\n",
       "    </tr>\n",
       "    <tr>\n",
       "      <th>1</th>\n",
       "      <td>Vôo Atrasado</td>\n",
       "      <td>Fim de Semana</td>\n",
       "      <td>67</td>\n",
       "      <td>227</td>\n",
       "      <td>29.52</td>\n",
       "    </tr>\n",
       "    <tr>\n",
       "      <th>2</th>\n",
       "      <td>Vôo no horário</td>\n",
       "      <td>Dia Útil</td>\n",
       "      <td>346</td>\n",
       "      <td>378</td>\n",
       "      <td>91.53</td>\n",
       "    </tr>\n",
       "    <tr>\n",
       "      <th>3</th>\n",
       "      <td>Vôo no horário</td>\n",
       "      <td>Fim de Semana</td>\n",
       "      <td>32</td>\n",
       "      <td>378</td>\n",
       "      <td>8.47</td>\n",
       "    </tr>\n",
       "  </tbody>\n",
       "</table>\n",
       "</div>"
      ],
      "text/plain": [
       "  FLAG_ATRASO_PARTIDA FLAG_FIM_SEMANA_PARTIDA_PREVISTA  TOTAL_INCIDENCIA  \\\n",
       "0        Vôo Atrasado                         Dia Útil               160   \n",
       "1        Vôo Atrasado                    Fim de Semana                67   \n",
       "2      Vôo no horário                         Dia Útil               346   \n",
       "3      Vôo no horário                    Fim de Semana                32   \n",
       "\n",
       "   TOTAL_INCIDENCIA_GERAL_PARTIDA  PERCENTUAL_INCIDENCIA_PARTIDA  \n",
       "0                             227                          70.48  \n",
       "1                             227                          29.52  \n",
       "2                             378                          91.53  \n",
       "3                             378                           8.47  "
      ]
     },
     "execution_count": 139,
     "metadata": {},
     "output_type": "execute_result"
    }
   ],
   "source": [
    "obter_variacao_incidencia(mes=1, sigla_aeroporto='SBRP', path_coluna_analise='PARTIDA')"
   ]
  },
  {
   "cell_type": "code",
   "execution_count": 98,
   "metadata": {},
   "outputs": [
    {
     "data": {
      "text/html": [
       "<div>\n",
       "<style scoped>\n",
       "    .dataframe tbody tr th:only-of-type {\n",
       "        vertical-align: middle;\n",
       "    }\n",
       "\n",
       "    .dataframe tbody tr th {\n",
       "        vertical-align: top;\n",
       "    }\n",
       "\n",
       "    .dataframe thead th {\n",
       "        text-align: right;\n",
       "    }\n",
       "</style>\n",
       "<table border=\"1\" class=\"dataframe\">\n",
       "  <thead>\n",
       "    <tr style=\"text-align: right;\">\n",
       "      <th></th>\n",
       "      <th>NOME_AEROPORTO_ORIGEM</th>\n",
       "      <th>SIGLA_ICAO_EMPRESA_AEREA</th>\n",
       "      <th>SIGLA_ICAO_AEROPORTO_ORIGEM</th>\n",
       "      <th>NOME_EMPRESA</th>\n",
       "      <th>MES_PARTIDA_PREVISTA</th>\n",
       "      <th>NOME_MES_PARTIDA_PREVISTA</th>\n",
       "      <th>DIA_DA_SEMANA_PARTIDA_PREVISTA</th>\n",
       "      <th>INDICE_SEMANA_PARTIDA_PREVISTA</th>\n",
       "      <th>FAIXA_ATRASO_PARTIDA</th>\n",
       "      <th>FLAG_ATRASO_PARTIDA</th>\n",
       "      <th>FLAG_FIM_SEMANA_PARTIDA_PREVISTA</th>\n",
       "    </tr>\n",
       "  </thead>\n",
       "  <tbody>\n",
       "    <tr>\n",
       "      <th>0</th>\n",
       "      <td>BAURU/AREALVA</td>\n",
       "      <td>AZU</td>\n",
       "      <td>SBAE</td>\n",
       "      <td>AZUL</td>\n",
       "      <td>1</td>\n",
       "      <td>janeiro</td>\n",
       "      <td>Domingo</td>\n",
       "      <td>6</td>\n",
       "      <td>No horário</td>\n",
       "      <td>Vôo Atrasado</td>\n",
       "      <td>Fim de Semana</td>\n",
       "    </tr>\n",
       "    <tr>\n",
       "      <th>1</th>\n",
       "      <td>BAURU/AREALVA</td>\n",
       "      <td>AZU</td>\n",
       "      <td>SBAE</td>\n",
       "      <td>AZUL</td>\n",
       "      <td>1</td>\n",
       "      <td>janeiro</td>\n",
       "      <td>Domingo</td>\n",
       "      <td>6</td>\n",
       "      <td>No horário</td>\n",
       "      <td>Vôo Atrasado</td>\n",
       "      <td>Fim de Semana</td>\n",
       "    </tr>\n",
       "    <tr>\n",
       "      <th>2</th>\n",
       "      <td>BAURU/AREALVA</td>\n",
       "      <td>AZU</td>\n",
       "      <td>SBAE</td>\n",
       "      <td>AZUL</td>\n",
       "      <td>1</td>\n",
       "      <td>janeiro</td>\n",
       "      <td>Domingo</td>\n",
       "      <td>6</td>\n",
       "      <td>No horário</td>\n",
       "      <td>Vôo Atrasado</td>\n",
       "      <td>Fim de Semana</td>\n",
       "    </tr>\n",
       "    <tr>\n",
       "      <th>3</th>\n",
       "      <td>BAURU/AREALVA</td>\n",
       "      <td>AZU</td>\n",
       "      <td>SBAE</td>\n",
       "      <td>AZUL</td>\n",
       "      <td>1</td>\n",
       "      <td>janeiro</td>\n",
       "      <td>Domingo</td>\n",
       "      <td>6</td>\n",
       "      <td>No horário</td>\n",
       "      <td>Vôo Atrasado</td>\n",
       "      <td>Fim de Semana</td>\n",
       "    </tr>\n",
       "    <tr>\n",
       "      <th>4</th>\n",
       "      <td>BAURU/AREALVA</td>\n",
       "      <td>AZU</td>\n",
       "      <td>SBAE</td>\n",
       "      <td>AZUL</td>\n",
       "      <td>2</td>\n",
       "      <td>fevereiro</td>\n",
       "      <td>Sábado</td>\n",
       "      <td>5</td>\n",
       "      <td>No horário</td>\n",
       "      <td>Vôo Atrasado</td>\n",
       "      <td>Fim de Semana</td>\n",
       "    </tr>\n",
       "  </tbody>\n",
       "</table>\n",
       "</div>"
      ],
      "text/plain": [
       "  NOME_AEROPORTO_ORIGEM SIGLA_ICAO_EMPRESA_AEREA SIGLA_ICAO_AEROPORTO_ORIGEM  \\\n",
       "0         BAURU/AREALVA                      AZU                        SBAE   \n",
       "1         BAURU/AREALVA                      AZU                        SBAE   \n",
       "2         BAURU/AREALVA                      AZU                        SBAE   \n",
       "3         BAURU/AREALVA                      AZU                        SBAE   \n",
       "4         BAURU/AREALVA                      AZU                        SBAE   \n",
       "\n",
       "  NOME_EMPRESA  MES_PARTIDA_PREVISTA NOME_MES_PARTIDA_PREVISTA  \\\n",
       "0         AZUL                     1                   janeiro   \n",
       "1         AZUL                     1                   janeiro   \n",
       "2         AZUL                     1                   janeiro   \n",
       "3         AZUL                     1                   janeiro   \n",
       "4         AZUL                     2                 fevereiro   \n",
       "\n",
       "  DIA_DA_SEMANA_PARTIDA_PREVISTA  INDICE_SEMANA_PARTIDA_PREVISTA  \\\n",
       "0                        Domingo                               6   \n",
       "1                        Domingo                               6   \n",
       "2                        Domingo                               6   \n",
       "3                        Domingo                               6   \n",
       "4                         Sábado                               5   \n",
       "\n",
       "  FAIXA_ATRASO_PARTIDA FLAG_ATRASO_PARTIDA FLAG_FIM_SEMANA_PARTIDA_PREVISTA  \n",
       "0           No horário        Vôo Atrasado                    Fim de Semana  \n",
       "1           No horário        Vôo Atrasado                    Fim de Semana  \n",
       "2           No horário        Vôo Atrasado                    Fim de Semana  \n",
       "3           No horário        Vôo Atrasado                    Fim de Semana  \n",
       "4           No horário        Vôo Atrasado                    Fim de Semana  "
      ]
     },
     "execution_count": 98,
     "metadata": {},
     "output_type": "execute_result"
    }
   ],
   "source": [
    "dataframe = pd.read_parquet(caminho_base, columns=colunas)\n",
    "dataframe.head()"
   ]
  },
  {
   "cell_type": "code",
   "execution_count": 99,
   "metadata": {},
   "outputs": [
    {
     "name": "stdout",
     "output_type": "stream",
     "text": [
      "<class 'pandas.core.frame.DataFrame'>\n",
      "RangeIndex: 717357 entries, 0 to 717356\n",
      "Data columns (total 11 columns):\n",
      " #   Column                            Non-Null Count   Dtype   \n",
      "---  ------                            --------------   -----   \n",
      " 0   NOME_AEROPORTO_ORIGEM             717357 non-null  string  \n",
      " 1   SIGLA_ICAO_EMPRESA_AEREA          717357 non-null  string  \n",
      " 2   SIGLA_ICAO_AEROPORTO_ORIGEM       717357 non-null  string  \n",
      " 3   NOME_EMPRESA                      717357 non-null  string  \n",
      " 4   MES_PARTIDA_PREVISTA              717357 non-null  int32   \n",
      " 5   NOME_MES_PARTIDA_PREVISTA         717357 non-null  category\n",
      " 6   DIA_DA_SEMANA_PARTIDA_PREVISTA    717357 non-null  category\n",
      " 7   INDICE_SEMANA_PARTIDA_PREVISTA    717357 non-null  int32   \n",
      " 8   FAIXA_ATRASO_PARTIDA              717357 non-null  category\n",
      " 9   FLAG_ATRASO_PARTIDA               717357 non-null  string  \n",
      " 10  FLAG_FIM_SEMANA_PARTIDA_PREVISTA  717357 non-null  string  \n",
      "dtypes: category(3), int32(2), string(6)\n",
      "memory usage: 40.4 MB\n"
     ]
    }
   ],
   "source": [
    "dataframe.info()"
   ]
  },
  {
   "cell_type": "markdown",
   "metadata": {},
   "source": [
    "- Incidencia de atraso total por aeroporto (Análise por Flag)"
   ]
  },
  {
   "cell_type": "code",
   "execution_count": 100,
   "metadata": {},
   "outputs": [
    {
     "data": {
      "text/html": [
       "<div>\n",
       "<style scoped>\n",
       "    .dataframe tbody tr th:only-of-type {\n",
       "        vertical-align: middle;\n",
       "    }\n",
       "\n",
       "    .dataframe tbody tr th {\n",
       "        vertical-align: top;\n",
       "    }\n",
       "\n",
       "    .dataframe thead th {\n",
       "        text-align: right;\n",
       "    }\n",
       "</style>\n",
       "<table border=\"1\" class=\"dataframe\">\n",
       "  <thead>\n",
       "    <tr style=\"text-align: right;\">\n",
       "      <th></th>\n",
       "      <th>NOME_AEROPORTO_ORIGEM</th>\n",
       "      <th>SIGLA_ICAO_EMPRESA_AEREA</th>\n",
       "      <th>SIGLA_ICAO_AEROPORTO_ORIGEM</th>\n",
       "      <th>NOME_EMPRESA</th>\n",
       "      <th>MES_PARTIDA_PREVISTA</th>\n",
       "      <th>NOME_MES_PARTIDA_PREVISTA</th>\n",
       "      <th>DIA_DA_SEMANA_PARTIDA_PREVISTA</th>\n",
       "      <th>INDICE_SEMANA_PARTIDA_PREVISTA</th>\n",
       "      <th>FAIXA_ATRASO_PARTIDA</th>\n",
       "      <th>FLAG_ATRASO_PARTIDA</th>\n",
       "      <th>FLAG_FIM_SEMANA_PARTIDA_PREVISTA</th>\n",
       "    </tr>\n",
       "  </thead>\n",
       "  <tbody>\n",
       "    <tr>\n",
       "      <th>1992</th>\n",
       "      <td>LEITE LOPES</td>\n",
       "      <td>AZU</td>\n",
       "      <td>SBRP</td>\n",
       "      <td>AZUL</td>\n",
       "      <td>12</td>\n",
       "      <td>dezembro</td>\n",
       "      <td>Sábado</td>\n",
       "      <td>5</td>\n",
       "      <td>No horário</td>\n",
       "      <td>Vôo Atrasado</td>\n",
       "      <td>Fim de Semana</td>\n",
       "    </tr>\n",
       "    <tr>\n",
       "      <th>1993</th>\n",
       "      <td>LEITE LOPES</td>\n",
       "      <td>AZU</td>\n",
       "      <td>SBRP</td>\n",
       "      <td>AZUL</td>\n",
       "      <td>12</td>\n",
       "      <td>dezembro</td>\n",
       "      <td>Sábado</td>\n",
       "      <td>5</td>\n",
       "      <td>No horário</td>\n",
       "      <td>Vôo Atrasado</td>\n",
       "      <td>Fim de Semana</td>\n",
       "    </tr>\n",
       "    <tr>\n",
       "      <th>1994</th>\n",
       "      <td>LEITE LOPES</td>\n",
       "      <td>AZU</td>\n",
       "      <td>SBRP</td>\n",
       "      <td>AZUL</td>\n",
       "      <td>12</td>\n",
       "      <td>dezembro</td>\n",
       "      <td>Domingo</td>\n",
       "      <td>6</td>\n",
       "      <td>No horário</td>\n",
       "      <td>Vôo no horário</td>\n",
       "      <td>Fim de Semana</td>\n",
       "    </tr>\n",
       "    <tr>\n",
       "      <th>1995</th>\n",
       "      <td>LEITE LOPES</td>\n",
       "      <td>AZU</td>\n",
       "      <td>SBRP</td>\n",
       "      <td>AZUL</td>\n",
       "      <td>12</td>\n",
       "      <td>dezembro</td>\n",
       "      <td>Sábado</td>\n",
       "      <td>5</td>\n",
       "      <td>No horário</td>\n",
       "      <td>Vôo Atrasado</td>\n",
       "      <td>Fim de Semana</td>\n",
       "    </tr>\n",
       "    <tr>\n",
       "      <th>1996</th>\n",
       "      <td>LEITE LOPES</td>\n",
       "      <td>AZU</td>\n",
       "      <td>SBRP</td>\n",
       "      <td>AZUL</td>\n",
       "      <td>12</td>\n",
       "      <td>dezembro</td>\n",
       "      <td>Sábado</td>\n",
       "      <td>5</td>\n",
       "      <td>No horário</td>\n",
       "      <td>Vôo Atrasado</td>\n",
       "      <td>Fim de Semana</td>\n",
       "    </tr>\n",
       "  </tbody>\n",
       "</table>\n",
       "</div>"
      ],
      "text/plain": [
       "     NOME_AEROPORTO_ORIGEM SIGLA_ICAO_EMPRESA_AEREA  \\\n",
       "1992           LEITE LOPES                      AZU   \n",
       "1993           LEITE LOPES                      AZU   \n",
       "1994           LEITE LOPES                      AZU   \n",
       "1995           LEITE LOPES                      AZU   \n",
       "1996           LEITE LOPES                      AZU   \n",
       "\n",
       "     SIGLA_ICAO_AEROPORTO_ORIGEM NOME_EMPRESA  MES_PARTIDA_PREVISTA  \\\n",
       "1992                        SBRP         AZUL                    12   \n",
       "1993                        SBRP         AZUL                    12   \n",
       "1994                        SBRP         AZUL                    12   \n",
       "1995                        SBRP         AZUL                    12   \n",
       "1996                        SBRP         AZUL                    12   \n",
       "\n",
       "     NOME_MES_PARTIDA_PREVISTA DIA_DA_SEMANA_PARTIDA_PREVISTA  \\\n",
       "1992                  dezembro                         Sábado   \n",
       "1993                  dezembro                         Sábado   \n",
       "1994                  dezembro                        Domingo   \n",
       "1995                  dezembro                         Sábado   \n",
       "1996                  dezembro                         Sábado   \n",
       "\n",
       "      INDICE_SEMANA_PARTIDA_PREVISTA FAIXA_ATRASO_PARTIDA FLAG_ATRASO_PARTIDA  \\\n",
       "1992                               5           No horário        Vôo Atrasado   \n",
       "1993                               5           No horário        Vôo Atrasado   \n",
       "1994                               6           No horário      Vôo no horário   \n",
       "1995                               5           No horário        Vôo Atrasado   \n",
       "1996                               5           No horário        Vôo Atrasado   \n",
       "\n",
       "     FLAG_FIM_SEMANA_PARTIDA_PREVISTA  \n",
       "1992                    Fim de Semana  \n",
       "1993                    Fim de Semana  \n",
       "1994                    Fim de Semana  \n",
       "1995                    Fim de Semana  \n",
       "1996                    Fim de Semana  "
      ]
     },
     "execution_count": 100,
     "metadata": {},
     "output_type": "execute_result"
    }
   ],
   "source": [
    "dataframe = dataframe.query('SIGLA_ICAO_AEROPORTO_ORIGEM == \"SBRP\"  and MES_PARTIDA_PREVISTA == 12')\n",
    "# dataframe = dataframe.query('SIGLA_ICAO_AEROPORTO_ORIGEM == \"SBRP\" and SIGLA_ICAO_EMPRESA_AEREA == \"AZU\"  and MES_PARTIDA_PREVISTA == 1')\n",
    "dataframe.head()"
   ]
  },
  {
   "cell_type": "code",
   "execution_count": 101,
   "metadata": {},
   "outputs": [
    {
     "name": "stdout",
     "output_type": "stream",
     "text": [
      "<class 'pandas.core.frame.DataFrame'>\n",
      "Index: 413 entries, 1992 to 705207\n",
      "Data columns (total 11 columns):\n",
      " #   Column                            Non-Null Count  Dtype   \n",
      "---  ------                            --------------  -----   \n",
      " 0   NOME_AEROPORTO_ORIGEM             413 non-null    string  \n",
      " 1   SIGLA_ICAO_EMPRESA_AEREA          413 non-null    string  \n",
      " 2   SIGLA_ICAO_AEROPORTO_ORIGEM       413 non-null    string  \n",
      " 3   NOME_EMPRESA                      413 non-null    string  \n",
      " 4   MES_PARTIDA_PREVISTA              413 non-null    int32   \n",
      " 5   NOME_MES_PARTIDA_PREVISTA         413 non-null    category\n",
      " 6   DIA_DA_SEMANA_PARTIDA_PREVISTA    413 non-null    category\n",
      " 7   INDICE_SEMANA_PARTIDA_PREVISTA    413 non-null    int32   \n",
      " 8   FAIXA_ATRASO_PARTIDA              413 non-null    category\n",
      " 9   FLAG_ATRASO_PARTIDA               413 non-null    string  \n",
      " 10  FLAG_FIM_SEMANA_PARTIDA_PREVISTA  413 non-null    string  \n",
      "dtypes: category(3), int32(2), string(6)\n",
      "memory usage: 28.0 KB\n"
     ]
    }
   ],
   "source": [
    "dataframe.info()"
   ]
  },
  {
   "cell_type": "code",
   "execution_count": 102,
   "metadata": {},
   "outputs": [],
   "source": [
    "dataframe[['NOME_MES_PARTIDA_PREVISTA', 'DIA_DA_SEMANA_PARTIDA_PREVISTA', 'FAIXA_ATRASO_PARTIDA']] = dataframe[['NOME_MES_PARTIDA_PREVISTA', 'DIA_DA_SEMANA_PARTIDA_PREVISTA', 'FAIXA_ATRASO_PARTIDA']].astype('string')"
   ]
  },
  {
   "cell_type": "code",
   "execution_count": 103,
   "metadata": {},
   "outputs": [
    {
     "name": "stdout",
     "output_type": "stream",
     "text": [
      "<class 'pandas.core.frame.DataFrame'>\n",
      "Index: 413 entries, 1992 to 705207\n",
      "Data columns (total 11 columns):\n",
      " #   Column                            Non-Null Count  Dtype \n",
      "---  ------                            --------------  ----- \n",
      " 0   NOME_AEROPORTO_ORIGEM             413 non-null    string\n",
      " 1   SIGLA_ICAO_EMPRESA_AEREA          413 non-null    string\n",
      " 2   SIGLA_ICAO_AEROPORTO_ORIGEM       413 non-null    string\n",
      " 3   NOME_EMPRESA                      413 non-null    string\n",
      " 4   MES_PARTIDA_PREVISTA              413 non-null    int32 \n",
      " 5   NOME_MES_PARTIDA_PREVISTA         413 non-null    string\n",
      " 6   DIA_DA_SEMANA_PARTIDA_PREVISTA    413 non-null    string\n",
      " 7   INDICE_SEMANA_PARTIDA_PREVISTA    413 non-null    int32 \n",
      " 8   FAIXA_ATRASO_PARTIDA              413 non-null    string\n",
      " 9   FLAG_ATRASO_PARTIDA               413 non-null    string\n",
      " 10  FLAG_FIM_SEMANA_PARTIDA_PREVISTA  413 non-null    string\n",
      "dtypes: int32(2), string(9)\n",
      "memory usage: 35.5 KB\n"
     ]
    }
   ],
   "source": [
    "dataframe.info()"
   ]
  },
  {
   "cell_type": "code",
   "execution_count": 104,
   "metadata": {},
   "outputs": [],
   "source": [
    "dataframe = dataframe.groupby(['FLAG_ATRASO_PARTIDA', 'FLAG_FIM_SEMANA_PARTIDA_PREVISTA' ]).agg(\n",
    "    TOTAL_INCIDENCIA=('FLAG_ATRASO_PARTIDA', 'count')\n",
    ").reset_index()\n"
   ]
  },
  {
   "cell_type": "code",
   "execution_count": 105,
   "metadata": {},
   "outputs": [
    {
     "data": {
      "text/html": [
       "<div>\n",
       "<style scoped>\n",
       "    .dataframe tbody tr th:only-of-type {\n",
       "        vertical-align: middle;\n",
       "    }\n",
       "\n",
       "    .dataframe tbody tr th {\n",
       "        vertical-align: top;\n",
       "    }\n",
       "\n",
       "    .dataframe thead th {\n",
       "        text-align: right;\n",
       "    }\n",
       "</style>\n",
       "<table border=\"1\" class=\"dataframe\">\n",
       "  <thead>\n",
       "    <tr style=\"text-align: right;\">\n",
       "      <th></th>\n",
       "      <th>FLAG_ATRASO_PARTIDA</th>\n",
       "      <th>FLAG_FIM_SEMANA_PARTIDA_PREVISTA</th>\n",
       "      <th>TOTAL_INCIDENCIA</th>\n",
       "    </tr>\n",
       "  </thead>\n",
       "  <tbody>\n",
       "    <tr>\n",
       "      <th>0</th>\n",
       "      <td>Vôo Atrasado</td>\n",
       "      <td>Dia Útil</td>\n",
       "      <td>151</td>\n",
       "    </tr>\n",
       "    <tr>\n",
       "      <th>1</th>\n",
       "      <td>Vôo Atrasado</td>\n",
       "      <td>Fim de Semana</td>\n",
       "      <td>72</td>\n",
       "    </tr>\n",
       "    <tr>\n",
       "      <th>2</th>\n",
       "      <td>Vôo no horário</td>\n",
       "      <td>Dia Útil</td>\n",
       "      <td>150</td>\n",
       "    </tr>\n",
       "    <tr>\n",
       "      <th>3</th>\n",
       "      <td>Vôo no horário</td>\n",
       "      <td>Fim de Semana</td>\n",
       "      <td>40</td>\n",
       "    </tr>\n",
       "  </tbody>\n",
       "</table>\n",
       "</div>"
      ],
      "text/plain": [
       "  FLAG_ATRASO_PARTIDA FLAG_FIM_SEMANA_PARTIDA_PREVISTA  TOTAL_INCIDENCIA\n",
       "0        Vôo Atrasado                         Dia Útil               151\n",
       "1        Vôo Atrasado                    Fim de Semana                72\n",
       "2      Vôo no horário                         Dia Útil               150\n",
       "3      Vôo no horário                    Fim de Semana                40"
      ]
     },
     "execution_count": 105,
     "metadata": {},
     "output_type": "execute_result"
    }
   ],
   "source": [
    "dataframe"
   ]
  },
  {
   "cell_type": "code",
   "execution_count": 106,
   "metadata": {},
   "outputs": [
    {
     "data": {
      "text/plain": [
       "0    223\n",
       "1    223\n",
       "2    190\n",
       "3    190\n",
       "Name: TOTAL_INCIDENCIA, dtype: int64"
      ]
     },
     "execution_count": 106,
     "metadata": {},
     "output_type": "execute_result"
    }
   ],
   "source": [
    "dataframe.groupby('FLAG_ATRASO_PARTIDA')['TOTAL_INCIDENCIA'].transform('sum')"
   ]
  },
  {
   "cell_type": "code",
   "execution_count": 107,
   "metadata": {},
   "outputs": [],
   "source": [
    "dataframe['TOTAL_INCIDENCIA_GERAL'] = dataframe.groupby('FLAG_ATRASO_PARTIDA')['TOTAL_INCIDENCIA'].transform('sum')"
   ]
  },
  {
   "cell_type": "code",
   "execution_count": 109,
   "metadata": {},
   "outputs": [],
   "source": [
    "dataframe['PERCENTUAL_INCIDENCIA'] = round((dataframe['TOTAL_INCIDENCIA'] * 100) / dataframe['TOTAL_INCIDENCIA_GERAL'], 2)"
   ]
  },
  {
   "cell_type": "code",
   "execution_count": 110,
   "metadata": {},
   "outputs": [
    {
     "data": {
      "text/html": [
       "<div>\n",
       "<style scoped>\n",
       "    .dataframe tbody tr th:only-of-type {\n",
       "        vertical-align: middle;\n",
       "    }\n",
       "\n",
       "    .dataframe tbody tr th {\n",
       "        vertical-align: top;\n",
       "    }\n",
       "\n",
       "    .dataframe thead th {\n",
       "        text-align: right;\n",
       "    }\n",
       "</style>\n",
       "<table border=\"1\" class=\"dataframe\">\n",
       "  <thead>\n",
       "    <tr style=\"text-align: right;\">\n",
       "      <th></th>\n",
       "      <th>FLAG_ATRASO_PARTIDA</th>\n",
       "      <th>FLAG_FIM_SEMANA_PARTIDA_PREVISTA</th>\n",
       "      <th>TOTAL_INCIDENCIA</th>\n",
       "      <th>TOTAL_INCIDENCIA_GERAL</th>\n",
       "      <th>PERCENTUAL_INCIDENCIA</th>\n",
       "    </tr>\n",
       "  </thead>\n",
       "  <tbody>\n",
       "    <tr>\n",
       "      <th>0</th>\n",
       "      <td>Vôo Atrasado</td>\n",
       "      <td>Dia Útil</td>\n",
       "      <td>151</td>\n",
       "      <td>223</td>\n",
       "      <td>67.71</td>\n",
       "    </tr>\n",
       "    <tr>\n",
       "      <th>1</th>\n",
       "      <td>Vôo Atrasado</td>\n",
       "      <td>Fim de Semana</td>\n",
       "      <td>72</td>\n",
       "      <td>223</td>\n",
       "      <td>32.29</td>\n",
       "    </tr>\n",
       "    <tr>\n",
       "      <th>2</th>\n",
       "      <td>Vôo no horário</td>\n",
       "      <td>Dia Útil</td>\n",
       "      <td>150</td>\n",
       "      <td>190</td>\n",
       "      <td>78.95</td>\n",
       "    </tr>\n",
       "    <tr>\n",
       "      <th>3</th>\n",
       "      <td>Vôo no horário</td>\n",
       "      <td>Fim de Semana</td>\n",
       "      <td>40</td>\n",
       "      <td>190</td>\n",
       "      <td>21.05</td>\n",
       "    </tr>\n",
       "  </tbody>\n",
       "</table>\n",
       "</div>"
      ],
      "text/plain": [
       "  FLAG_ATRASO_PARTIDA FLAG_FIM_SEMANA_PARTIDA_PREVISTA  TOTAL_INCIDENCIA  \\\n",
       "0        Vôo Atrasado                         Dia Útil               151   \n",
       "1        Vôo Atrasado                    Fim de Semana                72   \n",
       "2      Vôo no horário                         Dia Útil               150   \n",
       "3      Vôo no horário                    Fim de Semana                40   \n",
       "\n",
       "   TOTAL_INCIDENCIA_GERAL  PERCENTUAL_INCIDENCIA  \n",
       "0                     223                  67.71  \n",
       "1                     223                  32.29  \n",
       "2                     190                  78.95  \n",
       "3                     190                  21.05  "
      ]
     },
     "execution_count": 110,
     "metadata": {},
     "output_type": "execute_result"
    }
   ],
   "source": [
    "dataframe"
   ]
  },
  {
   "cell_type": "code",
   "execution_count": 111,
   "metadata": {},
   "outputs": [
    {
     "data": {
      "application/vnd.plotly.v1+json": {
       "config": {
        "plotlyServerURL": "https://plot.ly"
       },
       "data": [
        {
         "alignmentgroup": "True",
         "hovertemplate": "FLAG_ATRASO_PARTIDA=Vôo Atrasado<br>TOTAL_INCIDENCIA=%{x}<br>FLAG_FIM_SEMANA_PARTIDA_PREVISTA=%{y}<extra></extra>",
         "legendgroup": "Vôo Atrasado",
         "marker": {
          "color": "#636efa",
          "pattern": {
           "shape": ""
          }
         },
         "name": "Vôo Atrasado",
         "offsetgroup": "Vôo Atrasado",
         "orientation": "h",
         "showlegend": true,
         "textposition": "auto",
         "type": "bar",
         "x": [
          151,
          72
         ],
         "xaxis": "x",
         "y": [
          "Dia Útil",
          "Fim de Semana"
         ],
         "yaxis": "y"
        },
        {
         "alignmentgroup": "True",
         "hovertemplate": "FLAG_ATRASO_PARTIDA=Vôo no horário<br>TOTAL_INCIDENCIA=%{x}<br>FLAG_FIM_SEMANA_PARTIDA_PREVISTA=%{y}<extra></extra>",
         "legendgroup": "Vôo no horário",
         "marker": {
          "color": "#EF553B",
          "pattern": {
           "shape": ""
          }
         },
         "name": "Vôo no horário",
         "offsetgroup": "Vôo no horário",
         "orientation": "h",
         "showlegend": true,
         "textposition": "auto",
         "type": "bar",
         "x": [
          150,
          40
         ],
         "xaxis": "x",
         "y": [
          "Dia Útil",
          "Fim de Semana"
         ],
         "yaxis": "y"
        }
       ],
       "layout": {
        "barmode": "group",
        "legend": {
         "title": {
          "text": "FLAG_ATRASO_PARTIDA"
         },
         "tracegroupgap": 0
        },
        "margin": {
         "t": 60
        },
        "template": {
         "data": {
          "bar": [
           {
            "error_x": {
             "color": "#2a3f5f"
            },
            "error_y": {
             "color": "#2a3f5f"
            },
            "marker": {
             "line": {
              "color": "#E5ECF6",
              "width": 0.5
             },
             "pattern": {
              "fillmode": "overlay",
              "size": 10,
              "solidity": 0.2
             }
            },
            "type": "bar"
           }
          ],
          "barpolar": [
           {
            "marker": {
             "line": {
              "color": "#E5ECF6",
              "width": 0.5
             },
             "pattern": {
              "fillmode": "overlay",
              "size": 10,
              "solidity": 0.2
             }
            },
            "type": "barpolar"
           }
          ],
          "carpet": [
           {
            "aaxis": {
             "endlinecolor": "#2a3f5f",
             "gridcolor": "white",
             "linecolor": "white",
             "minorgridcolor": "white",
             "startlinecolor": "#2a3f5f"
            },
            "baxis": {
             "endlinecolor": "#2a3f5f",
             "gridcolor": "white",
             "linecolor": "white",
             "minorgridcolor": "white",
             "startlinecolor": "#2a3f5f"
            },
            "type": "carpet"
           }
          ],
          "choropleth": [
           {
            "colorbar": {
             "outlinewidth": 0,
             "ticks": ""
            },
            "type": "choropleth"
           }
          ],
          "contour": [
           {
            "colorbar": {
             "outlinewidth": 0,
             "ticks": ""
            },
            "colorscale": [
             [
              0,
              "#0d0887"
             ],
             [
              0.1111111111111111,
              "#46039f"
             ],
             [
              0.2222222222222222,
              "#7201a8"
             ],
             [
              0.3333333333333333,
              "#9c179e"
             ],
             [
              0.4444444444444444,
              "#bd3786"
             ],
             [
              0.5555555555555556,
              "#d8576b"
             ],
             [
              0.6666666666666666,
              "#ed7953"
             ],
             [
              0.7777777777777778,
              "#fb9f3a"
             ],
             [
              0.8888888888888888,
              "#fdca26"
             ],
             [
              1,
              "#f0f921"
             ]
            ],
            "type": "contour"
           }
          ],
          "contourcarpet": [
           {
            "colorbar": {
             "outlinewidth": 0,
             "ticks": ""
            },
            "type": "contourcarpet"
           }
          ],
          "heatmap": [
           {
            "colorbar": {
             "outlinewidth": 0,
             "ticks": ""
            },
            "colorscale": [
             [
              0,
              "#0d0887"
             ],
             [
              0.1111111111111111,
              "#46039f"
             ],
             [
              0.2222222222222222,
              "#7201a8"
             ],
             [
              0.3333333333333333,
              "#9c179e"
             ],
             [
              0.4444444444444444,
              "#bd3786"
             ],
             [
              0.5555555555555556,
              "#d8576b"
             ],
             [
              0.6666666666666666,
              "#ed7953"
             ],
             [
              0.7777777777777778,
              "#fb9f3a"
             ],
             [
              0.8888888888888888,
              "#fdca26"
             ],
             [
              1,
              "#f0f921"
             ]
            ],
            "type": "heatmap"
           }
          ],
          "heatmapgl": [
           {
            "colorbar": {
             "outlinewidth": 0,
             "ticks": ""
            },
            "colorscale": [
             [
              0,
              "#0d0887"
             ],
             [
              0.1111111111111111,
              "#46039f"
             ],
             [
              0.2222222222222222,
              "#7201a8"
             ],
             [
              0.3333333333333333,
              "#9c179e"
             ],
             [
              0.4444444444444444,
              "#bd3786"
             ],
             [
              0.5555555555555556,
              "#d8576b"
             ],
             [
              0.6666666666666666,
              "#ed7953"
             ],
             [
              0.7777777777777778,
              "#fb9f3a"
             ],
             [
              0.8888888888888888,
              "#fdca26"
             ],
             [
              1,
              "#f0f921"
             ]
            ],
            "type": "heatmapgl"
           }
          ],
          "histogram": [
           {
            "marker": {
             "pattern": {
              "fillmode": "overlay",
              "size": 10,
              "solidity": 0.2
             }
            },
            "type": "histogram"
           }
          ],
          "histogram2d": [
           {
            "colorbar": {
             "outlinewidth": 0,
             "ticks": ""
            },
            "colorscale": [
             [
              0,
              "#0d0887"
             ],
             [
              0.1111111111111111,
              "#46039f"
             ],
             [
              0.2222222222222222,
              "#7201a8"
             ],
             [
              0.3333333333333333,
              "#9c179e"
             ],
             [
              0.4444444444444444,
              "#bd3786"
             ],
             [
              0.5555555555555556,
              "#d8576b"
             ],
             [
              0.6666666666666666,
              "#ed7953"
             ],
             [
              0.7777777777777778,
              "#fb9f3a"
             ],
             [
              0.8888888888888888,
              "#fdca26"
             ],
             [
              1,
              "#f0f921"
             ]
            ],
            "type": "histogram2d"
           }
          ],
          "histogram2dcontour": [
           {
            "colorbar": {
             "outlinewidth": 0,
             "ticks": ""
            },
            "colorscale": [
             [
              0,
              "#0d0887"
             ],
             [
              0.1111111111111111,
              "#46039f"
             ],
             [
              0.2222222222222222,
              "#7201a8"
             ],
             [
              0.3333333333333333,
              "#9c179e"
             ],
             [
              0.4444444444444444,
              "#bd3786"
             ],
             [
              0.5555555555555556,
              "#d8576b"
             ],
             [
              0.6666666666666666,
              "#ed7953"
             ],
             [
              0.7777777777777778,
              "#fb9f3a"
             ],
             [
              0.8888888888888888,
              "#fdca26"
             ],
             [
              1,
              "#f0f921"
             ]
            ],
            "type": "histogram2dcontour"
           }
          ],
          "mesh3d": [
           {
            "colorbar": {
             "outlinewidth": 0,
             "ticks": ""
            },
            "type": "mesh3d"
           }
          ],
          "parcoords": [
           {
            "line": {
             "colorbar": {
              "outlinewidth": 0,
              "ticks": ""
             }
            },
            "type": "parcoords"
           }
          ],
          "pie": [
           {
            "automargin": true,
            "type": "pie"
           }
          ],
          "scatter": [
           {
            "fillpattern": {
             "fillmode": "overlay",
             "size": 10,
             "solidity": 0.2
            },
            "type": "scatter"
           }
          ],
          "scatter3d": [
           {
            "line": {
             "colorbar": {
              "outlinewidth": 0,
              "ticks": ""
             }
            },
            "marker": {
             "colorbar": {
              "outlinewidth": 0,
              "ticks": ""
             }
            },
            "type": "scatter3d"
           }
          ],
          "scattercarpet": [
           {
            "marker": {
             "colorbar": {
              "outlinewidth": 0,
              "ticks": ""
             }
            },
            "type": "scattercarpet"
           }
          ],
          "scattergeo": [
           {
            "marker": {
             "colorbar": {
              "outlinewidth": 0,
              "ticks": ""
             }
            },
            "type": "scattergeo"
           }
          ],
          "scattergl": [
           {
            "marker": {
             "colorbar": {
              "outlinewidth": 0,
              "ticks": ""
             }
            },
            "type": "scattergl"
           }
          ],
          "scattermapbox": [
           {
            "marker": {
             "colorbar": {
              "outlinewidth": 0,
              "ticks": ""
             }
            },
            "type": "scattermapbox"
           }
          ],
          "scatterpolar": [
           {
            "marker": {
             "colorbar": {
              "outlinewidth": 0,
              "ticks": ""
             }
            },
            "type": "scatterpolar"
           }
          ],
          "scatterpolargl": [
           {
            "marker": {
             "colorbar": {
              "outlinewidth": 0,
              "ticks": ""
             }
            },
            "type": "scatterpolargl"
           }
          ],
          "scatterternary": [
           {
            "marker": {
             "colorbar": {
              "outlinewidth": 0,
              "ticks": ""
             }
            },
            "type": "scatterternary"
           }
          ],
          "surface": [
           {
            "colorbar": {
             "outlinewidth": 0,
             "ticks": ""
            },
            "colorscale": [
             [
              0,
              "#0d0887"
             ],
             [
              0.1111111111111111,
              "#46039f"
             ],
             [
              0.2222222222222222,
              "#7201a8"
             ],
             [
              0.3333333333333333,
              "#9c179e"
             ],
             [
              0.4444444444444444,
              "#bd3786"
             ],
             [
              0.5555555555555556,
              "#d8576b"
             ],
             [
              0.6666666666666666,
              "#ed7953"
             ],
             [
              0.7777777777777778,
              "#fb9f3a"
             ],
             [
              0.8888888888888888,
              "#fdca26"
             ],
             [
              1,
              "#f0f921"
             ]
            ],
            "type": "surface"
           }
          ],
          "table": [
           {
            "cells": {
             "fill": {
              "color": "#EBF0F8"
             },
             "line": {
              "color": "white"
             }
            },
            "header": {
             "fill": {
              "color": "#C8D4E3"
             },
             "line": {
              "color": "white"
             }
            },
            "type": "table"
           }
          ]
         },
         "layout": {
          "annotationdefaults": {
           "arrowcolor": "#2a3f5f",
           "arrowhead": 0,
           "arrowwidth": 1
          },
          "autotypenumbers": "strict",
          "coloraxis": {
           "colorbar": {
            "outlinewidth": 0,
            "ticks": ""
           }
          },
          "colorscale": {
           "diverging": [
            [
             0,
             "#8e0152"
            ],
            [
             0.1,
             "#c51b7d"
            ],
            [
             0.2,
             "#de77ae"
            ],
            [
             0.3,
             "#f1b6da"
            ],
            [
             0.4,
             "#fde0ef"
            ],
            [
             0.5,
             "#f7f7f7"
            ],
            [
             0.6,
             "#e6f5d0"
            ],
            [
             0.7,
             "#b8e186"
            ],
            [
             0.8,
             "#7fbc41"
            ],
            [
             0.9,
             "#4d9221"
            ],
            [
             1,
             "#276419"
            ]
           ],
           "sequential": [
            [
             0,
             "#0d0887"
            ],
            [
             0.1111111111111111,
             "#46039f"
            ],
            [
             0.2222222222222222,
             "#7201a8"
            ],
            [
             0.3333333333333333,
             "#9c179e"
            ],
            [
             0.4444444444444444,
             "#bd3786"
            ],
            [
             0.5555555555555556,
             "#d8576b"
            ],
            [
             0.6666666666666666,
             "#ed7953"
            ],
            [
             0.7777777777777778,
             "#fb9f3a"
            ],
            [
             0.8888888888888888,
             "#fdca26"
            ],
            [
             1,
             "#f0f921"
            ]
           ],
           "sequentialminus": [
            [
             0,
             "#0d0887"
            ],
            [
             0.1111111111111111,
             "#46039f"
            ],
            [
             0.2222222222222222,
             "#7201a8"
            ],
            [
             0.3333333333333333,
             "#9c179e"
            ],
            [
             0.4444444444444444,
             "#bd3786"
            ],
            [
             0.5555555555555556,
             "#d8576b"
            ],
            [
             0.6666666666666666,
             "#ed7953"
            ],
            [
             0.7777777777777778,
             "#fb9f3a"
            ],
            [
             0.8888888888888888,
             "#fdca26"
            ],
            [
             1,
             "#f0f921"
            ]
           ]
          },
          "colorway": [
           "#636efa",
           "#EF553B",
           "#00cc96",
           "#ab63fa",
           "#FFA15A",
           "#19d3f3",
           "#FF6692",
           "#B6E880",
           "#FF97FF",
           "#FECB52"
          ],
          "font": {
           "color": "#2a3f5f"
          },
          "geo": {
           "bgcolor": "white",
           "lakecolor": "white",
           "landcolor": "#E5ECF6",
           "showlakes": true,
           "showland": true,
           "subunitcolor": "white"
          },
          "hoverlabel": {
           "align": "left"
          },
          "hovermode": "closest",
          "mapbox": {
           "style": "light"
          },
          "paper_bgcolor": "white",
          "plot_bgcolor": "#E5ECF6",
          "polar": {
           "angularaxis": {
            "gridcolor": "white",
            "linecolor": "white",
            "ticks": ""
           },
           "bgcolor": "#E5ECF6",
           "radialaxis": {
            "gridcolor": "white",
            "linecolor": "white",
            "ticks": ""
           }
          },
          "scene": {
           "xaxis": {
            "backgroundcolor": "#E5ECF6",
            "gridcolor": "white",
            "gridwidth": 2,
            "linecolor": "white",
            "showbackground": true,
            "ticks": "",
            "zerolinecolor": "white"
           },
           "yaxis": {
            "backgroundcolor": "#E5ECF6",
            "gridcolor": "white",
            "gridwidth": 2,
            "linecolor": "white",
            "showbackground": true,
            "ticks": "",
            "zerolinecolor": "white"
           },
           "zaxis": {
            "backgroundcolor": "#E5ECF6",
            "gridcolor": "white",
            "gridwidth": 2,
            "linecolor": "white",
            "showbackground": true,
            "ticks": "",
            "zerolinecolor": "white"
           }
          },
          "shapedefaults": {
           "line": {
            "color": "#2a3f5f"
           }
          },
          "ternary": {
           "aaxis": {
            "gridcolor": "white",
            "linecolor": "white",
            "ticks": ""
           },
           "baxis": {
            "gridcolor": "white",
            "linecolor": "white",
            "ticks": ""
           },
           "bgcolor": "#E5ECF6",
           "caxis": {
            "gridcolor": "white",
            "linecolor": "white",
            "ticks": ""
           }
          },
          "title": {
           "x": 0.05
          },
          "xaxis": {
           "automargin": true,
           "gridcolor": "white",
           "linecolor": "white",
           "ticks": "",
           "title": {
            "standoff": 15
           },
           "zerolinecolor": "white",
           "zerolinewidth": 2
          },
          "yaxis": {
           "automargin": true,
           "gridcolor": "white",
           "linecolor": "white",
           "ticks": "",
           "title": {
            "standoff": 15
           },
           "zerolinecolor": "white",
           "zerolinewidth": 2
          }
         }
        },
        "xaxis": {
         "anchor": "y",
         "domain": [
          0,
          1
         ],
         "title": {
          "text": "TOTAL_INCIDENCIA"
         }
        },
        "yaxis": {
         "anchor": "x",
         "domain": [
          0,
          1
         ],
         "title": {
          "text": "FLAG_FIM_SEMANA_PARTIDA_PREVISTA"
         }
        }
       }
      }
     },
     "metadata": {},
     "output_type": "display_data"
    }
   ],
   "source": [
    "fig = px.bar(\n",
    "    dataframe,\n",
    "    x='TOTAL_INCIDENCIA',\n",
    "    y='FLAG_FIM_SEMANA_PARTIDA_PREVISTA',\n",
    "    color='FLAG_ATRASO_PARTIDA',\n",
    "    barmode='group'\n",
    ")\n",
    "fig.show()"
   ]
  },
  {
   "cell_type": "markdown",
   "metadata": {},
   "source": [
    "<p> Pode ser análisado a incidencia por aeroporto também</p>\n",
    "<p>Detalhe por semana também</p>\n",
    "<p>Eu tenho 3000 vôos que partiram no horário 50%(1500) da empresa A e 50% da empresa B</p>"
   ]
  },
  {
   "cell_type": "markdown",
   "metadata": {},
   "source": [
    "<p> - Analise a FAIXA_ATRASO_CHEGADA por aeroporto e empresa por dia de semana e por mês </p>\n",
    "<p> O volume de atraso no fim de semana, é maior ou menor em relação ao dia atual</p>\n",
    "<p> Pode ser análisado a incidencia por aeroporto também</p>\n",
    "<p>Detalhe por semana também</p>\n",
    "<p>Eu tenho 3000 vôos que partiram no horário 50%(1500) da empresa A e 50% da empresa B</p>\n"
   ]
  },
  {
   "cell_type": "markdown",
   "metadata": {},
   "source": [
    "<p> Ranking por FAIXA_ATRASO_CHEGADA selecionando aeroporto  por mês e empresa</p>"
   ]
  },
  {
   "cell_type": "markdown",
   "metadata": {},
   "source": [
    "<p> Ranking por FAIXA_ATRASO_SAIDA selecionando aeroporto em empresa por mês</p>"
   ]
  },
  {
   "cell_type": "markdown",
   "metadata": {},
   "source": [
    "<p> Quantifique a porcentagem por FAIXA_ATRASO_CHEGADA selecionando aeroportoa por mês</p>"
   ]
  },
  {
   "cell_type": "markdown",
   "metadata": {},
   "source": [
    "<p> Quantifique a porcentagem por FAIXA_ATRASO_PARTIFA selecionando aeroporto  por mês</p>"
   ]
  }
 ],
 "metadata": {
  "kernelspec": {
   "display_name": "venv",
   "language": "python",
   "name": "python3"
  },
  "language_info": {
   "codemirror_mode": {
    "name": "ipython",
    "version": 3
   },
   "file_extension": ".py",
   "mimetype": "text/x-python",
   "name": "python",
   "nbconvert_exporter": "python",
   "pygments_lexer": "ipython3",
   "version": "3.10.11"
  }
 },
 "nbformat": 4,
 "nbformat_minor": 2
}
