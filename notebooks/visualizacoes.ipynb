{
 "cells": [
  {
   "cell_type": "code",
   "execution_count": 1,
   "metadata": {},
   "outputs": [],
   "source": [
    "import pandas as pd\n",
    "import plotly.express as px\n",
    "import plotly.graph_objects as go\n",
    "import plotly.figure_factory as ff\n",
    "from typing import List"
   ]
  },
  {
   "cell_type": "code",
   "execution_count": 2,
   "metadata": {},
   "outputs": [],
   "source": [
    "caminho_base = '../data/processed/df_processed_v2.parquet'"
   ]
  },
  {
   "cell_type": "code",
   "execution_count": 3,
   "metadata": {},
   "outputs": [],
   "source": [
    "base_completa = pd.read_parquet(caminho_base)"
   ]
  },
  {
   "cell_type": "code",
   "execution_count": 4,
   "metadata": {},
   "outputs": [
    {
     "data": {
      "text/html": [
       "<div>\n",
       "<style scoped>\n",
       "    .dataframe tbody tr th:only-of-type {\n",
       "        vertical-align: middle;\n",
       "    }\n",
       "\n",
       "    .dataframe tbody tr th {\n",
       "        vertical-align: top;\n",
       "    }\n",
       "\n",
       "    .dataframe thead th {\n",
       "        text-align: right;\n",
       "    }\n",
       "</style>\n",
       "<table border=\"1\" class=\"dataframe\">\n",
       "  <thead>\n",
       "    <tr style=\"text-align: right;\">\n",
       "      <th></th>\n",
       "      <th>NOME_AEROPORTO_ORIGEM</th>\n",
       "      <th>CIDADE_AEROPORTO_ORIGEM</th>\n",
       "      <th>UF_AEROPORTO_ORIGEM</th>\n",
       "      <th>SIGLA_ICAO_EMPRESA_AEREA</th>\n",
       "      <th>NUMERO_VOO</th>\n",
       "      <th>CODIGO_TIPO_LINHA</th>\n",
       "      <th>SIGLA_ICAO_AEROPORTO_ORIGEM</th>\n",
       "      <th>SIGLA_ICAO_AEROPORTO_DESTINO</th>\n",
       "      <th>PARTIDA_PREVISTA</th>\n",
       "      <th>PARTIDA_REAL</th>\n",
       "      <th>...</th>\n",
       "      <th>INDICE_SEMANA_CHEGADA_REAL</th>\n",
       "      <th>INDICE_SEMANA_CHEGADA_PREVISTA</th>\n",
       "      <th>FAIXA_ATRASO_PARTIDA</th>\n",
       "      <th>FAIXA_ATRASO_CHEGADA</th>\n",
       "      <th>FLAG_ATRASO_PARTIDA</th>\n",
       "      <th>FLAG_ATRASO_CHEGADA</th>\n",
       "      <th>FLAG_FIM_SEMANA_PARTIDA_PREVISTA</th>\n",
       "      <th>FLAG_FIM_SEMANA_PARTIDA_REAL</th>\n",
       "      <th>FLAG_FIM_SEMANA_CHEGADA_PREVISTA</th>\n",
       "      <th>FLAG_FIM_SEMANA_CHEGADA_REAL</th>\n",
       "    </tr>\n",
       "  </thead>\n",
       "  <tbody>\n",
       "    <tr>\n",
       "      <th>0</th>\n",
       "      <td>BAURU/AREALVA</td>\n",
       "      <td>AREALVA</td>\n",
       "      <td>SP</td>\n",
       "      <td>AZU</td>\n",
       "      <td>2455</td>\n",
       "      <td>N</td>\n",
       "      <td>SBAE</td>\n",
       "      <td>SBPS</td>\n",
       "      <td>2022-01-02 00:05:00</td>\n",
       "      <td>2022-01-01 23:35:00</td>\n",
       "      <td>...</td>\n",
       "      <td>6</td>\n",
       "      <td>6</td>\n",
       "      <td>No horário</td>\n",
       "      <td>No horário</td>\n",
       "      <td>Vôo Atrasado</td>\n",
       "      <td>Vôo Atrasado</td>\n",
       "      <td>Fim de Semana</td>\n",
       "      <td>Fim de Semana</td>\n",
       "      <td>Fim de Semana</td>\n",
       "      <td>Fim de Semana</td>\n",
       "    </tr>\n",
       "    <tr>\n",
       "      <th>1</th>\n",
       "      <td>BAURU/AREALVA</td>\n",
       "      <td>AREALVA</td>\n",
       "      <td>SP</td>\n",
       "      <td>AZU</td>\n",
       "      <td>2455</td>\n",
       "      <td>N</td>\n",
       "      <td>SBAE</td>\n",
       "      <td>SBPS</td>\n",
       "      <td>2022-01-09 01:00:00</td>\n",
       "      <td>2022-01-09 00:48:00</td>\n",
       "      <td>...</td>\n",
       "      <td>6</td>\n",
       "      <td>6</td>\n",
       "      <td>No horário</td>\n",
       "      <td>No horário</td>\n",
       "      <td>Vôo Atrasado</td>\n",
       "      <td>Vôo Atrasado</td>\n",
       "      <td>Fim de Semana</td>\n",
       "      <td>Fim de Semana</td>\n",
       "      <td>Fim de Semana</td>\n",
       "      <td>Fim de Semana</td>\n",
       "    </tr>\n",
       "    <tr>\n",
       "      <th>2</th>\n",
       "      <td>BAURU/AREALVA</td>\n",
       "      <td>AREALVA</td>\n",
       "      <td>SP</td>\n",
       "      <td>AZU</td>\n",
       "      <td>2455</td>\n",
       "      <td>N</td>\n",
       "      <td>SBAE</td>\n",
       "      <td>SBPS</td>\n",
       "      <td>2022-01-23 11:05:00</td>\n",
       "      <td>2022-01-23 10:54:00</td>\n",
       "      <td>...</td>\n",
       "      <td>6</td>\n",
       "      <td>6</td>\n",
       "      <td>No horário</td>\n",
       "      <td>No horário</td>\n",
       "      <td>Vôo Atrasado</td>\n",
       "      <td>Vôo Atrasado</td>\n",
       "      <td>Fim de Semana</td>\n",
       "      <td>Fim de Semana</td>\n",
       "      <td>Fim de Semana</td>\n",
       "      <td>Fim de Semana</td>\n",
       "    </tr>\n",
       "    <tr>\n",
       "      <th>3</th>\n",
       "      <td>BAURU/AREALVA</td>\n",
       "      <td>AREALVA</td>\n",
       "      <td>SP</td>\n",
       "      <td>AZU</td>\n",
       "      <td>2455</td>\n",
       "      <td>N</td>\n",
       "      <td>SBAE</td>\n",
       "      <td>SBPS</td>\n",
       "      <td>2022-01-30 11:05:00</td>\n",
       "      <td>2022-01-30 11:01:00</td>\n",
       "      <td>...</td>\n",
       "      <td>6</td>\n",
       "      <td>6</td>\n",
       "      <td>No horário</td>\n",
       "      <td>No horário</td>\n",
       "      <td>Vôo Atrasado</td>\n",
       "      <td>Vôo Atrasado</td>\n",
       "      <td>Fim de Semana</td>\n",
       "      <td>Fim de Semana</td>\n",
       "      <td>Fim de Semana</td>\n",
       "      <td>Fim de Semana</td>\n",
       "    </tr>\n",
       "    <tr>\n",
       "      <th>4</th>\n",
       "      <td>BAURU/AREALVA</td>\n",
       "      <td>AREALVA</td>\n",
       "      <td>SP</td>\n",
       "      <td>AZU</td>\n",
       "      <td>2455</td>\n",
       "      <td>N</td>\n",
       "      <td>SBAE</td>\n",
       "      <td>SBPS</td>\n",
       "      <td>2022-02-26 23:00:00</td>\n",
       "      <td>2022-02-26 22:56:00</td>\n",
       "      <td>...</td>\n",
       "      <td>6</td>\n",
       "      <td>6</td>\n",
       "      <td>No horário</td>\n",
       "      <td>No horário</td>\n",
       "      <td>Vôo Atrasado</td>\n",
       "      <td>Vôo Atrasado</td>\n",
       "      <td>Fim de Semana</td>\n",
       "      <td>Fim de Semana</td>\n",
       "      <td>Fim de Semana</td>\n",
       "      <td>Fim de Semana</td>\n",
       "    </tr>\n",
       "    <tr>\n",
       "      <th>...</th>\n",
       "      <td>...</td>\n",
       "      <td>...</td>\n",
       "      <td>...</td>\n",
       "      <td>...</td>\n",
       "      <td>...</td>\n",
       "      <td>...</td>\n",
       "      <td>...</td>\n",
       "      <td>...</td>\n",
       "      <td>...</td>\n",
       "      <td>...</td>\n",
       "      <td>...</td>\n",
       "      <td>...</td>\n",
       "      <td>...</td>\n",
       "      <td>...</td>\n",
       "      <td>...</td>\n",
       "      <td>...</td>\n",
       "      <td>...</td>\n",
       "      <td>...</td>\n",
       "      <td>...</td>\n",
       "      <td>...</td>\n",
       "      <td>...</td>\n",
       "    </tr>\n",
       "    <tr>\n",
       "      <th>717352</th>\n",
       "      <td>DEPUTADO LUÍS EDUARDO MAGALHÃES</td>\n",
       "      <td>SALVADOR</td>\n",
       "      <td>BA</td>\n",
       "      <td>ABJ</td>\n",
       "      <td>1416</td>\n",
       "      <td>N</td>\n",
       "      <td>SBSV</td>\n",
       "      <td>SIRI</td>\n",
       "      <td>1900-01-01 00:00:00</td>\n",
       "      <td>2022-12-15 14:34:00</td>\n",
       "      <td>...</td>\n",
       "      <td>3</td>\n",
       "      <td>0</td>\n",
       "      <td>Atraso de mais de 4 horas</td>\n",
       "      <td>Atraso de mais de 4 horas</td>\n",
       "      <td>Vôo no horário</td>\n",
       "      <td>Vôo no horário</td>\n",
       "      <td>Dia Útil</td>\n",
       "      <td>Dia Útil</td>\n",
       "      <td>Dia Útil</td>\n",
       "      <td>Dia Útil</td>\n",
       "    </tr>\n",
       "    <tr>\n",
       "      <th>717353</th>\n",
       "      <td>DEPUTADO LUÍS EDUARDO MAGALHÃES</td>\n",
       "      <td>SALVADOR</td>\n",
       "      <td>BA</td>\n",
       "      <td>ABJ</td>\n",
       "      <td>1416</td>\n",
       "      <td>N</td>\n",
       "      <td>SBSV</td>\n",
       "      <td>SIRI</td>\n",
       "      <td>2022-12-18 15:35:00</td>\n",
       "      <td>2022-12-18 15:41:00</td>\n",
       "      <td>...</td>\n",
       "      <td>6</td>\n",
       "      <td>6</td>\n",
       "      <td>Atraso de até 30 minutos</td>\n",
       "      <td>No horário</td>\n",
       "      <td>Vôo no horário</td>\n",
       "      <td>Vôo Atrasado</td>\n",
       "      <td>Fim de Semana</td>\n",
       "      <td>Fim de Semana</td>\n",
       "      <td>Fim de Semana</td>\n",
       "      <td>Fim de Semana</td>\n",
       "    </tr>\n",
       "    <tr>\n",
       "      <th>717354</th>\n",
       "      <td>DEPUTADO LUÍS EDUARDO MAGALHÃES</td>\n",
       "      <td>SALVADOR</td>\n",
       "      <td>BA</td>\n",
       "      <td>ABJ</td>\n",
       "      <td>1416</td>\n",
       "      <td>N</td>\n",
       "      <td>SBSV</td>\n",
       "      <td>SIRI</td>\n",
       "      <td>1900-01-01 00:00:00</td>\n",
       "      <td>2022-12-22 14:46:00</td>\n",
       "      <td>...</td>\n",
       "      <td>3</td>\n",
       "      <td>0</td>\n",
       "      <td>Atraso de mais de 4 horas</td>\n",
       "      <td>Atraso de mais de 4 horas</td>\n",
       "      <td>Vôo no horário</td>\n",
       "      <td>Vôo no horário</td>\n",
       "      <td>Dia Útil</td>\n",
       "      <td>Dia Útil</td>\n",
       "      <td>Dia Útil</td>\n",
       "      <td>Dia Útil</td>\n",
       "    </tr>\n",
       "    <tr>\n",
       "      <th>717355</th>\n",
       "      <td>DEPUTADO LUÍS EDUARDO MAGALHÃES</td>\n",
       "      <td>SALVADOR</td>\n",
       "      <td>BA</td>\n",
       "      <td>ABJ</td>\n",
       "      <td>1416</td>\n",
       "      <td>N</td>\n",
       "      <td>SBSV</td>\n",
       "      <td>SIRI</td>\n",
       "      <td>2022-12-25 15:35:00</td>\n",
       "      <td>2022-12-25 15:11:00</td>\n",
       "      <td>...</td>\n",
       "      <td>6</td>\n",
       "      <td>6</td>\n",
       "      <td>No horário</td>\n",
       "      <td>No horário</td>\n",
       "      <td>Vôo Atrasado</td>\n",
       "      <td>Vôo Atrasado</td>\n",
       "      <td>Fim de Semana</td>\n",
       "      <td>Fim de Semana</td>\n",
       "      <td>Fim de Semana</td>\n",
       "      <td>Fim de Semana</td>\n",
       "    </tr>\n",
       "    <tr>\n",
       "      <th>717356</th>\n",
       "      <td>DEPUTADO LUÍS EDUARDO MAGALHÃES</td>\n",
       "      <td>SALVADOR</td>\n",
       "      <td>BA</td>\n",
       "      <td>ABJ</td>\n",
       "      <td>1416</td>\n",
       "      <td>N</td>\n",
       "      <td>SBSV</td>\n",
       "      <td>SIRI</td>\n",
       "      <td>1900-01-01 00:00:00</td>\n",
       "      <td>2022-12-29 15:06:00</td>\n",
       "      <td>...</td>\n",
       "      <td>3</td>\n",
       "      <td>0</td>\n",
       "      <td>Atraso de mais de 4 horas</td>\n",
       "      <td>Atraso de mais de 4 horas</td>\n",
       "      <td>Vôo no horário</td>\n",
       "      <td>Vôo no horário</td>\n",
       "      <td>Dia Útil</td>\n",
       "      <td>Dia Útil</td>\n",
       "      <td>Dia Útil</td>\n",
       "      <td>Dia Útil</td>\n",
       "    </tr>\n",
       "  </tbody>\n",
       "</table>\n",
       "<p>717357 rows × 44 columns</p>\n",
       "</div>"
      ],
      "text/plain": [
       "                  NOME_AEROPORTO_ORIGEM CIDADE_AEROPORTO_ORIGEM  \\\n",
       "0                         BAURU/AREALVA                 AREALVA   \n",
       "1                         BAURU/AREALVA                 AREALVA   \n",
       "2                         BAURU/AREALVA                 AREALVA   \n",
       "3                         BAURU/AREALVA                 AREALVA   \n",
       "4                         BAURU/AREALVA                 AREALVA   \n",
       "...                                 ...                     ...   \n",
       "717352  DEPUTADO LUÍS EDUARDO MAGALHÃES                SALVADOR   \n",
       "717353  DEPUTADO LUÍS EDUARDO MAGALHÃES                SALVADOR   \n",
       "717354  DEPUTADO LUÍS EDUARDO MAGALHÃES                SALVADOR   \n",
       "717355  DEPUTADO LUÍS EDUARDO MAGALHÃES                SALVADOR   \n",
       "717356  DEPUTADO LUÍS EDUARDO MAGALHÃES                SALVADOR   \n",
       "\n",
       "       UF_AEROPORTO_ORIGEM SIGLA_ICAO_EMPRESA_AEREA NUMERO_VOO  \\\n",
       "0                       SP                      AZU       2455   \n",
       "1                       SP                      AZU       2455   \n",
       "2                       SP                      AZU       2455   \n",
       "3                       SP                      AZU       2455   \n",
       "4                       SP                      AZU       2455   \n",
       "...                    ...                      ...        ...   \n",
       "717352                  BA                      ABJ       1416   \n",
       "717353                  BA                      ABJ       1416   \n",
       "717354                  BA                      ABJ       1416   \n",
       "717355                  BA                      ABJ       1416   \n",
       "717356                  BA                      ABJ       1416   \n",
       "\n",
       "       CODIGO_TIPO_LINHA SIGLA_ICAO_AEROPORTO_ORIGEM  \\\n",
       "0                      N                        SBAE   \n",
       "1                      N                        SBAE   \n",
       "2                      N                        SBAE   \n",
       "3                      N                        SBAE   \n",
       "4                      N                        SBAE   \n",
       "...                  ...                         ...   \n",
       "717352                 N                        SBSV   \n",
       "717353                 N                        SBSV   \n",
       "717354                 N                        SBSV   \n",
       "717355                 N                        SBSV   \n",
       "717356                 N                        SBSV   \n",
       "\n",
       "       SIGLA_ICAO_AEROPORTO_DESTINO    PARTIDA_PREVISTA        PARTIDA_REAL  \\\n",
       "0                              SBPS 2022-01-02 00:05:00 2022-01-01 23:35:00   \n",
       "1                              SBPS 2022-01-09 01:00:00 2022-01-09 00:48:00   \n",
       "2                              SBPS 2022-01-23 11:05:00 2022-01-23 10:54:00   \n",
       "3                              SBPS 2022-01-30 11:05:00 2022-01-30 11:01:00   \n",
       "4                              SBPS 2022-02-26 23:00:00 2022-02-26 22:56:00   \n",
       "...                             ...                 ...                 ...   \n",
       "717352                         SIRI 1900-01-01 00:00:00 2022-12-15 14:34:00   \n",
       "717353                         SIRI 2022-12-18 15:35:00 2022-12-18 15:41:00   \n",
       "717354                         SIRI 1900-01-01 00:00:00 2022-12-22 14:46:00   \n",
       "717355                         SIRI 2022-12-25 15:35:00 2022-12-25 15:11:00   \n",
       "717356                         SIRI 1900-01-01 00:00:00 2022-12-29 15:06:00   \n",
       "\n",
       "        ... INDICE_SEMANA_CHEGADA_REAL INDICE_SEMANA_CHEGADA_PREVISTA  \\\n",
       "0       ...                          6                              6   \n",
       "1       ...                          6                              6   \n",
       "2       ...                          6                              6   \n",
       "3       ...                          6                              6   \n",
       "4       ...                          6                              6   \n",
       "...     ...                        ...                            ...   \n",
       "717352  ...                          3                              0   \n",
       "717353  ...                          6                              6   \n",
       "717354  ...                          3                              0   \n",
       "717355  ...                          6                              6   \n",
       "717356  ...                          3                              0   \n",
       "\n",
       "             FAIXA_ATRASO_PARTIDA       FAIXA_ATRASO_CHEGADA  \\\n",
       "0                      No horário                 No horário   \n",
       "1                      No horário                 No horário   \n",
       "2                      No horário                 No horário   \n",
       "3                      No horário                 No horário   \n",
       "4                      No horário                 No horário   \n",
       "...                           ...                        ...   \n",
       "717352  Atraso de mais de 4 horas  Atraso de mais de 4 horas   \n",
       "717353   Atraso de até 30 minutos                 No horário   \n",
       "717354  Atraso de mais de 4 horas  Atraso de mais de 4 horas   \n",
       "717355                 No horário                 No horário   \n",
       "717356  Atraso de mais de 4 horas  Atraso de mais de 4 horas   \n",
       "\n",
       "       FLAG_ATRASO_PARTIDA FLAG_ATRASO_CHEGADA  \\\n",
       "0             Vôo Atrasado        Vôo Atrasado   \n",
       "1             Vôo Atrasado        Vôo Atrasado   \n",
       "2             Vôo Atrasado        Vôo Atrasado   \n",
       "3             Vôo Atrasado        Vôo Atrasado   \n",
       "4             Vôo Atrasado        Vôo Atrasado   \n",
       "...                    ...                 ...   \n",
       "717352      Vôo no horário      Vôo no horário   \n",
       "717353      Vôo no horário        Vôo Atrasado   \n",
       "717354      Vôo no horário      Vôo no horário   \n",
       "717355        Vôo Atrasado        Vôo Atrasado   \n",
       "717356      Vôo no horário      Vôo no horário   \n",
       "\n",
       "       FLAG_FIM_SEMANA_PARTIDA_PREVISTA FLAG_FIM_SEMANA_PARTIDA_REAL  \\\n",
       "0                         Fim de Semana                Fim de Semana   \n",
       "1                         Fim de Semana                Fim de Semana   \n",
       "2                         Fim de Semana                Fim de Semana   \n",
       "3                         Fim de Semana                Fim de Semana   \n",
       "4                         Fim de Semana                Fim de Semana   \n",
       "...                                 ...                          ...   \n",
       "717352                         Dia Útil                     Dia Útil   \n",
       "717353                    Fim de Semana                Fim de Semana   \n",
       "717354                         Dia Útil                     Dia Útil   \n",
       "717355                    Fim de Semana                Fim de Semana   \n",
       "717356                         Dia Útil                     Dia Útil   \n",
       "\n",
       "        FLAG_FIM_SEMANA_CHEGADA_PREVISTA FLAG_FIM_SEMANA_CHEGADA_REAL  \n",
       "0                          Fim de Semana                Fim de Semana  \n",
       "1                          Fim de Semana                Fim de Semana  \n",
       "2                          Fim de Semana                Fim de Semana  \n",
       "3                          Fim de Semana                Fim de Semana  \n",
       "4                          Fim de Semana                Fim de Semana  \n",
       "...                                  ...                          ...  \n",
       "717352                          Dia Útil                     Dia Útil  \n",
       "717353                     Fim de Semana                Fim de Semana  \n",
       "717354                          Dia Útil                     Dia Útil  \n",
       "717355                     Fim de Semana                Fim de Semana  \n",
       "717356                          Dia Útil                     Dia Útil  \n",
       "\n",
       "[717357 rows x 44 columns]"
      ]
     },
     "execution_count": 4,
     "metadata": {},
     "output_type": "execute_result"
    }
   ],
   "source": [
    "base_completa"
   ]
  },
  {
   "cell_type": "markdown",
   "metadata": {},
   "source": [
    "- Situação Vôo"
   ]
  },
  {
   "cell_type": "code",
   "execution_count": 5,
   "metadata": {},
   "outputs": [],
   "source": [
    "def obter_situacao_voo(\n",
    "        sigla_aeroporto: str,\n",
    "        mes_partida_prevista: List[int],\n",
    "        codigo_tipo_linha: str, \n",
    "        sigla_empresa: str = None,\n",
    "       \n",
    "):\n",
    "    query = (\n",
    "            f' SIGLA_ICAO_AEROPORTO_ORIGEM == \"{sigla_aeroporto}\" '\n",
    "            f' and MES_PARTIDA_PREVISTA in {mes_partida_prevista}'  # TAM SBRP 1\n",
    "            f' and CODIGO_TIPO_LINHA == \"{codigo_tipo_linha}\"'\n",
    "    )\n",
    "    colunas = [\n",
    "            'SITUACAO_VOO', \n",
    "            'MES_PARTIDA_PREVISTA', \n",
    "            'NOME_MES_PARTIDA_PREVISTA', \n",
    "            'SIGLA_ICAO_AEROPORTO_ORIGEM',\n",
    "            'CODIGO_TIPO_LINHA'\n",
    "    ]\n",
    "\n",
    "    if sigla_empresa is not None:\n",
    "        query += f' and SIGLA_ICAO_EMPRESA_AEREA == \"{sigla_empresa}\" '\n",
    "        colunas.append('SIGLA_ICAO_EMPRESA_AEREA')\n",
    "   \n",
    "    dataframe = pd.read_parquet(caminho_base, columns=colunas)\n",
    "    total = dataframe.query(query)[colunas].value_counts()\n",
    "    percentual = dataframe.query(query)[colunas].value_counts( normalize=True,) * 100\n",
    "    dataframe = pd.concat([total, percentual], axis=1).reset_index()\n",
    "    dataframe['TOTAL_SITUACAO'] = dataframe['count'].astype('int32')\n",
    "    dataframe['PROPORCAO'] = dataframe['proportion'].astype('float32')\n",
    "    dataframe = dataframe.sort_values(by=['SITUACAO_VOO', 'MES_PARTIDA_PREVISTA']) \n",
    "    dataframe.drop(['proportion', 'count', 'CODIGO_TIPO_LINHA'], axis=1, inplace=True,)\n",
    "    dataframe['SITUACAO_VOO'] =  dataframe['SITUACAO_VOO'].astype('string')\n",
    "    if sigla_empresa is not None:\n",
    "        dataframe = dataframe.sort_values(by='MES_PARTIDA_PREVISTA')\n",
    "    return dataframe "
   ]
  },
  {
   "cell_type": "code",
   "execution_count": 6,
   "metadata": {},
   "outputs": [
    {
     "data": {
      "text/html": [
       "<div>\n",
       "<style scoped>\n",
       "    .dataframe tbody tr th:only-of-type {\n",
       "        vertical-align: middle;\n",
       "    }\n",
       "\n",
       "    .dataframe tbody tr th {\n",
       "        vertical-align: top;\n",
       "    }\n",
       "\n",
       "    .dataframe thead th {\n",
       "        text-align: right;\n",
       "    }\n",
       "</style>\n",
       "<table border=\"1\" class=\"dataframe\">\n",
       "  <thead>\n",
       "    <tr style=\"text-align: right;\">\n",
       "      <th></th>\n",
       "      <th>SITUACAO_VOO</th>\n",
       "      <th>MES_PARTIDA_PREVISTA</th>\n",
       "      <th>NOME_MES_PARTIDA_PREVISTA</th>\n",
       "      <th>SIGLA_ICAO_AEROPORTO_ORIGEM</th>\n",
       "      <th>SIGLA_ICAO_EMPRESA_AEREA</th>\n",
       "      <th>TOTAL_SITUACAO</th>\n",
       "      <th>PROPORCAO</th>\n",
       "    </tr>\n",
       "  </thead>\n",
       "  <tbody>\n",
       "    <tr>\n",
       "      <th>2</th>\n",
       "      <td>REALIZADO</td>\n",
       "      <td>1</td>\n",
       "      <td>janeiro</td>\n",
       "      <td>SBRP</td>\n",
       "      <td>TAM</td>\n",
       "      <td>41</td>\n",
       "      <td>11.781610</td>\n",
       "    </tr>\n",
       "    <tr>\n",
       "      <th>10</th>\n",
       "      <td>REALIZADO</td>\n",
       "      <td>2</td>\n",
       "      <td>fevereiro</td>\n",
       "      <td>SBRP</td>\n",
       "      <td>TAM</td>\n",
       "      <td>20</td>\n",
       "      <td>5.747127</td>\n",
       "    </tr>\n",
       "    <tr>\n",
       "      <th>4</th>\n",
       "      <td>REALIZADO</td>\n",
       "      <td>3</td>\n",
       "      <td>março</td>\n",
       "      <td>SBRP</td>\n",
       "      <td>TAM</td>\n",
       "      <td>23</td>\n",
       "      <td>6.609195</td>\n",
       "    </tr>\n",
       "    <tr>\n",
       "      <th>8</th>\n",
       "      <td>REALIZADO</td>\n",
       "      <td>4</td>\n",
       "      <td>abril</td>\n",
       "      <td>SBRP</td>\n",
       "      <td>TAM</td>\n",
       "      <td>21</td>\n",
       "      <td>6.034483</td>\n",
       "    </tr>\n",
       "    <tr>\n",
       "      <th>11</th>\n",
       "      <td>REALIZADO</td>\n",
       "      <td>5</td>\n",
       "      <td>maio</td>\n",
       "      <td>SBRP</td>\n",
       "      <td>TAM</td>\n",
       "      <td>20</td>\n",
       "      <td>5.747127</td>\n",
       "    </tr>\n",
       "    <tr>\n",
       "      <th>7</th>\n",
       "      <td>REALIZADO</td>\n",
       "      <td>6</td>\n",
       "      <td>junho</td>\n",
       "      <td>SBRP</td>\n",
       "      <td>TAM</td>\n",
       "      <td>22</td>\n",
       "      <td>6.321839</td>\n",
       "    </tr>\n",
       "    <tr>\n",
       "      <th>9</th>\n",
       "      <td>REALIZADO</td>\n",
       "      <td>7</td>\n",
       "      <td>julho</td>\n",
       "      <td>SBRP</td>\n",
       "      <td>TAM</td>\n",
       "      <td>21</td>\n",
       "      <td>6.034483</td>\n",
       "    </tr>\n",
       "    <tr>\n",
       "      <th>5</th>\n",
       "      <td>REALIZADO</td>\n",
       "      <td>8</td>\n",
       "      <td>agosto</td>\n",
       "      <td>SBRP</td>\n",
       "      <td>TAM</td>\n",
       "      <td>23</td>\n",
       "      <td>6.609195</td>\n",
       "    </tr>\n",
       "    <tr>\n",
       "      <th>6</th>\n",
       "      <td>REALIZADO</td>\n",
       "      <td>9</td>\n",
       "      <td>setembro</td>\n",
       "      <td>SBRP</td>\n",
       "      <td>TAM</td>\n",
       "      <td>23</td>\n",
       "      <td>6.609195</td>\n",
       "    </tr>\n",
       "    <tr>\n",
       "      <th>3</th>\n",
       "      <td>REALIZADO</td>\n",
       "      <td>10</td>\n",
       "      <td>outubro</td>\n",
       "      <td>SBRP</td>\n",
       "      <td>TAM</td>\n",
       "      <td>24</td>\n",
       "      <td>6.896552</td>\n",
       "    </tr>\n",
       "    <tr>\n",
       "      <th>12</th>\n",
       "      <td>CANCELADO</td>\n",
       "      <td>11</td>\n",
       "      <td>novembro</td>\n",
       "      <td>SBRP</td>\n",
       "      <td>TAM</td>\n",
       "      <td>2</td>\n",
       "      <td>0.574713</td>\n",
       "    </tr>\n",
       "    <tr>\n",
       "      <th>1</th>\n",
       "      <td>REALIZADO</td>\n",
       "      <td>11</td>\n",
       "      <td>novembro</td>\n",
       "      <td>SBRP</td>\n",
       "      <td>TAM</td>\n",
       "      <td>53</td>\n",
       "      <td>15.229885</td>\n",
       "    </tr>\n",
       "    <tr>\n",
       "      <th>13</th>\n",
       "      <td>CANCELADO</td>\n",
       "      <td>12</td>\n",
       "      <td>dezembro</td>\n",
       "      <td>SBRP</td>\n",
       "      <td>TAM</td>\n",
       "      <td>1</td>\n",
       "      <td>0.287356</td>\n",
       "    </tr>\n",
       "    <tr>\n",
       "      <th>0</th>\n",
       "      <td>REALIZADO</td>\n",
       "      <td>12</td>\n",
       "      <td>dezembro</td>\n",
       "      <td>SBRP</td>\n",
       "      <td>TAM</td>\n",
       "      <td>54</td>\n",
       "      <td>15.517241</td>\n",
       "    </tr>\n",
       "  </tbody>\n",
       "</table>\n",
       "</div>"
      ],
      "text/plain": [
       "   SITUACAO_VOO  MES_PARTIDA_PREVISTA NOME_MES_PARTIDA_PREVISTA  \\\n",
       "2     REALIZADO                     1                   janeiro   \n",
       "10    REALIZADO                     2                 fevereiro   \n",
       "4     REALIZADO                     3                     março   \n",
       "8     REALIZADO                     4                     abril   \n",
       "11    REALIZADO                     5                      maio   \n",
       "7     REALIZADO                     6                     junho   \n",
       "9     REALIZADO                     7                     julho   \n",
       "5     REALIZADO                     8                    agosto   \n",
       "6     REALIZADO                     9                  setembro   \n",
       "3     REALIZADO                    10                   outubro   \n",
       "12    CANCELADO                    11                  novembro   \n",
       "1     REALIZADO                    11                  novembro   \n",
       "13    CANCELADO                    12                  dezembro   \n",
       "0     REALIZADO                    12                  dezembro   \n",
       "\n",
       "   SIGLA_ICAO_AEROPORTO_ORIGEM SIGLA_ICAO_EMPRESA_AEREA  TOTAL_SITUACAO  \\\n",
       "2                         SBRP                      TAM              41   \n",
       "10                        SBRP                      TAM              20   \n",
       "4                         SBRP                      TAM              23   \n",
       "8                         SBRP                      TAM              21   \n",
       "11                        SBRP                      TAM              20   \n",
       "7                         SBRP                      TAM              22   \n",
       "9                         SBRP                      TAM              21   \n",
       "5                         SBRP                      TAM              23   \n",
       "6                         SBRP                      TAM              23   \n",
       "3                         SBRP                      TAM              24   \n",
       "12                        SBRP                      TAM               2   \n",
       "1                         SBRP                      TAM              53   \n",
       "13                        SBRP                      TAM               1   \n",
       "0                         SBRP                      TAM              54   \n",
       "\n",
       "    PROPORCAO  \n",
       "2   11.781610  \n",
       "10   5.747127  \n",
       "4    6.609195  \n",
       "8    6.034483  \n",
       "11   5.747127  \n",
       "7    6.321839  \n",
       "9    6.034483  \n",
       "5    6.609195  \n",
       "6    6.609195  \n",
       "3    6.896552  \n",
       "12   0.574713  \n",
       "1   15.229885  \n",
       "13   0.287356  \n",
       "0   15.517241  "
      ]
     },
     "execution_count": 6,
     "metadata": {},
     "output_type": "execute_result"
    }
   ],
   "source": [
    "dataframe = obter_situacao_voo(\n",
    "    sigla_aeroporto='SBRP', \n",
    "    mes_partida_prevista=[i for i in range(1, 13)], # [1,2]\n",
    "    codigo_tipo_linha='N',\n",
    "    sigla_empresa='TAM'\n",
    ")\n",
    "dataframe"
   ]
  },
  {
   "cell_type": "code",
   "execution_count": 7,
   "metadata": {},
   "outputs": [
    {
     "data": {
      "text/plain": [
       "<StringArray>\n",
       "['REALIZADO', 'CANCELADO']\n",
       "Length: 2, dtype: string"
      ]
     },
     "execution_count": 7,
     "metadata": {},
     "output_type": "execute_result"
    }
   ],
   "source": [
    "dataframe['SITUACAO_VOO'].unique()"
   ]
  },
  {
   "cell_type": "code",
   "execution_count": 8,
   "metadata": {},
   "outputs": [
    {
     "data": {
      "application/vnd.plotly.v1+json": {
       "config": {
        "plotlyServerURL": "https://plot.ly"
       },
       "data": [
        {
         "alignmentgroup": "True",
         "hovertemplate": "SITUACAO_VOO=REALIZADO<br>NOME_MES_PARTIDA_PREVISTA=%{x}<br>TOTAL_SITUACAO=%{y}<extra></extra>",
         "legendgroup": "REALIZADO",
         "marker": {
          "color": "#636efa",
          "pattern": {
           "shape": ""
          }
         },
         "name": "REALIZADO",
         "offsetgroup": "REALIZADO",
         "orientation": "v",
         "showlegend": true,
         "textposition": "auto",
         "texttemplate": "%{y:0}",
         "type": "bar",
         "x": [
          "janeiro",
          "fevereiro",
          "março",
          "abril",
          "maio",
          "junho",
          "julho",
          "agosto",
          "setembro",
          "outubro",
          "novembro",
          "dezembro"
         ],
         "xaxis": "x",
         "y": [
          41,
          20,
          23,
          21,
          20,
          22,
          21,
          23,
          23,
          24,
          53,
          54
         ],
         "yaxis": "y"
        },
        {
         "alignmentgroup": "True",
         "hovertemplate": "SITUACAO_VOO=CANCELADO<br>NOME_MES_PARTIDA_PREVISTA=%{x}<br>TOTAL_SITUACAO=%{y}<extra></extra>",
         "legendgroup": "CANCELADO",
         "marker": {
          "color": "#EF553B",
          "pattern": {
           "shape": ""
          }
         },
         "name": "CANCELADO",
         "offsetgroup": "CANCELADO",
         "orientation": "v",
         "showlegend": true,
         "textposition": "auto",
         "texttemplate": "%{y:0}",
         "type": "bar",
         "x": [
          "novembro",
          "dezembro"
         ],
         "xaxis": "x",
         "y": [
          2,
          1
         ],
         "yaxis": "y"
        }
       ],
       "layout": {
        "barmode": "group",
        "legend": {
         "title": {
          "text": "SITUACAO_VOO"
         },
         "tracegroupgap": 0
        },
        "margin": {
         "t": 60
        },
        "template": {
         "data": {
          "bar": [
           {
            "error_x": {
             "color": "#2a3f5f"
            },
            "error_y": {
             "color": "#2a3f5f"
            },
            "marker": {
             "line": {
              "color": "#E5ECF6",
              "width": 0.5
             },
             "pattern": {
              "fillmode": "overlay",
              "size": 10,
              "solidity": 0.2
             }
            },
            "type": "bar"
           }
          ],
          "barpolar": [
           {
            "marker": {
             "line": {
              "color": "#E5ECF6",
              "width": 0.5
             },
             "pattern": {
              "fillmode": "overlay",
              "size": 10,
              "solidity": 0.2
             }
            },
            "type": "barpolar"
           }
          ],
          "carpet": [
           {
            "aaxis": {
             "endlinecolor": "#2a3f5f",
             "gridcolor": "white",
             "linecolor": "white",
             "minorgridcolor": "white",
             "startlinecolor": "#2a3f5f"
            },
            "baxis": {
             "endlinecolor": "#2a3f5f",
             "gridcolor": "white",
             "linecolor": "white",
             "minorgridcolor": "white",
             "startlinecolor": "#2a3f5f"
            },
            "type": "carpet"
           }
          ],
          "choropleth": [
           {
            "colorbar": {
             "outlinewidth": 0,
             "ticks": ""
            },
            "type": "choropleth"
           }
          ],
          "contour": [
           {
            "colorbar": {
             "outlinewidth": 0,
             "ticks": ""
            },
            "colorscale": [
             [
              0,
              "#0d0887"
             ],
             [
              0.1111111111111111,
              "#46039f"
             ],
             [
              0.2222222222222222,
              "#7201a8"
             ],
             [
              0.3333333333333333,
              "#9c179e"
             ],
             [
              0.4444444444444444,
              "#bd3786"
             ],
             [
              0.5555555555555556,
              "#d8576b"
             ],
             [
              0.6666666666666666,
              "#ed7953"
             ],
             [
              0.7777777777777778,
              "#fb9f3a"
             ],
             [
              0.8888888888888888,
              "#fdca26"
             ],
             [
              1,
              "#f0f921"
             ]
            ],
            "type": "contour"
           }
          ],
          "contourcarpet": [
           {
            "colorbar": {
             "outlinewidth": 0,
             "ticks": ""
            },
            "type": "contourcarpet"
           }
          ],
          "heatmap": [
           {
            "colorbar": {
             "outlinewidth": 0,
             "ticks": ""
            },
            "colorscale": [
             [
              0,
              "#0d0887"
             ],
             [
              0.1111111111111111,
              "#46039f"
             ],
             [
              0.2222222222222222,
              "#7201a8"
             ],
             [
              0.3333333333333333,
              "#9c179e"
             ],
             [
              0.4444444444444444,
              "#bd3786"
             ],
             [
              0.5555555555555556,
              "#d8576b"
             ],
             [
              0.6666666666666666,
              "#ed7953"
             ],
             [
              0.7777777777777778,
              "#fb9f3a"
             ],
             [
              0.8888888888888888,
              "#fdca26"
             ],
             [
              1,
              "#f0f921"
             ]
            ],
            "type": "heatmap"
           }
          ],
          "heatmapgl": [
           {
            "colorbar": {
             "outlinewidth": 0,
             "ticks": ""
            },
            "colorscale": [
             [
              0,
              "#0d0887"
             ],
             [
              0.1111111111111111,
              "#46039f"
             ],
             [
              0.2222222222222222,
              "#7201a8"
             ],
             [
              0.3333333333333333,
              "#9c179e"
             ],
             [
              0.4444444444444444,
              "#bd3786"
             ],
             [
              0.5555555555555556,
              "#d8576b"
             ],
             [
              0.6666666666666666,
              "#ed7953"
             ],
             [
              0.7777777777777778,
              "#fb9f3a"
             ],
             [
              0.8888888888888888,
              "#fdca26"
             ],
             [
              1,
              "#f0f921"
             ]
            ],
            "type": "heatmapgl"
           }
          ],
          "histogram": [
           {
            "marker": {
             "pattern": {
              "fillmode": "overlay",
              "size": 10,
              "solidity": 0.2
             }
            },
            "type": "histogram"
           }
          ],
          "histogram2d": [
           {
            "colorbar": {
             "outlinewidth": 0,
             "ticks": ""
            },
            "colorscale": [
             [
              0,
              "#0d0887"
             ],
             [
              0.1111111111111111,
              "#46039f"
             ],
             [
              0.2222222222222222,
              "#7201a8"
             ],
             [
              0.3333333333333333,
              "#9c179e"
             ],
             [
              0.4444444444444444,
              "#bd3786"
             ],
             [
              0.5555555555555556,
              "#d8576b"
             ],
             [
              0.6666666666666666,
              "#ed7953"
             ],
             [
              0.7777777777777778,
              "#fb9f3a"
             ],
             [
              0.8888888888888888,
              "#fdca26"
             ],
             [
              1,
              "#f0f921"
             ]
            ],
            "type": "histogram2d"
           }
          ],
          "histogram2dcontour": [
           {
            "colorbar": {
             "outlinewidth": 0,
             "ticks": ""
            },
            "colorscale": [
             [
              0,
              "#0d0887"
             ],
             [
              0.1111111111111111,
              "#46039f"
             ],
             [
              0.2222222222222222,
              "#7201a8"
             ],
             [
              0.3333333333333333,
              "#9c179e"
             ],
             [
              0.4444444444444444,
              "#bd3786"
             ],
             [
              0.5555555555555556,
              "#d8576b"
             ],
             [
              0.6666666666666666,
              "#ed7953"
             ],
             [
              0.7777777777777778,
              "#fb9f3a"
             ],
             [
              0.8888888888888888,
              "#fdca26"
             ],
             [
              1,
              "#f0f921"
             ]
            ],
            "type": "histogram2dcontour"
           }
          ],
          "mesh3d": [
           {
            "colorbar": {
             "outlinewidth": 0,
             "ticks": ""
            },
            "type": "mesh3d"
           }
          ],
          "parcoords": [
           {
            "line": {
             "colorbar": {
              "outlinewidth": 0,
              "ticks": ""
             }
            },
            "type": "parcoords"
           }
          ],
          "pie": [
           {
            "automargin": true,
            "type": "pie"
           }
          ],
          "scatter": [
           {
            "fillpattern": {
             "fillmode": "overlay",
             "size": 10,
             "solidity": 0.2
            },
            "type": "scatter"
           }
          ],
          "scatter3d": [
           {
            "line": {
             "colorbar": {
              "outlinewidth": 0,
              "ticks": ""
             }
            },
            "marker": {
             "colorbar": {
              "outlinewidth": 0,
              "ticks": ""
             }
            },
            "type": "scatter3d"
           }
          ],
          "scattercarpet": [
           {
            "marker": {
             "colorbar": {
              "outlinewidth": 0,
              "ticks": ""
             }
            },
            "type": "scattercarpet"
           }
          ],
          "scattergeo": [
           {
            "marker": {
             "colorbar": {
              "outlinewidth": 0,
              "ticks": ""
             }
            },
            "type": "scattergeo"
           }
          ],
          "scattergl": [
           {
            "marker": {
             "colorbar": {
              "outlinewidth": 0,
              "ticks": ""
             }
            },
            "type": "scattergl"
           }
          ],
          "scattermapbox": [
           {
            "marker": {
             "colorbar": {
              "outlinewidth": 0,
              "ticks": ""
             }
            },
            "type": "scattermapbox"
           }
          ],
          "scatterpolar": [
           {
            "marker": {
             "colorbar": {
              "outlinewidth": 0,
              "ticks": ""
             }
            },
            "type": "scatterpolar"
           }
          ],
          "scatterpolargl": [
           {
            "marker": {
             "colorbar": {
              "outlinewidth": 0,
              "ticks": ""
             }
            },
            "type": "scatterpolargl"
           }
          ],
          "scatterternary": [
           {
            "marker": {
             "colorbar": {
              "outlinewidth": 0,
              "ticks": ""
             }
            },
            "type": "scatterternary"
           }
          ],
          "surface": [
           {
            "colorbar": {
             "outlinewidth": 0,
             "ticks": ""
            },
            "colorscale": [
             [
              0,
              "#0d0887"
             ],
             [
              0.1111111111111111,
              "#46039f"
             ],
             [
              0.2222222222222222,
              "#7201a8"
             ],
             [
              0.3333333333333333,
              "#9c179e"
             ],
             [
              0.4444444444444444,
              "#bd3786"
             ],
             [
              0.5555555555555556,
              "#d8576b"
             ],
             [
              0.6666666666666666,
              "#ed7953"
             ],
             [
              0.7777777777777778,
              "#fb9f3a"
             ],
             [
              0.8888888888888888,
              "#fdca26"
             ],
             [
              1,
              "#f0f921"
             ]
            ],
            "type": "surface"
           }
          ],
          "table": [
           {
            "cells": {
             "fill": {
              "color": "#EBF0F8"
             },
             "line": {
              "color": "white"
             }
            },
            "header": {
             "fill": {
              "color": "#C8D4E3"
             },
             "line": {
              "color": "white"
             }
            },
            "type": "table"
           }
          ]
         },
         "layout": {
          "annotationdefaults": {
           "arrowcolor": "#2a3f5f",
           "arrowhead": 0,
           "arrowwidth": 1
          },
          "autotypenumbers": "strict",
          "coloraxis": {
           "colorbar": {
            "outlinewidth": 0,
            "ticks": ""
           }
          },
          "colorscale": {
           "diverging": [
            [
             0,
             "#8e0152"
            ],
            [
             0.1,
             "#c51b7d"
            ],
            [
             0.2,
             "#de77ae"
            ],
            [
             0.3,
             "#f1b6da"
            ],
            [
             0.4,
             "#fde0ef"
            ],
            [
             0.5,
             "#f7f7f7"
            ],
            [
             0.6,
             "#e6f5d0"
            ],
            [
             0.7,
             "#b8e186"
            ],
            [
             0.8,
             "#7fbc41"
            ],
            [
             0.9,
             "#4d9221"
            ],
            [
             1,
             "#276419"
            ]
           ],
           "sequential": [
            [
             0,
             "#0d0887"
            ],
            [
             0.1111111111111111,
             "#46039f"
            ],
            [
             0.2222222222222222,
             "#7201a8"
            ],
            [
             0.3333333333333333,
             "#9c179e"
            ],
            [
             0.4444444444444444,
             "#bd3786"
            ],
            [
             0.5555555555555556,
             "#d8576b"
            ],
            [
             0.6666666666666666,
             "#ed7953"
            ],
            [
             0.7777777777777778,
             "#fb9f3a"
            ],
            [
             0.8888888888888888,
             "#fdca26"
            ],
            [
             1,
             "#f0f921"
            ]
           ],
           "sequentialminus": [
            [
             0,
             "#0d0887"
            ],
            [
             0.1111111111111111,
             "#46039f"
            ],
            [
             0.2222222222222222,
             "#7201a8"
            ],
            [
             0.3333333333333333,
             "#9c179e"
            ],
            [
             0.4444444444444444,
             "#bd3786"
            ],
            [
             0.5555555555555556,
             "#d8576b"
            ],
            [
             0.6666666666666666,
             "#ed7953"
            ],
            [
             0.7777777777777778,
             "#fb9f3a"
            ],
            [
             0.8888888888888888,
             "#fdca26"
            ],
            [
             1,
             "#f0f921"
            ]
           ]
          },
          "colorway": [
           "#636efa",
           "#EF553B",
           "#00cc96",
           "#ab63fa",
           "#FFA15A",
           "#19d3f3",
           "#FF6692",
           "#B6E880",
           "#FF97FF",
           "#FECB52"
          ],
          "font": {
           "color": "#2a3f5f"
          },
          "geo": {
           "bgcolor": "white",
           "lakecolor": "white",
           "landcolor": "#E5ECF6",
           "showlakes": true,
           "showland": true,
           "subunitcolor": "white"
          },
          "hoverlabel": {
           "align": "left"
          },
          "hovermode": "closest",
          "mapbox": {
           "style": "light"
          },
          "paper_bgcolor": "white",
          "plot_bgcolor": "#E5ECF6",
          "polar": {
           "angularaxis": {
            "gridcolor": "white",
            "linecolor": "white",
            "ticks": ""
           },
           "bgcolor": "#E5ECF6",
           "radialaxis": {
            "gridcolor": "white",
            "linecolor": "white",
            "ticks": ""
           }
          },
          "scene": {
           "xaxis": {
            "backgroundcolor": "#E5ECF6",
            "gridcolor": "white",
            "gridwidth": 2,
            "linecolor": "white",
            "showbackground": true,
            "ticks": "",
            "zerolinecolor": "white"
           },
           "yaxis": {
            "backgroundcolor": "#E5ECF6",
            "gridcolor": "white",
            "gridwidth": 2,
            "linecolor": "white",
            "showbackground": true,
            "ticks": "",
            "zerolinecolor": "white"
           },
           "zaxis": {
            "backgroundcolor": "#E5ECF6",
            "gridcolor": "white",
            "gridwidth": 2,
            "linecolor": "white",
            "showbackground": true,
            "ticks": "",
            "zerolinecolor": "white"
           }
          },
          "shapedefaults": {
           "line": {
            "color": "#2a3f5f"
           }
          },
          "ternary": {
           "aaxis": {
            "gridcolor": "white",
            "linecolor": "white",
            "ticks": ""
           },
           "baxis": {
            "gridcolor": "white",
            "linecolor": "white",
            "ticks": ""
           },
           "bgcolor": "#E5ECF6",
           "caxis": {
            "gridcolor": "white",
            "linecolor": "white",
            "ticks": ""
           }
          },
          "title": {
           "x": 0.05
          },
          "xaxis": {
           "automargin": true,
           "gridcolor": "white",
           "linecolor": "white",
           "ticks": "",
           "title": {
            "standoff": 15
           },
           "zerolinecolor": "white",
           "zerolinewidth": 2
          },
          "yaxis": {
           "automargin": true,
           "gridcolor": "white",
           "linecolor": "white",
           "ticks": "",
           "title": {
            "standoff": 15
           },
           "zerolinecolor": "white",
           "zerolinewidth": 2
          }
         }
        },
        "xaxis": {
         "anchor": "y",
         "domain": [
          0,
          1
         ],
         "title": {
          "text": "NOME_MES_PARTIDA_PREVISTA"
         }
        },
        "yaxis": {
         "anchor": "x",
         "domain": [
          0,
          1
         ],
         "title": {
          "text": "TOTAL_SITUACAO"
         }
        }
       }
      }
     },
     "metadata": {},
     "output_type": "display_data"
    }
   ],
   "source": [
    "fig = px.bar(\n",
    "    dataframe,\n",
    "    x='NOME_MES_PARTIDA_PREVISTA',\n",
    "    y='TOTAL_SITUACAO',\n",
    "    color='SITUACAO_VOO',\n",
    "    barmode='group',\n",
    "    text_auto='0'\n",
    ")\n",
    "\n",
    "fig.show()"
   ]
  },
  {
   "cell_type": "markdown",
   "metadata": {},
   "source": [
    "- Variação  da Situação do Voo em relação ao mês anterior (Não expressar em porcentagem)"
   ]
  },
  {
   "cell_type": "code",
   "execution_count": 9,
   "metadata": {},
   "outputs": [],
   "source": [
    "def obter_variacao_situacao_voo(sigla_aeroporto: str, mes_partida_prevista: List[int], codigo_tipo_linha: str, situacao_voo: str,  sigla_empresa: str = None):\n",
    "    dataframe = obter_situacao_voo(\n",
    "        sigla_aeroporto=sigla_aeroporto, \n",
    "        mes_partida_prevista=mes_partida_prevista, # [1,2]\n",
    "        codigo_tipo_linha=codigo_tipo_linha,\n",
    "        sigla_empresa=sigla_empresa\n",
    "    )\n",
    "    dataframe.drop('PROPORCAO', axis=1, inplace=True)\n",
    "    dataframe['TOTAL_SITUACAO_MES_ANTERIOR'] = dataframe.groupby('SITUACAO_VOO')['TOTAL_SITUACAO'].shift(1)\n",
    "    dataframe.fillna(0,axis=1,inplace=True)\n",
    "    dataframe = dataframe.query(f' SITUACAO_VOO == \"{situacao_voo}\" ')\n",
    "    return dataframe"
   ]
  },
  {
   "cell_type": "code",
   "execution_count": 10,
   "metadata": {},
   "outputs": [
    {
     "data": {
      "text/html": [
       "<div>\n",
       "<style scoped>\n",
       "    .dataframe tbody tr th:only-of-type {\n",
       "        vertical-align: middle;\n",
       "    }\n",
       "\n",
       "    .dataframe tbody tr th {\n",
       "        vertical-align: top;\n",
       "    }\n",
       "\n",
       "    .dataframe thead th {\n",
       "        text-align: right;\n",
       "    }\n",
       "</style>\n",
       "<table border=\"1\" class=\"dataframe\">\n",
       "  <thead>\n",
       "    <tr style=\"text-align: right;\">\n",
       "      <th></th>\n",
       "      <th>SITUACAO_VOO</th>\n",
       "      <th>MES_PARTIDA_PREVISTA</th>\n",
       "      <th>NOME_MES_PARTIDA_PREVISTA</th>\n",
       "      <th>SIGLA_ICAO_AEROPORTO_ORIGEM</th>\n",
       "      <th>TOTAL_SITUACAO</th>\n",
       "      <th>TOTAL_SITUACAO_MES_ANTERIOR</th>\n",
       "    </tr>\n",
       "  </thead>\n",
       "  <tbody>\n",
       "    <tr>\n",
       "      <th>0</th>\n",
       "      <td>REALIZADO</td>\n",
       "      <td>1</td>\n",
       "      <td>janeiro</td>\n",
       "      <td>SBRP</td>\n",
       "      <td>582</td>\n",
       "      <td>0</td>\n",
       "    </tr>\n",
       "    <tr>\n",
       "      <th>11</th>\n",
       "      <td>REALIZADO</td>\n",
       "      <td>2</td>\n",
       "      <td>fevereiro</td>\n",
       "      <td>SBRP</td>\n",
       "      <td>249</td>\n",
       "      <td>582.0</td>\n",
       "    </tr>\n",
       "    <tr>\n",
       "      <th>9</th>\n",
       "      <td>REALIZADO</td>\n",
       "      <td>3</td>\n",
       "      <td>março</td>\n",
       "      <td>SBRP</td>\n",
       "      <td>345</td>\n",
       "      <td>249.0</td>\n",
       "    </tr>\n",
       "    <tr>\n",
       "      <th>5</th>\n",
       "      <td>REALIZADO</td>\n",
       "      <td>4</td>\n",
       "      <td>abril</td>\n",
       "      <td>SBRP</td>\n",
       "      <td>381</td>\n",
       "      <td>345.0</td>\n",
       "    </tr>\n",
       "    <tr>\n",
       "      <th>1</th>\n",
       "      <td>REALIZADO</td>\n",
       "      <td>5</td>\n",
       "      <td>maio</td>\n",
       "      <td>SBRP</td>\n",
       "      <td>433</td>\n",
       "      <td>381.0</td>\n",
       "    </tr>\n",
       "    <tr>\n",
       "      <th>3</th>\n",
       "      <td>REALIZADO</td>\n",
       "      <td>6</td>\n",
       "      <td>junho</td>\n",
       "      <td>SBRP</td>\n",
       "      <td>387</td>\n",
       "      <td>433.0</td>\n",
       "    </tr>\n",
       "    <tr>\n",
       "      <th>10</th>\n",
       "      <td>REALIZADO</td>\n",
       "      <td>7</td>\n",
       "      <td>julho</td>\n",
       "      <td>SBRP</td>\n",
       "      <td>250</td>\n",
       "      <td>387.0</td>\n",
       "    </tr>\n",
       "    <tr>\n",
       "      <th>2</th>\n",
       "      <td>REALIZADO</td>\n",
       "      <td>8</td>\n",
       "      <td>agosto</td>\n",
       "      <td>SBRP</td>\n",
       "      <td>409</td>\n",
       "      <td>250.0</td>\n",
       "    </tr>\n",
       "    <tr>\n",
       "      <th>7</th>\n",
       "      <td>REALIZADO</td>\n",
       "      <td>9</td>\n",
       "      <td>setembro</td>\n",
       "      <td>SBRP</td>\n",
       "      <td>368</td>\n",
       "      <td>409.0</td>\n",
       "    </tr>\n",
       "    <tr>\n",
       "      <th>6</th>\n",
       "      <td>REALIZADO</td>\n",
       "      <td>10</td>\n",
       "      <td>outubro</td>\n",
       "      <td>SBRP</td>\n",
       "      <td>375</td>\n",
       "      <td>368.0</td>\n",
       "    </tr>\n",
       "    <tr>\n",
       "      <th>8</th>\n",
       "      <td>REALIZADO</td>\n",
       "      <td>11</td>\n",
       "      <td>novembro</td>\n",
       "      <td>SBRP</td>\n",
       "      <td>357</td>\n",
       "      <td>375.0</td>\n",
       "    </tr>\n",
       "    <tr>\n",
       "      <th>4</th>\n",
       "      <td>REALIZADO</td>\n",
       "      <td>12</td>\n",
       "      <td>dezembro</td>\n",
       "      <td>SBRP</td>\n",
       "      <td>384</td>\n",
       "      <td>357.0</td>\n",
       "    </tr>\n",
       "  </tbody>\n",
       "</table>\n",
       "</div>"
      ],
      "text/plain": [
       "   SITUACAO_VOO MES_PARTIDA_PREVISTA NOME_MES_PARTIDA_PREVISTA  \\\n",
       "0     REALIZADO                    1                   janeiro   \n",
       "11    REALIZADO                    2                 fevereiro   \n",
       "9     REALIZADO                    3                     março   \n",
       "5     REALIZADO                    4                     abril   \n",
       "1     REALIZADO                    5                      maio   \n",
       "3     REALIZADO                    6                     junho   \n",
       "10    REALIZADO                    7                     julho   \n",
       "2     REALIZADO                    8                    agosto   \n",
       "7     REALIZADO                    9                  setembro   \n",
       "6     REALIZADO                   10                   outubro   \n",
       "8     REALIZADO                   11                  novembro   \n",
       "4     REALIZADO                   12                  dezembro   \n",
       "\n",
       "   SIGLA_ICAO_AEROPORTO_ORIGEM TOTAL_SITUACAO TOTAL_SITUACAO_MES_ANTERIOR  \n",
       "0                         SBRP            582                           0  \n",
       "11                        SBRP            249                       582.0  \n",
       "9                         SBRP            345                       249.0  \n",
       "5                         SBRP            381                       345.0  \n",
       "1                         SBRP            433                       381.0  \n",
       "3                         SBRP            387                       433.0  \n",
       "10                        SBRP            250                       387.0  \n",
       "2                         SBRP            409                       250.0  \n",
       "7                         SBRP            368                       409.0  \n",
       "6                         SBRP            375                       368.0  \n",
       "8                         SBRP            357                       375.0  \n",
       "4                         SBRP            384                       357.0  "
      ]
     },
     "execution_count": 10,
     "metadata": {},
     "output_type": "execute_result"
    }
   ],
   "source": [
    "dataframe = obter_variacao_situacao_voo(\n",
    "    sigla_aeroporto='SBRP', \n",
    "    mes_partida_prevista=[i for i in range(1, 13)], # [1,2]\n",
    "    codigo_tipo_linha='N',\n",
    "    situacao_voo='REALIZADO'\n",
    ")\n",
    "dataframe "
   ]
  },
  {
   "cell_type": "code",
   "execution_count": 11,
   "metadata": {},
   "outputs": [
    {
     "data": {
      "application/vnd.plotly.v1+json": {
       "config": {
        "plotlyServerURL": "https://plot.ly"
       },
       "data": [
        {
         "name": "Mês atual",
         "type": "bar",
         "x": [
          "janeiro",
          "fevereiro",
          "março",
          "abril",
          "maio",
          "junho",
          "julho",
          "agosto",
          "setembro",
          "outubro",
          "novembro",
          "dezembro"
         ],
         "y": [
          582,
          249,
          345,
          381,
          433,
          387,
          250,
          409,
          368,
          375,
          357,
          384
         ]
        },
        {
         "name": "Mês anterior",
         "type": "scatter",
         "x": [
          "janeiro",
          "fevereiro",
          "março",
          "abril",
          "maio",
          "junho",
          "julho",
          "agosto",
          "setembro",
          "outubro",
          "novembro",
          "dezembro"
         ],
         "y": [
          0,
          582,
          249,
          345,
          381,
          433,
          387,
          250,
          409,
          368,
          375,
          357
         ]
        }
       ],
       "layout": {
        "template": {
         "data": {
          "bar": [
           {
            "error_x": {
             "color": "#2a3f5f"
            },
            "error_y": {
             "color": "#2a3f5f"
            },
            "marker": {
             "line": {
              "color": "#E5ECF6",
              "width": 0.5
             },
             "pattern": {
              "fillmode": "overlay",
              "size": 10,
              "solidity": 0.2
             }
            },
            "type": "bar"
           }
          ],
          "barpolar": [
           {
            "marker": {
             "line": {
              "color": "#E5ECF6",
              "width": 0.5
             },
             "pattern": {
              "fillmode": "overlay",
              "size": 10,
              "solidity": 0.2
             }
            },
            "type": "barpolar"
           }
          ],
          "carpet": [
           {
            "aaxis": {
             "endlinecolor": "#2a3f5f",
             "gridcolor": "white",
             "linecolor": "white",
             "minorgridcolor": "white",
             "startlinecolor": "#2a3f5f"
            },
            "baxis": {
             "endlinecolor": "#2a3f5f",
             "gridcolor": "white",
             "linecolor": "white",
             "minorgridcolor": "white",
             "startlinecolor": "#2a3f5f"
            },
            "type": "carpet"
           }
          ],
          "choropleth": [
           {
            "colorbar": {
             "outlinewidth": 0,
             "ticks": ""
            },
            "type": "choropleth"
           }
          ],
          "contour": [
           {
            "colorbar": {
             "outlinewidth": 0,
             "ticks": ""
            },
            "colorscale": [
             [
              0,
              "#0d0887"
             ],
             [
              0.1111111111111111,
              "#46039f"
             ],
             [
              0.2222222222222222,
              "#7201a8"
             ],
             [
              0.3333333333333333,
              "#9c179e"
             ],
             [
              0.4444444444444444,
              "#bd3786"
             ],
             [
              0.5555555555555556,
              "#d8576b"
             ],
             [
              0.6666666666666666,
              "#ed7953"
             ],
             [
              0.7777777777777778,
              "#fb9f3a"
             ],
             [
              0.8888888888888888,
              "#fdca26"
             ],
             [
              1,
              "#f0f921"
             ]
            ],
            "type": "contour"
           }
          ],
          "contourcarpet": [
           {
            "colorbar": {
             "outlinewidth": 0,
             "ticks": ""
            },
            "type": "contourcarpet"
           }
          ],
          "heatmap": [
           {
            "colorbar": {
             "outlinewidth": 0,
             "ticks": ""
            },
            "colorscale": [
             [
              0,
              "#0d0887"
             ],
             [
              0.1111111111111111,
              "#46039f"
             ],
             [
              0.2222222222222222,
              "#7201a8"
             ],
             [
              0.3333333333333333,
              "#9c179e"
             ],
             [
              0.4444444444444444,
              "#bd3786"
             ],
             [
              0.5555555555555556,
              "#d8576b"
             ],
             [
              0.6666666666666666,
              "#ed7953"
             ],
             [
              0.7777777777777778,
              "#fb9f3a"
             ],
             [
              0.8888888888888888,
              "#fdca26"
             ],
             [
              1,
              "#f0f921"
             ]
            ],
            "type": "heatmap"
           }
          ],
          "heatmapgl": [
           {
            "colorbar": {
             "outlinewidth": 0,
             "ticks": ""
            },
            "colorscale": [
             [
              0,
              "#0d0887"
             ],
             [
              0.1111111111111111,
              "#46039f"
             ],
             [
              0.2222222222222222,
              "#7201a8"
             ],
             [
              0.3333333333333333,
              "#9c179e"
             ],
             [
              0.4444444444444444,
              "#bd3786"
             ],
             [
              0.5555555555555556,
              "#d8576b"
             ],
             [
              0.6666666666666666,
              "#ed7953"
             ],
             [
              0.7777777777777778,
              "#fb9f3a"
             ],
             [
              0.8888888888888888,
              "#fdca26"
             ],
             [
              1,
              "#f0f921"
             ]
            ],
            "type": "heatmapgl"
           }
          ],
          "histogram": [
           {
            "marker": {
             "pattern": {
              "fillmode": "overlay",
              "size": 10,
              "solidity": 0.2
             }
            },
            "type": "histogram"
           }
          ],
          "histogram2d": [
           {
            "colorbar": {
             "outlinewidth": 0,
             "ticks": ""
            },
            "colorscale": [
             [
              0,
              "#0d0887"
             ],
             [
              0.1111111111111111,
              "#46039f"
             ],
             [
              0.2222222222222222,
              "#7201a8"
             ],
             [
              0.3333333333333333,
              "#9c179e"
             ],
             [
              0.4444444444444444,
              "#bd3786"
             ],
             [
              0.5555555555555556,
              "#d8576b"
             ],
             [
              0.6666666666666666,
              "#ed7953"
             ],
             [
              0.7777777777777778,
              "#fb9f3a"
             ],
             [
              0.8888888888888888,
              "#fdca26"
             ],
             [
              1,
              "#f0f921"
             ]
            ],
            "type": "histogram2d"
           }
          ],
          "histogram2dcontour": [
           {
            "colorbar": {
             "outlinewidth": 0,
             "ticks": ""
            },
            "colorscale": [
             [
              0,
              "#0d0887"
             ],
             [
              0.1111111111111111,
              "#46039f"
             ],
             [
              0.2222222222222222,
              "#7201a8"
             ],
             [
              0.3333333333333333,
              "#9c179e"
             ],
             [
              0.4444444444444444,
              "#bd3786"
             ],
             [
              0.5555555555555556,
              "#d8576b"
             ],
             [
              0.6666666666666666,
              "#ed7953"
             ],
             [
              0.7777777777777778,
              "#fb9f3a"
             ],
             [
              0.8888888888888888,
              "#fdca26"
             ],
             [
              1,
              "#f0f921"
             ]
            ],
            "type": "histogram2dcontour"
           }
          ],
          "mesh3d": [
           {
            "colorbar": {
             "outlinewidth": 0,
             "ticks": ""
            },
            "type": "mesh3d"
           }
          ],
          "parcoords": [
           {
            "line": {
             "colorbar": {
              "outlinewidth": 0,
              "ticks": ""
             }
            },
            "type": "parcoords"
           }
          ],
          "pie": [
           {
            "automargin": true,
            "type": "pie"
           }
          ],
          "scatter": [
           {
            "fillpattern": {
             "fillmode": "overlay",
             "size": 10,
             "solidity": 0.2
            },
            "type": "scatter"
           }
          ],
          "scatter3d": [
           {
            "line": {
             "colorbar": {
              "outlinewidth": 0,
              "ticks": ""
             }
            },
            "marker": {
             "colorbar": {
              "outlinewidth": 0,
              "ticks": ""
             }
            },
            "type": "scatter3d"
           }
          ],
          "scattercarpet": [
           {
            "marker": {
             "colorbar": {
              "outlinewidth": 0,
              "ticks": ""
             }
            },
            "type": "scattercarpet"
           }
          ],
          "scattergeo": [
           {
            "marker": {
             "colorbar": {
              "outlinewidth": 0,
              "ticks": ""
             }
            },
            "type": "scattergeo"
           }
          ],
          "scattergl": [
           {
            "marker": {
             "colorbar": {
              "outlinewidth": 0,
              "ticks": ""
             }
            },
            "type": "scattergl"
           }
          ],
          "scattermapbox": [
           {
            "marker": {
             "colorbar": {
              "outlinewidth": 0,
              "ticks": ""
             }
            },
            "type": "scattermapbox"
           }
          ],
          "scatterpolar": [
           {
            "marker": {
             "colorbar": {
              "outlinewidth": 0,
              "ticks": ""
             }
            },
            "type": "scatterpolar"
           }
          ],
          "scatterpolargl": [
           {
            "marker": {
             "colorbar": {
              "outlinewidth": 0,
              "ticks": ""
             }
            },
            "type": "scatterpolargl"
           }
          ],
          "scatterternary": [
           {
            "marker": {
             "colorbar": {
              "outlinewidth": 0,
              "ticks": ""
             }
            },
            "type": "scatterternary"
           }
          ],
          "surface": [
           {
            "colorbar": {
             "outlinewidth": 0,
             "ticks": ""
            },
            "colorscale": [
             [
              0,
              "#0d0887"
             ],
             [
              0.1111111111111111,
              "#46039f"
             ],
             [
              0.2222222222222222,
              "#7201a8"
             ],
             [
              0.3333333333333333,
              "#9c179e"
             ],
             [
              0.4444444444444444,
              "#bd3786"
             ],
             [
              0.5555555555555556,
              "#d8576b"
             ],
             [
              0.6666666666666666,
              "#ed7953"
             ],
             [
              0.7777777777777778,
              "#fb9f3a"
             ],
             [
              0.8888888888888888,
              "#fdca26"
             ],
             [
              1,
              "#f0f921"
             ]
            ],
            "type": "surface"
           }
          ],
          "table": [
           {
            "cells": {
             "fill": {
              "color": "#EBF0F8"
             },
             "line": {
              "color": "white"
             }
            },
            "header": {
             "fill": {
              "color": "#C8D4E3"
             },
             "line": {
              "color": "white"
             }
            },
            "type": "table"
           }
          ]
         },
         "layout": {
          "annotationdefaults": {
           "arrowcolor": "#2a3f5f",
           "arrowhead": 0,
           "arrowwidth": 1
          },
          "autotypenumbers": "strict",
          "coloraxis": {
           "colorbar": {
            "outlinewidth": 0,
            "ticks": ""
           }
          },
          "colorscale": {
           "diverging": [
            [
             0,
             "#8e0152"
            ],
            [
             0.1,
             "#c51b7d"
            ],
            [
             0.2,
             "#de77ae"
            ],
            [
             0.3,
             "#f1b6da"
            ],
            [
             0.4,
             "#fde0ef"
            ],
            [
             0.5,
             "#f7f7f7"
            ],
            [
             0.6,
             "#e6f5d0"
            ],
            [
             0.7,
             "#b8e186"
            ],
            [
             0.8,
             "#7fbc41"
            ],
            [
             0.9,
             "#4d9221"
            ],
            [
             1,
             "#276419"
            ]
           ],
           "sequential": [
            [
             0,
             "#0d0887"
            ],
            [
             0.1111111111111111,
             "#46039f"
            ],
            [
             0.2222222222222222,
             "#7201a8"
            ],
            [
             0.3333333333333333,
             "#9c179e"
            ],
            [
             0.4444444444444444,
             "#bd3786"
            ],
            [
             0.5555555555555556,
             "#d8576b"
            ],
            [
             0.6666666666666666,
             "#ed7953"
            ],
            [
             0.7777777777777778,
             "#fb9f3a"
            ],
            [
             0.8888888888888888,
             "#fdca26"
            ],
            [
             1,
             "#f0f921"
            ]
           ],
           "sequentialminus": [
            [
             0,
             "#0d0887"
            ],
            [
             0.1111111111111111,
             "#46039f"
            ],
            [
             0.2222222222222222,
             "#7201a8"
            ],
            [
             0.3333333333333333,
             "#9c179e"
            ],
            [
             0.4444444444444444,
             "#bd3786"
            ],
            [
             0.5555555555555556,
             "#d8576b"
            ],
            [
             0.6666666666666666,
             "#ed7953"
            ],
            [
             0.7777777777777778,
             "#fb9f3a"
            ],
            [
             0.8888888888888888,
             "#fdca26"
            ],
            [
             1,
             "#f0f921"
            ]
           ]
          },
          "colorway": [
           "#636efa",
           "#EF553B",
           "#00cc96",
           "#ab63fa",
           "#FFA15A",
           "#19d3f3",
           "#FF6692",
           "#B6E880",
           "#FF97FF",
           "#FECB52"
          ],
          "font": {
           "color": "#2a3f5f"
          },
          "geo": {
           "bgcolor": "white",
           "lakecolor": "white",
           "landcolor": "#E5ECF6",
           "showlakes": true,
           "showland": true,
           "subunitcolor": "white"
          },
          "hoverlabel": {
           "align": "left"
          },
          "hovermode": "closest",
          "mapbox": {
           "style": "light"
          },
          "paper_bgcolor": "white",
          "plot_bgcolor": "#E5ECF6",
          "polar": {
           "angularaxis": {
            "gridcolor": "white",
            "linecolor": "white",
            "ticks": ""
           },
           "bgcolor": "#E5ECF6",
           "radialaxis": {
            "gridcolor": "white",
            "linecolor": "white",
            "ticks": ""
           }
          },
          "scene": {
           "xaxis": {
            "backgroundcolor": "#E5ECF6",
            "gridcolor": "white",
            "gridwidth": 2,
            "linecolor": "white",
            "showbackground": true,
            "ticks": "",
            "zerolinecolor": "white"
           },
           "yaxis": {
            "backgroundcolor": "#E5ECF6",
            "gridcolor": "white",
            "gridwidth": 2,
            "linecolor": "white",
            "showbackground": true,
            "ticks": "",
            "zerolinecolor": "white"
           },
           "zaxis": {
            "backgroundcolor": "#E5ECF6",
            "gridcolor": "white",
            "gridwidth": 2,
            "linecolor": "white",
            "showbackground": true,
            "ticks": "",
            "zerolinecolor": "white"
           }
          },
          "shapedefaults": {
           "line": {
            "color": "#2a3f5f"
           }
          },
          "ternary": {
           "aaxis": {
            "gridcolor": "white",
            "linecolor": "white",
            "ticks": ""
           },
           "baxis": {
            "gridcolor": "white",
            "linecolor": "white",
            "ticks": ""
           },
           "bgcolor": "#E5ECF6",
           "caxis": {
            "gridcolor": "white",
            "linecolor": "white",
            "ticks": ""
           }
          },
          "title": {
           "x": 0.05
          },
          "xaxis": {
           "automargin": true,
           "gridcolor": "white",
           "linecolor": "white",
           "ticks": "",
           "title": {
            "standoff": 15
           },
           "zerolinecolor": "white",
           "zerolinewidth": 2
          },
          "yaxis": {
           "automargin": true,
           "gridcolor": "white",
           "linecolor": "white",
           "ticks": "",
           "title": {
            "standoff": 15
           },
           "zerolinecolor": "white",
           "zerolinewidth": 2
          }
         }
        },
        "title": {
         "text": "Teste"
        }
       }
      }
     },
     "metadata": {},
     "output_type": "display_data"
    }
   ],
   "source": [
    "fig = go.Figure()\n",
    "\n",
    "\n",
    "fig.add_trace(\n",
    "    go.Bar(\n",
    "        x=dataframe['NOME_MES_PARTIDA_PREVISTA'],\n",
    "        y=dataframe['TOTAL_SITUACAO'],\n",
    "        name='Mês atual',\n",
    "\n",
    "    )\n",
    ")\n",
    "\n",
    "\n",
    "fig.add_trace(\n",
    "    go.Scatter(\n",
    "        x=dataframe['NOME_MES_PARTIDA_PREVISTA'],\n",
    "        y=dataframe['TOTAL_SITUACAO_MES_ANTERIOR'],\n",
    "        name='Mês anterior'\n",
    "    )\n",
    ")\n",
    "fig.update_layout(\n",
    "    title='Teste'\n",
    ")\n",
    "fig.show()"
   ]
  },
  {
   "cell_type": "markdown",
   "metadata": {},
   "source": [
    "- Analise da variação percentual da SITUAÇÂO voo Filtrando por Aerporto origem por mês compare com o mês anterior (Talvez com vísual cartões) deixe filtro facultativo por empresa)"
   ]
  },
  {
   "cell_type": "code",
   "execution_count": 12,
   "metadata": {},
   "outputs": [],
   "source": [
    "def calcular_variacao(linha):\n",
    "    try:\n",
    "        total_atual = linha['TOTAL_SITUACAO']\n",
    "        total_mes_anterior = linha['TOTAL_SITUACAO_MES_ANTERIOR']\n",
    "        variacao = ((total_atual - total_mes_anterior) / total_mes_anterior) * 100\n",
    "    except ZeroDivisionError:\n",
    "        variacao = 0\n",
    "    return round(variacao, 2)"
   ]
  },
  {
   "cell_type": "code",
   "execution_count": 13,
   "metadata": {},
   "outputs": [],
   "source": [
    "def obter_variacao_percentual(sigla_aeroporto: str, situacao_voo: str, mes_partida: int, codigo_tipo_linha: str,  sigla_empresa: str = None):\n",
    "    colunas = [\n",
    "        'SITUACAO_VOO',\n",
    "        'MES_PARTIDA_PREVISTA',\n",
    "        'NOME_MES_PARTIDA_PREVISTA',\n",
    "        'SIGLA_ICAO_AEROPORTO_ORIGEM',\n",
    "        'NOME_AEROPORTO_ORIGEM',\n",
    "        'NOME_EMPRESA',\n",
    "        'CODIGO_TIPO_LINHA'\n",
    "    ]\n",
    "    query = f' SIGLA_ICAO_AEROPORTO_ORIGEM == \"{sigla_aeroporto}\" and  CODIGO_TIPO_LINHA == \"{codigo_tipo_linha}\" '\n",
    "    if sigla_empresa is not None:\n",
    "        query += f' and SIGLA_ICAO_EMPRESA_AEREA == \"{sigla_empresa}\"  '\n",
    "        colunas.append('SIGLA_ICAO_EMPRESA_AEREA')\n",
    "\n",
    "    dataframe = pd.read_parquet(caminho_base, columns=colunas)\n",
    "    dataframe = dataframe.query(query)\n",
    "    dataframe[['SITUACAO_VOO','NOME_MES_PARTIDA_PREVISTA' ]] = dataframe[['SITUACAO_VOO','NOME_MES_PARTIDA_PREVISTA' ]].astype('string')\n",
    "    dataframe = dataframe.groupby(['SITUACAO_VOO', 'NOME_MES_PARTIDA_PREVISTA', 'MES_PARTIDA_PREVISTA']).agg(\n",
    "        TOTAL_SITUACAO=('SITUACAO_VOO', 'count')\n",
    "    ).sort_values(by=['SITUACAO_VOO','MES_PARTIDA_PREVISTA']).reset_index()\n",
    "    dataframe['TOTAL_SITUACAO_MES_ANTERIOR'] = dataframe.groupby('SITUACAO_VOO')['TOTAL_SITUACAO'].shift(1)\n",
    "    dataframe.fillna(0, axis=1, inplace=True)\n",
    "    dataframe['PERCENTUAL_VARIACAO'] = dataframe.apply(calcular_variacao, axis=1)\n",
    "    query = f'SITUACAO_VOO == \"{situacao_voo}\" and MES_PARTIDA_PREVISTA == {mes_partida}'\n",
    "\n",
    "    dataframe = dataframe.query(query)[['TOTAL_SITUACAO', 'TOTAL_SITUACAO_MES_ANTERIOR', 'PERCENTUAL_VARIACAO']]\n",
    "\n",
    "    return dataframe"
   ]
  },
  {
   "cell_type": "code",
   "execution_count": 14,
   "metadata": {},
   "outputs": [
    {
     "data": {
      "text/html": [
       "<div>\n",
       "<style scoped>\n",
       "    .dataframe tbody tr th:only-of-type {\n",
       "        vertical-align: middle;\n",
       "    }\n",
       "\n",
       "    .dataframe tbody tr th {\n",
       "        vertical-align: top;\n",
       "    }\n",
       "\n",
       "    .dataframe thead th {\n",
       "        text-align: right;\n",
       "    }\n",
       "</style>\n",
       "<table border=\"1\" class=\"dataframe\">\n",
       "  <thead>\n",
       "    <tr style=\"text-align: right;\">\n",
       "      <th></th>\n",
       "      <th>TOTAL_SITUACAO</th>\n",
       "      <th>TOTAL_SITUACAO_MES_ANTERIOR</th>\n",
       "      <th>PERCENTUAL_VARIACAO</th>\n",
       "    </tr>\n",
       "  </thead>\n",
       "  <tbody>\n",
       "    <tr>\n",
       "      <th>3</th>\n",
       "      <td>20</td>\n",
       "      <td>41.0</td>\n",
       "      <td>-51.22</td>\n",
       "    </tr>\n",
       "  </tbody>\n",
       "</table>\n",
       "</div>"
      ],
      "text/plain": [
       "  TOTAL_SITUACAO TOTAL_SITUACAO_MES_ANTERIOR  PERCENTUAL_VARIACAO\n",
       "3             20                        41.0               -51.22"
      ]
     },
     "execution_count": 14,
     "metadata": {},
     "output_type": "execute_result"
    }
   ],
   "source": [
    "dataframe = obter_variacao_percentual(\n",
    "    sigla_aeroporto='SBRP',\n",
    "    sigla_empresa='TAM',\n",
    "    mes_partida=2, \n",
    "    situacao_voo='REALIZADO',\n",
    "    codigo_tipo_linha='N'\n",
    ")\n",
    "dataframe"
   ]
  },
  {
   "cell_type": "code",
   "execution_count": 15,
   "metadata": {},
   "outputs": [
    {
     "data": {
      "application/vnd.plotly.v1+json": {
       "config": {
        "plotlyServerURL": "https://plot.ly"
       },
       "data": [
        {
         "delta": {
          "position": "top",
          "reference": 41,
          "relative": true,
          "valueformat": ".2%"
         },
         "mode": "number+delta",
         "title": {
          "text": "Total Situação Vôos Realizados"
         },
         "type": "indicator",
         "value": 20
        }
       ],
       "layout": {
        "template": {
         "data": {
          "bar": [
           {
            "error_x": {
             "color": "#2a3f5f"
            },
            "error_y": {
             "color": "#2a3f5f"
            },
            "marker": {
             "line": {
              "color": "#E5ECF6",
              "width": 0.5
             },
             "pattern": {
              "fillmode": "overlay",
              "size": 10,
              "solidity": 0.2
             }
            },
            "type": "bar"
           }
          ],
          "barpolar": [
           {
            "marker": {
             "line": {
              "color": "#E5ECF6",
              "width": 0.5
             },
             "pattern": {
              "fillmode": "overlay",
              "size": 10,
              "solidity": 0.2
             }
            },
            "type": "barpolar"
           }
          ],
          "carpet": [
           {
            "aaxis": {
             "endlinecolor": "#2a3f5f",
             "gridcolor": "white",
             "linecolor": "white",
             "minorgridcolor": "white",
             "startlinecolor": "#2a3f5f"
            },
            "baxis": {
             "endlinecolor": "#2a3f5f",
             "gridcolor": "white",
             "linecolor": "white",
             "minorgridcolor": "white",
             "startlinecolor": "#2a3f5f"
            },
            "type": "carpet"
           }
          ],
          "choropleth": [
           {
            "colorbar": {
             "outlinewidth": 0,
             "ticks": ""
            },
            "type": "choropleth"
           }
          ],
          "contour": [
           {
            "colorbar": {
             "outlinewidth": 0,
             "ticks": ""
            },
            "colorscale": [
             [
              0,
              "#0d0887"
             ],
             [
              0.1111111111111111,
              "#46039f"
             ],
             [
              0.2222222222222222,
              "#7201a8"
             ],
             [
              0.3333333333333333,
              "#9c179e"
             ],
             [
              0.4444444444444444,
              "#bd3786"
             ],
             [
              0.5555555555555556,
              "#d8576b"
             ],
             [
              0.6666666666666666,
              "#ed7953"
             ],
             [
              0.7777777777777778,
              "#fb9f3a"
             ],
             [
              0.8888888888888888,
              "#fdca26"
             ],
             [
              1,
              "#f0f921"
             ]
            ],
            "type": "contour"
           }
          ],
          "contourcarpet": [
           {
            "colorbar": {
             "outlinewidth": 0,
             "ticks": ""
            },
            "type": "contourcarpet"
           }
          ],
          "heatmap": [
           {
            "colorbar": {
             "outlinewidth": 0,
             "ticks": ""
            },
            "colorscale": [
             [
              0,
              "#0d0887"
             ],
             [
              0.1111111111111111,
              "#46039f"
             ],
             [
              0.2222222222222222,
              "#7201a8"
             ],
             [
              0.3333333333333333,
              "#9c179e"
             ],
             [
              0.4444444444444444,
              "#bd3786"
             ],
             [
              0.5555555555555556,
              "#d8576b"
             ],
             [
              0.6666666666666666,
              "#ed7953"
             ],
             [
              0.7777777777777778,
              "#fb9f3a"
             ],
             [
              0.8888888888888888,
              "#fdca26"
             ],
             [
              1,
              "#f0f921"
             ]
            ],
            "type": "heatmap"
           }
          ],
          "heatmapgl": [
           {
            "colorbar": {
             "outlinewidth": 0,
             "ticks": ""
            },
            "colorscale": [
             [
              0,
              "#0d0887"
             ],
             [
              0.1111111111111111,
              "#46039f"
             ],
             [
              0.2222222222222222,
              "#7201a8"
             ],
             [
              0.3333333333333333,
              "#9c179e"
             ],
             [
              0.4444444444444444,
              "#bd3786"
             ],
             [
              0.5555555555555556,
              "#d8576b"
             ],
             [
              0.6666666666666666,
              "#ed7953"
             ],
             [
              0.7777777777777778,
              "#fb9f3a"
             ],
             [
              0.8888888888888888,
              "#fdca26"
             ],
             [
              1,
              "#f0f921"
             ]
            ],
            "type": "heatmapgl"
           }
          ],
          "histogram": [
           {
            "marker": {
             "pattern": {
              "fillmode": "overlay",
              "size": 10,
              "solidity": 0.2
             }
            },
            "type": "histogram"
           }
          ],
          "histogram2d": [
           {
            "colorbar": {
             "outlinewidth": 0,
             "ticks": ""
            },
            "colorscale": [
             [
              0,
              "#0d0887"
             ],
             [
              0.1111111111111111,
              "#46039f"
             ],
             [
              0.2222222222222222,
              "#7201a8"
             ],
             [
              0.3333333333333333,
              "#9c179e"
             ],
             [
              0.4444444444444444,
              "#bd3786"
             ],
             [
              0.5555555555555556,
              "#d8576b"
             ],
             [
              0.6666666666666666,
              "#ed7953"
             ],
             [
              0.7777777777777778,
              "#fb9f3a"
             ],
             [
              0.8888888888888888,
              "#fdca26"
             ],
             [
              1,
              "#f0f921"
             ]
            ],
            "type": "histogram2d"
           }
          ],
          "histogram2dcontour": [
           {
            "colorbar": {
             "outlinewidth": 0,
             "ticks": ""
            },
            "colorscale": [
             [
              0,
              "#0d0887"
             ],
             [
              0.1111111111111111,
              "#46039f"
             ],
             [
              0.2222222222222222,
              "#7201a8"
             ],
             [
              0.3333333333333333,
              "#9c179e"
             ],
             [
              0.4444444444444444,
              "#bd3786"
             ],
             [
              0.5555555555555556,
              "#d8576b"
             ],
             [
              0.6666666666666666,
              "#ed7953"
             ],
             [
              0.7777777777777778,
              "#fb9f3a"
             ],
             [
              0.8888888888888888,
              "#fdca26"
             ],
             [
              1,
              "#f0f921"
             ]
            ],
            "type": "histogram2dcontour"
           }
          ],
          "mesh3d": [
           {
            "colorbar": {
             "outlinewidth": 0,
             "ticks": ""
            },
            "type": "mesh3d"
           }
          ],
          "parcoords": [
           {
            "line": {
             "colorbar": {
              "outlinewidth": 0,
              "ticks": ""
             }
            },
            "type": "parcoords"
           }
          ],
          "pie": [
           {
            "automargin": true,
            "type": "pie"
           }
          ],
          "scatter": [
           {
            "fillpattern": {
             "fillmode": "overlay",
             "size": 10,
             "solidity": 0.2
            },
            "type": "scatter"
           }
          ],
          "scatter3d": [
           {
            "line": {
             "colorbar": {
              "outlinewidth": 0,
              "ticks": ""
             }
            },
            "marker": {
             "colorbar": {
              "outlinewidth": 0,
              "ticks": ""
             }
            },
            "type": "scatter3d"
           }
          ],
          "scattercarpet": [
           {
            "marker": {
             "colorbar": {
              "outlinewidth": 0,
              "ticks": ""
             }
            },
            "type": "scattercarpet"
           }
          ],
          "scattergeo": [
           {
            "marker": {
             "colorbar": {
              "outlinewidth": 0,
              "ticks": ""
             }
            },
            "type": "scattergeo"
           }
          ],
          "scattergl": [
           {
            "marker": {
             "colorbar": {
              "outlinewidth": 0,
              "ticks": ""
             }
            },
            "type": "scattergl"
           }
          ],
          "scattermapbox": [
           {
            "marker": {
             "colorbar": {
              "outlinewidth": 0,
              "ticks": ""
             }
            },
            "type": "scattermapbox"
           }
          ],
          "scatterpolar": [
           {
            "marker": {
             "colorbar": {
              "outlinewidth": 0,
              "ticks": ""
             }
            },
            "type": "scatterpolar"
           }
          ],
          "scatterpolargl": [
           {
            "marker": {
             "colorbar": {
              "outlinewidth": 0,
              "ticks": ""
             }
            },
            "type": "scatterpolargl"
           }
          ],
          "scatterternary": [
           {
            "marker": {
             "colorbar": {
              "outlinewidth": 0,
              "ticks": ""
             }
            },
            "type": "scatterternary"
           }
          ],
          "surface": [
           {
            "colorbar": {
             "outlinewidth": 0,
             "ticks": ""
            },
            "colorscale": [
             [
              0,
              "#0d0887"
             ],
             [
              0.1111111111111111,
              "#46039f"
             ],
             [
              0.2222222222222222,
              "#7201a8"
             ],
             [
              0.3333333333333333,
              "#9c179e"
             ],
             [
              0.4444444444444444,
              "#bd3786"
             ],
             [
              0.5555555555555556,
              "#d8576b"
             ],
             [
              0.6666666666666666,
              "#ed7953"
             ],
             [
              0.7777777777777778,
              "#fb9f3a"
             ],
             [
              0.8888888888888888,
              "#fdca26"
             ],
             [
              1,
              "#f0f921"
             ]
            ],
            "type": "surface"
           }
          ],
          "table": [
           {
            "cells": {
             "fill": {
              "color": "#EBF0F8"
             },
             "line": {
              "color": "white"
             }
            },
            "header": {
             "fill": {
              "color": "#C8D4E3"
             },
             "line": {
              "color": "white"
             }
            },
            "type": "table"
           }
          ]
         },
         "layout": {
          "annotationdefaults": {
           "arrowcolor": "#2a3f5f",
           "arrowhead": 0,
           "arrowwidth": 1
          },
          "autotypenumbers": "strict",
          "coloraxis": {
           "colorbar": {
            "outlinewidth": 0,
            "ticks": ""
           }
          },
          "colorscale": {
           "diverging": [
            [
             0,
             "#8e0152"
            ],
            [
             0.1,
             "#c51b7d"
            ],
            [
             0.2,
             "#de77ae"
            ],
            [
             0.3,
             "#f1b6da"
            ],
            [
             0.4,
             "#fde0ef"
            ],
            [
             0.5,
             "#f7f7f7"
            ],
            [
             0.6,
             "#e6f5d0"
            ],
            [
             0.7,
             "#b8e186"
            ],
            [
             0.8,
             "#7fbc41"
            ],
            [
             0.9,
             "#4d9221"
            ],
            [
             1,
             "#276419"
            ]
           ],
           "sequential": [
            [
             0,
             "#0d0887"
            ],
            [
             0.1111111111111111,
             "#46039f"
            ],
            [
             0.2222222222222222,
             "#7201a8"
            ],
            [
             0.3333333333333333,
             "#9c179e"
            ],
            [
             0.4444444444444444,
             "#bd3786"
            ],
            [
             0.5555555555555556,
             "#d8576b"
            ],
            [
             0.6666666666666666,
             "#ed7953"
            ],
            [
             0.7777777777777778,
             "#fb9f3a"
            ],
            [
             0.8888888888888888,
             "#fdca26"
            ],
            [
             1,
             "#f0f921"
            ]
           ],
           "sequentialminus": [
            [
             0,
             "#0d0887"
            ],
            [
             0.1111111111111111,
             "#46039f"
            ],
            [
             0.2222222222222222,
             "#7201a8"
            ],
            [
             0.3333333333333333,
             "#9c179e"
            ],
            [
             0.4444444444444444,
             "#bd3786"
            ],
            [
             0.5555555555555556,
             "#d8576b"
            ],
            [
             0.6666666666666666,
             "#ed7953"
            ],
            [
             0.7777777777777778,
             "#fb9f3a"
            ],
            [
             0.8888888888888888,
             "#fdca26"
            ],
            [
             1,
             "#f0f921"
            ]
           ]
          },
          "colorway": [
           "#636efa",
           "#EF553B",
           "#00cc96",
           "#ab63fa",
           "#FFA15A",
           "#19d3f3",
           "#FF6692",
           "#B6E880",
           "#FF97FF",
           "#FECB52"
          ],
          "font": {
           "color": "#2a3f5f"
          },
          "geo": {
           "bgcolor": "white",
           "lakecolor": "white",
           "landcolor": "#E5ECF6",
           "showlakes": true,
           "showland": true,
           "subunitcolor": "white"
          },
          "hoverlabel": {
           "align": "left"
          },
          "hovermode": "closest",
          "mapbox": {
           "style": "light"
          },
          "paper_bgcolor": "white",
          "plot_bgcolor": "#E5ECF6",
          "polar": {
           "angularaxis": {
            "gridcolor": "white",
            "linecolor": "white",
            "ticks": ""
           },
           "bgcolor": "#E5ECF6",
           "radialaxis": {
            "gridcolor": "white",
            "linecolor": "white",
            "ticks": ""
           }
          },
          "scene": {
           "xaxis": {
            "backgroundcolor": "#E5ECF6",
            "gridcolor": "white",
            "gridwidth": 2,
            "linecolor": "white",
            "showbackground": true,
            "ticks": "",
            "zerolinecolor": "white"
           },
           "yaxis": {
            "backgroundcolor": "#E5ECF6",
            "gridcolor": "white",
            "gridwidth": 2,
            "linecolor": "white",
            "showbackground": true,
            "ticks": "",
            "zerolinecolor": "white"
           },
           "zaxis": {
            "backgroundcolor": "#E5ECF6",
            "gridcolor": "white",
            "gridwidth": 2,
            "linecolor": "white",
            "showbackground": true,
            "ticks": "",
            "zerolinecolor": "white"
           }
          },
          "shapedefaults": {
           "line": {
            "color": "#2a3f5f"
           }
          },
          "ternary": {
           "aaxis": {
            "gridcolor": "white",
            "linecolor": "white",
            "ticks": ""
           },
           "baxis": {
            "gridcolor": "white",
            "linecolor": "white",
            "ticks": ""
           },
           "bgcolor": "#E5ECF6",
           "caxis": {
            "gridcolor": "white",
            "linecolor": "white",
            "ticks": ""
           }
          },
          "title": {
           "x": 0.05
          },
          "xaxis": {
           "automargin": true,
           "gridcolor": "white",
           "linecolor": "white",
           "ticks": "",
           "title": {
            "standoff": 15
           },
           "zerolinecolor": "white",
           "zerolinewidth": 2
          },
          "yaxis": {
           "automargin": true,
           "gridcolor": "white",
           "linecolor": "white",
           "ticks": "",
           "title": {
            "standoff": 15
           },
           "zerolinecolor": "white",
           "zerolinewidth": 2
          }
         }
        }
       }
      }
     },
     "metadata": {},
     "output_type": "display_data"
    }
   ],
   "source": [
    "fig = go.Figure(\n",
    "    go.Indicator(\n",
    "        mode='number+delta',\n",
    "        value=dataframe['TOTAL_SITUACAO'].values[0],\n",
    "        delta={\n",
    "            'position': 'top', \n",
    "            'reference': dataframe['TOTAL_SITUACAO_MES_ANTERIOR'].values[0], \n",
    "            'relative': True,\n",
    "            'valueformat': '.2%'\n",
    "        },\n",
    "        title={\n",
    "            'text': 'Total Situação Vôos Realizados'\n",
    "        },\n",
    "    )\n",
    ")\n",
    "fig.show()"
   ]
  },
  {
   "cell_type": "markdown",
   "metadata": {},
   "source": [
    "- Compare total de vôos realizado no fim de semana em relação por dia útil por mês"
   ]
  },
  {
   "cell_type": "code",
   "execution_count": 16,
   "metadata": {},
   "outputs": [],
   "source": [
    "def obter_dados_voos_dia_semana(sigla_aeroporto: str, mes_partida: int, sigla_empresa: str = None):\n",
    "    colunas = [\n",
    "        'SITUACAO_VOO',\n",
    "        'MES_PARTIDA_PREVISTA',\n",
    "        'NOME_MES_PARTIDA_PREVISTA',\n",
    "        'SIGLA_ICAO_AEROPORTO_ORIGEM',\n",
    "        'NOME_AEROPORTO_ORIGEM',\n",
    "        'NOME_EMPRESA',\n",
    "        'INDICE_SEMANA_PARTIDA_PREVISTA',\n",
    "        'DIA_DA_SEMANA_PARTIDA_PREVISTA'\n",
    "    ]\n",
    "    query = f' SIGLA_ICAO_AEROPORTO_ORIGEM == \"{sigla_aeroporto}\" and MES_PARTIDA_PREVISTA == {mes_partida} '\n",
    "    if sigla_empresa is not None:\n",
    "        colunas.append('SIGLA_ICAO_EMPRESA_AEREA')\n",
    "        query += f'SIGLA_ICAO_EMPRESA_AEREA == \"{sigla_empresa}\" '\n",
    "\n",
    "    dataframe = pd.read_parquet(caminho_base, columns=colunas)\n",
    "    dataframe = dataframe.query(query)\n",
    "    dataframe[['DIA_DA_SEMANA_PARTIDA_PREVISTA','SITUACAO_VOO']] = dataframe[['DIA_DA_SEMANA_PARTIDA_PREVISTA','SITUACAO_VOO']].astype('string')\n",
    "    dataframe = dataframe.groupby(['DIA_DA_SEMANA_PARTIDA_PREVISTA', 'INDICE_SEMANA_PARTIDA_PREVISTA', 'SITUACAO_VOO']).agg(\n",
    "        TOTAL_VOOS=('DIA_DA_SEMANA_PARTIDA_PREVISTA', 'count')\n",
    "    ).reset_index()\n",
    "    dataframe = dataframe.sort_values(by=['SITUACAO_VOO','INDICE_SEMANA_PARTIDA_PREVISTA'])\n",
    "    return dataframe"
   ]
  },
  {
   "cell_type": "code",
   "execution_count": 17,
   "metadata": {},
   "outputs": [
    {
     "data": {
      "text/html": [
       "<div>\n",
       "<style scoped>\n",
       "    .dataframe tbody tr th:only-of-type {\n",
       "        vertical-align: middle;\n",
       "    }\n",
       "\n",
       "    .dataframe tbody tr th {\n",
       "        vertical-align: top;\n",
       "    }\n",
       "\n",
       "    .dataframe thead th {\n",
       "        text-align: right;\n",
       "    }\n",
       "</style>\n",
       "<table border=\"1\" class=\"dataframe\">\n",
       "  <thead>\n",
       "    <tr style=\"text-align: right;\">\n",
       "      <th></th>\n",
       "      <th>DIA_DA_SEMANA_PARTIDA_PREVISTA</th>\n",
       "      <th>INDICE_SEMANA_PARTIDA_PREVISTA</th>\n",
       "      <th>SITUACAO_VOO</th>\n",
       "      <th>TOTAL_VOOS</th>\n",
       "    </tr>\n",
       "  </thead>\n",
       "  <tbody>\n",
       "    <tr>\n",
       "      <th>6</th>\n",
       "      <td>Segunda-feira</td>\n",
       "      <td>0</td>\n",
       "      <td>CANCELADO</td>\n",
       "      <td>3</td>\n",
       "    </tr>\n",
       "    <tr>\n",
       "      <th>12</th>\n",
       "      <td>Terça-feira</td>\n",
       "      <td>1</td>\n",
       "      <td>CANCELADO</td>\n",
       "      <td>1</td>\n",
       "    </tr>\n",
       "    <tr>\n",
       "      <th>2</th>\n",
       "      <td>Quarta-feira</td>\n",
       "      <td>2</td>\n",
       "      <td>CANCELADO</td>\n",
       "      <td>2</td>\n",
       "    </tr>\n",
       "    <tr>\n",
       "      <th>4</th>\n",
       "      <td>Quinta-feira</td>\n",
       "      <td>3</td>\n",
       "      <td>CANCELADO</td>\n",
       "      <td>5</td>\n",
       "    </tr>\n",
       "    <tr>\n",
       "      <th>8</th>\n",
       "      <td>Sexta-feira</td>\n",
       "      <td>4</td>\n",
       "      <td>CANCELADO</td>\n",
       "      <td>4</td>\n",
       "    </tr>\n",
       "    <tr>\n",
       "      <th>10</th>\n",
       "      <td>Sábado</td>\n",
       "      <td>5</td>\n",
       "      <td>CANCELADO</td>\n",
       "      <td>1</td>\n",
       "    </tr>\n",
       "    <tr>\n",
       "      <th>0</th>\n",
       "      <td>Domingo</td>\n",
       "      <td>6</td>\n",
       "      <td>CANCELADO</td>\n",
       "      <td>5</td>\n",
       "    </tr>\n",
       "    <tr>\n",
       "      <th>7</th>\n",
       "      <td>Segunda-feira</td>\n",
       "      <td>0</td>\n",
       "      <td>REALIZADO</td>\n",
       "      <td>329</td>\n",
       "    </tr>\n",
       "    <tr>\n",
       "      <th>13</th>\n",
       "      <td>Terça-feira</td>\n",
       "      <td>1</td>\n",
       "      <td>REALIZADO</td>\n",
       "      <td>41</td>\n",
       "    </tr>\n",
       "    <tr>\n",
       "      <th>3</th>\n",
       "      <td>Quarta-feira</td>\n",
       "      <td>2</td>\n",
       "      <td>REALIZADO</td>\n",
       "      <td>42</td>\n",
       "    </tr>\n",
       "    <tr>\n",
       "      <th>5</th>\n",
       "      <td>Quinta-feira</td>\n",
       "      <td>3</td>\n",
       "      <td>REALIZADO</td>\n",
       "      <td>41</td>\n",
       "    </tr>\n",
       "    <tr>\n",
       "      <th>9</th>\n",
       "      <td>Sexta-feira</td>\n",
       "      <td>4</td>\n",
       "      <td>REALIZADO</td>\n",
       "      <td>38</td>\n",
       "    </tr>\n",
       "    <tr>\n",
       "      <th>11</th>\n",
       "      <td>Sábado</td>\n",
       "      <td>5</td>\n",
       "      <td>REALIZADO</td>\n",
       "      <td>45</td>\n",
       "    </tr>\n",
       "    <tr>\n",
       "      <th>1</th>\n",
       "      <td>Domingo</td>\n",
       "      <td>6</td>\n",
       "      <td>REALIZADO</td>\n",
       "      <td>48</td>\n",
       "    </tr>\n",
       "  </tbody>\n",
       "</table>\n",
       "</div>"
      ],
      "text/plain": [
       "   DIA_DA_SEMANA_PARTIDA_PREVISTA  INDICE_SEMANA_PARTIDA_PREVISTA  \\\n",
       "6                   Segunda-feira                               0   \n",
       "12                    Terça-feira                               1   \n",
       "2                    Quarta-feira                               2   \n",
       "4                    Quinta-feira                               3   \n",
       "8                     Sexta-feira                               4   \n",
       "10                         Sábado                               5   \n",
       "0                         Domingo                               6   \n",
       "7                   Segunda-feira                               0   \n",
       "13                    Terça-feira                               1   \n",
       "3                    Quarta-feira                               2   \n",
       "5                    Quinta-feira                               3   \n",
       "9                     Sexta-feira                               4   \n",
       "11                         Sábado                               5   \n",
       "1                         Domingo                               6   \n",
       "\n",
       "   SITUACAO_VOO  TOTAL_VOOS  \n",
       "6     CANCELADO           3  \n",
       "12    CANCELADO           1  \n",
       "2     CANCELADO           2  \n",
       "4     CANCELADO           5  \n",
       "8     CANCELADO           4  \n",
       "10    CANCELADO           1  \n",
       "0     CANCELADO           5  \n",
       "7     REALIZADO         329  \n",
       "13    REALIZADO          41  \n",
       "3     REALIZADO          42  \n",
       "5     REALIZADO          41  \n",
       "9     REALIZADO          38  \n",
       "11    REALIZADO          45  \n",
       "1     REALIZADO          48  "
      ]
     },
     "execution_count": 17,
     "metadata": {},
     "output_type": "execute_result"
    }
   ],
   "source": [
    "dataframe = obter_dados_voos_dia_semana(\n",
    "    sigla_aeroporto='SBRP',\n",
    "    mes_partida=1\n",
    ")\n",
    "dataframe"
   ]
  },
  {
   "cell_type": "code",
   "execution_count": 18,
   "metadata": {},
   "outputs": [
    {
     "data": {
      "application/vnd.plotly.v1+json": {
       "config": {
        "plotlyServerURL": "https://plot.ly"
       },
       "data": [
        {
         "alignmentgroup": "True",
         "hovertemplate": "SITUACAO_VOO=CANCELADO<br>DIA_DA_SEMANA_PARTIDA_PREVISTA=%{x}<br>TOTAL_VOOS=%{y}<extra></extra>",
         "legendgroup": "CANCELADO",
         "marker": {
          "color": "#636efa",
          "pattern": {
           "shape": ""
          }
         },
         "name": "CANCELADO",
         "offsetgroup": "CANCELADO",
         "orientation": "v",
         "showlegend": true,
         "textposition": "outside",
         "texttemplate": "%{y:0}",
         "type": "bar",
         "x": [
          "Segunda-feira",
          "Terça-feira",
          "Quarta-feira",
          "Quinta-feira",
          "Sexta-feira",
          "Sábado",
          "Domingo"
         ],
         "xaxis": "x",
         "y": [
          3,
          1,
          2,
          5,
          4,
          1,
          5
         ],
         "yaxis": "y"
        },
        {
         "alignmentgroup": "True",
         "hovertemplate": "SITUACAO_VOO=REALIZADO<br>DIA_DA_SEMANA_PARTIDA_PREVISTA=%{x}<br>TOTAL_VOOS=%{y}<extra></extra>",
         "legendgroup": "REALIZADO",
         "marker": {
          "color": "#EF553B",
          "pattern": {
           "shape": ""
          }
         },
         "name": "REALIZADO",
         "offsetgroup": "REALIZADO",
         "orientation": "v",
         "showlegend": true,
         "textposition": "outside",
         "texttemplate": "%{y:0}",
         "type": "bar",
         "x": [
          "Segunda-feira",
          "Terça-feira",
          "Quarta-feira",
          "Quinta-feira",
          "Sexta-feira",
          "Sábado",
          "Domingo"
         ],
         "xaxis": "x",
         "y": [
          329,
          41,
          42,
          41,
          38,
          45,
          48
         ],
         "yaxis": "y"
        }
       ],
       "layout": {
        "barmode": "group",
        "legend": {
         "title": {
          "text": "SITUACAO_VOO"
         },
         "tracegroupgap": 0
        },
        "margin": {
         "t": 60
        },
        "template": {
         "data": {
          "bar": [
           {
            "error_x": {
             "color": "#2a3f5f"
            },
            "error_y": {
             "color": "#2a3f5f"
            },
            "marker": {
             "line": {
              "color": "#E5ECF6",
              "width": 0.5
             },
             "pattern": {
              "fillmode": "overlay",
              "size": 10,
              "solidity": 0.2
             }
            },
            "type": "bar"
           }
          ],
          "barpolar": [
           {
            "marker": {
             "line": {
              "color": "#E5ECF6",
              "width": 0.5
             },
             "pattern": {
              "fillmode": "overlay",
              "size": 10,
              "solidity": 0.2
             }
            },
            "type": "barpolar"
           }
          ],
          "carpet": [
           {
            "aaxis": {
             "endlinecolor": "#2a3f5f",
             "gridcolor": "white",
             "linecolor": "white",
             "minorgridcolor": "white",
             "startlinecolor": "#2a3f5f"
            },
            "baxis": {
             "endlinecolor": "#2a3f5f",
             "gridcolor": "white",
             "linecolor": "white",
             "minorgridcolor": "white",
             "startlinecolor": "#2a3f5f"
            },
            "type": "carpet"
           }
          ],
          "choropleth": [
           {
            "colorbar": {
             "outlinewidth": 0,
             "ticks": ""
            },
            "type": "choropleth"
           }
          ],
          "contour": [
           {
            "colorbar": {
             "outlinewidth": 0,
             "ticks": ""
            },
            "colorscale": [
             [
              0,
              "#0d0887"
             ],
             [
              0.1111111111111111,
              "#46039f"
             ],
             [
              0.2222222222222222,
              "#7201a8"
             ],
             [
              0.3333333333333333,
              "#9c179e"
             ],
             [
              0.4444444444444444,
              "#bd3786"
             ],
             [
              0.5555555555555556,
              "#d8576b"
             ],
             [
              0.6666666666666666,
              "#ed7953"
             ],
             [
              0.7777777777777778,
              "#fb9f3a"
             ],
             [
              0.8888888888888888,
              "#fdca26"
             ],
             [
              1,
              "#f0f921"
             ]
            ],
            "type": "contour"
           }
          ],
          "contourcarpet": [
           {
            "colorbar": {
             "outlinewidth": 0,
             "ticks": ""
            },
            "type": "contourcarpet"
           }
          ],
          "heatmap": [
           {
            "colorbar": {
             "outlinewidth": 0,
             "ticks": ""
            },
            "colorscale": [
             [
              0,
              "#0d0887"
             ],
             [
              0.1111111111111111,
              "#46039f"
             ],
             [
              0.2222222222222222,
              "#7201a8"
             ],
             [
              0.3333333333333333,
              "#9c179e"
             ],
             [
              0.4444444444444444,
              "#bd3786"
             ],
             [
              0.5555555555555556,
              "#d8576b"
             ],
             [
              0.6666666666666666,
              "#ed7953"
             ],
             [
              0.7777777777777778,
              "#fb9f3a"
             ],
             [
              0.8888888888888888,
              "#fdca26"
             ],
             [
              1,
              "#f0f921"
             ]
            ],
            "type": "heatmap"
           }
          ],
          "heatmapgl": [
           {
            "colorbar": {
             "outlinewidth": 0,
             "ticks": ""
            },
            "colorscale": [
             [
              0,
              "#0d0887"
             ],
             [
              0.1111111111111111,
              "#46039f"
             ],
             [
              0.2222222222222222,
              "#7201a8"
             ],
             [
              0.3333333333333333,
              "#9c179e"
             ],
             [
              0.4444444444444444,
              "#bd3786"
             ],
             [
              0.5555555555555556,
              "#d8576b"
             ],
             [
              0.6666666666666666,
              "#ed7953"
             ],
             [
              0.7777777777777778,
              "#fb9f3a"
             ],
             [
              0.8888888888888888,
              "#fdca26"
             ],
             [
              1,
              "#f0f921"
             ]
            ],
            "type": "heatmapgl"
           }
          ],
          "histogram": [
           {
            "marker": {
             "pattern": {
              "fillmode": "overlay",
              "size": 10,
              "solidity": 0.2
             }
            },
            "type": "histogram"
           }
          ],
          "histogram2d": [
           {
            "colorbar": {
             "outlinewidth": 0,
             "ticks": ""
            },
            "colorscale": [
             [
              0,
              "#0d0887"
             ],
             [
              0.1111111111111111,
              "#46039f"
             ],
             [
              0.2222222222222222,
              "#7201a8"
             ],
             [
              0.3333333333333333,
              "#9c179e"
             ],
             [
              0.4444444444444444,
              "#bd3786"
             ],
             [
              0.5555555555555556,
              "#d8576b"
             ],
             [
              0.6666666666666666,
              "#ed7953"
             ],
             [
              0.7777777777777778,
              "#fb9f3a"
             ],
             [
              0.8888888888888888,
              "#fdca26"
             ],
             [
              1,
              "#f0f921"
             ]
            ],
            "type": "histogram2d"
           }
          ],
          "histogram2dcontour": [
           {
            "colorbar": {
             "outlinewidth": 0,
             "ticks": ""
            },
            "colorscale": [
             [
              0,
              "#0d0887"
             ],
             [
              0.1111111111111111,
              "#46039f"
             ],
             [
              0.2222222222222222,
              "#7201a8"
             ],
             [
              0.3333333333333333,
              "#9c179e"
             ],
             [
              0.4444444444444444,
              "#bd3786"
             ],
             [
              0.5555555555555556,
              "#d8576b"
             ],
             [
              0.6666666666666666,
              "#ed7953"
             ],
             [
              0.7777777777777778,
              "#fb9f3a"
             ],
             [
              0.8888888888888888,
              "#fdca26"
             ],
             [
              1,
              "#f0f921"
             ]
            ],
            "type": "histogram2dcontour"
           }
          ],
          "mesh3d": [
           {
            "colorbar": {
             "outlinewidth": 0,
             "ticks": ""
            },
            "type": "mesh3d"
           }
          ],
          "parcoords": [
           {
            "line": {
             "colorbar": {
              "outlinewidth": 0,
              "ticks": ""
             }
            },
            "type": "parcoords"
           }
          ],
          "pie": [
           {
            "automargin": true,
            "type": "pie"
           }
          ],
          "scatter": [
           {
            "fillpattern": {
             "fillmode": "overlay",
             "size": 10,
             "solidity": 0.2
            },
            "type": "scatter"
           }
          ],
          "scatter3d": [
           {
            "line": {
             "colorbar": {
              "outlinewidth": 0,
              "ticks": ""
             }
            },
            "marker": {
             "colorbar": {
              "outlinewidth": 0,
              "ticks": ""
             }
            },
            "type": "scatter3d"
           }
          ],
          "scattercarpet": [
           {
            "marker": {
             "colorbar": {
              "outlinewidth": 0,
              "ticks": ""
             }
            },
            "type": "scattercarpet"
           }
          ],
          "scattergeo": [
           {
            "marker": {
             "colorbar": {
              "outlinewidth": 0,
              "ticks": ""
             }
            },
            "type": "scattergeo"
           }
          ],
          "scattergl": [
           {
            "marker": {
             "colorbar": {
              "outlinewidth": 0,
              "ticks": ""
             }
            },
            "type": "scattergl"
           }
          ],
          "scattermapbox": [
           {
            "marker": {
             "colorbar": {
              "outlinewidth": 0,
              "ticks": ""
             }
            },
            "type": "scattermapbox"
           }
          ],
          "scatterpolar": [
           {
            "marker": {
             "colorbar": {
              "outlinewidth": 0,
              "ticks": ""
             }
            },
            "type": "scatterpolar"
           }
          ],
          "scatterpolargl": [
           {
            "marker": {
             "colorbar": {
              "outlinewidth": 0,
              "ticks": ""
             }
            },
            "type": "scatterpolargl"
           }
          ],
          "scatterternary": [
           {
            "marker": {
             "colorbar": {
              "outlinewidth": 0,
              "ticks": ""
             }
            },
            "type": "scatterternary"
           }
          ],
          "surface": [
           {
            "colorbar": {
             "outlinewidth": 0,
             "ticks": ""
            },
            "colorscale": [
             [
              0,
              "#0d0887"
             ],
             [
              0.1111111111111111,
              "#46039f"
             ],
             [
              0.2222222222222222,
              "#7201a8"
             ],
             [
              0.3333333333333333,
              "#9c179e"
             ],
             [
              0.4444444444444444,
              "#bd3786"
             ],
             [
              0.5555555555555556,
              "#d8576b"
             ],
             [
              0.6666666666666666,
              "#ed7953"
             ],
             [
              0.7777777777777778,
              "#fb9f3a"
             ],
             [
              0.8888888888888888,
              "#fdca26"
             ],
             [
              1,
              "#f0f921"
             ]
            ],
            "type": "surface"
           }
          ],
          "table": [
           {
            "cells": {
             "fill": {
              "color": "#EBF0F8"
             },
             "line": {
              "color": "white"
             }
            },
            "header": {
             "fill": {
              "color": "#C8D4E3"
             },
             "line": {
              "color": "white"
             }
            },
            "type": "table"
           }
          ]
         },
         "layout": {
          "annotationdefaults": {
           "arrowcolor": "#2a3f5f",
           "arrowhead": 0,
           "arrowwidth": 1
          },
          "autotypenumbers": "strict",
          "coloraxis": {
           "colorbar": {
            "outlinewidth": 0,
            "ticks": ""
           }
          },
          "colorscale": {
           "diverging": [
            [
             0,
             "#8e0152"
            ],
            [
             0.1,
             "#c51b7d"
            ],
            [
             0.2,
             "#de77ae"
            ],
            [
             0.3,
             "#f1b6da"
            ],
            [
             0.4,
             "#fde0ef"
            ],
            [
             0.5,
             "#f7f7f7"
            ],
            [
             0.6,
             "#e6f5d0"
            ],
            [
             0.7,
             "#b8e186"
            ],
            [
             0.8,
             "#7fbc41"
            ],
            [
             0.9,
             "#4d9221"
            ],
            [
             1,
             "#276419"
            ]
           ],
           "sequential": [
            [
             0,
             "#0d0887"
            ],
            [
             0.1111111111111111,
             "#46039f"
            ],
            [
             0.2222222222222222,
             "#7201a8"
            ],
            [
             0.3333333333333333,
             "#9c179e"
            ],
            [
             0.4444444444444444,
             "#bd3786"
            ],
            [
             0.5555555555555556,
             "#d8576b"
            ],
            [
             0.6666666666666666,
             "#ed7953"
            ],
            [
             0.7777777777777778,
             "#fb9f3a"
            ],
            [
             0.8888888888888888,
             "#fdca26"
            ],
            [
             1,
             "#f0f921"
            ]
           ],
           "sequentialminus": [
            [
             0,
             "#0d0887"
            ],
            [
             0.1111111111111111,
             "#46039f"
            ],
            [
             0.2222222222222222,
             "#7201a8"
            ],
            [
             0.3333333333333333,
             "#9c179e"
            ],
            [
             0.4444444444444444,
             "#bd3786"
            ],
            [
             0.5555555555555556,
             "#d8576b"
            ],
            [
             0.6666666666666666,
             "#ed7953"
            ],
            [
             0.7777777777777778,
             "#fb9f3a"
            ],
            [
             0.8888888888888888,
             "#fdca26"
            ],
            [
             1,
             "#f0f921"
            ]
           ]
          },
          "colorway": [
           "#636efa",
           "#EF553B",
           "#00cc96",
           "#ab63fa",
           "#FFA15A",
           "#19d3f3",
           "#FF6692",
           "#B6E880",
           "#FF97FF",
           "#FECB52"
          ],
          "font": {
           "color": "#2a3f5f"
          },
          "geo": {
           "bgcolor": "white",
           "lakecolor": "white",
           "landcolor": "#E5ECF6",
           "showlakes": true,
           "showland": true,
           "subunitcolor": "white"
          },
          "hoverlabel": {
           "align": "left"
          },
          "hovermode": "closest",
          "mapbox": {
           "style": "light"
          },
          "paper_bgcolor": "white",
          "plot_bgcolor": "#E5ECF6",
          "polar": {
           "angularaxis": {
            "gridcolor": "white",
            "linecolor": "white",
            "ticks": ""
           },
           "bgcolor": "#E5ECF6",
           "radialaxis": {
            "gridcolor": "white",
            "linecolor": "white",
            "ticks": ""
           }
          },
          "scene": {
           "xaxis": {
            "backgroundcolor": "#E5ECF6",
            "gridcolor": "white",
            "gridwidth": 2,
            "linecolor": "white",
            "showbackground": true,
            "ticks": "",
            "zerolinecolor": "white"
           },
           "yaxis": {
            "backgroundcolor": "#E5ECF6",
            "gridcolor": "white",
            "gridwidth": 2,
            "linecolor": "white",
            "showbackground": true,
            "ticks": "",
            "zerolinecolor": "white"
           },
           "zaxis": {
            "backgroundcolor": "#E5ECF6",
            "gridcolor": "white",
            "gridwidth": 2,
            "linecolor": "white",
            "showbackground": true,
            "ticks": "",
            "zerolinecolor": "white"
           }
          },
          "shapedefaults": {
           "line": {
            "color": "#2a3f5f"
           }
          },
          "ternary": {
           "aaxis": {
            "gridcolor": "white",
            "linecolor": "white",
            "ticks": ""
           },
           "baxis": {
            "gridcolor": "white",
            "linecolor": "white",
            "ticks": ""
           },
           "bgcolor": "#E5ECF6",
           "caxis": {
            "gridcolor": "white",
            "linecolor": "white",
            "ticks": ""
           }
          },
          "title": {
           "x": 0.05
          },
          "xaxis": {
           "automargin": true,
           "gridcolor": "white",
           "linecolor": "white",
           "ticks": "",
           "title": {
            "standoff": 15
           },
           "zerolinecolor": "white",
           "zerolinewidth": 2
          },
          "yaxis": {
           "automargin": true,
           "gridcolor": "white",
           "linecolor": "white",
           "ticks": "",
           "title": {
            "standoff": 15
           },
           "zerolinecolor": "white",
           "zerolinewidth": 2
          }
         }
        },
        "xaxis": {
         "anchor": "y",
         "domain": [
          0,
          1
         ],
         "title": {
          "text": "DIA_DA_SEMANA_PARTIDA_PREVISTA"
         }
        },
        "yaxis": {
         "anchor": "x",
         "domain": [
          0,
          1
         ],
         "title": {
          "text": "TOTAL_VOOS"
         }
        }
       }
      }
     },
     "metadata": {},
     "output_type": "display_data"
    }
   ],
   "source": [
    "fig = px.bar(\n",
    "    dataframe, \n",
    "    x='DIA_DA_SEMANA_PARTIDA_PREVISTA', \n",
    "    y='TOTAL_VOOS', \n",
    "    text_auto='0',\n",
    "    color='SITUACAO_VOO',\n",
    "    barmode='group'\n",
    ")\n",
    "fig.update_traces(\n",
    "    textposition='outside'\n",
    ")\n",
    "fig.show()"
   ]
  },
  {
   "cell_type": "markdown",
   "metadata": {},
   "source": [
    "<p> Analise a FAIXA_ATRASO_PARTIDA por aeroporto e empresa por dia de semana e por mês </p>"
   ]
  },
  {
   "cell_type": "code",
   "execution_count": 19,
   "metadata": {},
   "outputs": [],
   "source": [
    "colunas = [\n",
    "    'FAIXA_ATRASO_PARTIDA',\n",
    "    'MES_PARTIDA_PREVISTA',\n",
    "    'NOME_MES_PARTIDA_PREVISTA',\n",
    "    'SIGLA_ICAO_AEROPORTO_ORIGEM',\n",
    "    'NOME_AEROPORTO_ORIGEM',\n",
    "    'SIGLA_ICAO_EMPRESA_AEREA',\n",
    "    'NOME_EMPRESA',\n",
    "    'INDICE_SEMANA_PARTIDA_PREVISTA',\n",
    "    'DIA_DA_SEMANA_PARTIDA_PREVISTA'\n",
    "]\n",
    "dataframe = pd.read_parquet(caminho_base, columns=colunas)"
   ]
  },
  {
   "cell_type": "code",
   "execution_count": 20,
   "metadata": {},
   "outputs": [],
   "source": [
    "dataframe = dataframe.query('SIGLA_ICAO_EMPRESA_AEREA == \"AZU\" and SIGLA_ICAO_AEROPORTO_ORIGEM==\"SBRP\" and MES_PARTIDA_PREVISTA  == 2')\n",
    "# dataframe = dataframe.query('SIGLA_ICAO_EMPRESA_AEREA == \"AZU\" and SIGLA_ICAO_AEROPORTO_ORIGEM==\"SBRP\" ')"
   ]
  },
  {
   "cell_type": "code",
   "execution_count": 21,
   "metadata": {},
   "outputs": [
    {
     "name": "stdout",
     "output_type": "stream",
     "text": [
      "<class 'pandas.core.frame.DataFrame'>\n",
      "Index: 146 entries, 1938 to 237113\n",
      "Data columns (total 9 columns):\n",
      " #   Column                          Non-Null Count  Dtype   \n",
      "---  ------                          --------------  -----   \n",
      " 0   FAIXA_ATRASO_PARTIDA            146 non-null    category\n",
      " 1   MES_PARTIDA_PREVISTA            146 non-null    int32   \n",
      " 2   NOME_MES_PARTIDA_PREVISTA       146 non-null    category\n",
      " 3   SIGLA_ICAO_AEROPORTO_ORIGEM     146 non-null    string  \n",
      " 4   NOME_AEROPORTO_ORIGEM           146 non-null    string  \n",
      " 5   SIGLA_ICAO_EMPRESA_AEREA        146 non-null    string  \n",
      " 6   NOME_EMPRESA                    146 non-null    string  \n",
      " 7   INDICE_SEMANA_PARTIDA_PREVISTA  146 non-null    int32   \n",
      " 8   DIA_DA_SEMANA_PARTIDA_PREVISTA  146 non-null    category\n",
      "dtypes: category(3), int32(2), string(4)\n",
      "memory usage: 8.2 KB\n"
     ]
    }
   ],
   "source": [
    "dataframe.info()"
   ]
  },
  {
   "cell_type": "code",
   "execution_count": 22,
   "metadata": {},
   "outputs": [],
   "source": [
    "dataframe[['FAIXA_ATRASO_PARTIDA', 'NOME_MES_PARTIDA_PREVISTA','DIA_DA_SEMANA_PARTIDA_PREVISTA' ]] = dataframe[['FAIXA_ATRASO_PARTIDA', 'NOME_MES_PARTIDA_PREVISTA','DIA_DA_SEMANA_PARTIDA_PREVISTA' ]].astype('string')"
   ]
  },
  {
   "cell_type": "code",
   "execution_count": 23,
   "metadata": {},
   "outputs": [
    {
     "name": "stdout",
     "output_type": "stream",
     "text": [
      "<class 'pandas.core.frame.DataFrame'>\n",
      "Index: 146 entries, 1938 to 237113\n",
      "Data columns (total 9 columns):\n",
      " #   Column                          Non-Null Count  Dtype \n",
      "---  ------                          --------------  ----- \n",
      " 0   FAIXA_ATRASO_PARTIDA            146 non-null    string\n",
      " 1   MES_PARTIDA_PREVISTA            146 non-null    int32 \n",
      " 2   NOME_MES_PARTIDA_PREVISTA       146 non-null    string\n",
      " 3   SIGLA_ICAO_AEROPORTO_ORIGEM     146 non-null    string\n",
      " 4   NOME_AEROPORTO_ORIGEM           146 non-null    string\n",
      " 5   SIGLA_ICAO_EMPRESA_AEREA        146 non-null    string\n",
      " 6   NOME_EMPRESA                    146 non-null    string\n",
      " 7   INDICE_SEMANA_PARTIDA_PREVISTA  146 non-null    int32 \n",
      " 8   DIA_DA_SEMANA_PARTIDA_PREVISTA  146 non-null    string\n",
      "dtypes: int32(2), string(7)\n",
      "memory usage: 10.3 KB\n"
     ]
    }
   ],
   "source": [
    "dataframe.info()"
   ]
  },
  {
   "cell_type": "code",
   "execution_count": 24,
   "metadata": {},
   "outputs": [],
   "source": [
    "df_gb = dataframe.groupby(['FAIXA_ATRASO_PARTIDA', 'MES_PARTIDA_PREVISTA', 'NOME_MES_PARTIDA_PREVISTA']).agg(\n",
    "    TOTAL_FAIXA_ATRASO_SAIDA=('FAIXA_ATRASO_PARTIDA', 'count')\n",
    ").reset_index()\n"
   ]
  },
  {
   "cell_type": "code",
   "execution_count": 25,
   "metadata": {},
   "outputs": [],
   "source": [
    "def calcular_variacao(linha):\n",
    "    try:\n",
    "        total_atual = linha['TOTAL_FAIXA_ATRASO_SAIDA']\n",
    "        total_mes_anterior = linha['TOTAL_FAIXA_ATRASO_PARTIDA_ANTERIOR']\n",
    "        variacao = ((total_atual - total_mes_anterior) / total_mes_anterior) * 100\n",
    "    except ZeroDivisionError:\n",
    "        variacao = 0\n",
    "    return round(variacao, 2)\n"
   ]
  },
  {
   "cell_type": "code",
   "execution_count": 26,
   "metadata": {},
   "outputs": [
    {
     "data": {
      "text/html": [
       "<div>\n",
       "<style scoped>\n",
       "    .dataframe tbody tr th:only-of-type {\n",
       "        vertical-align: middle;\n",
       "    }\n",
       "\n",
       "    .dataframe tbody tr th {\n",
       "        vertical-align: top;\n",
       "    }\n",
       "\n",
       "    .dataframe thead th {\n",
       "        text-align: right;\n",
       "    }\n",
       "</style>\n",
       "<table border=\"1\" class=\"dataframe\">\n",
       "  <thead>\n",
       "    <tr style=\"text-align: right;\">\n",
       "      <th></th>\n",
       "      <th>FAIXA_ATRASO_PARTIDA</th>\n",
       "      <th>MES_PARTIDA_PREVISTA</th>\n",
       "      <th>NOME_MES_PARTIDA_PREVISTA</th>\n",
       "      <th>TOTAL_VOO_MES</th>\n",
       "    </tr>\n",
       "  </thead>\n",
       "  <tbody>\n",
       "    <tr>\n",
       "      <th>0</th>\n",
       "      <td>Atraso de até 30 minutos</td>\n",
       "      <td>2</td>\n",
       "      <td>fevereiro</td>\n",
       "      <td>9</td>\n",
       "    </tr>\n",
       "    <tr>\n",
       "      <th>1</th>\n",
       "      <td>Atraso de mais de 4 horas</td>\n",
       "      <td>2</td>\n",
       "      <td>fevereiro</td>\n",
       "      <td>2</td>\n",
       "    </tr>\n",
       "    <tr>\n",
       "      <th>2</th>\n",
       "      <td>No horário</td>\n",
       "      <td>2</td>\n",
       "      <td>fevereiro</td>\n",
       "      <td>135</td>\n",
       "    </tr>\n",
       "  </tbody>\n",
       "</table>\n",
       "</div>"
      ],
      "text/plain": [
       "        FAIXA_ATRASO_PARTIDA  MES_PARTIDA_PREVISTA NOME_MES_PARTIDA_PREVISTA  \\\n",
       "0   Atraso de até 30 minutos                     2                 fevereiro   \n",
       "1  Atraso de mais de 4 horas                     2                 fevereiro   \n",
       "2                 No horário                     2                 fevereiro   \n",
       "\n",
       "   TOTAL_VOO_MES  \n",
       "0              9  \n",
       "1              2  \n",
       "2            135  "
      ]
     },
     "execution_count": 26,
     "metadata": {},
     "output_type": "execute_result"
    }
   ],
   "source": [
    "dataframe_total = dataframe.groupby(['FAIXA_ATRASO_PARTIDA', 'MES_PARTIDA_PREVISTA', 'NOME_MES_PARTIDA_PREVISTA']).agg(\n",
    "    TOTAL_VOO_MES=('FAIXA_ATRASO_PARTIDA', 'count')\n",
    ").reset_index().sort_values(by=['MES_PARTIDA_PREVISTA'])\n",
    "dataframe_total.head()"
   ]
  },
  {
   "cell_type": "code",
   "execution_count": 28,
   "metadata": {},
   "outputs": [
    {
     "data": {
      "application/vnd.plotly.v1+json": {
       "config": {
        "plotlyServerURL": "https://plot.ly"
       },
       "data": [
        {
         "colorscale": [
          [
           0,
           "#00083e"
          ],
          [
           0.5,
           "#ededee"
          ],
          [
           1,
           "#ffffff"
          ]
         ],
         "hoverinfo": "none",
         "opacity": 0.75,
         "showscale": false,
         "type": "heatmap",
         "z": [
          [
           0,
           0,
           0,
           0
          ],
          [
           0.5,
           0.5,
           0.5,
           0.5
          ],
          [
           1,
           1,
           1,
           1
          ],
          [
           0.5,
           0.5,
           0.5,
           0.5
          ]
         ]
        }
       ],
       "layout": {
        "annotations": [
         {
          "align": "left",
          "font": {
           "color": "#ffffff"
          },
          "showarrow": false,
          "text": "<b>FAIXA_ATRASO_PARTIDA</b>",
          "x": -0.45,
          "xanchor": "left",
          "xref": "x",
          "y": 0,
          "yref": "y"
         },
         {
          "align": "left",
          "font": {
           "color": "#ffffff"
          },
          "showarrow": false,
          "text": "<b>MES_PARTIDA_PREVISTA</b>",
          "x": 0.55,
          "xanchor": "left",
          "xref": "x",
          "y": 0,
          "yref": "y"
         },
         {
          "align": "left",
          "font": {
           "color": "#ffffff"
          },
          "showarrow": false,
          "text": "<b>NOME_MES_PARTIDA_PREVISTA</b>",
          "x": 1.55,
          "xanchor": "left",
          "xref": "x",
          "y": 0,
          "yref": "y"
         },
         {
          "align": "left",
          "font": {
           "color": "#ffffff"
          },
          "showarrow": false,
          "text": "<b>TOTAL_VOO_MES</b>",
          "x": 2.55,
          "xanchor": "left",
          "xref": "x",
          "y": 0,
          "yref": "y"
         },
         {
          "align": "left",
          "font": {
           "color": "#000000"
          },
          "showarrow": false,
          "text": "Atraso de até 30 minutos",
          "x": -0.45,
          "xanchor": "left",
          "xref": "x",
          "y": 1,
          "yref": "y"
         },
         {
          "align": "left",
          "font": {
           "color": "#000000"
          },
          "showarrow": false,
          "text": "2",
          "x": 0.55,
          "xanchor": "left",
          "xref": "x",
          "y": 1,
          "yref": "y"
         },
         {
          "align": "left",
          "font": {
           "color": "#000000"
          },
          "showarrow": false,
          "text": "fevereiro",
          "x": 1.55,
          "xanchor": "left",
          "xref": "x",
          "y": 1,
          "yref": "y"
         },
         {
          "align": "left",
          "font": {
           "color": "#000000"
          },
          "showarrow": false,
          "text": "9",
          "x": 2.55,
          "xanchor": "left",
          "xref": "x",
          "y": 1,
          "yref": "y"
         },
         {
          "align": "left",
          "font": {
           "color": "#000000"
          },
          "showarrow": false,
          "text": "Atraso de mais de 4 horas",
          "x": -0.45,
          "xanchor": "left",
          "xref": "x",
          "y": 2,
          "yref": "y"
         },
         {
          "align": "left",
          "font": {
           "color": "#000000"
          },
          "showarrow": false,
          "text": "2",
          "x": 0.55,
          "xanchor": "left",
          "xref": "x",
          "y": 2,
          "yref": "y"
         },
         {
          "align": "left",
          "font": {
           "color": "#000000"
          },
          "showarrow": false,
          "text": "fevereiro",
          "x": 1.55,
          "xanchor": "left",
          "xref": "x",
          "y": 2,
          "yref": "y"
         },
         {
          "align": "left",
          "font": {
           "color": "#000000"
          },
          "showarrow": false,
          "text": "2",
          "x": 2.55,
          "xanchor": "left",
          "xref": "x",
          "y": 2,
          "yref": "y"
         },
         {
          "align": "left",
          "font": {
           "color": "#000000"
          },
          "showarrow": false,
          "text": "No horário",
          "x": -0.45,
          "xanchor": "left",
          "xref": "x",
          "y": 3,
          "yref": "y"
         },
         {
          "align": "left",
          "font": {
           "color": "#000000"
          },
          "showarrow": false,
          "text": "2",
          "x": 0.55,
          "xanchor": "left",
          "xref": "x",
          "y": 3,
          "yref": "y"
         },
         {
          "align": "left",
          "font": {
           "color": "#000000"
          },
          "showarrow": false,
          "text": "fevereiro",
          "x": 1.55,
          "xanchor": "left",
          "xref": "x",
          "y": 3,
          "yref": "y"
         },
         {
          "align": "left",
          "font": {
           "color": "#000000"
          },
          "showarrow": false,
          "text": "135",
          "x": 2.55,
          "xanchor": "left",
          "xref": "x",
          "y": 3,
          "yref": "y"
         }
        ],
        "height": 170,
        "margin": {
         "b": 0,
         "l": 0,
         "r": 0,
         "t": 0
        },
        "template": {
         "data": {
          "bar": [
           {
            "error_x": {
             "color": "#2a3f5f"
            },
            "error_y": {
             "color": "#2a3f5f"
            },
            "marker": {
             "line": {
              "color": "#E5ECF6",
              "width": 0.5
             },
             "pattern": {
              "fillmode": "overlay",
              "size": 10,
              "solidity": 0.2
             }
            },
            "type": "bar"
           }
          ],
          "barpolar": [
           {
            "marker": {
             "line": {
              "color": "#E5ECF6",
              "width": 0.5
             },
             "pattern": {
              "fillmode": "overlay",
              "size": 10,
              "solidity": 0.2
             }
            },
            "type": "barpolar"
           }
          ],
          "carpet": [
           {
            "aaxis": {
             "endlinecolor": "#2a3f5f",
             "gridcolor": "white",
             "linecolor": "white",
             "minorgridcolor": "white",
             "startlinecolor": "#2a3f5f"
            },
            "baxis": {
             "endlinecolor": "#2a3f5f",
             "gridcolor": "white",
             "linecolor": "white",
             "minorgridcolor": "white",
             "startlinecolor": "#2a3f5f"
            },
            "type": "carpet"
           }
          ],
          "choropleth": [
           {
            "colorbar": {
             "outlinewidth": 0,
             "ticks": ""
            },
            "type": "choropleth"
           }
          ],
          "contour": [
           {
            "colorbar": {
             "outlinewidth": 0,
             "ticks": ""
            },
            "colorscale": [
             [
              0,
              "#0d0887"
             ],
             [
              0.1111111111111111,
              "#46039f"
             ],
             [
              0.2222222222222222,
              "#7201a8"
             ],
             [
              0.3333333333333333,
              "#9c179e"
             ],
             [
              0.4444444444444444,
              "#bd3786"
             ],
             [
              0.5555555555555556,
              "#d8576b"
             ],
             [
              0.6666666666666666,
              "#ed7953"
             ],
             [
              0.7777777777777778,
              "#fb9f3a"
             ],
             [
              0.8888888888888888,
              "#fdca26"
             ],
             [
              1,
              "#f0f921"
             ]
            ],
            "type": "contour"
           }
          ],
          "contourcarpet": [
           {
            "colorbar": {
             "outlinewidth": 0,
             "ticks": ""
            },
            "type": "contourcarpet"
           }
          ],
          "heatmap": [
           {
            "colorbar": {
             "outlinewidth": 0,
             "ticks": ""
            },
            "colorscale": [
             [
              0,
              "#0d0887"
             ],
             [
              0.1111111111111111,
              "#46039f"
             ],
             [
              0.2222222222222222,
              "#7201a8"
             ],
             [
              0.3333333333333333,
              "#9c179e"
             ],
             [
              0.4444444444444444,
              "#bd3786"
             ],
             [
              0.5555555555555556,
              "#d8576b"
             ],
             [
              0.6666666666666666,
              "#ed7953"
             ],
             [
              0.7777777777777778,
              "#fb9f3a"
             ],
             [
              0.8888888888888888,
              "#fdca26"
             ],
             [
              1,
              "#f0f921"
             ]
            ],
            "type": "heatmap"
           }
          ],
          "heatmapgl": [
           {
            "colorbar": {
             "outlinewidth": 0,
             "ticks": ""
            },
            "colorscale": [
             [
              0,
              "#0d0887"
             ],
             [
              0.1111111111111111,
              "#46039f"
             ],
             [
              0.2222222222222222,
              "#7201a8"
             ],
             [
              0.3333333333333333,
              "#9c179e"
             ],
             [
              0.4444444444444444,
              "#bd3786"
             ],
             [
              0.5555555555555556,
              "#d8576b"
             ],
             [
              0.6666666666666666,
              "#ed7953"
             ],
             [
              0.7777777777777778,
              "#fb9f3a"
             ],
             [
              0.8888888888888888,
              "#fdca26"
             ],
             [
              1,
              "#f0f921"
             ]
            ],
            "type": "heatmapgl"
           }
          ],
          "histogram": [
           {
            "marker": {
             "pattern": {
              "fillmode": "overlay",
              "size": 10,
              "solidity": 0.2
             }
            },
            "type": "histogram"
           }
          ],
          "histogram2d": [
           {
            "colorbar": {
             "outlinewidth": 0,
             "ticks": ""
            },
            "colorscale": [
             [
              0,
              "#0d0887"
             ],
             [
              0.1111111111111111,
              "#46039f"
             ],
             [
              0.2222222222222222,
              "#7201a8"
             ],
             [
              0.3333333333333333,
              "#9c179e"
             ],
             [
              0.4444444444444444,
              "#bd3786"
             ],
             [
              0.5555555555555556,
              "#d8576b"
             ],
             [
              0.6666666666666666,
              "#ed7953"
             ],
             [
              0.7777777777777778,
              "#fb9f3a"
             ],
             [
              0.8888888888888888,
              "#fdca26"
             ],
             [
              1,
              "#f0f921"
             ]
            ],
            "type": "histogram2d"
           }
          ],
          "histogram2dcontour": [
           {
            "colorbar": {
             "outlinewidth": 0,
             "ticks": ""
            },
            "colorscale": [
             [
              0,
              "#0d0887"
             ],
             [
              0.1111111111111111,
              "#46039f"
             ],
             [
              0.2222222222222222,
              "#7201a8"
             ],
             [
              0.3333333333333333,
              "#9c179e"
             ],
             [
              0.4444444444444444,
              "#bd3786"
             ],
             [
              0.5555555555555556,
              "#d8576b"
             ],
             [
              0.6666666666666666,
              "#ed7953"
             ],
             [
              0.7777777777777778,
              "#fb9f3a"
             ],
             [
              0.8888888888888888,
              "#fdca26"
             ],
             [
              1,
              "#f0f921"
             ]
            ],
            "type": "histogram2dcontour"
           }
          ],
          "mesh3d": [
           {
            "colorbar": {
             "outlinewidth": 0,
             "ticks": ""
            },
            "type": "mesh3d"
           }
          ],
          "parcoords": [
           {
            "line": {
             "colorbar": {
              "outlinewidth": 0,
              "ticks": ""
             }
            },
            "type": "parcoords"
           }
          ],
          "pie": [
           {
            "automargin": true,
            "type": "pie"
           }
          ],
          "scatter": [
           {
            "fillpattern": {
             "fillmode": "overlay",
             "size": 10,
             "solidity": 0.2
            },
            "type": "scatter"
           }
          ],
          "scatter3d": [
           {
            "line": {
             "colorbar": {
              "outlinewidth": 0,
              "ticks": ""
             }
            },
            "marker": {
             "colorbar": {
              "outlinewidth": 0,
              "ticks": ""
             }
            },
            "type": "scatter3d"
           }
          ],
          "scattercarpet": [
           {
            "marker": {
             "colorbar": {
              "outlinewidth": 0,
              "ticks": ""
             }
            },
            "type": "scattercarpet"
           }
          ],
          "scattergeo": [
           {
            "marker": {
             "colorbar": {
              "outlinewidth": 0,
              "ticks": ""
             }
            },
            "type": "scattergeo"
           }
          ],
          "scattergl": [
           {
            "marker": {
             "colorbar": {
              "outlinewidth": 0,
              "ticks": ""
             }
            },
            "type": "scattergl"
           }
          ],
          "scattermapbox": [
           {
            "marker": {
             "colorbar": {
              "outlinewidth": 0,
              "ticks": ""
             }
            },
            "type": "scattermapbox"
           }
          ],
          "scatterpolar": [
           {
            "marker": {
             "colorbar": {
              "outlinewidth": 0,
              "ticks": ""
             }
            },
            "type": "scatterpolar"
           }
          ],
          "scatterpolargl": [
           {
            "marker": {
             "colorbar": {
              "outlinewidth": 0,
              "ticks": ""
             }
            },
            "type": "scatterpolargl"
           }
          ],
          "scatterternary": [
           {
            "marker": {
             "colorbar": {
              "outlinewidth": 0,
              "ticks": ""
             }
            },
            "type": "scatterternary"
           }
          ],
          "surface": [
           {
            "colorbar": {
             "outlinewidth": 0,
             "ticks": ""
            },
            "colorscale": [
             [
              0,
              "#0d0887"
             ],
             [
              0.1111111111111111,
              "#46039f"
             ],
             [
              0.2222222222222222,
              "#7201a8"
             ],
             [
              0.3333333333333333,
              "#9c179e"
             ],
             [
              0.4444444444444444,
              "#bd3786"
             ],
             [
              0.5555555555555556,
              "#d8576b"
             ],
             [
              0.6666666666666666,
              "#ed7953"
             ],
             [
              0.7777777777777778,
              "#fb9f3a"
             ],
             [
              0.8888888888888888,
              "#fdca26"
             ],
             [
              1,
              "#f0f921"
             ]
            ],
            "type": "surface"
           }
          ],
          "table": [
           {
            "cells": {
             "fill": {
              "color": "#EBF0F8"
             },
             "line": {
              "color": "white"
             }
            },
            "header": {
             "fill": {
              "color": "#C8D4E3"
             },
             "line": {
              "color": "white"
             }
            },
            "type": "table"
           }
          ]
         },
         "layout": {
          "annotationdefaults": {
           "arrowcolor": "#2a3f5f",
           "arrowhead": 0,
           "arrowwidth": 1
          },
          "autotypenumbers": "strict",
          "coloraxis": {
           "colorbar": {
            "outlinewidth": 0,
            "ticks": ""
           }
          },
          "colorscale": {
           "diverging": [
            [
             0,
             "#8e0152"
            ],
            [
             0.1,
             "#c51b7d"
            ],
            [
             0.2,
             "#de77ae"
            ],
            [
             0.3,
             "#f1b6da"
            ],
            [
             0.4,
             "#fde0ef"
            ],
            [
             0.5,
             "#f7f7f7"
            ],
            [
             0.6,
             "#e6f5d0"
            ],
            [
             0.7,
             "#b8e186"
            ],
            [
             0.8,
             "#7fbc41"
            ],
            [
             0.9,
             "#4d9221"
            ],
            [
             1,
             "#276419"
            ]
           ],
           "sequential": [
            [
             0,
             "#0d0887"
            ],
            [
             0.1111111111111111,
             "#46039f"
            ],
            [
             0.2222222222222222,
             "#7201a8"
            ],
            [
             0.3333333333333333,
             "#9c179e"
            ],
            [
             0.4444444444444444,
             "#bd3786"
            ],
            [
             0.5555555555555556,
             "#d8576b"
            ],
            [
             0.6666666666666666,
             "#ed7953"
            ],
            [
             0.7777777777777778,
             "#fb9f3a"
            ],
            [
             0.8888888888888888,
             "#fdca26"
            ],
            [
             1,
             "#f0f921"
            ]
           ],
           "sequentialminus": [
            [
             0,
             "#0d0887"
            ],
            [
             0.1111111111111111,
             "#46039f"
            ],
            [
             0.2222222222222222,
             "#7201a8"
            ],
            [
             0.3333333333333333,
             "#9c179e"
            ],
            [
             0.4444444444444444,
             "#bd3786"
            ],
            [
             0.5555555555555556,
             "#d8576b"
            ],
            [
             0.6666666666666666,
             "#ed7953"
            ],
            [
             0.7777777777777778,
             "#fb9f3a"
            ],
            [
             0.8888888888888888,
             "#fdca26"
            ],
            [
             1,
             "#f0f921"
            ]
           ]
          },
          "colorway": [
           "#636efa",
           "#EF553B",
           "#00cc96",
           "#ab63fa",
           "#FFA15A",
           "#19d3f3",
           "#FF6692",
           "#B6E880",
           "#FF97FF",
           "#FECB52"
          ],
          "font": {
           "color": "#2a3f5f"
          },
          "geo": {
           "bgcolor": "white",
           "lakecolor": "white",
           "landcolor": "#E5ECF6",
           "showlakes": true,
           "showland": true,
           "subunitcolor": "white"
          },
          "hoverlabel": {
           "align": "left"
          },
          "hovermode": "closest",
          "mapbox": {
           "style": "light"
          },
          "paper_bgcolor": "white",
          "plot_bgcolor": "#E5ECF6",
          "polar": {
           "angularaxis": {
            "gridcolor": "white",
            "linecolor": "white",
            "ticks": ""
           },
           "bgcolor": "#E5ECF6",
           "radialaxis": {
            "gridcolor": "white",
            "linecolor": "white",
            "ticks": ""
           }
          },
          "scene": {
           "xaxis": {
            "backgroundcolor": "#E5ECF6",
            "gridcolor": "white",
            "gridwidth": 2,
            "linecolor": "white",
            "showbackground": true,
            "ticks": "",
            "zerolinecolor": "white"
           },
           "yaxis": {
            "backgroundcolor": "#E5ECF6",
            "gridcolor": "white",
            "gridwidth": 2,
            "linecolor": "white",
            "showbackground": true,
            "ticks": "",
            "zerolinecolor": "white"
           },
           "zaxis": {
            "backgroundcolor": "#E5ECF6",
            "gridcolor": "white",
            "gridwidth": 2,
            "linecolor": "white",
            "showbackground": true,
            "ticks": "",
            "zerolinecolor": "white"
           }
          },
          "shapedefaults": {
           "line": {
            "color": "#2a3f5f"
           }
          },
          "ternary": {
           "aaxis": {
            "gridcolor": "white",
            "linecolor": "white",
            "ticks": ""
           },
           "baxis": {
            "gridcolor": "white",
            "linecolor": "white",
            "ticks": ""
           },
           "bgcolor": "#E5ECF6",
           "caxis": {
            "gridcolor": "white",
            "linecolor": "white",
            "ticks": ""
           }
          },
          "title": {
           "x": 0.05
          },
          "xaxis": {
           "automargin": true,
           "gridcolor": "white",
           "linecolor": "white",
           "ticks": "",
           "title": {
            "standoff": 15
           },
           "zerolinecolor": "white",
           "zerolinewidth": 2
          },
          "yaxis": {
           "automargin": true,
           "gridcolor": "white",
           "linecolor": "white",
           "ticks": "",
           "title": {
            "standoff": 15
           },
           "zerolinecolor": "white",
           "zerolinewidth": 2
          }
         }
        },
        "xaxis": {
         "dtick": 1,
         "gridwidth": 2,
         "showticklabels": false,
         "tick0": -0.5,
         "ticks": "",
         "zeroline": false
        },
        "yaxis": {
         "autorange": "reversed",
         "dtick": 1,
         "gridwidth": 2,
         "showticklabels": false,
         "tick0": 0.5,
         "ticks": "",
         "zeroline": false
        }
       }
      }
     },
     "metadata": {},
     "output_type": "display_data"
    }
   ],
   "source": [
    "fig = ff.create_table(dataframe_total)\n",
    "\n",
    "\n",
    "\n",
    "fig.show()"
   ]
  },
  {
   "cell_type": "markdown",
   "metadata": {},
   "source": [
    "- Variação de atraso Partida/Chegada total por aeroporto em relação ao mês anterior (Análise por Flag)"
   ]
  },
  {
   "cell_type": "code",
   "execution_count": 33,
   "metadata": {},
   "outputs": [],
   "source": [
    "def obter_variacao_flag_atraso(\n",
    "        sigla_aeroporto: str,\n",
    "        flag_atraso: str,\n",
    "        flag_partida_chegada: str,\n",
    "        sigla_empresa: str = None,\n",
    "        \n",
    "    ):\n",
    "    colunas = [\n",
    "        'NOME_AEROPORTO_ORIGEM',\n",
    "        'SIGLA_ICAO_AEROPORTO_ORIGEM',\n",
    "        'NOME_EMPRESA',\n",
    "        f'MES_{flag_partida_chegada}_PREVISTA',\n",
    "        f'NOME_MES_{flag_partida_chegada}_PREVISTA',\n",
    "        f'DIA_DA_SEMANA_{flag_partida_chegada}_PREVISTA',\n",
    "        'INDICE_SEMANA_PARTIDA_PREVISTA',\n",
    "        f'FLAG_ATRASO_{flag_partida_chegada}',\n",
    "        'FLAG_FIM_SEMANA_PARTIDA_PREVISTA'\n",
    "    ]\n",
    "\n",
    "    query = (\n",
    "        f'SIGLA_ICAO_AEROPORTO_ORIGEM == \"{sigla_aeroporto}\" ' \n",
    "        f' and FLAG_ATRASO_{flag_partida_chegada} == \"{flag_atraso}\" '\n",
    "    )\n",
    "  \n",
    "    if sigla_empresa is not None:\n",
    "        query += f' SIGLA_ICAO_EMPRESA_AEREA == \"{sigla_empresa}\"'\n",
    "        colunas.append('SIGLA_ICAO_EMPRESA_AEREA')\n",
    "\n",
    "    dataframe = pd.read_parquet(caminho_base, columns=colunas)\n",
    "    dataframe = dataframe.query(query)\n",
    "   \n",
    "    dataframe[f'NOME_MES_{flag_partida_chegada}_PREVISTA'] = dataframe[f'NOME_MES_{flag_partida_chegada}_PREVISTA'].astype('string')\n",
    "    \n",
    "    dataframe = dataframe.groupby(\n",
    "        [\n",
    "            f'FLAG_ATRASO_{flag_partida_chegada}', \n",
    "            f'NOME_MES_{flag_partida_chegada}_PREVISTA', \n",
    "            f'MES_{flag_partida_chegada}_PREVISTA'\n",
    "        ]\n",
    "    ).agg(\n",
    "        TOTAL_ATRASO=(f'FLAG_ATRASO_{flag_partida_chegada}', 'count')\n",
    "    ).reset_index().sort_values(by=[f'MES_{flag_partida_chegada}_PREVISTA'])\n",
    "    dataframe['TOTAL_ATRASO_DESLOCADO'] = dataframe.groupby(f'FLAG_ATRASO_{flag_partida_chegada}')['TOTAL_ATRASO'].shift(1)\n",
    "    dataframe.fillna(0, axis=1, inplace=True)\n",
    "    dataframe[\n",
    "        [f'FLAG_ATRASO_{flag_partida_chegada}', f'NOME_MES_{flag_partida_chegada}_PREVISTA']\n",
    "    ] = dataframe[\n",
    "        [f'FLAG_ATRASO_{flag_partida_chegada}', f'NOME_MES_{flag_partida_chegada}_PREVISTA']\n",
    "    ].astype('string')\n",
    "    dataframe[\n",
    "        [f'MES_{flag_partida_chegada}_PREVISTA', 'TOTAL_ATRASO', 'TOTAL_ATRASO_DESLOCADO']\n",
    "    ] = dataframe[\n",
    "        [f'MES_{flag_partida_chegada}_PREVISTA', 'TOTAL_ATRASO', 'TOTAL_ATRASO_DESLOCADO']\n",
    "    ].astype('int32')\n",
    "    return dataframe"
   ]
  },
  {
   "cell_type": "code",
   "execution_count": 34,
   "metadata": {},
   "outputs": [
    {
     "data": {
      "text/html": [
       "<div>\n",
       "<style scoped>\n",
       "    .dataframe tbody tr th:only-of-type {\n",
       "        vertical-align: middle;\n",
       "    }\n",
       "\n",
       "    .dataframe tbody tr th {\n",
       "        vertical-align: top;\n",
       "    }\n",
       "\n",
       "    .dataframe thead th {\n",
       "        text-align: right;\n",
       "    }\n",
       "</style>\n",
       "<table border=\"1\" class=\"dataframe\">\n",
       "  <thead>\n",
       "    <tr style=\"text-align: right;\">\n",
       "      <th></th>\n",
       "      <th>FLAG_ATRASO_CHEGADA</th>\n",
       "      <th>NOME_MES_CHEGADA_PREVISTA</th>\n",
       "      <th>MES_CHEGADA_PREVISTA</th>\n",
       "      <th>TOTAL_ATRASO</th>\n",
       "      <th>TOTAL_ATRASO_DESLOCADO</th>\n",
       "    </tr>\n",
       "  </thead>\n",
       "  <tbody>\n",
       "    <tr>\n",
       "      <th>4</th>\n",
       "      <td>Vôo Atrasado</td>\n",
       "      <td>janeiro</td>\n",
       "      <td>1</td>\n",
       "      <td>225</td>\n",
       "      <td>0</td>\n",
       "    </tr>\n",
       "    <tr>\n",
       "      <th>3</th>\n",
       "      <td>Vôo Atrasado</td>\n",
       "      <td>fevereiro</td>\n",
       "      <td>2</td>\n",
       "      <td>195</td>\n",
       "      <td>225</td>\n",
       "    </tr>\n",
       "    <tr>\n",
       "      <th>8</th>\n",
       "      <td>Vôo Atrasado</td>\n",
       "      <td>março</td>\n",
       "      <td>3</td>\n",
       "      <td>238</td>\n",
       "      <td>195</td>\n",
       "    </tr>\n",
       "    <tr>\n",
       "      <th>0</th>\n",
       "      <td>Vôo Atrasado</td>\n",
       "      <td>abril</td>\n",
       "      <td>4</td>\n",
       "      <td>274</td>\n",
       "      <td>238</td>\n",
       "    </tr>\n",
       "    <tr>\n",
       "      <th>7</th>\n",
       "      <td>Vôo Atrasado</td>\n",
       "      <td>maio</td>\n",
       "      <td>5</td>\n",
       "      <td>320</td>\n",
       "      <td>274</td>\n",
       "    </tr>\n",
       "    <tr>\n",
       "      <th>6</th>\n",
       "      <td>Vôo Atrasado</td>\n",
       "      <td>junho</td>\n",
       "      <td>6</td>\n",
       "      <td>303</td>\n",
       "      <td>320</td>\n",
       "    </tr>\n",
       "    <tr>\n",
       "      <th>5</th>\n",
       "      <td>Vôo Atrasado</td>\n",
       "      <td>julho</td>\n",
       "      <td>7</td>\n",
       "      <td>383</td>\n",
       "      <td>303</td>\n",
       "    </tr>\n",
       "    <tr>\n",
       "      <th>1</th>\n",
       "      <td>Vôo Atrasado</td>\n",
       "      <td>agosto</td>\n",
       "      <td>8</td>\n",
       "      <td>292</td>\n",
       "      <td>383</td>\n",
       "    </tr>\n",
       "    <tr>\n",
       "      <th>11</th>\n",
       "      <td>Vôo Atrasado</td>\n",
       "      <td>setembro</td>\n",
       "      <td>9</td>\n",
       "      <td>283</td>\n",
       "      <td>292</td>\n",
       "    </tr>\n",
       "    <tr>\n",
       "      <th>10</th>\n",
       "      <td>Vôo Atrasado</td>\n",
       "      <td>outubro</td>\n",
       "      <td>10</td>\n",
       "      <td>253</td>\n",
       "      <td>283</td>\n",
       "    </tr>\n",
       "    <tr>\n",
       "      <th>9</th>\n",
       "      <td>Vôo Atrasado</td>\n",
       "      <td>novembro</td>\n",
       "      <td>11</td>\n",
       "      <td>237</td>\n",
       "      <td>253</td>\n",
       "    </tr>\n",
       "    <tr>\n",
       "      <th>2</th>\n",
       "      <td>Vôo Atrasado</td>\n",
       "      <td>dezembro</td>\n",
       "      <td>12</td>\n",
       "      <td>244</td>\n",
       "      <td>237</td>\n",
       "    </tr>\n",
       "  </tbody>\n",
       "</table>\n",
       "</div>"
      ],
      "text/plain": [
       "   FLAG_ATRASO_CHEGADA NOME_MES_CHEGADA_PREVISTA  MES_CHEGADA_PREVISTA  \\\n",
       "4         Vôo Atrasado                   janeiro                     1   \n",
       "3         Vôo Atrasado                 fevereiro                     2   \n",
       "8         Vôo Atrasado                     março                     3   \n",
       "0         Vôo Atrasado                     abril                     4   \n",
       "7         Vôo Atrasado                      maio                     5   \n",
       "6         Vôo Atrasado                     junho                     6   \n",
       "5         Vôo Atrasado                     julho                     7   \n",
       "1         Vôo Atrasado                    agosto                     8   \n",
       "11        Vôo Atrasado                  setembro                     9   \n",
       "10        Vôo Atrasado                   outubro                    10   \n",
       "9         Vôo Atrasado                  novembro                    11   \n",
       "2         Vôo Atrasado                  dezembro                    12   \n",
       "\n",
       "    TOTAL_ATRASO  TOTAL_ATRASO_DESLOCADO  \n",
       "4            225                       0  \n",
       "3            195                     225  \n",
       "8            238                     195  \n",
       "0            274                     238  \n",
       "7            320                     274  \n",
       "6            303                     320  \n",
       "5            383                     303  \n",
       "1            292                     383  \n",
       "11           283                     292  \n",
       "10           253                     283  \n",
       "9            237                     253  \n",
       "2            244                     237  "
      ]
     },
     "execution_count": 34,
     "metadata": {},
     "output_type": "execute_result"
    }
   ],
   "source": [
    "dataframe = obter_variacao_flag_atraso(\n",
    "    flag_partida_chegada='CHEGADA',\n",
    "    flag_atraso='Vôo Atrasado',\n",
    "    sigla_aeroporto='SBRP'\n",
    ")\n",
    "dataframe"
   ]
  },
  {
   "cell_type": "code",
   "execution_count": 36,
   "metadata": {},
   "outputs": [
    {
     "data": {
      "application/vnd.plotly.v1+json": {
       "config": {
        "plotlyServerURL": "https://plot.ly"
       },
       "data": [
        {
         "name": "TOTAL ATRASO ATUAL",
         "textposition": "auto",
         "type": "bar",
         "x": [
          "janeiro",
          "fevereiro",
          "março",
          "abril",
          "maio",
          "junho",
          "julho",
          "agosto",
          "setembro",
          "outubro",
          "novembro",
          "dezembro"
         ],
         "y": [
          225,
          195,
          238,
          274,
          320,
          303,
          383,
          292,
          283,
          253,
          237,
          244
         ]
        },
        {
         "name": "TOTAL ATRASO MÊS ANTERIOR",
         "type": "scatter",
         "x": [
          "janeiro",
          "fevereiro",
          "março",
          "abril",
          "maio",
          "junho",
          "julho",
          "agosto",
          "setembro",
          "outubro",
          "novembro",
          "dezembro"
         ],
         "y": [
          0,
          225,
          195,
          238,
          274,
          320,
          303,
          383,
          292,
          283,
          253,
          237
         ]
        }
       ],
       "layout": {
        "template": {
         "data": {
          "bar": [
           {
            "error_x": {
             "color": "#2a3f5f"
            },
            "error_y": {
             "color": "#2a3f5f"
            },
            "marker": {
             "line": {
              "color": "#E5ECF6",
              "width": 0.5
             },
             "pattern": {
              "fillmode": "overlay",
              "size": 10,
              "solidity": 0.2
             }
            },
            "type": "bar"
           }
          ],
          "barpolar": [
           {
            "marker": {
             "line": {
              "color": "#E5ECF6",
              "width": 0.5
             },
             "pattern": {
              "fillmode": "overlay",
              "size": 10,
              "solidity": 0.2
             }
            },
            "type": "barpolar"
           }
          ],
          "carpet": [
           {
            "aaxis": {
             "endlinecolor": "#2a3f5f",
             "gridcolor": "white",
             "linecolor": "white",
             "minorgridcolor": "white",
             "startlinecolor": "#2a3f5f"
            },
            "baxis": {
             "endlinecolor": "#2a3f5f",
             "gridcolor": "white",
             "linecolor": "white",
             "minorgridcolor": "white",
             "startlinecolor": "#2a3f5f"
            },
            "type": "carpet"
           }
          ],
          "choropleth": [
           {
            "colorbar": {
             "outlinewidth": 0,
             "ticks": ""
            },
            "type": "choropleth"
           }
          ],
          "contour": [
           {
            "colorbar": {
             "outlinewidth": 0,
             "ticks": ""
            },
            "colorscale": [
             [
              0,
              "#0d0887"
             ],
             [
              0.1111111111111111,
              "#46039f"
             ],
             [
              0.2222222222222222,
              "#7201a8"
             ],
             [
              0.3333333333333333,
              "#9c179e"
             ],
             [
              0.4444444444444444,
              "#bd3786"
             ],
             [
              0.5555555555555556,
              "#d8576b"
             ],
             [
              0.6666666666666666,
              "#ed7953"
             ],
             [
              0.7777777777777778,
              "#fb9f3a"
             ],
             [
              0.8888888888888888,
              "#fdca26"
             ],
             [
              1,
              "#f0f921"
             ]
            ],
            "type": "contour"
           }
          ],
          "contourcarpet": [
           {
            "colorbar": {
             "outlinewidth": 0,
             "ticks": ""
            },
            "type": "contourcarpet"
           }
          ],
          "heatmap": [
           {
            "colorbar": {
             "outlinewidth": 0,
             "ticks": ""
            },
            "colorscale": [
             [
              0,
              "#0d0887"
             ],
             [
              0.1111111111111111,
              "#46039f"
             ],
             [
              0.2222222222222222,
              "#7201a8"
             ],
             [
              0.3333333333333333,
              "#9c179e"
             ],
             [
              0.4444444444444444,
              "#bd3786"
             ],
             [
              0.5555555555555556,
              "#d8576b"
             ],
             [
              0.6666666666666666,
              "#ed7953"
             ],
             [
              0.7777777777777778,
              "#fb9f3a"
             ],
             [
              0.8888888888888888,
              "#fdca26"
             ],
             [
              1,
              "#f0f921"
             ]
            ],
            "type": "heatmap"
           }
          ],
          "heatmapgl": [
           {
            "colorbar": {
             "outlinewidth": 0,
             "ticks": ""
            },
            "colorscale": [
             [
              0,
              "#0d0887"
             ],
             [
              0.1111111111111111,
              "#46039f"
             ],
             [
              0.2222222222222222,
              "#7201a8"
             ],
             [
              0.3333333333333333,
              "#9c179e"
             ],
             [
              0.4444444444444444,
              "#bd3786"
             ],
             [
              0.5555555555555556,
              "#d8576b"
             ],
             [
              0.6666666666666666,
              "#ed7953"
             ],
             [
              0.7777777777777778,
              "#fb9f3a"
             ],
             [
              0.8888888888888888,
              "#fdca26"
             ],
             [
              1,
              "#f0f921"
             ]
            ],
            "type": "heatmapgl"
           }
          ],
          "histogram": [
           {
            "marker": {
             "pattern": {
              "fillmode": "overlay",
              "size": 10,
              "solidity": 0.2
             }
            },
            "type": "histogram"
           }
          ],
          "histogram2d": [
           {
            "colorbar": {
             "outlinewidth": 0,
             "ticks": ""
            },
            "colorscale": [
             [
              0,
              "#0d0887"
             ],
             [
              0.1111111111111111,
              "#46039f"
             ],
             [
              0.2222222222222222,
              "#7201a8"
             ],
             [
              0.3333333333333333,
              "#9c179e"
             ],
             [
              0.4444444444444444,
              "#bd3786"
             ],
             [
              0.5555555555555556,
              "#d8576b"
             ],
             [
              0.6666666666666666,
              "#ed7953"
             ],
             [
              0.7777777777777778,
              "#fb9f3a"
             ],
             [
              0.8888888888888888,
              "#fdca26"
             ],
             [
              1,
              "#f0f921"
             ]
            ],
            "type": "histogram2d"
           }
          ],
          "histogram2dcontour": [
           {
            "colorbar": {
             "outlinewidth": 0,
             "ticks": ""
            },
            "colorscale": [
             [
              0,
              "#0d0887"
             ],
             [
              0.1111111111111111,
              "#46039f"
             ],
             [
              0.2222222222222222,
              "#7201a8"
             ],
             [
              0.3333333333333333,
              "#9c179e"
             ],
             [
              0.4444444444444444,
              "#bd3786"
             ],
             [
              0.5555555555555556,
              "#d8576b"
             ],
             [
              0.6666666666666666,
              "#ed7953"
             ],
             [
              0.7777777777777778,
              "#fb9f3a"
             ],
             [
              0.8888888888888888,
              "#fdca26"
             ],
             [
              1,
              "#f0f921"
             ]
            ],
            "type": "histogram2dcontour"
           }
          ],
          "mesh3d": [
           {
            "colorbar": {
             "outlinewidth": 0,
             "ticks": ""
            },
            "type": "mesh3d"
           }
          ],
          "parcoords": [
           {
            "line": {
             "colorbar": {
              "outlinewidth": 0,
              "ticks": ""
             }
            },
            "type": "parcoords"
           }
          ],
          "pie": [
           {
            "automargin": true,
            "type": "pie"
           }
          ],
          "scatter": [
           {
            "fillpattern": {
             "fillmode": "overlay",
             "size": 10,
             "solidity": 0.2
            },
            "type": "scatter"
           }
          ],
          "scatter3d": [
           {
            "line": {
             "colorbar": {
              "outlinewidth": 0,
              "ticks": ""
             }
            },
            "marker": {
             "colorbar": {
              "outlinewidth": 0,
              "ticks": ""
             }
            },
            "type": "scatter3d"
           }
          ],
          "scattercarpet": [
           {
            "marker": {
             "colorbar": {
              "outlinewidth": 0,
              "ticks": ""
             }
            },
            "type": "scattercarpet"
           }
          ],
          "scattergeo": [
           {
            "marker": {
             "colorbar": {
              "outlinewidth": 0,
              "ticks": ""
             }
            },
            "type": "scattergeo"
           }
          ],
          "scattergl": [
           {
            "marker": {
             "colorbar": {
              "outlinewidth": 0,
              "ticks": ""
             }
            },
            "type": "scattergl"
           }
          ],
          "scattermapbox": [
           {
            "marker": {
             "colorbar": {
              "outlinewidth": 0,
              "ticks": ""
             }
            },
            "type": "scattermapbox"
           }
          ],
          "scatterpolar": [
           {
            "marker": {
             "colorbar": {
              "outlinewidth": 0,
              "ticks": ""
             }
            },
            "type": "scatterpolar"
           }
          ],
          "scatterpolargl": [
           {
            "marker": {
             "colorbar": {
              "outlinewidth": 0,
              "ticks": ""
             }
            },
            "type": "scatterpolargl"
           }
          ],
          "scatterternary": [
           {
            "marker": {
             "colorbar": {
              "outlinewidth": 0,
              "ticks": ""
             }
            },
            "type": "scatterternary"
           }
          ],
          "surface": [
           {
            "colorbar": {
             "outlinewidth": 0,
             "ticks": ""
            },
            "colorscale": [
             [
              0,
              "#0d0887"
             ],
             [
              0.1111111111111111,
              "#46039f"
             ],
             [
              0.2222222222222222,
              "#7201a8"
             ],
             [
              0.3333333333333333,
              "#9c179e"
             ],
             [
              0.4444444444444444,
              "#bd3786"
             ],
             [
              0.5555555555555556,
              "#d8576b"
             ],
             [
              0.6666666666666666,
              "#ed7953"
             ],
             [
              0.7777777777777778,
              "#fb9f3a"
             ],
             [
              0.8888888888888888,
              "#fdca26"
             ],
             [
              1,
              "#f0f921"
             ]
            ],
            "type": "surface"
           }
          ],
          "table": [
           {
            "cells": {
             "fill": {
              "color": "#EBF0F8"
             },
             "line": {
              "color": "white"
             }
            },
            "header": {
             "fill": {
              "color": "#C8D4E3"
             },
             "line": {
              "color": "white"
             }
            },
            "type": "table"
           }
          ]
         },
         "layout": {
          "annotationdefaults": {
           "arrowcolor": "#2a3f5f",
           "arrowhead": 0,
           "arrowwidth": 1
          },
          "autotypenumbers": "strict",
          "coloraxis": {
           "colorbar": {
            "outlinewidth": 0,
            "ticks": ""
           }
          },
          "colorscale": {
           "diverging": [
            [
             0,
             "#8e0152"
            ],
            [
             0.1,
             "#c51b7d"
            ],
            [
             0.2,
             "#de77ae"
            ],
            [
             0.3,
             "#f1b6da"
            ],
            [
             0.4,
             "#fde0ef"
            ],
            [
             0.5,
             "#f7f7f7"
            ],
            [
             0.6,
             "#e6f5d0"
            ],
            [
             0.7,
             "#b8e186"
            ],
            [
             0.8,
             "#7fbc41"
            ],
            [
             0.9,
             "#4d9221"
            ],
            [
             1,
             "#276419"
            ]
           ],
           "sequential": [
            [
             0,
             "#0d0887"
            ],
            [
             0.1111111111111111,
             "#46039f"
            ],
            [
             0.2222222222222222,
             "#7201a8"
            ],
            [
             0.3333333333333333,
             "#9c179e"
            ],
            [
             0.4444444444444444,
             "#bd3786"
            ],
            [
             0.5555555555555556,
             "#d8576b"
            ],
            [
             0.6666666666666666,
             "#ed7953"
            ],
            [
             0.7777777777777778,
             "#fb9f3a"
            ],
            [
             0.8888888888888888,
             "#fdca26"
            ],
            [
             1,
             "#f0f921"
            ]
           ],
           "sequentialminus": [
            [
             0,
             "#0d0887"
            ],
            [
             0.1111111111111111,
             "#46039f"
            ],
            [
             0.2222222222222222,
             "#7201a8"
            ],
            [
             0.3333333333333333,
             "#9c179e"
            ],
            [
             0.4444444444444444,
             "#bd3786"
            ],
            [
             0.5555555555555556,
             "#d8576b"
            ],
            [
             0.6666666666666666,
             "#ed7953"
            ],
            [
             0.7777777777777778,
             "#fb9f3a"
            ],
            [
             0.8888888888888888,
             "#fdca26"
            ],
            [
             1,
             "#f0f921"
            ]
           ]
          },
          "colorway": [
           "#636efa",
           "#EF553B",
           "#00cc96",
           "#ab63fa",
           "#FFA15A",
           "#19d3f3",
           "#FF6692",
           "#B6E880",
           "#FF97FF",
           "#FECB52"
          ],
          "font": {
           "color": "#2a3f5f"
          },
          "geo": {
           "bgcolor": "white",
           "lakecolor": "white",
           "landcolor": "#E5ECF6",
           "showlakes": true,
           "showland": true,
           "subunitcolor": "white"
          },
          "hoverlabel": {
           "align": "left"
          },
          "hovermode": "closest",
          "mapbox": {
           "style": "light"
          },
          "paper_bgcolor": "white",
          "plot_bgcolor": "#E5ECF6",
          "polar": {
           "angularaxis": {
            "gridcolor": "white",
            "linecolor": "white",
            "ticks": ""
           },
           "bgcolor": "#E5ECF6",
           "radialaxis": {
            "gridcolor": "white",
            "linecolor": "white",
            "ticks": ""
           }
          },
          "scene": {
           "xaxis": {
            "backgroundcolor": "#E5ECF6",
            "gridcolor": "white",
            "gridwidth": 2,
            "linecolor": "white",
            "showbackground": true,
            "ticks": "",
            "zerolinecolor": "white"
           },
           "yaxis": {
            "backgroundcolor": "#E5ECF6",
            "gridcolor": "white",
            "gridwidth": 2,
            "linecolor": "white",
            "showbackground": true,
            "ticks": "",
            "zerolinecolor": "white"
           },
           "zaxis": {
            "backgroundcolor": "#E5ECF6",
            "gridcolor": "white",
            "gridwidth": 2,
            "linecolor": "white",
            "showbackground": true,
            "ticks": "",
            "zerolinecolor": "white"
           }
          },
          "shapedefaults": {
           "line": {
            "color": "#2a3f5f"
           }
          },
          "ternary": {
           "aaxis": {
            "gridcolor": "white",
            "linecolor": "white",
            "ticks": ""
           },
           "baxis": {
            "gridcolor": "white",
            "linecolor": "white",
            "ticks": ""
           },
           "bgcolor": "#E5ECF6",
           "caxis": {
            "gridcolor": "white",
            "linecolor": "white",
            "ticks": ""
           }
          },
          "title": {
           "x": 0.05
          },
          "xaxis": {
           "automargin": true,
           "gridcolor": "white",
           "linecolor": "white",
           "ticks": "",
           "title": {
            "standoff": 15
           },
           "zerolinecolor": "white",
           "zerolinewidth": 2
          },
          "yaxis": {
           "automargin": true,
           "gridcolor": "white",
           "linecolor": "white",
           "ticks": "",
           "title": {
            "standoff": 15
           },
           "zerolinecolor": "white",
           "zerolinewidth": 2
          }
         }
        }
       }
      }
     },
     "metadata": {},
     "output_type": "display_data"
    }
   ],
   "source": [
    "fig = go.Figure()\n",
    "fig.add_trace(\n",
    "    go.Bar(\n",
    "        x=dataframe['NOME_MES_CHEGADA_PREVISTA'],\n",
    "        y=dataframe['TOTAL_ATRASO'],\n",
    "        name='TOTAL ATRASO ATUAL',\n",
    "        textposition='auto'\n",
    "    \n",
    "    )\n",
    ")\n",
    "fig.add_trace(\n",
    "    go.Scatter(\n",
    "        x=dataframe['NOME_MES_CHEGADA_PREVISTA'],\n",
    "        y=dataframe['TOTAL_ATRASO_DESLOCADO'],\n",
    "        name='TOTAL ATRASO MÊS ANTERIOR'\n",
    "    )\n",
    ")\n",
    "\n",
    "fig.show()"
   ]
  },
  {
   "cell_type": "markdown",
   "metadata": {},
   "source": [
    "- Variação de atraso Partida total por aeroporto em relação ao mês anterior (Análise por Flag)"
   ]
  },
  {
   "cell_type": "markdown",
   "metadata": {},
   "source": [
    "- Variação de FAIXA_ATRASO_PARTIDA por aeroporto em relação ao mês anterior "
   ]
  },
  {
   "cell_type": "markdown",
   "metadata": {},
   "source": [
    "<p> O volume de atraso de saída no fim de semana, é maior ou menor em relação aos outros dias uteis</p>"
   ]
  },
  {
   "cell_type": "code",
   "execution_count": 96,
   "metadata": {},
   "outputs": [
    {
     "data": {
      "text/plain": [
       "Index(['NOME_AEROPORTO_ORIGEM', 'CIDADE_AEROPORTO_ORIGEM',\n",
       "       'UF_AEROPORTO_ORIGEM', 'SIGLA_ICAO_EMPRESA_AEREA', 'NUMERO_VOO',\n",
       "       'CODIGO_TIPO_LINHA', 'SIGLA_ICAO_AEROPORTO_ORIGEM',\n",
       "       'SIGLA_ICAO_AEROPORTO_DESTINO', 'PARTIDA_PREVISTA', 'PARTIDA_REAL',\n",
       "       'CHEGADA_PREVISTA', 'CHEGADA_REAL', 'SITUACAO_VOO', 'SIGLA_OACI',\n",
       "       'NOME_AEROPORTO_DESTINO', 'CIDADE_AEROPORTO_DESTINO',\n",
       "       'UF_AEROPORTO_DESTINO', 'NOME_EMPRESA', 'MES_PARTIDA_PREVISTA',\n",
       "       'NOME_MES_PARTIDA_PREVISTA', 'MES_PARTIDA_REAL',\n",
       "       'NOME_MES_PARTIDA_REAL', 'MES_CHEGADA_PREVISTA',\n",
       "       'NOME_MES_CHEGADA_PREVISTA', 'MES_CHEGADA_REAL',\n",
       "       'NOME_MES_CHEGADA_REAL', 'MINUTOS_ATRASADO_PARTIDA',\n",
       "       'MINUTOS_ATRASADO_CHEGADA', 'DIA_DA_SEMANA_PARTIDA_PREVISTA',\n",
       "       'INDICE_SEMANA_PARTIDA_PREVISTA', 'DIA_DA_SEMANA_PARTIDA_REAL',\n",
       "       'INDICE_SEMANA_PARTIDA_REAL', 'DIA_DA_SEMANA_CHEGADA_REAL',\n",
       "       'DIA_DA_SEMANA_CHEGADA_PREVISTA', 'INDICE_SEMANA_CHEGADA_REAL',\n",
       "       'INDICE_SEMANA_CHEGADA_PREVISTA', 'FAIXA_ATRASO_PARTIDA',\n",
       "       'FAIXA_ATRASO_CHEGADA', 'FLAG_ATRASO_PARTIDA', 'FLAG_ATRASO_CHEGADA',\n",
       "       'FLAG_FIM_SEMANA_PARTIDA_PREVISTA', 'FLAG_FIM_SEMANA_PARTIDA_REAL',\n",
       "       'FLAG_FIM_SEMANA_CHEGADA_PREVISTA', 'FLAG_FIM_SEMANA_CHEGADA_REAL'],\n",
       "      dtype='object')"
      ]
     },
     "execution_count": 96,
     "metadata": {},
     "output_type": "execute_result"
    }
   ],
   "source": [
    "base_completa.columns"
   ]
  },
  {
   "cell_type": "code",
   "execution_count": 97,
   "metadata": {},
   "outputs": [],
   "source": [
    "colunas = [\n",
    "    'NOME_AEROPORTO_ORIGEM',\n",
    "    'SIGLA_ICAO_EMPRESA_AEREA',\n",
    "    'SIGLA_ICAO_AEROPORTO_ORIGEM',\n",
    "    'NOME_EMPRESA',\n",
    "    'MES_PARTIDA_PREVISTA',\n",
    "    'NOME_MES_PARTIDA_PREVISTA',\n",
    "    'DIA_DA_SEMANA_PARTIDA_PREVISTA',\n",
    "    'INDICE_SEMANA_PARTIDA_PREVISTA',\n",
    "    'FAIXA_ATRASO_PARTIDA',\n",
    "    'FLAG_ATRASO_PARTIDA',\n",
    "    'FLAG_FIM_SEMANA_PARTIDA_PREVISTA'\n",
    "]"
   ]
  },
  {
   "cell_type": "code",
   "execution_count": 138,
   "metadata": {},
   "outputs": [],
   "source": [
    "def obter_variacao_incidencia(\n",
    "        mes: int, \n",
    "        sigla_aeroporto: str, \n",
    "        path_coluna_analise: str,\n",
    "        sigla_empresa_aerea: str = None,\n",
    "    ) -> pd.DataFrame:\n",
    "    if sigla_empresa_aerea is None:\n",
    "        query = f'SIGLA_ICAO_AEROPORTO_ORIGEM == \"{sigla_aeroporto}\"  and MES_{path_coluna_analise}_PREVISTA == {mes}'\n",
    "    else:\n",
    "        query = f' SIGLA_ICAO_AEROPORTO_ORIGEM == \"{sigla_aeroporto}\" ' \\\n",
    "                f' and SIGLA_ICAO_EMPRESA_AEREA == \"{sigla_empresa_aerea}\" '\\\n",
    "                f' and MES_{path_coluna_analise}_PREVISTA == {mes} '\n",
    "    colunas = [\n",
    "        'NOME_AEROPORTO_ORIGEM',\n",
    "        'SIGLA_ICAO_EMPRESA_AEREA',\n",
    "        'SIGLA_ICAO_AEROPORTO_ORIGEM',\n",
    "        'NOME_EMPRESA',\n",
    "        f'MES_{path_coluna_analise}_PREVISTA',\n",
    "        f'NOME_MES_{path_coluna_analise}_PREVISTA',\n",
    "        f'DIA_DA_SEMANA_{path_coluna_analise}_PREVISTA',\n",
    "        f'INDICE_SEMANA_{path_coluna_analise}_PREVISTA',\n",
    "        f'FAIXA_ATRASO_{path_coluna_analise}',\n",
    "        f'FLAG_ATRASO_{path_coluna_analise}',\n",
    "        f'FLAG_FIM_SEMANA_{path_coluna_analise}_PREVISTA'\n",
    "    ]\n",
    "    dataframe = pd.read_parquet(caminho_base, columns=colunas)\n",
    "    dataframe = dataframe.query(query)\n",
    "    dataframe[\n",
    "        [\n",
    "            f'NOME_MES_{path_coluna_analise}_PREVISTA', \n",
    "            f'DIA_DA_SEMANA_{path_coluna_analise}_PREVISTA', \n",
    "            f'FAIXA_ATRASO_{path_coluna_analise}'\n",
    "        ]\n",
    "    ] = dataframe[\n",
    "        [\n",
    "            f'NOME_MES_{path_coluna_analise}_PREVISTA', \n",
    "            f'DIA_DA_SEMANA_{path_coluna_analise}_PREVISTA', \n",
    "            f'FAIXA_ATRASO_{path_coluna_analise}'\n",
    "        ]\n",
    "    ].astype('string')\n",
    "    dataframe = dataframe.groupby(\n",
    "        [\n",
    "            f'FLAG_ATRASO_{path_coluna_analise}', \n",
    "            f'FLAG_FIM_SEMANA_{path_coluna_analise}_PREVISTA'\n",
    "        ]\n",
    "    ).agg(\n",
    "        TOTAL_INCIDENCIA=(f'FLAG_ATRASO_{path_coluna_analise}', 'count')\n",
    "    ).reset_index()\n",
    "    dataframe[f'TOTAL_INCIDENCIA_GERAL_{path_coluna_analise}'] = dataframe.groupby(f'FLAG_ATRASO_{path_coluna_analise}')['TOTAL_INCIDENCIA'].transform('sum')\n",
    "    dataframe[f'PERCENTUAL_INCIDENCIA_{path_coluna_analise}'] = round((dataframe['TOTAL_INCIDENCIA'] * 100) / dataframe[f'TOTAL_INCIDENCIA_GERAL_{path_coluna_analise}'], 2)\n",
    "    return dataframe"
   ]
  },
  {
   "cell_type": "code",
   "execution_count": 139,
   "metadata": {},
   "outputs": [
    {
     "data": {
      "text/html": [
       "<div>\n",
       "<style scoped>\n",
       "    .dataframe tbody tr th:only-of-type {\n",
       "        vertical-align: middle;\n",
       "    }\n",
       "\n",
       "    .dataframe tbody tr th {\n",
       "        vertical-align: top;\n",
       "    }\n",
       "\n",
       "    .dataframe thead th {\n",
       "        text-align: right;\n",
       "    }\n",
       "</style>\n",
       "<table border=\"1\" class=\"dataframe\">\n",
       "  <thead>\n",
       "    <tr style=\"text-align: right;\">\n",
       "      <th></th>\n",
       "      <th>FLAG_ATRASO_PARTIDA</th>\n",
       "      <th>FLAG_FIM_SEMANA_PARTIDA_PREVISTA</th>\n",
       "      <th>TOTAL_INCIDENCIA</th>\n",
       "      <th>TOTAL_INCIDENCIA_GERAL_PARTIDA</th>\n",
       "      <th>PERCENTUAL_INCIDENCIA_PARTIDA</th>\n",
       "    </tr>\n",
       "  </thead>\n",
       "  <tbody>\n",
       "    <tr>\n",
       "      <th>0</th>\n",
       "      <td>Vôo Atrasado</td>\n",
       "      <td>Dia Útil</td>\n",
       "      <td>160</td>\n",
       "      <td>227</td>\n",
       "      <td>70.48</td>\n",
       "    </tr>\n",
       "    <tr>\n",
       "      <th>1</th>\n",
       "      <td>Vôo Atrasado</td>\n",
       "      <td>Fim de Semana</td>\n",
       "      <td>67</td>\n",
       "      <td>227</td>\n",
       "      <td>29.52</td>\n",
       "    </tr>\n",
       "    <tr>\n",
       "      <th>2</th>\n",
       "      <td>Vôo no horário</td>\n",
       "      <td>Dia Útil</td>\n",
       "      <td>346</td>\n",
       "      <td>378</td>\n",
       "      <td>91.53</td>\n",
       "    </tr>\n",
       "    <tr>\n",
       "      <th>3</th>\n",
       "      <td>Vôo no horário</td>\n",
       "      <td>Fim de Semana</td>\n",
       "      <td>32</td>\n",
       "      <td>378</td>\n",
       "      <td>8.47</td>\n",
       "    </tr>\n",
       "  </tbody>\n",
       "</table>\n",
       "</div>"
      ],
      "text/plain": [
       "  FLAG_ATRASO_PARTIDA FLAG_FIM_SEMANA_PARTIDA_PREVISTA  TOTAL_INCIDENCIA  \\\n",
       "0        Vôo Atrasado                         Dia Útil               160   \n",
       "1        Vôo Atrasado                    Fim de Semana                67   \n",
       "2      Vôo no horário                         Dia Útil               346   \n",
       "3      Vôo no horário                    Fim de Semana                32   \n",
       "\n",
       "   TOTAL_INCIDENCIA_GERAL_PARTIDA  PERCENTUAL_INCIDENCIA_PARTIDA  \n",
       "0                             227                          70.48  \n",
       "1                             227                          29.52  \n",
       "2                             378                          91.53  \n",
       "3                             378                           8.47  "
      ]
     },
     "execution_count": 139,
     "metadata": {},
     "output_type": "execute_result"
    }
   ],
   "source": [
    "obter_variacao_incidencia(mes=1, sigla_aeroporto='SBRP', path_coluna_analise='PARTIDA')"
   ]
  },
  {
   "cell_type": "code",
   "execution_count": 98,
   "metadata": {},
   "outputs": [
    {
     "data": {
      "text/html": [
       "<div>\n",
       "<style scoped>\n",
       "    .dataframe tbody tr th:only-of-type {\n",
       "        vertical-align: middle;\n",
       "    }\n",
       "\n",
       "    .dataframe tbody tr th {\n",
       "        vertical-align: top;\n",
       "    }\n",
       "\n",
       "    .dataframe thead th {\n",
       "        text-align: right;\n",
       "    }\n",
       "</style>\n",
       "<table border=\"1\" class=\"dataframe\">\n",
       "  <thead>\n",
       "    <tr style=\"text-align: right;\">\n",
       "      <th></th>\n",
       "      <th>NOME_AEROPORTO_ORIGEM</th>\n",
       "      <th>SIGLA_ICAO_EMPRESA_AEREA</th>\n",
       "      <th>SIGLA_ICAO_AEROPORTO_ORIGEM</th>\n",
       "      <th>NOME_EMPRESA</th>\n",
       "      <th>MES_PARTIDA_PREVISTA</th>\n",
       "      <th>NOME_MES_PARTIDA_PREVISTA</th>\n",
       "      <th>DIA_DA_SEMANA_PARTIDA_PREVISTA</th>\n",
       "      <th>INDICE_SEMANA_PARTIDA_PREVISTA</th>\n",
       "      <th>FAIXA_ATRASO_PARTIDA</th>\n",
       "      <th>FLAG_ATRASO_PARTIDA</th>\n",
       "      <th>FLAG_FIM_SEMANA_PARTIDA_PREVISTA</th>\n",
       "    </tr>\n",
       "  </thead>\n",
       "  <tbody>\n",
       "    <tr>\n",
       "      <th>0</th>\n",
       "      <td>BAURU/AREALVA</td>\n",
       "      <td>AZU</td>\n",
       "      <td>SBAE</td>\n",
       "      <td>AZUL</td>\n",
       "      <td>1</td>\n",
       "      <td>janeiro</td>\n",
       "      <td>Domingo</td>\n",
       "      <td>6</td>\n",
       "      <td>No horário</td>\n",
       "      <td>Vôo Atrasado</td>\n",
       "      <td>Fim de Semana</td>\n",
       "    </tr>\n",
       "    <tr>\n",
       "      <th>1</th>\n",
       "      <td>BAURU/AREALVA</td>\n",
       "      <td>AZU</td>\n",
       "      <td>SBAE</td>\n",
       "      <td>AZUL</td>\n",
       "      <td>1</td>\n",
       "      <td>janeiro</td>\n",
       "      <td>Domingo</td>\n",
       "      <td>6</td>\n",
       "      <td>No horário</td>\n",
       "      <td>Vôo Atrasado</td>\n",
       "      <td>Fim de Semana</td>\n",
       "    </tr>\n",
       "    <tr>\n",
       "      <th>2</th>\n",
       "      <td>BAURU/AREALVA</td>\n",
       "      <td>AZU</td>\n",
       "      <td>SBAE</td>\n",
       "      <td>AZUL</td>\n",
       "      <td>1</td>\n",
       "      <td>janeiro</td>\n",
       "      <td>Domingo</td>\n",
       "      <td>6</td>\n",
       "      <td>No horário</td>\n",
       "      <td>Vôo Atrasado</td>\n",
       "      <td>Fim de Semana</td>\n",
       "    </tr>\n",
       "    <tr>\n",
       "      <th>3</th>\n",
       "      <td>BAURU/AREALVA</td>\n",
       "      <td>AZU</td>\n",
       "      <td>SBAE</td>\n",
       "      <td>AZUL</td>\n",
       "      <td>1</td>\n",
       "      <td>janeiro</td>\n",
       "      <td>Domingo</td>\n",
       "      <td>6</td>\n",
       "      <td>No horário</td>\n",
       "      <td>Vôo Atrasado</td>\n",
       "      <td>Fim de Semana</td>\n",
       "    </tr>\n",
       "    <tr>\n",
       "      <th>4</th>\n",
       "      <td>BAURU/AREALVA</td>\n",
       "      <td>AZU</td>\n",
       "      <td>SBAE</td>\n",
       "      <td>AZUL</td>\n",
       "      <td>2</td>\n",
       "      <td>fevereiro</td>\n",
       "      <td>Sábado</td>\n",
       "      <td>5</td>\n",
       "      <td>No horário</td>\n",
       "      <td>Vôo Atrasado</td>\n",
       "      <td>Fim de Semana</td>\n",
       "    </tr>\n",
       "  </tbody>\n",
       "</table>\n",
       "</div>"
      ],
      "text/plain": [
       "  NOME_AEROPORTO_ORIGEM SIGLA_ICAO_EMPRESA_AEREA SIGLA_ICAO_AEROPORTO_ORIGEM  \\\n",
       "0         BAURU/AREALVA                      AZU                        SBAE   \n",
       "1         BAURU/AREALVA                      AZU                        SBAE   \n",
       "2         BAURU/AREALVA                      AZU                        SBAE   \n",
       "3         BAURU/AREALVA                      AZU                        SBAE   \n",
       "4         BAURU/AREALVA                      AZU                        SBAE   \n",
       "\n",
       "  NOME_EMPRESA  MES_PARTIDA_PREVISTA NOME_MES_PARTIDA_PREVISTA  \\\n",
       "0         AZUL                     1                   janeiro   \n",
       "1         AZUL                     1                   janeiro   \n",
       "2         AZUL                     1                   janeiro   \n",
       "3         AZUL                     1                   janeiro   \n",
       "4         AZUL                     2                 fevereiro   \n",
       "\n",
       "  DIA_DA_SEMANA_PARTIDA_PREVISTA  INDICE_SEMANA_PARTIDA_PREVISTA  \\\n",
       "0                        Domingo                               6   \n",
       "1                        Domingo                               6   \n",
       "2                        Domingo                               6   \n",
       "3                        Domingo                               6   \n",
       "4                         Sábado                               5   \n",
       "\n",
       "  FAIXA_ATRASO_PARTIDA FLAG_ATRASO_PARTIDA FLAG_FIM_SEMANA_PARTIDA_PREVISTA  \n",
       "0           No horário        Vôo Atrasado                    Fim de Semana  \n",
       "1           No horário        Vôo Atrasado                    Fim de Semana  \n",
       "2           No horário        Vôo Atrasado                    Fim de Semana  \n",
       "3           No horário        Vôo Atrasado                    Fim de Semana  \n",
       "4           No horário        Vôo Atrasado                    Fim de Semana  "
      ]
     },
     "execution_count": 98,
     "metadata": {},
     "output_type": "execute_result"
    }
   ],
   "source": [
    "dataframe = pd.read_parquet(caminho_base, columns=colunas)\n",
    "dataframe.head()"
   ]
  },
  {
   "cell_type": "code",
   "execution_count": 99,
   "metadata": {},
   "outputs": [
    {
     "name": "stdout",
     "output_type": "stream",
     "text": [
      "<class 'pandas.core.frame.DataFrame'>\n",
      "RangeIndex: 717357 entries, 0 to 717356\n",
      "Data columns (total 11 columns):\n",
      " #   Column                            Non-Null Count   Dtype   \n",
      "---  ------                            --------------   -----   \n",
      " 0   NOME_AEROPORTO_ORIGEM             717357 non-null  string  \n",
      " 1   SIGLA_ICAO_EMPRESA_AEREA          717357 non-null  string  \n",
      " 2   SIGLA_ICAO_AEROPORTO_ORIGEM       717357 non-null  string  \n",
      " 3   NOME_EMPRESA                      717357 non-null  string  \n",
      " 4   MES_PARTIDA_PREVISTA              717357 non-null  int32   \n",
      " 5   NOME_MES_PARTIDA_PREVISTA         717357 non-null  category\n",
      " 6   DIA_DA_SEMANA_PARTIDA_PREVISTA    717357 non-null  category\n",
      " 7   INDICE_SEMANA_PARTIDA_PREVISTA    717357 non-null  int32   \n",
      " 8   FAIXA_ATRASO_PARTIDA              717357 non-null  category\n",
      " 9   FLAG_ATRASO_PARTIDA               717357 non-null  string  \n",
      " 10  FLAG_FIM_SEMANA_PARTIDA_PREVISTA  717357 non-null  string  \n",
      "dtypes: category(3), int32(2), string(6)\n",
      "memory usage: 40.4 MB\n"
     ]
    }
   ],
   "source": [
    "dataframe.info()"
   ]
  },
  {
   "cell_type": "markdown",
   "metadata": {},
   "source": [
    "- Incidencia de atraso total por aeroporto (Análise por Flag)"
   ]
  },
  {
   "cell_type": "code",
   "execution_count": 100,
   "metadata": {},
   "outputs": [
    {
     "data": {
      "text/html": [
       "<div>\n",
       "<style scoped>\n",
       "    .dataframe tbody tr th:only-of-type {\n",
       "        vertical-align: middle;\n",
       "    }\n",
       "\n",
       "    .dataframe tbody tr th {\n",
       "        vertical-align: top;\n",
       "    }\n",
       "\n",
       "    .dataframe thead th {\n",
       "        text-align: right;\n",
       "    }\n",
       "</style>\n",
       "<table border=\"1\" class=\"dataframe\">\n",
       "  <thead>\n",
       "    <tr style=\"text-align: right;\">\n",
       "      <th></th>\n",
       "      <th>NOME_AEROPORTO_ORIGEM</th>\n",
       "      <th>SIGLA_ICAO_EMPRESA_AEREA</th>\n",
       "      <th>SIGLA_ICAO_AEROPORTO_ORIGEM</th>\n",
       "      <th>NOME_EMPRESA</th>\n",
       "      <th>MES_PARTIDA_PREVISTA</th>\n",
       "      <th>NOME_MES_PARTIDA_PREVISTA</th>\n",
       "      <th>DIA_DA_SEMANA_PARTIDA_PREVISTA</th>\n",
       "      <th>INDICE_SEMANA_PARTIDA_PREVISTA</th>\n",
       "      <th>FAIXA_ATRASO_PARTIDA</th>\n",
       "      <th>FLAG_ATRASO_PARTIDA</th>\n",
       "      <th>FLAG_FIM_SEMANA_PARTIDA_PREVISTA</th>\n",
       "    </tr>\n",
       "  </thead>\n",
       "  <tbody>\n",
       "    <tr>\n",
       "      <th>1992</th>\n",
       "      <td>LEITE LOPES</td>\n",
       "      <td>AZU</td>\n",
       "      <td>SBRP</td>\n",
       "      <td>AZUL</td>\n",
       "      <td>12</td>\n",
       "      <td>dezembro</td>\n",
       "      <td>Sábado</td>\n",
       "      <td>5</td>\n",
       "      <td>No horário</td>\n",
       "      <td>Vôo Atrasado</td>\n",
       "      <td>Fim de Semana</td>\n",
       "    </tr>\n",
       "    <tr>\n",
       "      <th>1993</th>\n",
       "      <td>LEITE LOPES</td>\n",
       "      <td>AZU</td>\n",
       "      <td>SBRP</td>\n",
       "      <td>AZUL</td>\n",
       "      <td>12</td>\n",
       "      <td>dezembro</td>\n",
       "      <td>Sábado</td>\n",
       "      <td>5</td>\n",
       "      <td>No horário</td>\n",
       "      <td>Vôo Atrasado</td>\n",
       "      <td>Fim de Semana</td>\n",
       "    </tr>\n",
       "    <tr>\n",
       "      <th>1994</th>\n",
       "      <td>LEITE LOPES</td>\n",
       "      <td>AZU</td>\n",
       "      <td>SBRP</td>\n",
       "      <td>AZUL</td>\n",
       "      <td>12</td>\n",
       "      <td>dezembro</td>\n",
       "      <td>Domingo</td>\n",
       "      <td>6</td>\n",
       "      <td>No horário</td>\n",
       "      <td>Vôo no horário</td>\n",
       "      <td>Fim de Semana</td>\n",
       "    </tr>\n",
       "    <tr>\n",
       "      <th>1995</th>\n",
       "      <td>LEITE LOPES</td>\n",
       "      <td>AZU</td>\n",
       "      <td>SBRP</td>\n",
       "      <td>AZUL</td>\n",
       "      <td>12</td>\n",
       "      <td>dezembro</td>\n",
       "      <td>Sábado</td>\n",
       "      <td>5</td>\n",
       "      <td>No horário</td>\n",
       "      <td>Vôo Atrasado</td>\n",
       "      <td>Fim de Semana</td>\n",
       "    </tr>\n",
       "    <tr>\n",
       "      <th>1996</th>\n",
       "      <td>LEITE LOPES</td>\n",
       "      <td>AZU</td>\n",
       "      <td>SBRP</td>\n",
       "      <td>AZUL</td>\n",
       "      <td>12</td>\n",
       "      <td>dezembro</td>\n",
       "      <td>Sábado</td>\n",
       "      <td>5</td>\n",
       "      <td>No horário</td>\n",
       "      <td>Vôo Atrasado</td>\n",
       "      <td>Fim de Semana</td>\n",
       "    </tr>\n",
       "  </tbody>\n",
       "</table>\n",
       "</div>"
      ],
      "text/plain": [
       "     NOME_AEROPORTO_ORIGEM SIGLA_ICAO_EMPRESA_AEREA  \\\n",
       "1992           LEITE LOPES                      AZU   \n",
       "1993           LEITE LOPES                      AZU   \n",
       "1994           LEITE LOPES                      AZU   \n",
       "1995           LEITE LOPES                      AZU   \n",
       "1996           LEITE LOPES                      AZU   \n",
       "\n",
       "     SIGLA_ICAO_AEROPORTO_ORIGEM NOME_EMPRESA  MES_PARTIDA_PREVISTA  \\\n",
       "1992                        SBRP         AZUL                    12   \n",
       "1993                        SBRP         AZUL                    12   \n",
       "1994                        SBRP         AZUL                    12   \n",
       "1995                        SBRP         AZUL                    12   \n",
       "1996                        SBRP         AZUL                    12   \n",
       "\n",
       "     NOME_MES_PARTIDA_PREVISTA DIA_DA_SEMANA_PARTIDA_PREVISTA  \\\n",
       "1992                  dezembro                         Sábado   \n",
       "1993                  dezembro                         Sábado   \n",
       "1994                  dezembro                        Domingo   \n",
       "1995                  dezembro                         Sábado   \n",
       "1996                  dezembro                         Sábado   \n",
       "\n",
       "      INDICE_SEMANA_PARTIDA_PREVISTA FAIXA_ATRASO_PARTIDA FLAG_ATRASO_PARTIDA  \\\n",
       "1992                               5           No horário        Vôo Atrasado   \n",
       "1993                               5           No horário        Vôo Atrasado   \n",
       "1994                               6           No horário      Vôo no horário   \n",
       "1995                               5           No horário        Vôo Atrasado   \n",
       "1996                               5           No horário        Vôo Atrasado   \n",
       "\n",
       "     FLAG_FIM_SEMANA_PARTIDA_PREVISTA  \n",
       "1992                    Fim de Semana  \n",
       "1993                    Fim de Semana  \n",
       "1994                    Fim de Semana  \n",
       "1995                    Fim de Semana  \n",
       "1996                    Fim de Semana  "
      ]
     },
     "execution_count": 100,
     "metadata": {},
     "output_type": "execute_result"
    }
   ],
   "source": [
    "dataframe = dataframe.query('SIGLA_ICAO_AEROPORTO_ORIGEM == \"SBRP\"  and MES_PARTIDA_PREVISTA == 12')\n",
    "# dataframe = dataframe.query('SIGLA_ICAO_AEROPORTO_ORIGEM == \"SBRP\" and SIGLA_ICAO_EMPRESA_AEREA == \"AZU\"  and MES_PARTIDA_PREVISTA == 1')\n",
    "dataframe.head()"
   ]
  },
  {
   "cell_type": "code",
   "execution_count": 101,
   "metadata": {},
   "outputs": [
    {
     "name": "stdout",
     "output_type": "stream",
     "text": [
      "<class 'pandas.core.frame.DataFrame'>\n",
      "Index: 413 entries, 1992 to 705207\n",
      "Data columns (total 11 columns):\n",
      " #   Column                            Non-Null Count  Dtype   \n",
      "---  ------                            --------------  -----   \n",
      " 0   NOME_AEROPORTO_ORIGEM             413 non-null    string  \n",
      " 1   SIGLA_ICAO_EMPRESA_AEREA          413 non-null    string  \n",
      " 2   SIGLA_ICAO_AEROPORTO_ORIGEM       413 non-null    string  \n",
      " 3   NOME_EMPRESA                      413 non-null    string  \n",
      " 4   MES_PARTIDA_PREVISTA              413 non-null    int32   \n",
      " 5   NOME_MES_PARTIDA_PREVISTA         413 non-null    category\n",
      " 6   DIA_DA_SEMANA_PARTIDA_PREVISTA    413 non-null    category\n",
      " 7   INDICE_SEMANA_PARTIDA_PREVISTA    413 non-null    int32   \n",
      " 8   FAIXA_ATRASO_PARTIDA              413 non-null    category\n",
      " 9   FLAG_ATRASO_PARTIDA               413 non-null    string  \n",
      " 10  FLAG_FIM_SEMANA_PARTIDA_PREVISTA  413 non-null    string  \n",
      "dtypes: category(3), int32(2), string(6)\n",
      "memory usage: 28.0 KB\n"
     ]
    }
   ],
   "source": [
    "dataframe.info()"
   ]
  },
  {
   "cell_type": "code",
   "execution_count": 102,
   "metadata": {},
   "outputs": [],
   "source": [
    "dataframe[['NOME_MES_PARTIDA_PREVISTA', 'DIA_DA_SEMANA_PARTIDA_PREVISTA', 'FAIXA_ATRASO_PARTIDA']] = dataframe[['NOME_MES_PARTIDA_PREVISTA', 'DIA_DA_SEMANA_PARTIDA_PREVISTA', 'FAIXA_ATRASO_PARTIDA']].astype('string')"
   ]
  },
  {
   "cell_type": "code",
   "execution_count": 103,
   "metadata": {},
   "outputs": [
    {
     "name": "stdout",
     "output_type": "stream",
     "text": [
      "<class 'pandas.core.frame.DataFrame'>\n",
      "Index: 413 entries, 1992 to 705207\n",
      "Data columns (total 11 columns):\n",
      " #   Column                            Non-Null Count  Dtype \n",
      "---  ------                            --------------  ----- \n",
      " 0   NOME_AEROPORTO_ORIGEM             413 non-null    string\n",
      " 1   SIGLA_ICAO_EMPRESA_AEREA          413 non-null    string\n",
      " 2   SIGLA_ICAO_AEROPORTO_ORIGEM       413 non-null    string\n",
      " 3   NOME_EMPRESA                      413 non-null    string\n",
      " 4   MES_PARTIDA_PREVISTA              413 non-null    int32 \n",
      " 5   NOME_MES_PARTIDA_PREVISTA         413 non-null    string\n",
      " 6   DIA_DA_SEMANA_PARTIDA_PREVISTA    413 non-null    string\n",
      " 7   INDICE_SEMANA_PARTIDA_PREVISTA    413 non-null    int32 \n",
      " 8   FAIXA_ATRASO_PARTIDA              413 non-null    string\n",
      " 9   FLAG_ATRASO_PARTIDA               413 non-null    string\n",
      " 10  FLAG_FIM_SEMANA_PARTIDA_PREVISTA  413 non-null    string\n",
      "dtypes: int32(2), string(9)\n",
      "memory usage: 35.5 KB\n"
     ]
    }
   ],
   "source": [
    "dataframe.info()"
   ]
  },
  {
   "cell_type": "code",
   "execution_count": 104,
   "metadata": {},
   "outputs": [],
   "source": [
    "dataframe = dataframe.groupby(['FLAG_ATRASO_PARTIDA', 'FLAG_FIM_SEMANA_PARTIDA_PREVISTA' ]).agg(\n",
    "    TOTAL_INCIDENCIA=('FLAG_ATRASO_PARTIDA', 'count')\n",
    ").reset_index()\n"
   ]
  },
  {
   "cell_type": "code",
   "execution_count": 105,
   "metadata": {},
   "outputs": [
    {
     "data": {
      "text/html": [
       "<div>\n",
       "<style scoped>\n",
       "    .dataframe tbody tr th:only-of-type {\n",
       "        vertical-align: middle;\n",
       "    }\n",
       "\n",
       "    .dataframe tbody tr th {\n",
       "        vertical-align: top;\n",
       "    }\n",
       "\n",
       "    .dataframe thead th {\n",
       "        text-align: right;\n",
       "    }\n",
       "</style>\n",
       "<table border=\"1\" class=\"dataframe\">\n",
       "  <thead>\n",
       "    <tr style=\"text-align: right;\">\n",
       "      <th></th>\n",
       "      <th>FLAG_ATRASO_PARTIDA</th>\n",
       "      <th>FLAG_FIM_SEMANA_PARTIDA_PREVISTA</th>\n",
       "      <th>TOTAL_INCIDENCIA</th>\n",
       "    </tr>\n",
       "  </thead>\n",
       "  <tbody>\n",
       "    <tr>\n",
       "      <th>0</th>\n",
       "      <td>Vôo Atrasado</td>\n",
       "      <td>Dia Útil</td>\n",
       "      <td>151</td>\n",
       "    </tr>\n",
       "    <tr>\n",
       "      <th>1</th>\n",
       "      <td>Vôo Atrasado</td>\n",
       "      <td>Fim de Semana</td>\n",
       "      <td>72</td>\n",
       "    </tr>\n",
       "    <tr>\n",
       "      <th>2</th>\n",
       "      <td>Vôo no horário</td>\n",
       "      <td>Dia Útil</td>\n",
       "      <td>150</td>\n",
       "    </tr>\n",
       "    <tr>\n",
       "      <th>3</th>\n",
       "      <td>Vôo no horário</td>\n",
       "      <td>Fim de Semana</td>\n",
       "      <td>40</td>\n",
       "    </tr>\n",
       "  </tbody>\n",
       "</table>\n",
       "</div>"
      ],
      "text/plain": [
       "  FLAG_ATRASO_PARTIDA FLAG_FIM_SEMANA_PARTIDA_PREVISTA  TOTAL_INCIDENCIA\n",
       "0        Vôo Atrasado                         Dia Útil               151\n",
       "1        Vôo Atrasado                    Fim de Semana                72\n",
       "2      Vôo no horário                         Dia Útil               150\n",
       "3      Vôo no horário                    Fim de Semana                40"
      ]
     },
     "execution_count": 105,
     "metadata": {},
     "output_type": "execute_result"
    }
   ],
   "source": [
    "dataframe"
   ]
  },
  {
   "cell_type": "code",
   "execution_count": 106,
   "metadata": {},
   "outputs": [
    {
     "data": {
      "text/plain": [
       "0    223\n",
       "1    223\n",
       "2    190\n",
       "3    190\n",
       "Name: TOTAL_INCIDENCIA, dtype: int64"
      ]
     },
     "execution_count": 106,
     "metadata": {},
     "output_type": "execute_result"
    }
   ],
   "source": [
    "dataframe.groupby('FLAG_ATRASO_PARTIDA')['TOTAL_INCIDENCIA'].transform('sum')"
   ]
  },
  {
   "cell_type": "code",
   "execution_count": 107,
   "metadata": {},
   "outputs": [],
   "source": [
    "dataframe['TOTAL_INCIDENCIA_GERAL'] = dataframe.groupby('FLAG_ATRASO_PARTIDA')['TOTAL_INCIDENCIA'].transform('sum')"
   ]
  },
  {
   "cell_type": "code",
   "execution_count": 109,
   "metadata": {},
   "outputs": [],
   "source": [
    "dataframe['PERCENTUAL_INCIDENCIA'] = round((dataframe['TOTAL_INCIDENCIA'] * 100) / dataframe['TOTAL_INCIDENCIA_GERAL'], 2)"
   ]
  },
  {
   "cell_type": "code",
   "execution_count": 110,
   "metadata": {},
   "outputs": [
    {
     "data": {
      "text/html": [
       "<div>\n",
       "<style scoped>\n",
       "    .dataframe tbody tr th:only-of-type {\n",
       "        vertical-align: middle;\n",
       "    }\n",
       "\n",
       "    .dataframe tbody tr th {\n",
       "        vertical-align: top;\n",
       "    }\n",
       "\n",
       "    .dataframe thead th {\n",
       "        text-align: right;\n",
       "    }\n",
       "</style>\n",
       "<table border=\"1\" class=\"dataframe\">\n",
       "  <thead>\n",
       "    <tr style=\"text-align: right;\">\n",
       "      <th></th>\n",
       "      <th>FLAG_ATRASO_PARTIDA</th>\n",
       "      <th>FLAG_FIM_SEMANA_PARTIDA_PREVISTA</th>\n",
       "      <th>TOTAL_INCIDENCIA</th>\n",
       "      <th>TOTAL_INCIDENCIA_GERAL</th>\n",
       "      <th>PERCENTUAL_INCIDENCIA</th>\n",
       "    </tr>\n",
       "  </thead>\n",
       "  <tbody>\n",
       "    <tr>\n",
       "      <th>0</th>\n",
       "      <td>Vôo Atrasado</td>\n",
       "      <td>Dia Útil</td>\n",
       "      <td>151</td>\n",
       "      <td>223</td>\n",
       "      <td>67.71</td>\n",
       "    </tr>\n",
       "    <tr>\n",
       "      <th>1</th>\n",
       "      <td>Vôo Atrasado</td>\n",
       "      <td>Fim de Semana</td>\n",
       "      <td>72</td>\n",
       "      <td>223</td>\n",
       "      <td>32.29</td>\n",
       "    </tr>\n",
       "    <tr>\n",
       "      <th>2</th>\n",
       "      <td>Vôo no horário</td>\n",
       "      <td>Dia Útil</td>\n",
       "      <td>150</td>\n",
       "      <td>190</td>\n",
       "      <td>78.95</td>\n",
       "    </tr>\n",
       "    <tr>\n",
       "      <th>3</th>\n",
       "      <td>Vôo no horário</td>\n",
       "      <td>Fim de Semana</td>\n",
       "      <td>40</td>\n",
       "      <td>190</td>\n",
       "      <td>21.05</td>\n",
       "    </tr>\n",
       "  </tbody>\n",
       "</table>\n",
       "</div>"
      ],
      "text/plain": [
       "  FLAG_ATRASO_PARTIDA FLAG_FIM_SEMANA_PARTIDA_PREVISTA  TOTAL_INCIDENCIA  \\\n",
       "0        Vôo Atrasado                         Dia Útil               151   \n",
       "1        Vôo Atrasado                    Fim de Semana                72   \n",
       "2      Vôo no horário                         Dia Útil               150   \n",
       "3      Vôo no horário                    Fim de Semana                40   \n",
       "\n",
       "   TOTAL_INCIDENCIA_GERAL  PERCENTUAL_INCIDENCIA  \n",
       "0                     223                  67.71  \n",
       "1                     223                  32.29  \n",
       "2                     190                  78.95  \n",
       "3                     190                  21.05  "
      ]
     },
     "execution_count": 110,
     "metadata": {},
     "output_type": "execute_result"
    }
   ],
   "source": [
    "dataframe"
   ]
  },
  {
   "cell_type": "code",
   "execution_count": 111,
   "metadata": {},
   "outputs": [
    {
     "data": {
      "application/vnd.plotly.v1+json": {
       "config": {
        "plotlyServerURL": "https://plot.ly"
       },
       "data": [
        {
         "alignmentgroup": "True",
         "hovertemplate": "FLAG_ATRASO_PARTIDA=Vôo Atrasado<br>TOTAL_INCIDENCIA=%{x}<br>FLAG_FIM_SEMANA_PARTIDA_PREVISTA=%{y}<extra></extra>",
         "legendgroup": "Vôo Atrasado",
         "marker": {
          "color": "#636efa",
          "pattern": {
           "shape": ""
          }
         },
         "name": "Vôo Atrasado",
         "offsetgroup": "Vôo Atrasado",
         "orientation": "h",
         "showlegend": true,
         "textposition": "auto",
         "type": "bar",
         "x": [
          151,
          72
         ],
         "xaxis": "x",
         "y": [
          "Dia Útil",
          "Fim de Semana"
         ],
         "yaxis": "y"
        },
        {
         "alignmentgroup": "True",
         "hovertemplate": "FLAG_ATRASO_PARTIDA=Vôo no horário<br>TOTAL_INCIDENCIA=%{x}<br>FLAG_FIM_SEMANA_PARTIDA_PREVISTA=%{y}<extra></extra>",
         "legendgroup": "Vôo no horário",
         "marker": {
          "color": "#EF553B",
          "pattern": {
           "shape": ""
          }
         },
         "name": "Vôo no horário",
         "offsetgroup": "Vôo no horário",
         "orientation": "h",
         "showlegend": true,
         "textposition": "auto",
         "type": "bar",
         "x": [
          150,
          40
         ],
         "xaxis": "x",
         "y": [
          "Dia Útil",
          "Fim de Semana"
         ],
         "yaxis": "y"
        }
       ],
       "layout": {
        "barmode": "group",
        "legend": {
         "title": {
          "text": "FLAG_ATRASO_PARTIDA"
         },
         "tracegroupgap": 0
        },
        "margin": {
         "t": 60
        },
        "template": {
         "data": {
          "bar": [
           {
            "error_x": {
             "color": "#2a3f5f"
            },
            "error_y": {
             "color": "#2a3f5f"
            },
            "marker": {
             "line": {
              "color": "#E5ECF6",
              "width": 0.5
             },
             "pattern": {
              "fillmode": "overlay",
              "size": 10,
              "solidity": 0.2
             }
            },
            "type": "bar"
           }
          ],
          "barpolar": [
           {
            "marker": {
             "line": {
              "color": "#E5ECF6",
              "width": 0.5
             },
             "pattern": {
              "fillmode": "overlay",
              "size": 10,
              "solidity": 0.2
             }
            },
            "type": "barpolar"
           }
          ],
          "carpet": [
           {
            "aaxis": {
             "endlinecolor": "#2a3f5f",
             "gridcolor": "white",
             "linecolor": "white",
             "minorgridcolor": "white",
             "startlinecolor": "#2a3f5f"
            },
            "baxis": {
             "endlinecolor": "#2a3f5f",
             "gridcolor": "white",
             "linecolor": "white",
             "minorgridcolor": "white",
             "startlinecolor": "#2a3f5f"
            },
            "type": "carpet"
           }
          ],
          "choropleth": [
           {
            "colorbar": {
             "outlinewidth": 0,
             "ticks": ""
            },
            "type": "choropleth"
           }
          ],
          "contour": [
           {
            "colorbar": {
             "outlinewidth": 0,
             "ticks": ""
            },
            "colorscale": [
             [
              0,
              "#0d0887"
             ],
             [
              0.1111111111111111,
              "#46039f"
             ],
             [
              0.2222222222222222,
              "#7201a8"
             ],
             [
              0.3333333333333333,
              "#9c179e"
             ],
             [
              0.4444444444444444,
              "#bd3786"
             ],
             [
              0.5555555555555556,
              "#d8576b"
             ],
             [
              0.6666666666666666,
              "#ed7953"
             ],
             [
              0.7777777777777778,
              "#fb9f3a"
             ],
             [
              0.8888888888888888,
              "#fdca26"
             ],
             [
              1,
              "#f0f921"
             ]
            ],
            "type": "contour"
           }
          ],
          "contourcarpet": [
           {
            "colorbar": {
             "outlinewidth": 0,
             "ticks": ""
            },
            "type": "contourcarpet"
           }
          ],
          "heatmap": [
           {
            "colorbar": {
             "outlinewidth": 0,
             "ticks": ""
            },
            "colorscale": [
             [
              0,
              "#0d0887"
             ],
             [
              0.1111111111111111,
              "#46039f"
             ],
             [
              0.2222222222222222,
              "#7201a8"
             ],
             [
              0.3333333333333333,
              "#9c179e"
             ],
             [
              0.4444444444444444,
              "#bd3786"
             ],
             [
              0.5555555555555556,
              "#d8576b"
             ],
             [
              0.6666666666666666,
              "#ed7953"
             ],
             [
              0.7777777777777778,
              "#fb9f3a"
             ],
             [
              0.8888888888888888,
              "#fdca26"
             ],
             [
              1,
              "#f0f921"
             ]
            ],
            "type": "heatmap"
           }
          ],
          "heatmapgl": [
           {
            "colorbar": {
             "outlinewidth": 0,
             "ticks": ""
            },
            "colorscale": [
             [
              0,
              "#0d0887"
             ],
             [
              0.1111111111111111,
              "#46039f"
             ],
             [
              0.2222222222222222,
              "#7201a8"
             ],
             [
              0.3333333333333333,
              "#9c179e"
             ],
             [
              0.4444444444444444,
              "#bd3786"
             ],
             [
              0.5555555555555556,
              "#d8576b"
             ],
             [
              0.6666666666666666,
              "#ed7953"
             ],
             [
              0.7777777777777778,
              "#fb9f3a"
             ],
             [
              0.8888888888888888,
              "#fdca26"
             ],
             [
              1,
              "#f0f921"
             ]
            ],
            "type": "heatmapgl"
           }
          ],
          "histogram": [
           {
            "marker": {
             "pattern": {
              "fillmode": "overlay",
              "size": 10,
              "solidity": 0.2
             }
            },
            "type": "histogram"
           }
          ],
          "histogram2d": [
           {
            "colorbar": {
             "outlinewidth": 0,
             "ticks": ""
            },
            "colorscale": [
             [
              0,
              "#0d0887"
             ],
             [
              0.1111111111111111,
              "#46039f"
             ],
             [
              0.2222222222222222,
              "#7201a8"
             ],
             [
              0.3333333333333333,
              "#9c179e"
             ],
             [
              0.4444444444444444,
              "#bd3786"
             ],
             [
              0.5555555555555556,
              "#d8576b"
             ],
             [
              0.6666666666666666,
              "#ed7953"
             ],
             [
              0.7777777777777778,
              "#fb9f3a"
             ],
             [
              0.8888888888888888,
              "#fdca26"
             ],
             [
              1,
              "#f0f921"
             ]
            ],
            "type": "histogram2d"
           }
          ],
          "histogram2dcontour": [
           {
            "colorbar": {
             "outlinewidth": 0,
             "ticks": ""
            },
            "colorscale": [
             [
              0,
              "#0d0887"
             ],
             [
              0.1111111111111111,
              "#46039f"
             ],
             [
              0.2222222222222222,
              "#7201a8"
             ],
             [
              0.3333333333333333,
              "#9c179e"
             ],
             [
              0.4444444444444444,
              "#bd3786"
             ],
             [
              0.5555555555555556,
              "#d8576b"
             ],
             [
              0.6666666666666666,
              "#ed7953"
             ],
             [
              0.7777777777777778,
              "#fb9f3a"
             ],
             [
              0.8888888888888888,
              "#fdca26"
             ],
             [
              1,
              "#f0f921"
             ]
            ],
            "type": "histogram2dcontour"
           }
          ],
          "mesh3d": [
           {
            "colorbar": {
             "outlinewidth": 0,
             "ticks": ""
            },
            "type": "mesh3d"
           }
          ],
          "parcoords": [
           {
            "line": {
             "colorbar": {
              "outlinewidth": 0,
              "ticks": ""
             }
            },
            "type": "parcoords"
           }
          ],
          "pie": [
           {
            "automargin": true,
            "type": "pie"
           }
          ],
          "scatter": [
           {
            "fillpattern": {
             "fillmode": "overlay",
             "size": 10,
             "solidity": 0.2
            },
            "type": "scatter"
           }
          ],
          "scatter3d": [
           {
            "line": {
             "colorbar": {
              "outlinewidth": 0,
              "ticks": ""
             }
            },
            "marker": {
             "colorbar": {
              "outlinewidth": 0,
              "ticks": ""
             }
            },
            "type": "scatter3d"
           }
          ],
          "scattercarpet": [
           {
            "marker": {
             "colorbar": {
              "outlinewidth": 0,
              "ticks": ""
             }
            },
            "type": "scattercarpet"
           }
          ],
          "scattergeo": [
           {
            "marker": {
             "colorbar": {
              "outlinewidth": 0,
              "ticks": ""
             }
            },
            "type": "scattergeo"
           }
          ],
          "scattergl": [
           {
            "marker": {
             "colorbar": {
              "outlinewidth": 0,
              "ticks": ""
             }
            },
            "type": "scattergl"
           }
          ],
          "scattermapbox": [
           {
            "marker": {
             "colorbar": {
              "outlinewidth": 0,
              "ticks": ""
             }
            },
            "type": "scattermapbox"
           }
          ],
          "scatterpolar": [
           {
            "marker": {
             "colorbar": {
              "outlinewidth": 0,
              "ticks": ""
             }
            },
            "type": "scatterpolar"
           }
          ],
          "scatterpolargl": [
           {
            "marker": {
             "colorbar": {
              "outlinewidth": 0,
              "ticks": ""
             }
            },
            "type": "scatterpolargl"
           }
          ],
          "scatterternary": [
           {
            "marker": {
             "colorbar": {
              "outlinewidth": 0,
              "ticks": ""
             }
            },
            "type": "scatterternary"
           }
          ],
          "surface": [
           {
            "colorbar": {
             "outlinewidth": 0,
             "ticks": ""
            },
            "colorscale": [
             [
              0,
              "#0d0887"
             ],
             [
              0.1111111111111111,
              "#46039f"
             ],
             [
              0.2222222222222222,
              "#7201a8"
             ],
             [
              0.3333333333333333,
              "#9c179e"
             ],
             [
              0.4444444444444444,
              "#bd3786"
             ],
             [
              0.5555555555555556,
              "#d8576b"
             ],
             [
              0.6666666666666666,
              "#ed7953"
             ],
             [
              0.7777777777777778,
              "#fb9f3a"
             ],
             [
              0.8888888888888888,
              "#fdca26"
             ],
             [
              1,
              "#f0f921"
             ]
            ],
            "type": "surface"
           }
          ],
          "table": [
           {
            "cells": {
             "fill": {
              "color": "#EBF0F8"
             },
             "line": {
              "color": "white"
             }
            },
            "header": {
             "fill": {
              "color": "#C8D4E3"
             },
             "line": {
              "color": "white"
             }
            },
            "type": "table"
           }
          ]
         },
         "layout": {
          "annotationdefaults": {
           "arrowcolor": "#2a3f5f",
           "arrowhead": 0,
           "arrowwidth": 1
          },
          "autotypenumbers": "strict",
          "coloraxis": {
           "colorbar": {
            "outlinewidth": 0,
            "ticks": ""
           }
          },
          "colorscale": {
           "diverging": [
            [
             0,
             "#8e0152"
            ],
            [
             0.1,
             "#c51b7d"
            ],
            [
             0.2,
             "#de77ae"
            ],
            [
             0.3,
             "#f1b6da"
            ],
            [
             0.4,
             "#fde0ef"
            ],
            [
             0.5,
             "#f7f7f7"
            ],
            [
             0.6,
             "#e6f5d0"
            ],
            [
             0.7,
             "#b8e186"
            ],
            [
             0.8,
             "#7fbc41"
            ],
            [
             0.9,
             "#4d9221"
            ],
            [
             1,
             "#276419"
            ]
           ],
           "sequential": [
            [
             0,
             "#0d0887"
            ],
            [
             0.1111111111111111,
             "#46039f"
            ],
            [
             0.2222222222222222,
             "#7201a8"
            ],
            [
             0.3333333333333333,
             "#9c179e"
            ],
            [
             0.4444444444444444,
             "#bd3786"
            ],
            [
             0.5555555555555556,
             "#d8576b"
            ],
            [
             0.6666666666666666,
             "#ed7953"
            ],
            [
             0.7777777777777778,
             "#fb9f3a"
            ],
            [
             0.8888888888888888,
             "#fdca26"
            ],
            [
             1,
             "#f0f921"
            ]
           ],
           "sequentialminus": [
            [
             0,
             "#0d0887"
            ],
            [
             0.1111111111111111,
             "#46039f"
            ],
            [
             0.2222222222222222,
             "#7201a8"
            ],
            [
             0.3333333333333333,
             "#9c179e"
            ],
            [
             0.4444444444444444,
             "#bd3786"
            ],
            [
             0.5555555555555556,
             "#d8576b"
            ],
            [
             0.6666666666666666,
             "#ed7953"
            ],
            [
             0.7777777777777778,
             "#fb9f3a"
            ],
            [
             0.8888888888888888,
             "#fdca26"
            ],
            [
             1,
             "#f0f921"
            ]
           ]
          },
          "colorway": [
           "#636efa",
           "#EF553B",
           "#00cc96",
           "#ab63fa",
           "#FFA15A",
           "#19d3f3",
           "#FF6692",
           "#B6E880",
           "#FF97FF",
           "#FECB52"
          ],
          "font": {
           "color": "#2a3f5f"
          },
          "geo": {
           "bgcolor": "white",
           "lakecolor": "white",
           "landcolor": "#E5ECF6",
           "showlakes": true,
           "showland": true,
           "subunitcolor": "white"
          },
          "hoverlabel": {
           "align": "left"
          },
          "hovermode": "closest",
          "mapbox": {
           "style": "light"
          },
          "paper_bgcolor": "white",
          "plot_bgcolor": "#E5ECF6",
          "polar": {
           "angularaxis": {
            "gridcolor": "white",
            "linecolor": "white",
            "ticks": ""
           },
           "bgcolor": "#E5ECF6",
           "radialaxis": {
            "gridcolor": "white",
            "linecolor": "white",
            "ticks": ""
           }
          },
          "scene": {
           "xaxis": {
            "backgroundcolor": "#E5ECF6",
            "gridcolor": "white",
            "gridwidth": 2,
            "linecolor": "white",
            "showbackground": true,
            "ticks": "",
            "zerolinecolor": "white"
           },
           "yaxis": {
            "backgroundcolor": "#E5ECF6",
            "gridcolor": "white",
            "gridwidth": 2,
            "linecolor": "white",
            "showbackground": true,
            "ticks": "",
            "zerolinecolor": "white"
           },
           "zaxis": {
            "backgroundcolor": "#E5ECF6",
            "gridcolor": "white",
            "gridwidth": 2,
            "linecolor": "white",
            "showbackground": true,
            "ticks": "",
            "zerolinecolor": "white"
           }
          },
          "shapedefaults": {
           "line": {
            "color": "#2a3f5f"
           }
          },
          "ternary": {
           "aaxis": {
            "gridcolor": "white",
            "linecolor": "white",
            "ticks": ""
           },
           "baxis": {
            "gridcolor": "white",
            "linecolor": "white",
            "ticks": ""
           },
           "bgcolor": "#E5ECF6",
           "caxis": {
            "gridcolor": "white",
            "linecolor": "white",
            "ticks": ""
           }
          },
          "title": {
           "x": 0.05
          },
          "xaxis": {
           "automargin": true,
           "gridcolor": "white",
           "linecolor": "white",
           "ticks": "",
           "title": {
            "standoff": 15
           },
           "zerolinecolor": "white",
           "zerolinewidth": 2
          },
          "yaxis": {
           "automargin": true,
           "gridcolor": "white",
           "linecolor": "white",
           "ticks": "",
           "title": {
            "standoff": 15
           },
           "zerolinecolor": "white",
           "zerolinewidth": 2
          }
         }
        },
        "xaxis": {
         "anchor": "y",
         "domain": [
          0,
          1
         ],
         "title": {
          "text": "TOTAL_INCIDENCIA"
         }
        },
        "yaxis": {
         "anchor": "x",
         "domain": [
          0,
          1
         ],
         "title": {
          "text": "FLAG_FIM_SEMANA_PARTIDA_PREVISTA"
         }
        }
       }
      }
     },
     "metadata": {},
     "output_type": "display_data"
    }
   ],
   "source": [
    "fig = px.bar(\n",
    "    dataframe,\n",
    "    x='TOTAL_INCIDENCIA',\n",
    "    y='FLAG_FIM_SEMANA_PARTIDA_PREVISTA',\n",
    "    color='FLAG_ATRASO_PARTIDA',\n",
    "    barmode='group'\n",
    ")\n",
    "fig.show()"
   ]
  },
  {
   "cell_type": "markdown",
   "metadata": {},
   "source": [
    "<p> Pode ser análisado a incidencia por aeroporto também</p>\n",
    "<p>Detalhe por semana também</p>\n",
    "<p>Eu tenho 3000 vôos que partiram no horário 50%(1500) da empresa A e 50% da empresa B</p>"
   ]
  },
  {
   "cell_type": "markdown",
   "metadata": {},
   "source": [
    "<p> - Analise a FAIXA_ATRASO_CHEGADA por aeroporto e empresa por dia de semana e por mês </p>\n",
    "<p> O volume de atraso no fim de semana, é maior ou menor em relação ao dia atual</p>\n",
    "<p> Pode ser análisado a incidencia por aeroporto também</p>\n",
    "<p>Detalhe por semana também</p>\n",
    "<p>Eu tenho 3000 vôos que partiram no horário 50%(1500) da empresa A e 50% da empresa B</p>\n"
   ]
  },
  {
   "cell_type": "markdown",
   "metadata": {},
   "source": [
    "<p> Ranking por FAIXA_ATRASO_CHEGADA selecionando aeroporto  por mês e empresa</p>"
   ]
  },
  {
   "cell_type": "markdown",
   "metadata": {},
   "source": [
    "<p> Ranking por FAIXA_ATRASO_SAIDA selecionando aeroporto em empresa por mês</p>"
   ]
  },
  {
   "cell_type": "markdown",
   "metadata": {},
   "source": [
    "<p> Quantifique a porcentagem por FAIXA_ATRASO_CHEGADA selecionando aeroportoa por mês</p>"
   ]
  },
  {
   "cell_type": "markdown",
   "metadata": {},
   "source": [
    "<p> Quantifique a porcentagem por FAIXA_ATRASO_PARTIFA selecionando aeroporto  por mês</p>"
   ]
  }
 ],
 "metadata": {
  "kernelspec": {
   "display_name": "venv",
   "language": "python",
   "name": "python3"
  },
  "language_info": {
   "codemirror_mode": {
    "name": "ipython",
    "version": 3
   },
   "file_extension": ".py",
   "mimetype": "text/x-python",
   "name": "python",
   "nbconvert_exporter": "python",
   "pygments_lexer": "ipython3",
   "version": "3.10.11"
  }
 },
 "nbformat": 4,
 "nbformat_minor": 2
}
