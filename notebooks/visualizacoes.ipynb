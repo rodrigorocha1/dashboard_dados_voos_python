{
 "cells": [
  {
   "cell_type": "code",
   "execution_count": 272,
   "metadata": {},
   "outputs": [],
   "source": [
    "import pandas as pd\n",
    "import plotly.express as px\n",
    "import plotly.graph_objects as go"
   ]
  },
  {
   "cell_type": "markdown",
   "metadata": {},
   "source": [
    "- abir parquet"
   ]
  },
  {
   "cell_type": "code",
   "execution_count": 19,
   "metadata": {},
   "outputs": [],
   "source": [
    "base = pd.read_parquet('../data/processed/df_final.parquet')"
   ]
  },
  {
   "cell_type": "markdown",
   "metadata": {},
   "source": [
    "- Situação Vôo"
   ]
  },
  {
   "cell_type": "code",
   "execution_count": 20,
   "metadata": {},
   "outputs": [],
   "source": [
    "colunas = ['SIGLA_ICAO_EMPRESA_AEREA', 'SITUACAO_VOO', 'MES_PARTIDA_PREVISTA', 'NOME_MES_PARTIDA_PREVISTA']\n",
    "teste = pd.read_parquet('../data/processed/df_final.parquet', columns=colunas)"
   ]
  },
  {
   "cell_type": "code",
   "execution_count": 21,
   "metadata": {},
   "outputs": [
    {
     "name": "stdout",
     "output_type": "stream",
     "text": [
      "<class 'pandas.core.frame.DataFrame'>\n",
      "RangeIndex: 717357 entries, 0 to 717356\n",
      "Data columns (total 4 columns):\n",
      " #   Column                     Non-Null Count   Dtype   \n",
      "---  ------                     --------------   -----   \n",
      " 0   SIGLA_ICAO_EMPRESA_AEREA   717357 non-null  string  \n",
      " 1   SITUACAO_VOO               717357 non-null  category\n",
      " 2   MES_PARTIDA_PREVISTA       717357 non-null  int32   \n",
      " 3   NOME_MES_PARTIDA_PREVISTA  717357 non-null  category\n",
      "dtypes: category(2), int32(1), string(1)\n",
      "memory usage: 9.6 MB\n"
     ]
    }
   ],
   "source": [
    "teste.info()"
   ]
  },
  {
   "cell_type": "code",
   "execution_count": 22,
   "metadata": {},
   "outputs": [
    {
     "data": {
      "text/html": [
       "<div>\n",
       "<style scoped>\n",
       "    .dataframe tbody tr th:only-of-type {\n",
       "        vertical-align: middle;\n",
       "    }\n",
       "\n",
       "    .dataframe tbody tr th {\n",
       "        vertical-align: top;\n",
       "    }\n",
       "\n",
       "    .dataframe thead th {\n",
       "        text-align: right;\n",
       "    }\n",
       "</style>\n",
       "<table border=\"1\" class=\"dataframe\">\n",
       "  <thead>\n",
       "    <tr style=\"text-align: right;\">\n",
       "      <th></th>\n",
       "      <th>SIGLA_ICAO_EMPRESA_AEREA</th>\n",
       "      <th>SITUACAO_VOO</th>\n",
       "      <th>MES_PARTIDA_PREVISTA</th>\n",
       "      <th>NOME_MES_PARTIDA_PREVISTA</th>\n",
       "    </tr>\n",
       "  </thead>\n",
       "  <tbody>\n",
       "    <tr>\n",
       "      <th>0</th>\n",
       "      <td>AZU</td>\n",
       "      <td>REALIZADO</td>\n",
       "      <td>1</td>\n",
       "      <td>janeiro</td>\n",
       "    </tr>\n",
       "    <tr>\n",
       "      <th>1</th>\n",
       "      <td>AZU</td>\n",
       "      <td>REALIZADO</td>\n",
       "      <td>1</td>\n",
       "      <td>janeiro</td>\n",
       "    </tr>\n",
       "    <tr>\n",
       "      <th>2</th>\n",
       "      <td>AZU</td>\n",
       "      <td>REALIZADO</td>\n",
       "      <td>1</td>\n",
       "      <td>janeiro</td>\n",
       "    </tr>\n",
       "    <tr>\n",
       "      <th>3</th>\n",
       "      <td>AZU</td>\n",
       "      <td>REALIZADO</td>\n",
       "      <td>1</td>\n",
       "      <td>janeiro</td>\n",
       "    </tr>\n",
       "    <tr>\n",
       "      <th>4</th>\n",
       "      <td>AZU</td>\n",
       "      <td>REALIZADO</td>\n",
       "      <td>2</td>\n",
       "      <td>fevereiro</td>\n",
       "    </tr>\n",
       "  </tbody>\n",
       "</table>\n",
       "</div>"
      ],
      "text/plain": [
       "  SIGLA_ICAO_EMPRESA_AEREA SITUACAO_VOO  MES_PARTIDA_PREVISTA  \\\n",
       "0                      AZU    REALIZADO                     1   \n",
       "1                      AZU    REALIZADO                     1   \n",
       "2                      AZU    REALIZADO                     1   \n",
       "3                      AZU    REALIZADO                     1   \n",
       "4                      AZU    REALIZADO                     2   \n",
       "\n",
       "  NOME_MES_PARTIDA_PREVISTA  \n",
       "0                   janeiro  \n",
       "1                   janeiro  \n",
       "2                   janeiro  \n",
       "3                   janeiro  \n",
       "4                 fevereiro  "
      ]
     },
     "execution_count": 22,
     "metadata": {},
     "output_type": "execute_result"
    }
   ],
   "source": [
    "teste.head()"
   ]
  },
  {
   "cell_type": "code",
   "execution_count": 23,
   "metadata": {},
   "outputs": [
    {
     "data": {
      "text/html": [
       "<div>\n",
       "<style scoped>\n",
       "    .dataframe tbody tr th:only-of-type {\n",
       "        vertical-align: middle;\n",
       "    }\n",
       "\n",
       "    .dataframe tbody tr th {\n",
       "        vertical-align: top;\n",
       "    }\n",
       "\n",
       "    .dataframe thead th {\n",
       "        text-align: right;\n",
       "    }\n",
       "</style>\n",
       "<table border=\"1\" class=\"dataframe\">\n",
       "  <thead>\n",
       "    <tr style=\"text-align: right;\">\n",
       "      <th></th>\n",
       "      <th>NOME_AEROPORTO_ORIGEM</th>\n",
       "      <th>CIDADE_AEROPORTO_ORIGEM</th>\n",
       "      <th>UF_AEROPORTO_ORIGEM</th>\n",
       "      <th>SIGLA_ICAO_EMPRESA_AEREA</th>\n",
       "      <th>NUMERO_VOO</th>\n",
       "      <th>CODIGO_TIPO_LINHA</th>\n",
       "      <th>SIGLA_ICAO_AEROPORTO_ORIGEM</th>\n",
       "      <th>SIGLA_ICAO_AEROPORTO_DESTINO</th>\n",
       "      <th>PARTIDA_PREVISTA</th>\n",
       "      <th>PARTIDA_REAL</th>\n",
       "      <th>...</th>\n",
       "      <th>DIA_DA_SEMANA_PARTIDA_PREVISTA</th>\n",
       "      <th>INDICE_SEMANA_PARTIDA_PREVISTA</th>\n",
       "      <th>DIA_DA_SEMANA_PARTIDA_REAL</th>\n",
       "      <th>INDICE_SEMANA_PARTIDA_REAL</th>\n",
       "      <th>DIA_DA_SEMANA_CHEGADA_REAL</th>\n",
       "      <th>DIA_DA_SEMANA_CHEGADA_PREVISTA</th>\n",
       "      <th>INDICE_SEMANA_CHEGADA_REAL</th>\n",
       "      <th>INDICE_SEMANA_CHEGADA_PREVISTA</th>\n",
       "      <th>FAIXA_ATRASO_PARTIDA</th>\n",
       "      <th>FAIXA_ATRASO_CHEGADA</th>\n",
       "    </tr>\n",
       "  </thead>\n",
       "  <tbody>\n",
       "    <tr>\n",
       "      <th>537999</th>\n",
       "      <td>LEITE LOPES</td>\n",
       "      <td>RIBEIRÃO PRETO</td>\n",
       "      <td>SP</td>\n",
       "      <td>TAM</td>\n",
       "      <td>3433</td>\n",
       "      <td>N</td>\n",
       "      <td>SBRP</td>\n",
       "      <td>SBGR</td>\n",
       "      <td>2022-11-01 09:30:00</td>\n",
       "      <td>2022-11-01 09:30:00</td>\n",
       "      <td>...</td>\n",
       "      <td>Terça-feira</td>\n",
       "      <td>1</td>\n",
       "      <td>Terça-feira</td>\n",
       "      <td>1</td>\n",
       "      <td>Terça-feira</td>\n",
       "      <td>Terça-feira</td>\n",
       "      <td>1</td>\n",
       "      <td>1</td>\n",
       "      <td>No horário</td>\n",
       "      <td>No horário</td>\n",
       "    </tr>\n",
       "    <tr>\n",
       "      <th>538000</th>\n",
       "      <td>LEITE LOPES</td>\n",
       "      <td>RIBEIRÃO PRETO</td>\n",
       "      <td>SP</td>\n",
       "      <td>TAM</td>\n",
       "      <td>3433</td>\n",
       "      <td>N</td>\n",
       "      <td>SBRP</td>\n",
       "      <td>SBGR</td>\n",
       "      <td>2022-11-02 09:30:00</td>\n",
       "      <td>2022-11-02 09:30:00</td>\n",
       "      <td>...</td>\n",
       "      <td>Quarta-feira</td>\n",
       "      <td>2</td>\n",
       "      <td>Quarta-feira</td>\n",
       "      <td>2</td>\n",
       "      <td>Quarta-feira</td>\n",
       "      <td>Quarta-feira</td>\n",
       "      <td>2</td>\n",
       "      <td>2</td>\n",
       "      <td>No horário</td>\n",
       "      <td>No horário</td>\n",
       "    </tr>\n",
       "    <tr>\n",
       "      <th>538001</th>\n",
       "      <td>LEITE LOPES</td>\n",
       "      <td>RIBEIRÃO PRETO</td>\n",
       "      <td>SP</td>\n",
       "      <td>TAM</td>\n",
       "      <td>3867</td>\n",
       "      <td>N</td>\n",
       "      <td>SBRP</td>\n",
       "      <td>SBGR</td>\n",
       "      <td>2022-11-02 14:20:00</td>\n",
       "      <td>2022-11-02 14:17:00</td>\n",
       "      <td>...</td>\n",
       "      <td>Quarta-feira</td>\n",
       "      <td>2</td>\n",
       "      <td>Quarta-feira</td>\n",
       "      <td>2</td>\n",
       "      <td>Quarta-feira</td>\n",
       "      <td>Quarta-feira</td>\n",
       "      <td>2</td>\n",
       "      <td>2</td>\n",
       "      <td>No horário</td>\n",
       "      <td>Atraso de até 1 hora</td>\n",
       "    </tr>\n",
       "    <tr>\n",
       "      <th>538002</th>\n",
       "      <td>LEITE LOPES</td>\n",
       "      <td>RIBEIRÃO PRETO</td>\n",
       "      <td>SP</td>\n",
       "      <td>TAM</td>\n",
       "      <td>3433</td>\n",
       "      <td>N</td>\n",
       "      <td>SBRP</td>\n",
       "      <td>SBGR</td>\n",
       "      <td>2022-11-03 09:30:00</td>\n",
       "      <td>2022-11-03 09:25:00</td>\n",
       "      <td>...</td>\n",
       "      <td>Quinta-feira</td>\n",
       "      <td>3</td>\n",
       "      <td>Quinta-feira</td>\n",
       "      <td>3</td>\n",
       "      <td>Quinta-feira</td>\n",
       "      <td>Quinta-feira</td>\n",
       "      <td>3</td>\n",
       "      <td>3</td>\n",
       "      <td>No horário</td>\n",
       "      <td>No horário</td>\n",
       "    </tr>\n",
       "    <tr>\n",
       "      <th>538003</th>\n",
       "      <td>LEITE LOPES</td>\n",
       "      <td>RIBEIRÃO PRETO</td>\n",
       "      <td>SP</td>\n",
       "      <td>TAM</td>\n",
       "      <td>3867</td>\n",
       "      <td>N</td>\n",
       "      <td>SBRP</td>\n",
       "      <td>SBGR</td>\n",
       "      <td>2022-11-03 14:20:00</td>\n",
       "      <td>2022-11-03 14:12:00</td>\n",
       "      <td>...</td>\n",
       "      <td>Quinta-feira</td>\n",
       "      <td>3</td>\n",
       "      <td>Quinta-feira</td>\n",
       "      <td>3</td>\n",
       "      <td>Quinta-feira</td>\n",
       "      <td>Quinta-feira</td>\n",
       "      <td>3</td>\n",
       "      <td>3</td>\n",
       "      <td>No horário</td>\n",
       "      <td>No horário</td>\n",
       "    </tr>\n",
       "    <tr>\n",
       "      <th>...</th>\n",
       "      <td>...</td>\n",
       "      <td>...</td>\n",
       "      <td>...</td>\n",
       "      <td>...</td>\n",
       "      <td>...</td>\n",
       "      <td>...</td>\n",
       "      <td>...</td>\n",
       "      <td>...</td>\n",
       "      <td>...</td>\n",
       "      <td>...</td>\n",
       "      <td>...</td>\n",
       "      <td>...</td>\n",
       "      <td>...</td>\n",
       "      <td>...</td>\n",
       "      <td>...</td>\n",
       "      <td>...</td>\n",
       "      <td>...</td>\n",
       "      <td>...</td>\n",
       "      <td>...</td>\n",
       "      <td>...</td>\n",
       "      <td>...</td>\n",
       "    </tr>\n",
       "    <tr>\n",
       "      <th>538109</th>\n",
       "      <td>LEITE LOPES</td>\n",
       "      <td>RIBEIRÃO PRETO</td>\n",
       "      <td>SP</td>\n",
       "      <td>TAM</td>\n",
       "      <td>3433</td>\n",
       "      <td>N</td>\n",
       "      <td>SBRP</td>\n",
       "      <td>SBGR</td>\n",
       "      <td>2022-12-29 09:30:00</td>\n",
       "      <td>2022-12-29 09:30:00</td>\n",
       "      <td>...</td>\n",
       "      <td>Quinta-feira</td>\n",
       "      <td>3</td>\n",
       "      <td>Quinta-feira</td>\n",
       "      <td>3</td>\n",
       "      <td>Quinta-feira</td>\n",
       "      <td>Quinta-feira</td>\n",
       "      <td>3</td>\n",
       "      <td>3</td>\n",
       "      <td>No horário</td>\n",
       "      <td>Atraso de até 30 minutos</td>\n",
       "    </tr>\n",
       "    <tr>\n",
       "      <th>538111</th>\n",
       "      <td>LEITE LOPES</td>\n",
       "      <td>RIBEIRÃO PRETO</td>\n",
       "      <td>SP</td>\n",
       "      <td>TAM</td>\n",
       "      <td>3867</td>\n",
       "      <td>N</td>\n",
       "      <td>SBRP</td>\n",
       "      <td>SBGR</td>\n",
       "      <td>2022-12-29 14:20:00</td>\n",
       "      <td>2022-12-29 14:11:00</td>\n",
       "      <td>...</td>\n",
       "      <td>Quinta-feira</td>\n",
       "      <td>3</td>\n",
       "      <td>Quinta-feira</td>\n",
       "      <td>3</td>\n",
       "      <td>Quinta-feira</td>\n",
       "      <td>Quinta-feira</td>\n",
       "      <td>3</td>\n",
       "      <td>3</td>\n",
       "      <td>No horário</td>\n",
       "      <td>No horário</td>\n",
       "    </tr>\n",
       "    <tr>\n",
       "      <th>538112</th>\n",
       "      <td>LEITE LOPES</td>\n",
       "      <td>RIBEIRÃO PRETO</td>\n",
       "      <td>SP</td>\n",
       "      <td>TAM</td>\n",
       "      <td>3433</td>\n",
       "      <td>N</td>\n",
       "      <td>SBRP</td>\n",
       "      <td>SBGR</td>\n",
       "      <td>2022-12-30 09:30:00</td>\n",
       "      <td>2022-12-30 09:29:00</td>\n",
       "      <td>...</td>\n",
       "      <td>Sexta-feira</td>\n",
       "      <td>4</td>\n",
       "      <td>Sexta-feira</td>\n",
       "      <td>4</td>\n",
       "      <td>Sexta-feira</td>\n",
       "      <td>Sexta-feira</td>\n",
       "      <td>4</td>\n",
       "      <td>4</td>\n",
       "      <td>No horário</td>\n",
       "      <td>No horário</td>\n",
       "    </tr>\n",
       "    <tr>\n",
       "      <th>538113</th>\n",
       "      <td>LEITE LOPES</td>\n",
       "      <td>RIBEIRÃO PRETO</td>\n",
       "      <td>SP</td>\n",
       "      <td>TAM</td>\n",
       "      <td>3867</td>\n",
       "      <td>N</td>\n",
       "      <td>SBRP</td>\n",
       "      <td>SBGR</td>\n",
       "      <td>2022-12-30 14:00:00</td>\n",
       "      <td>2022-12-30 13:50:00</td>\n",
       "      <td>...</td>\n",
       "      <td>Sexta-feira</td>\n",
       "      <td>4</td>\n",
       "      <td>Sexta-feira</td>\n",
       "      <td>4</td>\n",
       "      <td>Sexta-feira</td>\n",
       "      <td>Sexta-feira</td>\n",
       "      <td>4</td>\n",
       "      <td>4</td>\n",
       "      <td>No horário</td>\n",
       "      <td>No horário</td>\n",
       "    </tr>\n",
       "    <tr>\n",
       "      <th>538114</th>\n",
       "      <td>LEITE LOPES</td>\n",
       "      <td>RIBEIRÃO PRETO</td>\n",
       "      <td>SP</td>\n",
       "      <td>TAM</td>\n",
       "      <td>3867</td>\n",
       "      <td>N</td>\n",
       "      <td>SBRP</td>\n",
       "      <td>SBGR</td>\n",
       "      <td>2022-12-31 14:20:00</td>\n",
       "      <td>2022-12-31 14:11:00</td>\n",
       "      <td>...</td>\n",
       "      <td>Sábado</td>\n",
       "      <td>5</td>\n",
       "      <td>Sábado</td>\n",
       "      <td>5</td>\n",
       "      <td>Sábado</td>\n",
       "      <td>Sábado</td>\n",
       "      <td>5</td>\n",
       "      <td>5</td>\n",
       "      <td>No horário</td>\n",
       "      <td>Atraso de até 30 minutos</td>\n",
       "    </tr>\n",
       "  </tbody>\n",
       "</table>\n",
       "<p>110 rows × 38 columns</p>\n",
       "</div>"
      ],
      "text/plain": [
       "       NOME_AEROPORTO_ORIGEM CIDADE_AEROPORTO_ORIGEM UF_AEROPORTO_ORIGEM  \\\n",
       "537999           LEITE LOPES          RIBEIRÃO PRETO                  SP   \n",
       "538000           LEITE LOPES          RIBEIRÃO PRETO                  SP   \n",
       "538001           LEITE LOPES          RIBEIRÃO PRETO                  SP   \n",
       "538002           LEITE LOPES          RIBEIRÃO PRETO                  SP   \n",
       "538003           LEITE LOPES          RIBEIRÃO PRETO                  SP   \n",
       "...                      ...                     ...                 ...   \n",
       "538109           LEITE LOPES          RIBEIRÃO PRETO                  SP   \n",
       "538111           LEITE LOPES          RIBEIRÃO PRETO                  SP   \n",
       "538112           LEITE LOPES          RIBEIRÃO PRETO                  SP   \n",
       "538113           LEITE LOPES          RIBEIRÃO PRETO                  SP   \n",
       "538114           LEITE LOPES          RIBEIRÃO PRETO                  SP   \n",
       "\n",
       "       SIGLA_ICAO_EMPRESA_AEREA NUMERO_VOO CODIGO_TIPO_LINHA  \\\n",
       "537999                      TAM       3433                 N   \n",
       "538000                      TAM       3433                 N   \n",
       "538001                      TAM       3867                 N   \n",
       "538002                      TAM       3433                 N   \n",
       "538003                      TAM       3867                 N   \n",
       "...                         ...        ...               ...   \n",
       "538109                      TAM       3433                 N   \n",
       "538111                      TAM       3867                 N   \n",
       "538112                      TAM       3433                 N   \n",
       "538113                      TAM       3867                 N   \n",
       "538114                      TAM       3867                 N   \n",
       "\n",
       "       SIGLA_ICAO_AEROPORTO_ORIGEM SIGLA_ICAO_AEROPORTO_DESTINO  \\\n",
       "537999                        SBRP                         SBGR   \n",
       "538000                        SBRP                         SBGR   \n",
       "538001                        SBRP                         SBGR   \n",
       "538002                        SBRP                         SBGR   \n",
       "538003                        SBRP                         SBGR   \n",
       "...                            ...                          ...   \n",
       "538109                        SBRP                         SBGR   \n",
       "538111                        SBRP                         SBGR   \n",
       "538112                        SBRP                         SBGR   \n",
       "538113                        SBRP                         SBGR   \n",
       "538114                        SBRP                         SBGR   \n",
       "\n",
       "          PARTIDA_PREVISTA        PARTIDA_REAL  ...  \\\n",
       "537999 2022-11-01 09:30:00 2022-11-01 09:30:00  ...   \n",
       "538000 2022-11-02 09:30:00 2022-11-02 09:30:00  ...   \n",
       "538001 2022-11-02 14:20:00 2022-11-02 14:17:00  ...   \n",
       "538002 2022-11-03 09:30:00 2022-11-03 09:25:00  ...   \n",
       "538003 2022-11-03 14:20:00 2022-11-03 14:12:00  ...   \n",
       "...                    ...                 ...  ...   \n",
       "538109 2022-12-29 09:30:00 2022-12-29 09:30:00  ...   \n",
       "538111 2022-12-29 14:20:00 2022-12-29 14:11:00  ...   \n",
       "538112 2022-12-30 09:30:00 2022-12-30 09:29:00  ...   \n",
       "538113 2022-12-30 14:00:00 2022-12-30 13:50:00  ...   \n",
       "538114 2022-12-31 14:20:00 2022-12-31 14:11:00  ...   \n",
       "\n",
       "       DIA_DA_SEMANA_PARTIDA_PREVISTA INDICE_SEMANA_PARTIDA_PREVISTA  \\\n",
       "537999                    Terça-feira                              1   \n",
       "538000                   Quarta-feira                              2   \n",
       "538001                   Quarta-feira                              2   \n",
       "538002                   Quinta-feira                              3   \n",
       "538003                   Quinta-feira                              3   \n",
       "...                               ...                            ...   \n",
       "538109                   Quinta-feira                              3   \n",
       "538111                   Quinta-feira                              3   \n",
       "538112                    Sexta-feira                              4   \n",
       "538113                    Sexta-feira                              4   \n",
       "538114                         Sábado                              5   \n",
       "\n",
       "       DIA_DA_SEMANA_PARTIDA_REAL INDICE_SEMANA_PARTIDA_REAL  \\\n",
       "537999                Terça-feira                          1   \n",
       "538000               Quarta-feira                          2   \n",
       "538001               Quarta-feira                          2   \n",
       "538002               Quinta-feira                          3   \n",
       "538003               Quinta-feira                          3   \n",
       "...                           ...                        ...   \n",
       "538109               Quinta-feira                          3   \n",
       "538111               Quinta-feira                          3   \n",
       "538112                Sexta-feira                          4   \n",
       "538113                Sexta-feira                          4   \n",
       "538114                     Sábado                          5   \n",
       "\n",
       "       DIA_DA_SEMANA_CHEGADA_REAL DIA_DA_SEMANA_CHEGADA_PREVISTA  \\\n",
       "537999                Terça-feira                    Terça-feira   \n",
       "538000               Quarta-feira                   Quarta-feira   \n",
       "538001               Quarta-feira                   Quarta-feira   \n",
       "538002               Quinta-feira                   Quinta-feira   \n",
       "538003               Quinta-feira                   Quinta-feira   \n",
       "...                           ...                            ...   \n",
       "538109               Quinta-feira                   Quinta-feira   \n",
       "538111               Quinta-feira                   Quinta-feira   \n",
       "538112                Sexta-feira                    Sexta-feira   \n",
       "538113                Sexta-feira                    Sexta-feira   \n",
       "538114                     Sábado                         Sábado   \n",
       "\n",
       "       INDICE_SEMANA_CHEGADA_REAL INDICE_SEMANA_CHEGADA_PREVISTA  \\\n",
       "537999                          1                              1   \n",
       "538000                          2                              2   \n",
       "538001                          2                              2   \n",
       "538002                          3                              3   \n",
       "538003                          3                              3   \n",
       "...                           ...                            ...   \n",
       "538109                          3                              3   \n",
       "538111                          3                              3   \n",
       "538112                          4                              4   \n",
       "538113                          4                              4   \n",
       "538114                          5                              5   \n",
       "\n",
       "        FAIXA_ATRASO_PARTIDA      FAIXA_ATRASO_CHEGADA  \n",
       "537999            No horário                No horário  \n",
       "538000            No horário                No horário  \n",
       "538001            No horário      Atraso de até 1 hora  \n",
       "538002            No horário                No horário  \n",
       "538003            No horário                No horário  \n",
       "...                      ...                       ...  \n",
       "538109            No horário  Atraso de até 30 minutos  \n",
       "538111            No horário                No horário  \n",
       "538112            No horário                No horário  \n",
       "538113            No horário                No horário  \n",
       "538114            No horário  Atraso de até 30 minutos  \n",
       "\n",
       "[110 rows x 38 columns]"
      ]
     },
     "execution_count": 23,
     "metadata": {},
     "output_type": "execute_result"
    }
   ],
   "source": [
    "total = base.query(\n",
    "    'SIGLA_ICAO_EMPRESA_AEREA == \"TAM\"  ' \\\n",
    "    ' and SIGLA_ICAO_AEROPORTO_ORIGEM == \"SBRP\"'\\\n",
    "    ' and MES_PARTIDA_PREVISTA in [11,12] '\n",
    ")\n",
    "total"
   ]
  },
  {
   "cell_type": "code",
   "execution_count": 24,
   "metadata": {},
   "outputs": [
    {
     "data": {
      "text/plain": [
       "NOME_MES_PARTIDA_PREVISTA  SIGLA_ICAO_EMPRESA_AEREA  MES_PARTIDA_PREVISTA  SITUACAO_VOO\n",
       "novembro                   TAM                       11                    REALIZADO       53\n",
       "                                                                           CANCELADO        2\n",
       "Name: count, dtype: int64"
      ]
     },
     "execution_count": 24,
     "metadata": {},
     "output_type": "execute_result"
    }
   ],
   "source": [
    "total = base.query(\n",
    "    'SIGLA_ICAO_EMPRESA_AEREA == \"TAM\"  ' \\\n",
    "    ' and SIGLA_ICAO_AEROPORTO_ORIGEM == \"SBRP\"'\\\n",
    "    ' and MES_PARTIDA_PREVISTA in [11] '\n",
    ")[\n",
    "    [\n",
    "        'NOME_MES_PARTIDA_PREVISTA',\n",
    "        'SIGLA_ICAO_EMPRESA_AEREA', \n",
    "        'MES_PARTIDA_PREVISTA',\n",
    "        'SITUACAO_VOO'\n",
    "    ]\n",
    "].value_counts()\n",
    "# teste = base.query('SIGLA_ICAO_EMPRESA_AEREA == \"TAP\"')[['SIGLA_ICAO_EMPRESA_AEREA', 'SITUACAO_VOO']].value_counts( normalize=True) * 100\n",
    "total\n"
   ]
  },
  {
   "cell_type": "code",
   "execution_count": 25,
   "metadata": {},
   "outputs": [
    {
     "data": {
      "text/plain": [
       "NOME_MES_PARTIDA_PREVISTA  SIGLA_ICAO_EMPRESA_AEREA  MES_PARTIDA_PREVISTA  SITUACAO_VOO\n",
       "novembro                   TAM                       11                    REALIZADO       96.363636\n",
       "                                                                           CANCELADO        3.636364\n",
       "Name: proportion, dtype: float64"
      ]
     },
     "execution_count": 25,
     "metadata": {},
     "output_type": "execute_result"
    }
   ],
   "source": [
    "percentual = base.query(\n",
    "    'SIGLA_ICAO_EMPRESA_AEREA == \"TAM\"  ' \\\n",
    "    ' and SIGLA_ICAO_AEROPORTO_ORIGEM == \"SBRP\"' \\\n",
    "    ' and MES_PARTIDA_PREVISTA in [11]  '\n",
    "    )[\n",
    "        [\n",
    "            'NOME_MES_PARTIDA_PREVISTA',\n",
    "            'SIGLA_ICAO_EMPRESA_AEREA', \n",
    "            'MES_PARTIDA_PREVISTA',\n",
    "            'SITUACAO_VOO'\n",
    "        ]\n",
    "    ].value_counts( normalize=True) * 100\n",
    "percentual"
   ]
  },
  {
   "cell_type": "code",
   "execution_count": 26,
   "metadata": {},
   "outputs": [
    {
     "data": {
      "text/html": [
       "<div>\n",
       "<style scoped>\n",
       "    .dataframe tbody tr th:only-of-type {\n",
       "        vertical-align: middle;\n",
       "    }\n",
       "\n",
       "    .dataframe tbody tr th {\n",
       "        vertical-align: top;\n",
       "    }\n",
       "\n",
       "    .dataframe thead th {\n",
       "        text-align: right;\n",
       "    }\n",
       "</style>\n",
       "<table border=\"1\" class=\"dataframe\">\n",
       "  <thead>\n",
       "    <tr style=\"text-align: right;\">\n",
       "      <th></th>\n",
       "      <th>NOME_MES_PARTIDA_PREVISTA</th>\n",
       "      <th>SIGLA_ICAO_EMPRESA_AEREA</th>\n",
       "      <th>MES_PARTIDA_PREVISTA</th>\n",
       "      <th>SITUACAO_VOO</th>\n",
       "      <th>count</th>\n",
       "      <th>proportion</th>\n",
       "    </tr>\n",
       "  </thead>\n",
       "  <tbody>\n",
       "    <tr>\n",
       "      <th>0</th>\n",
       "      <td>novembro</td>\n",
       "      <td>TAM</td>\n",
       "      <td>11</td>\n",
       "      <td>REALIZADO</td>\n",
       "      <td>53</td>\n",
       "      <td>96.363636</td>\n",
       "    </tr>\n",
       "    <tr>\n",
       "      <th>1</th>\n",
       "      <td>novembro</td>\n",
       "      <td>TAM</td>\n",
       "      <td>11</td>\n",
       "      <td>CANCELADO</td>\n",
       "      <td>2</td>\n",
       "      <td>3.636364</td>\n",
       "    </tr>\n",
       "  </tbody>\n",
       "</table>\n",
       "</div>"
      ],
      "text/plain": [
       "  NOME_MES_PARTIDA_PREVISTA SIGLA_ICAO_EMPRESA_AEREA  MES_PARTIDA_PREVISTA  \\\n",
       "0                  novembro                      TAM                    11   \n",
       "1                  novembro                      TAM                    11   \n",
       "\n",
       "  SITUACAO_VOO  count  proportion  \n",
       "0    REALIZADO     53   96.363636  \n",
       "1    CANCELADO      2    3.636364  "
      ]
     },
     "execution_count": 26,
     "metadata": {},
     "output_type": "execute_result"
    }
   ],
   "source": [
    "df_resultado = pd.concat([total, percentual], axis=1).reset_index()\n",
    "df_resultado"
   ]
  },
  {
   "cell_type": "code",
   "execution_count": 27,
   "metadata": {},
   "outputs": [
    {
     "name": "stdout",
     "output_type": "stream",
     "text": [
      "<class 'pandas.core.frame.DataFrame'>\n",
      "RangeIndex: 2 entries, 0 to 1\n",
      "Data columns (total 6 columns):\n",
      " #   Column                     Non-Null Count  Dtype   \n",
      "---  ------                     --------------  -----   \n",
      " 0   NOME_MES_PARTIDA_PREVISTA  2 non-null      category\n",
      " 1   SIGLA_ICAO_EMPRESA_AEREA   2 non-null      string  \n",
      " 2   MES_PARTIDA_PREVISTA       2 non-null      int32   \n",
      " 3   SITUACAO_VOO               2 non-null      category\n",
      " 4   count                      2 non-null      int64   \n",
      " 5   proportion                 2 non-null      float64 \n",
      "dtypes: category(2), float64(1), int32(1), int64(1), string(1)\n",
      "memory usage: 716.0 bytes\n"
     ]
    }
   ],
   "source": [
    "df_resultado.info()"
   ]
  },
  {
   "cell_type": "code",
   "execution_count": 28,
   "metadata": {},
   "outputs": [],
   "source": [
    "df_resultado['count'] = df_resultado['count'].astype('int32')\n",
    "df_resultado['proportion'] = df_resultado['proportion'].astype('float32')"
   ]
  },
  {
   "cell_type": "code",
   "execution_count": 31,
   "metadata": {},
   "outputs": [
    {
     "data": {
      "text/html": [
       "<div>\n",
       "<style scoped>\n",
       "    .dataframe tbody tr th:only-of-type {\n",
       "        vertical-align: middle;\n",
       "    }\n",
       "\n",
       "    .dataframe tbody tr th {\n",
       "        vertical-align: top;\n",
       "    }\n",
       "\n",
       "    .dataframe thead th {\n",
       "        text-align: right;\n",
       "    }\n",
       "</style>\n",
       "<table border=\"1\" class=\"dataframe\">\n",
       "  <thead>\n",
       "    <tr style=\"text-align: right;\">\n",
       "      <th></th>\n",
       "      <th>NOME_MES_PARTIDA_PREVISTA</th>\n",
       "      <th>SIGLA_ICAO_EMPRESA_AEREA</th>\n",
       "      <th>MES_PARTIDA_PREVISTA</th>\n",
       "      <th>SITUACAO_VOO</th>\n",
       "      <th>count</th>\n",
       "      <th>proportion</th>\n",
       "    </tr>\n",
       "  </thead>\n",
       "  <tbody>\n",
       "    <tr>\n",
       "      <th>0</th>\n",
       "      <td>novembro</td>\n",
       "      <td>TAM</td>\n",
       "      <td>11</td>\n",
       "      <td>REALIZADO</td>\n",
       "      <td>53</td>\n",
       "      <td>96.363640</td>\n",
       "    </tr>\n",
       "    <tr>\n",
       "      <th>1</th>\n",
       "      <td>novembro</td>\n",
       "      <td>TAM</td>\n",
       "      <td>11</td>\n",
       "      <td>CANCELADO</td>\n",
       "      <td>2</td>\n",
       "      <td>3.636364</td>\n",
       "    </tr>\n",
       "  </tbody>\n",
       "</table>\n",
       "</div>"
      ],
      "text/plain": [
       "  NOME_MES_PARTIDA_PREVISTA SIGLA_ICAO_EMPRESA_AEREA  MES_PARTIDA_PREVISTA  \\\n",
       "0                  novembro                      TAM                    11   \n",
       "1                  novembro                      TAM                    11   \n",
       "\n",
       "  SITUACAO_VOO  count  proportion  \n",
       "0    REALIZADO     53   96.363640  \n",
       "1    CANCELADO      2    3.636364  "
      ]
     },
     "execution_count": 31,
     "metadata": {},
     "output_type": "execute_result"
    }
   ],
   "source": [
    "df_resultado\n"
   ]
  },
  {
   "cell_type": "code",
   "execution_count": 30,
   "metadata": {},
   "outputs": [
    {
     "name": "stdout",
     "output_type": "stream",
     "text": [
      "<class 'pandas.core.frame.DataFrame'>\n",
      "RangeIndex: 2 entries, 0 to 1\n",
      "Data columns (total 6 columns):\n",
      " #   Column                     Non-Null Count  Dtype   \n",
      "---  ------                     --------------  -----   \n",
      " 0   NOME_MES_PARTIDA_PREVISTA  2 non-null      category\n",
      " 1   SIGLA_ICAO_EMPRESA_AEREA   2 non-null      string  \n",
      " 2   MES_PARTIDA_PREVISTA       2 non-null      int32   \n",
      " 3   SITUACAO_VOO               2 non-null      category\n",
      " 4   count                      2 non-null      int32   \n",
      " 5   proportion                 2 non-null      float32 \n",
      "dtypes: category(2), float32(1), int32(2), string(1)\n",
      "memory usage: 700.0 bytes\n"
     ]
    }
   ],
   "source": [
    "df_resultado.info()"
   ]
  },
  {
   "cell_type": "markdown",
   "metadata": {},
   "source": [
    "- Desempenho da Situação do Voo"
   ]
  },
  {
   "cell_type": "code",
   "execution_count": 32,
   "metadata": {},
   "outputs": [],
   "source": [
    "colunas = ['SIGLA_ICAO_EMPRESA_AEREA', 'SITUACAO_VOO', 'MES_PARTIDA_PREVISTA', 'NOME_MES_PARTIDA_PREVISTA', 'SIGLA_ICAO_AEROPORTO_ORIGEM']\n",
    "teste = pd.read_parquet('../data/processed/df_final.parquet', columns=colunas)"
   ]
  },
  {
   "cell_type": "code",
   "execution_count": 33,
   "metadata": {},
   "outputs": [
    {
     "data": {
      "text/html": [
       "<div>\n",
       "<style scoped>\n",
       "    .dataframe tbody tr th:only-of-type {\n",
       "        vertical-align: middle;\n",
       "    }\n",
       "\n",
       "    .dataframe tbody tr th {\n",
       "        vertical-align: top;\n",
       "    }\n",
       "\n",
       "    .dataframe thead th {\n",
       "        text-align: right;\n",
       "    }\n",
       "</style>\n",
       "<table border=\"1\" class=\"dataframe\">\n",
       "  <thead>\n",
       "    <tr style=\"text-align: right;\">\n",
       "      <th></th>\n",
       "      <th>SIGLA_ICAO_EMPRESA_AEREA</th>\n",
       "      <th>SITUACAO_VOO</th>\n",
       "      <th>MES_PARTIDA_PREVISTA</th>\n",
       "      <th>NOME_MES_PARTIDA_PREVISTA</th>\n",
       "      <th>SIGLA_ICAO_AEROPORTO_ORIGEM</th>\n",
       "    </tr>\n",
       "  </thead>\n",
       "  <tbody>\n",
       "    <tr>\n",
       "      <th>488380</th>\n",
       "      <td>TAM</td>\n",
       "      <td>REALIZADO</td>\n",
       "      <td>1</td>\n",
       "      <td>janeiro</td>\n",
       "      <td>SBRP</td>\n",
       "    </tr>\n",
       "    <tr>\n",
       "      <th>488381</th>\n",
       "      <td>TAM</td>\n",
       "      <td>REALIZADO</td>\n",
       "      <td>1</td>\n",
       "      <td>janeiro</td>\n",
       "      <td>SBRP</td>\n",
       "    </tr>\n",
       "    <tr>\n",
       "      <th>537779</th>\n",
       "      <td>TAM</td>\n",
       "      <td>REALIZADO</td>\n",
       "      <td>1</td>\n",
       "      <td>janeiro</td>\n",
       "      <td>SBRP</td>\n",
       "    </tr>\n",
       "    <tr>\n",
       "      <th>537780</th>\n",
       "      <td>TAM</td>\n",
       "      <td>REALIZADO</td>\n",
       "      <td>1</td>\n",
       "      <td>janeiro</td>\n",
       "      <td>SBRP</td>\n",
       "    </tr>\n",
       "    <tr>\n",
       "      <th>537781</th>\n",
       "      <td>TAM</td>\n",
       "      <td>REALIZADO</td>\n",
       "      <td>1</td>\n",
       "      <td>janeiro</td>\n",
       "      <td>SBRP</td>\n",
       "    </tr>\n",
       "  </tbody>\n",
       "</table>\n",
       "</div>"
      ],
      "text/plain": [
       "       SIGLA_ICAO_EMPRESA_AEREA SITUACAO_VOO  MES_PARTIDA_PREVISTA  \\\n",
       "488380                      TAM    REALIZADO                     1   \n",
       "488381                      TAM    REALIZADO                     1   \n",
       "537779                      TAM    REALIZADO                     1   \n",
       "537780                      TAM    REALIZADO                     1   \n",
       "537781                      TAM    REALIZADO                     1   \n",
       "\n",
       "       NOME_MES_PARTIDA_PREVISTA SIGLA_ICAO_AEROPORTO_ORIGEM  \n",
       "488380                   janeiro                        SBRP  \n",
       "488381                   janeiro                        SBRP  \n",
       "537779                   janeiro                        SBRP  \n",
       "537780                   janeiro                        SBRP  \n",
       "537781                   janeiro                        SBRP  "
      ]
     },
     "execution_count": 33,
     "metadata": {},
     "output_type": "execute_result"
    }
   ],
   "source": [
    "teste = teste.query('SIGLA_ICAO_EMPRESA_AEREA == \"TAM\"  ' \\\n",
    "            ' and SIGLA_ICAO_AEROPORTO_ORIGEM == \"SBRP\"'\n",
    "            ' and SITUACAO_VOO == \"REALIZADO\" ' \n",
    "            )\n",
    "\n",
    "teste.head()"
   ]
  },
  {
   "cell_type": "code",
   "execution_count": 34,
   "metadata": {},
   "outputs": [
    {
     "name": "stdout",
     "output_type": "stream",
     "text": [
      "<class 'pandas.core.frame.DataFrame'>\n",
      "Index: 345 entries, 488380 to 680870\n",
      "Data columns (total 5 columns):\n",
      " #   Column                       Non-Null Count  Dtype   \n",
      "---  ------                       --------------  -----   \n",
      " 0   SIGLA_ICAO_EMPRESA_AEREA     345 non-null    string  \n",
      " 1   SITUACAO_VOO                 345 non-null    category\n",
      " 2   MES_PARTIDA_PREVISTA         345 non-null    int32   \n",
      " 3   NOME_MES_PARTIDA_PREVISTA    345 non-null    category\n",
      " 4   SIGLA_ICAO_AEROPORTO_ORIGEM  345 non-null    string  \n",
      "dtypes: category(2), int32(1), string(2)\n",
      "memory usage: 10.6 KB\n"
     ]
    }
   ],
   "source": [
    "teste.info()"
   ]
  },
  {
   "cell_type": "code",
   "execution_count": 35,
   "metadata": {},
   "outputs": [
    {
     "name": "stdout",
     "output_type": "stream",
     "text": [
      "<class 'pandas.core.frame.DataFrame'>\n",
      "Index: 345 entries, 488380 to 680870\n",
      "Data columns (total 5 columns):\n",
      " #   Column                       Non-Null Count  Dtype \n",
      "---  ------                       --------------  ----- \n",
      " 0   SIGLA_ICAO_EMPRESA_AEREA     345 non-null    string\n",
      " 1   SITUACAO_VOO                 345 non-null    string\n",
      " 2   MES_PARTIDA_PREVISTA         345 non-null    int32 \n",
      " 3   NOME_MES_PARTIDA_PREVISTA    345 non-null    string\n",
      " 4   SIGLA_ICAO_AEROPORTO_ORIGEM  345 non-null    string\n",
      "dtypes: int32(1), string(4)\n",
      "memory usage: 14.8 KB\n"
     ]
    }
   ],
   "source": [
    "teste['SITUACAO_VOO'] = teste['SITUACAO_VOO'].astype('string')\n",
    "teste['NOME_MES_PARTIDA_PREVISTA'] = teste['NOME_MES_PARTIDA_PREVISTA'].astype('string')\n",
    "teste.info()"
   ]
  },
  {
   "cell_type": "code",
   "execution_count": 36,
   "metadata": {},
   "outputs": [
    {
     "data": {
      "text/html": [
       "<div>\n",
       "<style scoped>\n",
       "    .dataframe tbody tr th:only-of-type {\n",
       "        vertical-align: middle;\n",
       "    }\n",
       "\n",
       "    .dataframe tbody tr th {\n",
       "        vertical-align: top;\n",
       "    }\n",
       "\n",
       "    .dataframe thead th {\n",
       "        text-align: right;\n",
       "    }\n",
       "</style>\n",
       "<table border=\"1\" class=\"dataframe\">\n",
       "  <thead>\n",
       "    <tr style=\"text-align: right;\">\n",
       "      <th></th>\n",
       "      <th>MES_PARTIDA_PREVISTA</th>\n",
       "      <th>NOME_MES_PARTIDA_PREVISTA</th>\n",
       "      <th>SITUACAO_VOO</th>\n",
       "      <th>TOTAL_SITUACAO</th>\n",
       "    </tr>\n",
       "  </thead>\n",
       "  <tbody>\n",
       "    <tr>\n",
       "      <th>0</th>\n",
       "      <td>1</td>\n",
       "      <td>janeiro</td>\n",
       "      <td>REALIZADO</td>\n",
       "      <td>41</td>\n",
       "    </tr>\n",
       "    <tr>\n",
       "      <th>1</th>\n",
       "      <td>2</td>\n",
       "      <td>fevereiro</td>\n",
       "      <td>REALIZADO</td>\n",
       "      <td>20</td>\n",
       "    </tr>\n",
       "    <tr>\n",
       "      <th>2</th>\n",
       "      <td>3</td>\n",
       "      <td>março</td>\n",
       "      <td>REALIZADO</td>\n",
       "      <td>23</td>\n",
       "    </tr>\n",
       "    <tr>\n",
       "      <th>3</th>\n",
       "      <td>4</td>\n",
       "      <td>abril</td>\n",
       "      <td>REALIZADO</td>\n",
       "      <td>21</td>\n",
       "    </tr>\n",
       "    <tr>\n",
       "      <th>4</th>\n",
       "      <td>5</td>\n",
       "      <td>maio</td>\n",
       "      <td>REALIZADO</td>\n",
       "      <td>20</td>\n",
       "    </tr>\n",
       "    <tr>\n",
       "      <th>5</th>\n",
       "      <td>6</td>\n",
       "      <td>junho</td>\n",
       "      <td>REALIZADO</td>\n",
       "      <td>22</td>\n",
       "    </tr>\n",
       "    <tr>\n",
       "      <th>6</th>\n",
       "      <td>7</td>\n",
       "      <td>julho</td>\n",
       "      <td>REALIZADO</td>\n",
       "      <td>21</td>\n",
       "    </tr>\n",
       "    <tr>\n",
       "      <th>7</th>\n",
       "      <td>8</td>\n",
       "      <td>agosto</td>\n",
       "      <td>REALIZADO</td>\n",
       "      <td>23</td>\n",
       "    </tr>\n",
       "    <tr>\n",
       "      <th>8</th>\n",
       "      <td>9</td>\n",
       "      <td>setembro</td>\n",
       "      <td>REALIZADO</td>\n",
       "      <td>23</td>\n",
       "    </tr>\n",
       "    <tr>\n",
       "      <th>9</th>\n",
       "      <td>10</td>\n",
       "      <td>outubro</td>\n",
       "      <td>REALIZADO</td>\n",
       "      <td>24</td>\n",
       "    </tr>\n",
       "    <tr>\n",
       "      <th>10</th>\n",
       "      <td>11</td>\n",
       "      <td>novembro</td>\n",
       "      <td>REALIZADO</td>\n",
       "      <td>53</td>\n",
       "    </tr>\n",
       "    <tr>\n",
       "      <th>11</th>\n",
       "      <td>12</td>\n",
       "      <td>dezembro</td>\n",
       "      <td>REALIZADO</td>\n",
       "      <td>54</td>\n",
       "    </tr>\n",
       "  </tbody>\n",
       "</table>\n",
       "</div>"
      ],
      "text/plain": [
       "    MES_PARTIDA_PREVISTA NOME_MES_PARTIDA_PREVISTA SITUACAO_VOO  \\\n",
       "0                      1                   janeiro    REALIZADO   \n",
       "1                      2                 fevereiro    REALIZADO   \n",
       "2                      3                     março    REALIZADO   \n",
       "3                      4                     abril    REALIZADO   \n",
       "4                      5                      maio    REALIZADO   \n",
       "5                      6                     junho    REALIZADO   \n",
       "6                      7                     julho    REALIZADO   \n",
       "7                      8                    agosto    REALIZADO   \n",
       "8                      9                  setembro    REALIZADO   \n",
       "9                     10                   outubro    REALIZADO   \n",
       "10                    11                  novembro    REALIZADO   \n",
       "11                    12                  dezembro    REALIZADO   \n",
       "\n",
       "    TOTAL_SITUACAO  \n",
       "0               41  \n",
       "1               20  \n",
       "2               23  \n",
       "3               21  \n",
       "4               20  \n",
       "5               22  \n",
       "6               21  \n",
       "7               23  \n",
       "8               23  \n",
       "9               24  \n",
       "10              53  \n",
       "11              54  "
      ]
     },
     "execution_count": 36,
     "metadata": {},
     "output_type": "execute_result"
    }
   ],
   "source": [
    "teste_gb = teste.groupby(['MES_PARTIDA_PREVISTA', 'NOME_MES_PARTIDA_PREVISTA', 'SITUACAO_VOO'], observed=False).agg(\n",
    "    TOTAL_SITUACAO=('SITUACAO_VOO', 'count')\n",
    ")\n",
    "teste_gb.sort_values(by=['MES_PARTIDA_PREVISTA'], inplace=True)\n",
    "teste_gb.reset_index(inplace=True)\n",
    "teste_gb"
   ]
  },
  {
   "cell_type": "code",
   "execution_count": 37,
   "metadata": {},
   "outputs": [
    {
     "data": {
      "application/vnd.plotly.v1+json": {
       "config": {
        "plotlyServerURL": "https://plot.ly"
       },
       "data": [
        {
         "alignmentgroup": "True",
         "hovertemplate": "NOME_MES_PARTIDA_PREVISTA=%{x}<br>TOTAL_SITUACAO=%{y}<extra></extra>",
         "legendgroup": "",
         "marker": {
          "color": "#636efa",
          "pattern": {
           "shape": ""
          }
         },
         "name": "",
         "offsetgroup": "",
         "orientation": "v",
         "showlegend": false,
         "textposition": "outside",
         "texttemplate": "%{y}",
         "type": "bar",
         "x": [
          "janeiro",
          "fevereiro",
          "março",
          "abril",
          "maio",
          "junho",
          "julho",
          "agosto",
          "setembro",
          "outubro",
          "novembro",
          "dezembro"
         ],
         "xaxis": "x",
         "y": [
          41,
          20,
          23,
          21,
          20,
          22,
          21,
          23,
          23,
          24,
          53,
          54
         ],
         "yaxis": "y"
        }
       ],
       "layout": {
        "barmode": "relative",
        "legend": {
         "tracegroupgap": 0
        },
        "margin": {
         "t": 60
        },
        "template": {
         "data": {
          "bar": [
           {
            "error_x": {
             "color": "#2a3f5f"
            },
            "error_y": {
             "color": "#2a3f5f"
            },
            "marker": {
             "line": {
              "color": "#E5ECF6",
              "width": 0.5
             },
             "pattern": {
              "fillmode": "overlay",
              "size": 10,
              "solidity": 0.2
             }
            },
            "type": "bar"
           }
          ],
          "barpolar": [
           {
            "marker": {
             "line": {
              "color": "#E5ECF6",
              "width": 0.5
             },
             "pattern": {
              "fillmode": "overlay",
              "size": 10,
              "solidity": 0.2
             }
            },
            "type": "barpolar"
           }
          ],
          "carpet": [
           {
            "aaxis": {
             "endlinecolor": "#2a3f5f",
             "gridcolor": "white",
             "linecolor": "white",
             "minorgridcolor": "white",
             "startlinecolor": "#2a3f5f"
            },
            "baxis": {
             "endlinecolor": "#2a3f5f",
             "gridcolor": "white",
             "linecolor": "white",
             "minorgridcolor": "white",
             "startlinecolor": "#2a3f5f"
            },
            "type": "carpet"
           }
          ],
          "choropleth": [
           {
            "colorbar": {
             "outlinewidth": 0,
             "ticks": ""
            },
            "type": "choropleth"
           }
          ],
          "contour": [
           {
            "colorbar": {
             "outlinewidth": 0,
             "ticks": ""
            },
            "colorscale": [
             [
              0,
              "#0d0887"
             ],
             [
              0.1111111111111111,
              "#46039f"
             ],
             [
              0.2222222222222222,
              "#7201a8"
             ],
             [
              0.3333333333333333,
              "#9c179e"
             ],
             [
              0.4444444444444444,
              "#bd3786"
             ],
             [
              0.5555555555555556,
              "#d8576b"
             ],
             [
              0.6666666666666666,
              "#ed7953"
             ],
             [
              0.7777777777777778,
              "#fb9f3a"
             ],
             [
              0.8888888888888888,
              "#fdca26"
             ],
             [
              1,
              "#f0f921"
             ]
            ],
            "type": "contour"
           }
          ],
          "contourcarpet": [
           {
            "colorbar": {
             "outlinewidth": 0,
             "ticks": ""
            },
            "type": "contourcarpet"
           }
          ],
          "heatmap": [
           {
            "colorbar": {
             "outlinewidth": 0,
             "ticks": ""
            },
            "colorscale": [
             [
              0,
              "#0d0887"
             ],
             [
              0.1111111111111111,
              "#46039f"
             ],
             [
              0.2222222222222222,
              "#7201a8"
             ],
             [
              0.3333333333333333,
              "#9c179e"
             ],
             [
              0.4444444444444444,
              "#bd3786"
             ],
             [
              0.5555555555555556,
              "#d8576b"
             ],
             [
              0.6666666666666666,
              "#ed7953"
             ],
             [
              0.7777777777777778,
              "#fb9f3a"
             ],
             [
              0.8888888888888888,
              "#fdca26"
             ],
             [
              1,
              "#f0f921"
             ]
            ],
            "type": "heatmap"
           }
          ],
          "heatmapgl": [
           {
            "colorbar": {
             "outlinewidth": 0,
             "ticks": ""
            },
            "colorscale": [
             [
              0,
              "#0d0887"
             ],
             [
              0.1111111111111111,
              "#46039f"
             ],
             [
              0.2222222222222222,
              "#7201a8"
             ],
             [
              0.3333333333333333,
              "#9c179e"
             ],
             [
              0.4444444444444444,
              "#bd3786"
             ],
             [
              0.5555555555555556,
              "#d8576b"
             ],
             [
              0.6666666666666666,
              "#ed7953"
             ],
             [
              0.7777777777777778,
              "#fb9f3a"
             ],
             [
              0.8888888888888888,
              "#fdca26"
             ],
             [
              1,
              "#f0f921"
             ]
            ],
            "type": "heatmapgl"
           }
          ],
          "histogram": [
           {
            "marker": {
             "pattern": {
              "fillmode": "overlay",
              "size": 10,
              "solidity": 0.2
             }
            },
            "type": "histogram"
           }
          ],
          "histogram2d": [
           {
            "colorbar": {
             "outlinewidth": 0,
             "ticks": ""
            },
            "colorscale": [
             [
              0,
              "#0d0887"
             ],
             [
              0.1111111111111111,
              "#46039f"
             ],
             [
              0.2222222222222222,
              "#7201a8"
             ],
             [
              0.3333333333333333,
              "#9c179e"
             ],
             [
              0.4444444444444444,
              "#bd3786"
             ],
             [
              0.5555555555555556,
              "#d8576b"
             ],
             [
              0.6666666666666666,
              "#ed7953"
             ],
             [
              0.7777777777777778,
              "#fb9f3a"
             ],
             [
              0.8888888888888888,
              "#fdca26"
             ],
             [
              1,
              "#f0f921"
             ]
            ],
            "type": "histogram2d"
           }
          ],
          "histogram2dcontour": [
           {
            "colorbar": {
             "outlinewidth": 0,
             "ticks": ""
            },
            "colorscale": [
             [
              0,
              "#0d0887"
             ],
             [
              0.1111111111111111,
              "#46039f"
             ],
             [
              0.2222222222222222,
              "#7201a8"
             ],
             [
              0.3333333333333333,
              "#9c179e"
             ],
             [
              0.4444444444444444,
              "#bd3786"
             ],
             [
              0.5555555555555556,
              "#d8576b"
             ],
             [
              0.6666666666666666,
              "#ed7953"
             ],
             [
              0.7777777777777778,
              "#fb9f3a"
             ],
             [
              0.8888888888888888,
              "#fdca26"
             ],
             [
              1,
              "#f0f921"
             ]
            ],
            "type": "histogram2dcontour"
           }
          ],
          "mesh3d": [
           {
            "colorbar": {
             "outlinewidth": 0,
             "ticks": ""
            },
            "type": "mesh3d"
           }
          ],
          "parcoords": [
           {
            "line": {
             "colorbar": {
              "outlinewidth": 0,
              "ticks": ""
             }
            },
            "type": "parcoords"
           }
          ],
          "pie": [
           {
            "automargin": true,
            "type": "pie"
           }
          ],
          "scatter": [
           {
            "fillpattern": {
             "fillmode": "overlay",
             "size": 10,
             "solidity": 0.2
            },
            "type": "scatter"
           }
          ],
          "scatter3d": [
           {
            "line": {
             "colorbar": {
              "outlinewidth": 0,
              "ticks": ""
             }
            },
            "marker": {
             "colorbar": {
              "outlinewidth": 0,
              "ticks": ""
             }
            },
            "type": "scatter3d"
           }
          ],
          "scattercarpet": [
           {
            "marker": {
             "colorbar": {
              "outlinewidth": 0,
              "ticks": ""
             }
            },
            "type": "scattercarpet"
           }
          ],
          "scattergeo": [
           {
            "marker": {
             "colorbar": {
              "outlinewidth": 0,
              "ticks": ""
             }
            },
            "type": "scattergeo"
           }
          ],
          "scattergl": [
           {
            "marker": {
             "colorbar": {
              "outlinewidth": 0,
              "ticks": ""
             }
            },
            "type": "scattergl"
           }
          ],
          "scattermapbox": [
           {
            "marker": {
             "colorbar": {
              "outlinewidth": 0,
              "ticks": ""
             }
            },
            "type": "scattermapbox"
           }
          ],
          "scatterpolar": [
           {
            "marker": {
             "colorbar": {
              "outlinewidth": 0,
              "ticks": ""
             }
            },
            "type": "scatterpolar"
           }
          ],
          "scatterpolargl": [
           {
            "marker": {
             "colorbar": {
              "outlinewidth": 0,
              "ticks": ""
             }
            },
            "type": "scatterpolargl"
           }
          ],
          "scatterternary": [
           {
            "marker": {
             "colorbar": {
              "outlinewidth": 0,
              "ticks": ""
             }
            },
            "type": "scatterternary"
           }
          ],
          "surface": [
           {
            "colorbar": {
             "outlinewidth": 0,
             "ticks": ""
            },
            "colorscale": [
             [
              0,
              "#0d0887"
             ],
             [
              0.1111111111111111,
              "#46039f"
             ],
             [
              0.2222222222222222,
              "#7201a8"
             ],
             [
              0.3333333333333333,
              "#9c179e"
             ],
             [
              0.4444444444444444,
              "#bd3786"
             ],
             [
              0.5555555555555556,
              "#d8576b"
             ],
             [
              0.6666666666666666,
              "#ed7953"
             ],
             [
              0.7777777777777778,
              "#fb9f3a"
             ],
             [
              0.8888888888888888,
              "#fdca26"
             ],
             [
              1,
              "#f0f921"
             ]
            ],
            "type": "surface"
           }
          ],
          "table": [
           {
            "cells": {
             "fill": {
              "color": "#EBF0F8"
             },
             "line": {
              "color": "white"
             }
            },
            "header": {
             "fill": {
              "color": "#C8D4E3"
             },
             "line": {
              "color": "white"
             }
            },
            "type": "table"
           }
          ]
         },
         "layout": {
          "annotationdefaults": {
           "arrowcolor": "#2a3f5f",
           "arrowhead": 0,
           "arrowwidth": 1
          },
          "autotypenumbers": "strict",
          "coloraxis": {
           "colorbar": {
            "outlinewidth": 0,
            "ticks": ""
           }
          },
          "colorscale": {
           "diverging": [
            [
             0,
             "#8e0152"
            ],
            [
             0.1,
             "#c51b7d"
            ],
            [
             0.2,
             "#de77ae"
            ],
            [
             0.3,
             "#f1b6da"
            ],
            [
             0.4,
             "#fde0ef"
            ],
            [
             0.5,
             "#f7f7f7"
            ],
            [
             0.6,
             "#e6f5d0"
            ],
            [
             0.7,
             "#b8e186"
            ],
            [
             0.8,
             "#7fbc41"
            ],
            [
             0.9,
             "#4d9221"
            ],
            [
             1,
             "#276419"
            ]
           ],
           "sequential": [
            [
             0,
             "#0d0887"
            ],
            [
             0.1111111111111111,
             "#46039f"
            ],
            [
             0.2222222222222222,
             "#7201a8"
            ],
            [
             0.3333333333333333,
             "#9c179e"
            ],
            [
             0.4444444444444444,
             "#bd3786"
            ],
            [
             0.5555555555555556,
             "#d8576b"
            ],
            [
             0.6666666666666666,
             "#ed7953"
            ],
            [
             0.7777777777777778,
             "#fb9f3a"
            ],
            [
             0.8888888888888888,
             "#fdca26"
            ],
            [
             1,
             "#f0f921"
            ]
           ],
           "sequentialminus": [
            [
             0,
             "#0d0887"
            ],
            [
             0.1111111111111111,
             "#46039f"
            ],
            [
             0.2222222222222222,
             "#7201a8"
            ],
            [
             0.3333333333333333,
             "#9c179e"
            ],
            [
             0.4444444444444444,
             "#bd3786"
            ],
            [
             0.5555555555555556,
             "#d8576b"
            ],
            [
             0.6666666666666666,
             "#ed7953"
            ],
            [
             0.7777777777777778,
             "#fb9f3a"
            ],
            [
             0.8888888888888888,
             "#fdca26"
            ],
            [
             1,
             "#f0f921"
            ]
           ]
          },
          "colorway": [
           "#636efa",
           "#EF553B",
           "#00cc96",
           "#ab63fa",
           "#FFA15A",
           "#19d3f3",
           "#FF6692",
           "#B6E880",
           "#FF97FF",
           "#FECB52"
          ],
          "font": {
           "color": "#2a3f5f"
          },
          "geo": {
           "bgcolor": "white",
           "lakecolor": "white",
           "landcolor": "#E5ECF6",
           "showlakes": true,
           "showland": true,
           "subunitcolor": "white"
          },
          "hoverlabel": {
           "align": "left"
          },
          "hovermode": "closest",
          "mapbox": {
           "style": "light"
          },
          "paper_bgcolor": "white",
          "plot_bgcolor": "#E5ECF6",
          "polar": {
           "angularaxis": {
            "gridcolor": "white",
            "linecolor": "white",
            "ticks": ""
           },
           "bgcolor": "#E5ECF6",
           "radialaxis": {
            "gridcolor": "white",
            "linecolor": "white",
            "ticks": ""
           }
          },
          "scene": {
           "xaxis": {
            "backgroundcolor": "#E5ECF6",
            "gridcolor": "white",
            "gridwidth": 2,
            "linecolor": "white",
            "showbackground": true,
            "ticks": "",
            "zerolinecolor": "white"
           },
           "yaxis": {
            "backgroundcolor": "#E5ECF6",
            "gridcolor": "white",
            "gridwidth": 2,
            "linecolor": "white",
            "showbackground": true,
            "ticks": "",
            "zerolinecolor": "white"
           },
           "zaxis": {
            "backgroundcolor": "#E5ECF6",
            "gridcolor": "white",
            "gridwidth": 2,
            "linecolor": "white",
            "showbackground": true,
            "ticks": "",
            "zerolinecolor": "white"
           }
          },
          "shapedefaults": {
           "line": {
            "color": "#2a3f5f"
           }
          },
          "ternary": {
           "aaxis": {
            "gridcolor": "white",
            "linecolor": "white",
            "ticks": ""
           },
           "baxis": {
            "gridcolor": "white",
            "linecolor": "white",
            "ticks": ""
           },
           "bgcolor": "#E5ECF6",
           "caxis": {
            "gridcolor": "white",
            "linecolor": "white",
            "ticks": ""
           }
          },
          "title": {
           "x": 0.05
          },
          "xaxis": {
           "automargin": true,
           "gridcolor": "white",
           "linecolor": "white",
           "ticks": "",
           "title": {
            "standoff": 15
           },
           "zerolinecolor": "white",
           "zerolinewidth": 2
          },
          "yaxis": {
           "automargin": true,
           "gridcolor": "white",
           "linecolor": "white",
           "ticks": "",
           "title": {
            "standoff": 15
           },
           "zerolinecolor": "white",
           "zerolinewidth": 2
          }
         }
        },
        "xaxis": {
         "anchor": "y",
         "domain": [
          0,
          1
         ],
         "title": {
          "text": "NOME_MES_PARTIDA_PREVISTA"
         }
        },
        "yaxis": {
         "anchor": "x",
         "domain": [
          0,
          1
         ],
         "title": {
          "text": "TOTAL_SITUACAO"
         }
        }
       }
      }
     },
     "metadata": {},
     "output_type": "display_data"
    }
   ],
   "source": [
    "fig = px.bar(\n",
    "    teste_gb, \n",
    "    x='NOME_MES_PARTIDA_PREVISTA', \n",
    "    y='TOTAL_SITUACAO', \n",
    "    text_auto=True,\n",
    ")\n",
    "fig.update_traces(\n",
    "    textposition='outside'\n",
    ")\n",
    "fig.show()"
   ]
  },
  {
   "cell_type": "markdown",
   "metadata": {},
   "source": [
    "- Total de Vôos por aeroporto"
   ]
  },
  {
   "cell_type": "code",
   "execution_count": 38,
   "metadata": {},
   "outputs": [],
   "source": [
    "colunas = ['NOME_AEROPORTO_ORIGEM', 'MES_PARTIDA_PREVISTA', 'NOME_MES_PARTIDA_PREVISTA', 'SIGLA_ICAO_AEROPORTO_ORIGEM']\n",
    "teste = pd.read_parquet('../data/processed/df_final.parquet', columns=colunas)"
   ]
  },
  {
   "cell_type": "code",
   "execution_count": 39,
   "metadata": {},
   "outputs": [
    {
     "data": {
      "text/html": [
       "<div>\n",
       "<style scoped>\n",
       "    .dataframe tbody tr th:only-of-type {\n",
       "        vertical-align: middle;\n",
       "    }\n",
       "\n",
       "    .dataframe tbody tr th {\n",
       "        vertical-align: top;\n",
       "    }\n",
       "\n",
       "    .dataframe thead th {\n",
       "        text-align: right;\n",
       "    }\n",
       "</style>\n",
       "<table border=\"1\" class=\"dataframe\">\n",
       "  <thead>\n",
       "    <tr style=\"text-align: right;\">\n",
       "      <th></th>\n",
       "      <th>NOME_AEROPORTO_ORIGEM</th>\n",
       "      <th>MES_PARTIDA_PREVISTA</th>\n",
       "      <th>NOME_MES_PARTIDA_PREVISTA</th>\n",
       "      <th>SIGLA_ICAO_AEROPORTO_ORIGEM</th>\n",
       "    </tr>\n",
       "  </thead>\n",
       "  <tbody>\n",
       "    <tr>\n",
       "      <th>1929</th>\n",
       "      <td>LEITE LOPES</td>\n",
       "      <td>1</td>\n",
       "      <td>janeiro</td>\n",
       "      <td>SBRP</td>\n",
       "    </tr>\n",
       "    <tr>\n",
       "      <th>1930</th>\n",
       "      <td>LEITE LOPES</td>\n",
       "      <td>1</td>\n",
       "      <td>janeiro</td>\n",
       "      <td>SBRP</td>\n",
       "    </tr>\n",
       "    <tr>\n",
       "      <th>1931</th>\n",
       "      <td>LEITE LOPES</td>\n",
       "      <td>1</td>\n",
       "      <td>janeiro</td>\n",
       "      <td>SBRP</td>\n",
       "    </tr>\n",
       "    <tr>\n",
       "      <th>1932</th>\n",
       "      <td>LEITE LOPES</td>\n",
       "      <td>1</td>\n",
       "      <td>janeiro</td>\n",
       "      <td>SBRP</td>\n",
       "    </tr>\n",
       "    <tr>\n",
       "      <th>1933</th>\n",
       "      <td>LEITE LOPES</td>\n",
       "      <td>1</td>\n",
       "      <td>janeiro</td>\n",
       "      <td>SBRP</td>\n",
       "    </tr>\n",
       "    <tr>\n",
       "      <th>...</th>\n",
       "      <td>...</td>\n",
       "      <td>...</td>\n",
       "      <td>...</td>\n",
       "      <td>...</td>\n",
       "    </tr>\n",
       "    <tr>\n",
       "      <th>707275</th>\n",
       "      <td>LEITE LOPES</td>\n",
       "      <td>1</td>\n",
       "      <td>janeiro</td>\n",
       "      <td>SBRP</td>\n",
       "    </tr>\n",
       "    <tr>\n",
       "      <th>707479</th>\n",
       "      <td>LEITE LOPES</td>\n",
       "      <td>1</td>\n",
       "      <td>janeiro</td>\n",
       "      <td>SBRP</td>\n",
       "    </tr>\n",
       "    <tr>\n",
       "      <th>707480</th>\n",
       "      <td>LEITE LOPES</td>\n",
       "      <td>1</td>\n",
       "      <td>janeiro</td>\n",
       "      <td>SBRP</td>\n",
       "    </tr>\n",
       "    <tr>\n",
       "      <th>707481</th>\n",
       "      <td>LEITE LOPES</td>\n",
       "      <td>1</td>\n",
       "      <td>janeiro</td>\n",
       "      <td>SBRP</td>\n",
       "    </tr>\n",
       "    <tr>\n",
       "      <th>710551</th>\n",
       "      <td>LEITE LOPES</td>\n",
       "      <td>1</td>\n",
       "      <td>janeiro</td>\n",
       "      <td>SBRP</td>\n",
       "    </tr>\n",
       "  </tbody>\n",
       "</table>\n",
       "<p>4955 rows × 4 columns</p>\n",
       "</div>"
      ],
      "text/plain": [
       "       NOME_AEROPORTO_ORIGEM  MES_PARTIDA_PREVISTA NOME_MES_PARTIDA_PREVISTA  \\\n",
       "1929             LEITE LOPES                     1                   janeiro   \n",
       "1930             LEITE LOPES                     1                   janeiro   \n",
       "1931             LEITE LOPES                     1                   janeiro   \n",
       "1932             LEITE LOPES                     1                   janeiro   \n",
       "1933             LEITE LOPES                     1                   janeiro   \n",
       "...                      ...                   ...                       ...   \n",
       "707275           LEITE LOPES                     1                   janeiro   \n",
       "707479           LEITE LOPES                     1                   janeiro   \n",
       "707480           LEITE LOPES                     1                   janeiro   \n",
       "707481           LEITE LOPES                     1                   janeiro   \n",
       "710551           LEITE LOPES                     1                   janeiro   \n",
       "\n",
       "       SIGLA_ICAO_AEROPORTO_ORIGEM  \n",
       "1929                          SBRP  \n",
       "1930                          SBRP  \n",
       "1931                          SBRP  \n",
       "1932                          SBRP  \n",
       "1933                          SBRP  \n",
       "...                            ...  \n",
       "707275                        SBRP  \n",
       "707479                        SBRP  \n",
       "707480                        SBRP  \n",
       "707481                        SBRP  \n",
       "710551                        SBRP  \n",
       "\n",
       "[4955 rows x 4 columns]"
      ]
     },
     "execution_count": 39,
     "metadata": {},
     "output_type": "execute_result"
    }
   ],
   "source": [
    "teste.query('SIGLA_ICAO_AEROPORTO_ORIGEM == \"SBRP\"')"
   ]
  },
  {
   "cell_type": "code",
   "execution_count": 40,
   "metadata": {},
   "outputs": [
    {
     "name": "stdout",
     "output_type": "stream",
     "text": [
      "<class 'pandas.core.frame.DataFrame'>\n",
      "RangeIndex: 717357 entries, 0 to 717356\n",
      "Data columns (total 4 columns):\n",
      " #   Column                       Non-Null Count   Dtype   \n",
      "---  ------                       --------------   -----   \n",
      " 0   NOME_AEROPORTO_ORIGEM        717357 non-null  string  \n",
      " 1   MES_PARTIDA_PREVISTA         717357 non-null  int32   \n",
      " 2   NOME_MES_PARTIDA_PREVISTA    717357 non-null  category\n",
      " 3   SIGLA_ICAO_AEROPORTO_ORIGEM  717357 non-null  string  \n",
      "dtypes: category(1), int32(1), string(2)\n",
      "memory usage: 14.4 MB\n"
     ]
    }
   ],
   "source": [
    "teste.info()"
   ]
  },
  {
   "cell_type": "code",
   "execution_count": 41,
   "metadata": {},
   "outputs": [],
   "source": [
    "teste['NOME_MES_PARTIDA_PREVISTA'] = teste['NOME_MES_PARTIDA_PREVISTA'].astype('string')"
   ]
  },
  {
   "cell_type": "code",
   "execution_count": 42,
   "metadata": {},
   "outputs": [],
   "source": [
    "total_voos =teste.groupby(['MES_PARTIDA_PREVISTA', 'NOME_MES_PARTIDA_PREVISTA']).agg(\n",
    "    TOTAL_VOOS=('NOME_AEROPORTO_ORIGEM', 'count')\n",
    ")\n",
    "total_voos.reset_index(inplace=True)\n",
    "total_voos['TOTAL_VOOS'] = total_voos['TOTAL_VOOS'].astype('int32')\n"
   ]
  },
  {
   "cell_type": "code",
   "execution_count": 240,
   "metadata": {},
   "outputs": [
    {
     "data": {
      "text/html": [
       "<div>\n",
       "<style scoped>\n",
       "    .dataframe tbody tr th:only-of-type {\n",
       "        vertical-align: middle;\n",
       "    }\n",
       "\n",
       "    .dataframe tbody tr th {\n",
       "        vertical-align: top;\n",
       "    }\n",
       "\n",
       "    .dataframe thead th {\n",
       "        text-align: right;\n",
       "    }\n",
       "</style>\n",
       "<table border=\"1\" class=\"dataframe\">\n",
       "  <thead>\n",
       "    <tr style=\"text-align: right;\">\n",
       "      <th></th>\n",
       "      <th>MES_PARTIDA_PREVISTA</th>\n",
       "      <th>NOME_MES_PARTIDA_PREVISTA</th>\n",
       "      <th>TOTAL_VOOS</th>\n",
       "    </tr>\n",
       "  </thead>\n",
       "  <tbody>\n",
       "    <tr>\n",
       "      <th>0</th>\n",
       "      <td>1</td>\n",
       "      <td>janeiro</td>\n",
       "      <td>78523</td>\n",
       "    </tr>\n",
       "    <tr>\n",
       "      <th>1</th>\n",
       "      <td>2</td>\n",
       "      <td>fevereiro</td>\n",
       "      <td>46597</td>\n",
       "    </tr>\n",
       "    <tr>\n",
       "      <th>2</th>\n",
       "      <td>3</td>\n",
       "      <td>março</td>\n",
       "      <td>54542</td>\n",
       "    </tr>\n",
       "    <tr>\n",
       "      <th>3</th>\n",
       "      <td>4</td>\n",
       "      <td>abril</td>\n",
       "      <td>52739</td>\n",
       "    </tr>\n",
       "    <tr>\n",
       "      <th>4</th>\n",
       "      <td>5</td>\n",
       "      <td>maio</td>\n",
       "      <td>58631</td>\n",
       "    </tr>\n",
       "    <tr>\n",
       "      <th>5</th>\n",
       "      <td>6</td>\n",
       "      <td>junho</td>\n",
       "      <td>55320</td>\n",
       "    </tr>\n",
       "    <tr>\n",
       "      <th>6</th>\n",
       "      <td>7</td>\n",
       "      <td>julho</td>\n",
       "      <td>63666</td>\n",
       "    </tr>\n",
       "    <tr>\n",
       "      <th>7</th>\n",
       "      <td>8</td>\n",
       "      <td>agosto</td>\n",
       "      <td>60677</td>\n",
       "    </tr>\n",
       "    <tr>\n",
       "      <th>8</th>\n",
       "      <td>9</td>\n",
       "      <td>setembro</td>\n",
       "      <td>58683</td>\n",
       "    </tr>\n",
       "    <tr>\n",
       "      <th>9</th>\n",
       "      <td>10</td>\n",
       "      <td>outubro</td>\n",
       "      <td>61976</td>\n",
       "    </tr>\n",
       "    <tr>\n",
       "      <th>10</th>\n",
       "      <td>11</td>\n",
       "      <td>novembro</td>\n",
       "      <td>60523</td>\n",
       "    </tr>\n",
       "    <tr>\n",
       "      <th>11</th>\n",
       "      <td>12</td>\n",
       "      <td>dezembro</td>\n",
       "      <td>65480</td>\n",
       "    </tr>\n",
       "  </tbody>\n",
       "</table>\n",
       "</div>"
      ],
      "text/plain": [
       "    MES_PARTIDA_PREVISTA NOME_MES_PARTIDA_PREVISTA  TOTAL_VOOS\n",
       "0                      1                   janeiro       78523\n",
       "1                      2                 fevereiro       46597\n",
       "2                      3                     março       54542\n",
       "3                      4                     abril       52739\n",
       "4                      5                      maio       58631\n",
       "5                      6                     junho       55320\n",
       "6                      7                     julho       63666\n",
       "7                      8                    agosto       60677\n",
       "8                      9                  setembro       58683\n",
       "9                     10                   outubro       61976\n",
       "10                    11                  novembro       60523\n",
       "11                    12                  dezembro       65480"
      ]
     },
     "execution_count": 240,
     "metadata": {},
     "output_type": "execute_result"
    }
   ],
   "source": [
    "total_voos"
   ]
  },
  {
   "cell_type": "code",
   "execution_count": 43,
   "metadata": {},
   "outputs": [
    {
     "name": "stdout",
     "output_type": "stream",
     "text": [
      "<class 'pandas.core.frame.DataFrame'>\n",
      "RangeIndex: 12 entries, 0 to 11\n",
      "Data columns (total 3 columns):\n",
      " #   Column                     Non-Null Count  Dtype \n",
      "---  ------                     --------------  ----- \n",
      " 0   MES_PARTIDA_PREVISTA       12 non-null     int32 \n",
      " 1   NOME_MES_PARTIDA_PREVISTA  12 non-null     string\n",
      " 2   TOTAL_VOOS                 12 non-null     int32 \n",
      "dtypes: int32(2), string(1)\n",
      "memory usage: 320.0 bytes\n"
     ]
    }
   ],
   "source": [
    "total_voos.info()"
   ]
  },
  {
   "cell_type": "code",
   "execution_count": 44,
   "metadata": {},
   "outputs": [
    {
     "data": {
      "application/vnd.plotly.v1+json": {
       "config": {
        "plotlyServerURL": "https://plot.ly"
       },
       "data": [
        {
         "alignmentgroup": "True",
         "hovertemplate": "NOME_MES_PARTIDA_PREVISTA=%{x}<br>TOTAL_VOOS=%{y}<extra></extra>",
         "legendgroup": "",
         "marker": {
          "color": "#636efa",
          "pattern": {
           "shape": ""
          }
         },
         "name": "",
         "offsetgroup": "",
         "orientation": "v",
         "showlegend": false,
         "textposition": "outside",
         "texttemplate": "%{y:0}",
         "type": "bar",
         "x": [
          "janeiro",
          "fevereiro",
          "março",
          "abril",
          "maio",
          "junho",
          "julho",
          "agosto",
          "setembro",
          "outubro",
          "novembro",
          "dezembro"
         ],
         "xaxis": "x",
         "y": [
          78523,
          46597,
          54542,
          52739,
          58631,
          55320,
          63666,
          60677,
          58683,
          61976,
          60523,
          65480
         ],
         "yaxis": "y"
        }
       ],
       "layout": {
        "barmode": "relative",
        "legend": {
         "tracegroupgap": 0
        },
        "margin": {
         "t": 60
        },
        "template": {
         "data": {
          "bar": [
           {
            "error_x": {
             "color": "#2a3f5f"
            },
            "error_y": {
             "color": "#2a3f5f"
            },
            "marker": {
             "line": {
              "color": "#E5ECF6",
              "width": 0.5
             },
             "pattern": {
              "fillmode": "overlay",
              "size": 10,
              "solidity": 0.2
             }
            },
            "type": "bar"
           }
          ],
          "barpolar": [
           {
            "marker": {
             "line": {
              "color": "#E5ECF6",
              "width": 0.5
             },
             "pattern": {
              "fillmode": "overlay",
              "size": 10,
              "solidity": 0.2
             }
            },
            "type": "barpolar"
           }
          ],
          "carpet": [
           {
            "aaxis": {
             "endlinecolor": "#2a3f5f",
             "gridcolor": "white",
             "linecolor": "white",
             "minorgridcolor": "white",
             "startlinecolor": "#2a3f5f"
            },
            "baxis": {
             "endlinecolor": "#2a3f5f",
             "gridcolor": "white",
             "linecolor": "white",
             "minorgridcolor": "white",
             "startlinecolor": "#2a3f5f"
            },
            "type": "carpet"
           }
          ],
          "choropleth": [
           {
            "colorbar": {
             "outlinewidth": 0,
             "ticks": ""
            },
            "type": "choropleth"
           }
          ],
          "contour": [
           {
            "colorbar": {
             "outlinewidth": 0,
             "ticks": ""
            },
            "colorscale": [
             [
              0,
              "#0d0887"
             ],
             [
              0.1111111111111111,
              "#46039f"
             ],
             [
              0.2222222222222222,
              "#7201a8"
             ],
             [
              0.3333333333333333,
              "#9c179e"
             ],
             [
              0.4444444444444444,
              "#bd3786"
             ],
             [
              0.5555555555555556,
              "#d8576b"
             ],
             [
              0.6666666666666666,
              "#ed7953"
             ],
             [
              0.7777777777777778,
              "#fb9f3a"
             ],
             [
              0.8888888888888888,
              "#fdca26"
             ],
             [
              1,
              "#f0f921"
             ]
            ],
            "type": "contour"
           }
          ],
          "contourcarpet": [
           {
            "colorbar": {
             "outlinewidth": 0,
             "ticks": ""
            },
            "type": "contourcarpet"
           }
          ],
          "heatmap": [
           {
            "colorbar": {
             "outlinewidth": 0,
             "ticks": ""
            },
            "colorscale": [
             [
              0,
              "#0d0887"
             ],
             [
              0.1111111111111111,
              "#46039f"
             ],
             [
              0.2222222222222222,
              "#7201a8"
             ],
             [
              0.3333333333333333,
              "#9c179e"
             ],
             [
              0.4444444444444444,
              "#bd3786"
             ],
             [
              0.5555555555555556,
              "#d8576b"
             ],
             [
              0.6666666666666666,
              "#ed7953"
             ],
             [
              0.7777777777777778,
              "#fb9f3a"
             ],
             [
              0.8888888888888888,
              "#fdca26"
             ],
             [
              1,
              "#f0f921"
             ]
            ],
            "type": "heatmap"
           }
          ],
          "heatmapgl": [
           {
            "colorbar": {
             "outlinewidth": 0,
             "ticks": ""
            },
            "colorscale": [
             [
              0,
              "#0d0887"
             ],
             [
              0.1111111111111111,
              "#46039f"
             ],
             [
              0.2222222222222222,
              "#7201a8"
             ],
             [
              0.3333333333333333,
              "#9c179e"
             ],
             [
              0.4444444444444444,
              "#bd3786"
             ],
             [
              0.5555555555555556,
              "#d8576b"
             ],
             [
              0.6666666666666666,
              "#ed7953"
             ],
             [
              0.7777777777777778,
              "#fb9f3a"
             ],
             [
              0.8888888888888888,
              "#fdca26"
             ],
             [
              1,
              "#f0f921"
             ]
            ],
            "type": "heatmapgl"
           }
          ],
          "histogram": [
           {
            "marker": {
             "pattern": {
              "fillmode": "overlay",
              "size": 10,
              "solidity": 0.2
             }
            },
            "type": "histogram"
           }
          ],
          "histogram2d": [
           {
            "colorbar": {
             "outlinewidth": 0,
             "ticks": ""
            },
            "colorscale": [
             [
              0,
              "#0d0887"
             ],
             [
              0.1111111111111111,
              "#46039f"
             ],
             [
              0.2222222222222222,
              "#7201a8"
             ],
             [
              0.3333333333333333,
              "#9c179e"
             ],
             [
              0.4444444444444444,
              "#bd3786"
             ],
             [
              0.5555555555555556,
              "#d8576b"
             ],
             [
              0.6666666666666666,
              "#ed7953"
             ],
             [
              0.7777777777777778,
              "#fb9f3a"
             ],
             [
              0.8888888888888888,
              "#fdca26"
             ],
             [
              1,
              "#f0f921"
             ]
            ],
            "type": "histogram2d"
           }
          ],
          "histogram2dcontour": [
           {
            "colorbar": {
             "outlinewidth": 0,
             "ticks": ""
            },
            "colorscale": [
             [
              0,
              "#0d0887"
             ],
             [
              0.1111111111111111,
              "#46039f"
             ],
             [
              0.2222222222222222,
              "#7201a8"
             ],
             [
              0.3333333333333333,
              "#9c179e"
             ],
             [
              0.4444444444444444,
              "#bd3786"
             ],
             [
              0.5555555555555556,
              "#d8576b"
             ],
             [
              0.6666666666666666,
              "#ed7953"
             ],
             [
              0.7777777777777778,
              "#fb9f3a"
             ],
             [
              0.8888888888888888,
              "#fdca26"
             ],
             [
              1,
              "#f0f921"
             ]
            ],
            "type": "histogram2dcontour"
           }
          ],
          "mesh3d": [
           {
            "colorbar": {
             "outlinewidth": 0,
             "ticks": ""
            },
            "type": "mesh3d"
           }
          ],
          "parcoords": [
           {
            "line": {
             "colorbar": {
              "outlinewidth": 0,
              "ticks": ""
             }
            },
            "type": "parcoords"
           }
          ],
          "pie": [
           {
            "automargin": true,
            "type": "pie"
           }
          ],
          "scatter": [
           {
            "fillpattern": {
             "fillmode": "overlay",
             "size": 10,
             "solidity": 0.2
            },
            "type": "scatter"
           }
          ],
          "scatter3d": [
           {
            "line": {
             "colorbar": {
              "outlinewidth": 0,
              "ticks": ""
             }
            },
            "marker": {
             "colorbar": {
              "outlinewidth": 0,
              "ticks": ""
             }
            },
            "type": "scatter3d"
           }
          ],
          "scattercarpet": [
           {
            "marker": {
             "colorbar": {
              "outlinewidth": 0,
              "ticks": ""
             }
            },
            "type": "scattercarpet"
           }
          ],
          "scattergeo": [
           {
            "marker": {
             "colorbar": {
              "outlinewidth": 0,
              "ticks": ""
             }
            },
            "type": "scattergeo"
           }
          ],
          "scattergl": [
           {
            "marker": {
             "colorbar": {
              "outlinewidth": 0,
              "ticks": ""
             }
            },
            "type": "scattergl"
           }
          ],
          "scattermapbox": [
           {
            "marker": {
             "colorbar": {
              "outlinewidth": 0,
              "ticks": ""
             }
            },
            "type": "scattermapbox"
           }
          ],
          "scatterpolar": [
           {
            "marker": {
             "colorbar": {
              "outlinewidth": 0,
              "ticks": ""
             }
            },
            "type": "scatterpolar"
           }
          ],
          "scatterpolargl": [
           {
            "marker": {
             "colorbar": {
              "outlinewidth": 0,
              "ticks": ""
             }
            },
            "type": "scatterpolargl"
           }
          ],
          "scatterternary": [
           {
            "marker": {
             "colorbar": {
              "outlinewidth": 0,
              "ticks": ""
             }
            },
            "type": "scatterternary"
           }
          ],
          "surface": [
           {
            "colorbar": {
             "outlinewidth": 0,
             "ticks": ""
            },
            "colorscale": [
             [
              0,
              "#0d0887"
             ],
             [
              0.1111111111111111,
              "#46039f"
             ],
             [
              0.2222222222222222,
              "#7201a8"
             ],
             [
              0.3333333333333333,
              "#9c179e"
             ],
             [
              0.4444444444444444,
              "#bd3786"
             ],
             [
              0.5555555555555556,
              "#d8576b"
             ],
             [
              0.6666666666666666,
              "#ed7953"
             ],
             [
              0.7777777777777778,
              "#fb9f3a"
             ],
             [
              0.8888888888888888,
              "#fdca26"
             ],
             [
              1,
              "#f0f921"
             ]
            ],
            "type": "surface"
           }
          ],
          "table": [
           {
            "cells": {
             "fill": {
              "color": "#EBF0F8"
             },
             "line": {
              "color": "white"
             }
            },
            "header": {
             "fill": {
              "color": "#C8D4E3"
             },
             "line": {
              "color": "white"
             }
            },
            "type": "table"
           }
          ]
         },
         "layout": {
          "annotationdefaults": {
           "arrowcolor": "#2a3f5f",
           "arrowhead": 0,
           "arrowwidth": 1
          },
          "autotypenumbers": "strict",
          "coloraxis": {
           "colorbar": {
            "outlinewidth": 0,
            "ticks": ""
           }
          },
          "colorscale": {
           "diverging": [
            [
             0,
             "#8e0152"
            ],
            [
             0.1,
             "#c51b7d"
            ],
            [
             0.2,
             "#de77ae"
            ],
            [
             0.3,
             "#f1b6da"
            ],
            [
             0.4,
             "#fde0ef"
            ],
            [
             0.5,
             "#f7f7f7"
            ],
            [
             0.6,
             "#e6f5d0"
            ],
            [
             0.7,
             "#b8e186"
            ],
            [
             0.8,
             "#7fbc41"
            ],
            [
             0.9,
             "#4d9221"
            ],
            [
             1,
             "#276419"
            ]
           ],
           "sequential": [
            [
             0,
             "#0d0887"
            ],
            [
             0.1111111111111111,
             "#46039f"
            ],
            [
             0.2222222222222222,
             "#7201a8"
            ],
            [
             0.3333333333333333,
             "#9c179e"
            ],
            [
             0.4444444444444444,
             "#bd3786"
            ],
            [
             0.5555555555555556,
             "#d8576b"
            ],
            [
             0.6666666666666666,
             "#ed7953"
            ],
            [
             0.7777777777777778,
             "#fb9f3a"
            ],
            [
             0.8888888888888888,
             "#fdca26"
            ],
            [
             1,
             "#f0f921"
            ]
           ],
           "sequentialminus": [
            [
             0,
             "#0d0887"
            ],
            [
             0.1111111111111111,
             "#46039f"
            ],
            [
             0.2222222222222222,
             "#7201a8"
            ],
            [
             0.3333333333333333,
             "#9c179e"
            ],
            [
             0.4444444444444444,
             "#bd3786"
            ],
            [
             0.5555555555555556,
             "#d8576b"
            ],
            [
             0.6666666666666666,
             "#ed7953"
            ],
            [
             0.7777777777777778,
             "#fb9f3a"
            ],
            [
             0.8888888888888888,
             "#fdca26"
            ],
            [
             1,
             "#f0f921"
            ]
           ]
          },
          "colorway": [
           "#636efa",
           "#EF553B",
           "#00cc96",
           "#ab63fa",
           "#FFA15A",
           "#19d3f3",
           "#FF6692",
           "#B6E880",
           "#FF97FF",
           "#FECB52"
          ],
          "font": {
           "color": "#2a3f5f"
          },
          "geo": {
           "bgcolor": "white",
           "lakecolor": "white",
           "landcolor": "#E5ECF6",
           "showlakes": true,
           "showland": true,
           "subunitcolor": "white"
          },
          "hoverlabel": {
           "align": "left"
          },
          "hovermode": "closest",
          "mapbox": {
           "style": "light"
          },
          "paper_bgcolor": "white",
          "plot_bgcolor": "#E5ECF6",
          "polar": {
           "angularaxis": {
            "gridcolor": "white",
            "linecolor": "white",
            "ticks": ""
           },
           "bgcolor": "#E5ECF6",
           "radialaxis": {
            "gridcolor": "white",
            "linecolor": "white",
            "ticks": ""
           }
          },
          "scene": {
           "xaxis": {
            "backgroundcolor": "#E5ECF6",
            "gridcolor": "white",
            "gridwidth": 2,
            "linecolor": "white",
            "showbackground": true,
            "ticks": "",
            "zerolinecolor": "white"
           },
           "yaxis": {
            "backgroundcolor": "#E5ECF6",
            "gridcolor": "white",
            "gridwidth": 2,
            "linecolor": "white",
            "showbackground": true,
            "ticks": "",
            "zerolinecolor": "white"
           },
           "zaxis": {
            "backgroundcolor": "#E5ECF6",
            "gridcolor": "white",
            "gridwidth": 2,
            "linecolor": "white",
            "showbackground": true,
            "ticks": "",
            "zerolinecolor": "white"
           }
          },
          "shapedefaults": {
           "line": {
            "color": "#2a3f5f"
           }
          },
          "ternary": {
           "aaxis": {
            "gridcolor": "white",
            "linecolor": "white",
            "ticks": ""
           },
           "baxis": {
            "gridcolor": "white",
            "linecolor": "white",
            "ticks": ""
           },
           "bgcolor": "#E5ECF6",
           "caxis": {
            "gridcolor": "white",
            "linecolor": "white",
            "ticks": ""
           }
          },
          "title": {
           "x": 0.05
          },
          "xaxis": {
           "automargin": true,
           "gridcolor": "white",
           "linecolor": "white",
           "ticks": "",
           "title": {
            "standoff": 15
           },
           "zerolinecolor": "white",
           "zerolinewidth": 2
          },
          "yaxis": {
           "automargin": true,
           "gridcolor": "white",
           "linecolor": "white",
           "ticks": "",
           "title": {
            "standoff": 15
           },
           "zerolinecolor": "white",
           "zerolinewidth": 2
          }
         }
        },
        "xaxis": {
         "anchor": "y",
         "domain": [
          0,
          1
         ],
         "title": {
          "text": "NOME_MES_PARTIDA_PREVISTA"
         }
        },
        "yaxis": {
         "anchor": "x",
         "domain": [
          0,
          1
         ],
         "title": {
          "text": "TOTAL_VOOS"
         }
        }
       }
      }
     },
     "metadata": {},
     "output_type": "display_data"
    }
   ],
   "source": [
    "fig = px.bar(\n",
    "    total_voos, \n",
    "    x='NOME_MES_PARTIDA_PREVISTA', \n",
    "    y='TOTAL_VOOS', \n",
    "    text_auto='0',\n",
    ")\n",
    "fig.update_traces(\n",
    "    textposition='outside'\n",
    ")\n",
    "fig.show()"
   ]
  },
  {
   "cell_type": "markdown",
   "metadata": {},
   "source": [
    "- Total de Vôos por compania e aeroporto por mês"
   ]
  },
  {
   "cell_type": "code",
   "execution_count": 45,
   "metadata": {},
   "outputs": [
    {
     "data": {
      "text/plain": [
       "Index(['NOME_AEROPORTO_ORIGEM', 'CIDADE_AEROPORTO_ORIGEM',\n",
       "       'UF_AEROPORTO_ORIGEM', 'SIGLA_ICAO_EMPRESA_AEREA', 'NUMERO_VOO',\n",
       "       'CODIGO_TIPO_LINHA', 'SIGLA_ICAO_AEROPORTO_ORIGEM',\n",
       "       'SIGLA_ICAO_AEROPORTO_DESTINO', 'PARTIDA_PREVISTA', 'PARTIDA_REAL',\n",
       "       'CHEGADA_PREVISTA', 'CHEGADA_REAL', 'SITUACAO_VOO', 'SIGLA_OACI',\n",
       "       'NOME_AEROPORTO_DESTINO', 'CIDADE_AEROPORTO_DESTINO',\n",
       "       'UF_AEROPORTO_DESTINO', 'NOME_EMPRESA', 'MES_PARTIDA_PREVISTA',\n",
       "       'NOME_MES_PARTIDA_PREVISTA', 'MES_PARTIDA_REAL',\n",
       "       'NOME_MES_PARTIDA_REAL', 'MES_CHEGADA_PREVISTA',\n",
       "       'NOME_MES_CHEGADA_PREVISTA', 'MES_CHEGADA_REAL',\n",
       "       'NOME_MES_CHEGADA_REAL', 'MINUTOS_ATRASADO_PARTIDA',\n",
       "       'MINUTOS_ATRASADO_CHEGADA', 'DIA_DA_SEMANA_PARTIDA_PREVISTA',\n",
       "       'INDICE_SEMANA_PARTIDA_PREVISTA', 'DIA_DA_SEMANA_PARTIDA_REAL',\n",
       "       'INDICE_SEMANA_PARTIDA_REAL', 'DIA_DA_SEMANA_CHEGADA_REAL',\n",
       "       'DIA_DA_SEMANA_CHEGADA_PREVISTA', 'INDICE_SEMANA_CHEGADA_REAL',\n",
       "       'INDICE_SEMANA_CHEGADA_PREVISTA', 'FAIXA_ATRASO_PARTIDA',\n",
       "       'FAIXA_ATRASO_CHEGADA'],\n",
       "      dtype='object')"
      ]
     },
     "execution_count": 45,
     "metadata": {},
     "output_type": "execute_result"
    }
   ],
   "source": [
    "base.columns"
   ]
  },
  {
   "cell_type": "code",
   "execution_count": 46,
   "metadata": {},
   "outputs": [],
   "source": [
    "colunas = [\n",
    "        \n",
    "        'SIGLA_ICAO_AEROPORTO_ORIGEM',\n",
    "        'MES_PARTIDA_PREVISTA',\n",
    "        'NOME_MES_PARTIDA_PREVISTA',\n",
    "        'NUMERO_VOO' ,\n",
    "        'SIGLA_ICAO_EMPRESA_AEREA',\n",
    "        'NOME_EMPRESA' \n",
    "]\n",
    "\n",
    "\n",
    "teste = pd.read_parquet('../data/processed/df_final.parquet', columns=colunas)\n",
    "teste = teste.query(\n",
    "    ' SIGLA_ICAO_EMPRESA_AEREA == \"TAM\"  ' \\\n",
    "    ' and SIGLA_ICAO_AEROPORTO_ORIGEM == \"SBRP\"'\\\n",
    ")"
   ]
  },
  {
   "cell_type": "code",
   "execution_count": 47,
   "metadata": {},
   "outputs": [
    {
     "name": "stdout",
     "output_type": "stream",
     "text": [
      "<class 'pandas.core.frame.DataFrame'>\n",
      "Index: 348 entries, 488380 to 680870\n",
      "Data columns (total 6 columns):\n",
      " #   Column                       Non-Null Count  Dtype   \n",
      "---  ------                       --------------  -----   \n",
      " 0   SIGLA_ICAO_AEROPORTO_ORIGEM  348 non-null    string  \n",
      " 1   MES_PARTIDA_PREVISTA         348 non-null    int32   \n",
      " 2   NOME_MES_PARTIDA_PREVISTA    348 non-null    category\n",
      " 3   NUMERO_VOO                   348 non-null    string  \n",
      " 4   SIGLA_ICAO_EMPRESA_AEREA     348 non-null    string  \n",
      " 5   NOME_EMPRESA                 348 non-null    string  \n",
      "dtypes: category(1), int32(1), string(4)\n",
      "memory usage: 15.7 KB\n"
     ]
    }
   ],
   "source": [
    "teste.info()"
   ]
  },
  {
   "cell_type": "code",
   "execution_count": 48,
   "metadata": {},
   "outputs": [],
   "source": [
    "teste['NOME_MES_PARTIDA_PREVISTA'] = teste['NOME_MES_PARTIDA_PREVISTA'].astype('string')"
   ]
  },
  {
   "cell_type": "code",
   "execution_count": 49,
   "metadata": {},
   "outputs": [
    {
     "name": "stdout",
     "output_type": "stream",
     "text": [
      "<class 'pandas.core.frame.DataFrame'>\n",
      "Index: 348 entries, 488380 to 680870\n",
      "Data columns (total 6 columns):\n",
      " #   Column                       Non-Null Count  Dtype \n",
      "---  ------                       --------------  ----- \n",
      " 0   SIGLA_ICAO_AEROPORTO_ORIGEM  348 non-null    string\n",
      " 1   MES_PARTIDA_PREVISTA         348 non-null    int32 \n",
      " 2   NOME_MES_PARTIDA_PREVISTA    348 non-null    string\n",
      " 3   NUMERO_VOO                   348 non-null    string\n",
      " 4   SIGLA_ICAO_EMPRESA_AEREA     348 non-null    string\n",
      " 5   NOME_EMPRESA                 348 non-null    string\n",
      "dtypes: int32(1), string(5)\n",
      "memory usage: 17.7 KB\n"
     ]
    }
   ],
   "source": [
    "teste.info()"
   ]
  },
  {
   "cell_type": "code",
   "execution_count": 50,
   "metadata": {},
   "outputs": [
    {
     "data": {
      "text/html": [
       "<div>\n",
       "<style scoped>\n",
       "    .dataframe tbody tr th:only-of-type {\n",
       "        vertical-align: middle;\n",
       "    }\n",
       "\n",
       "    .dataframe tbody tr th {\n",
       "        vertical-align: top;\n",
       "    }\n",
       "\n",
       "    .dataframe thead th {\n",
       "        text-align: right;\n",
       "    }\n",
       "</style>\n",
       "<table border=\"1\" class=\"dataframe\">\n",
       "  <thead>\n",
       "    <tr style=\"text-align: right;\">\n",
       "      <th></th>\n",
       "      <th>SIGLA_ICAO_AEROPORTO_ORIGEM</th>\n",
       "      <th>MES_PARTIDA_PREVISTA</th>\n",
       "      <th>NOME_MES_PARTIDA_PREVISTA</th>\n",
       "      <th>NUMERO_VOO</th>\n",
       "      <th>SIGLA_ICAO_EMPRESA_AEREA</th>\n",
       "      <th>NOME_EMPRESA</th>\n",
       "    </tr>\n",
       "  </thead>\n",
       "  <tbody>\n",
       "    <tr>\n",
       "      <th>488380</th>\n",
       "      <td>SBRP</td>\n",
       "      <td>1</td>\n",
       "      <td>janeiro</td>\n",
       "      <td>3867</td>\n",
       "      <td>TAM</td>\n",
       "      <td>TAM</td>\n",
       "    </tr>\n",
       "    <tr>\n",
       "      <th>488381</th>\n",
       "      <td>SBRP</td>\n",
       "      <td>1</td>\n",
       "      <td>janeiro</td>\n",
       "      <td>3867</td>\n",
       "      <td>TAM</td>\n",
       "      <td>TAM</td>\n",
       "    </tr>\n",
       "    <tr>\n",
       "      <th>537779</th>\n",
       "      <td>SBRP</td>\n",
       "      <td>1</td>\n",
       "      <td>janeiro</td>\n",
       "      <td>3992</td>\n",
       "      <td>TAM</td>\n",
       "      <td>TAM</td>\n",
       "    </tr>\n",
       "    <tr>\n",
       "      <th>537780</th>\n",
       "      <td>SBRP</td>\n",
       "      <td>1</td>\n",
       "      <td>janeiro</td>\n",
       "      <td>3992</td>\n",
       "      <td>TAM</td>\n",
       "      <td>TAM</td>\n",
       "    </tr>\n",
       "    <tr>\n",
       "      <th>537781</th>\n",
       "      <td>SBRP</td>\n",
       "      <td>1</td>\n",
       "      <td>janeiro</td>\n",
       "      <td>3992</td>\n",
       "      <td>TAM</td>\n",
       "      <td>TAM</td>\n",
       "    </tr>\n",
       "  </tbody>\n",
       "</table>\n",
       "</div>"
      ],
      "text/plain": [
       "       SIGLA_ICAO_AEROPORTO_ORIGEM  MES_PARTIDA_PREVISTA  \\\n",
       "488380                        SBRP                     1   \n",
       "488381                        SBRP                     1   \n",
       "537779                        SBRP                     1   \n",
       "537780                        SBRP                     1   \n",
       "537781                        SBRP                     1   \n",
       "\n",
       "       NOME_MES_PARTIDA_PREVISTA NUMERO_VOO SIGLA_ICAO_EMPRESA_AEREA  \\\n",
       "488380                   janeiro       3867                      TAM   \n",
       "488381                   janeiro       3867                      TAM   \n",
       "537779                   janeiro       3992                      TAM   \n",
       "537780                   janeiro       3992                      TAM   \n",
       "537781                   janeiro       3992                      TAM   \n",
       "\n",
       "       NOME_EMPRESA  \n",
       "488380          TAM  \n",
       "488381          TAM  \n",
       "537779          TAM  \n",
       "537780          TAM  \n",
       "537781          TAM  "
      ]
     },
     "execution_count": 50,
     "metadata": {},
     "output_type": "execute_result"
    }
   ],
   "source": [
    "teste.head()"
   ]
  },
  {
   "cell_type": "code",
   "execution_count": 51,
   "metadata": {},
   "outputs": [],
   "source": [
    "teste_gb = teste.groupby([ 'MES_PARTIDA_PREVISTA', 'NOME_MES_PARTIDA_PREVISTA']).agg(\n",
    "    TOTAL_VOOS=('SIGLA_ICAO_EMPRESA_AEREA', 'count')\n",
    ").reset_index()"
   ]
  },
  {
   "cell_type": "code",
   "execution_count": 52,
   "metadata": {},
   "outputs": [
    {
     "data": {
      "text/html": [
       "<div>\n",
       "<style scoped>\n",
       "    .dataframe tbody tr th:only-of-type {\n",
       "        vertical-align: middle;\n",
       "    }\n",
       "\n",
       "    .dataframe tbody tr th {\n",
       "        vertical-align: top;\n",
       "    }\n",
       "\n",
       "    .dataframe thead th {\n",
       "        text-align: right;\n",
       "    }\n",
       "</style>\n",
       "<table border=\"1\" class=\"dataframe\">\n",
       "  <thead>\n",
       "    <tr style=\"text-align: right;\">\n",
       "      <th></th>\n",
       "      <th>MES_PARTIDA_PREVISTA</th>\n",
       "      <th>NOME_MES_PARTIDA_PREVISTA</th>\n",
       "      <th>TOTAL_VOOS</th>\n",
       "    </tr>\n",
       "  </thead>\n",
       "  <tbody>\n",
       "    <tr>\n",
       "      <th>0</th>\n",
       "      <td>1</td>\n",
       "      <td>janeiro</td>\n",
       "      <td>41</td>\n",
       "    </tr>\n",
       "    <tr>\n",
       "      <th>1</th>\n",
       "      <td>2</td>\n",
       "      <td>fevereiro</td>\n",
       "      <td>20</td>\n",
       "    </tr>\n",
       "    <tr>\n",
       "      <th>2</th>\n",
       "      <td>3</td>\n",
       "      <td>março</td>\n",
       "      <td>23</td>\n",
       "    </tr>\n",
       "    <tr>\n",
       "      <th>3</th>\n",
       "      <td>4</td>\n",
       "      <td>abril</td>\n",
       "      <td>21</td>\n",
       "    </tr>\n",
       "    <tr>\n",
       "      <th>4</th>\n",
       "      <td>5</td>\n",
       "      <td>maio</td>\n",
       "      <td>20</td>\n",
       "    </tr>\n",
       "    <tr>\n",
       "      <th>5</th>\n",
       "      <td>6</td>\n",
       "      <td>junho</td>\n",
       "      <td>22</td>\n",
       "    </tr>\n",
       "    <tr>\n",
       "      <th>6</th>\n",
       "      <td>7</td>\n",
       "      <td>julho</td>\n",
       "      <td>21</td>\n",
       "    </tr>\n",
       "    <tr>\n",
       "      <th>7</th>\n",
       "      <td>8</td>\n",
       "      <td>agosto</td>\n",
       "      <td>23</td>\n",
       "    </tr>\n",
       "    <tr>\n",
       "      <th>8</th>\n",
       "      <td>9</td>\n",
       "      <td>setembro</td>\n",
       "      <td>23</td>\n",
       "    </tr>\n",
       "    <tr>\n",
       "      <th>9</th>\n",
       "      <td>10</td>\n",
       "      <td>outubro</td>\n",
       "      <td>24</td>\n",
       "    </tr>\n",
       "    <tr>\n",
       "      <th>10</th>\n",
       "      <td>11</td>\n",
       "      <td>novembro</td>\n",
       "      <td>55</td>\n",
       "    </tr>\n",
       "    <tr>\n",
       "      <th>11</th>\n",
       "      <td>12</td>\n",
       "      <td>dezembro</td>\n",
       "      <td>55</td>\n",
       "    </tr>\n",
       "  </tbody>\n",
       "</table>\n",
       "</div>"
      ],
      "text/plain": [
       "    MES_PARTIDA_PREVISTA NOME_MES_PARTIDA_PREVISTA  TOTAL_VOOS\n",
       "0                      1                   janeiro          41\n",
       "1                      2                 fevereiro          20\n",
       "2                      3                     março          23\n",
       "3                      4                     abril          21\n",
       "4                      5                      maio          20\n",
       "5                      6                     junho          22\n",
       "6                      7                     julho          21\n",
       "7                      8                    agosto          23\n",
       "8                      9                  setembro          23\n",
       "9                     10                   outubro          24\n",
       "10                    11                  novembro          55\n",
       "11                    12                  dezembro          55"
      ]
     },
     "execution_count": 52,
     "metadata": {},
     "output_type": "execute_result"
    }
   ],
   "source": [
    "teste_gb"
   ]
  },
  {
   "cell_type": "code",
   "execution_count": 53,
   "metadata": {},
   "outputs": [
    {
     "data": {
      "application/vnd.plotly.v1+json": {
       "config": {
        "plotlyServerURL": "https://plot.ly"
       },
       "data": [
        {
         "alignmentgroup": "True",
         "hovertemplate": "NOME_MES_PARTIDA_PREVISTA=%{x}<br>TOTAL_VOOS=%{y}<extra></extra>",
         "legendgroup": "",
         "marker": {
          "color": "#636efa",
          "pattern": {
           "shape": ""
          }
         },
         "name": "",
         "offsetgroup": "",
         "orientation": "v",
         "showlegend": false,
         "textposition": "outside",
         "texttemplate": "%{y:0}",
         "type": "bar",
         "x": [
          "janeiro",
          "fevereiro",
          "março",
          "abril",
          "maio",
          "junho",
          "julho",
          "agosto",
          "setembro",
          "outubro",
          "novembro",
          "dezembro"
         ],
         "xaxis": "x",
         "y": [
          41,
          20,
          23,
          21,
          20,
          22,
          21,
          23,
          23,
          24,
          55,
          55
         ],
         "yaxis": "y"
        }
       ],
       "layout": {
        "barmode": "relative",
        "legend": {
         "tracegroupgap": 0
        },
        "margin": {
         "t": 60
        },
        "template": {
         "data": {
          "bar": [
           {
            "error_x": {
             "color": "#2a3f5f"
            },
            "error_y": {
             "color": "#2a3f5f"
            },
            "marker": {
             "line": {
              "color": "#E5ECF6",
              "width": 0.5
             },
             "pattern": {
              "fillmode": "overlay",
              "size": 10,
              "solidity": 0.2
             }
            },
            "type": "bar"
           }
          ],
          "barpolar": [
           {
            "marker": {
             "line": {
              "color": "#E5ECF6",
              "width": 0.5
             },
             "pattern": {
              "fillmode": "overlay",
              "size": 10,
              "solidity": 0.2
             }
            },
            "type": "barpolar"
           }
          ],
          "carpet": [
           {
            "aaxis": {
             "endlinecolor": "#2a3f5f",
             "gridcolor": "white",
             "linecolor": "white",
             "minorgridcolor": "white",
             "startlinecolor": "#2a3f5f"
            },
            "baxis": {
             "endlinecolor": "#2a3f5f",
             "gridcolor": "white",
             "linecolor": "white",
             "minorgridcolor": "white",
             "startlinecolor": "#2a3f5f"
            },
            "type": "carpet"
           }
          ],
          "choropleth": [
           {
            "colorbar": {
             "outlinewidth": 0,
             "ticks": ""
            },
            "type": "choropleth"
           }
          ],
          "contour": [
           {
            "colorbar": {
             "outlinewidth": 0,
             "ticks": ""
            },
            "colorscale": [
             [
              0,
              "#0d0887"
             ],
             [
              0.1111111111111111,
              "#46039f"
             ],
             [
              0.2222222222222222,
              "#7201a8"
             ],
             [
              0.3333333333333333,
              "#9c179e"
             ],
             [
              0.4444444444444444,
              "#bd3786"
             ],
             [
              0.5555555555555556,
              "#d8576b"
             ],
             [
              0.6666666666666666,
              "#ed7953"
             ],
             [
              0.7777777777777778,
              "#fb9f3a"
             ],
             [
              0.8888888888888888,
              "#fdca26"
             ],
             [
              1,
              "#f0f921"
             ]
            ],
            "type": "contour"
           }
          ],
          "contourcarpet": [
           {
            "colorbar": {
             "outlinewidth": 0,
             "ticks": ""
            },
            "type": "contourcarpet"
           }
          ],
          "heatmap": [
           {
            "colorbar": {
             "outlinewidth": 0,
             "ticks": ""
            },
            "colorscale": [
             [
              0,
              "#0d0887"
             ],
             [
              0.1111111111111111,
              "#46039f"
             ],
             [
              0.2222222222222222,
              "#7201a8"
             ],
             [
              0.3333333333333333,
              "#9c179e"
             ],
             [
              0.4444444444444444,
              "#bd3786"
             ],
             [
              0.5555555555555556,
              "#d8576b"
             ],
             [
              0.6666666666666666,
              "#ed7953"
             ],
             [
              0.7777777777777778,
              "#fb9f3a"
             ],
             [
              0.8888888888888888,
              "#fdca26"
             ],
             [
              1,
              "#f0f921"
             ]
            ],
            "type": "heatmap"
           }
          ],
          "heatmapgl": [
           {
            "colorbar": {
             "outlinewidth": 0,
             "ticks": ""
            },
            "colorscale": [
             [
              0,
              "#0d0887"
             ],
             [
              0.1111111111111111,
              "#46039f"
             ],
             [
              0.2222222222222222,
              "#7201a8"
             ],
             [
              0.3333333333333333,
              "#9c179e"
             ],
             [
              0.4444444444444444,
              "#bd3786"
             ],
             [
              0.5555555555555556,
              "#d8576b"
             ],
             [
              0.6666666666666666,
              "#ed7953"
             ],
             [
              0.7777777777777778,
              "#fb9f3a"
             ],
             [
              0.8888888888888888,
              "#fdca26"
             ],
             [
              1,
              "#f0f921"
             ]
            ],
            "type": "heatmapgl"
           }
          ],
          "histogram": [
           {
            "marker": {
             "pattern": {
              "fillmode": "overlay",
              "size": 10,
              "solidity": 0.2
             }
            },
            "type": "histogram"
           }
          ],
          "histogram2d": [
           {
            "colorbar": {
             "outlinewidth": 0,
             "ticks": ""
            },
            "colorscale": [
             [
              0,
              "#0d0887"
             ],
             [
              0.1111111111111111,
              "#46039f"
             ],
             [
              0.2222222222222222,
              "#7201a8"
             ],
             [
              0.3333333333333333,
              "#9c179e"
             ],
             [
              0.4444444444444444,
              "#bd3786"
             ],
             [
              0.5555555555555556,
              "#d8576b"
             ],
             [
              0.6666666666666666,
              "#ed7953"
             ],
             [
              0.7777777777777778,
              "#fb9f3a"
             ],
             [
              0.8888888888888888,
              "#fdca26"
             ],
             [
              1,
              "#f0f921"
             ]
            ],
            "type": "histogram2d"
           }
          ],
          "histogram2dcontour": [
           {
            "colorbar": {
             "outlinewidth": 0,
             "ticks": ""
            },
            "colorscale": [
             [
              0,
              "#0d0887"
             ],
             [
              0.1111111111111111,
              "#46039f"
             ],
             [
              0.2222222222222222,
              "#7201a8"
             ],
             [
              0.3333333333333333,
              "#9c179e"
             ],
             [
              0.4444444444444444,
              "#bd3786"
             ],
             [
              0.5555555555555556,
              "#d8576b"
             ],
             [
              0.6666666666666666,
              "#ed7953"
             ],
             [
              0.7777777777777778,
              "#fb9f3a"
             ],
             [
              0.8888888888888888,
              "#fdca26"
             ],
             [
              1,
              "#f0f921"
             ]
            ],
            "type": "histogram2dcontour"
           }
          ],
          "mesh3d": [
           {
            "colorbar": {
             "outlinewidth": 0,
             "ticks": ""
            },
            "type": "mesh3d"
           }
          ],
          "parcoords": [
           {
            "line": {
             "colorbar": {
              "outlinewidth": 0,
              "ticks": ""
             }
            },
            "type": "parcoords"
           }
          ],
          "pie": [
           {
            "automargin": true,
            "type": "pie"
           }
          ],
          "scatter": [
           {
            "fillpattern": {
             "fillmode": "overlay",
             "size": 10,
             "solidity": 0.2
            },
            "type": "scatter"
           }
          ],
          "scatter3d": [
           {
            "line": {
             "colorbar": {
              "outlinewidth": 0,
              "ticks": ""
             }
            },
            "marker": {
             "colorbar": {
              "outlinewidth": 0,
              "ticks": ""
             }
            },
            "type": "scatter3d"
           }
          ],
          "scattercarpet": [
           {
            "marker": {
             "colorbar": {
              "outlinewidth": 0,
              "ticks": ""
             }
            },
            "type": "scattercarpet"
           }
          ],
          "scattergeo": [
           {
            "marker": {
             "colorbar": {
              "outlinewidth": 0,
              "ticks": ""
             }
            },
            "type": "scattergeo"
           }
          ],
          "scattergl": [
           {
            "marker": {
             "colorbar": {
              "outlinewidth": 0,
              "ticks": ""
             }
            },
            "type": "scattergl"
           }
          ],
          "scattermapbox": [
           {
            "marker": {
             "colorbar": {
              "outlinewidth": 0,
              "ticks": ""
             }
            },
            "type": "scattermapbox"
           }
          ],
          "scatterpolar": [
           {
            "marker": {
             "colorbar": {
              "outlinewidth": 0,
              "ticks": ""
             }
            },
            "type": "scatterpolar"
           }
          ],
          "scatterpolargl": [
           {
            "marker": {
             "colorbar": {
              "outlinewidth": 0,
              "ticks": ""
             }
            },
            "type": "scatterpolargl"
           }
          ],
          "scatterternary": [
           {
            "marker": {
             "colorbar": {
              "outlinewidth": 0,
              "ticks": ""
             }
            },
            "type": "scatterternary"
           }
          ],
          "surface": [
           {
            "colorbar": {
             "outlinewidth": 0,
             "ticks": ""
            },
            "colorscale": [
             [
              0,
              "#0d0887"
             ],
             [
              0.1111111111111111,
              "#46039f"
             ],
             [
              0.2222222222222222,
              "#7201a8"
             ],
             [
              0.3333333333333333,
              "#9c179e"
             ],
             [
              0.4444444444444444,
              "#bd3786"
             ],
             [
              0.5555555555555556,
              "#d8576b"
             ],
             [
              0.6666666666666666,
              "#ed7953"
             ],
             [
              0.7777777777777778,
              "#fb9f3a"
             ],
             [
              0.8888888888888888,
              "#fdca26"
             ],
             [
              1,
              "#f0f921"
             ]
            ],
            "type": "surface"
           }
          ],
          "table": [
           {
            "cells": {
             "fill": {
              "color": "#EBF0F8"
             },
             "line": {
              "color": "white"
             }
            },
            "header": {
             "fill": {
              "color": "#C8D4E3"
             },
             "line": {
              "color": "white"
             }
            },
            "type": "table"
           }
          ]
         },
         "layout": {
          "annotationdefaults": {
           "arrowcolor": "#2a3f5f",
           "arrowhead": 0,
           "arrowwidth": 1
          },
          "autotypenumbers": "strict",
          "coloraxis": {
           "colorbar": {
            "outlinewidth": 0,
            "ticks": ""
           }
          },
          "colorscale": {
           "diverging": [
            [
             0,
             "#8e0152"
            ],
            [
             0.1,
             "#c51b7d"
            ],
            [
             0.2,
             "#de77ae"
            ],
            [
             0.3,
             "#f1b6da"
            ],
            [
             0.4,
             "#fde0ef"
            ],
            [
             0.5,
             "#f7f7f7"
            ],
            [
             0.6,
             "#e6f5d0"
            ],
            [
             0.7,
             "#b8e186"
            ],
            [
             0.8,
             "#7fbc41"
            ],
            [
             0.9,
             "#4d9221"
            ],
            [
             1,
             "#276419"
            ]
           ],
           "sequential": [
            [
             0,
             "#0d0887"
            ],
            [
             0.1111111111111111,
             "#46039f"
            ],
            [
             0.2222222222222222,
             "#7201a8"
            ],
            [
             0.3333333333333333,
             "#9c179e"
            ],
            [
             0.4444444444444444,
             "#bd3786"
            ],
            [
             0.5555555555555556,
             "#d8576b"
            ],
            [
             0.6666666666666666,
             "#ed7953"
            ],
            [
             0.7777777777777778,
             "#fb9f3a"
            ],
            [
             0.8888888888888888,
             "#fdca26"
            ],
            [
             1,
             "#f0f921"
            ]
           ],
           "sequentialminus": [
            [
             0,
             "#0d0887"
            ],
            [
             0.1111111111111111,
             "#46039f"
            ],
            [
             0.2222222222222222,
             "#7201a8"
            ],
            [
             0.3333333333333333,
             "#9c179e"
            ],
            [
             0.4444444444444444,
             "#bd3786"
            ],
            [
             0.5555555555555556,
             "#d8576b"
            ],
            [
             0.6666666666666666,
             "#ed7953"
            ],
            [
             0.7777777777777778,
             "#fb9f3a"
            ],
            [
             0.8888888888888888,
             "#fdca26"
            ],
            [
             1,
             "#f0f921"
            ]
           ]
          },
          "colorway": [
           "#636efa",
           "#EF553B",
           "#00cc96",
           "#ab63fa",
           "#FFA15A",
           "#19d3f3",
           "#FF6692",
           "#B6E880",
           "#FF97FF",
           "#FECB52"
          ],
          "font": {
           "color": "#2a3f5f"
          },
          "geo": {
           "bgcolor": "white",
           "lakecolor": "white",
           "landcolor": "#E5ECF6",
           "showlakes": true,
           "showland": true,
           "subunitcolor": "white"
          },
          "hoverlabel": {
           "align": "left"
          },
          "hovermode": "closest",
          "mapbox": {
           "style": "light"
          },
          "paper_bgcolor": "white",
          "plot_bgcolor": "#E5ECF6",
          "polar": {
           "angularaxis": {
            "gridcolor": "white",
            "linecolor": "white",
            "ticks": ""
           },
           "bgcolor": "#E5ECF6",
           "radialaxis": {
            "gridcolor": "white",
            "linecolor": "white",
            "ticks": ""
           }
          },
          "scene": {
           "xaxis": {
            "backgroundcolor": "#E5ECF6",
            "gridcolor": "white",
            "gridwidth": 2,
            "linecolor": "white",
            "showbackground": true,
            "ticks": "",
            "zerolinecolor": "white"
           },
           "yaxis": {
            "backgroundcolor": "#E5ECF6",
            "gridcolor": "white",
            "gridwidth": 2,
            "linecolor": "white",
            "showbackground": true,
            "ticks": "",
            "zerolinecolor": "white"
           },
           "zaxis": {
            "backgroundcolor": "#E5ECF6",
            "gridcolor": "white",
            "gridwidth": 2,
            "linecolor": "white",
            "showbackground": true,
            "ticks": "",
            "zerolinecolor": "white"
           }
          },
          "shapedefaults": {
           "line": {
            "color": "#2a3f5f"
           }
          },
          "ternary": {
           "aaxis": {
            "gridcolor": "white",
            "linecolor": "white",
            "ticks": ""
           },
           "baxis": {
            "gridcolor": "white",
            "linecolor": "white",
            "ticks": ""
           },
           "bgcolor": "#E5ECF6",
           "caxis": {
            "gridcolor": "white",
            "linecolor": "white",
            "ticks": ""
           }
          },
          "title": {
           "x": 0.05
          },
          "xaxis": {
           "automargin": true,
           "gridcolor": "white",
           "linecolor": "white",
           "ticks": "",
           "title": {
            "standoff": 15
           },
           "zerolinecolor": "white",
           "zerolinewidth": 2
          },
          "yaxis": {
           "automargin": true,
           "gridcolor": "white",
           "linecolor": "white",
           "ticks": "",
           "title": {
            "standoff": 15
           },
           "zerolinecolor": "white",
           "zerolinewidth": 2
          }
         }
        },
        "xaxis": {
         "anchor": "y",
         "domain": [
          0,
          1
         ],
         "title": {
          "text": "NOME_MES_PARTIDA_PREVISTA"
         }
        },
        "yaxis": {
         "anchor": "x",
         "domain": [
          0,
          1
         ],
         "title": {
          "text": "TOTAL_VOOS"
         }
        }
       }
      }
     },
     "metadata": {},
     "output_type": "display_data"
    }
   ],
   "source": [
    "fig = px.bar(\n",
    "    teste_gb, \n",
    "    x='NOME_MES_PARTIDA_PREVISTA', \n",
    "    y='TOTAL_VOOS', \n",
    "    text_auto='0',\n",
    ")\n",
    "fig.update_traces(\n",
    "    textposition='outside'\n",
    ")\n",
    "fig.show()"
   ]
  },
  {
   "cell_type": "markdown",
   "metadata": {},
   "source": [
    "- Analise da variação percentual da SITUAÇÂO voo Filtrando por Aerporto origem por mês (deixe filtro facultativo por empresa)"
   ]
  },
  {
   "cell_type": "code",
   "execution_count": 54,
   "metadata": {},
   "outputs": [
    {
     "data": {
      "text/plain": [
       "Index(['NOME_AEROPORTO_ORIGEM', 'CIDADE_AEROPORTO_ORIGEM',\n",
       "       'UF_AEROPORTO_ORIGEM', 'SIGLA_ICAO_EMPRESA_AEREA', 'NUMERO_VOO',\n",
       "       'CODIGO_TIPO_LINHA', 'SIGLA_ICAO_AEROPORTO_ORIGEM',\n",
       "       'SIGLA_ICAO_AEROPORTO_DESTINO', 'PARTIDA_PREVISTA', 'PARTIDA_REAL',\n",
       "       'CHEGADA_PREVISTA', 'CHEGADA_REAL', 'SITUACAO_VOO', 'SIGLA_OACI',\n",
       "       'NOME_AEROPORTO_DESTINO', 'CIDADE_AEROPORTO_DESTINO',\n",
       "       'UF_AEROPORTO_DESTINO', 'NOME_EMPRESA', 'MES_PARTIDA_PREVISTA',\n",
       "       'NOME_MES_PARTIDA_PREVISTA', 'MES_PARTIDA_REAL',\n",
       "       'NOME_MES_PARTIDA_REAL', 'MES_CHEGADA_PREVISTA',\n",
       "       'NOME_MES_CHEGADA_PREVISTA', 'MES_CHEGADA_REAL',\n",
       "       'NOME_MES_CHEGADA_REAL', 'MINUTOS_ATRASADO_PARTIDA',\n",
       "       'MINUTOS_ATRASADO_CHEGADA', 'DIA_DA_SEMANA_PARTIDA_PREVISTA',\n",
       "       'INDICE_SEMANA_PARTIDA_PREVISTA', 'DIA_DA_SEMANA_PARTIDA_REAL',\n",
       "       'INDICE_SEMANA_PARTIDA_REAL', 'DIA_DA_SEMANA_CHEGADA_REAL',\n",
       "       'DIA_DA_SEMANA_CHEGADA_PREVISTA', 'INDICE_SEMANA_CHEGADA_REAL',\n",
       "       'INDICE_SEMANA_CHEGADA_PREVISTA', 'FAIXA_ATRASO_PARTIDA',\n",
       "       'FAIXA_ATRASO_CHEGADA'],\n",
       "      dtype='object')"
      ]
     },
     "execution_count": 54,
     "metadata": {},
     "output_type": "execute_result"
    }
   ],
   "source": [
    "base.columns"
   ]
  },
  {
   "cell_type": "code",
   "execution_count": 65,
   "metadata": {},
   "outputs": [],
   "source": [
    "colunas = [\n",
    "    'SITUACAO_VOO',\n",
    "    'MES_PARTIDA_PREVISTA',\n",
    "    'NOME_MES_PARTIDA_PREVISTA',\n",
    "    'SIGLA_ICAO_AEROPORTO_ORIGEM',\n",
    "    'NOME_AEROPORTO_ORIGEM',\n",
    "]\n",
    "teste = pd.read_parquet('../data/processed/df_final.parquet', columns=colunas)"
   ]
  },
  {
   "cell_type": "code",
   "execution_count": 66,
   "metadata": {},
   "outputs": [
    {
     "name": "stdout",
     "output_type": "stream",
     "text": [
      "<class 'pandas.core.frame.DataFrame'>\n",
      "RangeIndex: 717357 entries, 0 to 717356\n",
      "Data columns (total 5 columns):\n",
      " #   Column                       Non-Null Count   Dtype   \n",
      "---  ------                       --------------   -----   \n",
      " 0   SITUACAO_VOO                 717357 non-null  category\n",
      " 1   MES_PARTIDA_PREVISTA         717357 non-null  int32   \n",
      " 2   NOME_MES_PARTIDA_PREVISTA    717357 non-null  category\n",
      " 3   SIGLA_ICAO_AEROPORTO_ORIGEM  717357 non-null  string  \n",
      " 4   NOME_AEROPORTO_ORIGEM        717357 non-null  string  \n",
      "dtypes: category(2), int32(1), string(2)\n",
      "memory usage: 15.1 MB\n"
     ]
    }
   ],
   "source": [
    "teste.info()"
   ]
  },
  {
   "cell_type": "code",
   "execution_count": 67,
   "metadata": {},
   "outputs": [
    {
     "data": {
      "text/html": [
       "<div>\n",
       "<style scoped>\n",
       "    .dataframe tbody tr th:only-of-type {\n",
       "        vertical-align: middle;\n",
       "    }\n",
       "\n",
       "    .dataframe tbody tr th {\n",
       "        vertical-align: top;\n",
       "    }\n",
       "\n",
       "    .dataframe thead th {\n",
       "        text-align: right;\n",
       "    }\n",
       "</style>\n",
       "<table border=\"1\" class=\"dataframe\">\n",
       "  <thead>\n",
       "    <tr style=\"text-align: right;\">\n",
       "      <th></th>\n",
       "      <th>SITUACAO_VOO</th>\n",
       "      <th>MES_PARTIDA_PREVISTA</th>\n",
       "      <th>NOME_MES_PARTIDA_PREVISTA</th>\n",
       "      <th>SIGLA_ICAO_AEROPORTO_ORIGEM</th>\n",
       "      <th>NOME_AEROPORTO_ORIGEM</th>\n",
       "    </tr>\n",
       "  </thead>\n",
       "  <tbody>\n",
       "    <tr>\n",
       "      <th>0</th>\n",
       "      <td>REALIZADO</td>\n",
       "      <td>1</td>\n",
       "      <td>janeiro</td>\n",
       "      <td>SBAE</td>\n",
       "      <td>BAURU/AREALVA</td>\n",
       "    </tr>\n",
       "    <tr>\n",
       "      <th>1</th>\n",
       "      <td>REALIZADO</td>\n",
       "      <td>1</td>\n",
       "      <td>janeiro</td>\n",
       "      <td>SBAE</td>\n",
       "      <td>BAURU/AREALVA</td>\n",
       "    </tr>\n",
       "    <tr>\n",
       "      <th>2</th>\n",
       "      <td>REALIZADO</td>\n",
       "      <td>1</td>\n",
       "      <td>janeiro</td>\n",
       "      <td>SBAE</td>\n",
       "      <td>BAURU/AREALVA</td>\n",
       "    </tr>\n",
       "    <tr>\n",
       "      <th>3</th>\n",
       "      <td>REALIZADO</td>\n",
       "      <td>1</td>\n",
       "      <td>janeiro</td>\n",
       "      <td>SBAE</td>\n",
       "      <td>BAURU/AREALVA</td>\n",
       "    </tr>\n",
       "    <tr>\n",
       "      <th>4</th>\n",
       "      <td>REALIZADO</td>\n",
       "      <td>2</td>\n",
       "      <td>fevereiro</td>\n",
       "      <td>SBAE</td>\n",
       "      <td>BAURU/AREALVA</td>\n",
       "    </tr>\n",
       "  </tbody>\n",
       "</table>\n",
       "</div>"
      ],
      "text/plain": [
       "  SITUACAO_VOO  MES_PARTIDA_PREVISTA NOME_MES_PARTIDA_PREVISTA  \\\n",
       "0    REALIZADO                     1                   janeiro   \n",
       "1    REALIZADO                     1                   janeiro   \n",
       "2    REALIZADO                     1                   janeiro   \n",
       "3    REALIZADO                     1                   janeiro   \n",
       "4    REALIZADO                     2                 fevereiro   \n",
       "\n",
       "  SIGLA_ICAO_AEROPORTO_ORIGEM NOME_AEROPORTO_ORIGEM  \n",
       "0                        SBAE         BAURU/AREALVA  \n",
       "1                        SBAE         BAURU/AREALVA  \n",
       "2                        SBAE         BAURU/AREALVA  \n",
       "3                        SBAE         BAURU/AREALVA  \n",
       "4                        SBAE         BAURU/AREALVA  "
      ]
     },
     "execution_count": 67,
     "metadata": {},
     "output_type": "execute_result"
    }
   ],
   "source": [
    "teste.head()"
   ]
  },
  {
   "cell_type": "code",
   "execution_count": 68,
   "metadata": {},
   "outputs": [
    {
     "name": "stdout",
     "output_type": "stream",
     "text": [
      "<class 'pandas.core.frame.DataFrame'>\n",
      "RangeIndex: 717357 entries, 0 to 717356\n",
      "Data columns (total 5 columns):\n",
      " #   Column                       Non-Null Count   Dtype   \n",
      "---  ------                       --------------   -----   \n",
      " 0   SITUACAO_VOO                 717357 non-null  category\n",
      " 1   MES_PARTIDA_PREVISTA         717357 non-null  int32   \n",
      " 2   NOME_MES_PARTIDA_PREVISTA    717357 non-null  category\n",
      " 3   SIGLA_ICAO_AEROPORTO_ORIGEM  717357 non-null  string  \n",
      " 4   NOME_AEROPORTO_ORIGEM        717357 non-null  string  \n",
      "dtypes: category(2), int32(1), string(2)\n",
      "memory usage: 15.1 MB\n"
     ]
    }
   ],
   "source": [
    "teste.info()"
   ]
  },
  {
   "cell_type": "code",
   "execution_count": 69,
   "metadata": {},
   "outputs": [],
   "source": [
    "teste[['SITUACAO_VOO', 'NOME_MES_PARTIDA_PREVISTA']] = teste[['SITUACAO_VOO', 'NOME_MES_PARTIDA_PREVISTA']].astype('string')"
   ]
  },
  {
   "cell_type": "code",
   "execution_count": 70,
   "metadata": {},
   "outputs": [
    {
     "data": {
      "text/html": [
       "<div>\n",
       "<style scoped>\n",
       "    .dataframe tbody tr th:only-of-type {\n",
       "        vertical-align: middle;\n",
       "    }\n",
       "\n",
       "    .dataframe tbody tr th {\n",
       "        vertical-align: top;\n",
       "    }\n",
       "\n",
       "    .dataframe thead th {\n",
       "        text-align: right;\n",
       "    }\n",
       "</style>\n",
       "<table border=\"1\" class=\"dataframe\">\n",
       "  <thead>\n",
       "    <tr style=\"text-align: right;\">\n",
       "      <th></th>\n",
       "      <th>SITUACAO_VOO</th>\n",
       "      <th>MES_PARTIDA_PREVISTA</th>\n",
       "      <th>NOME_MES_PARTIDA_PREVISTA</th>\n",
       "      <th>SIGLA_ICAO_AEROPORTO_ORIGEM</th>\n",
       "      <th>NOME_AEROPORTO_ORIGEM</th>\n",
       "    </tr>\n",
       "  </thead>\n",
       "  <tbody>\n",
       "    <tr>\n",
       "      <th>1929</th>\n",
       "      <td>REALIZADO</td>\n",
       "      <td>1</td>\n",
       "      <td>janeiro</td>\n",
       "      <td>SBRP</td>\n",
       "      <td>LEITE LOPES</td>\n",
       "    </tr>\n",
       "    <tr>\n",
       "      <th>1930</th>\n",
       "      <td>REALIZADO</td>\n",
       "      <td>1</td>\n",
       "      <td>janeiro</td>\n",
       "      <td>SBRP</td>\n",
       "      <td>LEITE LOPES</td>\n",
       "    </tr>\n",
       "    <tr>\n",
       "      <th>1931</th>\n",
       "      <td>REALIZADO</td>\n",
       "      <td>1</td>\n",
       "      <td>janeiro</td>\n",
       "      <td>SBRP</td>\n",
       "      <td>LEITE LOPES</td>\n",
       "    </tr>\n",
       "    <tr>\n",
       "      <th>1932</th>\n",
       "      <td>REALIZADO</td>\n",
       "      <td>1</td>\n",
       "      <td>janeiro</td>\n",
       "      <td>SBRP</td>\n",
       "      <td>LEITE LOPES</td>\n",
       "    </tr>\n",
       "    <tr>\n",
       "      <th>1933</th>\n",
       "      <td>REALIZADO</td>\n",
       "      <td>1</td>\n",
       "      <td>janeiro</td>\n",
       "      <td>SBRP</td>\n",
       "      <td>LEITE LOPES</td>\n",
       "    </tr>\n",
       "    <tr>\n",
       "      <th>...</th>\n",
       "      <td>...</td>\n",
       "      <td>...</td>\n",
       "      <td>...</td>\n",
       "      <td>...</td>\n",
       "      <td>...</td>\n",
       "    </tr>\n",
       "    <tr>\n",
       "      <th>707275</th>\n",
       "      <td>REALIZADO</td>\n",
       "      <td>1</td>\n",
       "      <td>janeiro</td>\n",
       "      <td>SBRP</td>\n",
       "      <td>LEITE LOPES</td>\n",
       "    </tr>\n",
       "    <tr>\n",
       "      <th>707479</th>\n",
       "      <td>REALIZADO</td>\n",
       "      <td>1</td>\n",
       "      <td>janeiro</td>\n",
       "      <td>SBRP</td>\n",
       "      <td>LEITE LOPES</td>\n",
       "    </tr>\n",
       "    <tr>\n",
       "      <th>707480</th>\n",
       "      <td>REALIZADO</td>\n",
       "      <td>1</td>\n",
       "      <td>janeiro</td>\n",
       "      <td>SBRP</td>\n",
       "      <td>LEITE LOPES</td>\n",
       "    </tr>\n",
       "    <tr>\n",
       "      <th>707481</th>\n",
       "      <td>REALIZADO</td>\n",
       "      <td>1</td>\n",
       "      <td>janeiro</td>\n",
       "      <td>SBRP</td>\n",
       "      <td>LEITE LOPES</td>\n",
       "    </tr>\n",
       "    <tr>\n",
       "      <th>710551</th>\n",
       "      <td>REALIZADO</td>\n",
       "      <td>1</td>\n",
       "      <td>janeiro</td>\n",
       "      <td>SBRP</td>\n",
       "      <td>LEITE LOPES</td>\n",
       "    </tr>\n",
       "  </tbody>\n",
       "</table>\n",
       "<p>4955 rows × 5 columns</p>\n",
       "</div>"
      ],
      "text/plain": [
       "       SITUACAO_VOO  MES_PARTIDA_PREVISTA NOME_MES_PARTIDA_PREVISTA  \\\n",
       "1929      REALIZADO                     1                   janeiro   \n",
       "1930      REALIZADO                     1                   janeiro   \n",
       "1931      REALIZADO                     1                   janeiro   \n",
       "1932      REALIZADO                     1                   janeiro   \n",
       "1933      REALIZADO                     1                   janeiro   \n",
       "...             ...                   ...                       ...   \n",
       "707275    REALIZADO                     1                   janeiro   \n",
       "707479    REALIZADO                     1                   janeiro   \n",
       "707480    REALIZADO                     1                   janeiro   \n",
       "707481    REALIZADO                     1                   janeiro   \n",
       "710551    REALIZADO                     1                   janeiro   \n",
       "\n",
       "       SIGLA_ICAO_AEROPORTO_ORIGEM NOME_AEROPORTO_ORIGEM  \n",
       "1929                          SBRP           LEITE LOPES  \n",
       "1930                          SBRP           LEITE LOPES  \n",
       "1931                          SBRP           LEITE LOPES  \n",
       "1932                          SBRP           LEITE LOPES  \n",
       "1933                          SBRP           LEITE LOPES  \n",
       "...                            ...                   ...  \n",
       "707275                        SBRP           LEITE LOPES  \n",
       "707479                        SBRP           LEITE LOPES  \n",
       "707480                        SBRP           LEITE LOPES  \n",
       "707481                        SBRP           LEITE LOPES  \n",
       "710551                        SBRP           LEITE LOPES  \n",
       "\n",
       "[4955 rows x 5 columns]"
      ]
     },
     "execution_count": 70,
     "metadata": {},
     "output_type": "execute_result"
    }
   ],
   "source": [
    "teste = teste.query('SIGLA_ICAO_AEROPORTO_ORIGEM == \"SBRP\"')\n",
    "teste"
   ]
  },
  {
   "cell_type": "code",
   "execution_count": 71,
   "metadata": {},
   "outputs": [],
   "source": [
    "teste_gb =teste.groupby(['NOME_MES_PARTIDA_PREVISTA', 'SITUACAO_VOO', 'MES_PARTIDA_PREVISTA']).agg(\n",
    "    TOTAL_VOOS=('SITUACAO_VOO', 'count')\n",
    ")\n",
    "\n",
    "teste_gb.reset_index(inplace=True)\n",
    "teste_gb.sort_values(by=['MES_PARTIDA_PREVISTA'], inplace=True)\n",
    "teste_gb['TOTAL_VOOS'] = teste_gb['TOTAL_VOOS'].astype('int32')"
   ]
  },
  {
   "cell_type": "code",
   "execution_count": 72,
   "metadata": {},
   "outputs": [
    {
     "name": "stdout",
     "output_type": "stream",
     "text": [
      "<class 'pandas.core.frame.DataFrame'>\n",
      "Index: 24 entries, 8 to 4\n",
      "Data columns (total 4 columns):\n",
      " #   Column                     Non-Null Count  Dtype \n",
      "---  ------                     --------------  ----- \n",
      " 0   NOME_MES_PARTIDA_PREVISTA  24 non-null     string\n",
      " 1   SITUACAO_VOO               24 non-null     string\n",
      " 2   MES_PARTIDA_PREVISTA       24 non-null     int32 \n",
      " 3   TOTAL_VOOS                 24 non-null     int32 \n",
      "dtypes: int32(2), string(2)\n",
      "memory usage: 768.0 bytes\n"
     ]
    }
   ],
   "source": [
    "teste_gb.info()"
   ]
  },
  {
   "cell_type": "code",
   "execution_count": 73,
   "metadata": {},
   "outputs": [
    {
     "data": {
      "text/html": [
       "<div>\n",
       "<style scoped>\n",
       "    .dataframe tbody tr th:only-of-type {\n",
       "        vertical-align: middle;\n",
       "    }\n",
       "\n",
       "    .dataframe tbody tr th {\n",
       "        vertical-align: top;\n",
       "    }\n",
       "\n",
       "    .dataframe thead th {\n",
       "        text-align: right;\n",
       "    }\n",
       "</style>\n",
       "<table border=\"1\" class=\"dataframe\">\n",
       "  <thead>\n",
       "    <tr style=\"text-align: right;\">\n",
       "      <th></th>\n",
       "      <th>NOME_MES_PARTIDA_PREVISTA</th>\n",
       "      <th>SITUACAO_VOO</th>\n",
       "      <th>MES_PARTIDA_PREVISTA</th>\n",
       "      <th>TOTAL_VOOS</th>\n",
       "    </tr>\n",
       "  </thead>\n",
       "  <tbody>\n",
       "    <tr>\n",
       "      <th>8</th>\n",
       "      <td>janeiro</td>\n",
       "      <td>CANCELADO</td>\n",
       "      <td>1</td>\n",
       "      <td>21</td>\n",
       "    </tr>\n",
       "    <tr>\n",
       "      <th>9</th>\n",
       "      <td>janeiro</td>\n",
       "      <td>REALIZADO</td>\n",
       "      <td>1</td>\n",
       "      <td>584</td>\n",
       "    </tr>\n",
       "    <tr>\n",
       "      <th>6</th>\n",
       "      <td>fevereiro</td>\n",
       "      <td>CANCELADO</td>\n",
       "      <td>2</td>\n",
       "      <td>18</td>\n",
       "    </tr>\n",
       "    <tr>\n",
       "      <th>7</th>\n",
       "      <td>fevereiro</td>\n",
       "      <td>REALIZADO</td>\n",
       "      <td>2</td>\n",
       "      <td>249</td>\n",
       "    </tr>\n",
       "    <tr>\n",
       "      <th>17</th>\n",
       "      <td>março</td>\n",
       "      <td>REALIZADO</td>\n",
       "      <td>3</td>\n",
       "      <td>345</td>\n",
       "    </tr>\n",
       "    <tr>\n",
       "      <th>16</th>\n",
       "      <td>março</td>\n",
       "      <td>CANCELADO</td>\n",
       "      <td>3</td>\n",
       "      <td>16</td>\n",
       "    </tr>\n",
       "    <tr>\n",
       "      <th>0</th>\n",
       "      <td>abril</td>\n",
       "      <td>CANCELADO</td>\n",
       "      <td>4</td>\n",
       "      <td>3</td>\n",
       "    </tr>\n",
       "    <tr>\n",
       "      <th>1</th>\n",
       "      <td>abril</td>\n",
       "      <td>REALIZADO</td>\n",
       "      <td>4</td>\n",
       "      <td>381</td>\n",
       "    </tr>\n",
       "    <tr>\n",
       "      <th>15</th>\n",
       "      <td>maio</td>\n",
       "      <td>REALIZADO</td>\n",
       "      <td>5</td>\n",
       "      <td>433</td>\n",
       "    </tr>\n",
       "    <tr>\n",
       "      <th>14</th>\n",
       "      <td>maio</td>\n",
       "      <td>CANCELADO</td>\n",
       "      <td>5</td>\n",
       "      <td>14</td>\n",
       "    </tr>\n",
       "    <tr>\n",
       "      <th>13</th>\n",
       "      <td>junho</td>\n",
       "      <td>REALIZADO</td>\n",
       "      <td>6</td>\n",
       "      <td>387</td>\n",
       "    </tr>\n",
       "    <tr>\n",
       "      <th>12</th>\n",
       "      <td>junho</td>\n",
       "      <td>CANCELADO</td>\n",
       "      <td>6</td>\n",
       "      <td>15</td>\n",
       "    </tr>\n",
       "    <tr>\n",
       "      <th>11</th>\n",
       "      <td>julho</td>\n",
       "      <td>REALIZADO</td>\n",
       "      <td>7</td>\n",
       "      <td>250</td>\n",
       "    </tr>\n",
       "    <tr>\n",
       "      <th>10</th>\n",
       "      <td>julho</td>\n",
       "      <td>CANCELADO</td>\n",
       "      <td>7</td>\n",
       "      <td>181</td>\n",
       "    </tr>\n",
       "    <tr>\n",
       "      <th>3</th>\n",
       "      <td>agosto</td>\n",
       "      <td>REALIZADO</td>\n",
       "      <td>8</td>\n",
       "      <td>409</td>\n",
       "    </tr>\n",
       "    <tr>\n",
       "      <th>2</th>\n",
       "      <td>agosto</td>\n",
       "      <td>CANCELADO</td>\n",
       "      <td>8</td>\n",
       "      <td>12</td>\n",
       "    </tr>\n",
       "    <tr>\n",
       "      <th>22</th>\n",
       "      <td>setembro</td>\n",
       "      <td>CANCELADO</td>\n",
       "      <td>9</td>\n",
       "      <td>54</td>\n",
       "    </tr>\n",
       "    <tr>\n",
       "      <th>23</th>\n",
       "      <td>setembro</td>\n",
       "      <td>REALIZADO</td>\n",
       "      <td>9</td>\n",
       "      <td>368</td>\n",
       "    </tr>\n",
       "    <tr>\n",
       "      <th>20</th>\n",
       "      <td>outubro</td>\n",
       "      <td>CANCELADO</td>\n",
       "      <td>10</td>\n",
       "      <td>40</td>\n",
       "    </tr>\n",
       "    <tr>\n",
       "      <th>21</th>\n",
       "      <td>outubro</td>\n",
       "      <td>REALIZADO</td>\n",
       "      <td>10</td>\n",
       "      <td>375</td>\n",
       "    </tr>\n",
       "    <tr>\n",
       "      <th>18</th>\n",
       "      <td>novembro</td>\n",
       "      <td>CANCELADO</td>\n",
       "      <td>11</td>\n",
       "      <td>30</td>\n",
       "    </tr>\n",
       "    <tr>\n",
       "      <th>19</th>\n",
       "      <td>novembro</td>\n",
       "      <td>REALIZADO</td>\n",
       "      <td>11</td>\n",
       "      <td>357</td>\n",
       "    </tr>\n",
       "    <tr>\n",
       "      <th>5</th>\n",
       "      <td>dezembro</td>\n",
       "      <td>REALIZADO</td>\n",
       "      <td>12</td>\n",
       "      <td>384</td>\n",
       "    </tr>\n",
       "    <tr>\n",
       "      <th>4</th>\n",
       "      <td>dezembro</td>\n",
       "      <td>CANCELADO</td>\n",
       "      <td>12</td>\n",
       "      <td>29</td>\n",
       "    </tr>\n",
       "  </tbody>\n",
       "</table>\n",
       "</div>"
      ],
      "text/plain": [
       "   NOME_MES_PARTIDA_PREVISTA SITUACAO_VOO  MES_PARTIDA_PREVISTA  TOTAL_VOOS\n",
       "8                    janeiro    CANCELADO                     1          21\n",
       "9                    janeiro    REALIZADO                     1         584\n",
       "6                  fevereiro    CANCELADO                     2          18\n",
       "7                  fevereiro    REALIZADO                     2         249\n",
       "17                     março    REALIZADO                     3         345\n",
       "16                     março    CANCELADO                     3          16\n",
       "0                      abril    CANCELADO                     4           3\n",
       "1                      abril    REALIZADO                     4         381\n",
       "15                      maio    REALIZADO                     5         433\n",
       "14                      maio    CANCELADO                     5          14\n",
       "13                     junho    REALIZADO                     6         387\n",
       "12                     junho    CANCELADO                     6          15\n",
       "11                     julho    REALIZADO                     7         250\n",
       "10                     julho    CANCELADO                     7         181\n",
       "3                     agosto    REALIZADO                     8         409\n",
       "2                     agosto    CANCELADO                     8          12\n",
       "22                  setembro    CANCELADO                     9          54\n",
       "23                  setembro    REALIZADO                     9         368\n",
       "20                   outubro    CANCELADO                    10          40\n",
       "21                   outubro    REALIZADO                    10         375\n",
       "18                  novembro    CANCELADO                    11          30\n",
       "19                  novembro    REALIZADO                    11         357\n",
       "5                   dezembro    REALIZADO                    12         384\n",
       "4                   dezembro    CANCELADO                    12          29"
      ]
     },
     "execution_count": 73,
     "metadata": {},
     "output_type": "execute_result"
    }
   ],
   "source": [
    "teste_gb"
   ]
  },
  {
   "cell_type": "code",
   "execution_count": 77,
   "metadata": {},
   "outputs": [
    {
     "data": {
      "application/vnd.plotly.v1+json": {
       "config": {
        "plotlyServerURL": "https://plot.ly"
       },
       "data": [
        {
         "alignmentgroup": "True",
         "hovertemplate": "SITUACAO_VOO=CANCELADO<br>NOME_MES_PARTIDA_PREVISTA=%{x}<br>TOTAL_VOOS=%{y}<extra></extra>",
         "legendgroup": "CANCELADO",
         "marker": {
          "color": "#636efa",
          "pattern": {
           "shape": ""
          }
         },
         "name": "CANCELADO",
         "offsetgroup": "CANCELADO",
         "orientation": "v",
         "showlegend": true,
         "textposition": "outside",
         "texttemplate": "%{y}",
         "type": "bar",
         "x": [
          "janeiro",
          "fevereiro",
          "março",
          "abril",
          "maio",
          "junho",
          "julho",
          "agosto",
          "setembro",
          "outubro",
          "novembro",
          "dezembro"
         ],
         "xaxis": "x",
         "y": [
          21,
          18,
          16,
          3,
          14,
          15,
          181,
          12,
          54,
          40,
          30,
          29
         ],
         "yaxis": "y"
        },
        {
         "alignmentgroup": "True",
         "hovertemplate": "SITUACAO_VOO=REALIZADO<br>NOME_MES_PARTIDA_PREVISTA=%{x}<br>TOTAL_VOOS=%{y}<extra></extra>",
         "legendgroup": "REALIZADO",
         "marker": {
          "color": "#EF553B",
          "pattern": {
           "shape": ""
          }
         },
         "name": "REALIZADO",
         "offsetgroup": "REALIZADO",
         "orientation": "v",
         "showlegend": true,
         "textposition": "outside",
         "texttemplate": "%{y}",
         "type": "bar",
         "x": [
          "janeiro",
          "fevereiro",
          "março",
          "abril",
          "maio",
          "junho",
          "julho",
          "agosto",
          "setembro",
          "outubro",
          "novembro",
          "dezembro"
         ],
         "xaxis": "x",
         "y": [
          584,
          249,
          345,
          381,
          433,
          387,
          250,
          409,
          368,
          375,
          357,
          384
         ],
         "yaxis": "y"
        }
       ],
       "layout": {
        "barmode": "group",
        "legend": {
         "title": {
          "text": "SITUACAO_VOO"
         },
         "tracegroupgap": 0
        },
        "margin": {
         "t": 60
        },
        "template": {
         "data": {
          "bar": [
           {
            "error_x": {
             "color": "#2a3f5f"
            },
            "error_y": {
             "color": "#2a3f5f"
            },
            "marker": {
             "line": {
              "color": "#E5ECF6",
              "width": 0.5
             },
             "pattern": {
              "fillmode": "overlay",
              "size": 10,
              "solidity": 0.2
             }
            },
            "type": "bar"
           }
          ],
          "barpolar": [
           {
            "marker": {
             "line": {
              "color": "#E5ECF6",
              "width": 0.5
             },
             "pattern": {
              "fillmode": "overlay",
              "size": 10,
              "solidity": 0.2
             }
            },
            "type": "barpolar"
           }
          ],
          "carpet": [
           {
            "aaxis": {
             "endlinecolor": "#2a3f5f",
             "gridcolor": "white",
             "linecolor": "white",
             "minorgridcolor": "white",
             "startlinecolor": "#2a3f5f"
            },
            "baxis": {
             "endlinecolor": "#2a3f5f",
             "gridcolor": "white",
             "linecolor": "white",
             "minorgridcolor": "white",
             "startlinecolor": "#2a3f5f"
            },
            "type": "carpet"
           }
          ],
          "choropleth": [
           {
            "colorbar": {
             "outlinewidth": 0,
             "ticks": ""
            },
            "type": "choropleth"
           }
          ],
          "contour": [
           {
            "colorbar": {
             "outlinewidth": 0,
             "ticks": ""
            },
            "colorscale": [
             [
              0,
              "#0d0887"
             ],
             [
              0.1111111111111111,
              "#46039f"
             ],
             [
              0.2222222222222222,
              "#7201a8"
             ],
             [
              0.3333333333333333,
              "#9c179e"
             ],
             [
              0.4444444444444444,
              "#bd3786"
             ],
             [
              0.5555555555555556,
              "#d8576b"
             ],
             [
              0.6666666666666666,
              "#ed7953"
             ],
             [
              0.7777777777777778,
              "#fb9f3a"
             ],
             [
              0.8888888888888888,
              "#fdca26"
             ],
             [
              1,
              "#f0f921"
             ]
            ],
            "type": "contour"
           }
          ],
          "contourcarpet": [
           {
            "colorbar": {
             "outlinewidth": 0,
             "ticks": ""
            },
            "type": "contourcarpet"
           }
          ],
          "heatmap": [
           {
            "colorbar": {
             "outlinewidth": 0,
             "ticks": ""
            },
            "colorscale": [
             [
              0,
              "#0d0887"
             ],
             [
              0.1111111111111111,
              "#46039f"
             ],
             [
              0.2222222222222222,
              "#7201a8"
             ],
             [
              0.3333333333333333,
              "#9c179e"
             ],
             [
              0.4444444444444444,
              "#bd3786"
             ],
             [
              0.5555555555555556,
              "#d8576b"
             ],
             [
              0.6666666666666666,
              "#ed7953"
             ],
             [
              0.7777777777777778,
              "#fb9f3a"
             ],
             [
              0.8888888888888888,
              "#fdca26"
             ],
             [
              1,
              "#f0f921"
             ]
            ],
            "type": "heatmap"
           }
          ],
          "heatmapgl": [
           {
            "colorbar": {
             "outlinewidth": 0,
             "ticks": ""
            },
            "colorscale": [
             [
              0,
              "#0d0887"
             ],
             [
              0.1111111111111111,
              "#46039f"
             ],
             [
              0.2222222222222222,
              "#7201a8"
             ],
             [
              0.3333333333333333,
              "#9c179e"
             ],
             [
              0.4444444444444444,
              "#bd3786"
             ],
             [
              0.5555555555555556,
              "#d8576b"
             ],
             [
              0.6666666666666666,
              "#ed7953"
             ],
             [
              0.7777777777777778,
              "#fb9f3a"
             ],
             [
              0.8888888888888888,
              "#fdca26"
             ],
             [
              1,
              "#f0f921"
             ]
            ],
            "type": "heatmapgl"
           }
          ],
          "histogram": [
           {
            "marker": {
             "pattern": {
              "fillmode": "overlay",
              "size": 10,
              "solidity": 0.2
             }
            },
            "type": "histogram"
           }
          ],
          "histogram2d": [
           {
            "colorbar": {
             "outlinewidth": 0,
             "ticks": ""
            },
            "colorscale": [
             [
              0,
              "#0d0887"
             ],
             [
              0.1111111111111111,
              "#46039f"
             ],
             [
              0.2222222222222222,
              "#7201a8"
             ],
             [
              0.3333333333333333,
              "#9c179e"
             ],
             [
              0.4444444444444444,
              "#bd3786"
             ],
             [
              0.5555555555555556,
              "#d8576b"
             ],
             [
              0.6666666666666666,
              "#ed7953"
             ],
             [
              0.7777777777777778,
              "#fb9f3a"
             ],
             [
              0.8888888888888888,
              "#fdca26"
             ],
             [
              1,
              "#f0f921"
             ]
            ],
            "type": "histogram2d"
           }
          ],
          "histogram2dcontour": [
           {
            "colorbar": {
             "outlinewidth": 0,
             "ticks": ""
            },
            "colorscale": [
             [
              0,
              "#0d0887"
             ],
             [
              0.1111111111111111,
              "#46039f"
             ],
             [
              0.2222222222222222,
              "#7201a8"
             ],
             [
              0.3333333333333333,
              "#9c179e"
             ],
             [
              0.4444444444444444,
              "#bd3786"
             ],
             [
              0.5555555555555556,
              "#d8576b"
             ],
             [
              0.6666666666666666,
              "#ed7953"
             ],
             [
              0.7777777777777778,
              "#fb9f3a"
             ],
             [
              0.8888888888888888,
              "#fdca26"
             ],
             [
              1,
              "#f0f921"
             ]
            ],
            "type": "histogram2dcontour"
           }
          ],
          "mesh3d": [
           {
            "colorbar": {
             "outlinewidth": 0,
             "ticks": ""
            },
            "type": "mesh3d"
           }
          ],
          "parcoords": [
           {
            "line": {
             "colorbar": {
              "outlinewidth": 0,
              "ticks": ""
             }
            },
            "type": "parcoords"
           }
          ],
          "pie": [
           {
            "automargin": true,
            "type": "pie"
           }
          ],
          "scatter": [
           {
            "fillpattern": {
             "fillmode": "overlay",
             "size": 10,
             "solidity": 0.2
            },
            "type": "scatter"
           }
          ],
          "scatter3d": [
           {
            "line": {
             "colorbar": {
              "outlinewidth": 0,
              "ticks": ""
             }
            },
            "marker": {
             "colorbar": {
              "outlinewidth": 0,
              "ticks": ""
             }
            },
            "type": "scatter3d"
           }
          ],
          "scattercarpet": [
           {
            "marker": {
             "colorbar": {
              "outlinewidth": 0,
              "ticks": ""
             }
            },
            "type": "scattercarpet"
           }
          ],
          "scattergeo": [
           {
            "marker": {
             "colorbar": {
              "outlinewidth": 0,
              "ticks": ""
             }
            },
            "type": "scattergeo"
           }
          ],
          "scattergl": [
           {
            "marker": {
             "colorbar": {
              "outlinewidth": 0,
              "ticks": ""
             }
            },
            "type": "scattergl"
           }
          ],
          "scattermapbox": [
           {
            "marker": {
             "colorbar": {
              "outlinewidth": 0,
              "ticks": ""
             }
            },
            "type": "scattermapbox"
           }
          ],
          "scatterpolar": [
           {
            "marker": {
             "colorbar": {
              "outlinewidth": 0,
              "ticks": ""
             }
            },
            "type": "scatterpolar"
           }
          ],
          "scatterpolargl": [
           {
            "marker": {
             "colorbar": {
              "outlinewidth": 0,
              "ticks": ""
             }
            },
            "type": "scatterpolargl"
           }
          ],
          "scatterternary": [
           {
            "marker": {
             "colorbar": {
              "outlinewidth": 0,
              "ticks": ""
             }
            },
            "type": "scatterternary"
           }
          ],
          "surface": [
           {
            "colorbar": {
             "outlinewidth": 0,
             "ticks": ""
            },
            "colorscale": [
             [
              0,
              "#0d0887"
             ],
             [
              0.1111111111111111,
              "#46039f"
             ],
             [
              0.2222222222222222,
              "#7201a8"
             ],
             [
              0.3333333333333333,
              "#9c179e"
             ],
             [
              0.4444444444444444,
              "#bd3786"
             ],
             [
              0.5555555555555556,
              "#d8576b"
             ],
             [
              0.6666666666666666,
              "#ed7953"
             ],
             [
              0.7777777777777778,
              "#fb9f3a"
             ],
             [
              0.8888888888888888,
              "#fdca26"
             ],
             [
              1,
              "#f0f921"
             ]
            ],
            "type": "surface"
           }
          ],
          "table": [
           {
            "cells": {
             "fill": {
              "color": "#EBF0F8"
             },
             "line": {
              "color": "white"
             }
            },
            "header": {
             "fill": {
              "color": "#C8D4E3"
             },
             "line": {
              "color": "white"
             }
            },
            "type": "table"
           }
          ]
         },
         "layout": {
          "annotationdefaults": {
           "arrowcolor": "#2a3f5f",
           "arrowhead": 0,
           "arrowwidth": 1
          },
          "autotypenumbers": "strict",
          "coloraxis": {
           "colorbar": {
            "outlinewidth": 0,
            "ticks": ""
           }
          },
          "colorscale": {
           "diverging": [
            [
             0,
             "#8e0152"
            ],
            [
             0.1,
             "#c51b7d"
            ],
            [
             0.2,
             "#de77ae"
            ],
            [
             0.3,
             "#f1b6da"
            ],
            [
             0.4,
             "#fde0ef"
            ],
            [
             0.5,
             "#f7f7f7"
            ],
            [
             0.6,
             "#e6f5d0"
            ],
            [
             0.7,
             "#b8e186"
            ],
            [
             0.8,
             "#7fbc41"
            ],
            [
             0.9,
             "#4d9221"
            ],
            [
             1,
             "#276419"
            ]
           ],
           "sequential": [
            [
             0,
             "#0d0887"
            ],
            [
             0.1111111111111111,
             "#46039f"
            ],
            [
             0.2222222222222222,
             "#7201a8"
            ],
            [
             0.3333333333333333,
             "#9c179e"
            ],
            [
             0.4444444444444444,
             "#bd3786"
            ],
            [
             0.5555555555555556,
             "#d8576b"
            ],
            [
             0.6666666666666666,
             "#ed7953"
            ],
            [
             0.7777777777777778,
             "#fb9f3a"
            ],
            [
             0.8888888888888888,
             "#fdca26"
            ],
            [
             1,
             "#f0f921"
            ]
           ],
           "sequentialminus": [
            [
             0,
             "#0d0887"
            ],
            [
             0.1111111111111111,
             "#46039f"
            ],
            [
             0.2222222222222222,
             "#7201a8"
            ],
            [
             0.3333333333333333,
             "#9c179e"
            ],
            [
             0.4444444444444444,
             "#bd3786"
            ],
            [
             0.5555555555555556,
             "#d8576b"
            ],
            [
             0.6666666666666666,
             "#ed7953"
            ],
            [
             0.7777777777777778,
             "#fb9f3a"
            ],
            [
             0.8888888888888888,
             "#fdca26"
            ],
            [
             1,
             "#f0f921"
            ]
           ]
          },
          "colorway": [
           "#636efa",
           "#EF553B",
           "#00cc96",
           "#ab63fa",
           "#FFA15A",
           "#19d3f3",
           "#FF6692",
           "#B6E880",
           "#FF97FF",
           "#FECB52"
          ],
          "font": {
           "color": "#2a3f5f"
          },
          "geo": {
           "bgcolor": "white",
           "lakecolor": "white",
           "landcolor": "#E5ECF6",
           "showlakes": true,
           "showland": true,
           "subunitcolor": "white"
          },
          "hoverlabel": {
           "align": "left"
          },
          "hovermode": "closest",
          "mapbox": {
           "style": "light"
          },
          "paper_bgcolor": "white",
          "plot_bgcolor": "#E5ECF6",
          "polar": {
           "angularaxis": {
            "gridcolor": "white",
            "linecolor": "white",
            "ticks": ""
           },
           "bgcolor": "#E5ECF6",
           "radialaxis": {
            "gridcolor": "white",
            "linecolor": "white",
            "ticks": ""
           }
          },
          "scene": {
           "xaxis": {
            "backgroundcolor": "#E5ECF6",
            "gridcolor": "white",
            "gridwidth": 2,
            "linecolor": "white",
            "showbackground": true,
            "ticks": "",
            "zerolinecolor": "white"
           },
           "yaxis": {
            "backgroundcolor": "#E5ECF6",
            "gridcolor": "white",
            "gridwidth": 2,
            "linecolor": "white",
            "showbackground": true,
            "ticks": "",
            "zerolinecolor": "white"
           },
           "zaxis": {
            "backgroundcolor": "#E5ECF6",
            "gridcolor": "white",
            "gridwidth": 2,
            "linecolor": "white",
            "showbackground": true,
            "ticks": "",
            "zerolinecolor": "white"
           }
          },
          "shapedefaults": {
           "line": {
            "color": "#2a3f5f"
           }
          },
          "ternary": {
           "aaxis": {
            "gridcolor": "white",
            "linecolor": "white",
            "ticks": ""
           },
           "baxis": {
            "gridcolor": "white",
            "linecolor": "white",
            "ticks": ""
           },
           "bgcolor": "#E5ECF6",
           "caxis": {
            "gridcolor": "white",
            "linecolor": "white",
            "ticks": ""
           }
          },
          "title": {
           "x": 0.05
          },
          "xaxis": {
           "automargin": true,
           "gridcolor": "white",
           "linecolor": "white",
           "ticks": "",
           "title": {
            "standoff": 15
           },
           "zerolinecolor": "white",
           "zerolinewidth": 2
          },
          "yaxis": {
           "automargin": true,
           "gridcolor": "white",
           "linecolor": "white",
           "ticks": "",
           "title": {
            "standoff": 15
           },
           "zerolinecolor": "white",
           "zerolinewidth": 2
          }
         }
        },
        "xaxis": {
         "anchor": "y",
         "domain": [
          0,
          1
         ],
         "title": {
          "text": "NOME_MES_PARTIDA_PREVISTA"
         }
        },
        "yaxis": {
         "anchor": "x",
         "domain": [
          0,
          1
         ],
         "title": {
          "text": "TOTAL_VOOS"
         }
        }
       }
      }
     },
     "metadata": {},
     "output_type": "display_data"
    }
   ],
   "source": [
    "fig = px.bar(\n",
    "    teste_gb, \n",
    "    x='NOME_MES_PARTIDA_PREVISTA', \n",
    "    y='TOTAL_VOOS', \n",
    "    color='SITUACAO_VOO',\n",
    "    barmode='group',\n",
    "    text_auto=True\n",
    ")\n",
    "fig.update_traces(\n",
    "    textposition='outside'\n",
    ")\n",
    "fig.show()"
   ]
  },
  {
   "cell_type": "markdown",
   "metadata": {},
   "source": [
    "- Analise da variação percentual da SITUAÇÂO voo Filtrando por Aerporto origem por mês compare com o mês anterior (Talvez com vísual cartões) deixe filtro facultativo por empresa)"
   ]
  },
  {
   "cell_type": "code",
   "execution_count": 79,
   "metadata": {},
   "outputs": [
    {
     "data": {
      "text/plain": [
       "Index(['NOME_AEROPORTO_ORIGEM', 'CIDADE_AEROPORTO_ORIGEM',\n",
       "       'UF_AEROPORTO_ORIGEM', 'SIGLA_ICAO_EMPRESA_AEREA', 'NUMERO_VOO',\n",
       "       'CODIGO_TIPO_LINHA', 'SIGLA_ICAO_AEROPORTO_ORIGEM',\n",
       "       'SIGLA_ICAO_AEROPORTO_DESTINO', 'PARTIDA_PREVISTA', 'PARTIDA_REAL',\n",
       "       'CHEGADA_PREVISTA', 'CHEGADA_REAL', 'SITUACAO_VOO', 'SIGLA_OACI',\n",
       "       'NOME_AEROPORTO_DESTINO', 'CIDADE_AEROPORTO_DESTINO',\n",
       "       'UF_AEROPORTO_DESTINO', 'NOME_EMPRESA', 'MES_PARTIDA_PREVISTA',\n",
       "       'NOME_MES_PARTIDA_PREVISTA', 'MES_PARTIDA_REAL',\n",
       "       'NOME_MES_PARTIDA_REAL', 'MES_CHEGADA_PREVISTA',\n",
       "       'NOME_MES_CHEGADA_PREVISTA', 'MES_CHEGADA_REAL',\n",
       "       'NOME_MES_CHEGADA_REAL', 'MINUTOS_ATRASADO_PARTIDA',\n",
       "       'MINUTOS_ATRASADO_CHEGADA', 'DIA_DA_SEMANA_PARTIDA_PREVISTA',\n",
       "       'INDICE_SEMANA_PARTIDA_PREVISTA', 'DIA_DA_SEMANA_PARTIDA_REAL',\n",
       "       'INDICE_SEMANA_PARTIDA_REAL', 'DIA_DA_SEMANA_CHEGADA_REAL',\n",
       "       'DIA_DA_SEMANA_CHEGADA_PREVISTA', 'INDICE_SEMANA_CHEGADA_REAL',\n",
       "       'INDICE_SEMANA_CHEGADA_PREVISTA', 'FAIXA_ATRASO_PARTIDA',\n",
       "       'FAIXA_ATRASO_CHEGADA'],\n",
       "      dtype='object')"
      ]
     },
     "execution_count": 79,
     "metadata": {},
     "output_type": "execute_result"
    }
   ],
   "source": [
    "base.columns"
   ]
  },
  {
   "cell_type": "code",
   "execution_count": 250,
   "metadata": {},
   "outputs": [],
   "source": [
    "colunas = [\n",
    "    'SITUACAO_VOO',\n",
    "    'MES_PARTIDA_PREVISTA',\n",
    "    'NOME_MES_PARTIDA_PREVISTA',\n",
    "    'SIGLA_ICAO_AEROPORTO_ORIGEM',\n",
    "    'NOME_AEROPORTO_ORIGEM',\n",
    "    'SIGLA_ICAO_EMPRESA_AEREA',\n",
    "    'NOME_EMPRESA'\n",
    "\n",
    "]\n",
    "teste = pd.read_parquet('../data/processed/df_final.parquet', columns=colunas)"
   ]
  },
  {
   "cell_type": "code",
   "execution_count": 251,
   "metadata": {},
   "outputs": [
    {
     "data": {
      "text/html": [
       "<div>\n",
       "<style scoped>\n",
       "    .dataframe tbody tr th:only-of-type {\n",
       "        vertical-align: middle;\n",
       "    }\n",
       "\n",
       "    .dataframe tbody tr th {\n",
       "        vertical-align: top;\n",
       "    }\n",
       "\n",
       "    .dataframe thead th {\n",
       "        text-align: right;\n",
       "    }\n",
       "</style>\n",
       "<table border=\"1\" class=\"dataframe\">\n",
       "  <thead>\n",
       "    <tr style=\"text-align: right;\">\n",
       "      <th></th>\n",
       "      <th>SITUACAO_VOO</th>\n",
       "      <th>MES_PARTIDA_PREVISTA</th>\n",
       "      <th>NOME_MES_PARTIDA_PREVISTA</th>\n",
       "      <th>SIGLA_ICAO_AEROPORTO_ORIGEM</th>\n",
       "      <th>NOME_AEROPORTO_ORIGEM</th>\n",
       "      <th>SIGLA_ICAO_EMPRESA_AEREA</th>\n",
       "      <th>NOME_EMPRESA</th>\n",
       "    </tr>\n",
       "  </thead>\n",
       "  <tbody>\n",
       "    <tr>\n",
       "      <th>0</th>\n",
       "      <td>REALIZADO</td>\n",
       "      <td>1</td>\n",
       "      <td>janeiro</td>\n",
       "      <td>SBAE</td>\n",
       "      <td>BAURU/AREALVA</td>\n",
       "      <td>AZU</td>\n",
       "      <td>AZUL</td>\n",
       "    </tr>\n",
       "    <tr>\n",
       "      <th>1</th>\n",
       "      <td>REALIZADO</td>\n",
       "      <td>1</td>\n",
       "      <td>janeiro</td>\n",
       "      <td>SBAE</td>\n",
       "      <td>BAURU/AREALVA</td>\n",
       "      <td>AZU</td>\n",
       "      <td>AZUL</td>\n",
       "    </tr>\n",
       "    <tr>\n",
       "      <th>2</th>\n",
       "      <td>REALIZADO</td>\n",
       "      <td>1</td>\n",
       "      <td>janeiro</td>\n",
       "      <td>SBAE</td>\n",
       "      <td>BAURU/AREALVA</td>\n",
       "      <td>AZU</td>\n",
       "      <td>AZUL</td>\n",
       "    </tr>\n",
       "    <tr>\n",
       "      <th>3</th>\n",
       "      <td>REALIZADO</td>\n",
       "      <td>1</td>\n",
       "      <td>janeiro</td>\n",
       "      <td>SBAE</td>\n",
       "      <td>BAURU/AREALVA</td>\n",
       "      <td>AZU</td>\n",
       "      <td>AZUL</td>\n",
       "    </tr>\n",
       "    <tr>\n",
       "      <th>4</th>\n",
       "      <td>REALIZADO</td>\n",
       "      <td>2</td>\n",
       "      <td>fevereiro</td>\n",
       "      <td>SBAE</td>\n",
       "      <td>BAURU/AREALVA</td>\n",
       "      <td>AZU</td>\n",
       "      <td>AZUL</td>\n",
       "    </tr>\n",
       "  </tbody>\n",
       "</table>\n",
       "</div>"
      ],
      "text/plain": [
       "  SITUACAO_VOO  MES_PARTIDA_PREVISTA NOME_MES_PARTIDA_PREVISTA  \\\n",
       "0    REALIZADO                     1                   janeiro   \n",
       "1    REALIZADO                     1                   janeiro   \n",
       "2    REALIZADO                     1                   janeiro   \n",
       "3    REALIZADO                     1                   janeiro   \n",
       "4    REALIZADO                     2                 fevereiro   \n",
       "\n",
       "  SIGLA_ICAO_AEROPORTO_ORIGEM NOME_AEROPORTO_ORIGEM SIGLA_ICAO_EMPRESA_AEREA  \\\n",
       "0                        SBAE         BAURU/AREALVA                      AZU   \n",
       "1                        SBAE         BAURU/AREALVA                      AZU   \n",
       "2                        SBAE         BAURU/AREALVA                      AZU   \n",
       "3                        SBAE         BAURU/AREALVA                      AZU   \n",
       "4                        SBAE         BAURU/AREALVA                      AZU   \n",
       "\n",
       "  NOME_EMPRESA  \n",
       "0         AZUL  \n",
       "1         AZUL  \n",
       "2         AZUL  \n",
       "3         AZUL  \n",
       "4         AZUL  "
      ]
     },
     "execution_count": 251,
     "metadata": {},
     "output_type": "execute_result"
    }
   ],
   "source": [
    "teste.head()"
   ]
  },
  {
   "cell_type": "code",
   "execution_count": 252,
   "metadata": {},
   "outputs": [
    {
     "data": {
      "text/html": [
       "<div>\n",
       "<style scoped>\n",
       "    .dataframe tbody tr th:only-of-type {\n",
       "        vertical-align: middle;\n",
       "    }\n",
       "\n",
       "    .dataframe tbody tr th {\n",
       "        vertical-align: top;\n",
       "    }\n",
       "\n",
       "    .dataframe thead th {\n",
       "        text-align: right;\n",
       "    }\n",
       "</style>\n",
       "<table border=\"1\" class=\"dataframe\">\n",
       "  <thead>\n",
       "    <tr style=\"text-align: right;\">\n",
       "      <th></th>\n",
       "      <th>SITUACAO_VOO</th>\n",
       "      <th>MES_PARTIDA_PREVISTA</th>\n",
       "      <th>NOME_MES_PARTIDA_PREVISTA</th>\n",
       "      <th>SIGLA_ICAO_AEROPORTO_ORIGEM</th>\n",
       "      <th>NOME_AEROPORTO_ORIGEM</th>\n",
       "      <th>SIGLA_ICAO_EMPRESA_AEREA</th>\n",
       "      <th>NOME_EMPRESA</th>\n",
       "    </tr>\n",
       "  </thead>\n",
       "  <tbody>\n",
       "    <tr>\n",
       "      <th>1929</th>\n",
       "      <td>REALIZADO</td>\n",
       "      <td>1</td>\n",
       "      <td>janeiro</td>\n",
       "      <td>SBRP</td>\n",
       "      <td>LEITE LOPES</td>\n",
       "      <td>AZU</td>\n",
       "      <td>AZUL</td>\n",
       "    </tr>\n",
       "    <tr>\n",
       "      <th>1930</th>\n",
       "      <td>REALIZADO</td>\n",
       "      <td>1</td>\n",
       "      <td>janeiro</td>\n",
       "      <td>SBRP</td>\n",
       "      <td>LEITE LOPES</td>\n",
       "      <td>AZU</td>\n",
       "      <td>AZUL</td>\n",
       "    </tr>\n",
       "    <tr>\n",
       "      <th>1931</th>\n",
       "      <td>REALIZADO</td>\n",
       "      <td>1</td>\n",
       "      <td>janeiro</td>\n",
       "      <td>SBRP</td>\n",
       "      <td>LEITE LOPES</td>\n",
       "      <td>AZU</td>\n",
       "      <td>AZUL</td>\n",
       "    </tr>\n",
       "    <tr>\n",
       "      <th>1932</th>\n",
       "      <td>REALIZADO</td>\n",
       "      <td>1</td>\n",
       "      <td>janeiro</td>\n",
       "      <td>SBRP</td>\n",
       "      <td>LEITE LOPES</td>\n",
       "      <td>AZU</td>\n",
       "      <td>AZUL</td>\n",
       "    </tr>\n",
       "    <tr>\n",
       "      <th>1933</th>\n",
       "      <td>REALIZADO</td>\n",
       "      <td>1</td>\n",
       "      <td>janeiro</td>\n",
       "      <td>SBRP</td>\n",
       "      <td>LEITE LOPES</td>\n",
       "      <td>AZU</td>\n",
       "      <td>AZUL</td>\n",
       "    </tr>\n",
       "  </tbody>\n",
       "</table>\n",
       "</div>"
      ],
      "text/plain": [
       "     SITUACAO_VOO  MES_PARTIDA_PREVISTA NOME_MES_PARTIDA_PREVISTA  \\\n",
       "1929    REALIZADO                     1                   janeiro   \n",
       "1930    REALIZADO                     1                   janeiro   \n",
       "1931    REALIZADO                     1                   janeiro   \n",
       "1932    REALIZADO                     1                   janeiro   \n",
       "1933    REALIZADO                     1                   janeiro   \n",
       "\n",
       "     SIGLA_ICAO_AEROPORTO_ORIGEM NOME_AEROPORTO_ORIGEM  \\\n",
       "1929                        SBRP           LEITE LOPES   \n",
       "1930                        SBRP           LEITE LOPES   \n",
       "1931                        SBRP           LEITE LOPES   \n",
       "1932                        SBRP           LEITE LOPES   \n",
       "1933                        SBRP           LEITE LOPES   \n",
       "\n",
       "     SIGLA_ICAO_EMPRESA_AEREA NOME_EMPRESA  \n",
       "1929                      AZU         AZUL  \n",
       "1930                      AZU         AZUL  \n",
       "1931                      AZU         AZUL  \n",
       "1932                      AZU         AZUL  \n",
       "1933                      AZU         AZUL  "
      ]
     },
     "execution_count": 252,
     "metadata": {},
     "output_type": "execute_result"
    }
   ],
   "source": [
    "teste = teste.query('SIGLA_ICAO_AEROPORTO_ORIGEM == \"SBRP\"  and SIGLA_ICAO_EMPRESA_AEREA ==\"AZU\" ')\n",
    "teste.head()"
   ]
  },
  {
   "cell_type": "code",
   "execution_count": 253,
   "metadata": {},
   "outputs": [
    {
     "name": "stdout",
     "output_type": "stream",
     "text": [
      "<class 'pandas.core.frame.DataFrame'>\n",
      "Index: 2361 entries, 1929 to 258326\n",
      "Data columns (total 7 columns):\n",
      " #   Column                       Non-Null Count  Dtype   \n",
      "---  ------                       --------------  -----   \n",
      " 0   SITUACAO_VOO                 2361 non-null   category\n",
      " 1   MES_PARTIDA_PREVISTA         2361 non-null   int32   \n",
      " 2   NOME_MES_PARTIDA_PREVISTA    2361 non-null   category\n",
      " 3   SIGLA_ICAO_AEROPORTO_ORIGEM  2361 non-null   string  \n",
      " 4   NOME_AEROPORTO_ORIGEM        2361 non-null   string  \n",
      " 5   SIGLA_ICAO_EMPRESA_AEREA     2361 non-null   string  \n",
      " 6   NOME_EMPRESA                 2361 non-null   string  \n",
      "dtypes: category(2), int32(1), string(4)\n",
      "memory usage: 106.6 KB\n"
     ]
    }
   ],
   "source": [
    "teste.info()"
   ]
  },
  {
   "cell_type": "code",
   "execution_count": 254,
   "metadata": {},
   "outputs": [],
   "source": [
    "teste[['SITUACAO_VOO','NOME_MES_PARTIDA_PREVISTA' ]] = teste[['SITUACAO_VOO','NOME_MES_PARTIDA_PREVISTA' ]].astype('string')"
   ]
  },
  {
   "cell_type": "code",
   "execution_count": 255,
   "metadata": {},
   "outputs": [
    {
     "data": {
      "text/html": [
       "<div>\n",
       "<style scoped>\n",
       "    .dataframe tbody tr th:only-of-type {\n",
       "        vertical-align: middle;\n",
       "    }\n",
       "\n",
       "    .dataframe tbody tr th {\n",
       "        vertical-align: top;\n",
       "    }\n",
       "\n",
       "    .dataframe thead th {\n",
       "        text-align: right;\n",
       "    }\n",
       "</style>\n",
       "<table border=\"1\" class=\"dataframe\">\n",
       "  <thead>\n",
       "    <tr style=\"text-align: right;\">\n",
       "      <th></th>\n",
       "      <th>SITUACAO_VOO</th>\n",
       "      <th>NOME_MES_PARTIDA_PREVISTA</th>\n",
       "      <th>MES_PARTIDA_PREVISTA</th>\n",
       "      <th>TOTAL_SITUACAO</th>\n",
       "    </tr>\n",
       "  </thead>\n",
       "  <tbody>\n",
       "    <tr>\n",
       "      <th>0</th>\n",
       "      <td>CANCELADO</td>\n",
       "      <td>janeiro</td>\n",
       "      <td>1</td>\n",
       "      <td>17</td>\n",
       "    </tr>\n",
       "    <tr>\n",
       "      <th>1</th>\n",
       "      <td>CANCELADO</td>\n",
       "      <td>fevereiro</td>\n",
       "      <td>2</td>\n",
       "      <td>2</td>\n",
       "    </tr>\n",
       "    <tr>\n",
       "      <th>2</th>\n",
       "      <td>CANCELADO</td>\n",
       "      <td>março</td>\n",
       "      <td>3</td>\n",
       "      <td>2</td>\n",
       "    </tr>\n",
       "    <tr>\n",
       "      <th>3</th>\n",
       "      <td>CANCELADO</td>\n",
       "      <td>maio</td>\n",
       "      <td>5</td>\n",
       "      <td>9</td>\n",
       "    </tr>\n",
       "    <tr>\n",
       "      <th>4</th>\n",
       "      <td>CANCELADO</td>\n",
       "      <td>junho</td>\n",
       "      <td>6</td>\n",
       "      <td>13</td>\n",
       "    </tr>\n",
       "    <tr>\n",
       "      <th>5</th>\n",
       "      <td>CANCELADO</td>\n",
       "      <td>julho</td>\n",
       "      <td>7</td>\n",
       "      <td>4</td>\n",
       "    </tr>\n",
       "    <tr>\n",
       "      <th>6</th>\n",
       "      <td>CANCELADO</td>\n",
       "      <td>agosto</td>\n",
       "      <td>8</td>\n",
       "      <td>3</td>\n",
       "    </tr>\n",
       "    <tr>\n",
       "      <th>7</th>\n",
       "      <td>CANCELADO</td>\n",
       "      <td>setembro</td>\n",
       "      <td>9</td>\n",
       "      <td>11</td>\n",
       "    </tr>\n",
       "    <tr>\n",
       "      <th>8</th>\n",
       "      <td>CANCELADO</td>\n",
       "      <td>outubro</td>\n",
       "      <td>10</td>\n",
       "      <td>15</td>\n",
       "    </tr>\n",
       "    <tr>\n",
       "      <th>9</th>\n",
       "      <td>CANCELADO</td>\n",
       "      <td>novembro</td>\n",
       "      <td>11</td>\n",
       "      <td>10</td>\n",
       "    </tr>\n",
       "    <tr>\n",
       "      <th>10</th>\n",
       "      <td>CANCELADO</td>\n",
       "      <td>dezembro</td>\n",
       "      <td>12</td>\n",
       "      <td>12</td>\n",
       "    </tr>\n",
       "    <tr>\n",
       "      <th>11</th>\n",
       "      <td>REALIZADO</td>\n",
       "      <td>janeiro</td>\n",
       "      <td>1</td>\n",
       "      <td>240</td>\n",
       "    </tr>\n",
       "    <tr>\n",
       "      <th>12</th>\n",
       "      <td>REALIZADO</td>\n",
       "      <td>fevereiro</td>\n",
       "      <td>2</td>\n",
       "      <td>144</td>\n",
       "    </tr>\n",
       "    <tr>\n",
       "      <th>13</th>\n",
       "      <td>REALIZADO</td>\n",
       "      <td>março</td>\n",
       "      <td>3</td>\n",
       "      <td>171</td>\n",
       "    </tr>\n",
       "    <tr>\n",
       "      <th>14</th>\n",
       "      <td>REALIZADO</td>\n",
       "      <td>abril</td>\n",
       "      <td>4</td>\n",
       "      <td>194</td>\n",
       "    </tr>\n",
       "    <tr>\n",
       "      <th>15</th>\n",
       "      <td>REALIZADO</td>\n",
       "      <td>maio</td>\n",
       "      <td>5</td>\n",
       "      <td>212</td>\n",
       "    </tr>\n",
       "    <tr>\n",
       "      <th>16</th>\n",
       "      <td>REALIZADO</td>\n",
       "      <td>junho</td>\n",
       "      <td>6</td>\n",
       "      <td>190</td>\n",
       "    </tr>\n",
       "    <tr>\n",
       "      <th>17</th>\n",
       "      <td>REALIZADO</td>\n",
       "      <td>julho</td>\n",
       "      <td>7</td>\n",
       "      <td>219</td>\n",
       "    </tr>\n",
       "    <tr>\n",
       "      <th>18</th>\n",
       "      <td>REALIZADO</td>\n",
       "      <td>agosto</td>\n",
       "      <td>8</td>\n",
       "      <td>195</td>\n",
       "    </tr>\n",
       "    <tr>\n",
       "      <th>19</th>\n",
       "      <td>REALIZADO</td>\n",
       "      <td>setembro</td>\n",
       "      <td>9</td>\n",
       "      <td>185</td>\n",
       "    </tr>\n",
       "    <tr>\n",
       "      <th>20</th>\n",
       "      <td>REALIZADO</td>\n",
       "      <td>outubro</td>\n",
       "      <td>10</td>\n",
       "      <td>180</td>\n",
       "    </tr>\n",
       "    <tr>\n",
       "      <th>21</th>\n",
       "      <td>REALIZADO</td>\n",
       "      <td>novembro</td>\n",
       "      <td>11</td>\n",
       "      <td>167</td>\n",
       "    </tr>\n",
       "    <tr>\n",
       "      <th>22</th>\n",
       "      <td>REALIZADO</td>\n",
       "      <td>dezembro</td>\n",
       "      <td>12</td>\n",
       "      <td>166</td>\n",
       "    </tr>\n",
       "  </tbody>\n",
       "</table>\n",
       "</div>"
      ],
      "text/plain": [
       "   SITUACAO_VOO NOME_MES_PARTIDA_PREVISTA  MES_PARTIDA_PREVISTA  \\\n",
       "0     CANCELADO                   janeiro                     1   \n",
       "1     CANCELADO                 fevereiro                     2   \n",
       "2     CANCELADO                     março                     3   \n",
       "3     CANCELADO                      maio                     5   \n",
       "4     CANCELADO                     junho                     6   \n",
       "5     CANCELADO                     julho                     7   \n",
       "6     CANCELADO                    agosto                     8   \n",
       "7     CANCELADO                  setembro                     9   \n",
       "8     CANCELADO                   outubro                    10   \n",
       "9     CANCELADO                  novembro                    11   \n",
       "10    CANCELADO                  dezembro                    12   \n",
       "11    REALIZADO                   janeiro                     1   \n",
       "12    REALIZADO                 fevereiro                     2   \n",
       "13    REALIZADO                     março                     3   \n",
       "14    REALIZADO                     abril                     4   \n",
       "15    REALIZADO                      maio                     5   \n",
       "16    REALIZADO                     junho                     6   \n",
       "17    REALIZADO                     julho                     7   \n",
       "18    REALIZADO                    agosto                     8   \n",
       "19    REALIZADO                  setembro                     9   \n",
       "20    REALIZADO                   outubro                    10   \n",
       "21    REALIZADO                  novembro                    11   \n",
       "22    REALIZADO                  dezembro                    12   \n",
       "\n",
       "    TOTAL_SITUACAO  \n",
       "0               17  \n",
       "1                2  \n",
       "2                2  \n",
       "3                9  \n",
       "4               13  \n",
       "5                4  \n",
       "6                3  \n",
       "7               11  \n",
       "8               15  \n",
       "9               10  \n",
       "10              12  \n",
       "11             240  \n",
       "12             144  \n",
       "13             171  \n",
       "14             194  \n",
       "15             212  \n",
       "16             190  \n",
       "17             219  \n",
       "18             195  \n",
       "19             185  \n",
       "20             180  \n",
       "21             167  \n",
       "22             166  "
      ]
     },
     "execution_count": 255,
     "metadata": {},
     "output_type": "execute_result"
    }
   ],
   "source": [
    "df_gb = teste.groupby(['SITUACAO_VOO', 'NOME_MES_PARTIDA_PREVISTA', 'MES_PARTIDA_PREVISTA']).agg(\n",
    "    TOTAL_SITUACAO=('SITUACAO_VOO', 'count')\n",
    ").sort_values(by=['SITUACAO_VOO','MES_PARTIDA_PREVISTA']).reset_index()\n",
    "df_gb"
   ]
  },
  {
   "cell_type": "code",
   "execution_count": 256,
   "metadata": {},
   "outputs": [
    {
     "data": {
      "text/html": [
       "<div>\n",
       "<style scoped>\n",
       "    .dataframe tbody tr th:only-of-type {\n",
       "        vertical-align: middle;\n",
       "    }\n",
       "\n",
       "    .dataframe tbody tr th {\n",
       "        vertical-align: top;\n",
       "    }\n",
       "\n",
       "    .dataframe thead th {\n",
       "        text-align: right;\n",
       "    }\n",
       "</style>\n",
       "<table border=\"1\" class=\"dataframe\">\n",
       "  <thead>\n",
       "    <tr style=\"text-align: right;\">\n",
       "      <th></th>\n",
       "      <th>SITUACAO_VOO</th>\n",
       "      <th>NOME_MES_PARTIDA_PREVISTA</th>\n",
       "      <th>MES_PARTIDA_PREVISTA</th>\n",
       "      <th>TOTAL_SITUACAO</th>\n",
       "      <th>TOTAL_SITUACAO_MES_ANTERIOR</th>\n",
       "    </tr>\n",
       "  </thead>\n",
       "  <tbody>\n",
       "    <tr>\n",
       "      <th>0</th>\n",
       "      <td>CANCELADO</td>\n",
       "      <td>janeiro</td>\n",
       "      <td>1</td>\n",
       "      <td>17</td>\n",
       "      <td>0</td>\n",
       "    </tr>\n",
       "    <tr>\n",
       "      <th>1</th>\n",
       "      <td>CANCELADO</td>\n",
       "      <td>fevereiro</td>\n",
       "      <td>2</td>\n",
       "      <td>2</td>\n",
       "      <td>17.0</td>\n",
       "    </tr>\n",
       "    <tr>\n",
       "      <th>2</th>\n",
       "      <td>CANCELADO</td>\n",
       "      <td>março</td>\n",
       "      <td>3</td>\n",
       "      <td>2</td>\n",
       "      <td>2.0</td>\n",
       "    </tr>\n",
       "    <tr>\n",
       "      <th>3</th>\n",
       "      <td>CANCELADO</td>\n",
       "      <td>maio</td>\n",
       "      <td>5</td>\n",
       "      <td>9</td>\n",
       "      <td>2.0</td>\n",
       "    </tr>\n",
       "    <tr>\n",
       "      <th>4</th>\n",
       "      <td>CANCELADO</td>\n",
       "      <td>junho</td>\n",
       "      <td>6</td>\n",
       "      <td>13</td>\n",
       "      <td>9.0</td>\n",
       "    </tr>\n",
       "    <tr>\n",
       "      <th>5</th>\n",
       "      <td>CANCELADO</td>\n",
       "      <td>julho</td>\n",
       "      <td>7</td>\n",
       "      <td>4</td>\n",
       "      <td>13.0</td>\n",
       "    </tr>\n",
       "    <tr>\n",
       "      <th>6</th>\n",
       "      <td>CANCELADO</td>\n",
       "      <td>agosto</td>\n",
       "      <td>8</td>\n",
       "      <td>3</td>\n",
       "      <td>4.0</td>\n",
       "    </tr>\n",
       "    <tr>\n",
       "      <th>7</th>\n",
       "      <td>CANCELADO</td>\n",
       "      <td>setembro</td>\n",
       "      <td>9</td>\n",
       "      <td>11</td>\n",
       "      <td>3.0</td>\n",
       "    </tr>\n",
       "    <tr>\n",
       "      <th>8</th>\n",
       "      <td>CANCELADO</td>\n",
       "      <td>outubro</td>\n",
       "      <td>10</td>\n",
       "      <td>15</td>\n",
       "      <td>11.0</td>\n",
       "    </tr>\n",
       "    <tr>\n",
       "      <th>9</th>\n",
       "      <td>CANCELADO</td>\n",
       "      <td>novembro</td>\n",
       "      <td>11</td>\n",
       "      <td>10</td>\n",
       "      <td>15.0</td>\n",
       "    </tr>\n",
       "    <tr>\n",
       "      <th>10</th>\n",
       "      <td>CANCELADO</td>\n",
       "      <td>dezembro</td>\n",
       "      <td>12</td>\n",
       "      <td>12</td>\n",
       "      <td>10.0</td>\n",
       "    </tr>\n",
       "    <tr>\n",
       "      <th>11</th>\n",
       "      <td>REALIZADO</td>\n",
       "      <td>janeiro</td>\n",
       "      <td>1</td>\n",
       "      <td>240</td>\n",
       "      <td>0</td>\n",
       "    </tr>\n",
       "    <tr>\n",
       "      <th>12</th>\n",
       "      <td>REALIZADO</td>\n",
       "      <td>fevereiro</td>\n",
       "      <td>2</td>\n",
       "      <td>144</td>\n",
       "      <td>240.0</td>\n",
       "    </tr>\n",
       "    <tr>\n",
       "      <th>13</th>\n",
       "      <td>REALIZADO</td>\n",
       "      <td>março</td>\n",
       "      <td>3</td>\n",
       "      <td>171</td>\n",
       "      <td>144.0</td>\n",
       "    </tr>\n",
       "    <tr>\n",
       "      <th>14</th>\n",
       "      <td>REALIZADO</td>\n",
       "      <td>abril</td>\n",
       "      <td>4</td>\n",
       "      <td>194</td>\n",
       "      <td>171.0</td>\n",
       "    </tr>\n",
       "    <tr>\n",
       "      <th>15</th>\n",
       "      <td>REALIZADO</td>\n",
       "      <td>maio</td>\n",
       "      <td>5</td>\n",
       "      <td>212</td>\n",
       "      <td>194.0</td>\n",
       "    </tr>\n",
       "    <tr>\n",
       "      <th>16</th>\n",
       "      <td>REALIZADO</td>\n",
       "      <td>junho</td>\n",
       "      <td>6</td>\n",
       "      <td>190</td>\n",
       "      <td>212.0</td>\n",
       "    </tr>\n",
       "    <tr>\n",
       "      <th>17</th>\n",
       "      <td>REALIZADO</td>\n",
       "      <td>julho</td>\n",
       "      <td>7</td>\n",
       "      <td>219</td>\n",
       "      <td>190.0</td>\n",
       "    </tr>\n",
       "    <tr>\n",
       "      <th>18</th>\n",
       "      <td>REALIZADO</td>\n",
       "      <td>agosto</td>\n",
       "      <td>8</td>\n",
       "      <td>195</td>\n",
       "      <td>219.0</td>\n",
       "    </tr>\n",
       "    <tr>\n",
       "      <th>19</th>\n",
       "      <td>REALIZADO</td>\n",
       "      <td>setembro</td>\n",
       "      <td>9</td>\n",
       "      <td>185</td>\n",
       "      <td>195.0</td>\n",
       "    </tr>\n",
       "    <tr>\n",
       "      <th>20</th>\n",
       "      <td>REALIZADO</td>\n",
       "      <td>outubro</td>\n",
       "      <td>10</td>\n",
       "      <td>180</td>\n",
       "      <td>185.0</td>\n",
       "    </tr>\n",
       "    <tr>\n",
       "      <th>21</th>\n",
       "      <td>REALIZADO</td>\n",
       "      <td>novembro</td>\n",
       "      <td>11</td>\n",
       "      <td>167</td>\n",
       "      <td>180.0</td>\n",
       "    </tr>\n",
       "    <tr>\n",
       "      <th>22</th>\n",
       "      <td>REALIZADO</td>\n",
       "      <td>dezembro</td>\n",
       "      <td>12</td>\n",
       "      <td>166</td>\n",
       "      <td>167.0</td>\n",
       "    </tr>\n",
       "  </tbody>\n",
       "</table>\n",
       "</div>"
      ],
      "text/plain": [
       "   SITUACAO_VOO NOME_MES_PARTIDA_PREVISTA MES_PARTIDA_PREVISTA TOTAL_SITUACAO  \\\n",
       "0     CANCELADO                   janeiro                    1             17   \n",
       "1     CANCELADO                 fevereiro                    2              2   \n",
       "2     CANCELADO                     março                    3              2   \n",
       "3     CANCELADO                      maio                    5              9   \n",
       "4     CANCELADO                     junho                    6             13   \n",
       "5     CANCELADO                     julho                    7              4   \n",
       "6     CANCELADO                    agosto                    8              3   \n",
       "7     CANCELADO                  setembro                    9             11   \n",
       "8     CANCELADO                   outubro                   10             15   \n",
       "9     CANCELADO                  novembro                   11             10   \n",
       "10    CANCELADO                  dezembro                   12             12   \n",
       "11    REALIZADO                   janeiro                    1            240   \n",
       "12    REALIZADO                 fevereiro                    2            144   \n",
       "13    REALIZADO                     março                    3            171   \n",
       "14    REALIZADO                     abril                    4            194   \n",
       "15    REALIZADO                      maio                    5            212   \n",
       "16    REALIZADO                     junho                    6            190   \n",
       "17    REALIZADO                     julho                    7            219   \n",
       "18    REALIZADO                    agosto                    8            195   \n",
       "19    REALIZADO                  setembro                    9            185   \n",
       "20    REALIZADO                   outubro                   10            180   \n",
       "21    REALIZADO                  novembro                   11            167   \n",
       "22    REALIZADO                  dezembro                   12            166   \n",
       "\n",
       "   TOTAL_SITUACAO_MES_ANTERIOR  \n",
       "0                            0  \n",
       "1                         17.0  \n",
       "2                          2.0  \n",
       "3                          2.0  \n",
       "4                          9.0  \n",
       "5                         13.0  \n",
       "6                          4.0  \n",
       "7                          3.0  \n",
       "8                         11.0  \n",
       "9                         15.0  \n",
       "10                        10.0  \n",
       "11                           0  \n",
       "12                       240.0  \n",
       "13                       144.0  \n",
       "14                       171.0  \n",
       "15                       194.0  \n",
       "16                       212.0  \n",
       "17                       190.0  \n",
       "18                       219.0  \n",
       "19                       195.0  \n",
       "20                       185.0  \n",
       "21                       180.0  \n",
       "22                       167.0  "
      ]
     },
     "execution_count": 256,
     "metadata": {},
     "output_type": "execute_result"
    }
   ],
   "source": [
    "df_gb['TOTAL_SITUACAO_MES_ANTERIOR'] = df_gb.groupby('SITUACAO_VOO')['TOTAL_SITUACAO'].shift(1)\n",
    "df_gb.fillna(0, axis=1, inplace=True)\n",
    "df_gb"
   ]
  },
  {
   "cell_type": "code",
   "execution_count": 257,
   "metadata": {},
   "outputs": [],
   "source": [
    "def calcular_variacao(linha):\n",
    "    try:\n",
    "        total_atual = linha['TOTAL_SITUACAO']\n",
    "        total_mes_anterior = linha['TOTAL_SITUACAO_MES_ANTERIOR']\n",
    "        variacao = ((total_atual - total_mes_anterior) / total_mes_anterior) * 100\n",
    "    except ZeroDivisionError:\n",
    "        variacao = 0\n",
    "    return round(variacao, 2)\n"
   ]
  },
  {
   "cell_type": "code",
   "execution_count": 258,
   "metadata": {},
   "outputs": [
    {
     "data": {
      "text/html": [
       "<div>\n",
       "<style scoped>\n",
       "    .dataframe tbody tr th:only-of-type {\n",
       "        vertical-align: middle;\n",
       "    }\n",
       "\n",
       "    .dataframe tbody tr th {\n",
       "        vertical-align: top;\n",
       "    }\n",
       "\n",
       "    .dataframe thead th {\n",
       "        text-align: right;\n",
       "    }\n",
       "</style>\n",
       "<table border=\"1\" class=\"dataframe\">\n",
       "  <thead>\n",
       "    <tr style=\"text-align: right;\">\n",
       "      <th></th>\n",
       "      <th>SITUACAO_VOO</th>\n",
       "      <th>NOME_MES_PARTIDA_PREVISTA</th>\n",
       "      <th>MES_PARTIDA_PREVISTA</th>\n",
       "      <th>TOTAL_SITUACAO</th>\n",
       "      <th>TOTAL_SITUACAO_MES_ANTERIOR</th>\n",
       "      <th>PERCENTUAL_VARIACAO</th>\n",
       "    </tr>\n",
       "  </thead>\n",
       "  <tbody>\n",
       "    <tr>\n",
       "      <th>0</th>\n",
       "      <td>CANCELADO</td>\n",
       "      <td>janeiro</td>\n",
       "      <td>1</td>\n",
       "      <td>17</td>\n",
       "      <td>0</td>\n",
       "      <td>0.00</td>\n",
       "    </tr>\n",
       "    <tr>\n",
       "      <th>1</th>\n",
       "      <td>CANCELADO</td>\n",
       "      <td>fevereiro</td>\n",
       "      <td>2</td>\n",
       "      <td>2</td>\n",
       "      <td>17.0</td>\n",
       "      <td>-88.24</td>\n",
       "    </tr>\n",
       "    <tr>\n",
       "      <th>2</th>\n",
       "      <td>CANCELADO</td>\n",
       "      <td>março</td>\n",
       "      <td>3</td>\n",
       "      <td>2</td>\n",
       "      <td>2.0</td>\n",
       "      <td>0.00</td>\n",
       "    </tr>\n",
       "    <tr>\n",
       "      <th>3</th>\n",
       "      <td>CANCELADO</td>\n",
       "      <td>maio</td>\n",
       "      <td>5</td>\n",
       "      <td>9</td>\n",
       "      <td>2.0</td>\n",
       "      <td>350.00</td>\n",
       "    </tr>\n",
       "    <tr>\n",
       "      <th>4</th>\n",
       "      <td>CANCELADO</td>\n",
       "      <td>junho</td>\n",
       "      <td>6</td>\n",
       "      <td>13</td>\n",
       "      <td>9.0</td>\n",
       "      <td>44.44</td>\n",
       "    </tr>\n",
       "    <tr>\n",
       "      <th>5</th>\n",
       "      <td>CANCELADO</td>\n",
       "      <td>julho</td>\n",
       "      <td>7</td>\n",
       "      <td>4</td>\n",
       "      <td>13.0</td>\n",
       "      <td>-69.23</td>\n",
       "    </tr>\n",
       "    <tr>\n",
       "      <th>6</th>\n",
       "      <td>CANCELADO</td>\n",
       "      <td>agosto</td>\n",
       "      <td>8</td>\n",
       "      <td>3</td>\n",
       "      <td>4.0</td>\n",
       "      <td>-25.00</td>\n",
       "    </tr>\n",
       "    <tr>\n",
       "      <th>7</th>\n",
       "      <td>CANCELADO</td>\n",
       "      <td>setembro</td>\n",
       "      <td>9</td>\n",
       "      <td>11</td>\n",
       "      <td>3.0</td>\n",
       "      <td>266.67</td>\n",
       "    </tr>\n",
       "    <tr>\n",
       "      <th>8</th>\n",
       "      <td>CANCELADO</td>\n",
       "      <td>outubro</td>\n",
       "      <td>10</td>\n",
       "      <td>15</td>\n",
       "      <td>11.0</td>\n",
       "      <td>36.36</td>\n",
       "    </tr>\n",
       "    <tr>\n",
       "      <th>9</th>\n",
       "      <td>CANCELADO</td>\n",
       "      <td>novembro</td>\n",
       "      <td>11</td>\n",
       "      <td>10</td>\n",
       "      <td>15.0</td>\n",
       "      <td>-33.33</td>\n",
       "    </tr>\n",
       "    <tr>\n",
       "      <th>10</th>\n",
       "      <td>CANCELADO</td>\n",
       "      <td>dezembro</td>\n",
       "      <td>12</td>\n",
       "      <td>12</td>\n",
       "      <td>10.0</td>\n",
       "      <td>20.00</td>\n",
       "    </tr>\n",
       "    <tr>\n",
       "      <th>11</th>\n",
       "      <td>REALIZADO</td>\n",
       "      <td>janeiro</td>\n",
       "      <td>1</td>\n",
       "      <td>240</td>\n",
       "      <td>0</td>\n",
       "      <td>0.00</td>\n",
       "    </tr>\n",
       "    <tr>\n",
       "      <th>12</th>\n",
       "      <td>REALIZADO</td>\n",
       "      <td>fevereiro</td>\n",
       "      <td>2</td>\n",
       "      <td>144</td>\n",
       "      <td>240.0</td>\n",
       "      <td>-40.00</td>\n",
       "    </tr>\n",
       "    <tr>\n",
       "      <th>13</th>\n",
       "      <td>REALIZADO</td>\n",
       "      <td>março</td>\n",
       "      <td>3</td>\n",
       "      <td>171</td>\n",
       "      <td>144.0</td>\n",
       "      <td>18.75</td>\n",
       "    </tr>\n",
       "    <tr>\n",
       "      <th>14</th>\n",
       "      <td>REALIZADO</td>\n",
       "      <td>abril</td>\n",
       "      <td>4</td>\n",
       "      <td>194</td>\n",
       "      <td>171.0</td>\n",
       "      <td>13.45</td>\n",
       "    </tr>\n",
       "    <tr>\n",
       "      <th>15</th>\n",
       "      <td>REALIZADO</td>\n",
       "      <td>maio</td>\n",
       "      <td>5</td>\n",
       "      <td>212</td>\n",
       "      <td>194.0</td>\n",
       "      <td>9.28</td>\n",
       "    </tr>\n",
       "    <tr>\n",
       "      <th>16</th>\n",
       "      <td>REALIZADO</td>\n",
       "      <td>junho</td>\n",
       "      <td>6</td>\n",
       "      <td>190</td>\n",
       "      <td>212.0</td>\n",
       "      <td>-10.38</td>\n",
       "    </tr>\n",
       "    <tr>\n",
       "      <th>17</th>\n",
       "      <td>REALIZADO</td>\n",
       "      <td>julho</td>\n",
       "      <td>7</td>\n",
       "      <td>219</td>\n",
       "      <td>190.0</td>\n",
       "      <td>15.26</td>\n",
       "    </tr>\n",
       "    <tr>\n",
       "      <th>18</th>\n",
       "      <td>REALIZADO</td>\n",
       "      <td>agosto</td>\n",
       "      <td>8</td>\n",
       "      <td>195</td>\n",
       "      <td>219.0</td>\n",
       "      <td>-10.96</td>\n",
       "    </tr>\n",
       "    <tr>\n",
       "      <th>19</th>\n",
       "      <td>REALIZADO</td>\n",
       "      <td>setembro</td>\n",
       "      <td>9</td>\n",
       "      <td>185</td>\n",
       "      <td>195.0</td>\n",
       "      <td>-5.13</td>\n",
       "    </tr>\n",
       "    <tr>\n",
       "      <th>20</th>\n",
       "      <td>REALIZADO</td>\n",
       "      <td>outubro</td>\n",
       "      <td>10</td>\n",
       "      <td>180</td>\n",
       "      <td>185.0</td>\n",
       "      <td>-2.70</td>\n",
       "    </tr>\n",
       "    <tr>\n",
       "      <th>21</th>\n",
       "      <td>REALIZADO</td>\n",
       "      <td>novembro</td>\n",
       "      <td>11</td>\n",
       "      <td>167</td>\n",
       "      <td>180.0</td>\n",
       "      <td>-7.22</td>\n",
       "    </tr>\n",
       "    <tr>\n",
       "      <th>22</th>\n",
       "      <td>REALIZADO</td>\n",
       "      <td>dezembro</td>\n",
       "      <td>12</td>\n",
       "      <td>166</td>\n",
       "      <td>167.0</td>\n",
       "      <td>-0.60</td>\n",
       "    </tr>\n",
       "  </tbody>\n",
       "</table>\n",
       "</div>"
      ],
      "text/plain": [
       "   SITUACAO_VOO NOME_MES_PARTIDA_PREVISTA MES_PARTIDA_PREVISTA TOTAL_SITUACAO  \\\n",
       "0     CANCELADO                   janeiro                    1             17   \n",
       "1     CANCELADO                 fevereiro                    2              2   \n",
       "2     CANCELADO                     março                    3              2   \n",
       "3     CANCELADO                      maio                    5              9   \n",
       "4     CANCELADO                     junho                    6             13   \n",
       "5     CANCELADO                     julho                    7              4   \n",
       "6     CANCELADO                    agosto                    8              3   \n",
       "7     CANCELADO                  setembro                    9             11   \n",
       "8     CANCELADO                   outubro                   10             15   \n",
       "9     CANCELADO                  novembro                   11             10   \n",
       "10    CANCELADO                  dezembro                   12             12   \n",
       "11    REALIZADO                   janeiro                    1            240   \n",
       "12    REALIZADO                 fevereiro                    2            144   \n",
       "13    REALIZADO                     março                    3            171   \n",
       "14    REALIZADO                     abril                    4            194   \n",
       "15    REALIZADO                      maio                    5            212   \n",
       "16    REALIZADO                     junho                    6            190   \n",
       "17    REALIZADO                     julho                    7            219   \n",
       "18    REALIZADO                    agosto                    8            195   \n",
       "19    REALIZADO                  setembro                    9            185   \n",
       "20    REALIZADO                   outubro                   10            180   \n",
       "21    REALIZADO                  novembro                   11            167   \n",
       "22    REALIZADO                  dezembro                   12            166   \n",
       "\n",
       "   TOTAL_SITUACAO_MES_ANTERIOR  PERCENTUAL_VARIACAO  \n",
       "0                            0                 0.00  \n",
       "1                         17.0               -88.24  \n",
       "2                          2.0                 0.00  \n",
       "3                          2.0               350.00  \n",
       "4                          9.0                44.44  \n",
       "5                         13.0               -69.23  \n",
       "6                          4.0               -25.00  \n",
       "7                          3.0               266.67  \n",
       "8                         11.0                36.36  \n",
       "9                         15.0               -33.33  \n",
       "10                        10.0                20.00  \n",
       "11                           0                 0.00  \n",
       "12                       240.0               -40.00  \n",
       "13                       144.0                18.75  \n",
       "14                       171.0                13.45  \n",
       "15                       194.0                 9.28  \n",
       "16                       212.0               -10.38  \n",
       "17                       190.0                15.26  \n",
       "18                       219.0               -10.96  \n",
       "19                       195.0                -5.13  \n",
       "20                       185.0                -2.70  \n",
       "21                       180.0                -7.22  \n",
       "22                       167.0                -0.60  "
      ]
     },
     "execution_count": 258,
     "metadata": {},
     "output_type": "execute_result"
    }
   ],
   "source": [
    "df_gb['PERCENTUAL_VARIACAO'] = df_gb.apply(calcular_variacao, axis=1)\n",
    "df_gb"
   ]
  },
  {
   "cell_type": "code",
   "execution_count": 270,
   "metadata": {},
   "outputs": [
    {
     "data": {
      "text/html": [
       "<div>\n",
       "<style scoped>\n",
       "    .dataframe tbody tr th:only-of-type {\n",
       "        vertical-align: middle;\n",
       "    }\n",
       "\n",
       "    .dataframe tbody tr th {\n",
       "        vertical-align: top;\n",
       "    }\n",
       "\n",
       "    .dataframe thead th {\n",
       "        text-align: right;\n",
       "    }\n",
       "</style>\n",
       "<table border=\"1\" class=\"dataframe\">\n",
       "  <thead>\n",
       "    <tr style=\"text-align: right;\">\n",
       "      <th></th>\n",
       "      <th>TOTAL_SITUACAO</th>\n",
       "      <th>TOTAL_SITUACAO_MES_ANTERIOR</th>\n",
       "      <th>PERCENTUAL_VARIACAO</th>\n",
       "    </tr>\n",
       "  </thead>\n",
       "  <tbody>\n",
       "    <tr>\n",
       "      <th>1</th>\n",
       "      <td>2</td>\n",
       "      <td>17.0</td>\n",
       "      <td>-88.24</td>\n",
       "    </tr>\n",
       "  </tbody>\n",
       "</table>\n",
       "</div>"
      ],
      "text/plain": [
       "  TOTAL_SITUACAO TOTAL_SITUACAO_MES_ANTERIOR  PERCENTUAL_VARIACAO\n",
       "1              2                        17.0               -88.24"
      ]
     },
     "execution_count": 270,
     "metadata": {},
     "output_type": "execute_result"
    }
   ],
   "source": [
    "df_status_cancelado = df_gb.query('SITUACAO_VOO == \"CANCELADO\" and MES_PARTIDA_PREVISTA == 2')[['TOTAL_SITUACAO', 'TOTAL_SITUACAO_MES_ANTERIOR', 'PERCENTUAL_VARIACAO']]\n",
    "df_status_cancelado"
   ]
  },
  {
   "cell_type": "code",
   "execution_count": 271,
   "metadata": {},
   "outputs": [
    {
     "data": {
      "text/html": [
       "<div>\n",
       "<style scoped>\n",
       "    .dataframe tbody tr th:only-of-type {\n",
       "        vertical-align: middle;\n",
       "    }\n",
       "\n",
       "    .dataframe tbody tr th {\n",
       "        vertical-align: top;\n",
       "    }\n",
       "\n",
       "    .dataframe thead th {\n",
       "        text-align: right;\n",
       "    }\n",
       "</style>\n",
       "<table border=\"1\" class=\"dataframe\">\n",
       "  <thead>\n",
       "    <tr style=\"text-align: right;\">\n",
       "      <th></th>\n",
       "      <th>TOTAL_SITUACAO</th>\n",
       "      <th>TOTAL_SITUACAO_MES_ANTERIOR</th>\n",
       "      <th>PERCENTUAL_VARIACAO</th>\n",
       "    </tr>\n",
       "  </thead>\n",
       "  <tbody>\n",
       "    <tr>\n",
       "      <th>12</th>\n",
       "      <td>144</td>\n",
       "      <td>240.0</td>\n",
       "      <td>-40.0</td>\n",
       "    </tr>\n",
       "  </tbody>\n",
       "</table>\n",
       "</div>"
      ],
      "text/plain": [
       "   TOTAL_SITUACAO TOTAL_SITUACAO_MES_ANTERIOR  PERCENTUAL_VARIACAO\n",
       "12            144                       240.0                -40.0"
      ]
     },
     "execution_count": 271,
     "metadata": {},
     "output_type": "execute_result"
    }
   ],
   "source": [
    "df_status_realizado = df_gb.query('SITUACAO_VOO == \"REALIZADO\" and MES_PARTIDA_PREVISTA == 2')[['TOTAL_SITUACAO', 'TOTAL_SITUACAO_MES_ANTERIOR', 'PERCENTUAL_VARIACAO']]\n",
    "df_status_realizado"
   ]
  },
  {
   "cell_type": "code",
   "execution_count": 284,
   "metadata": {},
   "outputs": [
    {
     "data": {
      "application/vnd.plotly.v1+json": {
       "config": {
        "plotlyServerURL": "https://plot.ly"
       },
       "data": [
        {
         "delta": {
          "position": "top",
          "reference": 240,
          "relative": true
         },
         "mode": "number+delta",
         "title": {
          "text": "Total Situação Vôos Realizados"
         },
         "type": "indicator",
         "value": 144
        }
       ],
       "layout": {
        "template": {
         "data": {
          "bar": [
           {
            "error_x": {
             "color": "#2a3f5f"
            },
            "error_y": {
             "color": "#2a3f5f"
            },
            "marker": {
             "line": {
              "color": "#E5ECF6",
              "width": 0.5
             },
             "pattern": {
              "fillmode": "overlay",
              "size": 10,
              "solidity": 0.2
             }
            },
            "type": "bar"
           }
          ],
          "barpolar": [
           {
            "marker": {
             "line": {
              "color": "#E5ECF6",
              "width": 0.5
             },
             "pattern": {
              "fillmode": "overlay",
              "size": 10,
              "solidity": 0.2
             }
            },
            "type": "barpolar"
           }
          ],
          "carpet": [
           {
            "aaxis": {
             "endlinecolor": "#2a3f5f",
             "gridcolor": "white",
             "linecolor": "white",
             "minorgridcolor": "white",
             "startlinecolor": "#2a3f5f"
            },
            "baxis": {
             "endlinecolor": "#2a3f5f",
             "gridcolor": "white",
             "linecolor": "white",
             "minorgridcolor": "white",
             "startlinecolor": "#2a3f5f"
            },
            "type": "carpet"
           }
          ],
          "choropleth": [
           {
            "colorbar": {
             "outlinewidth": 0,
             "ticks": ""
            },
            "type": "choropleth"
           }
          ],
          "contour": [
           {
            "colorbar": {
             "outlinewidth": 0,
             "ticks": ""
            },
            "colorscale": [
             [
              0,
              "#0d0887"
             ],
             [
              0.1111111111111111,
              "#46039f"
             ],
             [
              0.2222222222222222,
              "#7201a8"
             ],
             [
              0.3333333333333333,
              "#9c179e"
             ],
             [
              0.4444444444444444,
              "#bd3786"
             ],
             [
              0.5555555555555556,
              "#d8576b"
             ],
             [
              0.6666666666666666,
              "#ed7953"
             ],
             [
              0.7777777777777778,
              "#fb9f3a"
             ],
             [
              0.8888888888888888,
              "#fdca26"
             ],
             [
              1,
              "#f0f921"
             ]
            ],
            "type": "contour"
           }
          ],
          "contourcarpet": [
           {
            "colorbar": {
             "outlinewidth": 0,
             "ticks": ""
            },
            "type": "contourcarpet"
           }
          ],
          "heatmap": [
           {
            "colorbar": {
             "outlinewidth": 0,
             "ticks": ""
            },
            "colorscale": [
             [
              0,
              "#0d0887"
             ],
             [
              0.1111111111111111,
              "#46039f"
             ],
             [
              0.2222222222222222,
              "#7201a8"
             ],
             [
              0.3333333333333333,
              "#9c179e"
             ],
             [
              0.4444444444444444,
              "#bd3786"
             ],
             [
              0.5555555555555556,
              "#d8576b"
             ],
             [
              0.6666666666666666,
              "#ed7953"
             ],
             [
              0.7777777777777778,
              "#fb9f3a"
             ],
             [
              0.8888888888888888,
              "#fdca26"
             ],
             [
              1,
              "#f0f921"
             ]
            ],
            "type": "heatmap"
           }
          ],
          "heatmapgl": [
           {
            "colorbar": {
             "outlinewidth": 0,
             "ticks": ""
            },
            "colorscale": [
             [
              0,
              "#0d0887"
             ],
             [
              0.1111111111111111,
              "#46039f"
             ],
             [
              0.2222222222222222,
              "#7201a8"
             ],
             [
              0.3333333333333333,
              "#9c179e"
             ],
             [
              0.4444444444444444,
              "#bd3786"
             ],
             [
              0.5555555555555556,
              "#d8576b"
             ],
             [
              0.6666666666666666,
              "#ed7953"
             ],
             [
              0.7777777777777778,
              "#fb9f3a"
             ],
             [
              0.8888888888888888,
              "#fdca26"
             ],
             [
              1,
              "#f0f921"
             ]
            ],
            "type": "heatmapgl"
           }
          ],
          "histogram": [
           {
            "marker": {
             "pattern": {
              "fillmode": "overlay",
              "size": 10,
              "solidity": 0.2
             }
            },
            "type": "histogram"
           }
          ],
          "histogram2d": [
           {
            "colorbar": {
             "outlinewidth": 0,
             "ticks": ""
            },
            "colorscale": [
             [
              0,
              "#0d0887"
             ],
             [
              0.1111111111111111,
              "#46039f"
             ],
             [
              0.2222222222222222,
              "#7201a8"
             ],
             [
              0.3333333333333333,
              "#9c179e"
             ],
             [
              0.4444444444444444,
              "#bd3786"
             ],
             [
              0.5555555555555556,
              "#d8576b"
             ],
             [
              0.6666666666666666,
              "#ed7953"
             ],
             [
              0.7777777777777778,
              "#fb9f3a"
             ],
             [
              0.8888888888888888,
              "#fdca26"
             ],
             [
              1,
              "#f0f921"
             ]
            ],
            "type": "histogram2d"
           }
          ],
          "histogram2dcontour": [
           {
            "colorbar": {
             "outlinewidth": 0,
             "ticks": ""
            },
            "colorscale": [
             [
              0,
              "#0d0887"
             ],
             [
              0.1111111111111111,
              "#46039f"
             ],
             [
              0.2222222222222222,
              "#7201a8"
             ],
             [
              0.3333333333333333,
              "#9c179e"
             ],
             [
              0.4444444444444444,
              "#bd3786"
             ],
             [
              0.5555555555555556,
              "#d8576b"
             ],
             [
              0.6666666666666666,
              "#ed7953"
             ],
             [
              0.7777777777777778,
              "#fb9f3a"
             ],
             [
              0.8888888888888888,
              "#fdca26"
             ],
             [
              1,
              "#f0f921"
             ]
            ],
            "type": "histogram2dcontour"
           }
          ],
          "mesh3d": [
           {
            "colorbar": {
             "outlinewidth": 0,
             "ticks": ""
            },
            "type": "mesh3d"
           }
          ],
          "parcoords": [
           {
            "line": {
             "colorbar": {
              "outlinewidth": 0,
              "ticks": ""
             }
            },
            "type": "parcoords"
           }
          ],
          "pie": [
           {
            "automargin": true,
            "type": "pie"
           }
          ],
          "scatter": [
           {
            "fillpattern": {
             "fillmode": "overlay",
             "size": 10,
             "solidity": 0.2
            },
            "type": "scatter"
           }
          ],
          "scatter3d": [
           {
            "line": {
             "colorbar": {
              "outlinewidth": 0,
              "ticks": ""
             }
            },
            "marker": {
             "colorbar": {
              "outlinewidth": 0,
              "ticks": ""
             }
            },
            "type": "scatter3d"
           }
          ],
          "scattercarpet": [
           {
            "marker": {
             "colorbar": {
              "outlinewidth": 0,
              "ticks": ""
             }
            },
            "type": "scattercarpet"
           }
          ],
          "scattergeo": [
           {
            "marker": {
             "colorbar": {
              "outlinewidth": 0,
              "ticks": ""
             }
            },
            "type": "scattergeo"
           }
          ],
          "scattergl": [
           {
            "marker": {
             "colorbar": {
              "outlinewidth": 0,
              "ticks": ""
             }
            },
            "type": "scattergl"
           }
          ],
          "scattermapbox": [
           {
            "marker": {
             "colorbar": {
              "outlinewidth": 0,
              "ticks": ""
             }
            },
            "type": "scattermapbox"
           }
          ],
          "scatterpolar": [
           {
            "marker": {
             "colorbar": {
              "outlinewidth": 0,
              "ticks": ""
             }
            },
            "type": "scatterpolar"
           }
          ],
          "scatterpolargl": [
           {
            "marker": {
             "colorbar": {
              "outlinewidth": 0,
              "ticks": ""
             }
            },
            "type": "scatterpolargl"
           }
          ],
          "scatterternary": [
           {
            "marker": {
             "colorbar": {
              "outlinewidth": 0,
              "ticks": ""
             }
            },
            "type": "scatterternary"
           }
          ],
          "surface": [
           {
            "colorbar": {
             "outlinewidth": 0,
             "ticks": ""
            },
            "colorscale": [
             [
              0,
              "#0d0887"
             ],
             [
              0.1111111111111111,
              "#46039f"
             ],
             [
              0.2222222222222222,
              "#7201a8"
             ],
             [
              0.3333333333333333,
              "#9c179e"
             ],
             [
              0.4444444444444444,
              "#bd3786"
             ],
             [
              0.5555555555555556,
              "#d8576b"
             ],
             [
              0.6666666666666666,
              "#ed7953"
             ],
             [
              0.7777777777777778,
              "#fb9f3a"
             ],
             [
              0.8888888888888888,
              "#fdca26"
             ],
             [
              1,
              "#f0f921"
             ]
            ],
            "type": "surface"
           }
          ],
          "table": [
           {
            "cells": {
             "fill": {
              "color": "#EBF0F8"
             },
             "line": {
              "color": "white"
             }
            },
            "header": {
             "fill": {
              "color": "#C8D4E3"
             },
             "line": {
              "color": "white"
             }
            },
            "type": "table"
           }
          ]
         },
         "layout": {
          "annotationdefaults": {
           "arrowcolor": "#2a3f5f",
           "arrowhead": 0,
           "arrowwidth": 1
          },
          "autotypenumbers": "strict",
          "coloraxis": {
           "colorbar": {
            "outlinewidth": 0,
            "ticks": ""
           }
          },
          "colorscale": {
           "diverging": [
            [
             0,
             "#8e0152"
            ],
            [
             0.1,
             "#c51b7d"
            ],
            [
             0.2,
             "#de77ae"
            ],
            [
             0.3,
             "#f1b6da"
            ],
            [
             0.4,
             "#fde0ef"
            ],
            [
             0.5,
             "#f7f7f7"
            ],
            [
             0.6,
             "#e6f5d0"
            ],
            [
             0.7,
             "#b8e186"
            ],
            [
             0.8,
             "#7fbc41"
            ],
            [
             0.9,
             "#4d9221"
            ],
            [
             1,
             "#276419"
            ]
           ],
           "sequential": [
            [
             0,
             "#0d0887"
            ],
            [
             0.1111111111111111,
             "#46039f"
            ],
            [
             0.2222222222222222,
             "#7201a8"
            ],
            [
             0.3333333333333333,
             "#9c179e"
            ],
            [
             0.4444444444444444,
             "#bd3786"
            ],
            [
             0.5555555555555556,
             "#d8576b"
            ],
            [
             0.6666666666666666,
             "#ed7953"
            ],
            [
             0.7777777777777778,
             "#fb9f3a"
            ],
            [
             0.8888888888888888,
             "#fdca26"
            ],
            [
             1,
             "#f0f921"
            ]
           ],
           "sequentialminus": [
            [
             0,
             "#0d0887"
            ],
            [
             0.1111111111111111,
             "#46039f"
            ],
            [
             0.2222222222222222,
             "#7201a8"
            ],
            [
             0.3333333333333333,
             "#9c179e"
            ],
            [
             0.4444444444444444,
             "#bd3786"
            ],
            [
             0.5555555555555556,
             "#d8576b"
            ],
            [
             0.6666666666666666,
             "#ed7953"
            ],
            [
             0.7777777777777778,
             "#fb9f3a"
            ],
            [
             0.8888888888888888,
             "#fdca26"
            ],
            [
             1,
             "#f0f921"
            ]
           ]
          },
          "colorway": [
           "#636efa",
           "#EF553B",
           "#00cc96",
           "#ab63fa",
           "#FFA15A",
           "#19d3f3",
           "#FF6692",
           "#B6E880",
           "#FF97FF",
           "#FECB52"
          ],
          "font": {
           "color": "#2a3f5f"
          },
          "geo": {
           "bgcolor": "white",
           "lakecolor": "white",
           "landcolor": "#E5ECF6",
           "showlakes": true,
           "showland": true,
           "subunitcolor": "white"
          },
          "hoverlabel": {
           "align": "left"
          },
          "hovermode": "closest",
          "mapbox": {
           "style": "light"
          },
          "paper_bgcolor": "white",
          "plot_bgcolor": "#E5ECF6",
          "polar": {
           "angularaxis": {
            "gridcolor": "white",
            "linecolor": "white",
            "ticks": ""
           },
           "bgcolor": "#E5ECF6",
           "radialaxis": {
            "gridcolor": "white",
            "linecolor": "white",
            "ticks": ""
           }
          },
          "scene": {
           "xaxis": {
            "backgroundcolor": "#E5ECF6",
            "gridcolor": "white",
            "gridwidth": 2,
            "linecolor": "white",
            "showbackground": true,
            "ticks": "",
            "zerolinecolor": "white"
           },
           "yaxis": {
            "backgroundcolor": "#E5ECF6",
            "gridcolor": "white",
            "gridwidth": 2,
            "linecolor": "white",
            "showbackground": true,
            "ticks": "",
            "zerolinecolor": "white"
           },
           "zaxis": {
            "backgroundcolor": "#E5ECF6",
            "gridcolor": "white",
            "gridwidth": 2,
            "linecolor": "white",
            "showbackground": true,
            "ticks": "",
            "zerolinecolor": "white"
           }
          },
          "shapedefaults": {
           "line": {
            "color": "#2a3f5f"
           }
          },
          "ternary": {
           "aaxis": {
            "gridcolor": "white",
            "linecolor": "white",
            "ticks": ""
           },
           "baxis": {
            "gridcolor": "white",
            "linecolor": "white",
            "ticks": ""
           },
           "bgcolor": "#E5ECF6",
           "caxis": {
            "gridcolor": "white",
            "linecolor": "white",
            "ticks": ""
           }
          },
          "title": {
           "x": 0.05
          },
          "xaxis": {
           "automargin": true,
           "gridcolor": "white",
           "linecolor": "white",
           "ticks": "",
           "title": {
            "standoff": 15
           },
           "zerolinecolor": "white",
           "zerolinewidth": 2
          },
          "yaxis": {
           "automargin": true,
           "gridcolor": "white",
           "linecolor": "white",
           "ticks": "",
           "title": {
            "standoff": 15
           },
           "zerolinecolor": "white",
           "zerolinewidth": 2
          }
         }
        }
       }
      }
     },
     "metadata": {},
     "output_type": "display_data"
    }
   ],
   "source": [
    "fig = go.Figure(\n",
    "    go.Indicator(\n",
    "        mode='number+delta',\n",
    "        value=df_status_realizado['TOTAL_SITUACAO'].values[0],\n",
    "        delta={\n",
    "            'position': 'top', \n",
    "            'reference': df_status_realizado['TOTAL_SITUACAO_MES_ANTERIOR'].values[0], \n",
    "            'relative': True,\n",
    "        },\n",
    "        title={\n",
    "            'text': 'Total Situação Vôos Realizados'\n",
    "        }\n",
    "    )\n",
    ")\n",
    "fig.show()"
   ]
  },
  {
   "cell_type": "markdown",
   "metadata": {},
   "source": [
    "- Composição das situação do voo filtre por aeroporto em empresa"
   ]
  },
  {
   "cell_type": "code",
   "execution_count": 310,
   "metadata": {},
   "outputs": [],
   "source": [
    "colunas = [\n",
    "    'SITUACAO_VOO',\n",
    "    'MES_PARTIDA_PREVISTA',\n",
    "    'NOME_MES_PARTIDA_PREVISTA',\n",
    "    'SIGLA_ICAO_AEROPORTO_ORIGEM',\n",
    "    'NOME_AEROPORTO_ORIGEM',\n",
    "    'SIGLA_ICAO_EMPRESA_AEREA',\n",
    "    'NOME_EMPRESA'\n",
    "\n",
    "]\n",
    "teste = pd.read_parquet('../data/processed/df_final.parquet', columns=colunas)"
   ]
  },
  {
   "cell_type": "code",
   "execution_count": 311,
   "metadata": {},
   "outputs": [
    {
     "data": {
      "text/html": [
       "<div>\n",
       "<style scoped>\n",
       "    .dataframe tbody tr th:only-of-type {\n",
       "        vertical-align: middle;\n",
       "    }\n",
       "\n",
       "    .dataframe tbody tr th {\n",
       "        vertical-align: top;\n",
       "    }\n",
       "\n",
       "    .dataframe thead th {\n",
       "        text-align: right;\n",
       "    }\n",
       "</style>\n",
       "<table border=\"1\" class=\"dataframe\">\n",
       "  <thead>\n",
       "    <tr style=\"text-align: right;\">\n",
       "      <th></th>\n",
       "      <th>SITUACAO_VOO</th>\n",
       "      <th>MES_PARTIDA_PREVISTA</th>\n",
       "      <th>NOME_MES_PARTIDA_PREVISTA</th>\n",
       "      <th>SIGLA_ICAO_AEROPORTO_ORIGEM</th>\n",
       "      <th>NOME_AEROPORTO_ORIGEM</th>\n",
       "      <th>SIGLA_ICAO_EMPRESA_AEREA</th>\n",
       "      <th>NOME_EMPRESA</th>\n",
       "    </tr>\n",
       "  </thead>\n",
       "  <tbody>\n",
       "    <tr>\n",
       "      <th>1929</th>\n",
       "      <td>REALIZADO</td>\n",
       "      <td>1</td>\n",
       "      <td>janeiro</td>\n",
       "      <td>SBRP</td>\n",
       "      <td>LEITE LOPES</td>\n",
       "      <td>AZU</td>\n",
       "      <td>AZUL</td>\n",
       "    </tr>\n",
       "    <tr>\n",
       "      <th>1930</th>\n",
       "      <td>REALIZADO</td>\n",
       "      <td>1</td>\n",
       "      <td>janeiro</td>\n",
       "      <td>SBRP</td>\n",
       "      <td>LEITE LOPES</td>\n",
       "      <td>AZU</td>\n",
       "      <td>AZUL</td>\n",
       "    </tr>\n",
       "    <tr>\n",
       "      <th>1931</th>\n",
       "      <td>REALIZADO</td>\n",
       "      <td>1</td>\n",
       "      <td>janeiro</td>\n",
       "      <td>SBRP</td>\n",
       "      <td>LEITE LOPES</td>\n",
       "      <td>AZU</td>\n",
       "      <td>AZUL</td>\n",
       "    </tr>\n",
       "    <tr>\n",
       "      <th>1932</th>\n",
       "      <td>REALIZADO</td>\n",
       "      <td>1</td>\n",
       "      <td>janeiro</td>\n",
       "      <td>SBRP</td>\n",
       "      <td>LEITE LOPES</td>\n",
       "      <td>AZU</td>\n",
       "      <td>AZUL</td>\n",
       "    </tr>\n",
       "    <tr>\n",
       "      <th>1933</th>\n",
       "      <td>REALIZADO</td>\n",
       "      <td>1</td>\n",
       "      <td>janeiro</td>\n",
       "      <td>SBRP</td>\n",
       "      <td>LEITE LOPES</td>\n",
       "      <td>AZU</td>\n",
       "      <td>AZUL</td>\n",
       "    </tr>\n",
       "  </tbody>\n",
       "</table>\n",
       "</div>"
      ],
      "text/plain": [
       "     SITUACAO_VOO  MES_PARTIDA_PREVISTA NOME_MES_PARTIDA_PREVISTA  \\\n",
       "1929    REALIZADO                     1                   janeiro   \n",
       "1930    REALIZADO                     1                   janeiro   \n",
       "1931    REALIZADO                     1                   janeiro   \n",
       "1932    REALIZADO                     1                   janeiro   \n",
       "1933    REALIZADO                     1                   janeiro   \n",
       "\n",
       "     SIGLA_ICAO_AEROPORTO_ORIGEM NOME_AEROPORTO_ORIGEM  \\\n",
       "1929                        SBRP           LEITE LOPES   \n",
       "1930                        SBRP           LEITE LOPES   \n",
       "1931                        SBRP           LEITE LOPES   \n",
       "1932                        SBRP           LEITE LOPES   \n",
       "1933                        SBRP           LEITE LOPES   \n",
       "\n",
       "     SIGLA_ICAO_EMPRESA_AEREA NOME_EMPRESA  \n",
       "1929                      AZU         AZUL  \n",
       "1930                      AZU         AZUL  \n",
       "1931                      AZU         AZUL  \n",
       "1932                      AZU         AZUL  \n",
       "1933                      AZU         AZUL  "
      ]
     },
     "execution_count": 311,
     "metadata": {},
     "output_type": "execute_result"
    }
   ],
   "source": [
    "teste = teste.query('SIGLA_ICAO_AEROPORTO_ORIGEM == \"SBRP\"  and SIGLA_ICAO_EMPRESA_AEREA ==\"AZU\"') #  and SITUACAO_VOO==\"REALIZADO\"\n",
    "teste.head()"
   ]
  },
  {
   "cell_type": "code",
   "execution_count": 312,
   "metadata": {},
   "outputs": [],
   "source": [
    "teste[['SITUACAO_VOO', 'NOME_MES_PARTIDA_PREVISTA']] = teste[['SITUACAO_VOO', 'NOME_MES_PARTIDA_PREVISTA']].astype('string')"
   ]
  },
  {
   "cell_type": "code",
   "execution_count": 313,
   "metadata": {},
   "outputs": [
    {
     "data": {
      "text/html": [
       "<div>\n",
       "<style scoped>\n",
       "    .dataframe tbody tr th:only-of-type {\n",
       "        vertical-align: middle;\n",
       "    }\n",
       "\n",
       "    .dataframe tbody tr th {\n",
       "        vertical-align: top;\n",
       "    }\n",
       "\n",
       "    .dataframe thead th {\n",
       "        text-align: right;\n",
       "    }\n",
       "</style>\n",
       "<table border=\"1\" class=\"dataframe\">\n",
       "  <thead>\n",
       "    <tr style=\"text-align: right;\">\n",
       "      <th></th>\n",
       "      <th>SITUACAO_VOO</th>\n",
       "      <th>NOME_MES_PARTIDA_PREVISTA</th>\n",
       "      <th>MES_PARTIDA_PREVISTA</th>\n",
       "      <th>TOTAL_VOOS</th>\n",
       "    </tr>\n",
       "  </thead>\n",
       "  <tbody>\n",
       "    <tr>\n",
       "      <th>3</th>\n",
       "      <td>CANCELADO</td>\n",
       "      <td>janeiro</td>\n",
       "      <td>1</td>\n",
       "      <td>17</td>\n",
       "    </tr>\n",
       "    <tr>\n",
       "      <th>15</th>\n",
       "      <td>REALIZADO</td>\n",
       "      <td>janeiro</td>\n",
       "      <td>1</td>\n",
       "      <td>240</td>\n",
       "    </tr>\n",
       "    <tr>\n",
       "      <th>2</th>\n",
       "      <td>CANCELADO</td>\n",
       "      <td>fevereiro</td>\n",
       "      <td>2</td>\n",
       "      <td>2</td>\n",
       "    </tr>\n",
       "    <tr>\n",
       "      <th>14</th>\n",
       "      <td>REALIZADO</td>\n",
       "      <td>fevereiro</td>\n",
       "      <td>2</td>\n",
       "      <td>144</td>\n",
       "    </tr>\n",
       "    <tr>\n",
       "      <th>19</th>\n",
       "      <td>REALIZADO</td>\n",
       "      <td>março</td>\n",
       "      <td>3</td>\n",
       "      <td>171</td>\n",
       "    </tr>\n",
       "    <tr>\n",
       "      <th>7</th>\n",
       "      <td>CANCELADO</td>\n",
       "      <td>março</td>\n",
       "      <td>3</td>\n",
       "      <td>2</td>\n",
       "    </tr>\n",
       "    <tr>\n",
       "      <th>11</th>\n",
       "      <td>REALIZADO</td>\n",
       "      <td>abril</td>\n",
       "      <td>4</td>\n",
       "      <td>194</td>\n",
       "    </tr>\n",
       "    <tr>\n",
       "      <th>6</th>\n",
       "      <td>CANCELADO</td>\n",
       "      <td>maio</td>\n",
       "      <td>5</td>\n",
       "      <td>9</td>\n",
       "    </tr>\n",
       "    <tr>\n",
       "      <th>18</th>\n",
       "      <td>REALIZADO</td>\n",
       "      <td>maio</td>\n",
       "      <td>5</td>\n",
       "      <td>212</td>\n",
       "    </tr>\n",
       "    <tr>\n",
       "      <th>5</th>\n",
       "      <td>CANCELADO</td>\n",
       "      <td>junho</td>\n",
       "      <td>6</td>\n",
       "      <td>13</td>\n",
       "    </tr>\n",
       "    <tr>\n",
       "      <th>17</th>\n",
       "      <td>REALIZADO</td>\n",
       "      <td>junho</td>\n",
       "      <td>6</td>\n",
       "      <td>190</td>\n",
       "    </tr>\n",
       "    <tr>\n",
       "      <th>4</th>\n",
       "      <td>CANCELADO</td>\n",
       "      <td>julho</td>\n",
       "      <td>7</td>\n",
       "      <td>4</td>\n",
       "    </tr>\n",
       "    <tr>\n",
       "      <th>16</th>\n",
       "      <td>REALIZADO</td>\n",
       "      <td>julho</td>\n",
       "      <td>7</td>\n",
       "      <td>219</td>\n",
       "    </tr>\n",
       "    <tr>\n",
       "      <th>0</th>\n",
       "      <td>CANCELADO</td>\n",
       "      <td>agosto</td>\n",
       "      <td>8</td>\n",
       "      <td>3</td>\n",
       "    </tr>\n",
       "    <tr>\n",
       "      <th>12</th>\n",
       "      <td>REALIZADO</td>\n",
       "      <td>agosto</td>\n",
       "      <td>8</td>\n",
       "      <td>195</td>\n",
       "    </tr>\n",
       "    <tr>\n",
       "      <th>10</th>\n",
       "      <td>CANCELADO</td>\n",
       "      <td>setembro</td>\n",
       "      <td>9</td>\n",
       "      <td>11</td>\n",
       "    </tr>\n",
       "    <tr>\n",
       "      <th>22</th>\n",
       "      <td>REALIZADO</td>\n",
       "      <td>setembro</td>\n",
       "      <td>9</td>\n",
       "      <td>185</td>\n",
       "    </tr>\n",
       "    <tr>\n",
       "      <th>21</th>\n",
       "      <td>REALIZADO</td>\n",
       "      <td>outubro</td>\n",
       "      <td>10</td>\n",
       "      <td>180</td>\n",
       "    </tr>\n",
       "    <tr>\n",
       "      <th>9</th>\n",
       "      <td>CANCELADO</td>\n",
       "      <td>outubro</td>\n",
       "      <td>10</td>\n",
       "      <td>15</td>\n",
       "    </tr>\n",
       "    <tr>\n",
       "      <th>8</th>\n",
       "      <td>CANCELADO</td>\n",
       "      <td>novembro</td>\n",
       "      <td>11</td>\n",
       "      <td>10</td>\n",
       "    </tr>\n",
       "    <tr>\n",
       "      <th>20</th>\n",
       "      <td>REALIZADO</td>\n",
       "      <td>novembro</td>\n",
       "      <td>11</td>\n",
       "      <td>167</td>\n",
       "    </tr>\n",
       "    <tr>\n",
       "      <th>1</th>\n",
       "      <td>CANCELADO</td>\n",
       "      <td>dezembro</td>\n",
       "      <td>12</td>\n",
       "      <td>12</td>\n",
       "    </tr>\n",
       "    <tr>\n",
       "      <th>13</th>\n",
       "      <td>REALIZADO</td>\n",
       "      <td>dezembro</td>\n",
       "      <td>12</td>\n",
       "      <td>166</td>\n",
       "    </tr>\n",
       "  </tbody>\n",
       "</table>\n",
       "</div>"
      ],
      "text/plain": [
       "   SITUACAO_VOO NOME_MES_PARTIDA_PREVISTA  MES_PARTIDA_PREVISTA  TOTAL_VOOS\n",
       "3     CANCELADO                   janeiro                     1          17\n",
       "15    REALIZADO                   janeiro                     1         240\n",
       "2     CANCELADO                 fevereiro                     2           2\n",
       "14    REALIZADO                 fevereiro                     2         144\n",
       "19    REALIZADO                     março                     3         171\n",
       "7     CANCELADO                     março                     3           2\n",
       "11    REALIZADO                     abril                     4         194\n",
       "6     CANCELADO                      maio                     5           9\n",
       "18    REALIZADO                      maio                     5         212\n",
       "5     CANCELADO                     junho                     6          13\n",
       "17    REALIZADO                     junho                     6         190\n",
       "4     CANCELADO                     julho                     7           4\n",
       "16    REALIZADO                     julho                     7         219\n",
       "0     CANCELADO                    agosto                     8           3\n",
       "12    REALIZADO                    agosto                     8         195\n",
       "10    CANCELADO                  setembro                     9          11\n",
       "22    REALIZADO                  setembro                     9         185\n",
       "21    REALIZADO                   outubro                    10         180\n",
       "9     CANCELADO                   outubro                    10          15\n",
       "8     CANCELADO                  novembro                    11          10\n",
       "20    REALIZADO                  novembro                    11         167\n",
       "1     CANCELADO                  dezembro                    12          12\n",
       "13    REALIZADO                  dezembro                    12         166"
      ]
     },
     "execution_count": 313,
     "metadata": {},
     "output_type": "execute_result"
    }
   ],
   "source": [
    "teste_gb = teste.groupby(['SITUACAO_VOO', 'NOME_MES_PARTIDA_PREVISTA', 'MES_PARTIDA_PREVISTA']).agg(\n",
    "    TOTAL_VOOS=('NOME_MES_PARTIDA_PREVISTA', 'count')\n",
    ").reset_index().sort_values(by=['MES_PARTIDA_PREVISTA'])\n",
    "teste_gb"
   ]
  },
  {
   "cell_type": "code",
   "execution_count": 318,
   "metadata": {},
   "outputs": [
    {
     "data": {
      "text/html": [
       "<div>\n",
       "<style scoped>\n",
       "    .dataframe tbody tr th:only-of-type {\n",
       "        vertical-align: middle;\n",
       "    }\n",
       "\n",
       "    .dataframe tbody tr th {\n",
       "        vertical-align: top;\n",
       "    }\n",
       "\n",
       "    .dataframe thead th {\n",
       "        text-align: right;\n",
       "    }\n",
       "</style>\n",
       "<table border=\"1\" class=\"dataframe\">\n",
       "  <thead>\n",
       "    <tr style=\"text-align: right;\">\n",
       "      <th></th>\n",
       "      <th>NOME_MES_PARTIDA_PREVISTA</th>\n",
       "      <th>MES_PARTIDA_PREVISTA</th>\n",
       "      <th>TOTAL_VOO_MES</th>\n",
       "    </tr>\n",
       "  </thead>\n",
       "  <tbody>\n",
       "    <tr>\n",
       "      <th>4</th>\n",
       "      <td>janeiro</td>\n",
       "      <td>1</td>\n",
       "      <td>257</td>\n",
       "    </tr>\n",
       "    <tr>\n",
       "      <th>3</th>\n",
       "      <td>fevereiro</td>\n",
       "      <td>2</td>\n",
       "      <td>146</td>\n",
       "    </tr>\n",
       "    <tr>\n",
       "      <th>8</th>\n",
       "      <td>março</td>\n",
       "      <td>3</td>\n",
       "      <td>173</td>\n",
       "    </tr>\n",
       "    <tr>\n",
       "      <th>0</th>\n",
       "      <td>abril</td>\n",
       "      <td>4</td>\n",
       "      <td>194</td>\n",
       "    </tr>\n",
       "    <tr>\n",
       "      <th>7</th>\n",
       "      <td>maio</td>\n",
       "      <td>5</td>\n",
       "      <td>221</td>\n",
       "    </tr>\n",
       "    <tr>\n",
       "      <th>6</th>\n",
       "      <td>junho</td>\n",
       "      <td>6</td>\n",
       "      <td>203</td>\n",
       "    </tr>\n",
       "    <tr>\n",
       "      <th>5</th>\n",
       "      <td>julho</td>\n",
       "      <td>7</td>\n",
       "      <td>223</td>\n",
       "    </tr>\n",
       "    <tr>\n",
       "      <th>1</th>\n",
       "      <td>agosto</td>\n",
       "      <td>8</td>\n",
       "      <td>198</td>\n",
       "    </tr>\n",
       "    <tr>\n",
       "      <th>11</th>\n",
       "      <td>setembro</td>\n",
       "      <td>9</td>\n",
       "      <td>196</td>\n",
       "    </tr>\n",
       "    <tr>\n",
       "      <th>10</th>\n",
       "      <td>outubro</td>\n",
       "      <td>10</td>\n",
       "      <td>195</td>\n",
       "    </tr>\n",
       "    <tr>\n",
       "      <th>9</th>\n",
       "      <td>novembro</td>\n",
       "      <td>11</td>\n",
       "      <td>177</td>\n",
       "    </tr>\n",
       "    <tr>\n",
       "      <th>2</th>\n",
       "      <td>dezembro</td>\n",
       "      <td>12</td>\n",
       "      <td>178</td>\n",
       "    </tr>\n",
       "  </tbody>\n",
       "</table>\n",
       "</div>"
      ],
      "text/plain": [
       "   NOME_MES_PARTIDA_PREVISTA  MES_PARTIDA_PREVISTA  TOTAL_VOO_MES\n",
       "4                    janeiro                     1            257\n",
       "3                  fevereiro                     2            146\n",
       "8                      março                     3            173\n",
       "0                      abril                     4            194\n",
       "7                       maio                     5            221\n",
       "6                      junho                     6            203\n",
       "5                      julho                     7            223\n",
       "1                     agosto                     8            198\n",
       "11                  setembro                     9            196\n",
       "10                   outubro                    10            195\n",
       "9                   novembro                    11            177\n",
       "2                   dezembro                    12            178"
      ]
     },
     "execution_count": 318,
     "metadata": {},
     "output_type": "execute_result"
    }
   ],
   "source": [
    "teste_total = teste_gb.groupby([ 'NOME_MES_PARTIDA_PREVISTA', 'MES_PARTIDA_PREVISTA']).agg(\n",
    "    TOTAL_VOO_MES=('TOTAL_VOOS', 'sum')\n",
    ").reset_index().sort_values(by=['MES_PARTIDA_PREVISTA'])\n",
    "teste_total"
   ]
  },
  {
   "cell_type": "code",
   "execution_count": 323,
   "metadata": {},
   "outputs": [],
   "source": [
    "\n",
    "def obter_variacao(linha):\n",
    "    try:\n",
    "        total_voo_mes = linha['TOTAL_VOO_MES']\n",
    "        total_voo = linha['TOTAL_VOOS']\n",
    "        variacao = (total_voo * 100) / total_voo_mes\n",
    "    except ZeroDivisionError:\n",
    "        variacao = 0\n",
    "    return round(variacao, 2)\n"
   ]
  },
  {
   "cell_type": "code",
   "execution_count": 322,
   "metadata": {},
   "outputs": [
    {
     "data": {
      "text/html": [
       "<div>\n",
       "<style scoped>\n",
       "    .dataframe tbody tr th:only-of-type {\n",
       "        vertical-align: middle;\n",
       "    }\n",
       "\n",
       "    .dataframe tbody tr th {\n",
       "        vertical-align: top;\n",
       "    }\n",
       "\n",
       "    .dataframe thead th {\n",
       "        text-align: right;\n",
       "    }\n",
       "</style>\n",
       "<table border=\"1\" class=\"dataframe\">\n",
       "  <thead>\n",
       "    <tr style=\"text-align: right;\">\n",
       "      <th></th>\n",
       "      <th>NOME_MES_PARTIDA_PREVISTA</th>\n",
       "      <th>SITUACAO_VOO</th>\n",
       "      <th>TOTAL_VOOS</th>\n",
       "      <th>TOTAL_VOO_MES</th>\n",
       "    </tr>\n",
       "  </thead>\n",
       "  <tbody>\n",
       "    <tr>\n",
       "      <th>0</th>\n",
       "      <td>janeiro</td>\n",
       "      <td>CANCELADO</td>\n",
       "      <td>17</td>\n",
       "      <td>257</td>\n",
       "    </tr>\n",
       "    <tr>\n",
       "      <th>1</th>\n",
       "      <td>janeiro</td>\n",
       "      <td>REALIZADO</td>\n",
       "      <td>240</td>\n",
       "      <td>257</td>\n",
       "    </tr>\n",
       "    <tr>\n",
       "      <th>2</th>\n",
       "      <td>fevereiro</td>\n",
       "      <td>CANCELADO</td>\n",
       "      <td>2</td>\n",
       "      <td>146</td>\n",
       "    </tr>\n",
       "    <tr>\n",
       "      <th>3</th>\n",
       "      <td>fevereiro</td>\n",
       "      <td>REALIZADO</td>\n",
       "      <td>144</td>\n",
       "      <td>146</td>\n",
       "    </tr>\n",
       "    <tr>\n",
       "      <th>4</th>\n",
       "      <td>março</td>\n",
       "      <td>REALIZADO</td>\n",
       "      <td>171</td>\n",
       "      <td>173</td>\n",
       "    </tr>\n",
       "    <tr>\n",
       "      <th>5</th>\n",
       "      <td>março</td>\n",
       "      <td>CANCELADO</td>\n",
       "      <td>2</td>\n",
       "      <td>173</td>\n",
       "    </tr>\n",
       "    <tr>\n",
       "      <th>6</th>\n",
       "      <td>abril</td>\n",
       "      <td>REALIZADO</td>\n",
       "      <td>194</td>\n",
       "      <td>194</td>\n",
       "    </tr>\n",
       "    <tr>\n",
       "      <th>7</th>\n",
       "      <td>maio</td>\n",
       "      <td>CANCELADO</td>\n",
       "      <td>9</td>\n",
       "      <td>221</td>\n",
       "    </tr>\n",
       "    <tr>\n",
       "      <th>8</th>\n",
       "      <td>maio</td>\n",
       "      <td>REALIZADO</td>\n",
       "      <td>212</td>\n",
       "      <td>221</td>\n",
       "    </tr>\n",
       "    <tr>\n",
       "      <th>9</th>\n",
       "      <td>junho</td>\n",
       "      <td>CANCELADO</td>\n",
       "      <td>13</td>\n",
       "      <td>203</td>\n",
       "    </tr>\n",
       "    <tr>\n",
       "      <th>10</th>\n",
       "      <td>junho</td>\n",
       "      <td>REALIZADO</td>\n",
       "      <td>190</td>\n",
       "      <td>203</td>\n",
       "    </tr>\n",
       "    <tr>\n",
       "      <th>11</th>\n",
       "      <td>julho</td>\n",
       "      <td>CANCELADO</td>\n",
       "      <td>4</td>\n",
       "      <td>223</td>\n",
       "    </tr>\n",
       "    <tr>\n",
       "      <th>12</th>\n",
       "      <td>julho</td>\n",
       "      <td>REALIZADO</td>\n",
       "      <td>219</td>\n",
       "      <td>223</td>\n",
       "    </tr>\n",
       "    <tr>\n",
       "      <th>13</th>\n",
       "      <td>agosto</td>\n",
       "      <td>CANCELADO</td>\n",
       "      <td>3</td>\n",
       "      <td>198</td>\n",
       "    </tr>\n",
       "    <tr>\n",
       "      <th>14</th>\n",
       "      <td>agosto</td>\n",
       "      <td>REALIZADO</td>\n",
       "      <td>195</td>\n",
       "      <td>198</td>\n",
       "    </tr>\n",
       "    <tr>\n",
       "      <th>15</th>\n",
       "      <td>setembro</td>\n",
       "      <td>CANCELADO</td>\n",
       "      <td>11</td>\n",
       "      <td>196</td>\n",
       "    </tr>\n",
       "    <tr>\n",
       "      <th>16</th>\n",
       "      <td>setembro</td>\n",
       "      <td>REALIZADO</td>\n",
       "      <td>185</td>\n",
       "      <td>196</td>\n",
       "    </tr>\n",
       "    <tr>\n",
       "      <th>17</th>\n",
       "      <td>outubro</td>\n",
       "      <td>REALIZADO</td>\n",
       "      <td>180</td>\n",
       "      <td>195</td>\n",
       "    </tr>\n",
       "    <tr>\n",
       "      <th>18</th>\n",
       "      <td>outubro</td>\n",
       "      <td>CANCELADO</td>\n",
       "      <td>15</td>\n",
       "      <td>195</td>\n",
       "    </tr>\n",
       "    <tr>\n",
       "      <th>19</th>\n",
       "      <td>novembro</td>\n",
       "      <td>CANCELADO</td>\n",
       "      <td>10</td>\n",
       "      <td>177</td>\n",
       "    </tr>\n",
       "    <tr>\n",
       "      <th>20</th>\n",
       "      <td>novembro</td>\n",
       "      <td>REALIZADO</td>\n",
       "      <td>167</td>\n",
       "      <td>177</td>\n",
       "    </tr>\n",
       "    <tr>\n",
       "      <th>21</th>\n",
       "      <td>dezembro</td>\n",
       "      <td>CANCELADO</td>\n",
       "      <td>12</td>\n",
       "      <td>178</td>\n",
       "    </tr>\n",
       "    <tr>\n",
       "      <th>22</th>\n",
       "      <td>dezembro</td>\n",
       "      <td>REALIZADO</td>\n",
       "      <td>166</td>\n",
       "      <td>178</td>\n",
       "    </tr>\n",
       "  </tbody>\n",
       "</table>\n",
       "</div>"
      ],
      "text/plain": [
       "   NOME_MES_PARTIDA_PREVISTA SITUACAO_VOO  TOTAL_VOOS  TOTAL_VOO_MES\n",
       "0                    janeiro    CANCELADO          17            257\n",
       "1                    janeiro    REALIZADO         240            257\n",
       "2                  fevereiro    CANCELADO           2            146\n",
       "3                  fevereiro    REALIZADO         144            146\n",
       "4                      março    REALIZADO         171            173\n",
       "5                      março    CANCELADO           2            173\n",
       "6                      abril    REALIZADO         194            194\n",
       "7                       maio    CANCELADO           9            221\n",
       "8                       maio    REALIZADO         212            221\n",
       "9                      junho    CANCELADO          13            203\n",
       "10                     junho    REALIZADO         190            203\n",
       "11                     julho    CANCELADO           4            223\n",
       "12                     julho    REALIZADO         219            223\n",
       "13                    agosto    CANCELADO           3            198\n",
       "14                    agosto    REALIZADO         195            198\n",
       "15                  setembro    CANCELADO          11            196\n",
       "16                  setembro    REALIZADO         185            196\n",
       "17                   outubro    REALIZADO         180            195\n",
       "18                   outubro    CANCELADO          15            195\n",
       "19                  novembro    CANCELADO          10            177\n",
       "20                  novembro    REALIZADO         167            177\n",
       "21                  dezembro    CANCELADO          12            178\n",
       "22                  dezembro    REALIZADO         166            178"
      ]
     },
     "execution_count": 322,
     "metadata": {},
     "output_type": "execute_result"
    }
   ],
   "source": [
    "teste_completo = teste_total.merge(teste_gb, how='inner', on='NOME_MES_PARTIDA_PREVISTA')\n",
    "teste_completo[['NOME_MES_PARTIDA_PREVISTA', 'SITUACAO_VOO', 'TOTAL_VOOS', 'TOTAL_VOO_MES']]"
   ]
  },
  {
   "cell_type": "code",
   "execution_count": 324,
   "metadata": {},
   "outputs": [
    {
     "data": {
      "text/html": [
       "<div>\n",
       "<style scoped>\n",
       "    .dataframe tbody tr th:only-of-type {\n",
       "        vertical-align: middle;\n",
       "    }\n",
       "\n",
       "    .dataframe tbody tr th {\n",
       "        vertical-align: top;\n",
       "    }\n",
       "\n",
       "    .dataframe thead th {\n",
       "        text-align: right;\n",
       "    }\n",
       "</style>\n",
       "<table border=\"1\" class=\"dataframe\">\n",
       "  <thead>\n",
       "    <tr style=\"text-align: right;\">\n",
       "      <th></th>\n",
       "      <th>NOME_MES_PARTIDA_PREVISTA</th>\n",
       "      <th>MES_PARTIDA_PREVISTA_x</th>\n",
       "      <th>TOTAL_VOO_MES</th>\n",
       "      <th>SITUACAO_VOO</th>\n",
       "      <th>MES_PARTIDA_PREVISTA_y</th>\n",
       "      <th>TOTAL_VOOS</th>\n",
       "      <th>VARIACAO_MENSAL</th>\n",
       "    </tr>\n",
       "  </thead>\n",
       "  <tbody>\n",
       "    <tr>\n",
       "      <th>0</th>\n",
       "      <td>janeiro</td>\n",
       "      <td>1</td>\n",
       "      <td>257</td>\n",
       "      <td>CANCELADO</td>\n",
       "      <td>1</td>\n",
       "      <td>17</td>\n",
       "      <td>6.61</td>\n",
       "    </tr>\n",
       "    <tr>\n",
       "      <th>1</th>\n",
       "      <td>janeiro</td>\n",
       "      <td>1</td>\n",
       "      <td>257</td>\n",
       "      <td>REALIZADO</td>\n",
       "      <td>1</td>\n",
       "      <td>240</td>\n",
       "      <td>93.39</td>\n",
       "    </tr>\n",
       "    <tr>\n",
       "      <th>2</th>\n",
       "      <td>fevereiro</td>\n",
       "      <td>2</td>\n",
       "      <td>146</td>\n",
       "      <td>CANCELADO</td>\n",
       "      <td>2</td>\n",
       "      <td>2</td>\n",
       "      <td>1.37</td>\n",
       "    </tr>\n",
       "    <tr>\n",
       "      <th>3</th>\n",
       "      <td>fevereiro</td>\n",
       "      <td>2</td>\n",
       "      <td>146</td>\n",
       "      <td>REALIZADO</td>\n",
       "      <td>2</td>\n",
       "      <td>144</td>\n",
       "      <td>98.63</td>\n",
       "    </tr>\n",
       "    <tr>\n",
       "      <th>4</th>\n",
       "      <td>março</td>\n",
       "      <td>3</td>\n",
       "      <td>173</td>\n",
       "      <td>REALIZADO</td>\n",
       "      <td>3</td>\n",
       "      <td>171</td>\n",
       "      <td>98.84</td>\n",
       "    </tr>\n",
       "    <tr>\n",
       "      <th>5</th>\n",
       "      <td>março</td>\n",
       "      <td>3</td>\n",
       "      <td>173</td>\n",
       "      <td>CANCELADO</td>\n",
       "      <td>3</td>\n",
       "      <td>2</td>\n",
       "      <td>1.16</td>\n",
       "    </tr>\n",
       "    <tr>\n",
       "      <th>6</th>\n",
       "      <td>abril</td>\n",
       "      <td>4</td>\n",
       "      <td>194</td>\n",
       "      <td>REALIZADO</td>\n",
       "      <td>4</td>\n",
       "      <td>194</td>\n",
       "      <td>100.00</td>\n",
       "    </tr>\n",
       "    <tr>\n",
       "      <th>7</th>\n",
       "      <td>maio</td>\n",
       "      <td>5</td>\n",
       "      <td>221</td>\n",
       "      <td>CANCELADO</td>\n",
       "      <td>5</td>\n",
       "      <td>9</td>\n",
       "      <td>4.07</td>\n",
       "    </tr>\n",
       "    <tr>\n",
       "      <th>8</th>\n",
       "      <td>maio</td>\n",
       "      <td>5</td>\n",
       "      <td>221</td>\n",
       "      <td>REALIZADO</td>\n",
       "      <td>5</td>\n",
       "      <td>212</td>\n",
       "      <td>95.93</td>\n",
       "    </tr>\n",
       "    <tr>\n",
       "      <th>9</th>\n",
       "      <td>junho</td>\n",
       "      <td>6</td>\n",
       "      <td>203</td>\n",
       "      <td>CANCELADO</td>\n",
       "      <td>6</td>\n",
       "      <td>13</td>\n",
       "      <td>6.40</td>\n",
       "    </tr>\n",
       "    <tr>\n",
       "      <th>10</th>\n",
       "      <td>junho</td>\n",
       "      <td>6</td>\n",
       "      <td>203</td>\n",
       "      <td>REALIZADO</td>\n",
       "      <td>6</td>\n",
       "      <td>190</td>\n",
       "      <td>93.60</td>\n",
       "    </tr>\n",
       "    <tr>\n",
       "      <th>11</th>\n",
       "      <td>julho</td>\n",
       "      <td>7</td>\n",
       "      <td>223</td>\n",
       "      <td>CANCELADO</td>\n",
       "      <td>7</td>\n",
       "      <td>4</td>\n",
       "      <td>1.79</td>\n",
       "    </tr>\n",
       "    <tr>\n",
       "      <th>12</th>\n",
       "      <td>julho</td>\n",
       "      <td>7</td>\n",
       "      <td>223</td>\n",
       "      <td>REALIZADO</td>\n",
       "      <td>7</td>\n",
       "      <td>219</td>\n",
       "      <td>98.21</td>\n",
       "    </tr>\n",
       "    <tr>\n",
       "      <th>13</th>\n",
       "      <td>agosto</td>\n",
       "      <td>8</td>\n",
       "      <td>198</td>\n",
       "      <td>CANCELADO</td>\n",
       "      <td>8</td>\n",
       "      <td>3</td>\n",
       "      <td>1.52</td>\n",
       "    </tr>\n",
       "    <tr>\n",
       "      <th>14</th>\n",
       "      <td>agosto</td>\n",
       "      <td>8</td>\n",
       "      <td>198</td>\n",
       "      <td>REALIZADO</td>\n",
       "      <td>8</td>\n",
       "      <td>195</td>\n",
       "      <td>98.48</td>\n",
       "    </tr>\n",
       "    <tr>\n",
       "      <th>15</th>\n",
       "      <td>setembro</td>\n",
       "      <td>9</td>\n",
       "      <td>196</td>\n",
       "      <td>CANCELADO</td>\n",
       "      <td>9</td>\n",
       "      <td>11</td>\n",
       "      <td>5.61</td>\n",
       "    </tr>\n",
       "    <tr>\n",
       "      <th>16</th>\n",
       "      <td>setembro</td>\n",
       "      <td>9</td>\n",
       "      <td>196</td>\n",
       "      <td>REALIZADO</td>\n",
       "      <td>9</td>\n",
       "      <td>185</td>\n",
       "      <td>94.39</td>\n",
       "    </tr>\n",
       "    <tr>\n",
       "      <th>17</th>\n",
       "      <td>outubro</td>\n",
       "      <td>10</td>\n",
       "      <td>195</td>\n",
       "      <td>REALIZADO</td>\n",
       "      <td>10</td>\n",
       "      <td>180</td>\n",
       "      <td>92.31</td>\n",
       "    </tr>\n",
       "    <tr>\n",
       "      <th>18</th>\n",
       "      <td>outubro</td>\n",
       "      <td>10</td>\n",
       "      <td>195</td>\n",
       "      <td>CANCELADO</td>\n",
       "      <td>10</td>\n",
       "      <td>15</td>\n",
       "      <td>7.69</td>\n",
       "    </tr>\n",
       "    <tr>\n",
       "      <th>19</th>\n",
       "      <td>novembro</td>\n",
       "      <td>11</td>\n",
       "      <td>177</td>\n",
       "      <td>CANCELADO</td>\n",
       "      <td>11</td>\n",
       "      <td>10</td>\n",
       "      <td>5.65</td>\n",
       "    </tr>\n",
       "    <tr>\n",
       "      <th>20</th>\n",
       "      <td>novembro</td>\n",
       "      <td>11</td>\n",
       "      <td>177</td>\n",
       "      <td>REALIZADO</td>\n",
       "      <td>11</td>\n",
       "      <td>167</td>\n",
       "      <td>94.35</td>\n",
       "    </tr>\n",
       "    <tr>\n",
       "      <th>21</th>\n",
       "      <td>dezembro</td>\n",
       "      <td>12</td>\n",
       "      <td>178</td>\n",
       "      <td>CANCELADO</td>\n",
       "      <td>12</td>\n",
       "      <td>12</td>\n",
       "      <td>6.74</td>\n",
       "    </tr>\n",
       "    <tr>\n",
       "      <th>22</th>\n",
       "      <td>dezembro</td>\n",
       "      <td>12</td>\n",
       "      <td>178</td>\n",
       "      <td>REALIZADO</td>\n",
       "      <td>12</td>\n",
       "      <td>166</td>\n",
       "      <td>93.26</td>\n",
       "    </tr>\n",
       "  </tbody>\n",
       "</table>\n",
       "</div>"
      ],
      "text/plain": [
       "   NOME_MES_PARTIDA_PREVISTA  MES_PARTIDA_PREVISTA_x  TOTAL_VOO_MES  \\\n",
       "0                    janeiro                       1            257   \n",
       "1                    janeiro                       1            257   \n",
       "2                  fevereiro                       2            146   \n",
       "3                  fevereiro                       2            146   \n",
       "4                      março                       3            173   \n",
       "5                      março                       3            173   \n",
       "6                      abril                       4            194   \n",
       "7                       maio                       5            221   \n",
       "8                       maio                       5            221   \n",
       "9                      junho                       6            203   \n",
       "10                     junho                       6            203   \n",
       "11                     julho                       7            223   \n",
       "12                     julho                       7            223   \n",
       "13                    agosto                       8            198   \n",
       "14                    agosto                       8            198   \n",
       "15                  setembro                       9            196   \n",
       "16                  setembro                       9            196   \n",
       "17                   outubro                      10            195   \n",
       "18                   outubro                      10            195   \n",
       "19                  novembro                      11            177   \n",
       "20                  novembro                      11            177   \n",
       "21                  dezembro                      12            178   \n",
       "22                  dezembro                      12            178   \n",
       "\n",
       "   SITUACAO_VOO  MES_PARTIDA_PREVISTA_y  TOTAL_VOOS  VARIACAO_MENSAL  \n",
       "0     CANCELADO                       1          17             6.61  \n",
       "1     REALIZADO                       1         240            93.39  \n",
       "2     CANCELADO                       2           2             1.37  \n",
       "3     REALIZADO                       2         144            98.63  \n",
       "4     REALIZADO                       3         171            98.84  \n",
       "5     CANCELADO                       3           2             1.16  \n",
       "6     REALIZADO                       4         194           100.00  \n",
       "7     CANCELADO                       5           9             4.07  \n",
       "8     REALIZADO                       5         212            95.93  \n",
       "9     CANCELADO                       6          13             6.40  \n",
       "10    REALIZADO                       6         190            93.60  \n",
       "11    CANCELADO                       7           4             1.79  \n",
       "12    REALIZADO                       7         219            98.21  \n",
       "13    CANCELADO                       8           3             1.52  \n",
       "14    REALIZADO                       8         195            98.48  \n",
       "15    CANCELADO                       9          11             5.61  \n",
       "16    REALIZADO                       9         185            94.39  \n",
       "17    REALIZADO                      10         180            92.31  \n",
       "18    CANCELADO                      10          15             7.69  \n",
       "19    CANCELADO                      11          10             5.65  \n",
       "20    REALIZADO                      11         167            94.35  \n",
       "21    CANCELADO                      12          12             6.74  \n",
       "22    REALIZADO                      12         166            93.26  "
      ]
     },
     "execution_count": 324,
     "metadata": {},
     "output_type": "execute_result"
    }
   ],
   "source": [
    "teste_completo['VARIACAO_MENSAL'] = teste_completo.apply(obter_variacao, axis=1)\n",
    "teste_completo"
   ]
  },
  {
   "cell_type": "markdown",
   "metadata": {},
   "source": [
    "- Compare total de vôos realizado no fim de semana em relação por dia útil por mês"
   ]
  },
  {
   "cell_type": "markdown",
   "metadata": {},
   "source": [
    "<p> - Analise a FAIXA_ATRASO_PARTIDA por aeroporto e empresa por dia de semana e por mês </p>\n",
    "<p> O volume de atraso no fim de semana, é maior ou menor em relação ao dia atual</p>\n",
    "<p> Pode ser análisado a incidencia por aeroporto também</p>\n",
    "<p>Detalhe por semana também</p>\n",
    "<p>Eu tenho 3000 vôos que partiram no horário 50%(1500) da empresa A e 50% da empresa B</p>\n"
   ]
  },
  {
   "cell_type": "markdown",
   "metadata": {},
   "source": [
    "<p> - Analise a FAIXA_ATRASO_CHEGADA por aeroporto e empresa por dia de semana e por mês </p>\n",
    "<p> O volume de atraso no fim de semana, é maior ou menor em relação ao dia atual</p>\n",
    "<p> Pode ser análisado a incidencia por aeroporto também</p>\n",
    "<p>Detalhe por semana também</p>\n",
    "<p>Eu tenho 3000 vôos que partiram no horário 50%(1500) da empresa A e 50% da empresa B</p>\n"
   ]
  },
  {
   "cell_type": "markdown",
   "metadata": {},
   "source": [
    "<p> Ranking por FAIXA_ATRASO_CHEGADA selecionando aeroporto  por mês e empresa</p>"
   ]
  },
  {
   "cell_type": "markdown",
   "metadata": {},
   "source": [
    "<p> Ranking por FAIXA_ATRASO_SAIDA selecionando aeroporto em empresa por mês</p>"
   ]
  },
  {
   "cell_type": "markdown",
   "metadata": {},
   "source": [
    "<p> Quantifique a porcentagem por FAIXA_ATRASO_CHEGADA selecionando aeroportoa por mês</p>"
   ]
  },
  {
   "cell_type": "markdown",
   "metadata": {},
   "source": [
    "<p> Quantifique a porcentagem por FAIXA_ATRASO_PARTIFA selecionando aeroporto  por mês</p>"
   ]
  }
 ],
 "metadata": {
  "kernelspec": {
   "display_name": "venv",
   "language": "python",
   "name": "python3"
  },
  "language_info": {
   "codemirror_mode": {
    "name": "ipython",
    "version": 3
   },
   "file_extension": ".py",
   "mimetype": "text/x-python",
   "name": "python",
   "nbconvert_exporter": "python",
   "pygments_lexer": "ipython3",
   "version": "3.10.12"
  }
 },
 "nbformat": 4,
 "nbformat_minor": 2
}
