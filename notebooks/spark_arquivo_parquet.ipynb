{
 "cells": [
  {
   "cell_type": "code",
   "execution_count": 8,
   "metadata": {},
   "outputs": [],
   "source": [
    "from pyspark.sql import SparkSession\n",
    "import pyspark.sql.functions as F"
   ]
  },
  {
   "cell_type": "code",
   "execution_count": 9,
   "metadata": {},
   "outputs": [],
   "source": [
    "spark = SparkSession.builder.appName('new_gold').getOrCreate()"
   ]
  },
  {
   "cell_type": "code",
   "execution_count": 10,
   "metadata": {},
   "outputs": [
    {
     "name": "stderr",
     "output_type": "stream",
     "text": [
      "                                                                                \r"
     ]
    }
   ],
   "source": [
    "df_exploracao_voo = spark.read.options(\n",
    "    inferSchema=True, \n",
    "    header=True,\n",
    "    delimiter='|', \n",
    "    encoding='utf-8').csv('/home/rodrigo/Documentos/projetos/dados_voos/data/processed/exploracao_vooo_faixa_atraso_partida/completo/exploracao_voo_faixa_atraso_completo.csv')"
   ]
  },
  {
   "cell_type": "code",
   "execution_count": 11,
   "metadata": {},
   "outputs": [
    {
     "name": "stdout",
     "output_type": "stream",
     "text": [
      "+----------+---------------------+-----------------------+------------+---------------------+------------------------+------------------------------+-----------------+-----------------+----------------+--------------------------+--------------------------+-------------------+---------------------------+------------------------+--------------------+------+---------+\n",
      "|NUMERO_VOO|NOME_AEROPORTO_ORIGEM|CIDADE_AEROPORTO_ORIGEM|NOME_EMPRESA|NOME_MES_PARTIDA_REAL|MINUTOS_ATRASADO_PARTIDA|DIA_DA_SEMANA_PARTIDA_PREVISTA|TOTAL_OCORRENCIAS|CODIGO_TIPO_LINHA|MES_PARTIDA_REAL|INDICE_SEMANA_PARTIDA_REAL|FIM_DE_SEMANA_PARTIDA_REAL|UF_AEROPORTO_ORIGEM|SIGLA_ICAO_AEROPORTO_ORIGEM|SIGLA_ICAO_EMPRESA_AEREA|FAIXA_ATRASO_PARTIDA|ROW_ID|PARTICOES|\n",
      "+----------+---------------------+-----------------------+------------+---------------------+------------------------+------------------------------+-----------------+-----------------+----------------+--------------------------+--------------------------+-------------------+---------------------------+------------------------+--------------------+------+---------+\n",
      "|      1002|            CONGONHAS|              SÃO PAULO|         GOL|              janeiro|                   -10.0|                 Segunda-feira|                1|                N|               1|                         0|                     false|                 SP|                       SBSP|                     GLO|          No horário|     0|        0|\n",
      "|      1002|            CONGONHAS|              SÃO PAULO|         GOL|              janeiro|                    -9.0|                 Segunda-feira|                1|                N|               1|                         0|                     false|                 SP|                       SBSP|                     GLO|          No horário|     1|        0|\n",
      "|      1002|            CONGONHAS|              SÃO PAULO|         GOL|              janeiro|                    -8.0|                 Segunda-feira|                2|                N|               1|                         0|                     false|                 SP|                       SBSP|                     GLO|          No horário|     2|        0|\n",
      "|      1002|            CONGONHAS|              SÃO PAULO|         GOL|              janeiro|                     0.0|                 Segunda-feira|                1|                N|               1|                         0|                     false|                 SP|                       SBSP|                     GLO|          No horário|     3|        0|\n",
      "|      1003|        SANTOS DUMONT|         RIO DE JANEIRO|         GOL|              janeiro|                    -5.0|                 Segunda-feira|                2|                N|               1|                         0|                     false|                 RJ|                       SBRJ|                     GLO|          No horário|     4|        0|\n",
      "|      1003|        SANTOS DUMONT|         RIO DE JANEIRO|         GOL|              janeiro|                    -1.0|                 Segunda-feira|                1|                N|               1|                         0|                     false|                 RJ|                       SBRJ|                     GLO|          No horário|     5|        0|\n",
      "|      1003|        SANTOS DUMONT|         RIO DE JANEIRO|         GOL|              janeiro|                    18.0|                 Segunda-feira|                1|                N|               1|                         0|                     false|                 RJ|                       SBRJ|                     GLO|Atraso de até 1 hora|     6|        0|\n",
      "|      1003|        SANTOS DUMONT|         RIO DE JANEIRO|         GOL|              janeiro|                    71.0|                 Segunda-feira|                1|                N|               1|                         0|                     false|                 RJ|                       SBRJ|                     GLO|Atraso de mais de...|     7|        0|\n",
      "|      1004|            CONGONHAS|              SÃO PAULO|         GOL|              janeiro|                    -9.0|                 Segunda-feira|                1|                N|               1|                         0|                     false|                 SP|                       SBSP|                     GLO|          No horário|     8|        0|\n",
      "|      1004|            CONGONHAS|              SÃO PAULO|         GOL|              janeiro|                    -8.0|                 Segunda-feira|                1|                N|               1|                         0|                     false|                 SP|                       SBSP|                     GLO|          No horário|     9|        0|\n",
      "|      1004|            CONGONHAS|              SÃO PAULO|         GOL|              janeiro|                    14.0|                 Segunda-feira|                1|                N|               1|                         0|                     false|                 SP|                       SBSP|                     GLO|Atraso de até 30 ...|    10|        0|\n",
      "|      1004|            CONGONHAS|              SÃO PAULO|         GOL|              janeiro|                    15.0|                 Segunda-feira|                1|                N|               1|                         0|                     false|                 SP|                       SBSP|                     GLO|Atraso de até 30 ...|    11|        0|\n",
      "|      1004|            CONGONHAS|              SÃO PAULO|         GOL|              janeiro|                    24.0|                 Segunda-feira|                1|                N|               1|                         0|                     false|                 SP|                       SBSP|                     GLO|Atraso de até 1 hora|    12|        0|\n",
      "|      1005|        SANTOS DUMONT|         RIO DE JANEIRO|         GOL|              janeiro|                    -5.0|                 Segunda-feira|                1|                N|               1|                         0|                     false|                 RJ|                       SBRJ|                     GLO|          No horário|    13|        0|\n",
      "|      1005|        SANTOS DUMONT|         RIO DE JANEIRO|         GOL|              janeiro|                     2.0|                 Segunda-feira|                1|                N|               1|                         0|                     false|                 RJ|                       SBRJ|                     GLO|Atraso de até 30 ...|    14|        0|\n",
      "|      1005|        SANTOS DUMONT|         RIO DE JANEIRO|         GOL|              janeiro|                    79.0|                 Segunda-feira|                1|                N|               1|                         0|                     false|                 RJ|                       SBRJ|                     GLO|Atraso de mais de...|    15|        0|\n",
      "|      1009|        SANTOS DUMONT|         RIO DE JANEIRO|         GOL|              janeiro|                    -7.0|                 Segunda-feira|                1|                N|               1|                         0|                     false|                 RJ|                       SBRJ|                     GLO|          No horário|    16|        0|\n",
      "|      1009|        SANTOS DUMONT|         RIO DE JANEIRO|         GOL|              janeiro|                    -1.0|                 Segunda-feira|                2|                N|               1|                         0|                     false|                 RJ|                       SBRJ|                     GLO|          No horário|    17|        0|\n",
      "|      1009|        SANTOS DUMONT|         RIO DE JANEIRO|         GOL|              janeiro|                     7.0|                 Segunda-feira|                1|                N|               1|                         0|                     false|                 RJ|                       SBRJ|                     GLO|Atraso de até 30 ...|    18|        0|\n",
      "|      1009|        SANTOS DUMONT|         RIO DE JANEIRO|         GOL|              janeiro|                    13.0|                 Segunda-feira|                1|                N|               1|                         0|                     false|                 RJ|                       SBRJ|                     GLO|Atraso de até 30 ...|    19|        0|\n",
      "+----------+---------------------+-----------------------+------------+---------------------+------------------------+------------------------------+-----------------+-----------------+----------------+--------------------------+--------------------------+-------------------+---------------------------+------------------------+--------------------+------+---------+\n",
      "only showing top 20 rows\n",
      "\n"
     ]
    }
   ],
   "source": [
    "df_exploracao_voo.show()"
   ]
  },
  {
   "cell_type": "code",
   "execution_count": 12,
   "metadata": {},
   "outputs": [
    {
     "name": "stderr",
     "output_type": "stream",
     "text": [
      "                                                                                \r"
     ]
    },
    {
     "data": {
      "text/plain": [
       "648"
      ]
     },
     "execution_count": 12,
     "metadata": {},
     "output_type": "execute_result"
    }
   ],
   "source": [
    "particoes = [linha['PARTICOES'] for  linha in df_exploracao_voo.select('PARTICOES').distinct().collect()]\n",
    "len(particoes)"
   ]
  },
  {
   "cell_type": "code",
   "execution_count": 13,
   "metadata": {},
   "outputs": [
    {
     "name": "stderr",
     "output_type": "stream",
     "text": [
      "                                                                                \r"
     ]
    }
   ],
   "source": [
    "for particao in particoes:\n",
    "    df_temp =  df_exploracao_voo.filter(df_exploracao_voo.PARTICOES == particao).drop('ROW_ID', 'PARTICOES')\n",
    "    df_temp.write.parquet(f'../data/processed/arquivos_orc/exploracao_voo_atraso_partida/exploracao_voo_atraso_partida_{particao}.parquet')"
   ]
  },
  {
   "cell_type": "code",
   "execution_count": 14,
   "metadata": {},
   "outputs": [],
   "source": [
    "spark.stop()"
   ]
  }
 ],
 "metadata": {
  "kernelspec": {
   "display_name": "venv",
   "language": "python",
   "name": "python3"
  },
  "language_info": {
   "codemirror_mode": {
    "name": "ipython",
    "version": 3
   },
   "file_extension": ".py",
   "mimetype": "text/x-python",
   "name": "python",
   "nbconvert_exporter": "python",
   "pygments_lexer": "ipython3",
   "version": "3.10.12"
  }
 },
 "nbformat": 4,
 "nbformat_minor": 2
}
